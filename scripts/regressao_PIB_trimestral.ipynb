{
 "cells": [
  {
   "cell_type": "markdown",
   "id": "5ef1980a-1607-49a8-9006-fdf0d3d6d80e",
   "metadata": {},
   "source": [
    "# IMPORTS"
   ]
  },
  {
   "cell_type": "code",
   "execution_count": 73,
   "id": "24b2fbe4-04e5-4c82-8abb-70d9907bb94b",
   "metadata": {
    "execution": {
     "iopub.execute_input": "2024-09-11T21:06:50.258886Z",
     "iopub.status.busy": "2024-09-11T21:06:50.258263Z",
     "iopub.status.idle": "2024-09-11T21:06:50.266095Z",
     "shell.execute_reply": "2024-09-11T21:06:50.264756Z",
     "shell.execute_reply.started": "2024-09-11T21:06:50.258846Z"
    },
    "tags": []
   },
   "outputs": [],
   "source": [
    "import pandas as pd\n",
    "import numpy as np\n",
    "import os\n",
    "from decimal import Decimal\n",
    "import pickle\n",
    "from pathlib import Path\n",
    "\n",
    "from sklearn import linear_model\n",
    "import statsmodels.api as sm\n",
    "\n",
    "import copy\n",
    "\n",
    "import plotly.express as px\n",
    "import plotly.graph_objects as go"
   ]
  },
  {
   "cell_type": "markdown",
   "id": "95c951db-275a-4345-8a52-180762be4383",
   "metadata": {
    "execution": {
     "iopub.execute_input": "2024-08-20T19:55:44.418829Z",
     "iopub.status.busy": "2024-08-20T19:55:44.417516Z",
     "iopub.status.idle": "2024-08-20T19:55:44.424840Z",
     "shell.execute_reply": "2024-08-20T19:55:44.422826Z",
     "shell.execute_reply.started": "2024-08-20T19:55:44.418787Z"
    }
   },
   "source": [
    "# SETUP"
   ]
  },
  {
   "cell_type": "code",
   "execution_count": 2,
   "id": "063f912e-4ab5-4542-bc20-86c57d2f0bae",
   "metadata": {
    "execution": {
     "iopub.execute_input": "2024-09-11T20:43:42.503943Z",
     "iopub.status.busy": "2024-09-11T20:43:42.503456Z",
     "iopub.status.idle": "2024-09-11T20:43:42.510575Z",
     "shell.execute_reply": "2024-09-11T20:43:42.509657Z",
     "shell.execute_reply.started": "2024-09-11T20:43:42.503903Z"
    },
    "tags": []
   },
   "outputs": [],
   "source": [
    "dir_tree_util_path = os.path.join(\"utils\", \"dir_tree.py\")\n",
    "exec(open(dir_tree_util_path).read())"
   ]
  },
  {
   "cell_type": "markdown",
   "id": "1405ef31-8509-4565-9304-e6efd69c7eed",
   "metadata": {},
   "source": [
    "# INPUTS"
   ]
  },
  {
   "cell_type": "code",
   "execution_count": 3,
   "id": "3b43b23b-1a5c-4658-91ad-8863019ee433",
   "metadata": {
    "execution": {
     "iopub.execute_input": "2024-09-11T20:43:42.512367Z",
     "iopub.status.busy": "2024-09-11T20:43:42.512044Z",
     "iopub.status.idle": "2024-09-11T20:43:42.518014Z",
     "shell.execute_reply": "2024-09-11T20:43:42.516776Z",
     "shell.execute_reply.started": "2024-09-11T20:43:42.512332Z"
    },
    "tags": []
   },
   "outputs": [],
   "source": [
    "# Paths\n",
    "path_dados_trafego = PROJECT_DIRS[\"DADOS_TRAFEGO_AJUSTADOS_TRIMESTRAL_DIR\"]\n",
    "path_comercial = path_dados_trafego / 'df_VEQS_COMERCIAL_trimestral_saz_adjusted.parquet'\n",
    "path_passeio = path_dados_trafego / 'df_VEQS_PASSEIO_trimestral_saz_adjusted.parquet'\n",
    "\n",
    "path_dados_PIB = PROJECT_DIRS[\"DADOS_PIB_DIR\"]\n",
    "# path_output = TODO"
   ]
  },
  {
   "cell_type": "code",
   "execution_count": 4,
   "id": "b1677345-dc58-41c5-8955-68abf6a7b79e",
   "metadata": {
    "execution": {
     "iopub.execute_input": "2024-09-11T20:43:42.521464Z",
     "iopub.status.busy": "2024-09-11T20:43:42.520782Z",
     "iopub.status.idle": "2024-09-11T20:43:42.526175Z",
     "shell.execute_reply": "2024-09-11T20:43:42.525225Z",
     "shell.execute_reply.started": "2024-09-11T20:43:42.521429Z"
    },
    "tags": []
   },
   "outputs": [],
   "source": [
    "periodicidade = 'Q'\n",
    "periodos = [['2010Q2','2023Q4'], ['2016Q1','2023Q4']] # formato Y/M, inclusive"
   ]
  },
  {
   "cell_type": "code",
   "execution_count": 5,
   "id": "39acc033-4ede-4c9b-a50b-29723e60d658",
   "metadata": {
    "execution": {
     "iopub.execute_input": "2024-09-11T20:43:42.528137Z",
     "iopub.status.busy": "2024-09-11T20:43:42.527511Z",
     "iopub.status.idle": "2024-09-11T20:43:42.533244Z",
     "shell.execute_reply": "2024-09-11T20:43:42.532057Z",
     "shell.execute_reply.started": "2024-09-11T20:43:42.528093Z"
    },
    "tags": []
   },
   "outputs": [],
   "source": [
    "path_outputs = PROJECT_DIRS[\"DADOS_REGRESSAO_DIR\"]"
   ]
  },
  {
   "cell_type": "markdown",
   "id": "6cb48e4f-9dbe-4f57-8be8-0b95433e25da",
   "metadata": {},
   "source": [
    "# CARREGANDO OS DADOS p/MEMORIA"
   ]
  },
  {
   "cell_type": "code",
   "execution_count": 6,
   "id": "a877efdc-b76d-4e73-aa70-2a2c98818ef9",
   "metadata": {
    "execution": {
     "iopub.execute_input": "2024-09-11T20:43:42.535618Z",
     "iopub.status.busy": "2024-09-11T20:43:42.534900Z",
     "iopub.status.idle": "2024-09-11T20:43:42.685722Z",
     "shell.execute_reply": "2024-09-11T20:43:42.684773Z",
     "shell.execute_reply.started": "2024-09-11T20:43:42.535582Z"
    },
    "tags": []
   },
   "outputs": [],
   "source": [
    "df_veqs_comercial = pd.read_parquet(path_comercial)\n",
    "df_veqs_passeio = pd.read_parquet(path_passeio)\n",
    "\n",
    "\n",
    "dict_veqs_trafego = {'VEQS_COMERCIAL':df_veqs_comercial,\n",
    "           'VEQS_PASSEIO':df_veqs_passeio}"
   ]
  },
  {
   "cell_type": "code",
   "execution_count": 7,
   "id": "5705fa10-99db-4b73-bfb7-f77e01b1821a",
   "metadata": {
    "execution": {
     "iopub.execute_input": "2024-09-11T20:43:42.687514Z",
     "iopub.status.busy": "2024-09-11T20:43:42.687159Z",
     "iopub.status.idle": "2024-09-11T20:43:42.729332Z",
     "shell.execute_reply": "2024-09-11T20:43:42.728242Z",
     "shell.execute_reply.started": "2024-09-11T20:43:42.687476Z"
    },
    "tags": []
   },
   "outputs": [
    {
     "data": {
      "text/html": [
       "<div>\n",
       "<style scoped>\n",
       "    .dataframe tbody tr th:only-of-type {\n",
       "        vertical-align: middle;\n",
       "    }\n",
       "\n",
       "    .dataframe tbody tr th {\n",
       "        vertical-align: top;\n",
       "    }\n",
       "\n",
       "    .dataframe thead th {\n",
       "        text-align: right;\n",
       "    }\n",
       "</style>\n",
       "<table border=\"1\" class=\"dataframe\">\n",
       "  <thead>\n",
       "    <tr style=\"text-align: right;\">\n",
       "      <th></th>\n",
       "      <th>AUTOPISTA FERNÃO DIAS</th>\n",
       "      <th>AUTOPISTA FLUMINENSE</th>\n",
       "      <th>AUTOPISTA LITORAL SUL</th>\n",
       "      <th>AUTOPISTA PLANALTO SUL</th>\n",
       "      <th>AUTOPISTA REGIS BITTENCOURT</th>\n",
       "      <th>CONCEBRA</th>\n",
       "      <th>CONCEPA</th>\n",
       "      <th>CONCER</th>\n",
       "      <th>CRO</th>\n",
       "      <th>CRT</th>\n",
       "      <th>...</th>\n",
       "      <th>ECOPONTE</th>\n",
       "      <th>ECOSUL</th>\n",
       "      <th>ECOVIAS DO CERRADO</th>\n",
       "      <th>MSVIA</th>\n",
       "      <th>NOVADUTRA</th>\n",
       "      <th>RODOVIA DO AÇO</th>\n",
       "      <th>TRANSBRASILIANA</th>\n",
       "      <th>VIA 040</th>\n",
       "      <th>VIA BAHIA</th>\n",
       "      <th>VIA SUL</th>\n",
       "    </tr>\n",
       "    <tr>\n",
       "      <th>trimestre</th>\n",
       "      <th></th>\n",
       "      <th></th>\n",
       "      <th></th>\n",
       "      <th></th>\n",
       "      <th></th>\n",
       "      <th></th>\n",
       "      <th></th>\n",
       "      <th></th>\n",
       "      <th></th>\n",
       "      <th></th>\n",
       "      <th></th>\n",
       "      <th></th>\n",
       "      <th></th>\n",
       "      <th></th>\n",
       "      <th></th>\n",
       "      <th></th>\n",
       "      <th></th>\n",
       "      <th></th>\n",
       "      <th></th>\n",
       "      <th></th>\n",
       "      <th></th>\n",
       "    </tr>\n",
       "  </thead>\n",
       "  <tbody>\n",
       "    <tr>\n",
       "      <th>2023Q2</th>\n",
       "      <td>2.849596e+07</td>\n",
       "      <td>6.049600e+06</td>\n",
       "      <td>2.344030e+07</td>\n",
       "      <td>5.965381e+06</td>\n",
       "      <td>3.252595e+07</td>\n",
       "      <td>1.611815e+07</td>\n",
       "      <td>NaN</td>\n",
       "      <td>2.835717e+06</td>\n",
       "      <td>2.545885e+07</td>\n",
       "      <td>NaN</td>\n",
       "      <td>...</td>\n",
       "      <td>1.076378e+06</td>\n",
       "      <td>4.708813e+06</td>\n",
       "      <td>6.883026e+06</td>\n",
       "      <td>1.103609e+07</td>\n",
       "      <td>NaN</td>\n",
       "      <td>3.273804e+06</td>\n",
       "      <td>4.073577e+06</td>\n",
       "      <td>1.470192e+07</td>\n",
       "      <td>1.661487e+07</td>\n",
       "      <td>1.342538e+07</td>\n",
       "    </tr>\n",
       "    <tr>\n",
       "      <th>2023Q3</th>\n",
       "      <td>2.886496e+07</td>\n",
       "      <td>6.063527e+06</td>\n",
       "      <td>2.443476e+07</td>\n",
       "      <td>5.706543e+06</td>\n",
       "      <td>3.275433e+07</td>\n",
       "      <td>1.658815e+07</td>\n",
       "      <td>NaN</td>\n",
       "      <td>2.843669e+06</td>\n",
       "      <td>2.586970e+07</td>\n",
       "      <td>NaN</td>\n",
       "      <td>...</td>\n",
       "      <td>1.085367e+06</td>\n",
       "      <td>5.186370e+06</td>\n",
       "      <td>7.452304e+06</td>\n",
       "      <td>1.150635e+07</td>\n",
       "      <td>NaN</td>\n",
       "      <td>3.257353e+06</td>\n",
       "      <td>4.182333e+06</td>\n",
       "      <td>1.459565e+07</td>\n",
       "      <td>1.626668e+07</td>\n",
       "      <td>1.370223e+07</td>\n",
       "    </tr>\n",
       "    <tr>\n",
       "      <th>2023Q4</th>\n",
       "      <td>2.975438e+07</td>\n",
       "      <td>6.317419e+06</td>\n",
       "      <td>2.461045e+07</td>\n",
       "      <td>6.340225e+06</td>\n",
       "      <td>3.312828e+07</td>\n",
       "      <td>1.639307e+07</td>\n",
       "      <td>NaN</td>\n",
       "      <td>2.915308e+06</td>\n",
       "      <td>2.672731e+07</td>\n",
       "      <td>NaN</td>\n",
       "      <td>...</td>\n",
       "      <td>1.092828e+06</td>\n",
       "      <td>5.536026e+06</td>\n",
       "      <td>7.661127e+06</td>\n",
       "      <td>1.212538e+07</td>\n",
       "      <td>NaN</td>\n",
       "      <td>3.196716e+06</td>\n",
       "      <td>4.022169e+06</td>\n",
       "      <td>1.492082e+07</td>\n",
       "      <td>1.508796e+07</td>\n",
       "      <td>1.391393e+07</td>\n",
       "    </tr>\n",
       "    <tr>\n",
       "      <th>2024Q1</th>\n",
       "      <td>NaN</td>\n",
       "      <td>4.963453e+06</td>\n",
       "      <td>2.203759e+07</td>\n",
       "      <td>6.495440e+06</td>\n",
       "      <td>NaN</td>\n",
       "      <td>1.668140e+07</td>\n",
       "      <td>NaN</td>\n",
       "      <td>2.685246e+06</td>\n",
       "      <td>2.078548e+07</td>\n",
       "      <td>NaN</td>\n",
       "      <td>...</td>\n",
       "      <td>9.631779e+05</td>\n",
       "      <td>4.908351e+06</td>\n",
       "      <td>6.657111e+06</td>\n",
       "      <td>1.135945e+07</td>\n",
       "      <td>NaN</td>\n",
       "      <td>3.060220e+06</td>\n",
       "      <td>1.350965e+06</td>\n",
       "      <td>1.287811e+07</td>\n",
       "      <td>1.640466e+07</td>\n",
       "      <td>7.693904e+06</td>\n",
       "    </tr>\n",
       "    <tr>\n",
       "      <th>2024Q2</th>\n",
       "      <td>NaN</td>\n",
       "      <td>NaN</td>\n",
       "      <td>NaN</td>\n",
       "      <td>NaN</td>\n",
       "      <td>NaN</td>\n",
       "      <td>NaN</td>\n",
       "      <td>NaN</td>\n",
       "      <td>NaN</td>\n",
       "      <td>NaN</td>\n",
       "      <td>NaN</td>\n",
       "      <td>...</td>\n",
       "      <td>NaN</td>\n",
       "      <td>NaN</td>\n",
       "      <td>NaN</td>\n",
       "      <td>NaN</td>\n",
       "      <td>NaN</td>\n",
       "      <td>NaN</td>\n",
       "      <td>NaN</td>\n",
       "      <td>NaN</td>\n",
       "      <td>NaN</td>\n",
       "      <td>NaN</td>\n",
       "    </tr>\n",
       "  </tbody>\n",
       "</table>\n",
       "<p>5 rows × 22 columns</p>\n",
       "</div>"
      ],
      "text/plain": [
       "           AUTOPISTA FERNÃO DIAS  AUTOPISTA FLUMINENSE  AUTOPISTA LITORAL SUL  \\\n",
       "trimestre                                                                       \n",
       "2023Q2              2.849596e+07          6.049600e+06           2.344030e+07   \n",
       "2023Q3              2.886496e+07          6.063527e+06           2.443476e+07   \n",
       "2023Q4              2.975438e+07          6.317419e+06           2.461045e+07   \n",
       "2024Q1                       NaN          4.963453e+06           2.203759e+07   \n",
       "2024Q2                       NaN                   NaN                    NaN   \n",
       "\n",
       "           AUTOPISTA PLANALTO SUL  AUTOPISTA REGIS BITTENCOURT      CONCEBRA  \\\n",
       "trimestre                                                                      \n",
       "2023Q2               5.965381e+06                 3.252595e+07  1.611815e+07   \n",
       "2023Q3               5.706543e+06                 3.275433e+07  1.658815e+07   \n",
       "2023Q4               6.340225e+06                 3.312828e+07  1.639307e+07   \n",
       "2024Q1               6.495440e+06                          NaN  1.668140e+07   \n",
       "2024Q2                        NaN                          NaN           NaN   \n",
       "\n",
       "           CONCEPA        CONCER           CRO  CRT  ...      ECOPONTE  \\\n",
       "trimestre                                            ...                 \n",
       "2023Q2         NaN  2.835717e+06  2.545885e+07  NaN  ...  1.076378e+06   \n",
       "2023Q3         NaN  2.843669e+06  2.586970e+07  NaN  ...  1.085367e+06   \n",
       "2023Q4         NaN  2.915308e+06  2.672731e+07  NaN  ...  1.092828e+06   \n",
       "2024Q1         NaN  2.685246e+06  2.078548e+07  NaN  ...  9.631779e+05   \n",
       "2024Q2         NaN           NaN           NaN  NaN  ...           NaN   \n",
       "\n",
       "                 ECOSUL  ECOVIAS DO CERRADO         MSVIA  NOVADUTRA  \\\n",
       "trimestre                                                              \n",
       "2023Q2     4.708813e+06        6.883026e+06  1.103609e+07        NaN   \n",
       "2023Q3     5.186370e+06        7.452304e+06  1.150635e+07        NaN   \n",
       "2023Q4     5.536026e+06        7.661127e+06  1.212538e+07        NaN   \n",
       "2024Q1     4.908351e+06        6.657111e+06  1.135945e+07        NaN   \n",
       "2024Q2              NaN                 NaN           NaN        NaN   \n",
       "\n",
       "           RODOVIA DO AÇO  TRANSBRASILIANA       VIA 040     VIA BAHIA  \\\n",
       "trimestre                                                                \n",
       "2023Q2       3.273804e+06     4.073577e+06  1.470192e+07  1.661487e+07   \n",
       "2023Q3       3.257353e+06     4.182333e+06  1.459565e+07  1.626668e+07   \n",
       "2023Q4       3.196716e+06     4.022169e+06  1.492082e+07  1.508796e+07   \n",
       "2024Q1       3.060220e+06     1.350965e+06  1.287811e+07  1.640466e+07   \n",
       "2024Q2                NaN              NaN           NaN           NaN   \n",
       "\n",
       "                VIA SUL  \n",
       "trimestre                \n",
       "2023Q2     1.342538e+07  \n",
       "2023Q3     1.370223e+07  \n",
       "2023Q4     1.391393e+07  \n",
       "2024Q1     7.693904e+06  \n",
       "2024Q2              NaN  \n",
       "\n",
       "[5 rows x 22 columns]"
      ]
     },
     "execution_count": 7,
     "metadata": {},
     "output_type": "execute_result"
    }
   ],
   "source": [
    "dict_veqs_trafego['VEQS_COMERCIAL'].tail()"
   ]
  },
  {
   "cell_type": "code",
   "execution_count": 8,
   "id": "9f3e2992-3b18-451e-91a7-615b3e88231c",
   "metadata": {
    "execution": {
     "iopub.execute_input": "2024-09-11T20:43:42.731429Z",
     "iopub.status.busy": "2024-09-11T20:43:42.730826Z",
     "iopub.status.idle": "2024-09-11T20:43:42.742663Z",
     "shell.execute_reply": "2024-09-11T20:43:42.741463Z",
     "shell.execute_reply.started": "2024-09-11T20:43:42.731391Z"
    },
    "tags": []
   },
   "outputs": [],
   "source": [
    "# Dados de PIB\n",
    "df_pib_raw = pd.read_parquet(path_dados_PIB / 'PIB-Ipea-trimestral.parquet')"
   ]
  },
  {
   "cell_type": "markdown",
   "id": "09c52cac-60d1-4825-9037-41e03ce7703d",
   "metadata": {},
   "source": [
    "# Tratando os dados"
   ]
  },
  {
   "cell_type": "markdown",
   "id": "1f1125ac-4047-46a6-b0f2-ded47d8658ba",
   "metadata": {},
   "source": [
    "## Funções"
   ]
  },
  {
   "cell_type": "code",
   "execution_count": 9,
   "id": "4fbb7432-db06-404c-934d-c474a9872ac3",
   "metadata": {
    "execution": {
     "iopub.execute_input": "2024-09-11T20:43:42.745287Z",
     "iopub.status.busy": "2024-09-11T20:43:42.744609Z",
     "iopub.status.idle": "2024-09-11T20:43:42.753045Z",
     "shell.execute_reply": "2024-09-11T20:43:42.751875Z",
     "shell.execute_reply.started": "2024-09-11T20:43:42.745249Z"
    },
    "tags": []
   },
   "outputs": [],
   "source": [
    "def remove_outliers(df_raw, col_dados, thresh=2.0):\n",
    "    df = pd.DataFrame(index=df_raw.index)\n",
    "    df['Dados_brutos'] = df_raw.dropna()\n",
    "    df['mean'] = df['Dados_brutos'].mean()\n",
    "    df['std'] = df['Dados_brutos'].std()\n",
    "    df['dist_std_mean'] = (df['Dados_brutos'] - df['mean']) / df['std']\n",
    "    \n",
    "    # condition = abs(abs(df['dist_std_mean']) - thresh) > 1e-8\n",
    "    condition = (abs(df['dist_std_mean']) - thresh) < 1e-8\n",
    "    df = df.loc[condition]\n",
    "    \n",
    "    df[col_dados] = df['Dados_brutos']\n",
    "    \n",
    "    return df[col_dados]"
   ]
  },
  {
   "cell_type": "markdown",
   "id": "b945c745-3f6d-4ec5-ba5c-4e87a2911ca6",
   "metadata": {},
   "source": [
    "## PIB"
   ]
  },
  {
   "cell_type": "code",
   "execution_count": 10,
   "id": "8a14bb76-0f22-4c73-96cc-9f60cbbf9d0e",
   "metadata": {
    "execution": {
     "iopub.execute_input": "2024-09-11T20:43:42.758071Z",
     "iopub.status.busy": "2024-09-11T20:43:42.757484Z",
     "iopub.status.idle": "2024-09-11T20:43:42.763718Z",
     "shell.execute_reply": "2024-09-11T20:43:42.762728Z",
     "shell.execute_reply.started": "2024-09-11T20:43:42.758033Z"
    },
    "tags": []
   },
   "outputs": [],
   "source": [
    "df_pib = df_pib_raw.copy()"
   ]
  },
  {
   "cell_type": "code",
   "execution_count": 11,
   "id": "54afa3b1-e6d8-448e-98a5-5ae6cd9b1f67",
   "metadata": {
    "execution": {
     "iopub.execute_input": "2024-09-11T20:43:42.765464Z",
     "iopub.status.busy": "2024-09-11T20:43:42.764927Z",
     "iopub.status.idle": "2024-09-11T20:43:42.772352Z",
     "shell.execute_reply": "2024-09-11T20:43:42.771260Z",
     "shell.execute_reply.started": "2024-09-11T20:43:42.765429Z"
    },
    "tags": []
   },
   "outputs": [],
   "source": [
    "# filtrando PIB para o periodo\n",
    "df_pib = df_pib.loc[periodos[0][0] : periodos[0][1]]"
   ]
  },
  {
   "cell_type": "code",
   "execution_count": 12,
   "id": "8375d7d8-645c-48bd-a64a-a6a453e428dc",
   "metadata": {
    "execution": {
     "iopub.execute_input": "2024-09-11T20:43:42.774151Z",
     "iopub.status.busy": "2024-09-11T20:43:42.773815Z",
     "iopub.status.idle": "2024-09-11T20:43:42.781822Z",
     "shell.execute_reply": "2024-09-11T20:43:42.780620Z",
     "shell.execute_reply.started": "2024-09-11T20:43:42.774118Z"
    },
    "tags": []
   },
   "outputs": [
    {
     "data": {
      "text/plain": [
       "55"
      ]
     },
     "execution_count": 12,
     "metadata": {},
     "output_type": "execute_result"
    }
   ],
   "source": [
    "len(df_pib)"
   ]
  },
  {
   "cell_type": "code",
   "execution_count": 13,
   "id": "23c825d8-7418-4648-b140-d1a043ff881e",
   "metadata": {
    "execution": {
     "iopub.execute_input": "2024-09-11T20:43:42.784129Z",
     "iopub.status.busy": "2024-09-11T20:43:42.783628Z",
     "iopub.status.idle": "2024-09-11T20:43:42.797273Z",
     "shell.execute_reply": "2024-09-11T20:43:42.795938Z",
     "shell.execute_reply.started": "2024-09-11T20:43:42.784093Z"
    },
    "tags": []
   },
   "outputs": [],
   "source": [
    "# Removendo outliers do PIB\n",
    "df_pib = remove_outliers(df_pib, 'PIB_real_pct', thresh=2.0)"
   ]
  },
  {
   "cell_type": "code",
   "execution_count": 14,
   "id": "9c8c6a23-48a0-49e9-b8df-0b481dd55877",
   "metadata": {
    "execution": {
     "iopub.execute_input": "2024-09-11T20:43:42.799295Z",
     "iopub.status.busy": "2024-09-11T20:43:42.798961Z",
     "iopub.status.idle": "2024-09-11T20:43:42.807478Z",
     "shell.execute_reply": "2024-09-11T20:43:42.806201Z",
     "shell.execute_reply.started": "2024-09-11T20:43:42.799259Z"
    },
    "tags": []
   },
   "outputs": [
    {
     "data": {
      "text/plain": [
       "53"
      ]
     },
     "execution_count": 14,
     "metadata": {},
     "output_type": "execute_result"
    }
   ],
   "source": [
    "len(df_pib)"
   ]
  },
  {
   "cell_type": "markdown",
   "id": "7c359970-68d2-49f0-af6e-616b3311ff8c",
   "metadata": {},
   "source": [
    "## Trafego"
   ]
  },
  {
   "cell_type": "code",
   "execution_count": 15,
   "id": "33346aff-5eb2-4938-98cf-04a787f223cc",
   "metadata": {
    "execution": {
     "iopub.execute_input": "2024-09-11T20:43:42.810074Z",
     "iopub.status.busy": "2024-09-11T20:43:42.809493Z",
     "iopub.status.idle": "2024-09-11T20:43:42.815066Z",
     "shell.execute_reply": "2024-09-11T20:43:42.813927Z",
     "shell.execute_reply.started": "2024-09-11T20:43:42.809807Z"
    },
    "tags": []
   },
   "outputs": [],
   "source": [
    "dict_veqs = copy.deepcopy(dict_veqs_trafego)"
   ]
  },
  {
   "cell_type": "code",
   "execution_count": 16,
   "id": "7d6e3789-fd15-41f6-a125-f30fb45bd922",
   "metadata": {
    "execution": {
     "iopub.execute_input": "2024-09-11T20:43:42.817177Z",
     "iopub.status.busy": "2024-09-11T20:43:42.816799Z",
     "iopub.status.idle": "2024-09-11T20:43:42.844321Z",
     "shell.execute_reply": "2024-09-11T20:43:42.842441Z",
     "shell.execute_reply.started": "2024-09-11T20:43:42.817142Z"
    },
    "tags": []
   },
   "outputs": [],
   "source": [
    "# trocando zeros para NaN\n",
    "for veq, df in dict_veqs.items():\n",
    "    for col in df:\n",
    "        df[col] = df[col].apply(lambda x: x if (abs(x) > 1e-8) else None)"
   ]
  },
  {
   "cell_type": "code",
   "execution_count": 17,
   "id": "07c63781-2079-4972-bf53-e9243092719e",
   "metadata": {
    "execution": {
     "iopub.execute_input": "2024-09-11T20:43:42.846567Z",
     "iopub.status.busy": "2024-09-11T20:43:42.846140Z",
     "iopub.status.idle": "2024-09-11T20:43:42.937440Z",
     "shell.execute_reply": "2024-09-11T20:43:42.936225Z",
     "shell.execute_reply.started": "2024-09-11T20:43:42.846529Z"
    },
    "tags": []
   },
   "outputs": [],
   "source": [
    "# Convertendo os dados para variação relativa em pct (=PIB)\n",
    "for veq, df in dict_veqs.items():\n",
    "    for col in df:\n",
    "        df[col] = df[col].dropna().pct_change().replace([np.inf, -np.inf], None) * 100"
   ]
  },
  {
   "cell_type": "code",
   "execution_count": 18,
   "id": "e9d50e27-670a-44ba-8b8a-389b064dc290",
   "metadata": {
    "execution": {
     "iopub.execute_input": "2024-09-11T20:43:42.939522Z",
     "iopub.status.busy": "2024-09-11T20:43:42.939048Z",
     "iopub.status.idle": "2024-09-11T20:43:43.193693Z",
     "shell.execute_reply": "2024-09-11T20:43:43.192334Z",
     "shell.execute_reply.started": "2024-09-11T20:43:42.939485Z"
    },
    "tags": []
   },
   "outputs": [
    {
     "name": "stdout",
     "output_type": "stream",
     "text": [
      "-5 VEQS_COMERCIAL AUTOPISTA FERNÃO DIAS\n",
      "-2 VEQS_COMERCIAL AUTOPISTA FLUMINENSE\n",
      "-4 VEQS_COMERCIAL AUTOPISTA LITORAL SUL\n",
      "-3 VEQS_COMERCIAL AUTOPISTA PLANALTO SUL\n",
      "-2 VEQS_COMERCIAL AUTOPISTA REGIS BITTENCOURT\n",
      "-1 VEQS_COMERCIAL CONCEBRA\n",
      "-1 VEQS_COMERCIAL CONCEPA\n",
      "-3 VEQS_COMERCIAL CONCER\n",
      "-3 VEQS_COMERCIAL CRO\n",
      "-2 VEQS_COMERCIAL CRT\n",
      "-3 VEQS_COMERCIAL ECO050\n",
      "-2 VEQS_COMERCIAL ECO101 CONCESSIONARIA DE RODOVIAS S/A\n",
      "-2 VEQS_COMERCIAL ECOPONTE\n",
      "-4 VEQS_COMERCIAL ECOSUL\n",
      "0 VEQS_COMERCIAL ECOVIAS DO CERRADO\n",
      "-1 VEQS_COMERCIAL MSVIA\n",
      "-3 VEQS_COMERCIAL NOVADUTRA\n",
      "-4 VEQS_COMERCIAL RODOVIA DO AÇO\n",
      "-1 VEQS_COMERCIAL TRANSBRASILIANA\n",
      "-3 VEQS_COMERCIAL VIA 040\n",
      "-2 VEQS_COMERCIAL VIA BAHIA\n",
      "-1 VEQS_COMERCIAL VIA SUL\n",
      "-3 VEQS_PASSEIO AUTOPISTA FERNÃO DIAS\n",
      "-3 VEQS_PASSEIO AUTOPISTA FLUMINENSE\n",
      "-5 VEQS_PASSEIO AUTOPISTA LITORAL SUL\n",
      "-3 VEQS_PASSEIO AUTOPISTA PLANALTO SUL\n",
      "-4 VEQS_PASSEIO AUTOPISTA REGIS BITTENCOURT\n",
      "-3 VEQS_PASSEIO CONCEBRA\n",
      "-2 VEQS_PASSEIO CONCEPA\n",
      "-2 VEQS_PASSEIO CONCER\n",
      "-3 VEQS_PASSEIO CRO\n",
      "-3 VEQS_PASSEIO CRT\n",
      "-3 VEQS_PASSEIO ECO050\n",
      "-4 VEQS_PASSEIO ECO101 CONCESSIONARIA DE RODOVIAS S/A\n",
      "-2 VEQS_PASSEIO ECOPONTE\n",
      "-3 VEQS_PASSEIO ECOSUL\n",
      "-1 VEQS_PASSEIO ECOVIAS DO CERRADO\n",
      "-2 VEQS_PASSEIO MSVIA\n",
      "-3 VEQS_PASSEIO NOVADUTRA\n",
      "-2 VEQS_PASSEIO RODOVIA DO AÇO\n",
      "-3 VEQS_PASSEIO TRANSBRASILIANA\n",
      "-4 VEQS_PASSEIO VIA 040\n",
      "-2 VEQS_PASSEIO VIA BAHIA\n",
      "-1 VEQS_PASSEIO VIA SUL\n"
     ]
    }
   ],
   "source": [
    "# retirando outliers\n",
    "for veq, df in dict_veqs.items():\n",
    "    for col in df:\n",
    "        len1 = len(df[col].dropna())\n",
    "        df[col] = remove_outliers(df[col], col, thresh=2.0)\n",
    "        len2 = len(df[col].dropna())\n",
    "        print(len2-len1, veq, col) \n",
    "        # OBS: outliers ficam como NaN"
   ]
  },
  {
   "cell_type": "markdown",
   "id": "04368a94-404d-40df-b660-6db5acc11226",
   "metadata": {},
   "source": [
    "# FUNCÕES"
   ]
  },
  {
   "cell_type": "code",
   "execution_count": 19,
   "id": "ea7c2321-48e0-47aa-bfe4-40d72d641685",
   "metadata": {
    "execution": {
     "iopub.execute_input": "2024-09-11T20:43:43.195516Z",
     "iopub.status.busy": "2024-09-11T20:43:43.195025Z",
     "iopub.status.idle": "2024-09-11T20:43:43.205397Z",
     "shell.execute_reply": "2024-09-11T20:43:43.204218Z",
     "shell.execute_reply.started": "2024-09-11T20:43:43.195478Z"
    },
    "tags": []
   },
   "outputs": [],
   "source": [
    "def make_base_train(df_y, df_X, periodo:list, drop_inverted, drop_X_negatives):  \n",
    "    \n",
    "    if drop_X_negatives:\n",
    "        df_X = df_X.loc[df_X > 1e-8]\n",
    "    \n",
    "    df_train = pd.merge(df_y, df_X, how='inner', left_index=True, right_index=True)\n",
    "    df_train = df_train.dropna(how='any')\n",
    "    df_train = df_train.loc[periodo[0]:periodo[1]]  \n",
    "    \n",
    "    # print(df_train.index[0])\n",
    "    # print(pd.to_datetime(periodo[0]).to_period('Q'))\n",
    "    # print(df_train.index[0] > pd.to_datetime(periodo[0]).to_period('Q'))\n",
    "    \n",
    "    if df_train.index[0] > pd.to_datetime(periodo[0]).to_period('Q'):\n",
    "        return None\n",
    "    \n",
    "    if drop_inverted:\n",
    "        df_train['rows_drop'] = df_train.iloc[:,0] * df_train.iloc[:,1]\n",
    "        df_train = df_train.loc[df_train['rows_drop'] > 0]\n",
    "        df_train = df_train.drop(columns=['rows_drop'])\n",
    "    \n",
    "    return df_train"
   ]
  },
  {
   "cell_type": "code",
   "execution_count": 20,
   "id": "6104dccf-5c35-47fc-9a39-e9314db9a6d6",
   "metadata": {
    "execution": {
     "iopub.execute_input": "2024-09-11T20:43:43.207113Z",
     "iopub.status.busy": "2024-09-11T20:43:43.206776Z",
     "iopub.status.idle": "2024-09-11T20:43:43.213739Z",
     "shell.execute_reply": "2024-09-11T20:43:43.212418Z",
     "shell.execute_reply.started": "2024-09-11T20:43:43.207078Z"
    },
    "tags": []
   },
   "outputs": [],
   "source": [
    "def regressao(df_train, conc, col_X, fit_intercept):\n",
    "    y_train = df_train[conc]\n",
    "    X_train = df_train[col_X]\n",
    "    if fit_intercept:\n",
    "        X_train = sm.add_constant(X_train)\n",
    "    model = sm.OLS(y_train, X_train).fit()\n",
    "    return model"
   ]
  },
  {
   "cell_type": "code",
   "execution_count": 21,
   "id": "1e44b819-f3d9-4526-9a2e-cc18e68b547a",
   "metadata": {
    "execution": {
     "iopub.execute_input": "2024-09-11T20:43:43.215577Z",
     "iopub.status.busy": "2024-09-11T20:43:43.215235Z",
     "iopub.status.idle": "2024-09-11T20:43:43.220554Z",
     "shell.execute_reply": "2024-09-11T20:43:43.219624Z",
     "shell.execute_reply.started": "2024-09-11T20:43:43.215541Z"
    },
    "tags": []
   },
   "outputs": [],
   "source": [
    "# def regressao(y_train, X_train, fit_intercept=False):\n",
    "#     if fit_intercept:\n",
    "#         X_train = sm.add_constant(X_train)\n",
    "#     model = sm.OLS(y_train, X_train).fit()\n",
    "#     return model"
   ]
  },
  {
   "cell_type": "code",
   "execution_count": 22,
   "id": "8ad4d042-3250-47e6-bbf9-80d48ce90fef",
   "metadata": {
    "execution": {
     "iopub.execute_input": "2024-09-11T20:43:43.222633Z",
     "iopub.status.busy": "2024-09-11T20:43:43.221949Z",
     "iopub.status.idle": "2024-09-11T20:43:43.230405Z",
     "shell.execute_reply": "2024-09-11T20:43:43.229421Z",
     "shell.execute_reply.started": "2024-09-11T20:43:43.222597Z"
    },
    "tags": []
   },
   "outputs": [],
   "source": [
    "def regression_results(df_train, conc, col_X, fit_intercept):\n",
    "    model = regressao(df_train, conc, col_X, fit_intercept=fit_intercept)\n",
    "    \n",
    "    df_results = pd.DataFrame()\n",
    "    \n",
    "    df_results.loc[conc, 'coeficiente'] = model.params.iloc[0]\n",
    "    df_results.loc[conc, 'R2'] = model.rsquared\n",
    "    df_results.loc[conc, 'p-valor_pct'] = model.pvalues.iloc[0]\n",
    "    df_results.loc[conc, 'n'] = len(df_train)\n",
    "    df_results.loc[conc, 'periodo_inicial'] = df_train.index[0]\n",
    "    df_results.loc[conc, 'periodo_final'] = df_train.index[-1]\n",
    "\n",
    "    return df_results"
   ]
  },
  {
   "cell_type": "markdown",
   "id": "638a08ca-0f46-4c4a-8989-b57732ecaacb",
   "metadata": {
    "tags": []
   },
   "source": [
    "# REGRESSÃO"
   ]
  },
  {
   "cell_type": "code",
   "execution_count": 23,
   "id": "ea671ad1-798f-4f10-8bb6-d7f71ab7fcd5",
   "metadata": {
    "execution": {
     "iopub.execute_input": "2024-09-11T20:43:43.232657Z",
     "iopub.status.busy": "2024-09-11T20:43:43.231799Z",
     "iopub.status.idle": "2024-09-11T20:43:43.236960Z",
     "shell.execute_reply": "2024-09-11T20:43:43.235910Z",
     "shell.execute_reply.started": "2024-09-11T20:43:43.232621Z"
    },
    "tags": []
   },
   "outputs": [],
   "source": [
    "# sbx = make_base_train(dict_veqs['VEQS_COMERCIAL']['AUTOPISTA FERNÃO DIAS'], df_pib, periodos[0], drop_inverted=True)\n",
    "# sbx"
   ]
  },
  {
   "cell_type": "code",
   "execution_count": 24,
   "id": "7b262c5e-7612-48d8-bae4-3a6e62955d39",
   "metadata": {
    "execution": {
     "iopub.execute_input": "2024-09-11T20:43:43.238665Z",
     "iopub.status.busy": "2024-09-11T20:43:43.238237Z",
     "iopub.status.idle": "2024-09-11T20:43:43.243795Z",
     "shell.execute_reply": "2024-09-11T20:43:43.242747Z",
     "shell.execute_reply.started": "2024-09-11T20:43:43.238630Z"
    },
    "tags": []
   },
   "outputs": [],
   "source": [
    "# sbx_regr = regressao(sbx['AUTOPISTA FERNÃO DIAS'], sbx['PIB_real_pct'])"
   ]
  },
  {
   "cell_type": "code",
   "execution_count": 25,
   "id": "c61f1177-6583-4f35-93b7-d59555828fc7",
   "metadata": {
    "execution": {
     "iopub.execute_input": "2024-09-11T20:43:43.245999Z",
     "iopub.status.busy": "2024-09-11T20:43:43.245576Z",
     "iopub.status.idle": "2024-09-11T20:43:43.252100Z",
     "shell.execute_reply": "2024-09-11T20:43:43.250993Z",
     "shell.execute_reply.started": "2024-09-11T20:43:43.245948Z"
    },
    "tags": []
   },
   "outputs": [],
   "source": [
    "# sbx_regr.df_resid"
   ]
  },
  {
   "cell_type": "code",
   "execution_count": 26,
   "id": "bd8902d0-8e98-4860-a3e2-17e6d0a18cdc",
   "metadata": {
    "execution": {
     "iopub.execute_input": "2024-09-11T20:43:43.255796Z",
     "iopub.status.busy": "2024-09-11T20:43:43.253951Z",
     "iopub.status.idle": "2024-09-11T20:43:43.259625Z",
     "shell.execute_reply": "2024-09-11T20:43:43.258727Z",
     "shell.execute_reply.started": "2024-09-11T20:43:43.255759Z"
    },
    "tags": []
   },
   "outputs": [],
   "source": [
    "# sbx = make_base_train(dict_veqs['VEQS_COMERCIAL']['CRO'], df_pib, periodos[1], drop_inverted=True)\n",
    "# sbx"
   ]
  },
  {
   "cell_type": "markdown",
   "id": "b65f918d-dfde-4211-8f5b-2a0c11a0dd9f",
   "metadata": {},
   "source": [
    "## Funções"
   ]
  },
  {
   "cell_type": "code",
   "execution_count": 27,
   "id": "d7500cf1-7828-45f5-9ef2-e4c371faba93",
   "metadata": {
    "execution": {
     "iopub.execute_input": "2024-09-11T20:43:43.262051Z",
     "iopub.status.busy": "2024-09-11T20:43:43.261720Z",
     "iopub.status.idle": "2024-09-11T20:43:43.270458Z",
     "shell.execute_reply": "2024-09-11T20:43:43.269394Z",
     "shell.execute_reply.started": "2024-09-11T20:43:43.262017Z"
    },
    "tags": []
   },
   "outputs": [],
   "source": [
    "def make_regressions(dict_veqs, df_pib, periodo, drop_inverted, drop_X_negatives, fit_intercept):\n",
    "    dict_results = {veq:None for veq in dict_veqs}\n",
    "    for veq, df in dict_veqs.items():\n",
    "        df_results = pd.DataFrame()\n",
    "        for conc in df:\n",
    "            df_train = make_base_train(dict_veqs[veq][conc], df_pib, periodo, drop_inverted=drop_inverted, drop_X_negatives=drop_X_negatives)\n",
    "            if df_train is not None:\n",
    "                # print(f'{conc}_{veq}: há dados')\n",
    "                df_conc_results = regression_results(df_train, conc, df_pib.name, fit_intercept=fit_intercept)\n",
    "                # new_index = [df_conc_results.index[0] + f'_{veq}']\n",
    "                # df_conc_results.index = new_index\n",
    "                df_results = pd.concat([df_results, df_conc_results])\n",
    "            else:\n",
    "                ...\n",
    "        dict_results[veq] = df_results\n",
    "                # print(f'{conc}_{veq}: não há dados para o período')\n",
    "    return dict_results"
   ]
  },
  {
   "cell_type": "markdown",
   "id": "f10c6af2-1536-4d21-aa3e-8fc70a3b0493",
   "metadata": {},
   "source": [
    "## Periodo 1"
   ]
  },
  {
   "cell_type": "code",
   "execution_count": 28,
   "id": "26be938b-2197-4a02-a16c-a16fa5f64c57",
   "metadata": {
    "execution": {
     "iopub.execute_input": "2024-09-11T20:43:43.277816Z",
     "iopub.status.busy": "2024-09-11T20:43:43.277459Z",
     "iopub.status.idle": "2024-09-11T20:43:43.638030Z",
     "shell.execute_reply": "2024-09-11T20:43:43.636958Z",
     "shell.execute_reply.started": "2024-09-11T20:43:43.277782Z"
    },
    "tags": []
   },
   "outputs": [
    {
     "data": {
      "text/html": [
       "<div>\n",
       "<style scoped>\n",
       "    .dataframe tbody tr th:only-of-type {\n",
       "        vertical-align: middle;\n",
       "    }\n",
       "\n",
       "    .dataframe tbody tr th {\n",
       "        vertical-align: top;\n",
       "    }\n",
       "\n",
       "    .dataframe thead th {\n",
       "        text-align: right;\n",
       "    }\n",
       "</style>\n",
       "<table border=\"1\" class=\"dataframe\">\n",
       "  <thead>\n",
       "    <tr style=\"text-align: right;\">\n",
       "      <th></th>\n",
       "      <th>coeficiente</th>\n",
       "      <th>R2</th>\n",
       "      <th>p-valor_pct</th>\n",
       "      <th>n</th>\n",
       "      <th>periodo_inicial</th>\n",
       "      <th>periodo_final</th>\n",
       "    </tr>\n",
       "  </thead>\n",
       "  <tbody>\n",
       "    <tr>\n",
       "      <th>AUTOPISTA FERNÃO DIAS</th>\n",
       "      <td>1.003998</td>\n",
       "      <td>0.514616</td>\n",
       "      <td>5.586183e-06</td>\n",
       "      <td>30.0</td>\n",
       "      <td>2010Q2</td>\n",
       "      <td>2023Q4</td>\n",
       "    </tr>\n",
       "    <tr>\n",
       "      <th>AUTOPISTA FLUMINENSE</th>\n",
       "      <td>0.586451</td>\n",
       "      <td>0.603908</td>\n",
       "      <td>1.689263e-07</td>\n",
       "      <td>31.0</td>\n",
       "      <td>2010Q3</td>\n",
       "      <td>2023Q4</td>\n",
       "    </tr>\n",
       "    <tr>\n",
       "      <th>AUTOPISTA LITORAL SUL</th>\n",
       "      <td>0.832137</td>\n",
       "      <td>0.495860</td>\n",
       "      <td>1.408700e-05</td>\n",
       "      <td>29.0</td>\n",
       "      <td>2010Q2</td>\n",
       "      <td>2023Q2</td>\n",
       "    </tr>\n",
       "    <tr>\n",
       "      <th>AUTOPISTA PLANALTO SUL</th>\n",
       "      <td>0.681757</td>\n",
       "      <td>0.598366</td>\n",
       "      <td>1.385810e-06</td>\n",
       "      <td>27.0</td>\n",
       "      <td>2010Q2</td>\n",
       "      <td>2023Q1</td>\n",
       "    </tr>\n",
       "    <tr>\n",
       "      <th>AUTOPISTA REGIS BITTENCOURT</th>\n",
       "      <td>0.710692</td>\n",
       "      <td>0.468038</td>\n",
       "      <td>3.065218e-05</td>\n",
       "      <td>29.0</td>\n",
       "      <td>2010Q2</td>\n",
       "      <td>2023Q4</td>\n",
       "    </tr>\n",
       "    <tr>\n",
       "      <th>CONCEPA</th>\n",
       "      <td>0.899511</td>\n",
       "      <td>0.614457</td>\n",
       "      <td>4.324247e-05</td>\n",
       "      <td>19.0</td>\n",
       "      <td>2010Q3</td>\n",
       "      <td>2018Q1</td>\n",
       "    </tr>\n",
       "    <tr>\n",
       "      <th>CONCER</th>\n",
       "      <td>0.772736</td>\n",
       "      <td>0.442316</td>\n",
       "      <td>2.418779e-05</td>\n",
       "      <td>32.0</td>\n",
       "      <td>2010Q3</td>\n",
       "      <td>2023Q4</td>\n",
       "    </tr>\n",
       "    <tr>\n",
       "      <th>CRT</th>\n",
       "      <td>0.617606</td>\n",
       "      <td>0.523836</td>\n",
       "      <td>4.328195e-05</td>\n",
       "      <td>24.0</td>\n",
       "      <td>2010Q2</td>\n",
       "      <td>2022Q2</td>\n",
       "    </tr>\n",
       "    <tr>\n",
       "      <th>ECOSUL</th>\n",
       "      <td>0.828151</td>\n",
       "      <td>0.488090</td>\n",
       "      <td>1.237026e-05</td>\n",
       "      <td>30.0</td>\n",
       "      <td>2010Q2</td>\n",
       "      <td>2023Q4</td>\n",
       "    </tr>\n",
       "    <tr>\n",
       "      <th>RODOVIA DO AÇO</th>\n",
       "      <td>0.539092</td>\n",
       "      <td>0.338686</td>\n",
       "      <td>1.450378e-03</td>\n",
       "      <td>26.0</td>\n",
       "      <td>2010Q2</td>\n",
       "      <td>2023Q1</td>\n",
       "    </tr>\n",
       "    <tr>\n",
       "      <th>TRANSBRASILIANA</th>\n",
       "      <td>0.419331</td>\n",
       "      <td>0.560479</td>\n",
       "      <td>8.319150e-07</td>\n",
       "      <td>31.0</td>\n",
       "      <td>2010Q2</td>\n",
       "      <td>2023Q2</td>\n",
       "    </tr>\n",
       "  </tbody>\n",
       "</table>\n",
       "</div>"
      ],
      "text/plain": [
       "                             coeficiente        R2   p-valor_pct     n  \\\n",
       "AUTOPISTA FERNÃO DIAS           1.003998  0.514616  5.586183e-06  30.0   \n",
       "AUTOPISTA FLUMINENSE            0.586451  0.603908  1.689263e-07  31.0   \n",
       "AUTOPISTA LITORAL SUL           0.832137  0.495860  1.408700e-05  29.0   \n",
       "AUTOPISTA PLANALTO SUL          0.681757  0.598366  1.385810e-06  27.0   \n",
       "AUTOPISTA REGIS BITTENCOURT     0.710692  0.468038  3.065218e-05  29.0   \n",
       "CONCEPA                         0.899511  0.614457  4.324247e-05  19.0   \n",
       "CONCER                          0.772736  0.442316  2.418779e-05  32.0   \n",
       "CRT                             0.617606  0.523836  4.328195e-05  24.0   \n",
       "ECOSUL                          0.828151  0.488090  1.237026e-05  30.0   \n",
       "RODOVIA DO AÇO                  0.539092  0.338686  1.450378e-03  26.0   \n",
       "TRANSBRASILIANA                 0.419331  0.560479  8.319150e-07  31.0   \n",
       "\n",
       "                            periodo_inicial periodo_final  \n",
       "AUTOPISTA FERNÃO DIAS                2010Q2        2023Q4  \n",
       "AUTOPISTA FLUMINENSE                 2010Q3        2023Q4  \n",
       "AUTOPISTA LITORAL SUL                2010Q2        2023Q2  \n",
       "AUTOPISTA PLANALTO SUL               2010Q2        2023Q1  \n",
       "AUTOPISTA REGIS BITTENCOURT          2010Q2        2023Q4  \n",
       "CONCEPA                              2010Q3        2018Q1  \n",
       "CONCER                               2010Q3        2023Q4  \n",
       "CRT                                  2010Q2        2022Q2  \n",
       "ECOSUL                               2010Q2        2023Q4  \n",
       "RODOVIA DO AÇO                       2010Q2        2023Q1  \n",
       "TRANSBRASILIANA                      2010Q2        2023Q2  "
      ]
     },
     "execution_count": 28,
     "metadata": {},
     "output_type": "execute_result"
    }
   ],
   "source": [
    "periodo = periodos[0]\n",
    "dict_results_per1 = make_regressions(dict_veqs, df_pib, periodo, \n",
    "                                   drop_inverted=True, drop_X_negatives=False, fit_intercept=False)\n",
    "dict_results_per1['VEQS_PASSEIO']"
   ]
  },
  {
   "cell_type": "code",
   "execution_count": 29,
   "id": "d0f14f95-9d7b-4e89-a47e-753518f3a351",
   "metadata": {
    "execution": {
     "iopub.execute_input": "2024-09-11T20:43:43.640237Z",
     "iopub.status.busy": "2024-09-11T20:43:43.639753Z",
     "iopub.status.idle": "2024-09-11T20:43:43.657704Z",
     "shell.execute_reply": "2024-09-11T20:43:43.656584Z",
     "shell.execute_reply.started": "2024-09-11T20:43:43.640199Z"
    },
    "tags": []
   },
   "outputs": [
    {
     "data": {
      "text/html": [
       "<div>\n",
       "<style scoped>\n",
       "    .dataframe tbody tr th:only-of-type {\n",
       "        vertical-align: middle;\n",
       "    }\n",
       "\n",
       "    .dataframe tbody tr th {\n",
       "        vertical-align: top;\n",
       "    }\n",
       "\n",
       "    .dataframe thead th {\n",
       "        text-align: right;\n",
       "    }\n",
       "</style>\n",
       "<table border=\"1\" class=\"dataframe\">\n",
       "  <thead>\n",
       "    <tr style=\"text-align: right;\">\n",
       "      <th></th>\n",
       "      <th>coeficiente</th>\n",
       "      <th>R2</th>\n",
       "      <th>p-valor_pct</th>\n",
       "      <th>n</th>\n",
       "      <th>periodo_inicial</th>\n",
       "      <th>periodo_final</th>\n",
       "    </tr>\n",
       "  </thead>\n",
       "  <tbody>\n",
       "    <tr>\n",
       "      <th>AUTOPISTA FERNÃO DIAS</th>\n",
       "      <td>0.785451</td>\n",
       "      <td>0.664975</td>\n",
       "      <td>4.047056e-08</td>\n",
       "      <td>29.0</td>\n",
       "      <td>2010Q2</td>\n",
       "      <td>2023Q4</td>\n",
       "    </tr>\n",
       "    <tr>\n",
       "      <th>AUTOPISTA FLUMINENSE</th>\n",
       "      <td>0.810266</td>\n",
       "      <td>0.520453</td>\n",
       "      <td>2.167843e-06</td>\n",
       "      <td>32.0</td>\n",
       "      <td>2010Q2</td>\n",
       "      <td>2023Q4</td>\n",
       "    </tr>\n",
       "    <tr>\n",
       "      <th>AUTOPISTA LITORAL SUL</th>\n",
       "      <td>0.930129</td>\n",
       "      <td>0.430909</td>\n",
       "      <td>4.506532e-05</td>\n",
       "      <td>31.0</td>\n",
       "      <td>2010Q2</td>\n",
       "      <td>2023Q4</td>\n",
       "    </tr>\n",
       "    <tr>\n",
       "      <th>AUTOPISTA PLANALTO SUL</th>\n",
       "      <td>0.879425</td>\n",
       "      <td>0.344103</td>\n",
       "      <td>3.334367e-04</td>\n",
       "      <td>32.0</td>\n",
       "      <td>2010Q2</td>\n",
       "      <td>2023Q4</td>\n",
       "    </tr>\n",
       "    <tr>\n",
       "      <th>AUTOPISTA REGIS BITTENCOURT</th>\n",
       "      <td>0.592517</td>\n",
       "      <td>0.476560</td>\n",
       "      <td>3.178849e-06</td>\n",
       "      <td>35.0</td>\n",
       "      <td>2010Q2</td>\n",
       "      <td>2023Q4</td>\n",
       "    </tr>\n",
       "    <tr>\n",
       "      <th>CONCEPA</th>\n",
       "      <td>0.648694</td>\n",
       "      <td>0.550661</td>\n",
       "      <td>3.310616e-05</td>\n",
       "      <td>23.0</td>\n",
       "      <td>2010Q4</td>\n",
       "      <td>2018Q1</td>\n",
       "    </tr>\n",
       "    <tr>\n",
       "      <th>CONCER</th>\n",
       "      <td>0.769595</td>\n",
       "      <td>0.562526</td>\n",
       "      <td>2.142103e-07</td>\n",
       "      <td>34.0</td>\n",
       "      <td>2010Q2</td>\n",
       "      <td>2023Q4</td>\n",
       "    </tr>\n",
       "    <tr>\n",
       "      <th>CRT</th>\n",
       "      <td>0.727977</td>\n",
       "      <td>0.500990</td>\n",
       "      <td>1.749508e-05</td>\n",
       "      <td>28.0</td>\n",
       "      <td>2010Q2</td>\n",
       "      <td>2022Q2</td>\n",
       "    </tr>\n",
       "    <tr>\n",
       "      <th>ECOSUL</th>\n",
       "      <td>1.662836</td>\n",
       "      <td>0.543647</td>\n",
       "      <td>1.482003e-06</td>\n",
       "      <td>31.0</td>\n",
       "      <td>2010Q2</td>\n",
       "      <td>2023Q4</td>\n",
       "    </tr>\n",
       "    <tr>\n",
       "      <th>RODOVIA DO AÇO</th>\n",
       "      <td>1.068407</td>\n",
       "      <td>0.580133</td>\n",
       "      <td>6.187203e-06</td>\n",
       "      <td>25.0</td>\n",
       "      <td>2010Q2</td>\n",
       "      <td>2023Q2</td>\n",
       "    </tr>\n",
       "    <tr>\n",
       "      <th>TRANSBRASILIANA</th>\n",
       "      <td>0.710735</td>\n",
       "      <td>0.456271</td>\n",
       "      <td>4.210511e-05</td>\n",
       "      <td>29.0</td>\n",
       "      <td>2010Q2</td>\n",
       "      <td>2023Q3</td>\n",
       "    </tr>\n",
       "  </tbody>\n",
       "</table>\n",
       "</div>"
      ],
      "text/plain": [
       "                             coeficiente        R2   p-valor_pct     n  \\\n",
       "AUTOPISTA FERNÃO DIAS           0.785451  0.664975  4.047056e-08  29.0   \n",
       "AUTOPISTA FLUMINENSE            0.810266  0.520453  2.167843e-06  32.0   \n",
       "AUTOPISTA LITORAL SUL           0.930129  0.430909  4.506532e-05  31.0   \n",
       "AUTOPISTA PLANALTO SUL          0.879425  0.344103  3.334367e-04  32.0   \n",
       "AUTOPISTA REGIS BITTENCOURT     0.592517  0.476560  3.178849e-06  35.0   \n",
       "CONCEPA                         0.648694  0.550661  3.310616e-05  23.0   \n",
       "CONCER                          0.769595  0.562526  2.142103e-07  34.0   \n",
       "CRT                             0.727977  0.500990  1.749508e-05  28.0   \n",
       "ECOSUL                          1.662836  0.543647  1.482003e-06  31.0   \n",
       "RODOVIA DO AÇO                  1.068407  0.580133  6.187203e-06  25.0   \n",
       "TRANSBRASILIANA                 0.710735  0.456271  4.210511e-05  29.0   \n",
       "\n",
       "                            periodo_inicial periodo_final  \n",
       "AUTOPISTA FERNÃO DIAS                2010Q2        2023Q4  \n",
       "AUTOPISTA FLUMINENSE                 2010Q2        2023Q4  \n",
       "AUTOPISTA LITORAL SUL                2010Q2        2023Q4  \n",
       "AUTOPISTA PLANALTO SUL               2010Q2        2023Q4  \n",
       "AUTOPISTA REGIS BITTENCOURT          2010Q2        2023Q4  \n",
       "CONCEPA                              2010Q4        2018Q1  \n",
       "CONCER                               2010Q2        2023Q4  \n",
       "CRT                                  2010Q2        2022Q2  \n",
       "ECOSUL                               2010Q2        2023Q4  \n",
       "RODOVIA DO AÇO                       2010Q2        2023Q2  \n",
       "TRANSBRASILIANA                      2010Q2        2023Q3  "
      ]
     },
     "execution_count": 29,
     "metadata": {},
     "output_type": "execute_result"
    }
   ],
   "source": [
    "dict_results_per1['VEQS_COMERCIAL']"
   ]
  },
  {
   "cell_type": "markdown",
   "id": "0cfc259f-0cd5-466e-9a6b-4da5966aef9a",
   "metadata": {},
   "source": [
    "## Periodo 2"
   ]
  },
  {
   "cell_type": "code",
   "execution_count": 30,
   "id": "cfbdaef9-2d2a-4de7-8e95-374c3955df2d",
   "metadata": {
    "execution": {
     "iopub.execute_input": "2024-09-11T20:43:43.662555Z",
     "iopub.status.busy": "2024-09-11T20:43:43.660816Z",
     "iopub.status.idle": "2024-09-11T20:43:44.235934Z",
     "shell.execute_reply": "2024-09-11T20:43:44.234994Z",
     "shell.execute_reply.started": "2024-09-11T20:43:43.662498Z"
    },
    "tags": []
   },
   "outputs": [
    {
     "data": {
      "text/html": [
       "<div>\n",
       "<style scoped>\n",
       "    .dataframe tbody tr th:only-of-type {\n",
       "        vertical-align: middle;\n",
       "    }\n",
       "\n",
       "    .dataframe tbody tr th {\n",
       "        vertical-align: top;\n",
       "    }\n",
       "\n",
       "    .dataframe thead th {\n",
       "        text-align: right;\n",
       "    }\n",
       "</style>\n",
       "<table border=\"1\" class=\"dataframe\">\n",
       "  <thead>\n",
       "    <tr style=\"text-align: right;\">\n",
       "      <th></th>\n",
       "      <th>coeficiente</th>\n",
       "      <th>R2</th>\n",
       "      <th>p-valor_pct</th>\n",
       "      <th>n</th>\n",
       "      <th>periodo_inicial</th>\n",
       "      <th>periodo_final</th>\n",
       "    </tr>\n",
       "  </thead>\n",
       "  <tbody>\n",
       "    <tr>\n",
       "      <th>AUTOPISTA FERNÃO DIAS</th>\n",
       "      <td>0.748843</td>\n",
       "      <td>0.484292</td>\n",
       "      <td>0.001339</td>\n",
       "      <td>17.0</td>\n",
       "      <td>2016Q1</td>\n",
       "      <td>2023Q4</td>\n",
       "    </tr>\n",
       "    <tr>\n",
       "      <th>AUTOPISTA FLUMINENSE</th>\n",
       "      <td>0.738374</td>\n",
       "      <td>0.699427</td>\n",
       "      <td>0.000029</td>\n",
       "      <td>16.0</td>\n",
       "      <td>2016Q1</td>\n",
       "      <td>2023Q4</td>\n",
       "    </tr>\n",
       "    <tr>\n",
       "      <th>AUTOPISTA LITORAL SUL</th>\n",
       "      <td>1.270308</td>\n",
       "      <td>0.573408</td>\n",
       "      <td>0.000432</td>\n",
       "      <td>16.0</td>\n",
       "      <td>2016Q2</td>\n",
       "      <td>2023Q2</td>\n",
       "    </tr>\n",
       "    <tr>\n",
       "      <th>AUTOPISTA PLANALTO SUL</th>\n",
       "      <td>0.836608</td>\n",
       "      <td>0.572773</td>\n",
       "      <td>0.000689</td>\n",
       "      <td>15.0</td>\n",
       "      <td>2016Q2</td>\n",
       "      <td>2023Q1</td>\n",
       "    </tr>\n",
       "    <tr>\n",
       "      <th>AUTOPISTA REGIS BITTENCOURT</th>\n",
       "      <td>1.147444</td>\n",
       "      <td>0.534485</td>\n",
       "      <td>0.001292</td>\n",
       "      <td>15.0</td>\n",
       "      <td>2016Q2</td>\n",
       "      <td>2023Q4</td>\n",
       "    </tr>\n",
       "    <tr>\n",
       "      <th>CONCEBRA</th>\n",
       "      <td>0.733186</td>\n",
       "      <td>0.691771</td>\n",
       "      <td>0.000065</td>\n",
       "      <td>15.0</td>\n",
       "      <td>2016Q1</td>\n",
       "      <td>2023Q2</td>\n",
       "    </tr>\n",
       "    <tr>\n",
       "      <th>CONCEPA</th>\n",
       "      <td>1.472859</td>\n",
       "      <td>0.233549</td>\n",
       "      <td>0.516731</td>\n",
       "      <td>3.0</td>\n",
       "      <td>2016Q4</td>\n",
       "      <td>2018Q1</td>\n",
       "    </tr>\n",
       "    <tr>\n",
       "      <th>CONCER</th>\n",
       "      <td>1.159359</td>\n",
       "      <td>0.684483</td>\n",
       "      <td>0.000042</td>\n",
       "      <td>16.0</td>\n",
       "      <td>2016Q1</td>\n",
       "      <td>2023Q4</td>\n",
       "    </tr>\n",
       "    <tr>\n",
       "      <th>CRO</th>\n",
       "      <td>0.784317</td>\n",
       "      <td>0.418944</td>\n",
       "      <td>0.003687</td>\n",
       "      <td>17.0</td>\n",
       "      <td>2016Q1</td>\n",
       "      <td>2023Q4</td>\n",
       "    </tr>\n",
       "    <tr>\n",
       "      <th>CRT</th>\n",
       "      <td>0.719940</td>\n",
       "      <td>0.616813</td>\n",
       "      <td>0.004177</td>\n",
       "      <td>10.0</td>\n",
       "      <td>2016Q1</td>\n",
       "      <td>2022Q2</td>\n",
       "    </tr>\n",
       "    <tr>\n",
       "      <th>ECO050</th>\n",
       "      <td>0.987967</td>\n",
       "      <td>0.567839</td>\n",
       "      <td>0.000749</td>\n",
       "      <td>15.0</td>\n",
       "      <td>2016Q1</td>\n",
       "      <td>2023Q4</td>\n",
       "    </tr>\n",
       "    <tr>\n",
       "      <th>ECO101 CONCESSIONARIA DE RODOVIAS S/A</th>\n",
       "      <td>0.959810</td>\n",
       "      <td>0.492080</td>\n",
       "      <td>0.003564</td>\n",
       "      <td>14.0</td>\n",
       "      <td>2016Q1</td>\n",
       "      <td>2023Q4</td>\n",
       "    </tr>\n",
       "    <tr>\n",
       "      <th>ECOPONTE</th>\n",
       "      <td>0.281337</td>\n",
       "      <td>0.295349</td>\n",
       "      <td>0.019752</td>\n",
       "      <td>17.0</td>\n",
       "      <td>2016Q1</td>\n",
       "      <td>2023Q4</td>\n",
       "    </tr>\n",
       "    <tr>\n",
       "      <th>ECOSUL</th>\n",
       "      <td>1.263698</td>\n",
       "      <td>0.546076</td>\n",
       "      <td>0.001647</td>\n",
       "      <td>14.0</td>\n",
       "      <td>2016Q1</td>\n",
       "      <td>2023Q4</td>\n",
       "    </tr>\n",
       "    <tr>\n",
       "      <th>MSVIA</th>\n",
       "      <td>0.995189</td>\n",
       "      <td>0.702631</td>\n",
       "      <td>0.000050</td>\n",
       "      <td>15.0</td>\n",
       "      <td>2016Q4</td>\n",
       "      <td>2023Q4</td>\n",
       "    </tr>\n",
       "    <tr>\n",
       "      <th>NOVADUTRA</th>\n",
       "      <td>0.808574</td>\n",
       "      <td>0.703921</td>\n",
       "      <td>0.000646</td>\n",
       "      <td>11.0</td>\n",
       "      <td>2016Q2</td>\n",
       "      <td>2021Q4</td>\n",
       "    </tr>\n",
       "    <tr>\n",
       "      <th>RODOVIA DO AÇO</th>\n",
       "      <td>0.889264</td>\n",
       "      <td>0.656354</td>\n",
       "      <td>0.000443</td>\n",
       "      <td>13.0</td>\n",
       "      <td>2016Q2</td>\n",
       "      <td>2023Q1</td>\n",
       "    </tr>\n",
       "    <tr>\n",
       "      <th>TRANSBRASILIANA</th>\n",
       "      <td>0.638971</td>\n",
       "      <td>0.687652</td>\n",
       "      <td>0.000071</td>\n",
       "      <td>15.0</td>\n",
       "      <td>2016Q2</td>\n",
       "      <td>2023Q2</td>\n",
       "    </tr>\n",
       "    <tr>\n",
       "      <th>VIA 040</th>\n",
       "      <td>0.981789</td>\n",
       "      <td>0.598662</td>\n",
       "      <td>0.000102</td>\n",
       "      <td>18.0</td>\n",
       "      <td>2016Q1</td>\n",
       "      <td>2023Q4</td>\n",
       "    </tr>\n",
       "    <tr>\n",
       "      <th>VIA BAHIA</th>\n",
       "      <td>0.681317</td>\n",
       "      <td>0.505670</td>\n",
       "      <td>0.002956</td>\n",
       "      <td>14.0</td>\n",
       "      <td>2016Q1</td>\n",
       "      <td>2023Q1</td>\n",
       "    </tr>\n",
       "  </tbody>\n",
       "</table>\n",
       "</div>"
      ],
      "text/plain": [
       "                                       coeficiente        R2  p-valor_pct  \\\n",
       "AUTOPISTA FERNÃO DIAS                     0.748843  0.484292     0.001339   \n",
       "AUTOPISTA FLUMINENSE                      0.738374  0.699427     0.000029   \n",
       "AUTOPISTA LITORAL SUL                     1.270308  0.573408     0.000432   \n",
       "AUTOPISTA PLANALTO SUL                    0.836608  0.572773     0.000689   \n",
       "AUTOPISTA REGIS BITTENCOURT               1.147444  0.534485     0.001292   \n",
       "CONCEBRA                                  0.733186  0.691771     0.000065   \n",
       "CONCEPA                                   1.472859  0.233549     0.516731   \n",
       "CONCER                                    1.159359  0.684483     0.000042   \n",
       "CRO                                       0.784317  0.418944     0.003687   \n",
       "CRT                                       0.719940  0.616813     0.004177   \n",
       "ECO050                                    0.987967  0.567839     0.000749   \n",
       "ECO101 CONCESSIONARIA DE RODOVIAS S/A     0.959810  0.492080     0.003564   \n",
       "ECOPONTE                                  0.281337  0.295349     0.019752   \n",
       "ECOSUL                                    1.263698  0.546076     0.001647   \n",
       "MSVIA                                     0.995189  0.702631     0.000050   \n",
       "NOVADUTRA                                 0.808574  0.703921     0.000646   \n",
       "RODOVIA DO AÇO                            0.889264  0.656354     0.000443   \n",
       "TRANSBRASILIANA                           0.638971  0.687652     0.000071   \n",
       "VIA 040                                   0.981789  0.598662     0.000102   \n",
       "VIA BAHIA                                 0.681317  0.505670     0.002956   \n",
       "\n",
       "                                          n periodo_inicial periodo_final  \n",
       "AUTOPISTA FERNÃO DIAS                  17.0          2016Q1        2023Q4  \n",
       "AUTOPISTA FLUMINENSE                   16.0          2016Q1        2023Q4  \n",
       "AUTOPISTA LITORAL SUL                  16.0          2016Q2        2023Q2  \n",
       "AUTOPISTA PLANALTO SUL                 15.0          2016Q2        2023Q1  \n",
       "AUTOPISTA REGIS BITTENCOURT            15.0          2016Q2        2023Q4  \n",
       "CONCEBRA                               15.0          2016Q1        2023Q2  \n",
       "CONCEPA                                 3.0          2016Q4        2018Q1  \n",
       "CONCER                                 16.0          2016Q1        2023Q4  \n",
       "CRO                                    17.0          2016Q1        2023Q4  \n",
       "CRT                                    10.0          2016Q1        2022Q2  \n",
       "ECO050                                 15.0          2016Q1        2023Q4  \n",
       "ECO101 CONCESSIONARIA DE RODOVIAS S/A  14.0          2016Q1        2023Q4  \n",
       "ECOPONTE                               17.0          2016Q1        2023Q4  \n",
       "ECOSUL                                 14.0          2016Q1        2023Q4  \n",
       "MSVIA                                  15.0          2016Q4        2023Q4  \n",
       "NOVADUTRA                              11.0          2016Q2        2021Q4  \n",
       "RODOVIA DO AÇO                         13.0          2016Q2        2023Q1  \n",
       "TRANSBRASILIANA                        15.0          2016Q2        2023Q2  \n",
       "VIA 040                                18.0          2016Q1        2023Q4  \n",
       "VIA BAHIA                              14.0          2016Q1        2023Q1  "
      ]
     },
     "execution_count": 30,
     "metadata": {},
     "output_type": "execute_result"
    }
   ],
   "source": [
    "periodo = periodos[1]\n",
    "dict_results_per2 = make_regressions(dict_veqs, df_pib, periodo, \n",
    "                                   drop_inverted=True, drop_X_negatives=False, fit_intercept=False)\n",
    "dict_results_per2['VEQS_PASSEIO']"
   ]
  },
  {
   "cell_type": "code",
   "execution_count": 31,
   "id": "f55a78e5-c449-4ccd-a684-8958a08d1af8",
   "metadata": {
    "execution": {
     "iopub.execute_input": "2024-09-11T20:43:44.238057Z",
     "iopub.status.busy": "2024-09-11T20:43:44.237601Z",
     "iopub.status.idle": "2024-09-11T20:43:44.258761Z",
     "shell.execute_reply": "2024-09-11T20:43:44.257699Z",
     "shell.execute_reply.started": "2024-09-11T20:43:44.238020Z"
    },
    "tags": []
   },
   "outputs": [
    {
     "data": {
      "text/html": [
       "<div>\n",
       "<style scoped>\n",
       "    .dataframe tbody tr th:only-of-type {\n",
       "        vertical-align: middle;\n",
       "    }\n",
       "\n",
       "    .dataframe tbody tr th {\n",
       "        vertical-align: top;\n",
       "    }\n",
       "\n",
       "    .dataframe thead th {\n",
       "        text-align: right;\n",
       "    }\n",
       "</style>\n",
       "<table border=\"1\" class=\"dataframe\">\n",
       "  <thead>\n",
       "    <tr style=\"text-align: right;\">\n",
       "      <th></th>\n",
       "      <th>coeficiente</th>\n",
       "      <th>R2</th>\n",
       "      <th>p-valor_pct</th>\n",
       "      <th>n</th>\n",
       "      <th>periodo_inicial</th>\n",
       "      <th>periodo_final</th>\n",
       "    </tr>\n",
       "  </thead>\n",
       "  <tbody>\n",
       "    <tr>\n",
       "      <th>AUTOPISTA FERNÃO DIAS</th>\n",
       "      <td>0.629738</td>\n",
       "      <td>0.512411</td>\n",
       "      <td>0.001818</td>\n",
       "      <td>15.0</td>\n",
       "      <td>2016Q1</td>\n",
       "      <td>2023Q4</td>\n",
       "    </tr>\n",
       "    <tr>\n",
       "      <th>AUTOPISTA FLUMINENSE</th>\n",
       "      <td>1.043675</td>\n",
       "      <td>0.527687</td>\n",
       "      <td>0.000428</td>\n",
       "      <td>18.0</td>\n",
       "      <td>2016Q1</td>\n",
       "      <td>2023Q4</td>\n",
       "    </tr>\n",
       "    <tr>\n",
       "      <th>AUTOPISTA LITORAL SUL</th>\n",
       "      <td>1.111588</td>\n",
       "      <td>0.446528</td>\n",
       "      <td>0.001765</td>\n",
       "      <td>18.0</td>\n",
       "      <td>2016Q1</td>\n",
       "      <td>2023Q4</td>\n",
       "    </tr>\n",
       "    <tr>\n",
       "      <th>AUTOPISTA PLANALTO SUL</th>\n",
       "      <td>1.123234</td>\n",
       "      <td>0.382858</td>\n",
       "      <td>0.008095</td>\n",
       "      <td>16.0</td>\n",
       "      <td>2016Q3</td>\n",
       "      <td>2023Q4</td>\n",
       "    </tr>\n",
       "    <tr>\n",
       "      <th>AUTOPISTA REGIS BITTENCOURT</th>\n",
       "      <td>0.625364</td>\n",
       "      <td>0.371972</td>\n",
       "      <td>0.003329</td>\n",
       "      <td>20.0</td>\n",
       "      <td>2016Q2</td>\n",
       "      <td>2023Q4</td>\n",
       "    </tr>\n",
       "    <tr>\n",
       "      <th>CONCEBRA</th>\n",
       "      <td>0.694911</td>\n",
       "      <td>0.528757</td>\n",
       "      <td>0.002128</td>\n",
       "      <td>14.0</td>\n",
       "      <td>2016Q1</td>\n",
       "      <td>2023Q3</td>\n",
       "    </tr>\n",
       "    <tr>\n",
       "      <th>CONCEPA</th>\n",
       "      <td>0.911626</td>\n",
       "      <td>0.480420</td>\n",
       "      <td>0.056641</td>\n",
       "      <td>7.0</td>\n",
       "      <td>2016Q2</td>\n",
       "      <td>2018Q1</td>\n",
       "    </tr>\n",
       "    <tr>\n",
       "      <th>CONCER</th>\n",
       "      <td>0.756523</td>\n",
       "      <td>0.591522</td>\n",
       "      <td>0.000308</td>\n",
       "      <td>16.0</td>\n",
       "      <td>2016Q1</td>\n",
       "      <td>2023Q4</td>\n",
       "    </tr>\n",
       "    <tr>\n",
       "      <th>CRO</th>\n",
       "      <td>1.443333</td>\n",
       "      <td>0.396190</td>\n",
       "      <td>0.003881</td>\n",
       "      <td>18.0</td>\n",
       "      <td>2016Q1</td>\n",
       "      <td>2023Q4</td>\n",
       "    </tr>\n",
       "    <tr>\n",
       "      <th>CRT</th>\n",
       "      <td>1.039326</td>\n",
       "      <td>0.576584</td>\n",
       "      <td>0.000645</td>\n",
       "      <td>15.0</td>\n",
       "      <td>2016Q1</td>\n",
       "      <td>2022Q2</td>\n",
       "    </tr>\n",
       "    <tr>\n",
       "      <th>ECO050</th>\n",
       "      <td>1.103725</td>\n",
       "      <td>0.366718</td>\n",
       "      <td>0.006001</td>\n",
       "      <td>18.0</td>\n",
       "      <td>2016Q1</td>\n",
       "      <td>2023Q4</td>\n",
       "    </tr>\n",
       "    <tr>\n",
       "      <th>ECO101 CONCESSIONARIA DE RODOVIAS S/A</th>\n",
       "      <td>1.413965</td>\n",
       "      <td>0.634036</td>\n",
       "      <td>0.000045</td>\n",
       "      <td>18.0</td>\n",
       "      <td>2016Q1</td>\n",
       "      <td>2023Q4</td>\n",
       "    </tr>\n",
       "    <tr>\n",
       "      <th>ECOPONTE</th>\n",
       "      <td>0.786526</td>\n",
       "      <td>0.751870</td>\n",
       "      <td>0.000028</td>\n",
       "      <td>14.0</td>\n",
       "      <td>2016Q1</td>\n",
       "      <td>2023Q4</td>\n",
       "    </tr>\n",
       "    <tr>\n",
       "      <th>ECOSUL</th>\n",
       "      <td>1.981781</td>\n",
       "      <td>0.505341</td>\n",
       "      <td>0.000443</td>\n",
       "      <td>19.0</td>\n",
       "      <td>2016Q1</td>\n",
       "      <td>2023Q4</td>\n",
       "    </tr>\n",
       "    <tr>\n",
       "      <th>MSVIA</th>\n",
       "      <td>1.481854</td>\n",
       "      <td>0.633361</td>\n",
       "      <td>0.000133</td>\n",
       "      <td>16.0</td>\n",
       "      <td>2016Q1</td>\n",
       "      <td>2023Q4</td>\n",
       "    </tr>\n",
       "    <tr>\n",
       "      <th>NOVADUTRA</th>\n",
       "      <td>0.615938</td>\n",
       "      <td>0.483105</td>\n",
       "      <td>0.004023</td>\n",
       "      <td>14.0</td>\n",
       "      <td>2016Q1</td>\n",
       "      <td>2021Q4</td>\n",
       "    </tr>\n",
       "    <tr>\n",
       "      <th>RODOVIA DO AÇO</th>\n",
       "      <td>1.189750</td>\n",
       "      <td>0.518198</td>\n",
       "      <td>0.002478</td>\n",
       "      <td>14.0</td>\n",
       "      <td>2016Q2</td>\n",
       "      <td>2023Q2</td>\n",
       "    </tr>\n",
       "    <tr>\n",
       "      <th>TRANSBRASILIANA</th>\n",
       "      <td>1.142433</td>\n",
       "      <td>0.440581</td>\n",
       "      <td>0.009641</td>\n",
       "      <td>13.0</td>\n",
       "      <td>2016Q3</td>\n",
       "      <td>2023Q3</td>\n",
       "    </tr>\n",
       "    <tr>\n",
       "      <th>VIA 040</th>\n",
       "      <td>0.880405</td>\n",
       "      <td>0.633383</td>\n",
       "      <td>0.000133</td>\n",
       "      <td>16.0</td>\n",
       "      <td>2016Q1</td>\n",
       "      <td>2023Q4</td>\n",
       "    </tr>\n",
       "    <tr>\n",
       "      <th>VIA BAHIA</th>\n",
       "      <td>0.636349</td>\n",
       "      <td>0.350557</td>\n",
       "      <td>0.015676</td>\n",
       "      <td>15.0</td>\n",
       "      <td>2016Q1</td>\n",
       "      <td>2023Q1</td>\n",
       "    </tr>\n",
       "  </tbody>\n",
       "</table>\n",
       "</div>"
      ],
      "text/plain": [
       "                                       coeficiente        R2  p-valor_pct  \\\n",
       "AUTOPISTA FERNÃO DIAS                     0.629738  0.512411     0.001818   \n",
       "AUTOPISTA FLUMINENSE                      1.043675  0.527687     0.000428   \n",
       "AUTOPISTA LITORAL SUL                     1.111588  0.446528     0.001765   \n",
       "AUTOPISTA PLANALTO SUL                    1.123234  0.382858     0.008095   \n",
       "AUTOPISTA REGIS BITTENCOURT               0.625364  0.371972     0.003329   \n",
       "CONCEBRA                                  0.694911  0.528757     0.002128   \n",
       "CONCEPA                                   0.911626  0.480420     0.056641   \n",
       "CONCER                                    0.756523  0.591522     0.000308   \n",
       "CRO                                       1.443333  0.396190     0.003881   \n",
       "CRT                                       1.039326  0.576584     0.000645   \n",
       "ECO050                                    1.103725  0.366718     0.006001   \n",
       "ECO101 CONCESSIONARIA DE RODOVIAS S/A     1.413965  0.634036     0.000045   \n",
       "ECOPONTE                                  0.786526  0.751870     0.000028   \n",
       "ECOSUL                                    1.981781  0.505341     0.000443   \n",
       "MSVIA                                     1.481854  0.633361     0.000133   \n",
       "NOVADUTRA                                 0.615938  0.483105     0.004023   \n",
       "RODOVIA DO AÇO                            1.189750  0.518198     0.002478   \n",
       "TRANSBRASILIANA                           1.142433  0.440581     0.009641   \n",
       "VIA 040                                   0.880405  0.633383     0.000133   \n",
       "VIA BAHIA                                 0.636349  0.350557     0.015676   \n",
       "\n",
       "                                          n periodo_inicial periodo_final  \n",
       "AUTOPISTA FERNÃO DIAS                  15.0          2016Q1        2023Q4  \n",
       "AUTOPISTA FLUMINENSE                   18.0          2016Q1        2023Q4  \n",
       "AUTOPISTA LITORAL SUL                  18.0          2016Q1        2023Q4  \n",
       "AUTOPISTA PLANALTO SUL                 16.0          2016Q3        2023Q4  \n",
       "AUTOPISTA REGIS BITTENCOURT            20.0          2016Q2        2023Q4  \n",
       "CONCEBRA                               14.0          2016Q1        2023Q3  \n",
       "CONCEPA                                 7.0          2016Q2        2018Q1  \n",
       "CONCER                                 16.0          2016Q1        2023Q4  \n",
       "CRO                                    18.0          2016Q1        2023Q4  \n",
       "CRT                                    15.0          2016Q1        2022Q2  \n",
       "ECO050                                 18.0          2016Q1        2023Q4  \n",
       "ECO101 CONCESSIONARIA DE RODOVIAS S/A  18.0          2016Q1        2023Q4  \n",
       "ECOPONTE                               14.0          2016Q1        2023Q4  \n",
       "ECOSUL                                 19.0          2016Q1        2023Q4  \n",
       "MSVIA                                  16.0          2016Q1        2023Q4  \n",
       "NOVADUTRA                              14.0          2016Q1        2021Q4  \n",
       "RODOVIA DO AÇO                         14.0          2016Q2        2023Q2  \n",
       "TRANSBRASILIANA                        13.0          2016Q3        2023Q3  \n",
       "VIA 040                                16.0          2016Q1        2023Q4  \n",
       "VIA BAHIA                              15.0          2016Q1        2023Q1  "
      ]
     },
     "execution_count": 31,
     "metadata": {},
     "output_type": "execute_result"
    }
   ],
   "source": [
    "dict_results_per2['VEQS_COMERCIAL']"
   ]
  },
  {
   "cell_type": "markdown",
   "id": "7c9ed6c4-0bc6-45d1-b7bb-d5a51c92b73f",
   "metadata": {},
   "source": [
    "# Dict com os resultados, para plot e exportação"
   ]
  },
  {
   "cell_type": "markdown",
   "id": "bc8a12e0-2f14-4520-ae5d-9b06f5c1b246",
   "metadata": {},
   "source": [
    "## Funções"
   ]
  },
  {
   "cell_type": "code",
   "execution_count": 87,
   "id": "82b1c28f-0fca-4af9-9e8f-173b56c21378",
   "metadata": {
    "execution": {
     "iopub.execute_input": "2024-09-11T21:18:00.931815Z",
     "iopub.status.busy": "2024-09-11T21:18:00.931042Z",
     "iopub.status.idle": "2024-09-11T21:18:00.944521Z",
     "shell.execute_reply": "2024-09-11T21:18:00.943071Z",
     "shell.execute_reply.started": "2024-09-11T21:18:00.931776Z"
    },
    "tags": []
   },
   "outputs": [],
   "source": [
    "def make_regression_curves(dict_veqs, df_pib, periodo, periciodidade, drop_inverted, drop_X_negatives, fit_intercept):\n",
    "    # dict_curves = {f'{veq}_{conc}':None for veq, df in dict_veqs.items() for conc in df}\n",
    "    # dict_curves = {veq:conc for veq, df in dict_veqs.items() for conc in df}\n",
    "    dict_curves = {veq:{conc:None for conc in df} for veq, df in dict_veqs.items()}\n",
    "    dict_results = make_regressions(dict_veqs, df_pib, periodo, \n",
    "                                   drop_inverted=drop_inverted, drop_X_negatives=drop_X_negatives, fit_intercept=fit_intercept)\n",
    "    for veq, df in dict_veqs.items():   \n",
    "        for conc in df: \n",
    "            df_train = make_base_train(dict_veqs[veq][conc], df_pib, periodo, drop_inverted=drop_inverted, drop_X_negatives=drop_X_negatives)\n",
    "            if df_train is not None:\n",
    "                periodo_inicial = pd.to_datetime(periodo[0]).to_period(periodicidade) - 1\n",
    "                periodo_final = pd.to_datetime(periodo[1]).to_period(periodicidade)\n",
    "                index = dict_veqs_trafego[veq][conc].dropna().index\n",
    "                df_curves = pd.DataFrame(index=index)\n",
    "                \n",
    "                df_curves = df_curves.join(dict_veqs_trafego[veq][conc].dropna())\n",
    "                df_curves = df_curves.loc[periodo_inicial:periodo_final]\n",
    "                \n",
    "                df_curves['delta_trafego_pct'] = df_curves[conc].pct_change()*100\n",
    "                df_curves['pib_real_pct'] = df_pib_raw\n",
    "                df_curves['elasticidade'] = dict_results[veq].loc[conc,'coeficiente']\n",
    "                df_curves['fit_pct'] = df_curves['pib_real_pct'] * df_curves['elasticidade']\n",
    "             \n",
    "                dict_curves[veq][conc] = df_curves.iloc[1:,:]\n",
    "\n",
    "    return dict_curves"
   ]
  },
  {
   "cell_type": "code",
   "execution_count": 88,
   "id": "610417eb-4b20-4b1c-ba1d-31bf3a000685",
   "metadata": {
    "execution": {
     "iopub.execute_input": "2024-09-11T21:18:01.114072Z",
     "iopub.status.busy": "2024-09-11T21:18:01.113580Z",
     "iopub.status.idle": "2024-09-11T21:18:01.121966Z",
     "shell.execute_reply": "2024-09-11T21:18:01.120176Z",
     "shell.execute_reply.started": "2024-09-11T21:18:01.114032Z"
    },
    "tags": []
   },
   "outputs": [],
   "source": [
    "# def make_regression_curves(dict_veqs, df_pib, periodo, periciodidade, drop_inverted, drop_X_negatives, fit_intercept):\n",
    "#     # dict_curves = {f'{veq}_{conc}':None for veq, df in dict_veqs.items() for conc in df}\n",
    "#     # dict_curves = {veq:conc for veq, df in dict_veqs.items() for conc in df}\n",
    "#     dict_curves = {veq:{conc:None for conc in df} for veq, df in dict_veqs.items()}\n",
    "#     dict_results = make_regressions(dict_veqs, df_pib, periodo, \n",
    "#                                    drop_inverted=drop_inverted, drop_X_negatives=drop_X_negatives, fit_intercept=fit_intercept)\n",
    "#     for veq, df in dict_veqs.items():   \n",
    "#         for conc in df: \n",
    "#             df_train = make_base_train(dict_veqs[veq][conc], df_pib, periodo, drop_inverted=drop_inverted, drop_X_negatives=drop_X_negatives)\n",
    "#             if df_train is not None:\n",
    "#                 periodo_inicial = pd.to_datetime(periodo[0]).to_period(periodicidade) - 1\n",
    "#                 periodo_final = pd.to_datetime(periodo[1]).to_period(periodicidade)\n",
    "#                 index = dict_veqs_trafego[veq][conc].dropna().index\n",
    "#                 df_curves = pd.DataFrame(index=index)\n",
    "                \n",
    "#                 df_curves = df_curves.join(dict_veqs_trafego[veq][conc].dropna())\n",
    "#                 df_curves = df_curves.loc[periodo_inicial:periodo_final]\n",
    "                \n",
    "#                 df_curves['pib_real_pct'] = df_pib_raw\n",
    "#                 df_curves['elasticidade'] = dict_results[veq].loc[conc,'coeficiente']\n",
    "#                 df_curves['trafego_fit_pct'] =  df_curves['pib_real_pct'] *  df_curves['elasticidade']\n",
    "#                 df_curves['trafego_fit_mult'] = 1 + df_curves['trafego_fit_pct']/100\n",
    "#                 df_curves.loc[df_curves.index[0], 'trafego_fit_mult'] = 1\n",
    "#                 df_curves['trafego_fit_cumprod'] = df_curves['trafego_fit_mult'].cumprod()\n",
    "\n",
    "#                 df_curves['trafego_fit'] = df_curves.loc[periodo_inicial, conc] * df_curves['trafego_fit_cumprod']\n",
    "#                 df_curves['residuos'] = df_curves.loc[:,conc] - df_curves['trafego_fit']\n",
    "\n",
    "                \n",
    "# #                 df_curves['elasticidade'] = dict_results[veq].loc[conc,'coeficiente']\n",
    "# #                 # print(veq, conc, dict_results[veq].loc[conc,'coeficiente'])\n",
    "# #                 df_curves['trafego_fit_pct'] =  df_curves['pib_real_pct'] *  df_curves['elasticidade']\n",
    "# #                 df_curves['trafego_fit_mult'] = 1 + df_curves['trafego_fit_pct']/100\n",
    "# #                 df_curves.loc[df_curves.index[0], 'trafego_fit_mult'] = 1\n",
    "# #                 df_curves['trafego_fit_cumprod'] = df_curves['trafego_fit_mult'].cumprod()\n",
    "                \n",
    "# #                 df_curves['trafego_fit'] = df_curves.loc[periodo_inicial, conc] * df_curves['trafego_fit_cumprod']\n",
    "# #                 df_curves['residuos'] = df_curves.loc[:,conc] - df_curves['trafego_fit']\n",
    "                \n",
    "#                 dict_curves[veq][conc] = df_curves\n",
    "\n",
    "#     return dict_curves"
   ]
  },
  {
   "cell_type": "markdown",
   "id": "7a3993cb-c228-45c7-b3ca-08fc173c247b",
   "metadata": {},
   "source": [
    "## Período 1"
   ]
  },
  {
   "cell_type": "code",
   "execution_count": 89,
   "id": "94a0dad1-4333-4717-bb1f-bc5c5dc1bd1c",
   "metadata": {
    "collapsed": true,
    "execution": {
     "iopub.execute_input": "2024-09-11T21:18:01.430734Z",
     "iopub.status.busy": "2024-09-11T21:18:01.430094Z",
     "iopub.status.idle": "2024-09-11T21:18:02.201392Z",
     "shell.execute_reply": "2024-09-11T21:18:02.199873Z",
     "shell.execute_reply.started": "2024-09-11T21:18:01.430695Z"
    },
    "jupyter": {
     "outputs_hidden": true
    },
    "tags": []
   },
   "outputs": [
    {
     "data": {
      "text/html": [
       "<div>\n",
       "<style scoped>\n",
       "    .dataframe tbody tr th:only-of-type {\n",
       "        vertical-align: middle;\n",
       "    }\n",
       "\n",
       "    .dataframe tbody tr th {\n",
       "        vertical-align: top;\n",
       "    }\n",
       "\n",
       "    .dataframe thead th {\n",
       "        text-align: right;\n",
       "    }\n",
       "</style>\n",
       "<table border=\"1\" class=\"dataframe\">\n",
       "  <thead>\n",
       "    <tr style=\"text-align: right;\">\n",
       "      <th></th>\n",
       "      <th>AUTOPISTA FERNÃO DIAS</th>\n",
       "      <th>delta_trafego_pct</th>\n",
       "      <th>pib_real_pct</th>\n",
       "      <th>elasticidade</th>\n",
       "      <th>fit_pct</th>\n",
       "    </tr>\n",
       "    <tr>\n",
       "      <th>trimestre</th>\n",
       "      <th></th>\n",
       "      <th></th>\n",
       "      <th></th>\n",
       "      <th></th>\n",
       "      <th></th>\n",
       "    </tr>\n",
       "  </thead>\n",
       "  <tbody>\n",
       "    <tr>\n",
       "      <th>2010Q2</th>\n",
       "      <td>2.202874e+07</td>\n",
       "      <td>8.703506</td>\n",
       "      <td>8.52</td>\n",
       "      <td>0.785451</td>\n",
       "      <td>6.692042</td>\n",
       "    </tr>\n",
       "    <tr>\n",
       "      <th>2010Q3</th>\n",
       "      <td>2.336369e+07</td>\n",
       "      <td>6.060054</td>\n",
       "      <td>6.91</td>\n",
       "      <td>0.785451</td>\n",
       "      <td>5.427466</td>\n",
       "    </tr>\n",
       "    <tr>\n",
       "      <th>2010Q4</th>\n",
       "      <td>2.655924e+07</td>\n",
       "      <td>13.677392</td>\n",
       "      <td>5.69</td>\n",
       "      <td>0.785451</td>\n",
       "      <td>4.469216</td>\n",
       "    </tr>\n",
       "    <tr>\n",
       "      <th>2011Q1</th>\n",
       "      <td>2.730935e+07</td>\n",
       "      <td>2.824283</td>\n",
       "      <td>5.20</td>\n",
       "      <td>0.785451</td>\n",
       "      <td>4.084345</td>\n",
       "    </tr>\n",
       "    <tr>\n",
       "      <th>2011Q2</th>\n",
       "      <td>2.753984e+07</td>\n",
       "      <td>0.843995</td>\n",
       "      <td>4.70</td>\n",
       "      <td>0.785451</td>\n",
       "      <td>3.691619</td>\n",
       "    </tr>\n",
       "    <tr>\n",
       "      <th>2011Q3</th>\n",
       "      <td>2.831516e+07</td>\n",
       "      <td>2.815287</td>\n",
       "      <td>3.54</td>\n",
       "      <td>0.785451</td>\n",
       "      <td>2.780496</td>\n",
       "    </tr>\n",
       "    <tr>\n",
       "      <th>2011Q4</th>\n",
       "      <td>2.816863e+07</td>\n",
       "      <td>-0.517499</td>\n",
       "      <td>2.57</td>\n",
       "      <td>0.785451</td>\n",
       "      <td>2.018609</td>\n",
       "    </tr>\n",
       "    <tr>\n",
       "      <th>2012Q1</th>\n",
       "      <td>2.920709e+07</td>\n",
       "      <td>3.686592</td>\n",
       "      <td>1.71</td>\n",
       "      <td>0.785451</td>\n",
       "      <td>1.343121</td>\n",
       "    </tr>\n",
       "    <tr>\n",
       "      <th>2012Q2</th>\n",
       "      <td>2.861656e+07</td>\n",
       "      <td>-2.021875</td>\n",
       "      <td>0.99</td>\n",
       "      <td>0.785451</td>\n",
       "      <td>0.777596</td>\n",
       "    </tr>\n",
       "    <tr>\n",
       "      <th>2012Q3</th>\n",
       "      <td>2.905830e+07</td>\n",
       "      <td>1.543634</td>\n",
       "      <td>2.49</td>\n",
       "      <td>0.785451</td>\n",
       "      <td>1.955773</td>\n",
       "    </tr>\n",
       "    <tr>\n",
       "      <th>2012Q4</th>\n",
       "      <td>2.891316e+07</td>\n",
       "      <td>-0.499455</td>\n",
       "      <td>2.48</td>\n",
       "      <td>0.785451</td>\n",
       "      <td>1.947918</td>\n",
       "    </tr>\n",
       "    <tr>\n",
       "      <th>2013Q1</th>\n",
       "      <td>2.888743e+07</td>\n",
       "      <td>-0.088993</td>\n",
       "      <td>2.72</td>\n",
       "      <td>0.785451</td>\n",
       "      <td>2.136427</td>\n",
       "    </tr>\n",
       "    <tr>\n",
       "      <th>2013Q2</th>\n",
       "      <td>3.022171e+07</td>\n",
       "      <td>4.618872</td>\n",
       "      <td>4.02</td>\n",
       "      <td>0.785451</td>\n",
       "      <td>3.157513</td>\n",
       "    </tr>\n",
       "    <tr>\n",
       "      <th>2013Q3</th>\n",
       "      <td>2.951757e+07</td>\n",
       "      <td>-2.329896</td>\n",
       "      <td>2.76</td>\n",
       "      <td>0.785451</td>\n",
       "      <td>2.167845</td>\n",
       "    </tr>\n",
       "    <tr>\n",
       "      <th>2013Q4</th>\n",
       "      <td>2.929519e+07</td>\n",
       "      <td>-0.753387</td>\n",
       "      <td>2.53</td>\n",
       "      <td>0.785451</td>\n",
       "      <td>1.987191</td>\n",
       "    </tr>\n",
       "    <tr>\n",
       "      <th>2014Q1</th>\n",
       "      <td>2.898632e+07</td>\n",
       "      <td>-1.054350</td>\n",
       "      <td>3.47</td>\n",
       "      <td>0.785451</td>\n",
       "      <td>2.725515</td>\n",
       "    </tr>\n",
       "    <tr>\n",
       "      <th>2014Q2</th>\n",
       "      <td>2.824193e+07</td>\n",
       "      <td>-2.568070</td>\n",
       "      <td>-0.44</td>\n",
       "      <td>0.785451</td>\n",
       "      <td>-0.345598</td>\n",
       "    </tr>\n",
       "    <tr>\n",
       "      <th>2014Q3</th>\n",
       "      <td>2.854520e+07</td>\n",
       "      <td>1.073850</td>\n",
       "      <td>-0.64</td>\n",
       "      <td>0.785451</td>\n",
       "      <td>-0.502689</td>\n",
       "    </tr>\n",
       "    <tr>\n",
       "      <th>2014Q4</th>\n",
       "      <td>2.838170e+07</td>\n",
       "      <td>-0.572790</td>\n",
       "      <td>-0.23</td>\n",
       "      <td>0.785451</td>\n",
       "      <td>-0.180654</td>\n",
       "    </tr>\n",
       "    <tr>\n",
       "      <th>2015Q1</th>\n",
       "      <td>2.709866e+07</td>\n",
       "      <td>-4.520673</td>\n",
       "      <td>-1.62</td>\n",
       "      <td>0.785451</td>\n",
       "      <td>-1.272431</td>\n",
       "    </tr>\n",
       "    <tr>\n",
       "      <th>2015Q2</th>\n",
       "      <td>2.508754e+07</td>\n",
       "      <td>-7.421462</td>\n",
       "      <td>-2.74</td>\n",
       "      <td>0.785451</td>\n",
       "      <td>-2.152136</td>\n",
       "    </tr>\n",
       "    <tr>\n",
       "      <th>2015Q3</th>\n",
       "      <td>2.419879e+07</td>\n",
       "      <td>-3.542609</td>\n",
       "      <td>-4.26</td>\n",
       "      <td>0.785451</td>\n",
       "      <td>-3.346021</td>\n",
       "    </tr>\n",
       "    <tr>\n",
       "      <th>2015Q4</th>\n",
       "      <td>2.380591e+07</td>\n",
       "      <td>-1.623528</td>\n",
       "      <td>-5.52</td>\n",
       "      <td>0.785451</td>\n",
       "      <td>-4.335689</td>\n",
       "    </tr>\n",
       "    <tr>\n",
       "      <th>2016Q1</th>\n",
       "      <td>2.376617e+07</td>\n",
       "      <td>-0.166943</td>\n",
       "      <td>-5.14</td>\n",
       "      <td>0.785451</td>\n",
       "      <td>-4.037218</td>\n",
       "    </tr>\n",
       "    <tr>\n",
       "      <th>2016Q2</th>\n",
       "      <td>2.391439e+07</td>\n",
       "      <td>0.623659</td>\n",
       "      <td>-3.22</td>\n",
       "      <td>0.785451</td>\n",
       "      <td>-2.529152</td>\n",
       "    </tr>\n",
       "    <tr>\n",
       "      <th>2016Q3</th>\n",
       "      <td>2.401264e+07</td>\n",
       "      <td>0.410857</td>\n",
       "      <td>-2.45</td>\n",
       "      <td>0.785451</td>\n",
       "      <td>-1.924355</td>\n",
       "    </tr>\n",
       "    <tr>\n",
       "      <th>2016Q4</th>\n",
       "      <td>2.371684e+07</td>\n",
       "      <td>-1.231874</td>\n",
       "      <td>-2.26</td>\n",
       "      <td>0.785451</td>\n",
       "      <td>-1.775119</td>\n",
       "    </tr>\n",
       "    <tr>\n",
       "      <th>2017Q1</th>\n",
       "      <td>2.445642e+07</td>\n",
       "      <td>3.118381</td>\n",
       "      <td>0.28</td>\n",
       "      <td>0.785451</td>\n",
       "      <td>0.219926</td>\n",
       "    </tr>\n",
       "    <tr>\n",
       "      <th>2017Q2</th>\n",
       "      <td>2.428927e+07</td>\n",
       "      <td>-0.683444</td>\n",
       "      <td>0.79</td>\n",
       "      <td>0.785451</td>\n",
       "      <td>0.620506</td>\n",
       "    </tr>\n",
       "    <tr>\n",
       "      <th>2017Q3</th>\n",
       "      <td>2.485095e+07</td>\n",
       "      <td>2.312437</td>\n",
       "      <td>1.64</td>\n",
       "      <td>0.785451</td>\n",
       "      <td>1.288140</td>\n",
       "    </tr>\n",
       "    <tr>\n",
       "      <th>2017Q4</th>\n",
       "      <td>2.543759e+07</td>\n",
       "      <td>2.360629</td>\n",
       "      <td>2.58</td>\n",
       "      <td>0.785451</td>\n",
       "      <td>2.026463</td>\n",
       "    </tr>\n",
       "    <tr>\n",
       "      <th>2018Q1</th>\n",
       "      <td>2.560426e+07</td>\n",
       "      <td>0.655230</td>\n",
       "      <td>1.90</td>\n",
       "      <td>0.785451</td>\n",
       "      <td>1.492357</td>\n",
       "    </tr>\n",
       "    <tr>\n",
       "      <th>2018Q2</th>\n",
       "      <td>2.433074e+07</td>\n",
       "      <td>-4.973873</td>\n",
       "      <td>1.62</td>\n",
       "      <td>0.785451</td>\n",
       "      <td>1.272431</td>\n",
       "    </tr>\n",
       "    <tr>\n",
       "      <th>2018Q3</th>\n",
       "      <td>2.532934e+07</td>\n",
       "      <td>4.104272</td>\n",
       "      <td>2.06</td>\n",
       "      <td>0.785451</td>\n",
       "      <td>1.618029</td>\n",
       "    </tr>\n",
       "    <tr>\n",
       "      <th>2018Q4</th>\n",
       "      <td>2.490299e+07</td>\n",
       "      <td>-1.683198</td>\n",
       "      <td>1.55</td>\n",
       "      <td>0.785451</td>\n",
       "      <td>1.217449</td>\n",
       "    </tr>\n",
       "    <tr>\n",
       "      <th>2019Q1</th>\n",
       "      <td>2.954523e+07</td>\n",
       "      <td>18.641271</td>\n",
       "      <td>0.90</td>\n",
       "      <td>0.785451</td>\n",
       "      <td>0.706906</td>\n",
       "    </tr>\n",
       "    <tr>\n",
       "      <th>2019Q2</th>\n",
       "      <td>2.970804e+07</td>\n",
       "      <td>0.551071</td>\n",
       "      <td>1.17</td>\n",
       "      <td>0.785451</td>\n",
       "      <td>0.918978</td>\n",
       "    </tr>\n",
       "    <tr>\n",
       "      <th>2019Q3</th>\n",
       "      <td>3.001787e+07</td>\n",
       "      <td>1.042900</td>\n",
       "      <td>1.11</td>\n",
       "      <td>0.785451</td>\n",
       "      <td>0.871851</td>\n",
       "    </tr>\n",
       "    <tr>\n",
       "      <th>2019Q4</th>\n",
       "      <td>3.097280e+07</td>\n",
       "      <td>3.181213</td>\n",
       "      <td>1.69</td>\n",
       "      <td>0.785451</td>\n",
       "      <td>1.327412</td>\n",
       "    </tr>\n",
       "    <tr>\n",
       "      <th>2020Q1</th>\n",
       "      <td>3.088612e+07</td>\n",
       "      <td>-0.279859</td>\n",
       "      <td>0.41</td>\n",
       "      <td>0.785451</td>\n",
       "      <td>0.322035</td>\n",
       "    </tr>\n",
       "    <tr>\n",
       "      <th>2020Q2</th>\n",
       "      <td>2.660285e+07</td>\n",
       "      <td>-13.867945</td>\n",
       "      <td>-10.14</td>\n",
       "      <td>0.785451</td>\n",
       "      <td>-7.964473</td>\n",
       "    </tr>\n",
       "    <tr>\n",
       "      <th>2020Q3</th>\n",
       "      <td>3.258069e+07</td>\n",
       "      <td>22.470651</td>\n",
       "      <td>-3.04</td>\n",
       "      <td>0.785451</td>\n",
       "      <td>-2.387771</td>\n",
       "    </tr>\n",
       "    <tr>\n",
       "      <th>2020Q4</th>\n",
       "      <td>3.512169e+07</td>\n",
       "      <td>7.799118</td>\n",
       "      <td>-0.33</td>\n",
       "      <td>0.785451</td>\n",
       "      <td>-0.259199</td>\n",
       "    </tr>\n",
       "    <tr>\n",
       "      <th>2021Q1</th>\n",
       "      <td>3.361296e+07</td>\n",
       "      <td>-4.295724</td>\n",
       "      <td>1.75</td>\n",
       "      <td>0.785451</td>\n",
       "      <td>1.374539</td>\n",
       "    </tr>\n",
       "    <tr>\n",
       "      <th>2021Q2</th>\n",
       "      <td>3.580628e+07</td>\n",
       "      <td>6.525225</td>\n",
       "      <td>12.40</td>\n",
       "      <td>0.785451</td>\n",
       "      <td>9.739592</td>\n",
       "    </tr>\n",
       "    <tr>\n",
       "      <th>2021Q3</th>\n",
       "      <td>3.630382e+07</td>\n",
       "      <td>1.389517</td>\n",
       "      <td>4.21</td>\n",
       "      <td>0.785451</td>\n",
       "      <td>3.306748</td>\n",
       "    </tr>\n",
       "    <tr>\n",
       "      <th>2021Q4</th>\n",
       "      <td>3.544264e+07</td>\n",
       "      <td>-2.372131</td>\n",
       "      <td>1.46</td>\n",
       "      <td>0.785451</td>\n",
       "      <td>1.146758</td>\n",
       "    </tr>\n",
       "    <tr>\n",
       "      <th>2022Q1</th>\n",
       "      <td>2.812370e+07</td>\n",
       "      <td>-20.650096</td>\n",
       "      <td>1.47</td>\n",
       "      <td>0.785451</td>\n",
       "      <td>1.154613</td>\n",
       "    </tr>\n",
       "    <tr>\n",
       "      <th>2022Q2</th>\n",
       "      <td>2.927515e+07</td>\n",
       "      <td>4.094242</td>\n",
       "      <td>3.54</td>\n",
       "      <td>0.785451</td>\n",
       "      <td>2.780496</td>\n",
       "    </tr>\n",
       "    <tr>\n",
       "      <th>2022Q3</th>\n",
       "      <td>2.858951e+07</td>\n",
       "      <td>-2.342088</td>\n",
       "      <td>4.32</td>\n",
       "      <td>0.785451</td>\n",
       "      <td>3.393148</td>\n",
       "    </tr>\n",
       "    <tr>\n",
       "      <th>2022Q4</th>\n",
       "      <td>2.814464e+07</td>\n",
       "      <td>-1.556056</td>\n",
       "      <td>2.69</td>\n",
       "      <td>0.785451</td>\n",
       "      <td>2.112863</td>\n",
       "    </tr>\n",
       "    <tr>\n",
       "      <th>2023Q1</th>\n",
       "      <td>2.874687e+07</td>\n",
       "      <td>2.139764</td>\n",
       "      <td>4.22</td>\n",
       "      <td>0.785451</td>\n",
       "      <td>3.314603</td>\n",
       "    </tr>\n",
       "    <tr>\n",
       "      <th>2023Q2</th>\n",
       "      <td>2.849596e+07</td>\n",
       "      <td>-0.872798</td>\n",
       "      <td>3.47</td>\n",
       "      <td>0.785451</td>\n",
       "      <td>2.725515</td>\n",
       "    </tr>\n",
       "    <tr>\n",
       "      <th>2023Q3</th>\n",
       "      <td>2.886496e+07</td>\n",
       "      <td>1.294902</td>\n",
       "      <td>1.96</td>\n",
       "      <td>0.785451</td>\n",
       "      <td>1.539484</td>\n",
       "    </tr>\n",
       "    <tr>\n",
       "      <th>2023Q4</th>\n",
       "      <td>2.975438e+07</td>\n",
       "      <td>3.081321</td>\n",
       "      <td>2.05</td>\n",
       "      <td>0.785451</td>\n",
       "      <td>1.610174</td>\n",
       "    </tr>\n",
       "  </tbody>\n",
       "</table>\n",
       "</div>"
      ],
      "text/plain": [
       "           AUTOPISTA FERNÃO DIAS  delta_trafego_pct  pib_real_pct  \\\n",
       "trimestre                                                           \n",
       "2010Q2              2.202874e+07           8.703506          8.52   \n",
       "2010Q3              2.336369e+07           6.060054          6.91   \n",
       "2010Q4              2.655924e+07          13.677392          5.69   \n",
       "2011Q1              2.730935e+07           2.824283          5.20   \n",
       "2011Q2              2.753984e+07           0.843995          4.70   \n",
       "2011Q3              2.831516e+07           2.815287          3.54   \n",
       "2011Q4              2.816863e+07          -0.517499          2.57   \n",
       "2012Q1              2.920709e+07           3.686592          1.71   \n",
       "2012Q2              2.861656e+07          -2.021875          0.99   \n",
       "2012Q3              2.905830e+07           1.543634          2.49   \n",
       "2012Q4              2.891316e+07          -0.499455          2.48   \n",
       "2013Q1              2.888743e+07          -0.088993          2.72   \n",
       "2013Q2              3.022171e+07           4.618872          4.02   \n",
       "2013Q3              2.951757e+07          -2.329896          2.76   \n",
       "2013Q4              2.929519e+07          -0.753387          2.53   \n",
       "2014Q1              2.898632e+07          -1.054350          3.47   \n",
       "2014Q2              2.824193e+07          -2.568070         -0.44   \n",
       "2014Q3              2.854520e+07           1.073850         -0.64   \n",
       "2014Q4              2.838170e+07          -0.572790         -0.23   \n",
       "2015Q1              2.709866e+07          -4.520673         -1.62   \n",
       "2015Q2              2.508754e+07          -7.421462         -2.74   \n",
       "2015Q3              2.419879e+07          -3.542609         -4.26   \n",
       "2015Q4              2.380591e+07          -1.623528         -5.52   \n",
       "2016Q1              2.376617e+07          -0.166943         -5.14   \n",
       "2016Q2              2.391439e+07           0.623659         -3.22   \n",
       "2016Q3              2.401264e+07           0.410857         -2.45   \n",
       "2016Q4              2.371684e+07          -1.231874         -2.26   \n",
       "2017Q1              2.445642e+07           3.118381          0.28   \n",
       "2017Q2              2.428927e+07          -0.683444          0.79   \n",
       "2017Q3              2.485095e+07           2.312437          1.64   \n",
       "2017Q4              2.543759e+07           2.360629          2.58   \n",
       "2018Q1              2.560426e+07           0.655230          1.90   \n",
       "2018Q2              2.433074e+07          -4.973873          1.62   \n",
       "2018Q3              2.532934e+07           4.104272          2.06   \n",
       "2018Q4              2.490299e+07          -1.683198          1.55   \n",
       "2019Q1              2.954523e+07          18.641271          0.90   \n",
       "2019Q2              2.970804e+07           0.551071          1.17   \n",
       "2019Q3              3.001787e+07           1.042900          1.11   \n",
       "2019Q4              3.097280e+07           3.181213          1.69   \n",
       "2020Q1              3.088612e+07          -0.279859          0.41   \n",
       "2020Q2              2.660285e+07         -13.867945        -10.14   \n",
       "2020Q3              3.258069e+07          22.470651         -3.04   \n",
       "2020Q4              3.512169e+07           7.799118         -0.33   \n",
       "2021Q1              3.361296e+07          -4.295724          1.75   \n",
       "2021Q2              3.580628e+07           6.525225         12.40   \n",
       "2021Q3              3.630382e+07           1.389517          4.21   \n",
       "2021Q4              3.544264e+07          -2.372131          1.46   \n",
       "2022Q1              2.812370e+07         -20.650096          1.47   \n",
       "2022Q2              2.927515e+07           4.094242          3.54   \n",
       "2022Q3              2.858951e+07          -2.342088          4.32   \n",
       "2022Q4              2.814464e+07          -1.556056          2.69   \n",
       "2023Q1              2.874687e+07           2.139764          4.22   \n",
       "2023Q2              2.849596e+07          -0.872798          3.47   \n",
       "2023Q3              2.886496e+07           1.294902          1.96   \n",
       "2023Q4              2.975438e+07           3.081321          2.05   \n",
       "\n",
       "           elasticidade   fit_pct  \n",
       "trimestre                          \n",
       "2010Q2         0.785451  6.692042  \n",
       "2010Q3         0.785451  5.427466  \n",
       "2010Q4         0.785451  4.469216  \n",
       "2011Q1         0.785451  4.084345  \n",
       "2011Q2         0.785451  3.691619  \n",
       "2011Q3         0.785451  2.780496  \n",
       "2011Q4         0.785451  2.018609  \n",
       "2012Q1         0.785451  1.343121  \n",
       "2012Q2         0.785451  0.777596  \n",
       "2012Q3         0.785451  1.955773  \n",
       "2012Q4         0.785451  1.947918  \n",
       "2013Q1         0.785451  2.136427  \n",
       "2013Q2         0.785451  3.157513  \n",
       "2013Q3         0.785451  2.167845  \n",
       "2013Q4         0.785451  1.987191  \n",
       "2014Q1         0.785451  2.725515  \n",
       "2014Q2         0.785451 -0.345598  \n",
       "2014Q3         0.785451 -0.502689  \n",
       "2014Q4         0.785451 -0.180654  \n",
       "2015Q1         0.785451 -1.272431  \n",
       "2015Q2         0.785451 -2.152136  \n",
       "2015Q3         0.785451 -3.346021  \n",
       "2015Q4         0.785451 -4.335689  \n",
       "2016Q1         0.785451 -4.037218  \n",
       "2016Q2         0.785451 -2.529152  \n",
       "2016Q3         0.785451 -1.924355  \n",
       "2016Q4         0.785451 -1.775119  \n",
       "2017Q1         0.785451  0.219926  \n",
       "2017Q2         0.785451  0.620506  \n",
       "2017Q3         0.785451  1.288140  \n",
       "2017Q4         0.785451  2.026463  \n",
       "2018Q1         0.785451  1.492357  \n",
       "2018Q2         0.785451  1.272431  \n",
       "2018Q3         0.785451  1.618029  \n",
       "2018Q4         0.785451  1.217449  \n",
       "2019Q1         0.785451  0.706906  \n",
       "2019Q2         0.785451  0.918978  \n",
       "2019Q3         0.785451  0.871851  \n",
       "2019Q4         0.785451  1.327412  \n",
       "2020Q1         0.785451  0.322035  \n",
       "2020Q2         0.785451 -7.964473  \n",
       "2020Q3         0.785451 -2.387771  \n",
       "2020Q4         0.785451 -0.259199  \n",
       "2021Q1         0.785451  1.374539  \n",
       "2021Q2         0.785451  9.739592  \n",
       "2021Q3         0.785451  3.306748  \n",
       "2021Q4         0.785451  1.146758  \n",
       "2022Q1         0.785451  1.154613  \n",
       "2022Q2         0.785451  2.780496  \n",
       "2022Q3         0.785451  3.393148  \n",
       "2022Q4         0.785451  2.112863  \n",
       "2023Q1         0.785451  3.314603  \n",
       "2023Q2         0.785451  2.725515  \n",
       "2023Q3         0.785451  1.539484  \n",
       "2023Q4         0.785451  1.610174  "
      ]
     },
     "execution_count": 89,
     "metadata": {},
     "output_type": "execute_result"
    }
   ],
   "source": [
    "periodo = periodos[0]\n",
    "dict_curves_p1 = make_regression_curves(dict_veqs, df_pib, periodo, periodicidade,\n",
    "                                        drop_inverted=True, drop_X_negatives=False, fit_intercept=False)\n",
    "dict_curves_p1['VEQS_COMERCIAL']['AUTOPISTA FERNÃO DIAS']"
   ]
  },
  {
   "cell_type": "markdown",
   "id": "47887f17-04b3-49a2-8edb-2017cd733f5c",
   "metadata": {},
   "source": [
    "# Período 2 "
   ]
  },
  {
   "cell_type": "code",
   "execution_count": 90,
   "id": "2669ee0c-de51-4b22-8e32-2294d54f6d43",
   "metadata": {
    "collapsed": true,
    "execution": {
     "iopub.execute_input": "2024-09-11T21:18:02.268511Z",
     "iopub.status.busy": "2024-09-11T21:18:02.267855Z",
     "iopub.status.idle": "2024-09-11T21:18:03.278868Z",
     "shell.execute_reply": "2024-09-11T21:18:03.277092Z",
     "shell.execute_reply.started": "2024-09-11T21:18:02.268471Z"
    },
    "jupyter": {
     "outputs_hidden": true
    },
    "tags": []
   },
   "outputs": [
    {
     "data": {
      "text/html": [
       "<div>\n",
       "<style scoped>\n",
       "    .dataframe tbody tr th:only-of-type {\n",
       "        vertical-align: middle;\n",
       "    }\n",
       "\n",
       "    .dataframe tbody tr th {\n",
       "        vertical-align: top;\n",
       "    }\n",
       "\n",
       "    .dataframe thead th {\n",
       "        text-align: right;\n",
       "    }\n",
       "</style>\n",
       "<table border=\"1\" class=\"dataframe\">\n",
       "  <thead>\n",
       "    <tr style=\"text-align: right;\">\n",
       "      <th></th>\n",
       "      <th>CRO</th>\n",
       "      <th>delta_trafego_pct</th>\n",
       "      <th>pib_real_pct</th>\n",
       "      <th>elasticidade</th>\n",
       "      <th>fit_pct</th>\n",
       "    </tr>\n",
       "    <tr>\n",
       "      <th>trimestre</th>\n",
       "      <th></th>\n",
       "      <th></th>\n",
       "      <th></th>\n",
       "      <th></th>\n",
       "      <th></th>\n",
       "    </tr>\n",
       "  </thead>\n",
       "  <tbody>\n",
       "    <tr>\n",
       "      <th>2016Q1</th>\n",
       "      <td>2.180115e+07</td>\n",
       "      <td>-3.131261</td>\n",
       "      <td>-5.14</td>\n",
       "      <td>1.443333</td>\n",
       "      <td>-7.418734</td>\n",
       "    </tr>\n",
       "    <tr>\n",
       "      <th>2016Q2</th>\n",
       "      <td>2.071084e+07</td>\n",
       "      <td>-5.001140</td>\n",
       "      <td>-3.22</td>\n",
       "      <td>1.443333</td>\n",
       "      <td>-4.647534</td>\n",
       "    </tr>\n",
       "    <tr>\n",
       "      <th>2016Q3</th>\n",
       "      <td>1.968716e+07</td>\n",
       "      <td>-4.942743</td>\n",
       "      <td>-2.45</td>\n",
       "      <td>1.443333</td>\n",
       "      <td>-3.536167</td>\n",
       "    </tr>\n",
       "    <tr>\n",
       "      <th>2016Q4</th>\n",
       "      <td>1.587792e+07</td>\n",
       "      <td>-19.348835</td>\n",
       "      <td>-2.26</td>\n",
       "      <td>1.443333</td>\n",
       "      <td>-3.261934</td>\n",
       "    </tr>\n",
       "    <tr>\n",
       "      <th>2017Q1</th>\n",
       "      <td>1.876749e+07</td>\n",
       "      <td>18.198638</td>\n",
       "      <td>0.28</td>\n",
       "      <td>1.443333</td>\n",
       "      <td>0.404133</td>\n",
       "    </tr>\n",
       "    <tr>\n",
       "      <th>2017Q2</th>\n",
       "      <td>1.796686e+07</td>\n",
       "      <td>-4.266051</td>\n",
       "      <td>0.79</td>\n",
       "      <td>1.443333</td>\n",
       "      <td>1.140233</td>\n",
       "    </tr>\n",
       "    <tr>\n",
       "      <th>2017Q3</th>\n",
       "      <td>1.830011e+07</td>\n",
       "      <td>1.854803</td>\n",
       "      <td>1.64</td>\n",
       "      <td>1.443333</td>\n",
       "      <td>2.367067</td>\n",
       "    </tr>\n",
       "    <tr>\n",
       "      <th>2017Q4</th>\n",
       "      <td>2.093139e+07</td>\n",
       "      <td>14.378526</td>\n",
       "      <td>2.58</td>\n",
       "      <td>1.443333</td>\n",
       "      <td>3.723800</td>\n",
       "    </tr>\n",
       "    <tr>\n",
       "      <th>2018Q1</th>\n",
       "      <td>2.013491e+07</td>\n",
       "      <td>-3.805196</td>\n",
       "      <td>1.90</td>\n",
       "      <td>1.443333</td>\n",
       "      <td>2.742334</td>\n",
       "    </tr>\n",
       "    <tr>\n",
       "      <th>2018Q2</th>\n",
       "      <td>1.905227e+07</td>\n",
       "      <td>-5.376961</td>\n",
       "      <td>1.62</td>\n",
       "      <td>1.443333</td>\n",
       "      <td>2.338200</td>\n",
       "    </tr>\n",
       "    <tr>\n",
       "      <th>2018Q3</th>\n",
       "      <td>2.108599e+07</td>\n",
       "      <td>10.674440</td>\n",
       "      <td>2.06</td>\n",
       "      <td>1.443333</td>\n",
       "      <td>2.973267</td>\n",
       "    </tr>\n",
       "    <tr>\n",
       "      <th>2018Q4</th>\n",
       "      <td>2.123397e+07</td>\n",
       "      <td>0.701810</td>\n",
       "      <td>1.55</td>\n",
       "      <td>1.443333</td>\n",
       "      <td>2.237167</td>\n",
       "    </tr>\n",
       "    <tr>\n",
       "      <th>2019Q1</th>\n",
       "      <td>2.076768e+07</td>\n",
       "      <td>-2.195976</td>\n",
       "      <td>0.90</td>\n",
       "      <td>1.443333</td>\n",
       "      <td>1.299000</td>\n",
       "    </tr>\n",
       "    <tr>\n",
       "      <th>2019Q2</th>\n",
       "      <td>2.040198e+07</td>\n",
       "      <td>-1.760921</td>\n",
       "      <td>1.17</td>\n",
       "      <td>1.443333</td>\n",
       "      <td>1.688700</td>\n",
       "    </tr>\n",
       "    <tr>\n",
       "      <th>2019Q3</th>\n",
       "      <td>2.083200e+07</td>\n",
       "      <td>2.107749</td>\n",
       "      <td>1.11</td>\n",
       "      <td>1.443333</td>\n",
       "      <td>1.602100</td>\n",
       "    </tr>\n",
       "    <tr>\n",
       "      <th>2019Q4</th>\n",
       "      <td>2.019696e+07</td>\n",
       "      <td>-3.048405</td>\n",
       "      <td>1.69</td>\n",
       "      <td>1.443333</td>\n",
       "      <td>2.439234</td>\n",
       "    </tr>\n",
       "    <tr>\n",
       "      <th>2020Q1</th>\n",
       "      <td>2.104055e+07</td>\n",
       "      <td>4.176815</td>\n",
       "      <td>0.41</td>\n",
       "      <td>1.443333</td>\n",
       "      <td>0.591767</td>\n",
       "    </tr>\n",
       "    <tr>\n",
       "      <th>2020Q2</th>\n",
       "      <td>2.156043e+07</td>\n",
       "      <td>2.470881</td>\n",
       "      <td>-10.14</td>\n",
       "      <td>1.443333</td>\n",
       "      <td>-14.635402</td>\n",
       "    </tr>\n",
       "    <tr>\n",
       "      <th>2020Q3</th>\n",
       "      <td>2.213321e+07</td>\n",
       "      <td>2.656599</td>\n",
       "      <td>-3.04</td>\n",
       "      <td>1.443333</td>\n",
       "      <td>-4.387734</td>\n",
       "    </tr>\n",
       "    <tr>\n",
       "      <th>2020Q4</th>\n",
       "      <td>2.052833e+07</td>\n",
       "      <td>-7.250976</td>\n",
       "      <td>-0.33</td>\n",
       "      <td>1.443333</td>\n",
       "      <td>-0.476300</td>\n",
       "    </tr>\n",
       "    <tr>\n",
       "      <th>2021Q1</th>\n",
       "      <td>2.265397e+07</td>\n",
       "      <td>10.354660</td>\n",
       "      <td>1.75</td>\n",
       "      <td>1.443333</td>\n",
       "      <td>2.525834</td>\n",
       "    </tr>\n",
       "    <tr>\n",
       "      <th>2021Q2</th>\n",
       "      <td>2.351072e+07</td>\n",
       "      <td>3.781864</td>\n",
       "      <td>12.40</td>\n",
       "      <td>1.443333</td>\n",
       "      <td>17.897335</td>\n",
       "    </tr>\n",
       "    <tr>\n",
       "      <th>2021Q3</th>\n",
       "      <td>2.361009e+07</td>\n",
       "      <td>0.422697</td>\n",
       "      <td>4.21</td>\n",
       "      <td>1.443333</td>\n",
       "      <td>6.076434</td>\n",
       "    </tr>\n",
       "    <tr>\n",
       "      <th>2021Q4</th>\n",
       "      <td>2.361769e+07</td>\n",
       "      <td>0.032188</td>\n",
       "      <td>1.46</td>\n",
       "      <td>1.443333</td>\n",
       "      <td>2.107267</td>\n",
       "    </tr>\n",
       "    <tr>\n",
       "      <th>2022Q1</th>\n",
       "      <td>2.528186e+07</td>\n",
       "      <td>7.046259</td>\n",
       "      <td>1.47</td>\n",
       "      <td>1.443333</td>\n",
       "      <td>2.121700</td>\n",
       "    </tr>\n",
       "    <tr>\n",
       "      <th>2022Q2</th>\n",
       "      <td>2.463364e+07</td>\n",
       "      <td>-2.563978</td>\n",
       "      <td>3.54</td>\n",
       "      <td>1.443333</td>\n",
       "      <td>5.109401</td>\n",
       "    </tr>\n",
       "    <tr>\n",
       "      <th>2022Q3</th>\n",
       "      <td>2.405481e+07</td>\n",
       "      <td>-2.349732</td>\n",
       "      <td>4.32</td>\n",
       "      <td>1.443333</td>\n",
       "      <td>6.235201</td>\n",
       "    </tr>\n",
       "    <tr>\n",
       "      <th>2022Q4</th>\n",
       "      <td>2.399499e+07</td>\n",
       "      <td>-0.248678</td>\n",
       "      <td>2.69</td>\n",
       "      <td>1.443333</td>\n",
       "      <td>3.882567</td>\n",
       "    </tr>\n",
       "    <tr>\n",
       "      <th>2023Q1</th>\n",
       "      <td>2.489225e+07</td>\n",
       "      <td>3.739348</td>\n",
       "      <td>4.22</td>\n",
       "      <td>1.443333</td>\n",
       "      <td>6.090867</td>\n",
       "    </tr>\n",
       "    <tr>\n",
       "      <th>2023Q2</th>\n",
       "      <td>2.545885e+07</td>\n",
       "      <td>2.276210</td>\n",
       "      <td>3.47</td>\n",
       "      <td>1.443333</td>\n",
       "      <td>5.008367</td>\n",
       "    </tr>\n",
       "    <tr>\n",
       "      <th>2023Q3</th>\n",
       "      <td>2.586970e+07</td>\n",
       "      <td>1.613775</td>\n",
       "      <td>1.96</td>\n",
       "      <td>1.443333</td>\n",
       "      <td>2.828934</td>\n",
       "    </tr>\n",
       "    <tr>\n",
       "      <th>2023Q4</th>\n",
       "      <td>2.672731e+07</td>\n",
       "      <td>3.315135</td>\n",
       "      <td>2.05</td>\n",
       "      <td>1.443333</td>\n",
       "      <td>2.958834</td>\n",
       "    </tr>\n",
       "  </tbody>\n",
       "</table>\n",
       "</div>"
      ],
      "text/plain": [
       "                    CRO  delta_trafego_pct  pib_real_pct  elasticidade  \\\n",
       "trimestre                                                                \n",
       "2016Q1     2.180115e+07          -3.131261         -5.14      1.443333   \n",
       "2016Q2     2.071084e+07          -5.001140         -3.22      1.443333   \n",
       "2016Q3     1.968716e+07          -4.942743         -2.45      1.443333   \n",
       "2016Q4     1.587792e+07         -19.348835         -2.26      1.443333   \n",
       "2017Q1     1.876749e+07          18.198638          0.28      1.443333   \n",
       "2017Q2     1.796686e+07          -4.266051          0.79      1.443333   \n",
       "2017Q3     1.830011e+07           1.854803          1.64      1.443333   \n",
       "2017Q4     2.093139e+07          14.378526          2.58      1.443333   \n",
       "2018Q1     2.013491e+07          -3.805196          1.90      1.443333   \n",
       "2018Q2     1.905227e+07          -5.376961          1.62      1.443333   \n",
       "2018Q3     2.108599e+07          10.674440          2.06      1.443333   \n",
       "2018Q4     2.123397e+07           0.701810          1.55      1.443333   \n",
       "2019Q1     2.076768e+07          -2.195976          0.90      1.443333   \n",
       "2019Q2     2.040198e+07          -1.760921          1.17      1.443333   \n",
       "2019Q3     2.083200e+07           2.107749          1.11      1.443333   \n",
       "2019Q4     2.019696e+07          -3.048405          1.69      1.443333   \n",
       "2020Q1     2.104055e+07           4.176815          0.41      1.443333   \n",
       "2020Q2     2.156043e+07           2.470881        -10.14      1.443333   \n",
       "2020Q3     2.213321e+07           2.656599         -3.04      1.443333   \n",
       "2020Q4     2.052833e+07          -7.250976         -0.33      1.443333   \n",
       "2021Q1     2.265397e+07          10.354660          1.75      1.443333   \n",
       "2021Q2     2.351072e+07           3.781864         12.40      1.443333   \n",
       "2021Q3     2.361009e+07           0.422697          4.21      1.443333   \n",
       "2021Q4     2.361769e+07           0.032188          1.46      1.443333   \n",
       "2022Q1     2.528186e+07           7.046259          1.47      1.443333   \n",
       "2022Q2     2.463364e+07          -2.563978          3.54      1.443333   \n",
       "2022Q3     2.405481e+07          -2.349732          4.32      1.443333   \n",
       "2022Q4     2.399499e+07          -0.248678          2.69      1.443333   \n",
       "2023Q1     2.489225e+07           3.739348          4.22      1.443333   \n",
       "2023Q2     2.545885e+07           2.276210          3.47      1.443333   \n",
       "2023Q3     2.586970e+07           1.613775          1.96      1.443333   \n",
       "2023Q4     2.672731e+07           3.315135          2.05      1.443333   \n",
       "\n",
       "             fit_pct  \n",
       "trimestre             \n",
       "2016Q1     -7.418734  \n",
       "2016Q2     -4.647534  \n",
       "2016Q3     -3.536167  \n",
       "2016Q4     -3.261934  \n",
       "2017Q1      0.404133  \n",
       "2017Q2      1.140233  \n",
       "2017Q3      2.367067  \n",
       "2017Q4      3.723800  \n",
       "2018Q1      2.742334  \n",
       "2018Q2      2.338200  \n",
       "2018Q3      2.973267  \n",
       "2018Q4      2.237167  \n",
       "2019Q1      1.299000  \n",
       "2019Q2      1.688700  \n",
       "2019Q3      1.602100  \n",
       "2019Q4      2.439234  \n",
       "2020Q1      0.591767  \n",
       "2020Q2    -14.635402  \n",
       "2020Q3     -4.387734  \n",
       "2020Q4     -0.476300  \n",
       "2021Q1      2.525834  \n",
       "2021Q2     17.897335  \n",
       "2021Q3      6.076434  \n",
       "2021Q4      2.107267  \n",
       "2022Q1      2.121700  \n",
       "2022Q2      5.109401  \n",
       "2022Q3      6.235201  \n",
       "2022Q4      3.882567  \n",
       "2023Q1      6.090867  \n",
       "2023Q2      5.008367  \n",
       "2023Q3      2.828934  \n",
       "2023Q4      2.958834  "
      ]
     },
     "execution_count": 90,
     "metadata": {},
     "output_type": "execute_result"
    }
   ],
   "source": [
    "periodo = periodos[1]\n",
    "dict_curves_p2 = make_regression_curves(dict_veqs, df_pib, periodo, periodicidade,\n",
    "                                        drop_inverted=True, drop_X_negatives=False, fit_intercept=False)\n",
    "dict_curves_p2['VEQS_COMERCIAL']['CRO']"
   ]
  },
  {
   "cell_type": "markdown",
   "id": "dd1a2371-79bc-4054-b33a-28d07997ab07",
   "metadata": {},
   "source": [
    "# Plots das regressões\n"
   ]
  },
  {
   "cell_type": "code",
   "execution_count": 38,
   "id": "15d28893-1564-4adb-bff1-9032423cef58",
   "metadata": {
    "execution": {
     "iopub.execute_input": "2024-09-11T20:43:50.179291Z",
     "iopub.status.busy": "2024-09-11T20:43:50.178040Z",
     "iopub.status.idle": "2024-09-11T20:43:50.190514Z",
     "shell.execute_reply": "2024-09-11T20:43:50.188667Z",
     "shell.execute_reply.started": "2024-09-11T20:43:50.179212Z"
    },
    "tags": []
   },
   "outputs": [
    {
     "data": {
      "text/plain": [
       "PeriodIndex(['2015Q4', '2016Q1', '2016Q2', '2016Q3', '2016Q4', '2017Q1',\n",
       "             '2017Q2', '2017Q3', '2017Q4', '2018Q1', '2018Q2', '2018Q3',\n",
       "             '2018Q4', '2019Q1', '2019Q2', '2019Q3', '2019Q4', '2020Q1',\n",
       "             '2020Q2', '2020Q3', '2020Q4', '2021Q1', '2021Q2', '2021Q3',\n",
       "             '2021Q4', '2022Q1', '2022Q2', '2022Q3', '2022Q4', '2023Q1',\n",
       "             '2023Q2', '2023Q3', '2023Q4'],\n",
       "            dtype='period[Q-DEC]', name='trimestre')"
      ]
     },
     "execution_count": 38,
     "metadata": {},
     "output_type": "execute_result"
    }
   ],
   "source": [
    "dict_curves_p2['VEQS_COMERCIAL']['CRO'].index"
   ]
  },
  {
   "cell_type": "code",
   "execution_count": 107,
   "id": "d5ceefa2-fd19-4284-bc31-51b698af4530",
   "metadata": {
    "execution": {
     "iopub.execute_input": "2024-09-11T21:25:08.357070Z",
     "iopub.status.busy": "2024-09-11T21:25:08.356553Z",
     "iopub.status.idle": "2024-09-11T21:25:08.367675Z",
     "shell.execute_reply": "2024-09-11T21:25:08.366070Z",
     "shell.execute_reply.started": "2024-09-11T21:25:08.357019Z"
    },
    "tags": []
   },
   "outputs": [],
   "source": [
    "def make_plot(df_curves, veq, conc):\n",
    "    df_plot = df_curves.iloc[1:,:].copy()\n",
    "    df_plot.index = df_plot.index.to_timestamp(how='end')\n",
    "    \n",
    "    X = df_plot['pib_real_pct']\n",
    "    \n",
    "    fig = go.Figure()\n",
    "    \n",
    "    fig.add_trace(go.Scatter(\n",
    "    x=X, y=df_plot['delta_trafego_pct'],\n",
    "    mode='markers',\n",
    "    name='Observed Data'\n",
    "    ))\n",
    "    \n",
    "    fig.add_trace(go.Scatter(\n",
    "    x=X, y=df_plot['fit_pct'],\n",
    "    mode='lines',\n",
    "    name='Fitted line'\n",
    "    ))\n",
    "    \n",
    "    fig.update_layout(\n",
    "    title=f\"Regressão {conc}_{veq}\",\n",
    "    xaxis_title=\"delta PIB real\",\n",
    "    yaxis_title=\"delta tráfego\"\n",
    "    )\n",
    "    \n",
    "    fig.show()"
   ]
  },
  {
   "cell_type": "code",
   "execution_count": 108,
   "id": "eb53b3cd-20fc-47bb-a8f2-ad190030fa0f",
   "metadata": {
    "execution": {
     "iopub.execute_input": "2024-09-11T21:25:08.592227Z",
     "iopub.status.busy": "2024-09-11T21:25:08.590856Z",
     "iopub.status.idle": "2024-09-11T21:25:08.598021Z",
     "shell.execute_reply": "2024-09-11T21:25:08.596307Z",
     "shell.execute_reply.started": "2024-09-11T21:25:08.592162Z"
    },
    "tags": []
   },
   "outputs": [],
   "source": [
    "# def make_plot(df_curves, conc):\n",
    "#     df_plot = df_curves.iloc[1:,:].copy()\n",
    "#     df_plot.index = df_plot.index.to_timestamp(how='end')\n",
    "    \n",
    "#     X_axis = df_plot.index\n",
    "#     fig = px.line(df_plot, x=X_axis, y=df_plot['trafego_fit'], labels={'y': 'Values'})\n",
    "#     fig.add_scatter(x=X_axis, y=df_plot[conc], mode='markers', name='efetivo')\n",
    "    \n",
    "    \n",
    "    \n",
    "#     fig.show()"
   ]
  },
  {
   "cell_type": "code",
   "execution_count": 110,
   "id": "dd1b4404-6d02-4a5e-935c-fbfaf0156336",
   "metadata": {
    "execution": {
     "iopub.execute_input": "2024-09-11T21:25:16.216671Z",
     "iopub.status.busy": "2024-09-11T21:25:16.215982Z",
     "iopub.status.idle": "2024-09-11T21:25:16.258937Z",
     "shell.execute_reply": "2024-09-11T21:25:16.257026Z",
     "shell.execute_reply.started": "2024-09-11T21:25:16.216620Z"
    },
    "tags": []
   },
   "outputs": [
    {
     "data": {
      "application/vnd.plotly.v1+json": {
       "config": {
        "plotlyServerURL": "https://plot.ly"
       },
       "data": [
        {
         "mode": "markers",
         "name": "Observed Data",
         "type": "scatter",
         "x": [
          6.91,
          5.69,
          5.2,
          4.7,
          3.54,
          2.57,
          1.71,
          0.99,
          2.49,
          2.48,
          2.72,
          4.02,
          2.76,
          2.53,
          3.47,
          -0.44,
          -0.64,
          -0.23,
          -1.62,
          -2.74,
          -4.26,
          -5.52,
          -5.14,
          -3.22,
          -2.45,
          -2.26,
          0.28,
          0.79,
          1.64,
          2.58,
          1.9,
          1.62,
          2.06,
          1.55,
          0.9,
          1.17,
          1.11,
          1.69,
          0.41,
          -10.14,
          -3.04,
          -0.33,
          1.75,
          12.4,
          4.21,
          1.46,
          1.47,
          3.54,
          4.32,
          2.69,
          4.22,
          3.47,
          1.96,
          2.05
         ],
         "y": [
          6.060054207940047,
          13.677392110671693,
          2.824283003976258,
          0.843995391072272,
          2.815286501629255,
          -0.5174994384886555,
          3.6865920486487846,
          -2.0218753604218653,
          1.5436342065447084,
          -0.49945457510500724,
          -0.0889932677160088,
          4.618872497970816,
          -2.329895752947886,
          -0.7533870540149978,
          -1.0543503059710413,
          -2.568070466900141,
          1.073849680776351,
          -0.572790237739329,
          -4.5206733794537985,
          -7.4214617326987415,
          -3.5426090511514574,
          -1.6235275436436103,
          -0.16694324742929645,
          0.623658592511811,
          0.4108569282218033,
          -1.2318742158164087,
          3.11838138981686,
          -0.6834442373468974,
          2.3124372018719974,
          2.3606288549041787,
          0.6552304067223291,
          -4.97387274904979,
          4.104271815019156,
          -1.6831981631252324,
          18.641271186897114,
          0.5510712294088727,
          1.0428996672986468,
          3.181213209549383,
          -0.2798589647640459,
          -13.867944852637425,
          22.47065080760202,
          7.799117557608981,
          -4.295723780082095,
          6.52522492843286,
          1.3895174659986687,
          -2.372131351047635,
          -20.650095695495274,
          4.094242400539017,
          -2.342087666538639,
          -1.5560562587781046,
          2.139764146544021,
          -0.8727981511579053,
          1.294901500629031,
          3.0813209850896195
         ]
        },
        {
         "mode": "lines",
         "name": "Fitted line",
         "type": "scatter",
         "x": [
          6.91,
          5.69,
          5.2,
          4.7,
          3.54,
          2.57,
          1.71,
          0.99,
          2.49,
          2.48,
          2.72,
          4.02,
          2.76,
          2.53,
          3.47,
          -0.44,
          -0.64,
          -0.23,
          -1.62,
          -2.74,
          -4.26,
          -5.52,
          -5.14,
          -3.22,
          -2.45,
          -2.26,
          0.28,
          0.79,
          1.64,
          2.58,
          1.9,
          1.62,
          2.06,
          1.55,
          0.9,
          1.17,
          1.11,
          1.69,
          0.41,
          -10.14,
          -3.04,
          -0.33,
          1.75,
          12.4,
          4.21,
          1.46,
          1.47,
          3.54,
          4.32,
          2.69,
          4.22,
          3.47,
          1.96,
          2.05
         ],
         "y": [
          5.42746598178402,
          4.469215837387999,
          4.084344877753532,
          3.691619408738769,
          2.7804963206245192,
          2.01860891073588,
          1.3431211040304882,
          0.77759642864923,
          1.955772835693518,
          1.9479183263132227,
          2.1364265514403087,
          3.157512770878691,
          2.1678445889614895,
          1.9871908732146988,
          2.725514754962453,
          -0.34559841273299113,
          -0.5026886003388962,
          -0.18065371574679082,
          -1.272430519607831,
          -2.1521355702008993,
          -3.3460209960057776,
          -4.335689177922979,
          -4.03721782147176,
          -2.5291520204550717,
          -1.924354798172337,
          -1.7751191199467269,
          0.2199262626482671,
          0.620506241043325,
          1.2881395383684213,
          2.0264634201161753,
          1.492356782256098,
          1.272430519607831,
          1.6180289323408221,
          1.2174489539457642,
          0.7069058442265728,
          0.9189775974945446,
          0.8718505412127732,
          1.3274120852698976,
          0.32203488459210533,
          -7.964472511619387,
          -2.3877708516097567,
          -0.25919880954974334,
          1.3745391415516692,
          9.739591631566114,
          3.306748449104301,
          1.146758369523107,
          1.154612878903402,
          2.7804963206245192,
          3.3931480522875495,
          2.1128630232994228,
          3.3146029584845964,
          2.725514754962453,
          1.5394838385378695,
          1.6101744229605266
         ]
        }
       ],
       "layout": {
        "autosize": true,
        "template": {
         "data": {
          "bar": [
           {
            "error_x": {
             "color": "#2a3f5f"
            },
            "error_y": {
             "color": "#2a3f5f"
            },
            "marker": {
             "line": {
              "color": "#E5ECF6",
              "width": 0.5
             },
             "pattern": {
              "fillmode": "overlay",
              "size": 10,
              "solidity": 0.2
             }
            },
            "type": "bar"
           }
          ],
          "barpolar": [
           {
            "marker": {
             "line": {
              "color": "#E5ECF6",
              "width": 0.5
             },
             "pattern": {
              "fillmode": "overlay",
              "size": 10,
              "solidity": 0.2
             }
            },
            "type": "barpolar"
           }
          ],
          "carpet": [
           {
            "aaxis": {
             "endlinecolor": "#2a3f5f",
             "gridcolor": "white",
             "linecolor": "white",
             "minorgridcolor": "white",
             "startlinecolor": "#2a3f5f"
            },
            "baxis": {
             "endlinecolor": "#2a3f5f",
             "gridcolor": "white",
             "linecolor": "white",
             "minorgridcolor": "white",
             "startlinecolor": "#2a3f5f"
            },
            "type": "carpet"
           }
          ],
          "choropleth": [
           {
            "colorbar": {
             "outlinewidth": 0,
             "ticks": ""
            },
            "type": "choropleth"
           }
          ],
          "contour": [
           {
            "colorbar": {
             "outlinewidth": 0,
             "ticks": ""
            },
            "colorscale": [
             [
              0,
              "#0d0887"
             ],
             [
              0.1111111111111111,
              "#46039f"
             ],
             [
              0.2222222222222222,
              "#7201a8"
             ],
             [
              0.3333333333333333,
              "#9c179e"
             ],
             [
              0.4444444444444444,
              "#bd3786"
             ],
             [
              0.5555555555555556,
              "#d8576b"
             ],
             [
              0.6666666666666666,
              "#ed7953"
             ],
             [
              0.7777777777777778,
              "#fb9f3a"
             ],
             [
              0.8888888888888888,
              "#fdca26"
             ],
             [
              1,
              "#f0f921"
             ]
            ],
            "type": "contour"
           }
          ],
          "contourcarpet": [
           {
            "colorbar": {
             "outlinewidth": 0,
             "ticks": ""
            },
            "type": "contourcarpet"
           }
          ],
          "heatmap": [
           {
            "colorbar": {
             "outlinewidth": 0,
             "ticks": ""
            },
            "colorscale": [
             [
              0,
              "#0d0887"
             ],
             [
              0.1111111111111111,
              "#46039f"
             ],
             [
              0.2222222222222222,
              "#7201a8"
             ],
             [
              0.3333333333333333,
              "#9c179e"
             ],
             [
              0.4444444444444444,
              "#bd3786"
             ],
             [
              0.5555555555555556,
              "#d8576b"
             ],
             [
              0.6666666666666666,
              "#ed7953"
             ],
             [
              0.7777777777777778,
              "#fb9f3a"
             ],
             [
              0.8888888888888888,
              "#fdca26"
             ],
             [
              1,
              "#f0f921"
             ]
            ],
            "type": "heatmap"
           }
          ],
          "heatmapgl": [
           {
            "colorbar": {
             "outlinewidth": 0,
             "ticks": ""
            },
            "colorscale": [
             [
              0,
              "#0d0887"
             ],
             [
              0.1111111111111111,
              "#46039f"
             ],
             [
              0.2222222222222222,
              "#7201a8"
             ],
             [
              0.3333333333333333,
              "#9c179e"
             ],
             [
              0.4444444444444444,
              "#bd3786"
             ],
             [
              0.5555555555555556,
              "#d8576b"
             ],
             [
              0.6666666666666666,
              "#ed7953"
             ],
             [
              0.7777777777777778,
              "#fb9f3a"
             ],
             [
              0.8888888888888888,
              "#fdca26"
             ],
             [
              1,
              "#f0f921"
             ]
            ],
            "type": "heatmapgl"
           }
          ],
          "histogram": [
           {
            "marker": {
             "pattern": {
              "fillmode": "overlay",
              "size": 10,
              "solidity": 0.2
             }
            },
            "type": "histogram"
           }
          ],
          "histogram2d": [
           {
            "colorbar": {
             "outlinewidth": 0,
             "ticks": ""
            },
            "colorscale": [
             [
              0,
              "#0d0887"
             ],
             [
              0.1111111111111111,
              "#46039f"
             ],
             [
              0.2222222222222222,
              "#7201a8"
             ],
             [
              0.3333333333333333,
              "#9c179e"
             ],
             [
              0.4444444444444444,
              "#bd3786"
             ],
             [
              0.5555555555555556,
              "#d8576b"
             ],
             [
              0.6666666666666666,
              "#ed7953"
             ],
             [
              0.7777777777777778,
              "#fb9f3a"
             ],
             [
              0.8888888888888888,
              "#fdca26"
             ],
             [
              1,
              "#f0f921"
             ]
            ],
            "type": "histogram2d"
           }
          ],
          "histogram2dcontour": [
           {
            "colorbar": {
             "outlinewidth": 0,
             "ticks": ""
            },
            "colorscale": [
             [
              0,
              "#0d0887"
             ],
             [
              0.1111111111111111,
              "#46039f"
             ],
             [
              0.2222222222222222,
              "#7201a8"
             ],
             [
              0.3333333333333333,
              "#9c179e"
             ],
             [
              0.4444444444444444,
              "#bd3786"
             ],
             [
              0.5555555555555556,
              "#d8576b"
             ],
             [
              0.6666666666666666,
              "#ed7953"
             ],
             [
              0.7777777777777778,
              "#fb9f3a"
             ],
             [
              0.8888888888888888,
              "#fdca26"
             ],
             [
              1,
              "#f0f921"
             ]
            ],
            "type": "histogram2dcontour"
           }
          ],
          "mesh3d": [
           {
            "colorbar": {
             "outlinewidth": 0,
             "ticks": ""
            },
            "type": "mesh3d"
           }
          ],
          "parcoords": [
           {
            "line": {
             "colorbar": {
              "outlinewidth": 0,
              "ticks": ""
             }
            },
            "type": "parcoords"
           }
          ],
          "pie": [
           {
            "automargin": true,
            "type": "pie"
           }
          ],
          "scatter": [
           {
            "fillpattern": {
             "fillmode": "overlay",
             "size": 10,
             "solidity": 0.2
            },
            "type": "scatter"
           }
          ],
          "scatter3d": [
           {
            "line": {
             "colorbar": {
              "outlinewidth": 0,
              "ticks": ""
             }
            },
            "marker": {
             "colorbar": {
              "outlinewidth": 0,
              "ticks": ""
             }
            },
            "type": "scatter3d"
           }
          ],
          "scattercarpet": [
           {
            "marker": {
             "colorbar": {
              "outlinewidth": 0,
              "ticks": ""
             }
            },
            "type": "scattercarpet"
           }
          ],
          "scattergeo": [
           {
            "marker": {
             "colorbar": {
              "outlinewidth": 0,
              "ticks": ""
             }
            },
            "type": "scattergeo"
           }
          ],
          "scattergl": [
           {
            "marker": {
             "colorbar": {
              "outlinewidth": 0,
              "ticks": ""
             }
            },
            "type": "scattergl"
           }
          ],
          "scattermapbox": [
           {
            "marker": {
             "colorbar": {
              "outlinewidth": 0,
              "ticks": ""
             }
            },
            "type": "scattermapbox"
           }
          ],
          "scatterpolar": [
           {
            "marker": {
             "colorbar": {
              "outlinewidth": 0,
              "ticks": ""
             }
            },
            "type": "scatterpolar"
           }
          ],
          "scatterpolargl": [
           {
            "marker": {
             "colorbar": {
              "outlinewidth": 0,
              "ticks": ""
             }
            },
            "type": "scatterpolargl"
           }
          ],
          "scatterternary": [
           {
            "marker": {
             "colorbar": {
              "outlinewidth": 0,
              "ticks": ""
             }
            },
            "type": "scatterternary"
           }
          ],
          "surface": [
           {
            "colorbar": {
             "outlinewidth": 0,
             "ticks": ""
            },
            "colorscale": [
             [
              0,
              "#0d0887"
             ],
             [
              0.1111111111111111,
              "#46039f"
             ],
             [
              0.2222222222222222,
              "#7201a8"
             ],
             [
              0.3333333333333333,
              "#9c179e"
             ],
             [
              0.4444444444444444,
              "#bd3786"
             ],
             [
              0.5555555555555556,
              "#d8576b"
             ],
             [
              0.6666666666666666,
              "#ed7953"
             ],
             [
              0.7777777777777778,
              "#fb9f3a"
             ],
             [
              0.8888888888888888,
              "#fdca26"
             ],
             [
              1,
              "#f0f921"
             ]
            ],
            "type": "surface"
           }
          ],
          "table": [
           {
            "cells": {
             "fill": {
              "color": "#EBF0F8"
             },
             "line": {
              "color": "white"
             }
            },
            "header": {
             "fill": {
              "color": "#C8D4E3"
             },
             "line": {
              "color": "white"
             }
            },
            "type": "table"
           }
          ]
         },
         "layout": {
          "annotationdefaults": {
           "arrowcolor": "#2a3f5f",
           "arrowhead": 0,
           "arrowwidth": 1
          },
          "autotypenumbers": "strict",
          "coloraxis": {
           "colorbar": {
            "outlinewidth": 0,
            "ticks": ""
           }
          },
          "colorscale": {
           "diverging": [
            [
             0,
             "#8e0152"
            ],
            [
             0.1,
             "#c51b7d"
            ],
            [
             0.2,
             "#de77ae"
            ],
            [
             0.3,
             "#f1b6da"
            ],
            [
             0.4,
             "#fde0ef"
            ],
            [
             0.5,
             "#f7f7f7"
            ],
            [
             0.6,
             "#e6f5d0"
            ],
            [
             0.7,
             "#b8e186"
            ],
            [
             0.8,
             "#7fbc41"
            ],
            [
             0.9,
             "#4d9221"
            ],
            [
             1,
             "#276419"
            ]
           ],
           "sequential": [
            [
             0,
             "#0d0887"
            ],
            [
             0.1111111111111111,
             "#46039f"
            ],
            [
             0.2222222222222222,
             "#7201a8"
            ],
            [
             0.3333333333333333,
             "#9c179e"
            ],
            [
             0.4444444444444444,
             "#bd3786"
            ],
            [
             0.5555555555555556,
             "#d8576b"
            ],
            [
             0.6666666666666666,
             "#ed7953"
            ],
            [
             0.7777777777777778,
             "#fb9f3a"
            ],
            [
             0.8888888888888888,
             "#fdca26"
            ],
            [
             1,
             "#f0f921"
            ]
           ],
           "sequentialminus": [
            [
             0,
             "#0d0887"
            ],
            [
             0.1111111111111111,
             "#46039f"
            ],
            [
             0.2222222222222222,
             "#7201a8"
            ],
            [
             0.3333333333333333,
             "#9c179e"
            ],
            [
             0.4444444444444444,
             "#bd3786"
            ],
            [
             0.5555555555555556,
             "#d8576b"
            ],
            [
             0.6666666666666666,
             "#ed7953"
            ],
            [
             0.7777777777777778,
             "#fb9f3a"
            ],
            [
             0.8888888888888888,
             "#fdca26"
            ],
            [
             1,
             "#f0f921"
            ]
           ]
          },
          "colorway": [
           "#636efa",
           "#EF553B",
           "#00cc96",
           "#ab63fa",
           "#FFA15A",
           "#19d3f3",
           "#FF6692",
           "#B6E880",
           "#FF97FF",
           "#FECB52"
          ],
          "font": {
           "color": "#2a3f5f"
          },
          "geo": {
           "bgcolor": "white",
           "lakecolor": "white",
           "landcolor": "#E5ECF6",
           "showlakes": true,
           "showland": true,
           "subunitcolor": "white"
          },
          "hoverlabel": {
           "align": "left"
          },
          "hovermode": "closest",
          "mapbox": {
           "style": "light"
          },
          "paper_bgcolor": "white",
          "plot_bgcolor": "#E5ECF6",
          "polar": {
           "angularaxis": {
            "gridcolor": "white",
            "linecolor": "white",
            "ticks": ""
           },
           "bgcolor": "#E5ECF6",
           "radialaxis": {
            "gridcolor": "white",
            "linecolor": "white",
            "ticks": ""
           }
          },
          "scene": {
           "xaxis": {
            "backgroundcolor": "#E5ECF6",
            "gridcolor": "white",
            "gridwidth": 2,
            "linecolor": "white",
            "showbackground": true,
            "ticks": "",
            "zerolinecolor": "white"
           },
           "yaxis": {
            "backgroundcolor": "#E5ECF6",
            "gridcolor": "white",
            "gridwidth": 2,
            "linecolor": "white",
            "showbackground": true,
            "ticks": "",
            "zerolinecolor": "white"
           },
           "zaxis": {
            "backgroundcolor": "#E5ECF6",
            "gridcolor": "white",
            "gridwidth": 2,
            "linecolor": "white",
            "showbackground": true,
            "ticks": "",
            "zerolinecolor": "white"
           }
          },
          "shapedefaults": {
           "line": {
            "color": "#2a3f5f"
           }
          },
          "ternary": {
           "aaxis": {
            "gridcolor": "white",
            "linecolor": "white",
            "ticks": ""
           },
           "baxis": {
            "gridcolor": "white",
            "linecolor": "white",
            "ticks": ""
           },
           "bgcolor": "#E5ECF6",
           "caxis": {
            "gridcolor": "white",
            "linecolor": "white",
            "ticks": ""
           }
          },
          "title": {
           "x": 0.05
          },
          "xaxis": {
           "automargin": true,
           "gridcolor": "white",
           "linecolor": "white",
           "ticks": "",
           "title": {
            "standoff": 15
           },
           "zerolinecolor": "white",
           "zerolinewidth": 2
          },
          "yaxis": {
           "automargin": true,
           "gridcolor": "white",
           "linecolor": "white",
           "ticks": "",
           "title": {
            "standoff": 15
           },
           "zerolinecolor": "white",
           "zerolinewidth": 2
          }
         }
        },
        "title": {
         "text": "Regressão AUTOPISTA FERNÃO DIAS_VEQS_COMERCIAL"
        },
        "xaxis": {
         "autorange": true,
         "range": [
          -11.521423854725548,
          13.781423854725547
         ],
         "title": {
          "text": "delta PIB real"
         },
         "type": "linear"
        },
        "yaxis": {
         "autorange": true,
         "range": [
          -24.208603902061554,
          26.0291590141683
         ],
         "title": {
          "text": "delta tráfego"
         },
         "type": "linear"
        }
       }
      },
      "image/png": "[encoded data removed]",
      "text/html": [
       "<div>                            <div id=\"cefc06b5-e3c3-4f79-bc0b-e0faa493758b\" class=\"plotly-graph-div\" style=\"height:525px; width:100%;\"></div>            <script type=\"text/javascript\">                require([\"plotly\"], function(Plotly) {                    window.PLOTLYENV=window.PLOTLYENV || {};                                    if (document.getElementById(\"cefc06b5-e3c3-4f79-bc0b-e0faa493758b\")) {                    Plotly.newPlot(                        \"cefc06b5-e3c3-4f79-bc0b-e0faa493758b\",                        [{\"mode\":\"markers\",\"name\":\"Observed Data\",\"x\":[6.91,5.69,5.2,4.7,3.54,2.57,1.71,0.99,2.49,2.48,2.72,4.02,2.76,2.53,3.47,-0.44,-0.64,-0.23,-1.62,-2.74,-4.26,-5.52,-5.14,-3.22,-2.45,-2.26,0.28,0.79,1.64,2.58,1.9,1.62,2.06,1.55,0.9,1.17,1.11,1.69,0.41,-10.14,-3.04,-0.33,1.75,12.4,4.21,1.46,1.47,3.54,4.32,2.69,4.22,3.47,1.96,2.05],\"y\":[6.060054207940047,13.677392110671693,2.824283003976258,0.843995391072272,2.815286501629255,-0.5174994384886555,3.6865920486487846,-2.0218753604218653,1.5436342065447084,-0.49945457510500724,-0.0889932677160088,4.618872497970816,-2.329895752947886,-0.7533870540149978,-1.0543503059710413,-2.568070466900141,1.073849680776351,-0.572790237739329,-4.5206733794537985,-7.4214617326987415,-3.5426090511514574,-1.6235275436436103,-0.16694324742929645,0.623658592511811,0.4108569282218033,-1.2318742158164087,3.11838138981686,-0.6834442373468974,2.3124372018719974,2.3606288549041787,0.6552304067223291,-4.97387274904979,4.104271815019156,-1.6831981631252324,18.641271186897114,0.5510712294088727,1.0428996672986468,3.181213209549383,-0.2798589647640459,-13.867944852637425,22.47065080760202,7.799117557608981,-4.295723780082095,6.52522492843286,1.3895174659986687,-2.372131351047635,-20.650095695495274,4.094242400539017,-2.342087666538639,-1.5560562587781046,2.139764146544021,-0.8727981511579053,1.294901500629031,3.0813209850896195],\"type\":\"scatter\"},{\"mode\":\"lines\",\"name\":\"Fitted line\",\"x\":[6.91,5.69,5.2,4.7,3.54,2.57,1.71,0.99,2.49,2.48,2.72,4.02,2.76,2.53,3.47,-0.44,-0.64,-0.23,-1.62,-2.74,-4.26,-5.52,-5.14,-3.22,-2.45,-2.26,0.28,0.79,1.64,2.58,1.9,1.62,2.06,1.55,0.9,1.17,1.11,1.69,0.41,-10.14,-3.04,-0.33,1.75,12.4,4.21,1.46,1.47,3.54,4.32,2.69,4.22,3.47,1.96,2.05],\"y\":[5.42746598178402,4.469215837387999,4.084344877753532,3.691619408738769,2.7804963206245192,2.01860891073588,1.3431211040304882,0.77759642864923,1.955772835693518,1.9479183263132227,2.1364265514403087,3.157512770878691,2.1678445889614895,1.9871908732146988,2.725514754962453,-0.34559841273299113,-0.5026886003388962,-0.18065371574679082,-1.272430519607831,-2.1521355702008993,-3.3460209960057776,-4.335689177922979,-4.03721782147176,-2.5291520204550717,-1.924354798172337,-1.7751191199467269,0.2199262626482671,0.620506241043325,1.2881395383684213,2.0264634201161753,1.492356782256098,1.272430519607831,1.6180289323408221,1.2174489539457642,0.7069058442265728,0.9189775974945446,0.8718505412127732,1.3274120852698976,0.32203488459210533,-7.964472511619387,-2.3877708516097567,-0.25919880954974334,1.3745391415516692,9.739591631566114,3.306748449104301,1.146758369523107,1.154612878903402,2.7804963206245192,3.3931480522875495,2.1128630232994228,3.3146029584845964,2.725514754962453,1.5394838385378695,1.6101744229605266],\"type\":\"scatter\"}],                        {\"template\":{\"data\":{\"histogram2dcontour\":[{\"type\":\"histogram2dcontour\",\"colorbar\":{\"outlinewidth\":0,\"ticks\":\"\"},\"colorscale\":[[0.0,\"#0d0887\"],[0.1111111111111111,\"#46039f\"],[0.2222222222222222,\"#7201a8\"],[0.3333333333333333,\"#9c179e\"],[0.4444444444444444,\"#bd3786\"],[0.5555555555555556,\"#d8576b\"],[0.6666666666666666,\"#ed7953\"],[0.7777777777777778,\"#fb9f3a\"],[0.8888888888888888,\"#fdca26\"],[1.0,\"#f0f921\"]]}],\"choropleth\":[{\"type\":\"choropleth\",\"colorbar\":{\"outlinewidth\":0,\"ticks\":\"\"}}],\"histogram2d\":[{\"type\":\"histogram2d\",\"colorbar\":{\"outlinewidth\":0,\"ticks\":\"\"},\"colorscale\":[[0.0,\"#0d0887\"],[0.1111111111111111,\"#46039f\"],[0.2222222222222222,\"#7201a8\"],[0.3333333333333333,\"#9c179e\"],[0.4444444444444444,\"#bd3786\"],[0.5555555555555556,\"#d8576b\"],[0.6666666666666666,\"#ed7953\"],[0.7777777777777778,\"#fb9f3a\"],[0.8888888888888888,\"#fdca26\"],[1.0,\"#f0f921\"]]}],\"heatmap\":[{\"type\":\"heatmap\",\"colorbar\":{\"outlinewidth\":0,\"ticks\":\"\"},\"colorscale\":[[0.0,\"#0d0887\"],[0.1111111111111111,\"#46039f\"],[0.2222222222222222,\"#7201a8\"],[0.3333333333333333,\"#9c179e\"],[0.4444444444444444,\"#bd3786\"],[0.5555555555555556,\"#d8576b\"],[0.6666666666666666,\"#ed7953\"],[0.7777777777777778,\"#fb9f3a\"],[0.8888888888888888,\"#fdca26\"],[1.0,\"#f0f921\"]]}],\"heatmapgl\":[{\"type\":\"heatmapgl\",\"colorbar\":{\"outlinewidth\":0,\"ticks\":\"\"},\"colorscale\":[[0.0,\"#0d0887\"],[0.1111111111111111,\"#46039f\"],[0.2222222222222222,\"#7201a8\"],[0.3333333333333333,\"#9c179e\"],[0.4444444444444444,\"#bd3786\"],[0.5555555555555556,\"#d8576b\"],[0.6666666666666666,\"#ed7953\"],[0.7777777777777778,\"#fb9f3a\"],[0.8888888888888888,\"#fdca26\"],[1.0,\"#f0f921\"]]}],\"contourcarpet\":[{\"type\":\"contourcarpet\",\"colorbar\":{\"outlinewidth\":0,\"ticks\":\"\"}}],\"contour\":[{\"type\":\"contour\",\"colorbar\":{\"outlinewidth\":0,\"ticks\":\"\"},\"colorscale\":[[0.0,\"#0d0887\"],[0.1111111111111111,\"#46039f\"],[0.2222222222222222,\"#7201a8\"],[0.3333333333333333,\"#9c179e\"],[0.4444444444444444,\"#bd3786\"],[0.5555555555555556,\"#d8576b\"],[0.6666666666666666,\"#ed7953\"],[0.7777777777777778,\"#fb9f3a\"],[0.8888888888888888,\"#fdca26\"],[1.0,\"#f0f921\"]]}],\"surface\":[{\"type\":\"surface\",\"colorbar\":{\"outlinewidth\":0,\"ticks\":\"\"},\"colorscale\":[[0.0,\"#0d0887\"],[0.1111111111111111,\"#46039f\"],[0.2222222222222222,\"#7201a8\"],[0.3333333333333333,\"#9c179e\"],[0.4444444444444444,\"#bd3786\"],[0.5555555555555556,\"#d8576b\"],[0.6666666666666666,\"#ed7953\"],[0.7777777777777778,\"#fb9f3a\"],[0.8888888888888888,\"#fdca26\"],[1.0,\"#f0f921\"]]}],\"mesh3d\":[{\"type\":\"mesh3d\",\"colorbar\":{\"outlinewidth\":0,\"ticks\":\"\"}}],\"scatter\":[{\"fillpattern\":{\"fillmode\":\"overlay\",\"size\":10,\"solidity\":0.2},\"type\":\"scatter\"}],\"parcoords\":[{\"type\":\"parcoords\",\"line\":{\"colorbar\":{\"outlinewidth\":0,\"ticks\":\"\"}}}],\"scatterpolargl\":[{\"type\":\"scatterpolargl\",\"marker\":{\"colorbar\":{\"outlinewidth\":0,\"ticks\":\"\"}}}],\"bar\":[{\"error_x\":{\"color\":\"#2a3f5f\"},\"error_y\":{\"color\":\"#2a3f5f\"},\"marker\":{\"line\":{\"color\":\"#E5ECF6\",\"width\":0.5},\"pattern\":{\"fillmode\":\"overlay\",\"size\":10,\"solidity\":0.2}},\"type\":\"bar\"}],\"scattergeo\":[{\"type\":\"scattergeo\",\"marker\":{\"colorbar\":{\"outlinewidth\":0,\"ticks\":\"\"}}}],\"scatterpolar\":[{\"type\":\"scatterpolar\",\"marker\":{\"colorbar\":{\"outlinewidth\":0,\"ticks\":\"\"}}}],\"histogram\":[{\"marker\":{\"pattern\":{\"fillmode\":\"overlay\",\"size\":10,\"solidity\":0.2}},\"type\":\"histogram\"}],\"scattergl\":[{\"type\":\"scattergl\",\"marker\":{\"colorbar\":{\"outlinewidth\":0,\"ticks\":\"\"}}}],\"scatter3d\":[{\"type\":\"scatter3d\",\"line\":{\"colorbar\":{\"outlinewidth\":0,\"ticks\":\"\"}},\"marker\":{\"colorbar\":{\"outlinewidth\":0,\"ticks\":\"\"}}}],\"scattermapbox\":[{\"type\":\"scattermapbox\",\"marker\":{\"colorbar\":{\"outlinewidth\":0,\"ticks\":\"\"}}}],\"scatterternary\":[{\"type\":\"scatterternary\",\"marker\":{\"colorbar\":{\"outlinewidth\":0,\"ticks\":\"\"}}}],\"scattercarpet\":[{\"type\":\"scattercarpet\",\"marker\":{\"colorbar\":{\"outlinewidth\":0,\"ticks\":\"\"}}}],\"carpet\":[{\"aaxis\":{\"endlinecolor\":\"#2a3f5f\",\"gridcolor\":\"white\",\"linecolor\":\"white\",\"minorgridcolor\":\"white\",\"startlinecolor\":\"#2a3f5f\"},\"baxis\":{\"endlinecolor\":\"#2a3f5f\",\"gridcolor\":\"white\",\"linecolor\":\"white\",\"minorgridcolor\":\"white\",\"startlinecolor\":\"#2a3f5f\"},\"type\":\"carpet\"}],\"table\":[{\"cells\":{\"fill\":{\"color\":\"#EBF0F8\"},\"line\":{\"color\":\"white\"}},\"header\":{\"fill\":{\"color\":\"#C8D4E3\"},\"line\":{\"color\":\"white\"}},\"type\":\"table\"}],\"barpolar\":[{\"marker\":{\"line\":{\"color\":\"#E5ECF6\",\"width\":0.5},\"pattern\":{\"fillmode\":\"overlay\",\"size\":10,\"solidity\":0.2}},\"type\":\"barpolar\"}],\"pie\":[{\"automargin\":true,\"type\":\"pie\"}]},\"layout\":{\"autotypenumbers\":\"strict\",\"colorway\":[\"#636efa\",\"#EF553B\",\"#00cc96\",\"#ab63fa\",\"#FFA15A\",\"#19d3f3\",\"#FF6692\",\"#B6E880\",\"#FF97FF\",\"#FECB52\"],\"font\":{\"color\":\"#2a3f5f\"},\"hovermode\":\"closest\",\"hoverlabel\":{\"align\":\"left\"},\"paper_bgcolor\":\"white\",\"plot_bgcolor\":\"#E5ECF6\",\"polar\":{\"bgcolor\":\"#E5ECF6\",\"angularaxis\":{\"gridcolor\":\"white\",\"linecolor\":\"white\",\"ticks\":\"\"},\"radialaxis\":{\"gridcolor\":\"white\",\"linecolor\":\"white\",\"ticks\":\"\"}},\"ternary\":{\"bgcolor\":\"#E5ECF6\",\"aaxis\":{\"gridcolor\":\"white\",\"linecolor\":\"white\",\"ticks\":\"\"},\"baxis\":{\"gridcolor\":\"white\",\"linecolor\":\"white\",\"ticks\":\"\"},\"caxis\":{\"gridcolor\":\"white\",\"linecolor\":\"white\",\"ticks\":\"\"}},\"coloraxis\":{\"colorbar\":{\"outlinewidth\":0,\"ticks\":\"\"}},\"colorscale\":{\"sequential\":[[0.0,\"#0d0887\"],[0.1111111111111111,\"#46039f\"],[0.2222222222222222,\"#7201a8\"],[0.3333333333333333,\"#9c179e\"],[0.4444444444444444,\"#bd3786\"],[0.5555555555555556,\"#d8576b\"],[0.6666666666666666,\"#ed7953\"],[0.7777777777777778,\"#fb9f3a\"],[0.8888888888888888,\"#fdca26\"],[1.0,\"#f0f921\"]],\"sequentialminus\":[[0.0,\"#0d0887\"],[0.1111111111111111,\"#46039f\"],[0.2222222222222222,\"#7201a8\"],[0.3333333333333333,\"#9c179e\"],[0.4444444444444444,\"#bd3786\"],[0.5555555555555556,\"#d8576b\"],[0.6666666666666666,\"#ed7953\"],[0.7777777777777778,\"#fb9f3a\"],[0.8888888888888888,\"#fdca26\"],[1.0,\"#f0f921\"]],\"diverging\":[[0,\"#8e0152\"],[0.1,\"#c51b7d\"],[0.2,\"#de77ae\"],[0.3,\"#f1b6da\"],[0.4,\"#fde0ef\"],[0.5,\"#f7f7f7\"],[0.6,\"#e6f5d0\"],[0.7,\"#b8e186\"],[0.8,\"#7fbc41\"],[0.9,\"#4d9221\"],[1,\"#276419\"]]},\"xaxis\":{\"gridcolor\":\"white\",\"linecolor\":\"white\",\"ticks\":\"\",\"title\":{\"standoff\":15},\"zerolinecolor\":\"white\",\"automargin\":true,\"zerolinewidth\":2},\"yaxis\":{\"gridcolor\":\"white\",\"linecolor\":\"white\",\"ticks\":\"\",\"title\":{\"standoff\":15},\"zerolinecolor\":\"white\",\"automargin\":true,\"zerolinewidth\":2},\"scene\":{\"xaxis\":{\"backgroundcolor\":\"#E5ECF6\",\"gridcolor\":\"white\",\"linecolor\":\"white\",\"showbackground\":true,\"ticks\":\"\",\"zerolinecolor\":\"white\",\"gridwidth\":2},\"yaxis\":{\"backgroundcolor\":\"#E5ECF6\",\"gridcolor\":\"white\",\"linecolor\":\"white\",\"showbackground\":true,\"ticks\":\"\",\"zerolinecolor\":\"white\",\"gridwidth\":2},\"zaxis\":{\"backgroundcolor\":\"#E5ECF6\",\"gridcolor\":\"white\",\"linecolor\":\"white\",\"showbackground\":true,\"ticks\":\"\",\"zerolinecolor\":\"white\",\"gridwidth\":2}},\"shapedefaults\":{\"line\":{\"color\":\"#2a3f5f\"}},\"annotationdefaults\":{\"arrowcolor\":\"#2a3f5f\",\"arrowhead\":0,\"arrowwidth\":1},\"geo\":{\"bgcolor\":\"white\",\"landcolor\":\"#E5ECF6\",\"subunitcolor\":\"white\",\"showland\":true,\"showlakes\":true,\"lakecolor\":\"white\"},\"title\":{\"x\":0.05},\"mapbox\":{\"style\":\"light\"}}},\"title\":{\"text\":\"Regress\\u00e3o AUTOPISTA FERN\\u00c3O DIAS_VEQS_COMERCIAL\"},\"xaxis\":{\"title\":{\"text\":\"delta PIB real\"}},\"yaxis\":{\"title\":{\"text\":\"delta tr\\u00e1fego\"}}},                        {\"responsive\": true}                    ).then(function(){\n",
       "                            \n",
       "var gd = document.getElementById('cefc06b5-e3c3-4f79-bc0b-e0faa493758b');\n",
       "var x = new MutationObserver(function (mutations, observer) {{\n",
       "        var display = window.getComputedStyle(gd).display;\n",
       "        if (!display || display === 'none') {{\n",
       "            console.log([gd, 'removed!']);\n",
       "            Plotly.purge(gd);\n",
       "            observer.disconnect();\n",
       "        }}\n",
       "}});\n",
       "\n",
       "// Listen for the removal of the full notebook cells\n",
       "var notebookContainer = gd.closest('#notebook-container');\n",
       "if (notebookContainer) {{\n",
       "    x.observe(notebookContainer, {childList: true});\n",
       "}}\n",
       "\n",
       "// Listen for the clearing of the current output cell\n",
       "var outputEl = gd.closest('.output');\n",
       "if (outputEl) {{\n",
       "    x.observe(outputEl, {childList: true});\n",
       "}}\n",
       "\n",
       "                        })                };                });            </script>        </div>"
      ]
     },
     "metadata": {},
     "output_type": "display_data"
    },
    {
     "data": {
      "application/vnd.plotly.v1+json": {
       "config": {
        "plotlyServerURL": "https://plot.ly"
       },
       "data": [
        {
         "mode": "markers",
         "name": "Observed Data",
         "type": "scatter",
         "x": [
          6.91,
          5.69,
          5.2,
          4.7,
          3.54,
          2.57,
          1.71,
          0.99,
          2.49,
          2.48,
          2.72,
          4.02,
          2.76,
          2.53,
          3.47,
          -0.44,
          -0.64,
          -0.23,
          -1.62,
          -2.74,
          -4.26,
          -5.52,
          -5.14,
          -3.22,
          -2.45,
          -2.26,
          0.28,
          0.79,
          1.64,
          2.58,
          1.9,
          1.62,
          2.06,
          1.55,
          0.9,
          1.17,
          1.11,
          1.69,
          0.41,
          -10.14,
          -3.04,
          -0.33,
          1.75,
          12.4,
          4.21,
          1.46,
          1.47,
          3.54,
          4.32,
          2.69,
          4.22,
          3.47,
          1.96,
          2.05
         ],
         "y": [
          19.566491342425586,
          50.837870183700275,
          -1.9660818112937406,
          3.7770619893533253,
          -0.5660413594579361,
          -0.011313686056702021,
          3.706397747380019,
          0.20518166174194885,
          4.158551599115978,
          1.4389643813021546,
          1.0200731237054672,
          -2.039176141031751,
          4.378243768460033,
          1.0065683594683517,
          1.5072549640539945,
          4.158459023727046,
          -4.088162306580967,
          4.64094999441651,
          -2.196637838748261,
          2.1161411961944987,
          0.26188986924264857,
          1.0804921313777527,
          -1.4915488106399533,
          -3.6486389736944513,
          2.1730979379946502,
          -0.11581946629724005,
          -0.570435367464539,
          4.079274723291726,
          0.3044484833397698,
          -1.4889026759645207,
          -1.31958245184286,
          -5.44492904707532,
          6.843520330147235,
          0.30932169479351845,
          1.949433180815796,
          1.2757394586268012,
          -0.1778149875479751,
          1.368293817105526,
          -6.872869103095802,
          -28.488591355199777,
          28.824264189200367,
          14.949134746895965,
          -9.556642782117198,
          16.509725817044462,
          -8.088121833894778,
          2.305192785157728,
          -5.909809421967749,
          5.718763113719816,
          0.7872042695126646,
          -0.18131745896626805,
          4.572490351888536,
          1.4365819344408282,
          0.4526200738587116,
          0.10716806527357736
         ]
        },
        {
         "mode": "lines",
         "name": "Fitted line",
         "type": "scatter",
         "x": [
          6.91,
          5.69,
          5.2,
          4.7,
          3.54,
          2.57,
          1.71,
          0.99,
          2.49,
          2.48,
          2.72,
          4.02,
          2.76,
          2.53,
          3.47,
          -0.44,
          -0.64,
          -0.23,
          -1.62,
          -2.74,
          -4.26,
          -5.52,
          -5.14,
          -3.22,
          -2.45,
          -2.26,
          0.28,
          0.79,
          1.64,
          2.58,
          1.9,
          1.62,
          2.06,
          1.55,
          0.9,
          1.17,
          1.11,
          1.69,
          0.41,
          -10.14,
          -3.04,
          -0.33,
          1.75,
          12.4,
          4.21,
          1.46,
          1.47,
          3.54,
          4.32,
          2.69,
          4.22,
          3.47,
          1.96,
          2.05
         ],
         "y": [
          6.937627238815843,
          5.7127494918758535,
          5.220790396793399,
          4.718791320178648,
          3.554153462432429,
          2.580275253799814,
          1.7168368420224445,
          0.9939581716972047,
          2.4999554015414547,
          2.4899154200091593,
          2.7308749767842393,
          4.036072575982589,
          2.771034902913419,
          2.540115327670634,
          3.4838735917063643,
          -0.44175918742097986,
          -0.6425588180668799,
          -0.23091957524278495,
          -1.6264770082317896,
          -2.7509549398488296,
          -4.277032132757668,
          -5.542069805826838,
          -5.160550507599628,
          -3.232874053398989,
          -2.4597954754122746,
          -2.269035826298669,
          0.2811194829042599,
          0.7931585410513048,
          1.6465569712963795,
          2.5903152353321093,
          1.9075964911360492,
          1.6264770082317896,
          2.0682361956527693,
          1.5561971375057246,
          0.9035983379065498,
          1.1746778392785147,
          1.1144379500847448,
          1.6967568789578544,
          0.41163924282409486,
          -10.180541273747128,
          -3.052154385817679,
          -0.3313193905657349,
          1.7569967681516245,
          12.449577100045797,
          4.226832225096194,
          1.4658373037150696,
          1.4758772852473645,
          3.554153462432429,
          4.337272021951439,
          2.700755032187354,
          4.2368722066284885,
          3.4838735917063643,
          1.9678363803298193,
          2.0581962141204744
         ]
        }
       ],
       "layout": {
        "autosize": true,
        "template": {
         "data": {
          "bar": [
           {
            "error_x": {
             "color": "#2a3f5f"
            },
            "error_y": {
             "color": "#2a3f5f"
            },
            "marker": {
             "line": {
              "color": "#E5ECF6",
              "width": 0.5
             },
             "pattern": {
              "fillmode": "overlay",
              "size": 10,
              "solidity": 0.2
             }
            },
            "type": "bar"
           }
          ],
          "barpolar": [
           {
            "marker": {
             "line": {
              "color": "#E5ECF6",
              "width": 0.5
             },
             "pattern": {
              "fillmode": "overlay",
              "size": 10,
              "solidity": 0.2
             }
            },
            "type": "barpolar"
           }
          ],
          "carpet": [
           {
            "aaxis": {
             "endlinecolor": "#2a3f5f",
             "gridcolor": "white",
             "linecolor": "white",
             "minorgridcolor": "white",
             "startlinecolor": "#2a3f5f"
            },
            "baxis": {
             "endlinecolor": "#2a3f5f",
             "gridcolor": "white",
             "linecolor": "white",
             "minorgridcolor": "white",
             "startlinecolor": "#2a3f5f"
            },
            "type": "carpet"
           }
          ],
          "choropleth": [
           {
            "colorbar": {
             "outlinewidth": 0,
             "ticks": ""
            },
            "type": "choropleth"
           }
          ],
          "contour": [
           {
            "colorbar": {
             "outlinewidth": 0,
             "ticks": ""
            },
            "colorscale": [
             [
              0,
              "#0d0887"
             ],
             [
              0.1111111111111111,
              "#46039f"
             ],
             [
              0.2222222222222222,
              "#7201a8"
             ],
             [
              0.3333333333333333,
              "#9c179e"
             ],
             [
              0.4444444444444444,
              "#bd3786"
             ],
             [
              0.5555555555555556,
              "#d8576b"
             ],
             [
              0.6666666666666666,
              "#ed7953"
             ],
             [
              0.7777777777777778,
              "#fb9f3a"
             ],
             [
              0.8888888888888888,
              "#fdca26"
             ],
             [
              1,
              "#f0f921"
             ]
            ],
            "type": "contour"
           }
          ],
          "contourcarpet": [
           {
            "colorbar": {
             "outlinewidth": 0,
             "ticks": ""
            },
            "type": "contourcarpet"
           }
          ],
          "heatmap": [
           {
            "colorbar": {
             "outlinewidth": 0,
             "ticks": ""
            },
            "colorscale": [
             [
              0,
              "#0d0887"
             ],
             [
              0.1111111111111111,
              "#46039f"
             ],
             [
              0.2222222222222222,
              "#7201a8"
             ],
             [
              0.3333333333333333,
              "#9c179e"
             ],
             [
              0.4444444444444444,
              "#bd3786"
             ],
             [
              0.5555555555555556,
              "#d8576b"
             ],
             [
              0.6666666666666666,
              "#ed7953"
             ],
             [
              0.7777777777777778,
              "#fb9f3a"
             ],
             [
              0.8888888888888888,
              "#fdca26"
             ],
             [
              1,
              "#f0f921"
             ]
            ],
            "type": "heatmap"
           }
          ],
          "heatmapgl": [
           {
            "colorbar": {
             "outlinewidth": 0,
             "ticks": ""
            },
            "colorscale": [
             [
              0,
              "#0d0887"
             ],
             [
              0.1111111111111111,
              "#46039f"
             ],
             [
              0.2222222222222222,
              "#7201a8"
             ],
             [
              0.3333333333333333,
              "#9c179e"
             ],
             [
              0.4444444444444444,
              "#bd3786"
             ],
             [
              0.5555555555555556,
              "#d8576b"
             ],
             [
              0.6666666666666666,
              "#ed7953"
             ],
             [
              0.7777777777777778,
              "#fb9f3a"
             ],
             [
              0.8888888888888888,
              "#fdca26"
             ],
             [
              1,
              "#f0f921"
             ]
            ],
            "type": "heatmapgl"
           }
          ],
          "histogram": [
           {
            "marker": {
             "pattern": {
              "fillmode": "overlay",
              "size": 10,
              "solidity": 0.2
             }
            },
            "type": "histogram"
           }
          ],
          "histogram2d": [
           {
            "colorbar": {
             "outlinewidth": 0,
             "ticks": ""
            },
            "colorscale": [
             [
              0,
              "#0d0887"
             ],
             [
              0.1111111111111111,
              "#46039f"
             ],
             [
              0.2222222222222222,
              "#7201a8"
             ],
             [
              0.3333333333333333,
              "#9c179e"
             ],
             [
              0.4444444444444444,
              "#bd3786"
             ],
             [
              0.5555555555555556,
              "#d8576b"
             ],
             [
              0.6666666666666666,
              "#ed7953"
             ],
             [
              0.7777777777777778,
              "#fb9f3a"
             ],
             [
              0.8888888888888888,
              "#fdca26"
             ],
             [
              1,
              "#f0f921"
             ]
            ],
            "type": "histogram2d"
           }
          ],
          "histogram2dcontour": [
           {
            "colorbar": {
             "outlinewidth": 0,
             "ticks": ""
            },
            "colorscale": [
             [
              0,
              "#0d0887"
             ],
             [
              0.1111111111111111,
              "#46039f"
             ],
             [
              0.2222222222222222,
              "#7201a8"
             ],
             [
              0.3333333333333333,
              "#9c179e"
             ],
             [
              0.4444444444444444,
              "#bd3786"
             ],
             [
              0.5555555555555556,
              "#d8576b"
             ],
             [
              0.6666666666666666,
              "#ed7953"
             ],
             [
              0.7777777777777778,
              "#fb9f3a"
             ],
             [
              0.8888888888888888,
              "#fdca26"
             ],
             [
              1,
              "#f0f921"
             ]
            ],
            "type": "histogram2dcontour"
           }
          ],
          "mesh3d": [
           {
            "colorbar": {
             "outlinewidth": 0,
             "ticks": ""
            },
            "type": "mesh3d"
           }
          ],
          "parcoords": [
           {
            "line": {
             "colorbar": {
              "outlinewidth": 0,
              "ticks": ""
             }
            },
            "type": "parcoords"
           }
          ],
          "pie": [
           {
            "automargin": true,
            "type": "pie"
           }
          ],
          "scatter": [
           {
            "fillpattern": {
             "fillmode": "overlay",
             "size": 10,
             "solidity": 0.2
            },
            "type": "scatter"
           }
          ],
          "scatter3d": [
           {
            "line": {
             "colorbar": {
              "outlinewidth": 0,
              "ticks": ""
             }
            },
            "marker": {
             "colorbar": {
              "outlinewidth": 0,
              "ticks": ""
             }
            },
            "type": "scatter3d"
           }
          ],
          "scattercarpet": [
           {
            "marker": {
             "colorbar": {
              "outlinewidth": 0,
              "ticks": ""
             }
            },
            "type": "scattercarpet"
           }
          ],
          "scattergeo": [
           {
            "marker": {
             "colorbar": {
              "outlinewidth": 0,
              "ticks": ""
             }
            },
            "type": "scattergeo"
           }
          ],
          "scattergl": [
           {
            "marker": {
             "colorbar": {
              "outlinewidth": 0,
              "ticks": ""
             }
            },
            "type": "scattergl"
           }
          ],
          "scattermapbox": [
           {
            "marker": {
             "colorbar": {
              "outlinewidth": 0,
              "ticks": ""
             }
            },
            "type": "scattermapbox"
           }
          ],
          "scatterpolar": [
           {
            "marker": {
             "colorbar": {
              "outlinewidth": 0,
              "ticks": ""
             }
            },
            "type": "scatterpolar"
           }
          ],
          "scatterpolargl": [
           {
            "marker": {
             "colorbar": {
              "outlinewidth": 0,
              "ticks": ""
             }
            },
            "type": "scatterpolargl"
           }
          ],
          "scatterternary": [
           {
            "marker": {
             "colorbar": {
              "outlinewidth": 0,
              "ticks": ""
             }
            },
            "type": "scatterternary"
           }
          ],
          "surface": [
           {
            "colorbar": {
             "outlinewidth": 0,
             "ticks": ""
            },
            "colorscale": [
             [
              0,
              "#0d0887"
             ],
             [
              0.1111111111111111,
              "#46039f"
             ],
             [
              0.2222222222222222,
              "#7201a8"
             ],
             [
              0.3333333333333333,
              "#9c179e"
             ],
             [
              0.4444444444444444,
              "#bd3786"
             ],
             [
              0.5555555555555556,
              "#d8576b"
             ],
             [
              0.6666666666666666,
              "#ed7953"
             ],
             [
              0.7777777777777778,
              "#fb9f3a"
             ],
             [
              0.8888888888888888,
              "#fdca26"
             ],
             [
              1,
              "#f0f921"
             ]
            ],
            "type": "surface"
           }
          ],
          "table": [
           {
            "cells": {
             "fill": {
              "color": "#EBF0F8"
             },
             "line": {
              "color": "white"
             }
            },
            "header": {
             "fill": {
              "color": "#C8D4E3"
             },
             "line": {
              "color": "white"
             }
            },
            "type": "table"
           }
          ]
         },
         "layout": {
          "annotationdefaults": {
           "arrowcolor": "#2a3f5f",
           "arrowhead": 0,
           "arrowwidth": 1
          },
          "autotypenumbers": "strict",
          "coloraxis": {
           "colorbar": {
            "outlinewidth": 0,
            "ticks": ""
           }
          },
          "colorscale": {
           "diverging": [
            [
             0,
             "#8e0152"
            ],
            [
             0.1,
             "#c51b7d"
            ],
            [
             0.2,
             "#de77ae"
            ],
            [
             0.3,
             "#f1b6da"
            ],
            [
             0.4,
             "#fde0ef"
            ],
            [
             0.5,
             "#f7f7f7"
            ],
            [
             0.6,
             "#e6f5d0"
            ],
            [
             0.7,
             "#b8e186"
            ],
            [
             0.8,
             "#7fbc41"
            ],
            [
             0.9,
             "#4d9221"
            ],
            [
             1,
             "#276419"
            ]
           ],
           "sequential": [
            [
             0,
             "#0d0887"
            ],
            [
             0.1111111111111111,
             "#46039f"
            ],
            [
             0.2222222222222222,
             "#7201a8"
            ],
            [
             0.3333333333333333,
             "#9c179e"
            ],
            [
             0.4444444444444444,
             "#bd3786"
            ],
            [
             0.5555555555555556,
             "#d8576b"
            ],
            [
             0.6666666666666666,
             "#ed7953"
            ],
            [
             0.7777777777777778,
             "#fb9f3a"
            ],
            [
             0.8888888888888888,
             "#fdca26"
            ],
            [
             1,
             "#f0f921"
            ]
           ],
           "sequentialminus": [
            [
             0,
             "#0d0887"
            ],
            [
             0.1111111111111111,
             "#46039f"
            ],
            [
             0.2222222222222222,
             "#7201a8"
            ],
            [
             0.3333333333333333,
             "#9c179e"
            ],
            [
             0.4444444444444444,
             "#bd3786"
            ],
            [
             0.5555555555555556,
             "#d8576b"
            ],
            [
             0.6666666666666666,
             "#ed7953"
            ],
            [
             0.7777777777777778,
             "#fb9f3a"
            ],
            [
             0.8888888888888888,
             "#fdca26"
            ],
            [
             1,
             "#f0f921"
            ]
           ]
          },
          "colorway": [
           "#636efa",
           "#EF553B",
           "#00cc96",
           "#ab63fa",
           "#FFA15A",
           "#19d3f3",
           "#FF6692",
           "#B6E880",
           "#FF97FF",
           "#FECB52"
          ],
          "font": {
           "color": "#2a3f5f"
          },
          "geo": {
           "bgcolor": "white",
           "lakecolor": "white",
           "landcolor": "#E5ECF6",
           "showlakes": true,
           "showland": true,
           "subunitcolor": "white"
          },
          "hoverlabel": {
           "align": "left"
          },
          "hovermode": "closest",
          "mapbox": {
           "style": "light"
          },
          "paper_bgcolor": "white",
          "plot_bgcolor": "#E5ECF6",
          "polar": {
           "angularaxis": {
            "gridcolor": "white",
            "linecolor": "white",
            "ticks": ""
           },
           "bgcolor": "#E5ECF6",
           "radialaxis": {
            "gridcolor": "white",
            "linecolor": "white",
            "ticks": ""
           }
          },
          "scene": {
           "xaxis": {
            "backgroundcolor": "#E5ECF6",
            "gridcolor": "white",
            "gridwidth": 2,
            "linecolor": "white",
            "showbackground": true,
            "ticks": "",
            "zerolinecolor": "white"
           },
           "yaxis": {
            "backgroundcolor": "#E5ECF6",
            "gridcolor": "white",
            "gridwidth": 2,
            "linecolor": "white",
            "showbackground": true,
            "ticks": "",
            "zerolinecolor": "white"
           },
           "zaxis": {
            "backgroundcolor": "#E5ECF6",
            "gridcolor": "white",
            "gridwidth": 2,
            "linecolor": "white",
            "showbackground": true,
            "ticks": "",
            "zerolinecolor": "white"
           }
          },
          "shapedefaults": {
           "line": {
            "color": "#2a3f5f"
           }
          },
          "ternary": {
           "aaxis": {
            "gridcolor": "white",
            "linecolor": "white",
            "ticks": ""
           },
           "baxis": {
            "gridcolor": "white",
            "linecolor": "white",
            "ticks": ""
           },
           "bgcolor": "#E5ECF6",
           "caxis": {
            "gridcolor": "white",
            "linecolor": "white",
            "ticks": ""
           }
          },
          "title": {
           "x": 0.05
          },
          "xaxis": {
           "automargin": true,
           "gridcolor": "white",
           "linecolor": "white",
           "ticks": "",
           "title": {
            "standoff": 15
           },
           "zerolinecolor": "white",
           "zerolinewidth": 2
          },
          "yaxis": {
           "automargin": true,
           "gridcolor": "white",
           "linecolor": "white",
           "ticks": "",
           "title": {
            "standoff": 15
           },
           "zerolinecolor": "white",
           "zerolinewidth": 2
          }
         }
        },
        "title": {
         "text": "Regressão AUTOPISTA FERNÃO DIAS_VEQS_PASSEIO"
        },
        "xaxis": {
         "autorange": true,
         "range": [
          -11.521423854725548,
          13.781423854725547
         ],
         "title": {
          "text": "delta PIB real"
         },
         "type": "linear"
        },
        "yaxis": {
         "autorange": true,
         "range": [
          -35.03494983171095,
          57.38422866021144
         ],
         "title": {
          "text": "delta tráfego"
         },
         "type": "linear"
        }
       }
      },
      "image/png": "[encoded data removed]",
      "text/html": [
       "<div>                            <div id=\"788364b3-68a7-48c3-9dbc-ed15a6f0d4e8\" class=\"plotly-graph-div\" style=\"height:525px; width:100%;\"></div>            <script type=\"text/javascript\">                require([\"plotly\"], function(Plotly) {                    window.PLOTLYENV=window.PLOTLYENV || {};                                    if (document.getElementById(\"788364b3-68a7-48c3-9dbc-ed15a6f0d4e8\")) {                    Plotly.newPlot(                        \"788364b3-68a7-48c3-9dbc-ed15a6f0d4e8\",                        [{\"mode\":\"markers\",\"name\":\"Observed Data\",\"x\":[6.91,5.69,5.2,4.7,3.54,2.57,1.71,0.99,2.49,2.48,2.72,4.02,2.76,2.53,3.47,-0.44,-0.64,-0.23,-1.62,-2.74,-4.26,-5.52,-5.14,-3.22,-2.45,-2.26,0.28,0.79,1.64,2.58,1.9,1.62,2.06,1.55,0.9,1.17,1.11,1.69,0.41,-10.14,-3.04,-0.33,1.75,12.4,4.21,1.46,1.47,3.54,4.32,2.69,4.22,3.47,1.96,2.05],\"y\":[19.566491342425586,50.837870183700275,-1.9660818112937406,3.7770619893533253,-0.5660413594579361,-0.011313686056702021,3.706397747380019,0.20518166174194885,4.158551599115978,1.4389643813021546,1.0200731237054672,-2.039176141031751,4.378243768460033,1.0065683594683517,1.5072549640539945,4.158459023727046,-4.088162306580967,4.64094999441651,-2.196637838748261,2.1161411961944987,0.26188986924264857,1.0804921313777527,-1.4915488106399533,-3.6486389736944513,2.1730979379946502,-0.11581946629724005,-0.570435367464539,4.079274723291726,0.3044484833397698,-1.4889026759645207,-1.31958245184286,-5.44492904707532,6.843520330147235,0.30932169479351845,1.949433180815796,1.2757394586268012,-0.1778149875479751,1.368293817105526,-6.872869103095802,-28.488591355199777,28.824264189200367,14.949134746895965,-9.556642782117198,16.509725817044462,-8.088121833894778,2.305192785157728,-5.909809421967749,5.718763113719816,0.7872042695126646,-0.18131745896626805,4.572490351888536,1.4365819344408282,0.4526200738587116,0.10716806527357736],\"type\":\"scatter\"},{\"mode\":\"lines\",\"name\":\"Fitted line\",\"x\":[6.91,5.69,5.2,4.7,3.54,2.57,1.71,0.99,2.49,2.48,2.72,4.02,2.76,2.53,3.47,-0.44,-0.64,-0.23,-1.62,-2.74,-4.26,-5.52,-5.14,-3.22,-2.45,-2.26,0.28,0.79,1.64,2.58,1.9,1.62,2.06,1.55,0.9,1.17,1.11,1.69,0.41,-10.14,-3.04,-0.33,1.75,12.4,4.21,1.46,1.47,3.54,4.32,2.69,4.22,3.47,1.96,2.05],\"y\":[6.937627238815843,5.7127494918758535,5.220790396793399,4.718791320178648,3.554153462432429,2.580275253799814,1.7168368420224445,0.9939581716972047,2.4999554015414547,2.4899154200091593,2.7308749767842393,4.036072575982589,2.771034902913419,2.540115327670634,3.4838735917063643,-0.44175918742097986,-0.6425588180668799,-0.23091957524278495,-1.6264770082317896,-2.7509549398488296,-4.277032132757668,-5.542069805826838,-5.160550507599628,-3.232874053398989,-2.4597954754122746,-2.269035826298669,0.2811194829042599,0.7931585410513048,1.6465569712963795,2.5903152353321093,1.9075964911360492,1.6264770082317896,2.0682361956527693,1.5561971375057246,0.9035983379065498,1.1746778392785147,1.1144379500847448,1.6967568789578544,0.41163924282409486,-10.180541273747128,-3.052154385817679,-0.3313193905657349,1.7569967681516245,12.449577100045797,4.226832225096194,1.4658373037150696,1.4758772852473645,3.554153462432429,4.337272021951439,2.700755032187354,4.2368722066284885,3.4838735917063643,1.9678363803298193,2.0581962141204744],\"type\":\"scatter\"}],                        {\"template\":{\"data\":{\"histogram2dcontour\":[{\"type\":\"histogram2dcontour\",\"colorbar\":{\"outlinewidth\":0,\"ticks\":\"\"},\"colorscale\":[[0.0,\"#0d0887\"],[0.1111111111111111,\"#46039f\"],[0.2222222222222222,\"#7201a8\"],[0.3333333333333333,\"#9c179e\"],[0.4444444444444444,\"#bd3786\"],[0.5555555555555556,\"#d8576b\"],[0.6666666666666666,\"#ed7953\"],[0.7777777777777778,\"#fb9f3a\"],[0.8888888888888888,\"#fdca26\"],[1.0,\"#f0f921\"]]}],\"choropleth\":[{\"type\":\"choropleth\",\"colorbar\":{\"outlinewidth\":0,\"ticks\":\"\"}}],\"histogram2d\":[{\"type\":\"histogram2d\",\"colorbar\":{\"outlinewidth\":0,\"ticks\":\"\"},\"colorscale\":[[0.0,\"#0d0887\"],[0.1111111111111111,\"#46039f\"],[0.2222222222222222,\"#7201a8\"],[0.3333333333333333,\"#9c179e\"],[0.4444444444444444,\"#bd3786\"],[0.5555555555555556,\"#d8576b\"],[0.6666666666666666,\"#ed7953\"],[0.7777777777777778,\"#fb9f3a\"],[0.8888888888888888,\"#fdca26\"],[1.0,\"#f0f921\"]]}],\"heatmap\":[{\"type\":\"heatmap\",\"colorbar\":{\"outlinewidth\":0,\"ticks\":\"\"},\"colorscale\":[[0.0,\"#0d0887\"],[0.1111111111111111,\"#46039f\"],[0.2222222222222222,\"#7201a8\"],[0.3333333333333333,\"#9c179e\"],[0.4444444444444444,\"#bd3786\"],[0.5555555555555556,\"#d8576b\"],[0.6666666666666666,\"#ed7953\"],[0.7777777777777778,\"#fb9f3a\"],[0.8888888888888888,\"#fdca26\"],[1.0,\"#f0f921\"]]}],\"heatmapgl\":[{\"type\":\"heatmapgl\",\"colorbar\":{\"outlinewidth\":0,\"ticks\":\"\"},\"colorscale\":[[0.0,\"#0d0887\"],[0.1111111111111111,\"#46039f\"],[0.2222222222222222,\"#7201a8\"],[0.3333333333333333,\"#9c179e\"],[0.4444444444444444,\"#bd3786\"],[0.5555555555555556,\"#d8576b\"],[0.6666666666666666,\"#ed7953\"],[0.7777777777777778,\"#fb9f3a\"],[0.8888888888888888,\"#fdca26\"],[1.0,\"#f0f921\"]]}],\"contourcarpet\":[{\"type\":\"contourcarpet\",\"colorbar\":{\"outlinewidth\":0,\"ticks\":\"\"}}],\"contour\":[{\"type\":\"contour\",\"colorbar\":{\"outlinewidth\":0,\"ticks\":\"\"},\"colorscale\":[[0.0,\"#0d0887\"],[0.1111111111111111,\"#46039f\"],[0.2222222222222222,\"#7201a8\"],[0.3333333333333333,\"#9c179e\"],[0.4444444444444444,\"#bd3786\"],[0.5555555555555556,\"#d8576b\"],[0.6666666666666666,\"#ed7953\"],[0.7777777777777778,\"#fb9f3a\"],[0.8888888888888888,\"#fdca26\"],[1.0,\"#f0f921\"]]}],\"surface\":[{\"type\":\"surface\",\"colorbar\":{\"outlinewidth\":0,\"ticks\":\"\"},\"colorscale\":[[0.0,\"#0d0887\"],[0.1111111111111111,\"#46039f\"],[0.2222222222222222,\"#7201a8\"],[0.3333333333333333,\"#9c179e\"],[0.4444444444444444,\"#bd3786\"],[0.5555555555555556,\"#d8576b\"],[0.6666666666666666,\"#ed7953\"],[0.7777777777777778,\"#fb9f3a\"],[0.8888888888888888,\"#fdca26\"],[1.0,\"#f0f921\"]]}],\"mesh3d\":[{\"type\":\"mesh3d\",\"colorbar\":{\"outlinewidth\":0,\"ticks\":\"\"}}],\"scatter\":[{\"fillpattern\":{\"fillmode\":\"overlay\",\"size\":10,\"solidity\":0.2},\"type\":\"scatter\"}],\"parcoords\":[{\"type\":\"parcoords\",\"line\":{\"colorbar\":{\"outlinewidth\":0,\"ticks\":\"\"}}}],\"scatterpolargl\":[{\"type\":\"scatterpolargl\",\"marker\":{\"colorbar\":{\"outlinewidth\":0,\"ticks\":\"\"}}}],\"bar\":[{\"error_x\":{\"color\":\"#2a3f5f\"},\"error_y\":{\"color\":\"#2a3f5f\"},\"marker\":{\"line\":{\"color\":\"#E5ECF6\",\"width\":0.5},\"pattern\":{\"fillmode\":\"overlay\",\"size\":10,\"solidity\":0.2}},\"type\":\"bar\"}],\"scattergeo\":[{\"type\":\"scattergeo\",\"marker\":{\"colorbar\":{\"outlinewidth\":0,\"ticks\":\"\"}}}],\"scatterpolar\":[{\"type\":\"scatterpolar\",\"marker\":{\"colorbar\":{\"outlinewidth\":0,\"ticks\":\"\"}}}],\"histogram\":[{\"marker\":{\"pattern\":{\"fillmode\":\"overlay\",\"size\":10,\"solidity\":0.2}},\"type\":\"histogram\"}],\"scattergl\":[{\"type\":\"scattergl\",\"marker\":{\"colorbar\":{\"outlinewidth\":0,\"ticks\":\"\"}}}],\"scatter3d\":[{\"type\":\"scatter3d\",\"line\":{\"colorbar\":{\"outlinewidth\":0,\"ticks\":\"\"}},\"marker\":{\"colorbar\":{\"outlinewidth\":0,\"ticks\":\"\"}}}],\"scattermapbox\":[{\"type\":\"scattermapbox\",\"marker\":{\"colorbar\":{\"outlinewidth\":0,\"ticks\":\"\"}}}],\"scatterternary\":[{\"type\":\"scatterternary\",\"marker\":{\"colorbar\":{\"outlinewidth\":0,\"ticks\":\"\"}}}],\"scattercarpet\":[{\"type\":\"scattercarpet\",\"marker\":{\"colorbar\":{\"outlinewidth\":0,\"ticks\":\"\"}}}],\"carpet\":[{\"aaxis\":{\"endlinecolor\":\"#2a3f5f\",\"gridcolor\":\"white\",\"linecolor\":\"white\",\"minorgridcolor\":\"white\",\"startlinecolor\":\"#2a3f5f\"},\"baxis\":{\"endlinecolor\":\"#2a3f5f\",\"gridcolor\":\"white\",\"linecolor\":\"white\",\"minorgridcolor\":\"white\",\"startlinecolor\":\"#2a3f5f\"},\"type\":\"carpet\"}],\"table\":[{\"cells\":{\"fill\":{\"color\":\"#EBF0F8\"},\"line\":{\"color\":\"white\"}},\"header\":{\"fill\":{\"color\":\"#C8D4E3\"},\"line\":{\"color\":\"white\"}},\"type\":\"table\"}],\"barpolar\":[{\"marker\":{\"line\":{\"color\":\"#E5ECF6\",\"width\":0.5},\"pattern\":{\"fillmode\":\"overlay\",\"size\":10,\"solidity\":0.2}},\"type\":\"barpolar\"}],\"pie\":[{\"automargin\":true,\"type\":\"pie\"}]},\"layout\":{\"autotypenumbers\":\"strict\",\"colorway\":[\"#636efa\",\"#EF553B\",\"#00cc96\",\"#ab63fa\",\"#FFA15A\",\"#19d3f3\",\"#FF6692\",\"#B6E880\",\"#FF97FF\",\"#FECB52\"],\"font\":{\"color\":\"#2a3f5f\"},\"hovermode\":\"closest\",\"hoverlabel\":{\"align\":\"left\"},\"paper_bgcolor\":\"white\",\"plot_bgcolor\":\"#E5ECF6\",\"polar\":{\"bgcolor\":\"#E5ECF6\",\"angularaxis\":{\"gridcolor\":\"white\",\"linecolor\":\"white\",\"ticks\":\"\"},\"radialaxis\":{\"gridcolor\":\"white\",\"linecolor\":\"white\",\"ticks\":\"\"}},\"ternary\":{\"bgcolor\":\"#E5ECF6\",\"aaxis\":{\"gridcolor\":\"white\",\"linecolor\":\"white\",\"ticks\":\"\"},\"baxis\":{\"gridcolor\":\"white\",\"linecolor\":\"white\",\"ticks\":\"\"},\"caxis\":{\"gridcolor\":\"white\",\"linecolor\":\"white\",\"ticks\":\"\"}},\"coloraxis\":{\"colorbar\":{\"outlinewidth\":0,\"ticks\":\"\"}},\"colorscale\":{\"sequential\":[[0.0,\"#0d0887\"],[0.1111111111111111,\"#46039f\"],[0.2222222222222222,\"#7201a8\"],[0.3333333333333333,\"#9c179e\"],[0.4444444444444444,\"#bd3786\"],[0.5555555555555556,\"#d8576b\"],[0.6666666666666666,\"#ed7953\"],[0.7777777777777778,\"#fb9f3a\"],[0.8888888888888888,\"#fdca26\"],[1.0,\"#f0f921\"]],\"sequentialminus\":[[0.0,\"#0d0887\"],[0.1111111111111111,\"#46039f\"],[0.2222222222222222,\"#7201a8\"],[0.3333333333333333,\"#9c179e\"],[0.4444444444444444,\"#bd3786\"],[0.5555555555555556,\"#d8576b\"],[0.6666666666666666,\"#ed7953\"],[0.7777777777777778,\"#fb9f3a\"],[0.8888888888888888,\"#fdca26\"],[1.0,\"#f0f921\"]],\"diverging\":[[0,\"#8e0152\"],[0.1,\"#c51b7d\"],[0.2,\"#de77ae\"],[0.3,\"#f1b6da\"],[0.4,\"#fde0ef\"],[0.5,\"#f7f7f7\"],[0.6,\"#e6f5d0\"],[0.7,\"#b8e186\"],[0.8,\"#7fbc41\"],[0.9,\"#4d9221\"],[1,\"#276419\"]]},\"xaxis\":{\"gridcolor\":\"white\",\"linecolor\":\"white\",\"ticks\":\"\",\"title\":{\"standoff\":15},\"zerolinecolor\":\"white\",\"automargin\":true,\"zerolinewidth\":2},\"yaxis\":{\"gridcolor\":\"white\",\"linecolor\":\"white\",\"ticks\":\"\",\"title\":{\"standoff\":15},\"zerolinecolor\":\"white\",\"automargin\":true,\"zerolinewidth\":2},\"scene\":{\"xaxis\":{\"backgroundcolor\":\"#E5ECF6\",\"gridcolor\":\"white\",\"linecolor\":\"white\",\"showbackground\":true,\"ticks\":\"\",\"zerolinecolor\":\"white\",\"gridwidth\":2},\"yaxis\":{\"backgroundcolor\":\"#E5ECF6\",\"gridcolor\":\"white\",\"linecolor\":\"white\",\"showbackground\":true,\"ticks\":\"\",\"zerolinecolor\":\"white\",\"gridwidth\":2},\"zaxis\":{\"backgroundcolor\":\"#E5ECF6\",\"gridcolor\":\"white\",\"linecolor\":\"white\",\"showbackground\":true,\"ticks\":\"\",\"zerolinecolor\":\"white\",\"gridwidth\":2}},\"shapedefaults\":{\"line\":{\"color\":\"#2a3f5f\"}},\"annotationdefaults\":{\"arrowcolor\":\"#2a3f5f\",\"arrowhead\":0,\"arrowwidth\":1},\"geo\":{\"bgcolor\":\"white\",\"landcolor\":\"#E5ECF6\",\"subunitcolor\":\"white\",\"showland\":true,\"showlakes\":true,\"lakecolor\":\"white\"},\"title\":{\"x\":0.05},\"mapbox\":{\"style\":\"light\"}}},\"title\":{\"text\":\"Regress\\u00e3o AUTOPISTA FERN\\u00c3O DIAS_VEQS_PASSEIO\"},\"xaxis\":{\"title\":{\"text\":\"delta PIB real\"}},\"yaxis\":{\"title\":{\"text\":\"delta tr\\u00e1fego\"}}},                        {\"responsive\": true}                    ).then(function(){\n",
       "                            \n",
       "var gd = document.getElementById('788364b3-68a7-48c3-9dbc-ed15a6f0d4e8');\n",
       "var x = new MutationObserver(function (mutations, observer) {{\n",
       "        var display = window.getComputedStyle(gd).display;\n",
       "        if (!display || display === 'none') {{\n",
       "            console.log([gd, 'removed!']);\n",
       "            Plotly.purge(gd);\n",
       "            observer.disconnect();\n",
       "        }}\n",
       "}});\n",
       "\n",
       "// Listen for the removal of the full notebook cells\n",
       "var notebookContainer = gd.closest('#notebook-container');\n",
       "if (notebookContainer) {{\n",
       "    x.observe(notebookContainer, {childList: true});\n",
       "}}\n",
       "\n",
       "// Listen for the clearing of the current output cell\n",
       "var outputEl = gd.closest('.output');\n",
       "if (outputEl) {{\n",
       "    x.observe(outputEl, {childList: true});\n",
       "}}\n",
       "\n",
       "                        })                };                });            </script>        </div>"
      ]
     },
     "metadata": {},
     "output_type": "display_data"
    }
   ],
   "source": [
    "for veq, _dict in dict_curves_p1.items():\n",
    "    for conc in _dict:\n",
    "        make_plot(_dict[conc], veq, conc)\n",
    "        break"
   ]
  },
  {
   "cell_type": "markdown",
   "id": "6af452f6-9d55-4717-9d6f-16532f8c3230",
   "metadata": {},
   "source": [
    "# Salvando para excel"
   ]
  },
  {
   "cell_type": "code",
   "execution_count": 82,
   "id": "a7d5331f-595b-49c6-a1f1-440bee4f05ef",
   "metadata": {
    "execution": {
     "iopub.execute_input": "2024-08-29T18:34:23.533142Z",
     "iopub.status.busy": "2024-08-29T18:34:23.532457Z",
     "iopub.status.idle": "2024-08-29T18:34:24.906152Z",
     "shell.execute_reply": "2024-08-29T18:34:24.904753Z",
     "shell.execute_reply.started": "2024-08-29T18:34:23.533102Z"
    },
    "tags": []
   },
   "outputs": [
    {
     "name": "stderr",
     "output_type": "stream",
     "text": [
      "/home/andcm/.cache/pypoetry/virtualenvs/infra-data-J9p6eQia-py3.9/lib/python3.9/site-packages/openpyxl/workbook/child.py:99: UserWarning: Title is more than 31 characters. Some applications may not be able to read the file\n",
      "  warnings.warn(\"Title is more than 31 characters. Some applications may not be able to read the file\")\n",
      "/home/andcm/.cache/pypoetry/virtualenvs/infra-data-J9p6eQia-py3.9/lib/python3.9/site-packages/openpyxl/workbook/child.py:99: UserWarning: Title is more than 31 characters. Some applications may not be able to read the file\n",
      "  warnings.warn(\"Title is more than 31 characters. Some applications may not be able to read the file\")\n",
      "/home/andcm/.cache/pypoetry/virtualenvs/infra-data-J9p6eQia-py3.9/lib/python3.9/site-packages/openpyxl/workbook/child.py:99: UserWarning: Title is more than 31 characters. Some applications may not be able to read the file\n",
      "  warnings.warn(\"Title is more than 31 characters. Some applications may not be able to read the file\")\n",
      "/home/andcm/.cache/pypoetry/virtualenvs/infra-data-J9p6eQia-py3.9/lib/python3.9/site-packages/openpyxl/workbook/child.py:99: UserWarning: Title is more than 31 characters. Some applications may not be able to read the file\n",
      "  warnings.warn(\"Title is more than 31 characters. Some applications may not be able to read the file\")\n"
     ]
    }
   ],
   "source": [
    "with pd.ExcelWriter(path_outputs / 'resultado_modelos_PIB_mensal.xlsx') as writer:\n",
    "    # df_resultados = pd.DataFrame(index=df_periodos.index)\n",
    "    for p in periodos:\n",
    "        for key, veq in dict_veqs.items():\n",
    "            df_resultados = make_models(veq, df_periodos, df_PIB, p, fit_intercept=False)\n",
    "            sheet_name = f'{p[0]}-{p[1]}-{key}_mensal'\n",
    "            df_resultados.to_excel(writer, sheet_name = sheet_name)        "
   ]
  },
  {
   "cell_type": "code",
   "execution_count": null,
   "id": "a5eb1ccf-3428-4173-bb26-cbe0fb35e6ef",
   "metadata": {},
   "outputs": [],
   "source": []
  }
 ],
 "metadata": {
  "kernelspec": {
   "display_name": "infra-data",
   "language": "python",
   "name": "infra-data"
  },
  "language_info": {
   "codemirror_mode": {
    "name": "ipython",
    "version": 3
   },
   "file_extension": ".py",
   "mimetype": "text/x-python",
   "name": "python",
   "nbconvert_exporter": "python",
   "pygments_lexer": "ipython3",
   "version": "3.9.16"
  }
 },
 "nbformat": 4,
 "nbformat_minor": 5
}
