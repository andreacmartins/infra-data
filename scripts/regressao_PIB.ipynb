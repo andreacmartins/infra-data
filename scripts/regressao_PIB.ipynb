{
 "cells": [
  {
   "cell_type": "markdown",
   "id": "5ef1980a-1607-49a8-9006-fdf0d3d6d80e",
   "metadata": {},
   "source": [
    "# IMPORTS"
   ]
  },
  {
   "cell_type": "code",
   "execution_count": 165,
   "id": "24b2fbe4-04e5-4c82-8abb-70d9907bb94b",
   "metadata": {
    "execution": {
     "iopub.execute_input": "2024-08-23T15:42:55.773965Z",
     "iopub.status.busy": "2024-08-23T15:42:55.773444Z",
     "iopub.status.idle": "2024-08-23T15:42:57.463969Z",
     "shell.execute_reply": "2024-08-23T15:42:57.462149Z",
     "shell.execute_reply.started": "2024-08-23T15:42:55.773923Z"
    },
    "tags": []
   },
   "outputs": [],
   "source": [
    "import pandas as pd\n",
    "import numpy as np\n",
    "import os\n",
    "from decimal import Decimal\n",
    "import pickle\n",
    "from pathlib import Path\n",
    "\n",
    "from sklearn import linear_model\n",
    "import statsmodels.api as sm"
   ]
  },
  {
   "cell_type": "markdown",
   "id": "95c951db-275a-4345-8a52-180762be4383",
   "metadata": {
    "execution": {
     "iopub.execute_input": "2024-08-20T19:55:44.418829Z",
     "iopub.status.busy": "2024-08-20T19:55:44.417516Z",
     "iopub.status.idle": "2024-08-20T19:55:44.424840Z",
     "shell.execute_reply": "2024-08-20T19:55:44.422826Z",
     "shell.execute_reply.started": "2024-08-20T19:55:44.418787Z"
    }
   },
   "source": [
    "# SETUP"
   ]
  },
  {
   "cell_type": "code",
   "execution_count": 62,
   "id": "063f912e-4ab5-4542-bc20-86c57d2f0bae",
   "metadata": {
    "execution": {
     "iopub.execute_input": "2024-08-23T15:18:34.690864Z",
     "iopub.status.busy": "2024-08-23T15:18:34.690159Z",
     "iopub.status.idle": "2024-08-23T15:18:34.699205Z",
     "shell.execute_reply": "2024-08-23T15:18:34.697625Z",
     "shell.execute_reply.started": "2024-08-23T15:18:34.690798Z"
    },
    "tags": []
   },
   "outputs": [],
   "source": [
    "dir_tree_util_path = os.path.join(\"utils\", \"dir_tree.py\")\n",
    "exec(open(dir_tree_util_path).read())"
   ]
  },
  {
   "cell_type": "markdown",
   "id": "1405ef31-8509-4565-9304-e6efd69c7eed",
   "metadata": {},
   "source": [
    "# INPUTS"
   ]
  },
  {
   "cell_type": "code",
   "execution_count": 63,
   "id": "3b43b23b-1a5c-4658-91ad-8863019ee433",
   "metadata": {
    "execution": {
     "iopub.execute_input": "2024-08-23T15:18:34.976747Z",
     "iopub.status.busy": "2024-08-23T15:18:34.975860Z",
     "iopub.status.idle": "2024-08-23T15:18:34.982779Z",
     "shell.execute_reply": "2024-08-23T15:18:34.981301Z",
     "shell.execute_reply.started": "2024-08-23T15:18:34.976700Z"
    },
    "tags": []
   },
   "outputs": [],
   "source": [
    "# Paths\n",
    "path_dados = PROJECT_DIRS[\"DADOS_DERIVADOS_DIR\"]\n",
    "# path_output = TODO"
   ]
  },
  {
   "cell_type": "code",
   "execution_count": 402,
   "id": "b1677345-dc58-41c5-8955-68abf6a7b79e",
   "metadata": {
    "execution": {
     "iopub.execute_input": "2024-08-23T18:27:37.150136Z",
     "iopub.status.busy": "2024-08-23T18:27:37.149498Z",
     "iopub.status.idle": "2024-08-23T18:27:37.156391Z",
     "shell.execute_reply": "2024-08-23T18:27:37.155046Z",
     "shell.execute_reply.started": "2024-08-23T18:27:37.150096Z"
    },
    "tags": []
   },
   "outputs": [],
   "source": [
    "periodos = [[2011, 2023], [2017, 2023]]"
   ]
  },
  {
   "cell_type": "code",
   "execution_count": 397,
   "id": "39acc033-4ede-4c9b-a50b-29723e60d658",
   "metadata": {
    "execution": {
     "iopub.execute_input": "2024-08-23T18:16:39.388666Z",
     "iopub.status.busy": "2024-08-23T18:16:39.387806Z",
     "iopub.status.idle": "2024-08-23T18:16:39.394475Z",
     "shell.execute_reply": "2024-08-23T18:16:39.393324Z",
     "shell.execute_reply.started": "2024-08-23T18:16:39.388618Z"
    }
   },
   "outputs": [],
   "source": [
    "path_outputs = PROJECT_DIRS[\"DADOS_DERIVADOS_DIR\"]"
   ]
  },
  {
   "cell_type": "markdown",
   "id": "6cb48e4f-9dbe-4f57-8be8-0b95433e25da",
   "metadata": {},
   "source": [
    "# CARREGANDO p/MEMORIA OS DADOS"
   ]
  },
  {
   "cell_type": "code",
   "execution_count": 400,
   "id": "b2d18e17-bee7-4c1b-8325-c59cc1676e2e",
   "metadata": {
    "execution": {
     "iopub.execute_input": "2024-08-23T18:22:43.764510Z",
     "iopub.status.busy": "2024-08-23T18:22:43.763610Z",
     "iopub.status.idle": "2024-08-23T18:22:43.783523Z",
     "shell.execute_reply": "2024-08-23T18:22:43.782350Z",
     "shell.execute_reply.started": "2024-08-23T18:22:43.764467Z"
    },
    "tags": []
   },
   "outputs": [],
   "source": [
    "# Dados de tráfego ANTT\n",
    "df_veqs_comercial = pd.read_parquet(path_dados / 'df_VEQS_COMERCIAL.parquet')\n",
    "df_veqs_passeio = pd.read_parquet(path_dados / 'df_VEQS_PASSEIO.parquet')\n",
    "\n",
    "df_periodos = pd.read_parquet(path_dados / 'df_periodos.parquet')\n",
    "\n",
    "dict_veqs = {'veqs_comercial':df_veqs_comercial,\n",
    "           'veqs_passeio':df_veqs_passeio}"
   ]
  },
  {
   "cell_type": "code",
   "execution_count": 339,
   "id": "9f3e2992-3b18-451e-91a7-615b3e88231c",
   "metadata": {
    "execution": {
     "iopub.execute_input": "2024-08-23T18:00:06.021554Z",
     "iopub.status.busy": "2024-08-23T18:00:06.020422Z",
     "iopub.status.idle": "2024-08-23T18:00:06.032876Z",
     "shell.execute_reply": "2024-08-23T18:00:06.031201Z",
     "shell.execute_reply.started": "2024-08-23T18:00:06.021509Z"
    },
    "tags": []
   },
   "outputs": [],
   "source": [
    "# Dados de PIB\n",
    "df_PIB = pd.read_parquet(path_dados / 'PIB-Bacen.parquet')"
   ]
  },
  {
   "cell_type": "markdown",
   "id": "c234e74c-a879-45aa-a806-22f44a5427d3",
   "metadata": {},
   "source": [
    "# TRATANDO OS DADOS"
   ]
  },
  {
   "cell_type": "code",
   "execution_count": 341,
   "id": "ae5f5023-d2bc-4e29-b167-500edbbc0716",
   "metadata": {
    "execution": {
     "iopub.execute_input": "2024-08-23T18:00:24.003830Z",
     "iopub.status.busy": "2024-08-23T18:00:24.003217Z",
     "iopub.status.idle": "2024-08-23T18:00:24.009334Z",
     "shell.execute_reply": "2024-08-23T18:00:24.008409Z",
     "shell.execute_reply.started": "2024-08-23T18:00:24.003789Z"
    },
    "tags": []
   },
   "outputs": [],
   "source": [
    "# PIB\n",
    "df_PIB.columns = ['PIB_real']"
   ]
  },
  {
   "cell_type": "markdown",
   "id": "79e1ad30-4213-41db-87a0-57ceb98a5a72",
   "metadata": {},
   "source": [
    "# FUNCOES"
   ]
  },
  {
   "cell_type": "code",
   "execution_count": 134,
   "id": "5bfc61bc-a30d-4f45-8461-c9c2ea528009",
   "metadata": {
    "execution": {
     "iopub.execute_input": "2024-08-23T15:33:49.469308Z",
     "iopub.status.busy": "2024-08-23T15:33:49.467778Z",
     "iopub.status.idle": "2024-08-23T15:33:49.476110Z",
     "shell.execute_reply": "2024-08-23T15:33:49.475103Z",
     "shell.execute_reply.started": "2024-08-23T15:33:49.469247Z"
    },
    "tags": []
   },
   "outputs": [],
   "source": [
    "def filter_PIB_periodo(df, periodo:list):\n",
    "    ano_min = min(periodo)\n",
    "    ano_max = max(periodo)\n",
    "    anos = [ano for ano in range(ano_min, ano_max + 1)]\n",
    "\n",
    "    start_date = pd.to_datetime(f'{periodo[0]}-01-01').date()\n",
    "    end_date = pd.to_datetime(f'{periodo[1]}-12-31').date()\n",
    "    \n",
    "    df = df.loc[anos]\n",
    "    df.loc[periodo[0]] = 1\n",
    "        \n",
    "    return df"
   ]
  },
  {
   "cell_type": "code",
   "execution_count": 242,
   "id": "8e07449d-726f-4eaf-ae6b-cb6c9c67e34b",
   "metadata": {
    "execution": {
     "iopub.execute_input": "2024-08-23T16:35:17.905548Z",
     "iopub.status.busy": "2024-08-23T16:35:17.904873Z",
     "iopub.status.idle": "2024-08-23T16:35:17.916787Z",
     "shell.execute_reply": "2024-08-23T16:35:17.915077Z",
     "shell.execute_reply.started": "2024-08-23T16:35:17.905484Z"
    },
    "tags": []
   },
   "outputs": [],
   "source": [
    "def filter_conc_periodo(df_periodos, periodo:list):\n",
    "    ano_min = min(periodo)\n",
    "    ano_max = max(periodo)\n",
    "    anos = [ano for ano in range(ano_min, ano_max + 1)]\n",
    "    \n",
    "    start_date = pd.to_datetime(f'{periodo[0]}-01-01').date()\n",
    "    end_date = pd.to_datetime(f'{periodo[1]}-12-31').date()\n",
    "    \n",
    "    condition = (df_periodos['data_inicial'] <= start_date) & \\\n",
    "                (df_periodos['data_final'] >= end_date)\n",
    "    \n",
    "    df_concs = df_periodos[condition].index\n",
    "    \n",
    "    return df_concs"
   ]
  },
  {
   "cell_type": "code",
   "execution_count": 278,
   "id": "9f9b1bb4-7431-4238-a43f-e0cbd90cf6f6",
   "metadata": {
    "execution": {
     "iopub.execute_input": "2024-08-23T16:43:39.143318Z",
     "iopub.status.busy": "2024-08-23T16:43:39.142483Z",
     "iopub.status.idle": "2024-08-23T16:43:39.152381Z",
     "shell.execute_reply": "2024-08-23T16:43:39.150507Z",
     "shell.execute_reply.started": "2024-08-23T16:43:39.143276Z"
    },
    "tags": []
   },
   "outputs": [],
   "source": [
    "def filter_trafego_periodo(df_trafego, df_periodos, periodo:list):\n",
    "    df_concs = filter_conc_periodo(df_periodos, periodo)\n",
    "    df_trafego = df_trafego.loc[df_concs]\n",
    "    anos_drop = [col for col in df_trafego.columns if (col < periodo[0] - 1) or (col) > periodo[1]]\n",
    "    df_trafego = df_trafego.drop(columns=anos_drop)\n",
    "    df_trafego = df_trafego.T\n",
    "    \n",
    "    # for col in df_trafego:\n",
    "    #     df_trafego[col] = df_trafego[col].pct_change()*100\n",
    "        \n",
    "    # df_trafego = df_trafego.loc[periodo[0]:,:]\n",
    "            \n",
    "    return df_trafego"
   ]
  },
  {
   "cell_type": "code",
   "execution_count": 269,
   "id": "e3f3b665-4e9b-4ea5-94d8-04bed8e2ffd5",
   "metadata": {
    "execution": {
     "iopub.execute_input": "2024-08-23T16:41:55.802777Z",
     "iopub.status.busy": "2024-08-23T16:41:55.802114Z",
     "iopub.status.idle": "2024-08-23T16:41:55.810182Z",
     "shell.execute_reply": "2024-08-23T16:41:55.808805Z",
     "shell.execute_reply.started": "2024-08-23T16:41:55.802729Z"
    },
    "tags": []
   },
   "outputs": [],
   "source": [
    "def calc_perc_change(df_trafego, periodo):\n",
    "    for col in df_trafego:\n",
    "        df_trafego[col] = df_trafego[col].pct_change()*100\n",
    "    df_trafego = df_trafego.loc[periodo[0]:,:]\n",
    "    return df_trafego    "
   ]
  },
  {
   "cell_type": "code",
   "execution_count": 288,
   "id": "dc9baead-3d70-42b1-a8bb-20bcb4675cf6",
   "metadata": {
    "execution": {
     "iopub.execute_input": "2024-08-23T17:48:50.008049Z",
     "iopub.status.busy": "2024-08-23T17:48:50.007386Z",
     "iopub.status.idle": "2024-08-23T17:48:50.040402Z",
     "shell.execute_reply": "2024-08-23T17:48:50.039388Z",
     "shell.execute_reply.started": "2024-08-23T17:48:50.008009Z"
    },
    "tags": []
   },
   "outputs": [
    {
     "data": {
      "text/html": [
       "<div>\n",
       "<style scoped>\n",
       "    .dataframe tbody tr th:only-of-type {\n",
       "        vertical-align: middle;\n",
       "    }\n",
       "\n",
       "    .dataframe tbody tr th {\n",
       "        vertical-align: top;\n",
       "    }\n",
       "\n",
       "    .dataframe thead th {\n",
       "        text-align: right;\n",
       "    }\n",
       "</style>\n",
       "<table border=\"1\" class=\"dataframe\">\n",
       "  <thead>\n",
       "    <tr style=\"text-align: right;\">\n",
       "      <th>concessionaria</th>\n",
       "      <th>TRANSBRASILIANA</th>\n",
       "      <th>RODOVIA DO AÇO</th>\n",
       "      <th>AUTOPISTA FERNÃO DIAS</th>\n",
       "      <th>AUTOPISTA FLUMINENSE</th>\n",
       "      <th>CONCER</th>\n",
       "      <th>AUTOPISTA REGIS BITTENCOURT</th>\n",
       "      <th>AUTOPISTA PLANALTO SUL</th>\n",
       "      <th>AUTOPISTA LITORAL SUL</th>\n",
       "      <th>ECOSUL</th>\n",
       "    </tr>\n",
       "    <tr>\n",
       "      <th>year</th>\n",
       "      <th></th>\n",
       "      <th></th>\n",
       "      <th></th>\n",
       "      <th></th>\n",
       "      <th></th>\n",
       "      <th></th>\n",
       "      <th></th>\n",
       "      <th></th>\n",
       "      <th></th>\n",
       "    </tr>\n",
       "  </thead>\n",
       "  <tbody>\n",
       "    <tr>\n",
       "      <th>2010</th>\n",
       "      <td>15514995.0</td>\n",
       "      <td>12887198.0</td>\n",
       "      <td>92215435.0</td>\n",
       "      <td>23879336.0</td>\n",
       "      <td>13109979.0</td>\n",
       "      <td>114884661.0</td>\n",
       "      <td>19554781.0</td>\n",
       "      <td>69931704.0</td>\n",
       "      <td>14426940.0</td>\n",
       "    </tr>\n",
       "    <tr>\n",
       "      <th>2011</th>\n",
       "      <td>16821634.0</td>\n",
       "      <td>12595032.0</td>\n",
       "      <td>111335578.0</td>\n",
       "      <td>26387101.0</td>\n",
       "      <td>14804816.0</td>\n",
       "      <td>122893798.0</td>\n",
       "      <td>20394485.0</td>\n",
       "      <td>74189265.0</td>\n",
       "      <td>16168263.0</td>\n",
       "    </tr>\n",
       "    <tr>\n",
       "      <th>2012</th>\n",
       "      <td>18435974.0</td>\n",
       "      <td>11550846.0</td>\n",
       "      <td>115803681.0</td>\n",
       "      <td>27188502.0</td>\n",
       "      <td>15723249.0</td>\n",
       "      <td>123630694.0</td>\n",
       "      <td>19941264.0</td>\n",
       "      <td>77030428.0</td>\n",
       "      <td>15672205.0</td>\n",
       "    </tr>\n",
       "    <tr>\n",
       "      <th>2013</th>\n",
       "      <td>18752871.0</td>\n",
       "      <td>12922325.0</td>\n",
       "      <td>117936734.0</td>\n",
       "      <td>26658829.0</td>\n",
       "      <td>16066640.0</td>\n",
       "      <td>126658897.0</td>\n",
       "      <td>20865630.0</td>\n",
       "      <td>78950113.0</td>\n",
       "      <td>19186163.0</td>\n",
       "    </tr>\n",
       "    <tr>\n",
       "      <th>2014</th>\n",
       "      <td>18614344.0</td>\n",
       "      <td>12850352.0</td>\n",
       "      <td>114170690.0</td>\n",
       "      <td>25867004.0</td>\n",
       "      <td>15291939.0</td>\n",
       "      <td>123633793.0</td>\n",
       "      <td>21843099.0</td>\n",
       "      <td>98370521.0</td>\n",
       "      <td>19934187.0</td>\n",
       "    </tr>\n",
       "    <tr>\n",
       "      <th>2015</th>\n",
       "      <td>16416821.0</td>\n",
       "      <td>11591431.0</td>\n",
       "      <td>100205946.0</td>\n",
       "      <td>23157283.0</td>\n",
       "      <td>12496258.0</td>\n",
       "      <td>109082995.0</td>\n",
       "      <td>18344124.0</td>\n",
       "      <td>85115093.0</td>\n",
       "      <td>19358373.0</td>\n",
       "    </tr>\n",
       "    <tr>\n",
       "      <th>2016</th>\n",
       "      <td>15616264.0</td>\n",
       "      <td>10991740.0</td>\n",
       "      <td>95414669.0</td>\n",
       "      <td>20074706.0</td>\n",
       "      <td>10926452.0</td>\n",
       "      <td>102808795.0</td>\n",
       "      <td>17293967.0</td>\n",
       "      <td>79373266.0</td>\n",
       "      <td>18450658.0</td>\n",
       "    </tr>\n",
       "    <tr>\n",
       "      <th>2017</th>\n",
       "      <td>14865436.0</td>\n",
       "      <td>11594869.0</td>\n",
       "      <td>99033693.0</td>\n",
       "      <td>18511070.0</td>\n",
       "      <td>10202246.0</td>\n",
       "      <td>107596803.0</td>\n",
       "      <td>17118560.0</td>\n",
       "      <td>74168422.0</td>\n",
       "      <td>18671702.0</td>\n",
       "    </tr>\n",
       "    <tr>\n",
       "      <th>2018</th>\n",
       "      <td>14473693.0</td>\n",
       "      <td>11896078.0</td>\n",
       "      <td>100147329.0</td>\n",
       "      <td>18344987.0</td>\n",
       "      <td>10505250.0</td>\n",
       "      <td>110472028.0</td>\n",
       "      <td>18010664.0</td>\n",
       "      <td>75195173.0</td>\n",
       "      <td>18907997.0</td>\n",
       "    </tr>\n",
       "    <tr>\n",
       "      <th>2019</th>\n",
       "      <td>15114298.0</td>\n",
       "      <td>11944904.0</td>\n",
       "      <td>120213584.0</td>\n",
       "      <td>19389701.0</td>\n",
       "      <td>11027058.0</td>\n",
       "      <td>115068594.0</td>\n",
       "      <td>18899658.0</td>\n",
       "      <td>79392131.0</td>\n",
       "      <td>18599182.0</td>\n",
       "    </tr>\n",
       "    <tr>\n",
       "      <th>2020</th>\n",
       "      <td>15788230.0</td>\n",
       "      <td>11674995.0</td>\n",
       "      <td>125148920.0</td>\n",
       "      <td>20228759.0</td>\n",
       "      <td>10553578.0</td>\n",
       "      <td>117259008.0</td>\n",
       "      <td>19558701.0</td>\n",
       "      <td>81524063.0</td>\n",
       "      <td>18051918.0</td>\n",
       "    </tr>\n",
       "    <tr>\n",
       "      <th>2021</th>\n",
       "      <td>16278144.0</td>\n",
       "      <td>12551186.0</td>\n",
       "      <td>141129080.0</td>\n",
       "      <td>24022277.0</td>\n",
       "      <td>11169407.0</td>\n",
       "      <td>131519823.0</td>\n",
       "      <td>22673561.0</td>\n",
       "      <td>91935103.0</td>\n",
       "      <td>21509301.0</td>\n",
       "    </tr>\n",
       "    <tr>\n",
       "      <th>2022</th>\n",
       "      <td>16872695.0</td>\n",
       "      <td>12456415.0</td>\n",
       "      <td>114096463.0</td>\n",
       "      <td>23980549.0</td>\n",
       "      <td>11038138.0</td>\n",
       "      <td>128857376.0</td>\n",
       "      <td>23807238.0</td>\n",
       "      <td>90762688.0</td>\n",
       "      <td>17553412.0</td>\n",
       "    </tr>\n",
       "    <tr>\n",
       "      <th>2023</th>\n",
       "      <td>16426187.0</td>\n",
       "      <td>12951613.0</td>\n",
       "      <td>115839580.0</td>\n",
       "      <td>24437037.0</td>\n",
       "      <td>11360458.0</td>\n",
       "      <td>130655707.0</td>\n",
       "      <td>24238904.0</td>\n",
       "      <td>95983771.0</td>\n",
       "      <td>20311687.0</td>\n",
       "    </tr>\n",
       "  </tbody>\n",
       "</table>\n",
       "</div>"
      ],
      "text/plain": [
       "concessionaria  TRANSBRASILIANA  RODOVIA DO AÇO  AUTOPISTA FERNÃO DIAS  \\\n",
       "year                                                                     \n",
       "2010                 15514995.0      12887198.0             92215435.0   \n",
       "2011                 16821634.0      12595032.0            111335578.0   \n",
       "2012                 18435974.0      11550846.0            115803681.0   \n",
       "2013                 18752871.0      12922325.0            117936734.0   \n",
       "2014                 18614344.0      12850352.0            114170690.0   \n",
       "2015                 16416821.0      11591431.0            100205946.0   \n",
       "2016                 15616264.0      10991740.0             95414669.0   \n",
       "2017                 14865436.0      11594869.0             99033693.0   \n",
       "2018                 14473693.0      11896078.0            100147329.0   \n",
       "2019                 15114298.0      11944904.0            120213584.0   \n",
       "2020                 15788230.0      11674995.0            125148920.0   \n",
       "2021                 16278144.0      12551186.0            141129080.0   \n",
       "2022                 16872695.0      12456415.0            114096463.0   \n",
       "2023                 16426187.0      12951613.0            115839580.0   \n",
       "\n",
       "concessionaria  AUTOPISTA FLUMINENSE      CONCER  AUTOPISTA REGIS BITTENCOURT  \\\n",
       "year                                                                            \n",
       "2010                      23879336.0  13109979.0                  114884661.0   \n",
       "2011                      26387101.0  14804816.0                  122893798.0   \n",
       "2012                      27188502.0  15723249.0                  123630694.0   \n",
       "2013                      26658829.0  16066640.0                  126658897.0   \n",
       "2014                      25867004.0  15291939.0                  123633793.0   \n",
       "2015                      23157283.0  12496258.0                  109082995.0   \n",
       "2016                      20074706.0  10926452.0                  102808795.0   \n",
       "2017                      18511070.0  10202246.0                  107596803.0   \n",
       "2018                      18344987.0  10505250.0                  110472028.0   \n",
       "2019                      19389701.0  11027058.0                  115068594.0   \n",
       "2020                      20228759.0  10553578.0                  117259008.0   \n",
       "2021                      24022277.0  11169407.0                  131519823.0   \n",
       "2022                      23980549.0  11038138.0                  128857376.0   \n",
       "2023                      24437037.0  11360458.0                  130655707.0   \n",
       "\n",
       "concessionaria  AUTOPISTA PLANALTO SUL  AUTOPISTA LITORAL SUL      ECOSUL  \n",
       "year                                                                       \n",
       "2010                        19554781.0             69931704.0  14426940.0  \n",
       "2011                        20394485.0             74189265.0  16168263.0  \n",
       "2012                        19941264.0             77030428.0  15672205.0  \n",
       "2013                        20865630.0             78950113.0  19186163.0  \n",
       "2014                        21843099.0             98370521.0  19934187.0  \n",
       "2015                        18344124.0             85115093.0  19358373.0  \n",
       "2016                        17293967.0             79373266.0  18450658.0  \n",
       "2017                        17118560.0             74168422.0  18671702.0  \n",
       "2018                        18010664.0             75195173.0  18907997.0  \n",
       "2019                        18899658.0             79392131.0  18599182.0  \n",
       "2020                        19558701.0             81524063.0  18051918.0  \n",
       "2021                        22673561.0             91935103.0  21509301.0  \n",
       "2022                        23807238.0             90762688.0  17553412.0  \n",
       "2023                        24238904.0             95983771.0  20311687.0  "
      ]
     },
     "execution_count": 288,
     "metadata": {},
     "output_type": "execute_result"
    }
   ],
   "source": [
    "filter_trafego_periodo(df_veqs_comercial, df_periodos, [2010,2023])"
   ]
  },
  {
   "cell_type": "code",
   "execution_count": 262,
   "id": "740a8e25-9f9c-43f7-9d7c-989818756d1d",
   "metadata": {
    "execution": {
     "iopub.execute_input": "2024-08-23T16:38:46.294930Z",
     "iopub.status.busy": "2024-08-23T16:38:46.294339Z",
     "iopub.status.idle": "2024-08-23T16:38:46.301302Z",
     "shell.execute_reply": "2024-08-23T16:38:46.300405Z",
     "shell.execute_reply.started": "2024-08-23T16:38:46.294889Z"
    },
    "tags": []
   },
   "outputs": [],
   "source": [
    "def create_df_PIB_concs(df_trafego, df_PIB, df_periodos, periodo:list):\n",
    "    \n",
    "    X_PIB = pd.DataFrame(filter_PIB_periodo(df_PIB, periodo))\n",
    "    y_veqs = filter_trafego_periodo(df_trafego, df_periodos, periodo)\n",
    "    \n",
    "    df_PIB_concs = X_PIB.join(y_veqs)  \n",
    "        \n",
    "    return df_PIB_concs"
   ]
  },
  {
   "cell_type": "code",
   "execution_count": 295,
   "id": "c7b4a310-1653-403f-8d2e-105e735cea6c",
   "metadata": {
    "execution": {
     "iopub.execute_input": "2024-08-23T17:53:30.936608Z",
     "iopub.status.busy": "2024-08-23T17:53:30.935937Z",
     "iopub.status.idle": "2024-08-23T17:53:30.945048Z",
     "shell.execute_reply": "2024-08-23T17:53:30.943733Z",
     "shell.execute_reply.started": "2024-08-23T17:53:30.936566Z"
    },
    "tags": []
   },
   "outputs": [],
   "source": [
    "def regressao(df_y, df_periodos, conc, df_X, periodo, fit_intercept=True):\n",
    "    y_train = filter_trafego_periodo(df_y, df_periodos, periodo)[conc]\n",
    "    y_train = calc_perc_change(pd.DataFrame(y_train), periodo)\n",
    "    X_train = filter_PIB_periodo(df_PIB, periodo)\n",
    "    \n",
    "    y_train = pd.DataFrame(y_train)\n",
    "    X_train = pd.DataFrame(X_train)\n",
    "\n",
    "    if fit_intercept:\n",
    "        X_train = sm.add_constant(X_train)\n",
    "    \n",
    "    model = sm.OLS(y_train, X_train).fit()\n",
    "    \n",
    "    return model"
   ]
  },
  {
   "cell_type": "code",
   "execution_count": 384,
   "id": "d57c896a-5fa5-4fde-96b2-0af71f8e0b7f",
   "metadata": {
    "execution": {
     "iopub.execute_input": "2024-08-23T18:08:01.849968Z",
     "iopub.status.busy": "2024-08-23T18:08:01.849249Z",
     "iopub.status.idle": "2024-08-23T18:08:01.859685Z",
     "shell.execute_reply": "2024-08-23T18:08:01.858492Z",
     "shell.execute_reply.started": "2024-08-23T18:08:01.849925Z"
    },
    "tags": []
   },
   "outputs": [],
   "source": [
    "def make_models(df_veqs, df_periodos, df_X, periodo, fit_intercept=True):\n",
    "    concs = filter_trafego_periodo(df_veqs, df_periodos, periodo).columns\n",
    "    df_stats = pd.DataFrame(index=concs)\n",
    "    \n",
    "    for conc in concs:\n",
    "        model = regressao(df_veqs, df_periodos, conc, df_X, periodo, fit_intercept=fit_intercept)\n",
    "        param_name = model.params.index\n",
    "        df_stats.loc[conc, 'R2'] = model.rsquared\n",
    "        df_stats.loc[conc, f'{param_name[0]}-coef'] = model.params.iloc[0]\n",
    "        df_stats.loc[conc, f'{model.pvalues.index[0]}-p-valor'] = model.pvalues.iloc[0]\n",
    "\n",
    "    return df_stats"
   ]
  },
  {
   "cell_type": "markdown",
   "id": "638a08ca-0f46-4c4a-8989-b57732ecaacb",
   "metadata": {},
   "source": [
    "# REGRESSÃO"
   ]
  },
  {
   "cell_type": "markdown",
   "id": "f10c6af2-1536-4d21-aa3e-8fc70a3b0493",
   "metadata": {},
   "source": [
    "## Periodo 2011-2023"
   ]
  },
  {
   "cell_type": "code",
   "execution_count": 389,
   "id": "5b6ddfce-3a79-4234-8264-e17a9eba83ad",
   "metadata": {
    "execution": {
     "iopub.execute_input": "2024-08-23T18:09:27.041213Z",
     "iopub.status.busy": "2024-08-23T18:09:27.040539Z",
     "iopub.status.idle": "2024-08-23T18:09:27.171526Z",
     "shell.execute_reply": "2024-08-23T18:09:27.169884Z",
     "shell.execute_reply.started": "2024-08-23T18:09:27.041169Z"
    },
    "tags": []
   },
   "outputs": [
    {
     "data": {
      "text/html": [
       "<div>\n",
       "<style scoped>\n",
       "    .dataframe tbody tr th:only-of-type {\n",
       "        vertical-align: middle;\n",
       "    }\n",
       "\n",
       "    .dataframe tbody tr th {\n",
       "        vertical-align: top;\n",
       "    }\n",
       "\n",
       "    .dataframe thead th {\n",
       "        text-align: right;\n",
       "    }\n",
       "</style>\n",
       "<table border=\"1\" class=\"dataframe\">\n",
       "  <thead>\n",
       "    <tr style=\"text-align: right;\">\n",
       "      <th></th>\n",
       "      <th>R2</th>\n",
       "      <th>PIB_real-coef</th>\n",
       "      <th>PIB_real-p-valor</th>\n",
       "    </tr>\n",
       "    <tr>\n",
       "      <th>concessionaria</th>\n",
       "      <th></th>\n",
       "      <th></th>\n",
       "      <th></th>\n",
       "    </tr>\n",
       "  </thead>\n",
       "  <tbody>\n",
       "    <tr>\n",
       "      <th>TRANSBRASILIANA</th>\n",
       "      <td>0.187843</td>\n",
       "      <td>0.922658</td>\n",
       "      <td>0.121587</td>\n",
       "    </tr>\n",
       "    <tr>\n",
       "      <th>RODOVIA DO AÇO</th>\n",
       "      <td>0.416907</td>\n",
       "      <td>1.411764</td>\n",
       "      <td>0.012624</td>\n",
       "    </tr>\n",
       "    <tr>\n",
       "      <th>AUTOPISTA FERNÃO DIAS</th>\n",
       "      <td>0.090191</td>\n",
       "      <td>1.233776</td>\n",
       "      <td>0.296831</td>\n",
       "    </tr>\n",
       "    <tr>\n",
       "      <th>AUTOPISTA FLUMINENSE</th>\n",
       "      <td>0.324131</td>\n",
       "      <td>1.742415</td>\n",
       "      <td>0.033583</td>\n",
       "    </tr>\n",
       "    <tr>\n",
       "      <th>CONCER</th>\n",
       "      <td>0.415267</td>\n",
       "      <td>1.948134</td>\n",
       "      <td>0.012857</td>\n",
       "    </tr>\n",
       "    <tr>\n",
       "      <th>AUTOPISTA REGIS BITTENCOURT</th>\n",
       "      <td>0.478093</td>\n",
       "      <td>1.483594</td>\n",
       "      <td>0.006161</td>\n",
       "    </tr>\n",
       "    <tr>\n",
       "      <th>AUTOPISTA PLANALTO SUL</th>\n",
       "      <td>0.545963</td>\n",
       "      <td>2.012901</td>\n",
       "      <td>0.002536</td>\n",
       "    </tr>\n",
       "    <tr>\n",
       "      <th>AUTOPISTA LITORAL SUL</th>\n",
       "      <td>0.256490</td>\n",
       "      <td>1.781030</td>\n",
       "      <td>0.064601</td>\n",
       "    </tr>\n",
       "    <tr>\n",
       "      <th>ECOSUL</th>\n",
       "      <td>0.237700</td>\n",
       "      <td>2.047181</td>\n",
       "      <td>0.076993</td>\n",
       "    </tr>\n",
       "  </tbody>\n",
       "</table>\n",
       "</div>"
      ],
      "text/plain": [
       "                                   R2  PIB_real-coef  PIB_real-p-valor\n",
       "concessionaria                                                        \n",
       "TRANSBRASILIANA              0.187843       0.922658          0.121587\n",
       "RODOVIA DO AÇO               0.416907       1.411764          0.012624\n",
       "AUTOPISTA FERNÃO DIAS        0.090191       1.233776          0.296831\n",
       "AUTOPISTA FLUMINENSE         0.324131       1.742415          0.033583\n",
       "CONCER                       0.415267       1.948134          0.012857\n",
       "AUTOPISTA REGIS BITTENCOURT  0.478093       1.483594          0.006161\n",
       "AUTOPISTA PLANALTO SUL       0.545963       2.012901          0.002536\n",
       "AUTOPISTA LITORAL SUL        0.256490       1.781030          0.064601\n",
       "ECOSUL                       0.237700       2.047181          0.076993"
      ]
     },
     "execution_count": 389,
     "metadata": {},
     "output_type": "execute_result"
    }
   ],
   "source": [
    "model_11_23 = make_models(df_veqs_comercial, df_periodos, df_PIB, [2011, 2023], fit_intercept=False)\n",
    "model_11_23"
   ]
  },
  {
   "cell_type": "code",
   "execution_count": 391,
   "id": "0f6d6851-6b0c-4c1a-b623-82e555fa4d0b",
   "metadata": {
    "execution": {
     "iopub.execute_input": "2024-08-23T18:09:49.362715Z",
     "iopub.status.busy": "2024-08-23T18:09:49.362181Z",
     "iopub.status.idle": "2024-08-23T18:09:49.372327Z",
     "shell.execute_reply": "2024-08-23T18:09:49.371088Z",
     "shell.execute_reply.started": "2024-08-23T18:09:49.362674Z"
    }
   },
   "outputs": [
    {
     "data": {
      "text/plain": [
       "np.float64(0.3280651550138982)"
      ]
     },
     "execution_count": 391,
     "metadata": {},
     "output_type": "execute_result"
    }
   ],
   "source": [
    "model_11_23['R2'].mean()"
   ]
  },
  {
   "cell_type": "code",
   "execution_count": 392,
   "id": "393c5ce4-0251-46d1-84bc-d2d848372a32",
   "metadata": {
    "execution": {
     "iopub.execute_input": "2024-08-23T18:10:04.982199Z",
     "iopub.status.busy": "2024-08-23T18:10:04.981655Z",
     "iopub.status.idle": "2024-08-23T18:10:04.993793Z",
     "shell.execute_reply": "2024-08-23T18:10:04.991061Z",
     "shell.execute_reply.started": "2024-08-23T18:10:04.982157Z"
    }
   },
   "outputs": [
    {
     "data": {
      "text/plain": [
       "np.float64(0.06975263319666872)"
      ]
     },
     "execution_count": 392,
     "metadata": {},
     "output_type": "execute_result"
    }
   ],
   "source": [
    "model_11_23['PIB_real-p-valor'].mean()"
   ]
  },
  {
   "cell_type": "code",
   "execution_count": 395,
   "id": "03de41e9-4122-4356-91a2-09243b87369f",
   "metadata": {
    "execution": {
     "iopub.execute_input": "2024-08-23T18:13:34.439250Z",
     "iopub.status.busy": "2024-08-23T18:13:34.438573Z",
     "iopub.status.idle": "2024-08-23T18:13:34.447412Z",
     "shell.execute_reply": "2024-08-23T18:13:34.446218Z",
     "shell.execute_reply.started": "2024-08-23T18:13:34.439209Z"
    }
   },
   "outputs": [
    {
     "data": {
      "text/plain": [
       "np.float64(1.6203835338934016)"
      ]
     },
     "execution_count": 395,
     "metadata": {},
     "output_type": "execute_result"
    }
   ],
   "source": [
    "model_11_23['PIB_real-coef'].mean()"
   ]
  },
  {
   "cell_type": "markdown",
   "id": "8ef507c1-bc53-41af-8810-3f5317088151",
   "metadata": {},
   "source": [
    "## Periodo 2017-2023"
   ]
  },
  {
   "cell_type": "code",
   "execution_count": 390,
   "id": "48181298-1e14-4f87-90d5-3ec4d97eb5b5",
   "metadata": {
    "execution": {
     "iopub.execute_input": "2024-08-23T18:09:38.230015Z",
     "iopub.status.busy": "2024-08-23T18:09:38.229323Z",
     "iopub.status.idle": "2024-08-23T18:09:38.399701Z",
     "shell.execute_reply": "2024-08-23T18:09:38.398313Z",
     "shell.execute_reply.started": "2024-08-23T18:09:38.229974Z"
    },
    "tags": []
   },
   "outputs": [
    {
     "data": {
      "text/html": [
       "<div>\n",
       "<style scoped>\n",
       "    .dataframe tbody tr th:only-of-type {\n",
       "        vertical-align: middle;\n",
       "    }\n",
       "\n",
       "    .dataframe tbody tr th {\n",
       "        vertical-align: top;\n",
       "    }\n",
       "\n",
       "    .dataframe thead th {\n",
       "        text-align: right;\n",
       "    }\n",
       "</style>\n",
       "<table border=\"1\" class=\"dataframe\">\n",
       "  <thead>\n",
       "    <tr style=\"text-align: right;\">\n",
       "      <th></th>\n",
       "      <th>R2</th>\n",
       "      <th>PIB_real-coef</th>\n",
       "      <th>PIB_real-p-valor</th>\n",
       "    </tr>\n",
       "    <tr>\n",
       "      <th>concessionaria</th>\n",
       "      <th></th>\n",
       "      <th></th>\n",
       "      <th></th>\n",
       "    </tr>\n",
       "  </thead>\n",
       "  <tbody>\n",
       "    <tr>\n",
       "      <th>MSVIA</th>\n",
       "      <td>0.287888</td>\n",
       "      <td>1.696313</td>\n",
       "      <td>0.170373</td>\n",
       "    </tr>\n",
       "    <tr>\n",
       "      <th>CRO</th>\n",
       "      <td>0.448201</td>\n",
       "      <td>1.309613</td>\n",
       "      <td>0.069372</td>\n",
       "    </tr>\n",
       "    <tr>\n",
       "      <th>VIA 040</th>\n",
       "      <td>0.342956</td>\n",
       "      <td>1.257074</td>\n",
       "      <td>0.127178</td>\n",
       "    </tr>\n",
       "    <tr>\n",
       "      <th>ECOPONTE</th>\n",
       "      <td>0.181272</td>\n",
       "      <td>5.140400</td>\n",
       "      <td>0.292926</td>\n",
       "    </tr>\n",
       "    <tr>\n",
       "      <th>CONCEBRA</th>\n",
       "      <td>0.047675</td>\n",
       "      <td>0.353209</td>\n",
       "      <td>0.603427</td>\n",
       "    </tr>\n",
       "    <tr>\n",
       "      <th>ECO050</th>\n",
       "      <td>0.080677</td>\n",
       "      <td>0.752466</td>\n",
       "      <td>0.495381</td>\n",
       "    </tr>\n",
       "    <tr>\n",
       "      <th>ECO101 CONCESSIONARIA DE RODOVIAS S/A</th>\n",
       "      <td>0.336337</td>\n",
       "      <td>1.268124</td>\n",
       "      <td>0.131821</td>\n",
       "    </tr>\n",
       "    <tr>\n",
       "      <th>VIA BAHIA</th>\n",
       "      <td>0.099740</td>\n",
       "      <td>0.376899</td>\n",
       "      <td>0.446040</td>\n",
       "    </tr>\n",
       "    <tr>\n",
       "      <th>TRANSBRASILIANA</th>\n",
       "      <td>0.000069</td>\n",
       "      <td>-0.011017</td>\n",
       "      <td>0.984413</td>\n",
       "    </tr>\n",
       "    <tr>\n",
       "      <th>RODOVIA DO AÇO</th>\n",
       "      <td>0.610695</td>\n",
       "      <td>1.112483</td>\n",
       "      <td>0.022001</td>\n",
       "    </tr>\n",
       "    <tr>\n",
       "      <th>AUTOPISTA FERNÃO DIAS</th>\n",
       "      <td>0.010655</td>\n",
       "      <td>0.426262</td>\n",
       "      <td>0.807828</td>\n",
       "    </tr>\n",
       "    <tr>\n",
       "      <th>AUTOPISTA FLUMINENSE</th>\n",
       "      <td>0.227382</td>\n",
       "      <td>1.370379</td>\n",
       "      <td>0.232202</td>\n",
       "    </tr>\n",
       "    <tr>\n",
       "      <th>CONCER</th>\n",
       "      <td>0.335122</td>\n",
       "      <td>0.909369</td>\n",
       "      <td>0.132689</td>\n",
       "    </tr>\n",
       "    <tr>\n",
       "      <th>AUTOPISTA REGIS BITTENCOURT</th>\n",
       "      <td>0.355776</td>\n",
       "      <td>1.131002</td>\n",
       "      <td>0.118570</td>\n",
       "    </tr>\n",
       "    <tr>\n",
       "      <th>AUTOPISTA PLANALTO SUL</th>\n",
       "      <td>0.499317</td>\n",
       "      <td>1.747733</td>\n",
       "      <td>0.050052</td>\n",
       "    </tr>\n",
       "    <tr>\n",
       "      <th>AUTOPISTA LITORAL SUL</th>\n",
       "      <td>0.286794</td>\n",
       "      <td>1.192775</td>\n",
       "      <td>0.171345</td>\n",
       "    </tr>\n",
       "    <tr>\n",
       "      <th>ECOSUL</th>\n",
       "      <td>0.156128</td>\n",
       "      <td>1.631784</td>\n",
       "      <td>0.332633</td>\n",
       "    </tr>\n",
       "  </tbody>\n",
       "</table>\n",
       "</div>"
      ],
      "text/plain": [
       "                                             R2  PIB_real-coef  \\\n",
       "concessionaria                                                   \n",
       "MSVIA                                  0.287888       1.696313   \n",
       "CRO                                    0.448201       1.309613   \n",
       "VIA 040                                0.342956       1.257074   \n",
       "ECOPONTE                               0.181272       5.140400   \n",
       "CONCEBRA                               0.047675       0.353209   \n",
       "ECO050                                 0.080677       0.752466   \n",
       "ECO101 CONCESSIONARIA DE RODOVIAS S/A  0.336337       1.268124   \n",
       "VIA BAHIA                              0.099740       0.376899   \n",
       "TRANSBRASILIANA                        0.000069      -0.011017   \n",
       "RODOVIA DO AÇO                         0.610695       1.112483   \n",
       "AUTOPISTA FERNÃO DIAS                  0.010655       0.426262   \n",
       "AUTOPISTA FLUMINENSE                   0.227382       1.370379   \n",
       "CONCER                                 0.335122       0.909369   \n",
       "AUTOPISTA REGIS BITTENCOURT            0.355776       1.131002   \n",
       "AUTOPISTA PLANALTO SUL                 0.499317       1.747733   \n",
       "AUTOPISTA LITORAL SUL                  0.286794       1.192775   \n",
       "ECOSUL                                 0.156128       1.631784   \n",
       "\n",
       "                                       PIB_real-p-valor  \n",
       "concessionaria                                           \n",
       "MSVIA                                          0.170373  \n",
       "CRO                                            0.069372  \n",
       "VIA 040                                        0.127178  \n",
       "ECOPONTE                                       0.292926  \n",
       "CONCEBRA                                       0.603427  \n",
       "ECO050                                         0.495381  \n",
       "ECO101 CONCESSIONARIA DE RODOVIAS S/A          0.131821  \n",
       "VIA BAHIA                                      0.446040  \n",
       "TRANSBRASILIANA                                0.984413  \n",
       "RODOVIA DO AÇO                                 0.022001  \n",
       "AUTOPISTA FERNÃO DIAS                          0.807828  \n",
       "AUTOPISTA FLUMINENSE                           0.232202  \n",
       "CONCER                                         0.132689  \n",
       "AUTOPISTA REGIS BITTENCOURT                    0.118570  \n",
       "AUTOPISTA PLANALTO SUL                         0.050052  \n",
       "AUTOPISTA LITORAL SUL                          0.171345  \n",
       "ECOSUL                                         0.332633  "
      ]
     },
     "execution_count": 390,
     "metadata": {},
     "output_type": "execute_result"
    }
   ],
   "source": [
    "model_17_23 = make_models(df_veqs_comercial, df_periodos, df_PIB, [2017, 2023], fit_intercept=False)\n",
    "model_17_23"
   ]
  },
  {
   "cell_type": "code",
   "execution_count": 393,
   "id": "91596dcf-765a-437d-91d6-5cbca33eea8f",
   "metadata": {
    "execution": {
     "iopub.execute_input": "2024-08-23T18:10:22.431558Z",
     "iopub.status.busy": "2024-08-23T18:10:22.430902Z",
     "iopub.status.idle": "2024-08-23T18:10:22.440542Z",
     "shell.execute_reply": "2024-08-23T18:10:22.439383Z",
     "shell.execute_reply.started": "2024-08-23T18:10:22.431518Z"
    }
   },
   "outputs": [
    {
     "data": {
      "text/plain": [
       "np.float64(0.253334267863935)"
      ]
     },
     "execution_count": 393,
     "metadata": {},
     "output_type": "execute_result"
    }
   ],
   "source": [
    "model_17_23['R2'].mean()"
   ]
  },
  {
   "cell_type": "code",
   "execution_count": 394,
   "id": "e475c590-6bb6-4f13-81b4-e180edd30d66",
   "metadata": {
    "execution": {
     "iopub.execute_input": "2024-08-23T18:10:22.571105Z",
     "iopub.status.busy": "2024-08-23T18:10:22.570519Z",
     "iopub.status.idle": "2024-08-23T18:10:22.578899Z",
     "shell.execute_reply": "2024-08-23T18:10:22.577918Z",
     "shell.execute_reply.started": "2024-08-23T18:10:22.571064Z"
    }
   },
   "outputs": [
    {
     "data": {
      "text/plain": [
       "np.float64(0.30519121532145)"
      ]
     },
     "execution_count": 394,
     "metadata": {},
     "output_type": "execute_result"
    }
   ],
   "source": [
    "model_17_23['PIB_real-p-valor'].mean()"
   ]
  },
  {
   "cell_type": "code",
   "execution_count": 396,
   "id": "37eca465-4aa2-46ad-869d-ecec9a0fc9bd",
   "metadata": {
    "execution": {
     "iopub.execute_input": "2024-08-23T18:13:42.062496Z",
     "iopub.status.busy": "2024-08-23T18:13:42.061817Z",
     "iopub.status.idle": "2024-08-23T18:13:42.070122Z",
     "shell.execute_reply": "2024-08-23T18:13:42.068971Z",
     "shell.execute_reply.started": "2024-08-23T18:13:42.062455Z"
    }
   },
   "outputs": [
    {
     "data": {
      "text/plain": [
       "np.float64(1.2744039613345777)"
      ]
     },
     "execution_count": 396,
     "metadata": {},
     "output_type": "execute_result"
    }
   ],
   "source": [
    "model_17_23['PIB_real-coef'].mean()"
   ]
  },
  {
   "cell_type": "markdown",
   "id": "6af452f6-9d55-4717-9d6f-16532f8c3230",
   "metadata": {},
   "source": [
    "# Salvando para excel"
   ]
  },
  {
   "cell_type": "code",
   "execution_count": 403,
   "id": "a7d5331f-595b-49c6-a1f1-440bee4f05ef",
   "metadata": {
    "execution": {
     "iopub.execute_input": "2024-08-23T18:27:41.980164Z",
     "iopub.status.busy": "2024-08-23T18:27:41.978782Z",
     "iopub.status.idle": "2024-08-23T18:27:42.597963Z",
     "shell.execute_reply": "2024-08-23T18:27:42.596757Z",
     "shell.execute_reply.started": "2024-08-23T18:27:41.980116Z"
    },
    "tags": []
   },
   "outputs": [],
   "source": [
    "with pd.ExcelWriter(path_outputs / 'resultado_modelos_PIB.xlsx') as writer:\n",
    "    # df_resultados = pd.DataFrame(index=df_periodos.index)\n",
    "    for p in periodos:\n",
    "        for key, veq in dict_veqs.items():\n",
    "            df_resultados = make_models(veq, df_periodos, df_PIB, p, fit_intercept=False)\n",
    "            sheet_name = f'{p[0]}-{p[1]}-{key}'\n",
    "            df_resultados.to_excel(writer, sheet_name = sheet_name)        "
   ]
  },
  {
   "cell_type": "code",
   "execution_count": null,
   "id": "a5eb1ccf-3428-4173-bb26-cbe0fb35e6ef",
   "metadata": {},
   "outputs": [],
   "source": []
  }
 ],
 "metadata": {
  "kernelspec": {
   "display_name": "infra-data",
   "language": "python",
   "name": "infra-data"
  },
  "language_info": {
   "codemirror_mode": {
    "name": "ipython",
    "version": 3
   },
   "file_extension": ".py",
   "mimetype": "text/x-python",
   "name": "python",
   "nbconvert_exporter": "python",
   "pygments_lexer": "ipython3",
   "version": "3.9.16"
  }
 },
 "nbformat": 4,
 "nbformat_minor": 5
}
