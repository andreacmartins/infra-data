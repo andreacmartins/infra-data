{
 "cells": [
  {
   "cell_type": "markdown",
   "id": "5ef1980a-1607-49a8-9006-fdf0d3d6d80e",
   "metadata": {},
   "source": [
    "# IMPORTS"
   ]
  },
  {
   "cell_type": "code",
   "execution_count": 1,
   "id": "24b2fbe4-04e5-4c82-8abb-70d9907bb94b",
   "metadata": {
    "execution": {
     "iopub.execute_input": "2024-08-21T20:35:50.736004Z",
     "iopub.status.busy": "2024-08-21T20:35:50.734518Z",
     "iopub.status.idle": "2024-08-21T20:35:51.334501Z",
     "shell.execute_reply": "2024-08-21T20:35:51.333561Z",
     "shell.execute_reply.started": "2024-08-21T20:35:50.735951Z"
    },
    "tags": []
   },
   "outputs": [],
   "source": [
    "import pandas as pd\n",
    "import numpy as np\n",
    "import os\n",
    "from decimal import Decimal\n",
    "import pickle\n",
    "from pathlib import Path"
   ]
  },
  {
   "cell_type": "markdown",
   "id": "95c951db-275a-4345-8a52-180762be4383",
   "metadata": {
    "execution": {
     "iopub.execute_input": "2024-08-20T19:55:44.418829Z",
     "iopub.status.busy": "2024-08-20T19:55:44.417516Z",
     "iopub.status.idle": "2024-08-20T19:55:44.424840Z",
     "shell.execute_reply": "2024-08-20T19:55:44.422826Z",
     "shell.execute_reply.started": "2024-08-20T19:55:44.418787Z"
    }
   },
   "source": [
    "# SETUP"
   ]
  },
  {
   "cell_type": "code",
   "execution_count": 2,
   "id": "063f912e-4ab5-4542-bc20-86c57d2f0bae",
   "metadata": {
    "execution": {
     "iopub.execute_input": "2024-08-21T20:35:52.446146Z",
     "iopub.status.busy": "2024-08-21T20:35:52.444747Z",
     "iopub.status.idle": "2024-08-21T20:35:52.452421Z",
     "shell.execute_reply": "2024-08-21T20:35:52.450879Z",
     "shell.execute_reply.started": "2024-08-21T20:35:52.446107Z"
    },
    "tags": []
   },
   "outputs": [],
   "source": [
    "dir_tree_util_path = os.path.join(\"utils\", \"dir_tree.py\")\n",
    "exec(open(dir_tree_util_path).read())"
   ]
  },
  {
   "cell_type": "markdown",
   "id": "1405ef31-8509-4565-9304-e6efd69c7eed",
   "metadata": {},
   "source": [
    "# INPUTS"
   ]
  },
  {
   "cell_type": "code",
   "execution_count": 4,
   "id": "3b43b23b-1a5c-4658-91ad-8863019ee433",
   "metadata": {
    "execution": {
     "iopub.execute_input": "2024-08-21T20:36:10.382355Z",
     "iopub.status.busy": "2024-08-21T20:36:10.381254Z",
     "iopub.status.idle": "2024-08-21T20:36:10.386766Z",
     "shell.execute_reply": "2024-08-21T20:36:10.385870Z",
     "shell.execute_reply.started": "2024-08-21T20:36:10.382315Z"
    },
    "tags": []
   },
   "outputs": [],
   "source": [
    "# Paths\n",
    "path_inputs_ANTT = PROJECT_DIRS[\"DADOS_DERIVADOS_DIR\"]\n",
    "path_output = '#'"
   ]
  },
  {
   "cell_type": "code",
   "execution_count": null,
   "id": "5125f421-b144-4f51-8567-68d3653a7cc2",
   "metadata": {},
   "outputs": [],
   "source": []
  },
  {
   "cell_type": "code",
   "execution_count": null,
   "id": "a0549922-fccb-4cf2-840f-5e979c0404ae",
   "metadata": {},
   "outputs": [],
   "source": []
  }
 ],
 "metadata": {
  "kernelspec": {
   "display_name": "infra-data",
   "language": "python",
   "name": "infra-data"
  },
  "language_info": {
   "codemirror_mode": {
    "name": "ipython",
    "version": 3
   },
   "file_extension": ".py",
   "mimetype": "text/x-python",
   "name": "python",
   "nbconvert_exporter": "python",
   "pygments_lexer": "ipython3",
   "version": "3.9.16"
  }
 },
 "nbformat": 4,
 "nbformat_minor": 5
}
