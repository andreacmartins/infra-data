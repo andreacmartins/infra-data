{
 "cells": [
  {
   "cell_type": "markdown",
   "id": "7cd4eef4-cce0-440e-b843-22821262126e",
   "metadata": {},
   "source": [
    "# IMPORTS"
   ]
  },
  {
   "cell_type": "code",
   "execution_count": 1,
   "id": "b0bd2558-4df8-4da6-a0fb-e13700764450",
   "metadata": {
    "execution": {
     "iopub.execute_input": "2024-08-28T14:29:01.066516Z",
     "iopub.status.busy": "2024-08-28T14:29:01.066059Z",
     "iopub.status.idle": "2024-08-28T14:29:01.621617Z",
     "shell.execute_reply": "2024-08-28T14:29:01.620256Z",
     "shell.execute_reply.started": "2024-08-28T14:29:01.066477Z"
    },
    "tags": []
   },
   "outputs": [],
   "source": [
    "import pandas as pd\n",
    "import numpy as np\n",
    "import os\n",
    "from decimal import Decimal\n",
    "import pickle\n",
    "from pathlib import Path"
   ]
  },
  {
   "cell_type": "markdown",
   "id": "49a66ef9-139e-4255-b3c1-d6d6460caffe",
   "metadata": {
    "execution": {
     "iopub.execute_input": "2024-08-20T19:55:44.418829Z",
     "iopub.status.busy": "2024-08-20T19:55:44.417516Z",
     "iopub.status.idle": "2024-08-20T19:55:44.424840Z",
     "shell.execute_reply": "2024-08-20T19:55:44.422826Z",
     "shell.execute_reply.started": "2024-08-20T19:55:44.418787Z"
    }
   },
   "source": [
    "# SETUP"
   ]
  },
  {
   "cell_type": "code",
   "execution_count": 2,
   "id": "7eaa031d-d0d4-4d30-b804-cba265e680c3",
   "metadata": {
    "execution": {
     "iopub.execute_input": "2024-08-28T14:29:01.644769Z",
     "iopub.status.busy": "2024-08-28T14:29:01.644178Z",
     "iopub.status.idle": "2024-08-28T14:29:01.651972Z",
     "shell.execute_reply": "2024-08-28T14:29:01.650898Z",
     "shell.execute_reply.started": "2024-08-28T14:29:01.644727Z"
    },
    "tags": []
   },
   "outputs": [],
   "source": [
    "dir_tree_util_path = os.path.join(\"utils\", \"dir_tree.py\")\n",
    "exec(open(dir_tree_util_path).read())"
   ]
  },
  {
   "cell_type": "markdown",
   "id": "5e259d48-4151-4192-a50c-da058d8aaa7e",
   "metadata": {},
   "source": [
    "# INPUTS"
   ]
  },
  {
   "cell_type": "code",
   "execution_count": 3,
   "id": "31307c5f-d5d2-4adc-9fa3-3bbf19cf7121",
   "metadata": {
    "execution": {
     "iopub.execute_input": "2024-08-28T14:29:01.654447Z",
     "iopub.status.busy": "2024-08-28T14:29:01.653595Z",
     "iopub.status.idle": "2024-08-28T14:29:01.660650Z",
     "shell.execute_reply": "2024-08-28T14:29:01.659466Z",
     "shell.execute_reply.started": "2024-08-28T14:29:01.654411Z"
    },
    "tags": []
   },
   "outputs": [],
   "source": [
    "# Paths\n",
    "path_input = PROJECT_DIRS[\"DADOS_VEQ_ANTT_DIR\"]\n",
    "path_output = PROJECT_DIRS[\"DADOS_DERIVADOS_DIR\"]"
   ]
  },
  {
   "cell_type": "code",
   "execution_count": 4,
   "id": "79a367f1-c05e-47ae-81dc-64bf313cbbce",
   "metadata": {
    "execution": {
     "iopub.execute_input": "2024-08-28T14:29:01.663061Z",
     "iopub.status.busy": "2024-08-28T14:29:01.662097Z",
     "iopub.status.idle": "2024-08-28T14:29:01.668539Z",
     "shell.execute_reply": "2024-08-28T14:29:01.667334Z",
     "shell.execute_reply.started": "2024-08-28T14:29:01.663025Z"
    },
    "tags": []
   },
   "outputs": [],
   "source": [
    "periodo = list(range(2010, 2025))"
   ]
  },
  {
   "cell_type": "markdown",
   "id": "4227454c-3327-470a-92b4-35b111fe9c27",
   "metadata": {},
   "source": [
    "# Criando um dataframe consolidado com os dados de tráfego"
   ]
  },
  {
   "cell_type": "code",
   "execution_count": 5,
   "id": "3b658ece-7e95-46f0-9af1-dd47eb29a702",
   "metadata": {
    "execution": {
     "iopub.execute_input": "2024-08-28T14:29:01.670240Z",
     "iopub.status.busy": "2024-08-28T14:29:01.669822Z",
     "iopub.status.idle": "2024-08-28T14:29:01.677493Z",
     "shell.execute_reply": "2024-08-28T14:29:01.675933Z",
     "shell.execute_reply.started": "2024-08-28T14:29:01.670205Z"
    },
    "tags": []
   },
   "outputs": [],
   "source": [
    "# arquivos dos dados\n",
    "arquivos = os.listdir(path_input)"
   ]
  },
  {
   "cell_type": "code",
   "execution_count": 6,
   "id": "964fa4c0-5272-4ea5-ba8a-f8fd00296c3c",
   "metadata": {
    "execution": {
     "iopub.execute_input": "2024-08-28T14:29:01.679244Z",
     "iopub.status.busy": "2024-08-28T14:29:01.678827Z",
     "iopub.status.idle": "2024-08-28T14:29:08.192888Z",
     "shell.execute_reply": "2024-08-28T14:29:08.191680Z",
     "shell.execute_reply.started": "2024-08-28T14:29:01.679210Z"
    },
    "tags": []
   },
   "outputs": [],
   "source": [
    "df_trafego = pd.DataFrame()\n",
    "for ano in periodo:\n",
    "    arquivo = [a for a in arquivos if a[:-4].endswith(str(ano))][0]\n",
    "    df_ano = pd.read_csv(os.path.join(path_input, arquivo), sep=';', encoding='cp1252', low_memory=False)\n",
    "    df_trafego = pd.concat([df_trafego,df_ano])"
   ]
  },
  {
   "cell_type": "markdown",
   "id": "77d89742-3655-43ef-935c-b57c5a4456d9",
   "metadata": {},
   "source": [
    "# EDA Inicial"
   ]
  },
  {
   "cell_type": "code",
   "execution_count": 7,
   "id": "ffc68822-6798-45bb-a980-1691d74ad640",
   "metadata": {
    "execution": {
     "iopub.execute_input": "2024-08-28T14:29:08.197504Z",
     "iopub.status.busy": "2024-08-28T14:29:08.196954Z",
     "iopub.status.idle": "2024-08-28T14:29:08.220474Z",
     "shell.execute_reply": "2024-08-28T14:29:08.219599Z",
     "shell.execute_reply.started": "2024-08-28T14:29:08.197465Z"
    },
    "tags": []
   },
   "outputs": [
    {
     "data": {
      "text/html": [
       "<div>\n",
       "<style scoped>\n",
       "    .dataframe tbody tr th:only-of-type {\n",
       "        vertical-align: middle;\n",
       "    }\n",
       "\n",
       "    .dataframe tbody tr th {\n",
       "        vertical-align: top;\n",
       "    }\n",
       "\n",
       "    .dataframe thead th {\n",
       "        text-align: right;\n",
       "    }\n",
       "</style>\n",
       "<table border=\"1\" class=\"dataframe\">\n",
       "  <thead>\n",
       "    <tr style=\"text-align: right;\">\n",
       "      <th></th>\n",
       "      <th>concessionaria</th>\n",
       "      <th>mes_ano</th>\n",
       "      <th>sentido</th>\n",
       "      <th>praca</th>\n",
       "      <th>categoria</th>\n",
       "      <th>tipo_de_veiculo</th>\n",
       "      <th>volume_total</th>\n",
       "      <th>multiplicador_de_tarifa</th>\n",
       "      <th>volume_veiculo_equivalente</th>\n",
       "      <th>tipo_de_cobranca</th>\n",
       "    </tr>\n",
       "  </thead>\n",
       "  <tbody>\n",
       "    <tr>\n",
       "      <th>0</th>\n",
       "      <td>RODOVIA DO AÇO</td>\n",
       "      <td>01-01-2010</td>\n",
       "      <td>Decrescente</td>\n",
       "      <td>Praça 01  BR-393/RJ km 125,00</td>\n",
       "      <td>Categoria 1</td>\n",
       "      <td>Passeio</td>\n",
       "      <td>44146</td>\n",
       "      <td>1</td>\n",
       "      <td>44146</td>\n",
       "      <td>NaN</td>\n",
       "    </tr>\n",
       "    <tr>\n",
       "      <th>1</th>\n",
       "      <td>RODOVIA DO AÇO</td>\n",
       "      <td>01-01-2010</td>\n",
       "      <td>Crescente</td>\n",
       "      <td>Praça 01  BR-393/RJ km 125,00</td>\n",
       "      <td>Categoria 1</td>\n",
       "      <td>Passeio</td>\n",
       "      <td>35771</td>\n",
       "      <td>1</td>\n",
       "      <td>35771</td>\n",
       "      <td>NaN</td>\n",
       "    </tr>\n",
       "    <tr>\n",
       "      <th>2</th>\n",
       "      <td>RODOVIA DO AÇO</td>\n",
       "      <td>01-02-2010</td>\n",
       "      <td>Decrescente</td>\n",
       "      <td>Praça 01  BR-393/RJ km 125,00</td>\n",
       "      <td>Categoria 1</td>\n",
       "      <td>Passeio</td>\n",
       "      <td>33455</td>\n",
       "      <td>1</td>\n",
       "      <td>33455</td>\n",
       "      <td>NaN</td>\n",
       "    </tr>\n",
       "    <tr>\n",
       "      <th>3</th>\n",
       "      <td>RODOVIA DO AÇO</td>\n",
       "      <td>01-02-2010</td>\n",
       "      <td>Crescente</td>\n",
       "      <td>Praça 01  BR-393/RJ km 125,00</td>\n",
       "      <td>Categoria 1</td>\n",
       "      <td>Passeio</td>\n",
       "      <td>27109</td>\n",
       "      <td>1</td>\n",
       "      <td>27109</td>\n",
       "      <td>NaN</td>\n",
       "    </tr>\n",
       "    <tr>\n",
       "      <th>4</th>\n",
       "      <td>RODOVIA DO AÇO</td>\n",
       "      <td>01-03-2010</td>\n",
       "      <td>Decrescente</td>\n",
       "      <td>Praça 01  BR-393/RJ km 125,00</td>\n",
       "      <td>Categoria 1</td>\n",
       "      <td>Passeio</td>\n",
       "      <td>31677</td>\n",
       "      <td>1</td>\n",
       "      <td>31677</td>\n",
       "      <td>NaN</td>\n",
       "    </tr>\n",
       "  </tbody>\n",
       "</table>\n",
       "</div>"
      ],
      "text/plain": [
       "   concessionaria     mes_ano      sentido                          praca  \\\n",
       "0  RODOVIA DO AÇO  01-01-2010  Decrescente  Praça 01  BR-393/RJ km 125,00   \n",
       "1  RODOVIA DO AÇO  01-01-2010    Crescente  Praça 01  BR-393/RJ km 125,00   \n",
       "2  RODOVIA DO AÇO  01-02-2010  Decrescente  Praça 01  BR-393/RJ km 125,00   \n",
       "3  RODOVIA DO AÇO  01-02-2010    Crescente  Praça 01  BR-393/RJ km 125,00   \n",
       "4  RODOVIA DO AÇO  01-03-2010  Decrescente  Praça 01  BR-393/RJ km 125,00   \n",
       "\n",
       "     categoria tipo_de_veiculo volume_total multiplicador_de_tarifa  \\\n",
       "0  Categoria 1         Passeio        44146                       1   \n",
       "1  Categoria 1         Passeio        35771                       1   \n",
       "2  Categoria 1         Passeio        33455                       1   \n",
       "3  Categoria 1         Passeio        27109                       1   \n",
       "4  Categoria 1         Passeio        31677                       1   \n",
       "\n",
       "  volume_veiculo_equivalente tipo_de_cobranca  \n",
       "0                      44146              NaN  \n",
       "1                      35771              NaN  \n",
       "2                      33455              NaN  \n",
       "3                      27109              NaN  \n",
       "4                      31677              NaN  "
      ]
     },
     "execution_count": 7,
     "metadata": {},
     "output_type": "execute_result"
    }
   ],
   "source": [
    "df_trafego.head()"
   ]
  },
  {
   "cell_type": "code",
   "execution_count": 8,
   "id": "375aa237-e0b2-4a31-bcb1-ba4356cc4745",
   "metadata": {
    "execution": {
     "iopub.execute_input": "2024-08-28T14:29:08.226091Z",
     "iopub.status.busy": "2024-08-28T14:29:08.225538Z",
     "iopub.status.idle": "2024-08-28T14:29:08.238470Z",
     "shell.execute_reply": "2024-08-28T14:29:08.237035Z",
     "shell.execute_reply.started": "2024-08-28T14:29:08.226054Z"
    },
    "tags": []
   },
   "outputs": [
    {
     "name": "stdout",
     "output_type": "stream",
     "text": [
      "<class 'pandas.core.frame.DataFrame'>\n",
      "Index: 3000353 entries, 0 to 2329761\n",
      "Data columns (total 10 columns):\n",
      " #   Column                      Dtype \n",
      "---  ------                      ----- \n",
      " 0   concessionaria              object\n",
      " 1   mes_ano                     object\n",
      " 2   sentido                     object\n",
      " 3   praca                       object\n",
      " 4   categoria                   object\n",
      " 5   tipo_de_veiculo             object\n",
      " 6   volume_total                object\n",
      " 7   multiplicador_de_tarifa     object\n",
      " 8   volume_veiculo_equivalente  object\n",
      " 9   tipo_de_cobranca            object\n",
      "dtypes: object(10)\n",
      "memory usage: 251.8+ MB\n"
     ]
    }
   ],
   "source": [
    "df_trafego.info()"
   ]
  },
  {
   "cell_type": "code",
   "execution_count": 9,
   "id": "ded8067c-2413-44c0-88ca-9ff8d15084b1",
   "metadata": {
    "execution": {
     "iopub.execute_input": "2024-08-28T14:29:08.240271Z",
     "iopub.status.busy": "2024-08-28T14:29:08.239925Z",
     "iopub.status.idle": "2024-08-28T14:29:09.330145Z",
     "shell.execute_reply": "2024-08-28T14:29:09.329029Z",
     "shell.execute_reply.started": "2024-08-28T14:29:08.240237Z"
    },
    "tags": []
   },
   "outputs": [
    {
     "name": "stdout",
     "output_type": "stream",
     "text": [
      "concessionaria: 0\n",
      "mes_ano: 0\n",
      "sentido: 0\n",
      "praca: 0\n",
      "categoria: 0\n",
      "tipo_de_veiculo: 0\n",
      "volume_total: 344\n",
      "multiplicador_de_tarifa: 0\n",
      "volume_veiculo_equivalente: 0\n",
      "tipo_de_cobranca: 74780\n"
     ]
    }
   ],
   "source": [
    "for col in df_trafego:\n",
    "    print(f\"{col}: {df_trafego[col].isna().sum()}\")"
   ]
  },
  {
   "cell_type": "code",
   "execution_count": 10,
   "id": "dddf1952-8eca-459f-890b-90ada7d1bc14",
   "metadata": {
    "execution": {
     "iopub.execute_input": "2024-08-28T14:29:09.331994Z",
     "iopub.status.busy": "2024-08-28T14:29:09.331406Z",
     "iopub.status.idle": "2024-08-28T14:29:09.460842Z",
     "shell.execute_reply": "2024-08-28T14:29:09.459558Z",
     "shell.execute_reply.started": "2024-08-28T14:29:09.331958Z"
    },
    "tags": []
   },
   "outputs": [
    {
     "data": {
      "text/html": [
       "<div>\n",
       "<style scoped>\n",
       "    .dataframe tbody tr th:only-of-type {\n",
       "        vertical-align: middle;\n",
       "    }\n",
       "\n",
       "    .dataframe tbody tr th {\n",
       "        vertical-align: top;\n",
       "    }\n",
       "\n",
       "    .dataframe thead th {\n",
       "        text-align: right;\n",
       "    }\n",
       "</style>\n",
       "<table border=\"1\" class=\"dataframe\">\n",
       "  <thead>\n",
       "    <tr style=\"text-align: right;\">\n",
       "      <th></th>\n",
       "      <th>concessionaria</th>\n",
       "      <th>mes_ano</th>\n",
       "      <th>sentido</th>\n",
       "      <th>praca</th>\n",
       "      <th>categoria</th>\n",
       "      <th>tipo_de_veiculo</th>\n",
       "      <th>volume_total</th>\n",
       "      <th>multiplicador_de_tarifa</th>\n",
       "      <th>volume_veiculo_equivalente</th>\n",
       "      <th>tipo_de_cobranca</th>\n",
       "    </tr>\n",
       "  </thead>\n",
       "  <tbody>\n",
       "    <tr>\n",
       "      <th>125932</th>\n",
       "      <td>ECOSUL</td>\n",
       "      <td>01/10/2023</td>\n",
       "      <td>Decrescente</td>\n",
       "      <td>Praça 02 BR-116/RS km 510,76</td>\n",
       "      <td>Categoria 9</td>\n",
       "      <td>Moto</td>\n",
       "      <td>NaN</td>\n",
       "      <td>0,50</td>\n",
       "      <td>0,00</td>\n",
       "      <td>N/I</td>\n",
       "    </tr>\n",
       "    <tr>\n",
       "      <th>125822</th>\n",
       "      <td>ECOSUL</td>\n",
       "      <td>01/09/2023</td>\n",
       "      <td>Crescente</td>\n",
       "      <td>Praça 02 BR-116/RS km 510,76</td>\n",
       "      <td>Categoria 9</td>\n",
       "      <td>Moto</td>\n",
       "      <td>NaN</td>\n",
       "      <td>0,50</td>\n",
       "      <td>0,00</td>\n",
       "      <td>N/I</td>\n",
       "    </tr>\n",
       "    <tr>\n",
       "      <th>130008</th>\n",
       "      <td>ECOVIAS DO CERRADO</td>\n",
       "      <td>01/06/2023</td>\n",
       "      <td>Decrescente</td>\n",
       "      <td>P4 - SANTA VITÓRIA</td>\n",
       "      <td>Veículo Comercial Acima 10 eixos</td>\n",
       "      <td>Comercial</td>\n",
       "      <td>NaN</td>\n",
       "      <td>10,00</td>\n",
       "      <td>0,00</td>\n",
       "      <td>N/I</td>\n",
       "    </tr>\n",
       "    <tr>\n",
       "      <th>126062</th>\n",
       "      <td>ECOSUL</td>\n",
       "      <td>01/11/2023</td>\n",
       "      <td>Crescente</td>\n",
       "      <td>Praça 04 BR-392/RS km 52,30</td>\n",
       "      <td>Categoria 9</td>\n",
       "      <td>Moto</td>\n",
       "      <td>NaN</td>\n",
       "      <td>0,50</td>\n",
       "      <td>0,00</td>\n",
       "      <td>N/I</td>\n",
       "    </tr>\n",
       "    <tr>\n",
       "      <th>130437</th>\n",
       "      <td>ECOVIAS DO CERRADO</td>\n",
       "      <td>01/08/2023</td>\n",
       "      <td>Crescente</td>\n",
       "      <td>P7 - Jataí BR 364/GO km 156,550</td>\n",
       "      <td>Veículo Comercial Acima 10 eixos</td>\n",
       "      <td>Comercial</td>\n",
       "      <td>NaN</td>\n",
       "      <td>10,00</td>\n",
       "      <td>0,00</td>\n",
       "      <td>N/I</td>\n",
       "    </tr>\n",
       "    <tr>\n",
       "      <th>125652</th>\n",
       "      <td>ECOSUL</td>\n",
       "      <td>01/07/2023</td>\n",
       "      <td>Decrescente</td>\n",
       "      <td>Praça 03 BR-116/RS km 541,20</td>\n",
       "      <td>Categoria 9</td>\n",
       "      <td>Moto</td>\n",
       "      <td>NaN</td>\n",
       "      <td>0,50</td>\n",
       "      <td>0,00</td>\n",
       "      <td>N/I</td>\n",
       "    </tr>\n",
       "    <tr>\n",
       "      <th>134587</th>\n",
       "      <td>RIOSP</td>\n",
       "      <td>01/02/2023</td>\n",
       "      <td>Crescente</td>\n",
       "      <td>Praça 08 BR-116/SP km 205,00</td>\n",
       "      <td>Categoria 7</td>\n",
       "      <td>Comercial</td>\n",
       "      <td>NaN</td>\n",
       "      <td>5,00</td>\n",
       "      <td>0,00</td>\n",
       "      <td>N/I</td>\n",
       "    </tr>\n",
       "    <tr>\n",
       "      <th>136462</th>\n",
       "      <td>RIOSP</td>\n",
       "      <td>01/10/2023</td>\n",
       "      <td>Crescente</td>\n",
       "      <td>Praça 08 BR-116/SP km 205,00</td>\n",
       "      <td>Categoria Esp. 08</td>\n",
       "      <td>Comercial</td>\n",
       "      <td>NaN</td>\n",
       "      <td>8,00</td>\n",
       "      <td>0,00</td>\n",
       "      <td>N/I</td>\n",
       "    </tr>\n",
       "    <tr>\n",
       "      <th>136223</th>\n",
       "      <td>RIOSP</td>\n",
       "      <td>01/09/2023</td>\n",
       "      <td>Crescente</td>\n",
       "      <td>Praça 08 BR-116/SP km 205,00</td>\n",
       "      <td>Categoria 4</td>\n",
       "      <td>Comercial</td>\n",
       "      <td>NaN</td>\n",
       "      <td>3,00</td>\n",
       "      <td>0,00</td>\n",
       "      <td>N/I</td>\n",
       "    </tr>\n",
       "  </tbody>\n",
       "</table>\n",
       "</div>"
      ],
      "text/plain": [
       "            concessionaria     mes_ano      sentido  \\\n",
       "125932              ECOSUL  01/10/2023  Decrescente   \n",
       "125822              ECOSUL  01/09/2023    Crescente   \n",
       "130008  ECOVIAS DO CERRADO  01/06/2023  Decrescente   \n",
       "126062              ECOSUL  01/11/2023    Crescente   \n",
       "130437  ECOVIAS DO CERRADO  01/08/2023    Crescente   \n",
       "125652              ECOSUL  01/07/2023  Decrescente   \n",
       "134587               RIOSP  01/02/2023    Crescente   \n",
       "136462               RIOSP  01/10/2023    Crescente   \n",
       "136223               RIOSP  01/09/2023    Crescente   \n",
       "\n",
       "                                  praca                         categoria  \\\n",
       "125932     Praça 02 BR-116/RS km 510,76                       Categoria 9   \n",
       "125822     Praça 02 BR-116/RS km 510,76                       Categoria 9   \n",
       "130008               P4 - SANTA VITÓRIA  Veículo Comercial Acima 10 eixos   \n",
       "126062      Praça 04 BR-392/RS km 52,30                       Categoria 9   \n",
       "130437  P7 - Jataí BR 364/GO km 156,550  Veículo Comercial Acima 10 eixos   \n",
       "125652     Praça 03 BR-116/RS km 541,20                       Categoria 9   \n",
       "134587     Praça 08 BR-116/SP km 205,00                       Categoria 7   \n",
       "136462     Praça 08 BR-116/SP km 205,00                 Categoria Esp. 08   \n",
       "136223     Praça 08 BR-116/SP km 205,00                       Categoria 4   \n",
       "\n",
       "       tipo_de_veiculo volume_total multiplicador_de_tarifa  \\\n",
       "125932            Moto          NaN                    0,50   \n",
       "125822            Moto          NaN                    0,50   \n",
       "130008       Comercial          NaN                   10,00   \n",
       "126062            Moto          NaN                    0,50   \n",
       "130437       Comercial          NaN                   10,00   \n",
       "125652            Moto          NaN                    0,50   \n",
       "134587       Comercial          NaN                    5,00   \n",
       "136462       Comercial          NaN                    8,00   \n",
       "136223       Comercial          NaN                    3,00   \n",
       "\n",
       "       volume_veiculo_equivalente tipo_de_cobranca  \n",
       "125932                       0,00              N/I  \n",
       "125822                       0,00              N/I  \n",
       "130008                       0,00              N/I  \n",
       "126062                       0,00              N/I  \n",
       "130437                       0,00              N/I  \n",
       "125652                       0,00              N/I  \n",
       "134587                       0,00              N/I  \n",
       "136462                       0,00              N/I  \n",
       "136223                       0,00              N/I  "
      ]
     },
     "execution_count": 10,
     "metadata": {},
     "output_type": "execute_result"
    }
   ],
   "source": [
    "df_trafego[df_trafego['volume_total'].isna()].sample(9)"
   ]
  },
  {
   "cell_type": "code",
   "execution_count": 11,
   "id": "c0eb184b-ce91-429c-bc8b-4abac18cf9d2",
   "metadata": {
    "execution": {
     "iopub.execute_input": "2024-08-28T14:29:09.462878Z",
     "iopub.status.busy": "2024-08-28T14:29:09.462414Z",
     "iopub.status.idle": "2024-08-28T14:29:09.576281Z",
     "shell.execute_reply": "2024-08-28T14:29:09.574709Z",
     "shell.execute_reply.started": "2024-08-28T14:29:09.462842Z"
    },
    "tags": []
   },
   "outputs": [
    {
     "data": {
      "text/plain": [
       "array(['0,00'], dtype=object)"
      ]
     },
     "execution_count": 11,
     "metadata": {},
     "output_type": "execute_result"
    }
   ],
   "source": [
    "df_trafego[df_trafego['volume_total'].isna()]['volume_veiculo_equivalente'].unique()"
   ]
  },
  {
   "cell_type": "code",
   "execution_count": 12,
   "id": "b455acf7-a4bf-4af3-b96d-e8fa9b687001",
   "metadata": {
    "execution": {
     "iopub.execute_input": "2024-08-28T14:29:09.578266Z",
     "iopub.status.busy": "2024-08-28T14:29:09.577811Z",
     "iopub.status.idle": "2024-08-28T14:29:10.692535Z",
     "shell.execute_reply": "2024-08-28T14:29:10.691564Z",
     "shell.execute_reply.started": "2024-08-28T14:29:09.578231Z"
    },
    "tags": []
   },
   "outputs": [
    {
     "data": {
      "text/plain": [
       "array(['01', '14', '28', '31', '30', '02', '03', '04', '05', '06', '07',\n",
       "       '08', '09', '10', '11', '12', '13', '15', '16', '17', '18', '19',\n",
       "       '20', '21', '22', '23', '24', '25', '26', '27', '29'], dtype=object)"
      ]
     },
     "execution_count": 12,
     "metadata": {},
     "output_type": "execute_result"
    }
   ],
   "source": [
    "df_trafego['mes_ano'].str[:2].unique()"
   ]
  },
  {
   "cell_type": "code",
   "execution_count": 13,
   "id": "8bd3362a-3ca0-4b08-bec7-8bf7db6a5060",
   "metadata": {
    "execution": {
     "iopub.execute_input": "2024-08-28T14:29:10.694520Z",
     "iopub.status.busy": "2024-08-28T14:29:10.693948Z",
     "iopub.status.idle": "2024-08-28T14:29:11.884951Z",
     "shell.execute_reply": "2024-08-28T14:29:11.883931Z",
     "shell.execute_reply.started": "2024-08-28T14:29:10.694484Z"
    },
    "tags": []
   },
   "outputs": [
    {
     "data": {
      "text/plain": [
       "array(['01', '02', '03', '04', '05', '06', '07', '08', '09', '10', '11',\n",
       "       '12'], dtype=object)"
      ]
     },
     "execution_count": 13,
     "metadata": {},
     "output_type": "execute_result"
    }
   ],
   "source": [
    "df_trafego['mes_ano'].str[3:5].unique()"
   ]
  },
  {
   "cell_type": "code",
   "execution_count": 14,
   "id": "8453ca06-ce7b-47b5-afe4-1dcf7ff131da",
   "metadata": {
    "execution": {
     "iopub.execute_input": "2024-08-28T14:29:11.887602Z",
     "iopub.status.busy": "2024-08-28T14:29:11.886947Z",
     "iopub.status.idle": "2024-08-28T14:29:12.001586Z",
     "shell.execute_reply": "2024-08-28T14:29:12.000238Z",
     "shell.execute_reply.started": "2024-08-28T14:29:11.887563Z"
    },
    "tags": []
   },
   "outputs": [
    {
     "data": {
      "text/plain": [
       "array([nan, 'N/I', 'Manual', 'Automática', 'Mista'], dtype=object)"
      ]
     },
     "execution_count": 14,
     "metadata": {},
     "output_type": "execute_result"
    }
   ],
   "source": [
    "df_trafego['tipo_de_cobranca'].unique()"
   ]
  },
  {
   "cell_type": "code",
   "execution_count": 15,
   "id": "60e95d5f-cf18-4ce0-bea5-a7f2037bd499",
   "metadata": {
    "execution": {
     "iopub.execute_input": "2024-08-28T14:29:12.003645Z",
     "iopub.status.busy": "2024-08-28T14:29:12.003249Z",
     "iopub.status.idle": "2024-08-28T14:29:12.120154Z",
     "shell.execute_reply": "2024-08-28T14:29:12.118507Z",
     "shell.execute_reply.started": "2024-08-28T14:29:12.003609Z"
    },
    "tags": []
   },
   "outputs": [
    {
     "data": {
      "text/plain": [
       "np.True_"
      ]
     },
     "execution_count": 15,
     "metadata": {},
     "output_type": "execute_result"
    }
   ],
   "source": [
    "df_trafego['volume_total'].isna().any()"
   ]
  },
  {
   "cell_type": "code",
   "execution_count": 16,
   "id": "ffb13d6e-a38b-4448-ac2a-18bbc4fb5806",
   "metadata": {
    "execution": {
     "iopub.execute_input": "2024-08-28T14:29:12.122495Z",
     "iopub.status.busy": "2024-08-28T14:29:12.121987Z",
     "iopub.status.idle": "2024-08-28T14:29:12.244101Z",
     "shell.execute_reply": "2024-08-28T14:29:12.243123Z",
     "shell.execute_reply.started": "2024-08-28T14:29:12.122457Z"
    },
    "tags": []
   },
   "outputs": [
    {
     "data": {
      "text/plain": [
       "np.int64(344)"
      ]
     },
     "execution_count": 16,
     "metadata": {},
     "output_type": "execute_result"
    }
   ],
   "source": [
    "df_trafego['volume_total'].isna().sum()"
   ]
  },
  {
   "cell_type": "code",
   "execution_count": 17,
   "id": "f1c1d921-77c0-4909-ab78-8f4be88a7680",
   "metadata": {
    "execution": {
     "iopub.execute_input": "2024-08-28T14:29:12.246121Z",
     "iopub.status.busy": "2024-08-28T14:29:12.245668Z",
     "iopub.status.idle": "2024-08-28T14:29:12.361938Z",
     "shell.execute_reply": "2024-08-28T14:29:12.360708Z",
     "shell.execute_reply.started": "2024-08-28T14:29:12.246086Z"
    },
    "tags": []
   },
   "outputs": [
    {
     "data": {
      "text/plain": [
       "array(['1', '2', '1,5', '3', '4', '5', '6', '0,5', '7', '8', '9', '10',\n",
       "       1.0, 2.0, 1.5, 3.0, 4.0, 5.0, 6.0, 0.5, 7.0, 8.0, 9.0, 10.0,\n",
       "       '2,00', '3,00', '4,00', '5,00', '6,00', '0,50', '1,00', '1,50',\n",
       "       '7,00', '8,00', '9,00', '10,00', '0,00', '11,00', '13,00', '15,00',\n",
       "       '12,00', '14,00', '18,00', '20,00', '16,00', '17,00', '19,00'],\n",
       "      dtype=object)"
      ]
     },
     "execution_count": 17,
     "metadata": {},
     "output_type": "execute_result"
    }
   ],
   "source": [
    "df_trafego['multiplicador_de_tarifa'].unique()"
   ]
  },
  {
   "cell_type": "markdown",
   "id": "3dd3548c-f263-4ffc-9527-5344610ef315",
   "metadata": {},
   "source": [
    "# Tratamento dos dados"
   ]
  },
  {
   "cell_type": "code",
   "execution_count": 18,
   "id": "f051ad20-c663-4a8d-925b-549e436eb4c9",
   "metadata": {
    "execution": {
     "iopub.execute_input": "2024-08-28T14:29:12.363973Z",
     "iopub.status.busy": "2024-08-28T14:29:12.363613Z",
     "iopub.status.idle": "2024-08-28T14:29:16.264173Z",
     "shell.execute_reply": "2024-08-28T14:29:16.263148Z",
     "shell.execute_reply.started": "2024-08-28T14:29:12.363938Z"
    },
    "tags": []
   },
   "outputs": [],
   "source": [
    "# Colunas de ano, mes e dia\n",
    "df_trafego['year'] = df_trafego['mes_ano'].str[-4:].astype('int') \n",
    "df_trafego['month'] = df_trafego['mes_ano'].str[3:5].astype('int')\n",
    "df_trafego['day'] = df_trafego['mes_ano'].str[:2].astype('int') "
   ]
  },
  {
   "cell_type": "code",
   "execution_count": 19,
   "id": "67124ec5-e152-49d4-b303-9cbb11927cb3",
   "metadata": {
    "execution": {
     "iopub.execute_input": "2024-08-28T14:29:16.266760Z",
     "iopub.status.busy": "2024-08-28T14:29:16.266015Z",
     "iopub.status.idle": "2024-08-28T14:29:17.353721Z",
     "shell.execute_reply": "2024-08-28T14:29:17.351877Z",
     "shell.execute_reply.started": "2024-08-28T14:29:16.266698Z"
    },
    "tags": []
   },
   "outputs": [],
   "source": [
    "# Recriando a coluna de mes_ano, agora como datetime ao invés de string. Tem que ser em ingles pq a função do pandas exige\n",
    "df_trafego['mes_ano'] = pd.to_datetime(df_trafego[['year', 'month', 'day']]).dt.date"
   ]
  },
  {
   "cell_type": "code",
   "execution_count": 20,
   "id": "5fae9658-dc43-433c-89c9-2395145471de",
   "metadata": {
    "execution": {
     "iopub.execute_input": "2024-08-28T14:29:17.356711Z",
     "iopub.status.busy": "2024-08-28T14:29:17.355987Z",
     "iopub.status.idle": "2024-08-28T14:29:17.610580Z",
     "shell.execute_reply": "2024-08-28T14:29:17.609607Z",
     "shell.execute_reply.started": "2024-08-28T14:29:17.356660Z"
    },
    "tags": []
   },
   "outputs": [],
   "source": [
    "# preenchendo os NaNs, qdo aplicável:\n",
    "df_trafego['volume_total'] = df_trafego['volume_total'].fillna(0) #o volume equivalente é zero sempre que volume_total é zero"
   ]
  },
  {
   "cell_type": "code",
   "execution_count": 21,
   "id": "6c57331f-cb3d-4adc-9d3c-ef37432f4801",
   "metadata": {
    "execution": {
     "iopub.execute_input": "2024-08-28T14:29:17.615536Z",
     "iopub.status.busy": "2024-08-28T14:29:17.614947Z",
     "iopub.status.idle": "2024-08-28T14:29:22.840595Z",
     "shell.execute_reply": "2024-08-28T14:29:22.839507Z",
     "shell.execute_reply.started": "2024-08-28T14:29:17.615498Z"
    },
    "tags": []
   },
   "outputs": [],
   "source": [
    "# Convertendo os tipos de dados para numéricos:\n",
    "df_trafego['volume_total'] = df_trafego['volume_total'].apply(lambda x: x.replace(',','.') if type(x) == str else x)\n",
    "df_trafego['volume_total'] = df_trafego['volume_total'].apply(lambda x: x.split('.')[0] if type(x) == str else x)\n",
    "df_trafego['volume_total'] = df_trafego['volume_total'].astype('int')\n",
    "\n",
    "df_trafego['volume_veiculo_equivalente'] = df_trafego['volume_veiculo_equivalente'].apply(lambda x: x.replace(',','.') if type(x) == str else x)\n",
    "df_trafego['volume_veiculo_equivalente'] = df_trafego['volume_veiculo_equivalente'].astype('float') # existe multiplicador de tarifa fracionário"
   ]
  },
  {
   "cell_type": "code",
   "execution_count": 22,
   "id": "20231a8a-8ab4-41b5-bd87-db645b34cfd5",
   "metadata": {
    "execution": {
     "iopub.execute_input": "2024-08-28T14:29:22.842621Z",
     "iopub.status.busy": "2024-08-28T14:29:22.842270Z",
     "iopub.status.idle": "2024-08-28T14:29:22.960979Z",
     "shell.execute_reply": "2024-08-28T14:29:22.959551Z",
     "shell.execute_reply.started": "2024-08-28T14:29:22.842585Z"
    },
    "tags": []
   },
   "outputs": [],
   "source": [
    "# convertendo categoria para string (do contrário não salva para parquet):\n",
    "df_trafego['categoria'] = df_trafego['categoria'].astype('string')"
   ]
  },
  {
   "cell_type": "code",
   "execution_count": 23,
   "id": "a570f4b8-a68e-47a9-8d5c-ec56f6e8086c",
   "metadata": {
    "execution": {
     "iopub.execute_input": "2024-08-28T14:29:22.963002Z",
     "iopub.status.busy": "2024-08-28T14:29:22.962609Z",
     "iopub.status.idle": "2024-08-28T14:29:25.994754Z",
     "shell.execute_reply": "2024-08-28T14:29:25.993385Z",
     "shell.execute_reply.started": "2024-08-28T14:29:22.962961Z"
    },
    "tags": []
   },
   "outputs": [],
   "source": [
    "# convertendo o multiplicador de tarifa de string para decimal (p/manter a precisao):\n",
    "df_trafego['multiplicador_de_tarifa'] = df_trafego['multiplicador_de_tarifa'].apply(lambda x: x.replace(',','.') if type(x) == str else x)\n",
    "df_trafego['multiplicador_de_tarifa'] = df_trafego['multiplicador_de_tarifa'].apply(Decimal)"
   ]
  },
  {
   "cell_type": "code",
   "execution_count": 24,
   "id": "697d05b6-6346-4a0e-a2c5-2cfd71ccd016",
   "metadata": {
    "execution": {
     "iopub.execute_input": "2024-08-28T14:29:25.996548Z",
     "iopub.status.busy": "2024-08-28T14:29:25.996180Z",
     "iopub.status.idle": "2024-08-28T14:29:26.840717Z",
     "shell.execute_reply": "2024-08-28T14:29:26.839076Z",
     "shell.execute_reply.started": "2024-08-28T14:29:25.996512Z"
    },
    "tags": []
   },
   "outputs": [],
   "source": [
    "# O tipo de tráfego ora está em maisúcula, ora em minúscula.\n",
    "# Colocando tudo p/maiúscula\n",
    "df_trafego['tipo_de_veiculo'] = df_trafego['tipo_de_veiculo'].str.upper()"
   ]
  },
  {
   "cell_type": "code",
   "execution_count": 25,
   "id": "b91a6a8d-2fa9-4c7e-8e1a-68097e4eeb46",
   "metadata": {
    "execution": {
     "iopub.execute_input": "2024-08-28T14:29:26.844894Z",
     "iopub.status.busy": "2024-08-28T14:29:26.844030Z",
     "iopub.status.idle": "2024-08-28T14:29:27.741711Z",
     "shell.execute_reply": "2024-08-28T14:29:27.740256Z",
     "shell.execute_reply.started": "2024-08-28T14:29:26.844856Z"
    },
    "tags": []
   },
   "outputs": [],
   "source": [
    "# algumas concessionárias estão ora em maiúsculas ora em minúsculas\n",
    "# colocando tudo para maiúscula\n",
    "df_trafego['concessionaria'] = df_trafego['concessionaria'].str.upper()"
   ]
  },
  {
   "cell_type": "code",
   "execution_count": 26,
   "id": "21713dd4-7ebd-4409-8deb-494dff59a52c",
   "metadata": {
    "execution": {
     "iopub.execute_input": "2024-08-28T14:29:27.744042Z",
     "iopub.status.busy": "2024-08-28T14:29:27.743645Z",
     "iopub.status.idle": "2024-08-28T14:29:27.758644Z",
     "shell.execute_reply": "2024-08-28T14:29:27.757025Z",
     "shell.execute_reply.started": "2024-08-28T14:29:27.744005Z"
    },
    "tags": []
   },
   "outputs": [
    {
     "name": "stdout",
     "output_type": "stream",
     "text": [
      "<class 'pandas.core.frame.DataFrame'>\n",
      "Index: 3000353 entries, 0 to 2329761\n",
      "Data columns (total 13 columns):\n",
      " #   Column                      Dtype  \n",
      "---  ------                      -----  \n",
      " 0   concessionaria              object \n",
      " 1   mes_ano                     object \n",
      " 2   sentido                     object \n",
      " 3   praca                       object \n",
      " 4   categoria                   string \n",
      " 5   tipo_de_veiculo             object \n",
      " 6   volume_total                int64  \n",
      " 7   multiplicador_de_tarifa     object \n",
      " 8   volume_veiculo_equivalente  float64\n",
      " 9   tipo_de_cobranca            object \n",
      " 10  year                        int64  \n",
      " 11  month                       int64  \n",
      " 12  day                         int64  \n",
      "dtypes: float64(1), int64(4), object(7), string(1)\n",
      "memory usage: 320.5+ MB\n"
     ]
    }
   ],
   "source": [
    "df_trafego.info()"
   ]
  },
  {
   "cell_type": "code",
   "execution_count": 27,
   "id": "8bf6bfb2-3415-4306-be98-5ffe1dfabb72",
   "metadata": {
    "execution": {
     "iopub.execute_input": "2024-08-28T14:29:27.760905Z",
     "iopub.status.busy": "2024-08-28T14:29:27.760448Z",
     "iopub.status.idle": "2024-08-28T14:29:27.787380Z",
     "shell.execute_reply": "2024-08-28T14:29:27.785847Z",
     "shell.execute_reply.started": "2024-08-28T14:29:27.760867Z"
    },
    "tags": []
   },
   "outputs": [
    {
     "data": {
      "text/plain": [
       "array([2010, 2011, 2012, 2013, 2014, 2015, 2016, 2017, 2018, 2019, 2020,\n",
       "       2021, 2022, 2023, 2024])"
      ]
     },
     "execution_count": 27,
     "metadata": {},
     "output_type": "execute_result"
    }
   ],
   "source": [
    "df_trafego['year'].unique()"
   ]
  },
  {
   "cell_type": "code",
   "execution_count": 28,
   "id": "923b6979-a809-448d-8a28-b79546e40f59",
   "metadata": {
    "execution": {
     "iopub.execute_input": "2024-08-28T14:29:27.789313Z",
     "iopub.status.busy": "2024-08-28T14:29:27.788977Z",
     "iopub.status.idle": "2024-08-28T14:29:28.548750Z",
     "shell.execute_reply": "2024-08-28T14:29:28.547507Z",
     "shell.execute_reply.started": "2024-08-28T14:29:27.789279Z"
    },
    "tags": []
   },
   "outputs": [
    {
     "data": {
      "text/plain": [
       "array([1, 2, 3, 4, 5, 6])"
      ]
     },
     "execution_count": 28,
     "metadata": {},
     "output_type": "execute_result"
    }
   ],
   "source": [
    "df_trafego.query(\"year == 2024\")['month'].unique()"
   ]
  },
  {
   "cell_type": "markdown",
   "id": "a051f403-674a-48e9-b2b1-56ea297d48a3",
   "metadata": {},
   "source": [
    "## Criando coluna desambiguando categorias comercial x passeio"
   ]
  },
  {
   "cell_type": "code",
   "execution_count": 29,
   "id": "cf5a5255-4914-47f2-8033-6724d83ef71b",
   "metadata": {
    "execution": {
     "iopub.execute_input": "2024-08-28T14:29:28.730517Z",
     "iopub.status.busy": "2024-08-28T14:29:28.729510Z",
     "iopub.status.idle": "2024-08-28T14:29:28.960991Z",
     "shell.execute_reply": "2024-08-28T14:29:28.960023Z",
     "shell.execute_reply.started": "2024-08-28T14:29:28.730453Z"
    },
    "tags": []
   },
   "outputs": [
    {
     "data": {
      "text/plain": [
       "array(['PASSEIO', 'COMERCIAL', 'MOTO', 'VEÍCULO PEQUENO'], dtype=object)"
      ]
     },
     "execution_count": 29,
     "metadata": {},
     "output_type": "execute_result"
    }
   ],
   "source": [
    "df_trafego['tipo_de_veiculo'].unique()"
   ]
  },
  {
   "cell_type": "code",
   "execution_count": 30,
   "id": "f490e0ed-b6b8-4e97-b659-39d32cf578ae",
   "metadata": {
    "execution": {
     "iopub.execute_input": "2024-08-28T14:29:29.074179Z",
     "iopub.status.busy": "2024-08-28T14:29:29.073459Z",
     "iopub.status.idle": "2024-08-28T14:29:29.843967Z",
     "shell.execute_reply": "2024-08-28T14:29:29.841860Z",
     "shell.execute_reply.started": "2024-08-28T14:29:29.074138Z"
    },
    "tags": []
   },
   "outputs": [],
   "source": [
    "df_trafego[\"TIPO_TRAFEGO\"] = df_trafego['tipo_de_veiculo'].apply(lambda x: x if x == \"COMERCIAL\" else \"PASSEIO\")"
   ]
  },
  {
   "cell_type": "code",
   "execution_count": 31,
   "id": "e237a2f8-7d4b-468f-9bf3-56e4af37fcbd",
   "metadata": {
    "execution": {
     "iopub.execute_input": "2024-08-28T14:29:29.848333Z",
     "iopub.status.busy": "2024-08-28T14:29:29.847126Z",
     "iopub.status.idle": "2024-08-28T14:29:30.089114Z",
     "shell.execute_reply": "2024-08-28T14:29:30.087744Z",
     "shell.execute_reply.started": "2024-08-28T14:29:29.848260Z"
    },
    "tags": []
   },
   "outputs": [
    {
     "data": {
      "text/plain": [
       "array(['PASSEIO', 'COMERCIAL'], dtype=object)"
      ]
     },
     "execution_count": 31,
     "metadata": {},
     "output_type": "execute_result"
    }
   ],
   "source": [
    "df_trafego[\"TIPO_TRAFEGO\"].unique()"
   ]
  },
  {
   "cell_type": "markdown",
   "id": "679e22fb-6baf-465e-ab85-1780da58255d",
   "metadata": {},
   "source": [
    "## Criando colunas com trafégo em Veqs para comercial e passeio"
   ]
  },
  {
   "cell_type": "code",
   "execution_count": 32,
   "id": "b8ff717e-9467-4368-9bfe-da6d7eb99b07",
   "metadata": {
    "execution": {
     "iopub.execute_input": "2024-08-28T14:29:30.658500Z",
     "iopub.status.busy": "2024-08-28T14:29:30.657684Z",
     "iopub.status.idle": "2024-08-28T14:29:33.093207Z",
     "shell.execute_reply": "2024-08-28T14:29:33.091731Z",
     "shell.execute_reply.started": "2024-08-28T14:29:30.658454Z"
    },
    "tags": []
   },
   "outputs": [],
   "source": [
    "df_trafego = df_trafego.rename(columns={'volume_veiculo_equivalente':'VEQS_TOTAL'})\n",
    "df_trafego['VEQS_COMERCIAL'] = np.where(\n",
    "    df_trafego['TIPO_TRAFEGO'] == 'COMERCIAL',\n",
    "    df_trafego['VEQS_TOTAL'],\n",
    "    0\n",
    ")\n",
    "df_trafego['VEQS_PASSEIO'] = np.where(\n",
    "    df_trafego['TIPO_TRAFEGO'] == 'PASSEIO',\n",
    "    df_trafego['VEQS_TOTAL'],\n",
    "    0\n",
    ")"
   ]
  },
  {
   "cell_type": "markdown",
   "id": "6eb69752-50ea-4ed4-b052-3e93dbde2359",
   "metadata": {},
   "source": [
    "# Criando dataframe com o período inicial e final dos dados por concessionária"
   ]
  },
  {
   "cell_type": "code",
   "execution_count": 33,
   "id": "9c88ae9b-ba1f-4cb8-81f9-7e9af597b71e",
   "metadata": {
    "execution": {
     "iopub.execute_input": "2024-08-28T14:29:34.026034Z",
     "iopub.status.busy": "2024-08-28T14:29:34.025239Z",
     "iopub.status.idle": "2024-08-28T14:29:34.895993Z",
     "shell.execute_reply": "2024-08-28T14:29:34.894585Z",
     "shell.execute_reply.started": "2024-08-28T14:29:34.025991Z"
    },
    "tags": []
   },
   "outputs": [],
   "source": [
    "df_periodos = df_trafego.groupby('concessionaria').agg(\n",
    "    data_inicial=('mes_ano', 'min'),\n",
    "    data_final=('mes_ano', 'max')\n",
    ").reset_index()\n",
    "df_periodos['data_inicial'] = pd.to_datetime(df_periodos['data_inicial']).dt.date\n",
    "df_periodos['data_final'] = pd.to_datetime(df_periodos['data_final']).dt.date"
   ]
  },
  {
   "cell_type": "code",
   "execution_count": 34,
   "id": "631fee43-44f1-4af0-bef4-269bd9f261c3",
   "metadata": {
    "execution": {
     "iopub.execute_input": "2024-08-28T14:29:35.152166Z",
     "iopub.status.busy": "2024-08-28T14:29:35.151464Z",
     "iopub.status.idle": "2024-08-28T14:29:35.159456Z",
     "shell.execute_reply": "2024-08-28T14:29:35.157932Z",
     "shell.execute_reply.started": "2024-08-28T14:29:35.152127Z"
    },
    "tags": []
   },
   "outputs": [],
   "source": [
    "df_periodos.index = df_periodos['concessionaria']\n",
    "df_periodos = df_periodos.drop(columns=['concessionaria'])"
   ]
  },
  {
   "cell_type": "code",
   "execution_count": 35,
   "id": "ff4412de-e2db-46dd-86de-03e350024261",
   "metadata": {
    "execution": {
     "iopub.execute_input": "2024-08-28T14:29:35.585989Z",
     "iopub.status.busy": "2024-08-28T14:29:35.585255Z",
     "iopub.status.idle": "2024-08-28T14:29:35.593661Z",
     "shell.execute_reply": "2024-08-28T14:29:35.592466Z",
     "shell.execute_reply.started": "2024-08-28T14:29:35.585950Z"
    },
    "tags": []
   },
   "outputs": [],
   "source": [
    "df_periodos = df_periodos.sort_values(by='data_inicial', ascending=False)"
   ]
  },
  {
   "cell_type": "markdown",
   "id": "d4a56a76-9175-4683-96dd-3ec24f7c5e17",
   "metadata": {},
   "source": [
    "# Criando dataframes agrupando VEQs por ANO/concessionaria/tipo de trafego"
   ]
  },
  {
   "cell_type": "code",
   "execution_count": 36,
   "id": "daa64db4-4baf-4def-96eb-754a59be67d8",
   "metadata": {
    "execution": {
     "iopub.execute_input": "2024-08-28T14:29:36.952025Z",
     "iopub.status.busy": "2024-08-28T14:29:36.951461Z",
     "iopub.status.idle": "2024-08-28T14:29:36.961559Z",
     "shell.execute_reply": "2024-08-28T14:29:36.959806Z",
     "shell.execute_reply.started": "2024-08-28T14:29:36.951986Z"
    },
    "tags": []
   },
   "outputs": [
    {
     "data": {
      "text/plain": [
       "Index(['concessionaria', 'mes_ano', 'sentido', 'praca', 'categoria',\n",
       "       'tipo_de_veiculo', 'volume_total', 'multiplicador_de_tarifa',\n",
       "       'VEQS_TOTAL', 'tipo_de_cobranca', 'year', 'month', 'day',\n",
       "       'TIPO_TRAFEGO', 'VEQS_COMERCIAL', 'VEQS_PASSEIO'],\n",
       "      dtype='object')"
      ]
     },
     "execution_count": 36,
     "metadata": {},
     "output_type": "execute_result"
    }
   ],
   "source": [
    "df_trafego.columns"
   ]
  },
  {
   "cell_type": "code",
   "execution_count": 37,
   "id": "d50674a2-5e78-4c74-b726-dcb92013bdb0",
   "metadata": {
    "execution": {
     "iopub.execute_input": "2024-08-28T14:29:37.613002Z",
     "iopub.status.busy": "2024-08-28T14:29:37.612541Z",
     "iopub.status.idle": "2024-08-28T14:29:37.619171Z",
     "shell.execute_reply": "2024-08-28T14:29:37.617874Z",
     "shell.execute_reply.started": "2024-08-28T14:29:37.612965Z"
    },
    "tags": []
   },
   "outputs": [],
   "source": [
    "cols_veqs = ['VEQS_TOTAL','VEQS_COMERCIAL','VEQS_PASSEIO']"
   ]
  },
  {
   "cell_type": "code",
   "execution_count": 38,
   "id": "5bc113c9-f87f-4b65-a7c4-5006d68589a2",
   "metadata": {
    "execution": {
     "iopub.execute_input": "2024-08-28T14:29:38.047669Z",
     "iopub.status.busy": "2024-08-28T14:29:38.045609Z",
     "iopub.status.idle": "2024-08-28T14:29:39.501309Z",
     "shell.execute_reply": "2024-08-28T14:29:39.499797Z",
     "shell.execute_reply.started": "2024-08-28T14:29:38.047585Z"
    },
    "tags": []
   },
   "outputs": [],
   "source": [
    "dict_veqs = {}\n",
    "for col in cols_veqs:\n",
    "    dict_veqs[col] = df_trafego.pivot_table(\n",
    "        index='concessionaria',\n",
    "        columns='year',\n",
    "        values=col,\n",
    "        aggfunc='sum'\n",
    "        )"
   ]
  },
  {
   "cell_type": "markdown",
   "id": "d625db77-71d2-4333-b99b-4f4024437407",
   "metadata": {},
   "source": [
    "# Criando dataframes agrupando VEQs por MÊS/concessionaria/tipo de trafego"
   ]
  },
  {
   "cell_type": "code",
   "execution_count": 56,
   "id": "59b8cf1e-8e49-44eb-a917-6d78fb0033f6",
   "metadata": {
    "execution": {
     "iopub.execute_input": "2024-08-28T14:41:32.394971Z",
     "iopub.status.busy": "2024-08-28T14:41:32.394088Z",
     "iopub.status.idle": "2024-08-28T14:41:32.399614Z",
     "shell.execute_reply": "2024-08-28T14:41:32.398792Z",
     "shell.execute_reply.started": "2024-08-28T14:41:32.394931Z"
    },
    "tags": []
   },
   "outputs": [],
   "source": [
    "# Criando uma coluna agrupando todos os registros em um mes ano para o final do mes para groupby\n",
    "# df_trafego['MES_ANO_f'] = pd.to_datetime(df_trafego['mes_ano'], format='%m/%Y')\n",
    "# df_trafego['MES_ANO_f'] = df_trafego['MES_ANO_f'].dt.to_period('M').dt.to_timestamp('M').dt.date"
   ]
  },
  {
   "cell_type": "code",
   "execution_count": 57,
   "id": "0348a3c7-a13d-41bc-b436-6ef3d043ba73",
   "metadata": {
    "execution": {
     "iopub.execute_input": "2024-08-28T14:41:32.643362Z",
     "iopub.status.busy": "2024-08-28T14:41:32.642767Z",
     "iopub.status.idle": "2024-08-28T14:41:33.185514Z",
     "shell.execute_reply": "2024-08-28T14:41:33.183437Z",
     "shell.execute_reply.started": "2024-08-28T14:41:32.643322Z"
    },
    "tags": []
   },
   "outputs": [],
   "source": [
    "# Criando uma coluna agrupando todos os registros em um mes ano para o final do mes para groupby\n",
    "df_trafego['MES_ANO_f'] = pd.to_datetime(df_trafego['mes_ano'], format='%m/%Y')\n",
    "df_trafego['MES_ANO_f'] = df_trafego['MES_ANO_f'] + pd.offsets.MonthEnd(0)\n",
    "\n",
    "# df_trafego['MES_ANO_f'] = df_trafego['MES_ANO_f'].dt.date"
   ]
  },
  {
   "cell_type": "code",
   "execution_count": 58,
   "id": "7293e28f-ae40-4148-8802-62b6ac304a35",
   "metadata": {
    "execution": {
     "iopub.execute_input": "2024-08-28T14:41:33.189570Z",
     "iopub.status.busy": "2024-08-28T14:41:33.189211Z",
     "iopub.status.idle": "2024-08-28T14:41:34.592904Z",
     "shell.execute_reply": "2024-08-28T14:41:34.591304Z",
     "shell.execute_reply.started": "2024-08-28T14:41:33.189536Z"
    },
    "tags": []
   },
   "outputs": [],
   "source": [
    "dict_veqs_mensal = {}\n",
    "for col in cols_veqs:\n",
    "    dict_veqs_mensal[col] = df_trafego.pivot_table(\n",
    "        index='concessionaria',\n",
    "        columns='MES_ANO_f',\n",
    "        values=col,\n",
    "        aggfunc='sum'\n",
    "        )"
   ]
  },
  {
   "cell_type": "markdown",
   "id": "6c90ab55-71f1-4129-ac09-2617c0722e83",
   "metadata": {},
   "source": [
    "# Salvando p/parquet"
   ]
  },
  {
   "cell_type": "code",
   "execution_count": 46,
   "id": "3138fcdf-0e76-4d87-95ad-bd044cefbf8f",
   "metadata": {
    "execution": {
     "iopub.execute_input": "2024-08-28T14:31:54.184770Z",
     "iopub.status.busy": "2024-08-28T14:31:54.182653Z",
     "iopub.status.idle": "2024-08-28T14:32:06.027443Z",
     "shell.execute_reply": "2024-08-28T14:32:06.026157Z",
     "shell.execute_reply.started": "2024-08-28T14:31:54.184707Z"
    },
    "tags": []
   },
   "outputs": [],
   "source": [
    "# dataframe total\n",
    "# df_trafego.to_parquet(os.path.join(path_dados_derivados,'df_trafego.parquet'))\n",
    "df_trafego.to_parquet(path_output /'df_trafego.parquet')"
   ]
  },
  {
   "cell_type": "code",
   "execution_count": 47,
   "id": "dc5e978b-2ed4-4311-92ef-6a9836424ec6",
   "metadata": {
    "execution": {
     "iopub.execute_input": "2024-08-28T14:32:06.032485Z",
     "iopub.status.busy": "2024-08-28T14:32:06.031138Z",
     "iopub.status.idle": "2024-08-28T14:32:06.043233Z",
     "shell.execute_reply": "2024-08-28T14:32:06.041543Z",
     "shell.execute_reply.started": "2024-08-28T14:32:06.032422Z"
    },
    "tags": []
   },
   "outputs": [],
   "source": [
    "# data inicial e final\n",
    "df_periodos.to_parquet(path_output /'df_periodos.parquet')"
   ]
  },
  {
   "cell_type": "code",
   "execution_count": 48,
   "id": "eaf1133f-540b-4ad7-9d5d-a008f1d4ca36",
   "metadata": {
    "execution": {
     "iopub.execute_input": "2024-08-28T14:32:06.046909Z",
     "iopub.status.busy": "2024-08-28T14:32:06.045804Z",
     "iopub.status.idle": "2024-08-28T14:32:06.076179Z",
     "shell.execute_reply": "2024-08-28T14:32:06.074641Z",
     "shell.execute_reply.started": "2024-08-28T14:32:06.046865Z"
    },
    "tags": []
   },
   "outputs": [],
   "source": [
    "# dicionário com os dados de tráfego anuais:\n",
    "for veq in dict_veqs:\n",
    "    dict_veqs[veq].to_parquet(path_output / f'df_{veq}_anual.parquet')"
   ]
  },
  {
   "cell_type": "code",
   "execution_count": 54,
   "id": "cd64be80-e33b-4009-b2b6-c7d3abc42da7",
   "metadata": {
    "execution": {
     "iopub.execute_input": "2024-08-28T14:37:51.565427Z",
     "iopub.status.busy": "2024-08-28T14:37:51.564701Z",
     "iopub.status.idle": "2024-08-28T14:37:51.728891Z",
     "shell.execute_reply": "2024-08-28T14:37:51.727248Z",
     "shell.execute_reply.started": "2024-08-28T14:37:51.565384Z"
    },
    "tags": []
   },
   "outputs": [],
   "source": [
    "# dicionário com os dados de tráfego mensial:\n",
    "for veq in dict_veqs_mensal:\n",
    "    dict_veqs_mensal[veq].to_parquet(path_output / f'df_{veq}_mensal.parquet')"
   ]
  },
  {
   "cell_type": "markdown",
   "id": "3dd5690a-1f36-4de9-ace5-6f90ed976fd2",
   "metadata": {},
   "source": [
    "# Salvando p/Excel"
   ]
  },
  {
   "cell_type": "code",
   "execution_count": 50,
   "id": "5aa80b27-1e5f-46bc-a90d-cf4964847bf0",
   "metadata": {
    "execution": {
     "iopub.execute_input": "2024-08-28T14:32:06.191397Z",
     "iopub.status.busy": "2024-08-28T14:32:06.190050Z",
     "iopub.status.idle": "2024-08-28T14:32:06.485774Z",
     "shell.execute_reply": "2024-08-28T14:32:06.484781Z",
     "shell.execute_reply.started": "2024-08-28T14:32:06.191254Z"
    },
    "tags": []
   },
   "outputs": [],
   "source": [
    "# dados de tráfego anual\n",
    "with pd.ExcelWriter(path_output / 'dados_trafego_ANTT_anual.xlsx') as writer:\n",
    "    df_periodos.to_excel(writer, sheet_name=\"periodo_concessionarias\")\n",
    "    for veq in dict_veqs:\n",
    "        dict_veqs[veq].to_excel(writer, sheet_name=f\"{veq}\")"
   ]
  },
  {
   "cell_type": "code",
   "execution_count": 75,
   "id": "20a18c87-2f93-4f7b-9005-a7b2d0c60af1",
   "metadata": {
    "execution": {
     "iopub.execute_input": "2024-08-28T16:01:24.831799Z",
     "iopub.status.busy": "2024-08-28T16:01:24.831085Z",
     "iopub.status.idle": "2024-08-28T16:01:25.770936Z",
     "shell.execute_reply": "2024-08-28T16:01:25.766408Z",
     "shell.execute_reply.started": "2024-08-28T16:01:24.831759Z"
    },
    "tags": []
   },
   "outputs": [],
   "source": [
    "# dados de tráfego mensal\n",
    "with pd.ExcelWriter(path_output / 'dados_trafego_ANTT_mensal.xlsx') as writer:\n",
    "    df_periodos.to_excel(writer, sheet_name=\"periodo_concessionarias\")\n",
    "    for veq, df in dict_veqs_mensal.items():\n",
    "        # Para a data não ter horário no excel:\n",
    "        new_cols = [col.strftime('%Y-%m-%d') for col in df.columns]\n",
    "        df.columns = new_cols\n",
    "        dict_veqs_mensal[veq] = df\n",
    "        dict_veqs_mensal[veq].to_excel(writer, sheet_name=f\"{veq}\")"
   ]
  },
  {
   "cell_type": "code",
   "execution_count": null,
   "id": "48c968b4-7a54-4a05-b55b-8e4ef9dfbbc8",
   "metadata": {},
   "outputs": [],
   "source": []
  }
 ],
 "metadata": {
  "kernelspec": {
   "display_name": "infra-data",
   "language": "python",
   "name": "infra-data"
  },
  "language_info": {
   "codemirror_mode": {
    "name": "ipython",
    "version": 3
   },
   "file_extension": ".py",
   "mimetype": "text/x-python",
   "name": "python",
   "nbconvert_exporter": "python",
   "pygments_lexer": "ipython3",
   "version": "3.9.16"
  }
 },
 "nbformat": 4,
 "nbformat_minor": 5
}
