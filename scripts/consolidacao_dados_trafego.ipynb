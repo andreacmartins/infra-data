{
 "cells": [
  {
   "cell_type": "markdown",
   "id": "7cd4eef4-cce0-440e-b843-22821262126e",
   "metadata": {},
   "source": [
    "# IMPORTS"
   ]
  },
  {
   "cell_type": "code",
   "execution_count": 160,
   "id": "b0bd2558-4df8-4da6-a0fb-e13700764450",
   "metadata": {
    "execution": {
     "iopub.execute_input": "2024-09-11T16:47:29.860562Z",
     "iopub.status.busy": "2024-09-11T16:47:29.859924Z",
     "iopub.status.idle": "2024-09-11T16:47:29.867962Z",
     "shell.execute_reply": "2024-09-11T16:47:29.866551Z",
     "shell.execute_reply.started": "2024-09-11T16:47:29.860518Z"
    },
    "tags": []
   },
   "outputs": [],
   "source": [
    "import pandas as pd\n",
    "import numpy as np\n",
    "import os\n",
    "from decimal import Decimal\n",
    "import pickle\n",
    "from pathlib import Path\n",
    "from datetime import timedelta\n",
    "pd.set_option('display.max_columns', None)\n",
    "import warnings\n",
    "warnings.filterwarnings('ignore')"
   ]
  },
  {
   "cell_type": "markdown",
   "id": "49a66ef9-139e-4255-b3c1-d6d6460caffe",
   "metadata": {
    "execution": {
     "iopub.execute_input": "2024-08-20T19:55:44.418829Z",
     "iopub.status.busy": "2024-08-20T19:55:44.417516Z",
     "iopub.status.idle": "2024-08-20T19:55:44.424840Z",
     "shell.execute_reply": "2024-08-20T19:55:44.422826Z",
     "shell.execute_reply.started": "2024-08-20T19:55:44.418787Z"
    }
   },
   "source": [
    "# SETUP"
   ]
  },
  {
   "cell_type": "code",
   "execution_count": 161,
   "id": "7eaa031d-d0d4-4d30-b804-cba265e680c3",
   "metadata": {
    "execution": {
     "iopub.execute_input": "2024-09-11T16:47:30.514600Z",
     "iopub.status.busy": "2024-09-11T16:47:30.513899Z",
     "iopub.status.idle": "2024-09-11T16:47:30.522897Z",
     "shell.execute_reply": "2024-09-11T16:47:30.521644Z",
     "shell.execute_reply.started": "2024-09-11T16:47:30.514559Z"
    },
    "tags": []
   },
   "outputs": [],
   "source": [
    "dir_tree_util_path = os.path.join(\"utils\", \"dir_tree.py\")\n",
    "exec(open(dir_tree_util_path).read())"
   ]
  },
  {
   "cell_type": "markdown",
   "id": "5e259d48-4151-4192-a50c-da058d8aaa7e",
   "metadata": {},
   "source": [
    "# INPUTS"
   ]
  },
  {
   "cell_type": "code",
   "execution_count": 70,
   "id": "31307c5f-d5d2-4adc-9fa3-3bbf19cf7121",
   "metadata": {
    "execution": {
     "iopub.execute_input": "2024-09-11T15:36:30.093546Z",
     "iopub.status.busy": "2024-09-11T15:36:30.092862Z",
     "iopub.status.idle": "2024-09-11T15:36:30.101758Z",
     "shell.execute_reply": "2024-09-11T15:36:30.100258Z",
     "shell.execute_reply.started": "2024-09-11T15:36:30.093468Z"
    },
    "tags": []
   },
   "outputs": [],
   "source": [
    "# Paths\n",
    "path_input = PROJECT_DIRS[\"DADOS_VEQ_ANTT_DIR\"]\n",
    "path_output = PROJECT_DIRS[\"DADOS_TRAFEGO_DIR\"]\n",
    "path_output_anual = PROJECT_DIRS[\"DADOS_ANUAL_DIR\"]\n",
    "path_output_trimestral = PROJECT_DIRS[\"DADOS_TRIMESTRAL_DIR\"]\n",
    "path_output_mensal = PROJECT_DIRS[\"DADOS_MENSAL_DIR\"]\n",
    "periodo = list(range(2010, 2025))"
   ]
  },
  {
   "cell_type": "markdown",
   "id": "4227454c-3327-470a-92b4-35b111fe9c27",
   "metadata": {},
   "source": [
    "# Criando um dataframe consolidado com os dados de tráfego"
   ]
  },
  {
   "cell_type": "code",
   "execution_count": 71,
   "id": "3b658ece-7e95-46f0-9af1-dd47eb29a702",
   "metadata": {
    "execution": {
     "iopub.execute_input": "2024-09-11T15:36:30.104443Z",
     "iopub.status.busy": "2024-09-11T15:36:30.104014Z",
     "iopub.status.idle": "2024-09-11T15:36:30.110769Z",
     "shell.execute_reply": "2024-09-11T15:36:30.109130Z",
     "shell.execute_reply.started": "2024-09-11T15:36:30.104402Z"
    },
    "tags": []
   },
   "outputs": [],
   "source": [
    "# arquivos dos dados\n",
    "arquivos = os.listdir(path_input)"
   ]
  },
  {
   "cell_type": "code",
   "execution_count": 72,
   "id": "964fa4c0-5272-4ea5-ba8a-f8fd00296c3c",
   "metadata": {
    "execution": {
     "iopub.execute_input": "2024-09-11T15:36:30.116708Z",
     "iopub.status.busy": "2024-09-11T15:36:30.115805Z",
     "iopub.status.idle": "2024-09-11T15:36:36.338834Z",
     "shell.execute_reply": "2024-09-11T15:36:36.336395Z",
     "shell.execute_reply.started": "2024-09-11T15:36:30.116636Z"
    },
    "tags": []
   },
   "outputs": [],
   "source": [
    "df_trafego = pd.DataFrame()\n",
    "for ano in periodo:\n",
    "    arquivo = [a for a in arquivos if a[:-4].endswith(str(ano))][0]\n",
    "    df_ano = pd.read_csv(os.path.join(path_input, arquivo), sep=';', encoding='cp1252', low_memory=False)\n",
    "    df_trafego = pd.concat([df_trafego,df_ano])"
   ]
  },
  {
   "cell_type": "markdown",
   "id": "77d89742-3655-43ef-935c-b57c5a4456d9",
   "metadata": {},
   "source": [
    "# EDA Inicial"
   ]
  },
  {
   "cell_type": "code",
   "execution_count": 73,
   "id": "ffc68822-6798-45bb-a980-1691d74ad640",
   "metadata": {
    "execution": {
     "iopub.execute_input": "2024-09-11T15:36:36.341457Z",
     "iopub.status.busy": "2024-09-11T15:36:36.340782Z",
     "iopub.status.idle": "2024-09-11T15:36:36.371017Z",
     "shell.execute_reply": "2024-09-11T15:36:36.368910Z",
     "shell.execute_reply.started": "2024-09-11T15:36:36.341406Z"
    },
    "tags": []
   },
   "outputs": [
    {
     "data": {
      "text/html": [
       "<div>\n",
       "<style scoped>\n",
       "    .dataframe tbody tr th:only-of-type {\n",
       "        vertical-align: middle;\n",
       "    }\n",
       "\n",
       "    .dataframe tbody tr th {\n",
       "        vertical-align: top;\n",
       "    }\n",
       "\n",
       "    .dataframe thead th {\n",
       "        text-align: right;\n",
       "    }\n",
       "</style>\n",
       "<table border=\"1\" class=\"dataframe\">\n",
       "  <thead>\n",
       "    <tr style=\"text-align: right;\">\n",
       "      <th></th>\n",
       "      <th>concessionaria</th>\n",
       "      <th>mes_ano</th>\n",
       "      <th>sentido</th>\n",
       "      <th>praca</th>\n",
       "      <th>categoria</th>\n",
       "      <th>tipo_de_veiculo</th>\n",
       "      <th>volume_total</th>\n",
       "      <th>multiplicador_de_tarifa</th>\n",
       "      <th>volume_veiculo_equivalente</th>\n",
       "      <th>tipo_de_cobranca</th>\n",
       "    </tr>\n",
       "  </thead>\n",
       "  <tbody>\n",
       "    <tr>\n",
       "      <th>0</th>\n",
       "      <td>RODOVIA DO AÇO</td>\n",
       "      <td>01-01-2010</td>\n",
       "      <td>Decrescente</td>\n",
       "      <td>Praça 01  BR-393/RJ km 125,00</td>\n",
       "      <td>Categoria 1</td>\n",
       "      <td>Passeio</td>\n",
       "      <td>44146</td>\n",
       "      <td>1</td>\n",
       "      <td>44146</td>\n",
       "      <td>NaN</td>\n",
       "    </tr>\n",
       "    <tr>\n",
       "      <th>1</th>\n",
       "      <td>RODOVIA DO AÇO</td>\n",
       "      <td>01-01-2010</td>\n",
       "      <td>Crescente</td>\n",
       "      <td>Praça 01  BR-393/RJ km 125,00</td>\n",
       "      <td>Categoria 1</td>\n",
       "      <td>Passeio</td>\n",
       "      <td>35771</td>\n",
       "      <td>1</td>\n",
       "      <td>35771</td>\n",
       "      <td>NaN</td>\n",
       "    </tr>\n",
       "    <tr>\n",
       "      <th>2</th>\n",
       "      <td>RODOVIA DO AÇO</td>\n",
       "      <td>01-02-2010</td>\n",
       "      <td>Decrescente</td>\n",
       "      <td>Praça 01  BR-393/RJ km 125,00</td>\n",
       "      <td>Categoria 1</td>\n",
       "      <td>Passeio</td>\n",
       "      <td>33455</td>\n",
       "      <td>1</td>\n",
       "      <td>33455</td>\n",
       "      <td>NaN</td>\n",
       "    </tr>\n",
       "    <tr>\n",
       "      <th>3</th>\n",
       "      <td>RODOVIA DO AÇO</td>\n",
       "      <td>01-02-2010</td>\n",
       "      <td>Crescente</td>\n",
       "      <td>Praça 01  BR-393/RJ km 125,00</td>\n",
       "      <td>Categoria 1</td>\n",
       "      <td>Passeio</td>\n",
       "      <td>27109</td>\n",
       "      <td>1</td>\n",
       "      <td>27109</td>\n",
       "      <td>NaN</td>\n",
       "    </tr>\n",
       "    <tr>\n",
       "      <th>4</th>\n",
       "      <td>RODOVIA DO AÇO</td>\n",
       "      <td>01-03-2010</td>\n",
       "      <td>Decrescente</td>\n",
       "      <td>Praça 01  BR-393/RJ km 125,00</td>\n",
       "      <td>Categoria 1</td>\n",
       "      <td>Passeio</td>\n",
       "      <td>31677</td>\n",
       "      <td>1</td>\n",
       "      <td>31677</td>\n",
       "      <td>NaN</td>\n",
       "    </tr>\n",
       "  </tbody>\n",
       "</table>\n",
       "</div>"
      ],
      "text/plain": [
       "   concessionaria     mes_ano      sentido                          praca  \\\n",
       "0  RODOVIA DO AÇO  01-01-2010  Decrescente  Praça 01  BR-393/RJ km 125,00   \n",
       "1  RODOVIA DO AÇO  01-01-2010    Crescente  Praça 01  BR-393/RJ km 125,00   \n",
       "2  RODOVIA DO AÇO  01-02-2010  Decrescente  Praça 01  BR-393/RJ km 125,00   \n",
       "3  RODOVIA DO AÇO  01-02-2010    Crescente  Praça 01  BR-393/RJ km 125,00   \n",
       "4  RODOVIA DO AÇO  01-03-2010  Decrescente  Praça 01  BR-393/RJ km 125,00   \n",
       "\n",
       "     categoria tipo_de_veiculo volume_total multiplicador_de_tarifa  \\\n",
       "0  Categoria 1         Passeio        44146                       1   \n",
       "1  Categoria 1         Passeio        35771                       1   \n",
       "2  Categoria 1         Passeio        33455                       1   \n",
       "3  Categoria 1         Passeio        27109                       1   \n",
       "4  Categoria 1         Passeio        31677                       1   \n",
       "\n",
       "  volume_veiculo_equivalente tipo_de_cobranca  \n",
       "0                      44146              NaN  \n",
       "1                      35771              NaN  \n",
       "2                      33455              NaN  \n",
       "3                      27109              NaN  \n",
       "4                      31677              NaN  "
      ]
     },
     "execution_count": 73,
     "metadata": {},
     "output_type": "execute_result"
    }
   ],
   "source": [
    "df_trafego.head()"
   ]
  },
  {
   "cell_type": "code",
   "execution_count": 74,
   "id": "b6ec2aac-2b43-4f9c-b424-e579cceb667d",
   "metadata": {
    "execution": {
     "iopub.execute_input": "2024-09-11T15:36:36.373912Z",
     "iopub.status.busy": "2024-09-11T15:36:36.373312Z",
     "iopub.status.idle": "2024-09-11T15:36:36.631058Z",
     "shell.execute_reply": "2024-09-11T15:36:36.628559Z",
     "shell.execute_reply.started": "2024-09-11T15:36:36.373845Z"
    },
    "tags": []
   },
   "outputs": [
    {
     "data": {
      "text/plain": [
       "1057786    25/01/2024\n",
       "2065656    17/03/2024\n",
       "1831664    17/04/2024\n",
       "34616      01/06/2021\n",
       "242257     11/03/2024\n",
       "764703     15/04/2024\n",
       "13788      01/11/2019\n",
       "86407      01/12/2021\n",
       "41039      30/01/2024\n",
       "Name: mes_ano, dtype: object"
      ]
     },
     "execution_count": 74,
     "metadata": {},
     "output_type": "execute_result"
    }
   ],
   "source": [
    "# mes_ano na verdade é uma data\n",
    "df_trafego['mes_ano'].sample(9, random_state=3)"
   ]
  },
  {
   "cell_type": "code",
   "execution_count": 75,
   "id": "375aa237-e0b2-4a31-bcb1-ba4356cc4745",
   "metadata": {
    "execution": {
     "iopub.execute_input": "2024-09-11T15:36:36.634356Z",
     "iopub.status.busy": "2024-09-11T15:36:36.633586Z",
     "iopub.status.idle": "2024-09-11T15:36:36.653449Z",
     "shell.execute_reply": "2024-09-11T15:36:36.651577Z",
     "shell.execute_reply.started": "2024-09-11T15:36:36.634281Z"
    },
    "tags": []
   },
   "outputs": [
    {
     "name": "stdout",
     "output_type": "stream",
     "text": [
      "<class 'pandas.core.frame.DataFrame'>\n",
      "Index: 3000353 entries, 0 to 2329761\n",
      "Data columns (total 10 columns):\n",
      " #   Column                      Dtype \n",
      "---  ------                      ----- \n",
      " 0   concessionaria              object\n",
      " 1   mes_ano                     object\n",
      " 2   sentido                     object\n",
      " 3   praca                       object\n",
      " 4   categoria                   object\n",
      " 5   tipo_de_veiculo             object\n",
      " 6   volume_total                object\n",
      " 7   multiplicador_de_tarifa     object\n",
      " 8   volume_veiculo_equivalente  object\n",
      " 9   tipo_de_cobranca            object\n",
      "dtypes: object(10)\n",
      "memory usage: 251.8+ MB\n"
     ]
    }
   ],
   "source": [
    "df_trafego.info()"
   ]
  },
  {
   "cell_type": "code",
   "execution_count": 76,
   "id": "ded8067c-2413-44c0-88ca-9ff8d15084b1",
   "metadata": {
    "execution": {
     "iopub.execute_input": "2024-09-11T15:36:36.655787Z",
     "iopub.status.busy": "2024-09-11T15:36:36.655213Z",
     "iopub.status.idle": "2024-09-11T15:36:37.883889Z",
     "shell.execute_reply": "2024-09-11T15:36:37.882889Z",
     "shell.execute_reply.started": "2024-09-11T15:36:36.655744Z"
    },
    "tags": []
   },
   "outputs": [
    {
     "name": "stdout",
     "output_type": "stream",
     "text": [
      "concessionaria: 0\n",
      "mes_ano: 0\n",
      "sentido: 0\n",
      "praca: 0\n",
      "categoria: 0\n",
      "tipo_de_veiculo: 0\n",
      "volume_total: 344\n",
      "multiplicador_de_tarifa: 0\n",
      "volume_veiculo_equivalente: 0\n",
      "tipo_de_cobranca: 74780\n"
     ]
    }
   ],
   "source": [
    "for col in df_trafego:\n",
    "    print(f\"{col}: {df_trafego[col].isna().sum()}\")"
   ]
  },
  {
   "cell_type": "code",
   "execution_count": 77,
   "id": "dddf1952-8eca-459f-890b-90ada7d1bc14",
   "metadata": {
    "execution": {
     "iopub.execute_input": "2024-09-11T15:36:37.888888Z",
     "iopub.status.busy": "2024-09-11T15:36:37.888208Z",
     "iopub.status.idle": "2024-09-11T15:36:38.030007Z",
     "shell.execute_reply": "2024-09-11T15:36:38.028984Z",
     "shell.execute_reply.started": "2024-09-11T15:36:37.888849Z"
    },
    "tags": []
   },
   "outputs": [
    {
     "data": {
      "text/html": [
       "<div>\n",
       "<style scoped>\n",
       "    .dataframe tbody tr th:only-of-type {\n",
       "        vertical-align: middle;\n",
       "    }\n",
       "\n",
       "    .dataframe tbody tr th {\n",
       "        vertical-align: top;\n",
       "    }\n",
       "\n",
       "    .dataframe thead th {\n",
       "        text-align: right;\n",
       "    }\n",
       "</style>\n",
       "<table border=\"1\" class=\"dataframe\">\n",
       "  <thead>\n",
       "    <tr style=\"text-align: right;\">\n",
       "      <th></th>\n",
       "      <th>concessionaria</th>\n",
       "      <th>mes_ano</th>\n",
       "      <th>sentido</th>\n",
       "      <th>praca</th>\n",
       "      <th>categoria</th>\n",
       "      <th>tipo_de_veiculo</th>\n",
       "      <th>volume_total</th>\n",
       "      <th>multiplicador_de_tarifa</th>\n",
       "      <th>volume_veiculo_equivalente</th>\n",
       "      <th>tipo_de_cobranca</th>\n",
       "    </tr>\n",
       "  </thead>\n",
       "  <tbody>\n",
       "    <tr>\n",
       "      <th>130918</th>\n",
       "      <td>ECOVIAS DO CERRADO</td>\n",
       "      <td>01/11/2023</td>\n",
       "      <td>Decrescente</td>\n",
       "      <td>P4 - SANTA VITÓRIA</td>\n",
       "      <td>Veículo Comercial Acima 10 eixos</td>\n",
       "      <td>Comercial</td>\n",
       "      <td>NaN</td>\n",
       "      <td>10,00</td>\n",
       "      <td>0,00</td>\n",
       "      <td>N/I</td>\n",
       "    </tr>\n",
       "    <tr>\n",
       "      <th>122983</th>\n",
       "      <td>ECOPONTE</td>\n",
       "      <td>01/05/2023</td>\n",
       "      <td>Decrescente</td>\n",
       "      <td>Praça 01 BR-101/RJ km 322,20</td>\n",
       "      <td>Veículo Comercial Acima 10 eixos</td>\n",
       "      <td>Comercial</td>\n",
       "      <td>NaN</td>\n",
       "      <td>10,00</td>\n",
       "      <td>0,00</td>\n",
       "      <td>N/I</td>\n",
       "    </tr>\n",
       "    <tr>\n",
       "      <th>122955</th>\n",
       "      <td>ECOPONTE</td>\n",
       "      <td>01/03/2023</td>\n",
       "      <td>Decrescente</td>\n",
       "      <td>Praça 01 BR-101/RJ km 322,20</td>\n",
       "      <td>Veículo Comercial Acima 10 eixos</td>\n",
       "      <td>Comercial</td>\n",
       "      <td>NaN</td>\n",
       "      <td>10,00</td>\n",
       "      <td>0,00</td>\n",
       "      <td>N/I</td>\n",
       "    </tr>\n",
       "    <tr>\n",
       "      <th>134585</th>\n",
       "      <td>RIOSP</td>\n",
       "      <td>01/02/2023</td>\n",
       "      <td>Crescente</td>\n",
       "      <td>Praça 08 BR-116/SP km 205,00</td>\n",
       "      <td>Categoria 4</td>\n",
       "      <td>Comercial</td>\n",
       "      <td>NaN</td>\n",
       "      <td>3,00</td>\n",
       "      <td>0,00</td>\n",
       "      <td>N/I</td>\n",
       "    </tr>\n",
       "    <tr>\n",
       "      <th>134593</th>\n",
       "      <td>RIOSP</td>\n",
       "      <td>01/02/2023</td>\n",
       "      <td>Crescente</td>\n",
       "      <td>Praça 08 BR-116/SP km 205,00</td>\n",
       "      <td>Categoria 9</td>\n",
       "      <td>Moto</td>\n",
       "      <td>NaN</td>\n",
       "      <td>0,50</td>\n",
       "      <td>0,00</td>\n",
       "      <td>N/I</td>\n",
       "    </tr>\n",
       "    <tr>\n",
       "      <th>131165</th>\n",
       "      <td>ECOVIAS DO CERRADO</td>\n",
       "      <td>01/12/2023</td>\n",
       "      <td>Crescente</td>\n",
       "      <td>P7 - Jataí BR 364/GO km 156,550</td>\n",
       "      <td>Veículo Comercial Acima 10 eixos</td>\n",
       "      <td>Comercial</td>\n",
       "      <td>NaN</td>\n",
       "      <td>10,00</td>\n",
       "      <td>0,00</td>\n",
       "      <td>N/I</td>\n",
       "    </tr>\n",
       "    <tr>\n",
       "      <th>126172</th>\n",
       "      <td>ECOSUL</td>\n",
       "      <td>01/12/2023</td>\n",
       "      <td>Decrescente</td>\n",
       "      <td>Praça 04 BR-392/RS km 52,30</td>\n",
       "      <td>Categoria 9</td>\n",
       "      <td>Moto</td>\n",
       "      <td>NaN</td>\n",
       "      <td>0,50</td>\n",
       "      <td>0,00</td>\n",
       "      <td>N/I</td>\n",
       "    </tr>\n",
       "    <tr>\n",
       "      <th>126072</th>\n",
       "      <td>ECOSUL</td>\n",
       "      <td>01/11/2023</td>\n",
       "      <td>Decrescente</td>\n",
       "      <td>Praça 04 BR-392/RS km 52,30</td>\n",
       "      <td>Categoria 9</td>\n",
       "      <td>Moto</td>\n",
       "      <td>NaN</td>\n",
       "      <td>0,50</td>\n",
       "      <td>0,00</td>\n",
       "      <td>N/I</td>\n",
       "    </tr>\n",
       "    <tr>\n",
       "      <th>125182</th>\n",
       "      <td>ECOSUL</td>\n",
       "      <td>01/02/2023</td>\n",
       "      <td>Crescente</td>\n",
       "      <td>Praça 05 BR-392/RS km 111,47</td>\n",
       "      <td>Categoria 9</td>\n",
       "      <td>Moto</td>\n",
       "      <td>NaN</td>\n",
       "      <td>0,50</td>\n",
       "      <td>0,00</td>\n",
       "      <td>N/I</td>\n",
       "    </tr>\n",
       "  </tbody>\n",
       "</table>\n",
       "</div>"
      ],
      "text/plain": [
       "            concessionaria     mes_ano      sentido  \\\n",
       "130918  ECOVIAS DO CERRADO  01/11/2023  Decrescente   \n",
       "122983            ECOPONTE  01/05/2023  Decrescente   \n",
       "122955            ECOPONTE  01/03/2023  Decrescente   \n",
       "134585               RIOSP  01/02/2023    Crescente   \n",
       "134593               RIOSP  01/02/2023    Crescente   \n",
       "131165  ECOVIAS DO CERRADO  01/12/2023    Crescente   \n",
       "126172              ECOSUL  01/12/2023  Decrescente   \n",
       "126072              ECOSUL  01/11/2023  Decrescente   \n",
       "125182              ECOSUL  01/02/2023    Crescente   \n",
       "\n",
       "                                  praca                         categoria  \\\n",
       "130918               P4 - SANTA VITÓRIA  Veículo Comercial Acima 10 eixos   \n",
       "122983     Praça 01 BR-101/RJ km 322,20  Veículo Comercial Acima 10 eixos   \n",
       "122955     Praça 01 BR-101/RJ km 322,20  Veículo Comercial Acima 10 eixos   \n",
       "134585     Praça 08 BR-116/SP km 205,00                       Categoria 4   \n",
       "134593     Praça 08 BR-116/SP km 205,00                       Categoria 9   \n",
       "131165  P7 - Jataí BR 364/GO km 156,550  Veículo Comercial Acima 10 eixos   \n",
       "126172      Praça 04 BR-392/RS km 52,30                       Categoria 9   \n",
       "126072      Praça 04 BR-392/RS km 52,30                       Categoria 9   \n",
       "125182     Praça 05 BR-392/RS km 111,47                       Categoria 9   \n",
       "\n",
       "       tipo_de_veiculo volume_total multiplicador_de_tarifa  \\\n",
       "130918       Comercial          NaN                   10,00   \n",
       "122983       Comercial          NaN                   10,00   \n",
       "122955       Comercial          NaN                   10,00   \n",
       "134585       Comercial          NaN                    3,00   \n",
       "134593            Moto          NaN                    0,50   \n",
       "131165       Comercial          NaN                   10,00   \n",
       "126172            Moto          NaN                    0,50   \n",
       "126072            Moto          NaN                    0,50   \n",
       "125182            Moto          NaN                    0,50   \n",
       "\n",
       "       volume_veiculo_equivalente tipo_de_cobranca  \n",
       "130918                       0,00              N/I  \n",
       "122983                       0,00              N/I  \n",
       "122955                       0,00              N/I  \n",
       "134585                       0,00              N/I  \n",
       "134593                       0,00              N/I  \n",
       "131165                       0,00              N/I  \n",
       "126172                       0,00              N/I  \n",
       "126072                       0,00              N/I  \n",
       "125182                       0,00              N/I  "
      ]
     },
     "execution_count": 77,
     "metadata": {},
     "output_type": "execute_result"
    }
   ],
   "source": [
    "df_trafego[df_trafego['volume_total'].isna()].sample(9)"
   ]
  },
  {
   "cell_type": "code",
   "execution_count": 78,
   "id": "c0eb184b-ce91-429c-bc8b-4abac18cf9d2",
   "metadata": {
    "execution": {
     "iopub.execute_input": "2024-09-11T15:36:38.033421Z",
     "iopub.status.busy": "2024-09-11T15:36:38.032004Z",
     "iopub.status.idle": "2024-09-11T15:36:38.155864Z",
     "shell.execute_reply": "2024-09-11T15:36:38.154148Z",
     "shell.execute_reply.started": "2024-09-11T15:36:38.033378Z"
    },
    "tags": []
   },
   "outputs": [
    {
     "data": {
      "text/plain": [
       "array(['0,00'], dtype=object)"
      ]
     },
     "execution_count": 78,
     "metadata": {},
     "output_type": "execute_result"
    }
   ],
   "source": [
    "df_trafego[df_trafego['volume_total'].isna()]['volume_veiculo_equivalente'].unique()"
   ]
  },
  {
   "cell_type": "code",
   "execution_count": 79,
   "id": "b455acf7-a4bf-4af3-b96d-e8fa9b687001",
   "metadata": {
    "execution": {
     "iopub.execute_input": "2024-09-11T15:36:38.157850Z",
     "iopub.status.busy": "2024-09-11T15:36:38.157489Z",
     "iopub.status.idle": "2024-09-11T15:36:39.335775Z",
     "shell.execute_reply": "2024-09-11T15:36:39.334237Z",
     "shell.execute_reply.started": "2024-09-11T15:36:38.157811Z"
    },
    "tags": []
   },
   "outputs": [
    {
     "data": {
      "text/plain": [
       "array(['01', '14', '28', '31', '30', '02', '03', '04', '05', '06', '07',\n",
       "       '08', '09', '10', '11', '12', '13', '15', '16', '17', '18', '19',\n",
       "       '20', '21', '22', '23', '24', '25', '26', '27', '29'], dtype=object)"
      ]
     },
     "execution_count": 79,
     "metadata": {},
     "output_type": "execute_result"
    }
   ],
   "source": [
    "df_trafego['mes_ano'].str[:2].unique()"
   ]
  },
  {
   "cell_type": "code",
   "execution_count": 80,
   "id": "8bd3362a-3ca0-4b08-bec7-8bf7db6a5060",
   "metadata": {
    "execution": {
     "iopub.execute_input": "2024-09-11T15:36:39.338026Z",
     "iopub.status.busy": "2024-09-11T15:36:39.337394Z",
     "iopub.status.idle": "2024-09-11T15:36:40.424148Z",
     "shell.execute_reply": "2024-09-11T15:36:40.423260Z",
     "shell.execute_reply.started": "2024-09-11T15:36:39.337986Z"
    },
    "tags": []
   },
   "outputs": [
    {
     "data": {
      "text/plain": [
       "array(['01', '02', '03', '04', '05', '06', '07', '08', '09', '10', '11',\n",
       "       '12'], dtype=object)"
      ]
     },
     "execution_count": 80,
     "metadata": {},
     "output_type": "execute_result"
    }
   ],
   "source": [
    "df_trafego['mes_ano'].str[3:5].unique()"
   ]
  },
  {
   "cell_type": "code",
   "execution_count": 81,
   "id": "8453ca06-ce7b-47b5-afe4-1dcf7ff131da",
   "metadata": {
    "execution": {
     "iopub.execute_input": "2024-09-11T15:36:40.426266Z",
     "iopub.status.busy": "2024-09-11T15:36:40.425940Z",
     "iopub.status.idle": "2024-09-11T15:36:40.540514Z",
     "shell.execute_reply": "2024-09-11T15:36:40.538653Z",
     "shell.execute_reply.started": "2024-09-11T15:36:40.426230Z"
    },
    "tags": []
   },
   "outputs": [
    {
     "data": {
      "text/plain": [
       "array([nan, 'N/I', 'Manual', 'Automática', 'Mista'], dtype=object)"
      ]
     },
     "execution_count": 81,
     "metadata": {},
     "output_type": "execute_result"
    }
   ],
   "source": [
    "df_trafego['tipo_de_cobranca'].unique()"
   ]
  },
  {
   "cell_type": "code",
   "execution_count": 82,
   "id": "60e95d5f-cf18-4ce0-bea5-a7f2037bd499",
   "metadata": {
    "execution": {
     "iopub.execute_input": "2024-09-11T15:36:40.543701Z",
     "iopub.status.busy": "2024-09-11T15:36:40.543027Z",
     "iopub.status.idle": "2024-09-11T15:36:40.663057Z",
     "shell.execute_reply": "2024-09-11T15:36:40.661457Z",
     "shell.execute_reply.started": "2024-09-11T15:36:40.543645Z"
    },
    "tags": []
   },
   "outputs": [
    {
     "data": {
      "text/plain": [
       "np.True_"
      ]
     },
     "execution_count": 82,
     "metadata": {},
     "output_type": "execute_result"
    }
   ],
   "source": [
    "df_trafego['volume_total'].isna().any()"
   ]
  },
  {
   "cell_type": "code",
   "execution_count": 83,
   "id": "ffb13d6e-a38b-4448-ac2a-18bbc4fb5806",
   "metadata": {
    "execution": {
     "iopub.execute_input": "2024-09-11T15:36:40.665159Z",
     "iopub.status.busy": "2024-09-11T15:36:40.664662Z",
     "iopub.status.idle": "2024-09-11T15:36:40.781859Z",
     "shell.execute_reply": "2024-09-11T15:36:40.779786Z",
     "shell.execute_reply.started": "2024-09-11T15:36:40.665118Z"
    },
    "tags": []
   },
   "outputs": [
    {
     "data": {
      "text/plain": [
       "np.int64(344)"
      ]
     },
     "execution_count": 83,
     "metadata": {},
     "output_type": "execute_result"
    }
   ],
   "source": [
    "df_trafego['volume_total'].isna().sum()"
   ]
  },
  {
   "cell_type": "code",
   "execution_count": 84,
   "id": "f1c1d921-77c0-4909-ab78-8f4be88a7680",
   "metadata": {
    "execution": {
     "iopub.execute_input": "2024-09-11T15:36:40.783646Z",
     "iopub.status.busy": "2024-09-11T15:36:40.783236Z",
     "iopub.status.idle": "2024-09-11T15:36:40.899544Z",
     "shell.execute_reply": "2024-09-11T15:36:40.898462Z",
     "shell.execute_reply.started": "2024-09-11T15:36:40.783608Z"
    },
    "tags": []
   },
   "outputs": [
    {
     "data": {
      "text/plain": [
       "array(['1', '2', '1,5', '3', '4', '5', '6', '0,5', '7', '8', '9', '10',\n",
       "       1.0, 2.0, 1.5, 3.0, 4.0, 5.0, 6.0, 0.5, 7.0, 8.0, 9.0, 10.0,\n",
       "       '2,00', '3,00', '4,00', '5,00', '6,00', '0,50', '1,00', '1,50',\n",
       "       '7,00', '8,00', '9,00', '10,00', '0,00', '11,00', '13,00', '15,00',\n",
       "       '12,00', '14,00', '18,00', '20,00', '16,00', '17,00', '19,00'],\n",
       "      dtype=object)"
      ]
     },
     "execution_count": 84,
     "metadata": {},
     "output_type": "execute_result"
    }
   ],
   "source": [
    "df_trafego['multiplicador_de_tarifa'].unique()"
   ]
  },
  {
   "cell_type": "markdown",
   "id": "3dd3548c-f263-4ffc-9527-5344610ef315",
   "metadata": {},
   "source": [
    "# Tratamento dos dados"
   ]
  },
  {
   "cell_type": "code",
   "execution_count": 85,
   "id": "f051ad20-c663-4a8d-925b-549e436eb4c9",
   "metadata": {
    "execution": {
     "iopub.execute_input": "2024-09-11T15:36:40.901492Z",
     "iopub.status.busy": "2024-09-11T15:36:40.900921Z",
     "iopub.status.idle": "2024-09-11T15:36:44.950649Z",
     "shell.execute_reply": "2024-09-11T15:36:44.949442Z",
     "shell.execute_reply.started": "2024-09-11T15:36:40.901453Z"
    },
    "tags": []
   },
   "outputs": [],
   "source": [
    "# Colunas de ano, mes e dia\n",
    "df_trafego['year'] = df_trafego['mes_ano'].str[-4:].astype('int') \n",
    "df_trafego['month'] = df_trafego['mes_ano'].str[3:5].astype('int')\n",
    "df_trafego['day'] = df_trafego['mes_ano'].str[:2].astype('int') "
   ]
  },
  {
   "cell_type": "code",
   "execution_count": 86,
   "id": "67124ec5-e152-49d4-b303-9cbb11927cb3",
   "metadata": {
    "execution": {
     "iopub.execute_input": "2024-09-11T15:36:44.953114Z",
     "iopub.status.busy": "2024-09-11T15:36:44.952483Z",
     "iopub.status.idle": "2024-09-11T15:36:46.436190Z",
     "shell.execute_reply": "2024-09-11T15:36:46.434203Z",
     "shell.execute_reply.started": "2024-09-11T15:36:44.953074Z"
    },
    "tags": []
   },
   "outputs": [],
   "source": [
    "# Recriando a coluna de data, agora como datetime ao invés de string. Tem que ser em ingles pq a função do pandas exige\n",
    "# OBS: essa coluna está cagada, as vezes temos a data completa, as vezes apenas um registro consolidando o mês!\n",
    "df_trafego['data'] = pd.to_datetime(df_trafego[['year', 'month', 'day']]).dt.date\n",
    "# criando uma coluna de mes_ano\n",
    "df_trafego['mes_ano'] = pd.to_datetime(df_trafego[['year', 'month', 'day']]).dt.to_period('M')"
   ]
  },
  {
   "cell_type": "code",
   "execution_count": 87,
   "id": "76220367-dddb-41f2-9e53-7c75a53b7c7c",
   "metadata": {
    "execution": {
     "iopub.execute_input": "2024-09-11T15:36:46.438240Z",
     "iopub.status.busy": "2024-09-11T15:36:46.437773Z",
     "iopub.status.idle": "2024-09-11T15:37:30.574866Z",
     "shell.execute_reply": "2024-09-11T15:37:30.573735Z",
     "shell.execute_reply.started": "2024-09-11T15:36:46.438200Z"
    },
    "tags": []
   },
   "outputs": [
    {
     "data": {
      "text/plain": [
       "array([datetime.date(2015, 9, 1)], dtype=object)"
      ]
     },
     "execution_count": 87,
     "metadata": {},
     "output_type": "execute_result"
    }
   ],
   "source": [
    "# OBS: para algumas concessionarias ao menos, os dados a nível de data não são confiáveis\n",
    "\n",
    "df_trafego.query(\"concessionaria == 'CRO' and mes_ano == @pd.to_datetime('2015-09').to_period('M')\")['data'].unique()\n",
    "\n",
    "\n",
    "# Os dados com início com 2010-01-01 estão ok."
   ]
  },
  {
   "cell_type": "code",
   "execution_count": 88,
   "id": "5fae9658-dc43-433c-89c9-2395145471de",
   "metadata": {
    "execution": {
     "iopub.execute_input": "2024-09-11T15:37:30.577332Z",
     "iopub.status.busy": "2024-09-11T15:37:30.576703Z",
     "iopub.status.idle": "2024-09-11T15:37:30.803868Z",
     "shell.execute_reply": "2024-09-11T15:37:30.802223Z",
     "shell.execute_reply.started": "2024-09-11T15:37:30.577293Z"
    },
    "tags": []
   },
   "outputs": [],
   "source": [
    "# preenchendo os NaNs, qdo aplicável:\n",
    "df_trafego['volume_total'] = df_trafego['volume_total'].fillna(0) #o volume equivalente é zero sempre que volume_total é zero"
   ]
  },
  {
   "cell_type": "code",
   "execution_count": 89,
   "id": "6c57331f-cb3d-4adc-9d3c-ef37432f4801",
   "metadata": {
    "execution": {
     "iopub.execute_input": "2024-09-11T15:37:30.805671Z",
     "iopub.status.busy": "2024-09-11T15:37:30.805296Z",
     "iopub.status.idle": "2024-09-11T15:37:36.156902Z",
     "shell.execute_reply": "2024-09-11T15:37:36.155920Z",
     "shell.execute_reply.started": "2024-09-11T15:37:30.805633Z"
    },
    "tags": []
   },
   "outputs": [],
   "source": [
    "# Convertendo os tipos de dados para numéricos:\n",
    "df_trafego['volume_total'] = df_trafego['volume_total'].apply(lambda x: x.replace(',','.') if type(x) == str else x)\n",
    "df_trafego['volume_total'] = df_trafego['volume_total'].apply(lambda x: x.split('.')[0] if type(x) == str else x)\n",
    "df_trafego['volume_total'] = df_trafego['volume_total'].astype('int')\n",
    "\n",
    "df_trafego['volume_veiculo_equivalente'] = df_trafego['volume_veiculo_equivalente'].apply(lambda x: x.replace(',','.') if type(x) == str else x)\n",
    "df_trafego['volume_veiculo_equivalente'] = df_trafego['volume_veiculo_equivalente'].astype('float') # existe multiplicador de tarifa fracionário"
   ]
  },
  {
   "cell_type": "code",
   "execution_count": 90,
   "id": "20231a8a-8ab4-41b5-bd87-db645b34cfd5",
   "metadata": {
    "execution": {
     "iopub.execute_input": "2024-09-11T15:37:36.159176Z",
     "iopub.status.busy": "2024-09-11T15:37:36.158713Z",
     "iopub.status.idle": "2024-09-11T15:37:36.276655Z",
     "shell.execute_reply": "2024-09-11T15:37:36.275292Z",
     "shell.execute_reply.started": "2024-09-11T15:37:36.159137Z"
    },
    "tags": []
   },
   "outputs": [],
   "source": [
    "# convertendo categoria para string (do contrário não salva para parquet):\n",
    "df_trafego['categoria'] = df_trafego['categoria'].astype('string')"
   ]
  },
  {
   "cell_type": "code",
   "execution_count": 91,
   "id": "a570f4b8-a68e-47a9-8d5c-ec56f6e8086c",
   "metadata": {
    "execution": {
     "iopub.execute_input": "2024-09-11T15:37:36.282879Z",
     "iopub.status.busy": "2024-09-11T15:37:36.282399Z",
     "iopub.status.idle": "2024-09-11T15:37:39.220038Z",
     "shell.execute_reply": "2024-09-11T15:37:39.218638Z",
     "shell.execute_reply.started": "2024-09-11T15:37:36.282841Z"
    },
    "tags": []
   },
   "outputs": [],
   "source": [
    "# convertendo o multiplicador de tarifa de string para decimal (p/manter a precisao):\n",
    "df_trafego['multiplicador_de_tarifa'] = df_trafego['multiplicador_de_tarifa'].apply(lambda x: x.replace(',','.') if type(x) == str else x)\n",
    "df_trafego['multiplicador_de_tarifa'] = df_trafego['multiplicador_de_tarifa'].apply(Decimal)"
   ]
  },
  {
   "cell_type": "code",
   "execution_count": 92,
   "id": "697d05b6-6346-4a0e-a2c5-2cfd71ccd016",
   "metadata": {
    "execution": {
     "iopub.execute_input": "2024-09-11T15:37:39.221833Z",
     "iopub.status.busy": "2024-09-11T15:37:39.221498Z",
     "iopub.status.idle": "2024-09-11T15:37:40.059581Z",
     "shell.execute_reply": "2024-09-11T15:37:40.058152Z",
     "shell.execute_reply.started": "2024-09-11T15:37:39.221795Z"
    },
    "tags": []
   },
   "outputs": [],
   "source": [
    "# O tipo de tráfego ora está em maisúcula, ora em minúscula.\n",
    "# Colocando tudo p/maiúscula\n",
    "df_trafego['tipo_de_veiculo'] = df_trafego['tipo_de_veiculo'].str.upper()"
   ]
  },
  {
   "cell_type": "code",
   "execution_count": 93,
   "id": "b91a6a8d-2fa9-4c7e-8e1a-68097e4eeb46",
   "metadata": {
    "execution": {
     "iopub.execute_input": "2024-09-11T15:37:40.062049Z",
     "iopub.status.busy": "2024-09-11T15:37:40.060993Z",
     "iopub.status.idle": "2024-09-11T15:37:41.001083Z",
     "shell.execute_reply": "2024-09-11T15:37:40.999755Z",
     "shell.execute_reply.started": "2024-09-11T15:37:40.062005Z"
    },
    "tags": []
   },
   "outputs": [],
   "source": [
    "# algumas concessionárias estão ora em maiúsculas ora em minúsculas\n",
    "# colocando tudo para maiúscula\n",
    "df_trafego['concessionaria'] = df_trafego['concessionaria'].str.upper()"
   ]
  },
  {
   "cell_type": "code",
   "execution_count": 94,
   "id": "21713dd4-7ebd-4409-8deb-494dff59a52c",
   "metadata": {
    "execution": {
     "iopub.execute_input": "2024-09-11T15:37:41.003282Z",
     "iopub.status.busy": "2024-09-11T15:37:41.002923Z",
     "iopub.status.idle": "2024-09-11T15:37:41.015602Z",
     "shell.execute_reply": "2024-09-11T15:37:41.014048Z",
     "shell.execute_reply.started": "2024-09-11T15:37:41.003244Z"
    },
    "tags": []
   },
   "outputs": [
    {
     "name": "stdout",
     "output_type": "stream",
     "text": [
      "<class 'pandas.core.frame.DataFrame'>\n",
      "Index: 3000353 entries, 0 to 2329761\n",
      "Data columns (total 14 columns):\n",
      " #   Column                      Dtype    \n",
      "---  ------                      -----    \n",
      " 0   concessionaria              object   \n",
      " 1   mes_ano                     period[M]\n",
      " 2   sentido                     object   \n",
      " 3   praca                       object   \n",
      " 4   categoria                   string   \n",
      " 5   tipo_de_veiculo             object   \n",
      " 6   volume_total                int64    \n",
      " 7   multiplicador_de_tarifa     object   \n",
      " 8   volume_veiculo_equivalente  float64  \n",
      " 9   tipo_de_cobranca            object   \n",
      " 10  year                        int64    \n",
      " 11  month                       int64    \n",
      " 12  day                         int64    \n",
      " 13  data                        object   \n",
      "dtypes: float64(1), int64(4), object(7), period[M](1), string(1)\n",
      "memory usage: 343.4+ MB\n"
     ]
    }
   ],
   "source": [
    "df_trafego.info()"
   ]
  },
  {
   "cell_type": "code",
   "execution_count": 95,
   "id": "8bf6bfb2-3415-4306-be98-5ffe1dfabb72",
   "metadata": {
    "execution": {
     "iopub.execute_input": "2024-09-11T15:37:41.017733Z",
     "iopub.status.busy": "2024-09-11T15:37:41.017346Z",
     "iopub.status.idle": "2024-09-11T15:37:41.047683Z",
     "shell.execute_reply": "2024-09-11T15:37:41.046441Z",
     "shell.execute_reply.started": "2024-09-11T15:37:41.017695Z"
    },
    "tags": []
   },
   "outputs": [
    {
     "data": {
      "text/plain": [
       "array([2010, 2011, 2012, 2013, 2014, 2015, 2016, 2017, 2018, 2019, 2020,\n",
       "       2021, 2022, 2023, 2024])"
      ]
     },
     "execution_count": 95,
     "metadata": {},
     "output_type": "execute_result"
    }
   ],
   "source": [
    "df_trafego['year'].unique()"
   ]
  },
  {
   "cell_type": "code",
   "execution_count": 96,
   "id": "923b6979-a809-448d-8a28-b79546e40f59",
   "metadata": {
    "execution": {
     "iopub.execute_input": "2024-09-11T15:37:41.050004Z",
     "iopub.status.busy": "2024-09-11T15:37:41.049623Z",
     "iopub.status.idle": "2024-09-11T15:37:41.798192Z",
     "shell.execute_reply": "2024-09-11T15:37:41.797207Z",
     "shell.execute_reply.started": "2024-09-11T15:37:41.049964Z"
    },
    "tags": []
   },
   "outputs": [
    {
     "data": {
      "text/plain": [
       "array([1, 2, 3, 4, 5, 6])"
      ]
     },
     "execution_count": 96,
     "metadata": {},
     "output_type": "execute_result"
    }
   ],
   "source": [
    "df_trafego.query(\"year == 2024\")['month'].unique()"
   ]
  },
  {
   "cell_type": "markdown",
   "id": "a051f403-674a-48e9-b2b1-56ea297d48a3",
   "metadata": {},
   "source": [
    "## Criando coluna desambiguando categorias comercial x passeio"
   ]
  },
  {
   "cell_type": "code",
   "execution_count": 97,
   "id": "cf5a5255-4914-47f2-8033-6724d83ef71b",
   "metadata": {
    "execution": {
     "iopub.execute_input": "2024-09-11T15:37:41.800708Z",
     "iopub.status.busy": "2024-09-11T15:37:41.799401Z",
     "iopub.status.idle": "2024-09-11T15:37:42.024157Z",
     "shell.execute_reply": "2024-09-11T15:37:42.023148Z",
     "shell.execute_reply.started": "2024-09-11T15:37:41.800667Z"
    },
    "tags": []
   },
   "outputs": [
    {
     "data": {
      "text/plain": [
       "array(['PASSEIO', 'COMERCIAL', 'MOTO', 'VEÍCULO PEQUENO'], dtype=object)"
      ]
     },
     "execution_count": 97,
     "metadata": {},
     "output_type": "execute_result"
    }
   ],
   "source": [
    "df_trafego['tipo_de_veiculo'].unique()"
   ]
  },
  {
   "cell_type": "code",
   "execution_count": 98,
   "id": "f490e0ed-b6b8-4e97-b659-39d32cf578ae",
   "metadata": {
    "execution": {
     "iopub.execute_input": "2024-09-11T15:37:42.026186Z",
     "iopub.status.busy": "2024-09-11T15:37:42.025340Z",
     "iopub.status.idle": "2024-09-11T15:37:42.719640Z",
     "shell.execute_reply": "2024-09-11T15:37:42.717998Z",
     "shell.execute_reply.started": "2024-09-11T15:37:42.026147Z"
    },
    "tags": []
   },
   "outputs": [],
   "source": [
    "df_trafego[\"TIPO_TRAFEGO\"] = df_trafego['tipo_de_veiculo'].apply(lambda x: x if x == \"COMERCIAL\" else \"PASSEIO\")"
   ]
  },
  {
   "cell_type": "code",
   "execution_count": 99,
   "id": "e237a2f8-7d4b-468f-9bf3-56e4af37fcbd",
   "metadata": {
    "execution": {
     "iopub.execute_input": "2024-09-11T15:37:42.721685Z",
     "iopub.status.busy": "2024-09-11T15:37:42.721293Z",
     "iopub.status.idle": "2024-09-11T15:37:42.953590Z",
     "shell.execute_reply": "2024-09-11T15:37:42.952609Z",
     "shell.execute_reply.started": "2024-09-11T15:37:42.721635Z"
    },
    "tags": []
   },
   "outputs": [
    {
     "data": {
      "text/plain": [
       "array(['PASSEIO', 'COMERCIAL'], dtype=object)"
      ]
     },
     "execution_count": 99,
     "metadata": {},
     "output_type": "execute_result"
    }
   ],
   "source": [
    "df_trafego[\"TIPO_TRAFEGO\"].unique()"
   ]
  },
  {
   "cell_type": "markdown",
   "id": "679e22fb-6baf-465e-ab85-1780da58255d",
   "metadata": {},
   "source": [
    "## Criando colunas com trafégo em Veqs para comercial e passeio"
   ]
  },
  {
   "cell_type": "code",
   "execution_count": 100,
   "id": "b8ff717e-9467-4368-9bfe-da6d7eb99b07",
   "metadata": {
    "execution": {
     "iopub.execute_input": "2024-09-11T15:37:42.956102Z",
     "iopub.status.busy": "2024-09-11T15:37:42.954815Z",
     "iopub.status.idle": "2024-09-11T15:37:45.320618Z",
     "shell.execute_reply": "2024-09-11T15:37:45.319191Z",
     "shell.execute_reply.started": "2024-09-11T15:37:42.956051Z"
    },
    "tags": []
   },
   "outputs": [],
   "source": [
    "df_trafego = df_trafego.rename(columns={'volume_veiculo_equivalente':'VEQS_TOTAL'})\n",
    "df_trafego['VEQS_COMERCIAL'] = np.where(\n",
    "    df_trafego['TIPO_TRAFEGO'] == 'COMERCIAL',\n",
    "    df_trafego['VEQS_TOTAL'],\n",
    "    0\n",
    ")\n",
    "df_trafego['VEQS_PASSEIO'] = np.where(\n",
    "    df_trafego['TIPO_TRAFEGO'] == 'PASSEIO',\n",
    "    df_trafego['VEQS_TOTAL'],\n",
    "    0\n",
    ")"
   ]
  },
  {
   "cell_type": "markdown",
   "id": "6eb69752-50ea-4ed4-b052-3e93dbde2359",
   "metadata": {},
   "source": [
    "# Criando dataframe com o período inicial e final dos dados por concessionária"
   ]
  },
  {
   "cell_type": "code",
   "execution_count": 101,
   "id": "9c88ae9b-ba1f-4cb8-81f9-7e9af597b71e",
   "metadata": {
    "execution": {
     "iopub.execute_input": "2024-09-11T15:37:45.322974Z",
     "iopub.status.busy": "2024-09-11T15:37:45.322619Z",
     "iopub.status.idle": "2024-09-11T15:37:46.148955Z",
     "shell.execute_reply": "2024-09-11T15:37:46.147971Z",
     "shell.execute_reply.started": "2024-09-11T15:37:45.322935Z"
    },
    "tags": []
   },
   "outputs": [],
   "source": [
    "df_periodos = df_trafego.groupby('concessionaria').agg(\n",
    "    data_inicial=('data', 'min'),\n",
    "    data_final=('data', 'max')\n",
    ").reset_index()\n",
    "df_periodos['data_inicial'] = pd.to_datetime(df_periodos['data_inicial']).dt.date\n",
    "df_periodos['data_final'] = pd.to_datetime(df_periodos['data_final']).dt.date"
   ]
  },
  {
   "cell_type": "code",
   "execution_count": 102,
   "id": "631fee43-44f1-4af0-bef4-269bd9f261c3",
   "metadata": {
    "execution": {
     "iopub.execute_input": "2024-09-11T15:37:46.151333Z",
     "iopub.status.busy": "2024-09-11T15:37:46.150777Z",
     "iopub.status.idle": "2024-09-11T15:37:46.158412Z",
     "shell.execute_reply": "2024-09-11T15:37:46.156886Z",
     "shell.execute_reply.started": "2024-09-11T15:37:46.151294Z"
    },
    "tags": []
   },
   "outputs": [],
   "source": [
    "df_periodos.index = df_periodos['concessionaria']\n",
    "df_periodos = df_periodos.drop(columns=['concessionaria'])"
   ]
  },
  {
   "cell_type": "code",
   "execution_count": 103,
   "id": "ff4412de-e2db-46dd-86de-03e350024261",
   "metadata": {
    "execution": {
     "iopub.execute_input": "2024-09-11T15:37:46.160200Z",
     "iopub.status.busy": "2024-09-11T15:37:46.159656Z",
     "iopub.status.idle": "2024-09-11T15:37:46.166344Z",
     "shell.execute_reply": "2024-09-11T15:37:46.164958Z",
     "shell.execute_reply.started": "2024-09-11T15:37:46.160163Z"
    },
    "tags": []
   },
   "outputs": [],
   "source": [
    "df_periodos = df_periodos.sort_values(by='data_inicial', ascending=False)"
   ]
  },
  {
   "cell_type": "markdown",
   "id": "d4a56a76-9175-4683-96dd-3ec24f7c5e17",
   "metadata": {},
   "source": [
    "# Criando dataframes agrupando VEQs por ANO/concessionaria/tipo de trafego"
   ]
  },
  {
   "cell_type": "code",
   "execution_count": 104,
   "id": "d50674a2-5e78-4c74-b726-dcb92013bdb0",
   "metadata": {
    "execution": {
     "iopub.execute_input": "2024-09-11T15:37:55.431124Z",
     "iopub.status.busy": "2024-09-11T15:37:55.430429Z",
     "iopub.status.idle": "2024-09-11T15:37:55.436556Z",
     "shell.execute_reply": "2024-09-11T15:37:55.435647Z",
     "shell.execute_reply.started": "2024-09-11T15:37:55.431081Z"
    },
    "tags": []
   },
   "outputs": [],
   "source": [
    "cols_veqs = ['VEQS_COMERCIAL','VEQS_PASSEIO']"
   ]
  },
  {
   "cell_type": "code",
   "execution_count": 105,
   "id": "5bc113c9-f87f-4b65-a7c4-5006d68589a2",
   "metadata": {
    "execution": {
     "iopub.execute_input": "2024-09-11T15:37:55.720307Z",
     "iopub.status.busy": "2024-09-11T15:37:55.719851Z",
     "iopub.status.idle": "2024-09-11T15:37:56.653208Z",
     "shell.execute_reply": "2024-09-11T15:37:56.652079Z",
     "shell.execute_reply.started": "2024-09-11T15:37:55.720267Z"
    },
    "tags": []
   },
   "outputs": [],
   "source": [
    "dict_veqs_anual = {}\n",
    "for col in cols_veqs:\n",
    "    dict_veqs_anual[col] = df_trafego.pivot_table(\n",
    "        index='concessionaria',\n",
    "        columns='year',\n",
    "        values=col,\n",
    "        aggfunc='sum'\n",
    "        ).T"
   ]
  },
  {
   "cell_type": "code",
   "execution_count": 106,
   "id": "89f8d004-add9-4df2-a717-9b26077c3e0e",
   "metadata": {
    "execution": {
     "iopub.execute_input": "2024-09-11T15:37:56.656004Z",
     "iopub.status.busy": "2024-09-11T15:37:56.655447Z",
     "iopub.status.idle": "2024-09-11T15:37:56.664348Z",
     "shell.execute_reply": "2024-09-11T15:37:56.663163Z",
     "shell.execute_reply.started": "2024-09-11T15:37:56.655964Z"
    },
    "tags": []
   },
   "outputs": [],
   "source": [
    "def filter_incomplete_years(df_trafego, df_periodos):\n",
    "    df = df_trafego.copy()\n",
    "    for conc in df:\n",
    "        data_inicial = df_periodos.loc[conc,'data_inicial']\n",
    "        data_final = df_periodos.loc[conc,'data_final']\n",
    "        # print(data_inicial, data_final)\n",
    "        years_drop = []\n",
    "        if (data_inicial.day != 1) or (data_inicial.month != 1):\n",
    "            years_drop.append(data_inicial.year)\n",
    "        if (data_final.day != 31) or (data_final.month != 12):\n",
    "            years_drop.append(data_final.year)\n",
    "        # print(list(set(years_drop)))\n",
    "        years_drop = list(set(years_drop))\n",
    "        for year in df.index:\n",
    "            if year in years_drop:\n",
    "                df.loc[year, conc] = None\n",
    "    return df    "
   ]
  },
  {
   "cell_type": "code",
   "execution_count": 107,
   "id": "5fdd2b8a-e732-4bb1-b900-0a9b715b24fd",
   "metadata": {
    "execution": {
     "iopub.execute_input": "2024-09-11T15:37:56.666559Z",
     "iopub.status.busy": "2024-09-11T15:37:56.665750Z",
     "iopub.status.idle": "2024-09-11T15:37:56.675234Z",
     "shell.execute_reply": "2024-09-11T15:37:56.674231Z",
     "shell.execute_reply.started": "2024-09-11T15:37:56.666521Z"
    },
    "tags": []
   },
   "outputs": [],
   "source": [
    "# retirando os anos incompletos\n",
    "def filter_incomplete_years(df_trafego, df_periodos):\n",
    "    df = df_trafego.copy()\n",
    "    for conc in df:\n",
    "        data_inicial = df_periodos.loc[conc,'data_inicial']\n",
    "        data_final = df_periodos.loc[conc,'data_final']\n",
    "        # print(data_inicial, data_final)\n",
    "        years_drop = []\n",
    "        if (data_inicial.day != 1) or (data_inicial.month != 1):\n",
    "            years_drop.append(data_inicial.year)\n",
    "        if (data_final.day != 31) or (data_final.month != 12):\n",
    "            years_drop.append(data_final.year)\n",
    "        # print(list(set(years_drop)))\n",
    "        years_drop = list(set(years_drop))\n",
    "        for year in df.index:\n",
    "            if year in years_drop:\n",
    "                df.loc[year, conc] = None\n",
    "    return df    "
   ]
  },
  {
   "cell_type": "code",
   "execution_count": 108,
   "id": "1f0e25ac-136d-41e8-ad66-28cbbd39ec95",
   "metadata": {
    "execution": {
     "iopub.execute_input": "2024-09-11T15:37:57.137569Z",
     "iopub.status.busy": "2024-09-11T15:37:57.136714Z",
     "iopub.status.idle": "2024-09-11T15:37:57.181457Z",
     "shell.execute_reply": "2024-09-11T15:37:57.180137Z",
     "shell.execute_reply.started": "2024-09-11T15:37:57.137507Z"
    },
    "tags": []
   },
   "outputs": [],
   "source": [
    "for veq, df in dict_veqs_anual.items():\n",
    "    dict_veqs_anual[veq] = filter_incomplete_years(df, df_periodos)"
   ]
  },
  {
   "cell_type": "code",
   "execution_count": 109,
   "id": "99241126-f553-45a7-97b9-f239280b5d25",
   "metadata": {
    "execution": {
     "iopub.execute_input": "2024-09-11T15:37:57.430561Z",
     "iopub.status.busy": "2024-09-11T15:37:57.429934Z",
     "iopub.status.idle": "2024-09-11T15:37:57.472779Z",
     "shell.execute_reply": "2024-09-11T15:37:57.471505Z",
     "shell.execute_reply.started": "2024-09-11T15:37:57.430520Z"
    },
    "tags": []
   },
   "outputs": [
    {
     "data": {
      "text/html": [
       "<div>\n",
       "<style scoped>\n",
       "    .dataframe tbody tr th:only-of-type {\n",
       "        vertical-align: middle;\n",
       "    }\n",
       "\n",
       "    .dataframe tbody tr th {\n",
       "        vertical-align: top;\n",
       "    }\n",
       "\n",
       "    .dataframe thead th {\n",
       "        text-align: right;\n",
       "    }\n",
       "</style>\n",
       "<table border=\"1\" class=\"dataframe\">\n",
       "  <thead>\n",
       "    <tr style=\"text-align: right;\">\n",
       "      <th>concessionaria</th>\n",
       "      <th>AUTOPISTA FERNÃO DIAS</th>\n",
       "      <th>AUTOPISTA FLUMINENSE</th>\n",
       "      <th>AUTOPISTA LITORAL SUL</th>\n",
       "      <th>AUTOPISTA PLANALTO SUL</th>\n",
       "      <th>AUTOPISTA REGIS BITTENCOURT</th>\n",
       "      <th>CONCEBRA</th>\n",
       "      <th>CONCEPA</th>\n",
       "      <th>CONCER</th>\n",
       "      <th>CRO</th>\n",
       "      <th>CRT</th>\n",
       "      <th>ECO050</th>\n",
       "      <th>ECO101 CONCESSIONARIA DE RODOVIAS S/A</th>\n",
       "      <th>ECOPONTE</th>\n",
       "      <th>ECORIOMINAS</th>\n",
       "      <th>ECOSUL</th>\n",
       "      <th>ECOVIAS DO ARAGUAIA</th>\n",
       "      <th>ECOVIAS DO CERRADO</th>\n",
       "      <th>HOLDING DO SISTEMA RODOVIARIO RIO - SAO PAULO S.A.</th>\n",
       "      <th>MSVIA</th>\n",
       "      <th>NOVADUTRA</th>\n",
       "      <th>RIOSP</th>\n",
       "      <th>RODOVIA DO AÇO</th>\n",
       "      <th>TRANSBRASILIANA</th>\n",
       "      <th>VIA 040</th>\n",
       "      <th>VIA BAHIA</th>\n",
       "      <th>VIA BRASIL</th>\n",
       "      <th>VIA COSTEIRA</th>\n",
       "      <th>VIA SUL</th>\n",
       "    </tr>\n",
       "    <tr>\n",
       "      <th>year</th>\n",
       "      <th></th>\n",
       "      <th></th>\n",
       "      <th></th>\n",
       "      <th></th>\n",
       "      <th></th>\n",
       "      <th></th>\n",
       "      <th></th>\n",
       "      <th></th>\n",
       "      <th></th>\n",
       "      <th></th>\n",
       "      <th></th>\n",
       "      <th></th>\n",
       "      <th></th>\n",
       "      <th></th>\n",
       "      <th></th>\n",
       "      <th></th>\n",
       "      <th></th>\n",
       "      <th></th>\n",
       "      <th></th>\n",
       "      <th></th>\n",
       "      <th></th>\n",
       "      <th></th>\n",
       "      <th></th>\n",
       "      <th></th>\n",
       "      <th></th>\n",
       "      <th></th>\n",
       "      <th></th>\n",
       "      <th></th>\n",
       "    </tr>\n",
       "  </thead>\n",
       "  <tbody>\n",
       "    <tr>\n",
       "      <th>2010</th>\n",
       "      <td>92215435.0</td>\n",
       "      <td>23879336.0</td>\n",
       "      <td>69931704.0</td>\n",
       "      <td>19554781.0</td>\n",
       "      <td>114884661.0</td>\n",
       "      <td>NaN</td>\n",
       "      <td>14096537.0</td>\n",
       "      <td>13109979.0</td>\n",
       "      <td>NaN</td>\n",
       "      <td>8563340.0</td>\n",
       "      <td>NaN</td>\n",
       "      <td>NaN</td>\n",
       "      <td>NaN</td>\n",
       "      <td>NaN</td>\n",
       "      <td>14426940.0</td>\n",
       "      <td>NaN</td>\n",
       "      <td>NaN</td>\n",
       "      <td>NaN</td>\n",
       "      <td>NaN</td>\n",
       "      <td>116380982.0</td>\n",
       "      <td>NaN</td>\n",
       "      <td>12887198.0</td>\n",
       "      <td>15514995.0</td>\n",
       "      <td>NaN</td>\n",
       "      <td>NaN</td>\n",
       "      <td>NaN</td>\n",
       "      <td>NaN</td>\n",
       "      <td>NaN</td>\n",
       "    </tr>\n",
       "    <tr>\n",
       "      <th>2011</th>\n",
       "      <td>111335578.0</td>\n",
       "      <td>26387101.0</td>\n",
       "      <td>74189265.0</td>\n",
       "      <td>20394485.0</td>\n",
       "      <td>122893798.0</td>\n",
       "      <td>NaN</td>\n",
       "      <td>14804840.0</td>\n",
       "      <td>14804816.0</td>\n",
       "      <td>NaN</td>\n",
       "      <td>9264103.0</td>\n",
       "      <td>NaN</td>\n",
       "      <td>NaN</td>\n",
       "      <td>NaN</td>\n",
       "      <td>NaN</td>\n",
       "      <td>16168263.0</td>\n",
       "      <td>NaN</td>\n",
       "      <td>NaN</td>\n",
       "      <td>NaN</td>\n",
       "      <td>NaN</td>\n",
       "      <td>125958069.0</td>\n",
       "      <td>NaN</td>\n",
       "      <td>12595032.0</td>\n",
       "      <td>16821634.0</td>\n",
       "      <td>NaN</td>\n",
       "      <td>NaN</td>\n",
       "      <td>NaN</td>\n",
       "      <td>NaN</td>\n",
       "      <td>NaN</td>\n",
       "    </tr>\n",
       "    <tr>\n",
       "      <th>2012</th>\n",
       "      <td>115803681.0</td>\n",
       "      <td>27188502.0</td>\n",
       "      <td>77030428.0</td>\n",
       "      <td>19941264.0</td>\n",
       "      <td>123630694.0</td>\n",
       "      <td>NaN</td>\n",
       "      <td>15742320.0</td>\n",
       "      <td>15723249.0</td>\n",
       "      <td>NaN</td>\n",
       "      <td>9892007.0</td>\n",
       "      <td>NaN</td>\n",
       "      <td>NaN</td>\n",
       "      <td>NaN</td>\n",
       "      <td>NaN</td>\n",
       "      <td>15672205.0</td>\n",
       "      <td>NaN</td>\n",
       "      <td>NaN</td>\n",
       "      <td>NaN</td>\n",
       "      <td>NaN</td>\n",
       "      <td>122928827.0</td>\n",
       "      <td>NaN</td>\n",
       "      <td>11550846.0</td>\n",
       "      <td>18435974.0</td>\n",
       "      <td>NaN</td>\n",
       "      <td>NaN</td>\n",
       "      <td>NaN</td>\n",
       "      <td>NaN</td>\n",
       "      <td>NaN</td>\n",
       "    </tr>\n",
       "    <tr>\n",
       "      <th>2013</th>\n",
       "      <td>117936734.0</td>\n",
       "      <td>26658829.0</td>\n",
       "      <td>78950113.0</td>\n",
       "      <td>20865630.0</td>\n",
       "      <td>126658897.0</td>\n",
       "      <td>NaN</td>\n",
       "      <td>17190745.0</td>\n",
       "      <td>16066640.0</td>\n",
       "      <td>NaN</td>\n",
       "      <td>9813665.0</td>\n",
       "      <td>NaN</td>\n",
       "      <td>NaN</td>\n",
       "      <td>NaN</td>\n",
       "      <td>NaN</td>\n",
       "      <td>19186163.0</td>\n",
       "      <td>NaN</td>\n",
       "      <td>NaN</td>\n",
       "      <td>NaN</td>\n",
       "      <td>NaN</td>\n",
       "      <td>123410424.0</td>\n",
       "      <td>NaN</td>\n",
       "      <td>12922325.0</td>\n",
       "      <td>18752871.0</td>\n",
       "      <td>NaN</td>\n",
       "      <td>67484476.0</td>\n",
       "      <td>NaN</td>\n",
       "      <td>NaN</td>\n",
       "      <td>NaN</td>\n",
       "    </tr>\n",
       "    <tr>\n",
       "      <th>2014</th>\n",
       "      <td>114170690.0</td>\n",
       "      <td>25867004.0</td>\n",
       "      <td>98370521.0</td>\n",
       "      <td>21843099.0</td>\n",
       "      <td>123633793.0</td>\n",
       "      <td>NaN</td>\n",
       "      <td>17876501.0</td>\n",
       "      <td>15291939.0</td>\n",
       "      <td>NaN</td>\n",
       "      <td>10186433.0</td>\n",
       "      <td>NaN</td>\n",
       "      <td>NaN</td>\n",
       "      <td>NaN</td>\n",
       "      <td>NaN</td>\n",
       "      <td>19934187.0</td>\n",
       "      <td>NaN</td>\n",
       "      <td>NaN</td>\n",
       "      <td>NaN</td>\n",
       "      <td>NaN</td>\n",
       "      <td>119182763.0</td>\n",
       "      <td>NaN</td>\n",
       "      <td>12850352.0</td>\n",
       "      <td>18614344.0</td>\n",
       "      <td>NaN</td>\n",
       "      <td>69684068.0</td>\n",
       "      <td>NaN</td>\n",
       "      <td>NaN</td>\n",
       "      <td>NaN</td>\n",
       "    </tr>\n",
       "  </tbody>\n",
       "</table>\n",
       "</div>"
      ],
      "text/plain": [
       "concessionaria  AUTOPISTA FERNÃO DIAS  AUTOPISTA FLUMINENSE  \\\n",
       "year                                                          \n",
       "2010                       92215435.0            23879336.0   \n",
       "2011                      111335578.0            26387101.0   \n",
       "2012                      115803681.0            27188502.0   \n",
       "2013                      117936734.0            26658829.0   \n",
       "2014                      114170690.0            25867004.0   \n",
       "\n",
       "concessionaria  AUTOPISTA LITORAL SUL  AUTOPISTA PLANALTO SUL  \\\n",
       "year                                                            \n",
       "2010                       69931704.0              19554781.0   \n",
       "2011                       74189265.0              20394485.0   \n",
       "2012                       77030428.0              19941264.0   \n",
       "2013                       78950113.0              20865630.0   \n",
       "2014                       98370521.0              21843099.0   \n",
       "\n",
       "concessionaria  AUTOPISTA REGIS BITTENCOURT  CONCEBRA     CONCEPA      CONCER  \\\n",
       "year                                                                            \n",
       "2010                            114884661.0       NaN  14096537.0  13109979.0   \n",
       "2011                            122893798.0       NaN  14804840.0  14804816.0   \n",
       "2012                            123630694.0       NaN  15742320.0  15723249.0   \n",
       "2013                            126658897.0       NaN  17190745.0  16066640.0   \n",
       "2014                            123633793.0       NaN  17876501.0  15291939.0   \n",
       "\n",
       "concessionaria  CRO         CRT  ECO050  \\\n",
       "year                                      \n",
       "2010            NaN   8563340.0     NaN   \n",
       "2011            NaN   9264103.0     NaN   \n",
       "2012            NaN   9892007.0     NaN   \n",
       "2013            NaN   9813665.0     NaN   \n",
       "2014            NaN  10186433.0     NaN   \n",
       "\n",
       "concessionaria  ECO101 CONCESSIONARIA DE RODOVIAS S/A  ECOPONTE  ECORIOMINAS  \\\n",
       "year                                                                           \n",
       "2010                                              NaN       NaN          NaN   \n",
       "2011                                              NaN       NaN          NaN   \n",
       "2012                                              NaN       NaN          NaN   \n",
       "2013                                              NaN       NaN          NaN   \n",
       "2014                                              NaN       NaN          NaN   \n",
       "\n",
       "concessionaria      ECOSUL  ECOVIAS DO ARAGUAIA  ECOVIAS DO CERRADO  \\\n",
       "year                                                                  \n",
       "2010            14426940.0                  NaN                 NaN   \n",
       "2011            16168263.0                  NaN                 NaN   \n",
       "2012            15672205.0                  NaN                 NaN   \n",
       "2013            19186163.0                  NaN                 NaN   \n",
       "2014            19934187.0                  NaN                 NaN   \n",
       "\n",
       "concessionaria  HOLDING DO SISTEMA RODOVIARIO RIO - SAO PAULO S.A.  MSVIA  \\\n",
       "year                                                                        \n",
       "2010                                                          NaN     NaN   \n",
       "2011                                                          NaN     NaN   \n",
       "2012                                                          NaN     NaN   \n",
       "2013                                                          NaN     NaN   \n",
       "2014                                                          NaN     NaN   \n",
       "\n",
       "concessionaria    NOVADUTRA  RIOSP  RODOVIA DO AÇO  TRANSBRASILIANA  VIA 040  \\\n",
       "year                                                                           \n",
       "2010            116380982.0    NaN      12887198.0       15514995.0      NaN   \n",
       "2011            125958069.0    NaN      12595032.0       16821634.0      NaN   \n",
       "2012            122928827.0    NaN      11550846.0       18435974.0      NaN   \n",
       "2013            123410424.0    NaN      12922325.0       18752871.0      NaN   \n",
       "2014            119182763.0    NaN      12850352.0       18614344.0      NaN   \n",
       "\n",
       "concessionaria   VIA BAHIA  VIA BRASIL  VIA COSTEIRA  VIA SUL  \n",
       "year                                                           \n",
       "2010                   NaN         NaN           NaN      NaN  \n",
       "2011                   NaN         NaN           NaN      NaN  \n",
       "2012                   NaN         NaN           NaN      NaN  \n",
       "2013            67484476.0         NaN           NaN      NaN  \n",
       "2014            69684068.0         NaN           NaN      NaN  "
      ]
     },
     "execution_count": 109,
     "metadata": {},
     "output_type": "execute_result"
    }
   ],
   "source": [
    "dict_veqs_anual['VEQS_COMERCIAL'].head()"
   ]
  },
  {
   "cell_type": "markdown",
   "id": "d625db77-71d2-4333-b99b-4f4024437407",
   "metadata": {},
   "source": [
    "# Criando dataframes agrupando VEQs por MÊS/concessionaria/tipo de trafego"
   ]
  },
  {
   "cell_type": "code",
   "execution_count": 110,
   "id": "7293e28f-ae40-4148-8802-62b6ac304a35",
   "metadata": {
    "execution": {
     "iopub.execute_input": "2024-09-11T15:38:05.349609Z",
     "iopub.status.busy": "2024-09-11T15:38:05.348976Z",
     "iopub.status.idle": "2024-09-11T15:38:06.284305Z",
     "shell.execute_reply": "2024-09-11T15:38:06.282943Z",
     "shell.execute_reply.started": "2024-09-11T15:38:05.349568Z"
    },
    "tags": []
   },
   "outputs": [],
   "source": [
    "dict_veqs_mensal = {}\n",
    "for col in cols_veqs:\n",
    "    dict_veqs_mensal[col] = df_trafego.pivot_table(\n",
    "        index='concessionaria',\n",
    "        columns='mes_ano',\n",
    "        values=col,\n",
    "        aggfunc='sum'\n",
    "        ).T\n",
    "    dict_veqs_mensal[col].index = dict_veqs_mensal[col].index.to_timestamp().to_period('M')"
   ]
  },
  {
   "cell_type": "code",
   "execution_count": 111,
   "id": "3be55a84-ca71-418a-8d1d-9e3e703c9cbc",
   "metadata": {
    "execution": {
     "iopub.execute_input": "2024-09-11T15:38:06.287054Z",
     "iopub.status.busy": "2024-09-11T15:38:06.286589Z",
     "iopub.status.idle": "2024-09-11T15:38:06.296568Z",
     "shell.execute_reply": "2024-09-11T15:38:06.295389Z",
     "shell.execute_reply.started": "2024-09-11T15:38:06.287015Z"
    },
    "tags": []
   },
   "outputs": [],
   "source": [
    "def filter_incomplete_months(df_trafego, df_periodos):\n",
    "    df = df_trafego.copy()\n",
    "\n",
    "    for conc in df:\n",
    "        data_inicial = df_periodos.loc[conc, 'data_inicial']\n",
    "        data_final = df_periodos.loc[conc, 'data_final']\n",
    "        \n",
    "        # List to keep track of months to drop\n",
    "        months_drop = []\n",
    "\n",
    "        # Check if the starting month is incomplete\n",
    "        if data_inicial.day != 1:\n",
    "            # Drop the starting month if not starting from the 1st day\n",
    "            incomplete_start = pd.to_datetime(data_inicial).to_period('M')\n",
    "            months_drop.append(incomplete_start)\n",
    "\n",
    "        # Check if the ending month is incomplete\n",
    "        if data_final != (data_final + pd.offsets.MonthEnd(0)):\n",
    "            # Drop the ending month if not ending on the last day\n",
    "            incomplete_end = pd.to_datetime(data_final).to_period('M')\n",
    "            months_drop.append(incomplete_end)\n",
    "\n",
    "        # Remove duplicate dates (if any)\n",
    "        months_drop = list(set(months_drop))\n",
    "\n",
    "    # Removendo os meses\n",
    "        for month in df.index:\n",
    "            if month in months_drop:\n",
    "                df.loc[month, conc] = None         \n",
    "    return df  "
   ]
  },
  {
   "cell_type": "code",
   "execution_count": 112,
   "id": "73c43ac4-15d3-446e-956e-32f3185a513f",
   "metadata": {
    "execution": {
     "iopub.execute_input": "2024-09-11T15:38:06.299002Z",
     "iopub.status.busy": "2024-09-11T15:38:06.298031Z",
     "iopub.status.idle": "2024-09-11T15:38:06.369133Z",
     "shell.execute_reply": "2024-09-11T15:38:06.367773Z",
     "shell.execute_reply.started": "2024-09-11T15:38:06.298960Z"
    },
    "tags": []
   },
   "outputs": [],
   "source": [
    "for veq, df in dict_veqs_mensal.items():\n",
    "    dict_veqs_mensal[veq] = filter_incomplete_months(df, df_periodos)"
   ]
  },
  {
   "cell_type": "code",
   "execution_count": 113,
   "id": "4ad49133-58dc-47ee-aea4-1fbbc18bfe2c",
   "metadata": {
    "execution": {
     "iopub.execute_input": "2024-09-11T15:38:06.372590Z",
     "iopub.status.busy": "2024-09-11T15:38:06.371465Z",
     "iopub.status.idle": "2024-09-11T15:38:06.379254Z",
     "shell.execute_reply": "2024-09-11T15:38:06.378016Z",
     "shell.execute_reply.started": "2024-09-11T15:38:06.372551Z"
    },
    "tags": []
   },
   "outputs": [],
   "source": [
    "# removendo o primeiro mês das que não iniciam em jan/10 (por algum erro dos dados, está incompleto)\n",
    "def remove_first_month_post_2010(df_mensal, mes_nao_remover):\n",
    "    for col in df_mensal:\n",
    "        first_non_nan = df_mensal[col].first_valid_index()\n",
    "        # print(col, first_non_nan)\n",
    "        # print(col, df_mensal.loc[first_non_nan, col])\n",
    "        if first_non_nan != pd.to_datetime(mes_nao_remover).to_period('M'):\n",
    "            df_mensal.loc[first_non_nan, col] = None\n",
    "        # print(col, df_mensal.loc[first_non_nan, col])\n",
    "    return df_mensal"
   ]
  },
  {
   "cell_type": "code",
   "execution_count": 114,
   "id": "5f585fd3-5de4-4a7e-a18a-392719fa6e50",
   "metadata": {
    "execution": {
     "iopub.execute_input": "2024-09-11T15:38:06.466719Z",
     "iopub.status.busy": "2024-09-11T15:38:06.466027Z",
     "iopub.status.idle": "2024-09-11T15:38:06.540253Z",
     "shell.execute_reply": "2024-09-11T15:38:06.539002Z",
     "shell.execute_reply.started": "2024-09-11T15:38:06.466664Z"
    },
    "tags": []
   },
   "outputs": [],
   "source": [
    "for veq, df in dict_veqs_mensal.items():\n",
    "    dict_veqs_mensal[veq] = remove_first_month_post_2010(df, '2010-01')"
   ]
  },
  {
   "cell_type": "code",
   "execution_count": 115,
   "id": "701743a4-8450-4889-ae9d-cf981583a742",
   "metadata": {
    "execution": {
     "iopub.execute_input": "2024-09-11T15:38:07.657105Z",
     "iopub.status.busy": "2024-09-11T15:38:07.656407Z",
     "iopub.status.idle": "2024-09-11T15:38:07.693777Z",
     "shell.execute_reply": "2024-09-11T15:38:07.692775Z",
     "shell.execute_reply.started": "2024-09-11T15:38:07.657064Z"
    },
    "tags": []
   },
   "outputs": [
    {
     "data": {
      "text/html": [
       "<div>\n",
       "<style scoped>\n",
       "    .dataframe tbody tr th:only-of-type {\n",
       "        vertical-align: middle;\n",
       "    }\n",
       "\n",
       "    .dataframe tbody tr th {\n",
       "        vertical-align: top;\n",
       "    }\n",
       "\n",
       "    .dataframe thead th {\n",
       "        text-align: right;\n",
       "    }\n",
       "</style>\n",
       "<table border=\"1\" class=\"dataframe\">\n",
       "  <thead>\n",
       "    <tr style=\"text-align: right;\">\n",
       "      <th>concessionaria</th>\n",
       "      <th>AUTOPISTA FERNÃO DIAS</th>\n",
       "      <th>AUTOPISTA FLUMINENSE</th>\n",
       "      <th>AUTOPISTA LITORAL SUL</th>\n",
       "      <th>AUTOPISTA PLANALTO SUL</th>\n",
       "      <th>AUTOPISTA REGIS BITTENCOURT</th>\n",
       "      <th>CONCEBRA</th>\n",
       "      <th>CONCEPA</th>\n",
       "      <th>CONCER</th>\n",
       "      <th>CRO</th>\n",
       "      <th>CRT</th>\n",
       "      <th>ECO050</th>\n",
       "      <th>ECO101 CONCESSIONARIA DE RODOVIAS S/A</th>\n",
       "      <th>ECOPONTE</th>\n",
       "      <th>ECORIOMINAS</th>\n",
       "      <th>ECOSUL</th>\n",
       "      <th>ECOVIAS DO ARAGUAIA</th>\n",
       "      <th>ECOVIAS DO CERRADO</th>\n",
       "      <th>HOLDING DO SISTEMA RODOVIARIO RIO - SAO PAULO S.A.</th>\n",
       "      <th>MSVIA</th>\n",
       "      <th>NOVADUTRA</th>\n",
       "      <th>RIOSP</th>\n",
       "      <th>RODOVIA DO AÇO</th>\n",
       "      <th>TRANSBRASILIANA</th>\n",
       "      <th>VIA 040</th>\n",
       "      <th>VIA BAHIA</th>\n",
       "      <th>VIA BRASIL</th>\n",
       "      <th>VIA COSTEIRA</th>\n",
       "      <th>VIA SUL</th>\n",
       "    </tr>\n",
       "    <tr>\n",
       "      <th>mes_ano</th>\n",
       "      <th></th>\n",
       "      <th></th>\n",
       "      <th></th>\n",
       "      <th></th>\n",
       "      <th></th>\n",
       "      <th></th>\n",
       "      <th></th>\n",
       "      <th></th>\n",
       "      <th></th>\n",
       "      <th></th>\n",
       "      <th></th>\n",
       "      <th></th>\n",
       "      <th></th>\n",
       "      <th></th>\n",
       "      <th></th>\n",
       "      <th></th>\n",
       "      <th></th>\n",
       "      <th></th>\n",
       "      <th></th>\n",
       "      <th></th>\n",
       "      <th></th>\n",
       "      <th></th>\n",
       "      <th></th>\n",
       "      <th></th>\n",
       "      <th></th>\n",
       "      <th></th>\n",
       "      <th></th>\n",
       "      <th></th>\n",
       "    </tr>\n",
       "  </thead>\n",
       "  <tbody>\n",
       "    <tr>\n",
       "      <th>2010-01</th>\n",
       "      <td>6190339.0</td>\n",
       "      <td>1815015.0</td>\n",
       "      <td>5183361.0</td>\n",
       "      <td>1464018.0</td>\n",
       "      <td>8261978.0</td>\n",
       "      <td>NaN</td>\n",
       "      <td>1156902.0</td>\n",
       "      <td>990659.0</td>\n",
       "      <td>NaN</td>\n",
       "      <td>653385.0</td>\n",
       "      <td>NaN</td>\n",
       "      <td>NaN</td>\n",
       "      <td>NaN</td>\n",
       "      <td>NaN</td>\n",
       "      <td>902674.0</td>\n",
       "      <td>NaN</td>\n",
       "      <td>NaN</td>\n",
       "      <td>NaN</td>\n",
       "      <td>NaN</td>\n",
       "      <td>7602748.0</td>\n",
       "      <td>NaN</td>\n",
       "      <td>986812.0</td>\n",
       "      <td>1088796.0</td>\n",
       "      <td>NaN</td>\n",
       "      <td>NaN</td>\n",
       "      <td>NaN</td>\n",
       "      <td>NaN</td>\n",
       "      <td>NaN</td>\n",
       "    </tr>\n",
       "    <tr>\n",
       "      <th>2010-02</th>\n",
       "      <td>5924839.0</td>\n",
       "      <td>1708351.0</td>\n",
       "      <td>5020757.0</td>\n",
       "      <td>1481465.0</td>\n",
       "      <td>7872436.0</td>\n",
       "      <td>NaN</td>\n",
       "      <td>1063578.0</td>\n",
       "      <td>905443.0</td>\n",
       "      <td>NaN</td>\n",
       "      <td>612653.0</td>\n",
       "      <td>NaN</td>\n",
       "      <td>NaN</td>\n",
       "      <td>NaN</td>\n",
       "      <td>NaN</td>\n",
       "      <td>850322.0</td>\n",
       "      <td>NaN</td>\n",
       "      <td>NaN</td>\n",
       "      <td>NaN</td>\n",
       "      <td>NaN</td>\n",
       "      <td>7065494.0</td>\n",
       "      <td>NaN</td>\n",
       "      <td>929227.0</td>\n",
       "      <td>1060479.0</td>\n",
       "      <td>NaN</td>\n",
       "      <td>NaN</td>\n",
       "      <td>NaN</td>\n",
       "      <td>NaN</td>\n",
       "      <td>NaN</td>\n",
       "    </tr>\n",
       "    <tr>\n",
       "      <th>2010-03</th>\n",
       "      <td>7003056.0</td>\n",
       "      <td>2018155.0</td>\n",
       "      <td>5864833.0</td>\n",
       "      <td>1701691.0</td>\n",
       "      <td>9965511.0</td>\n",
       "      <td>NaN</td>\n",
       "      <td>1221469.0</td>\n",
       "      <td>1114422.0</td>\n",
       "      <td>NaN</td>\n",
       "      <td>726098.0</td>\n",
       "      <td>NaN</td>\n",
       "      <td>NaN</td>\n",
       "      <td>NaN</td>\n",
       "      <td>NaN</td>\n",
       "      <td>1239520.0</td>\n",
       "      <td>NaN</td>\n",
       "      <td>NaN</td>\n",
       "      <td>NaN</td>\n",
       "      <td>NaN</td>\n",
       "      <td>9025403.0</td>\n",
       "      <td>NaN</td>\n",
       "      <td>1165079.0</td>\n",
       "      <td>1274481.0</td>\n",
       "      <td>NaN</td>\n",
       "      <td>NaN</td>\n",
       "      <td>NaN</td>\n",
       "      <td>NaN</td>\n",
       "      <td>NaN</td>\n",
       "    </tr>\n",
       "    <tr>\n",
       "      <th>2010-04</th>\n",
       "      <td>6875269.0</td>\n",
       "      <td>1752751.0</td>\n",
       "      <td>5433517.0</td>\n",
       "      <td>1627705.0</td>\n",
       "      <td>9190180.0</td>\n",
       "      <td>NaN</td>\n",
       "      <td>1115475.0</td>\n",
       "      <td>1007970.0</td>\n",
       "      <td>NaN</td>\n",
       "      <td>625073.0</td>\n",
       "      <td>NaN</td>\n",
       "      <td>NaN</td>\n",
       "      <td>NaN</td>\n",
       "      <td>NaN</td>\n",
       "      <td>1676946.0</td>\n",
       "      <td>NaN</td>\n",
       "      <td>NaN</td>\n",
       "      <td>NaN</td>\n",
       "      <td>NaN</td>\n",
       "      <td>9694048.0</td>\n",
       "      <td>NaN</td>\n",
       "      <td>1100444.0</td>\n",
       "      <td>1198545.0</td>\n",
       "      <td>NaN</td>\n",
       "      <td>NaN</td>\n",
       "      <td>NaN</td>\n",
       "      <td>NaN</td>\n",
       "      <td>NaN</td>\n",
       "    </tr>\n",
       "    <tr>\n",
       "      <th>2010-05</th>\n",
       "      <td>7518015.0</td>\n",
       "      <td>2005884.0</td>\n",
       "      <td>5796304.0</td>\n",
       "      <td>1746326.0</td>\n",
       "      <td>9827356.0</td>\n",
       "      <td>NaN</td>\n",
       "      <td>1155528.0</td>\n",
       "      <td>1084941.0</td>\n",
       "      <td>NaN</td>\n",
       "      <td>705851.0</td>\n",
       "      <td>NaN</td>\n",
       "      <td>NaN</td>\n",
       "      <td>NaN</td>\n",
       "      <td>NaN</td>\n",
       "      <td>1416282.0</td>\n",
       "      <td>NaN</td>\n",
       "      <td>NaN</td>\n",
       "      <td>NaN</td>\n",
       "      <td>NaN</td>\n",
       "      <td>10581017.0</td>\n",
       "      <td>NaN</td>\n",
       "      <td>1176777.0</td>\n",
       "      <td>1334414.0</td>\n",
       "      <td>NaN</td>\n",
       "      <td>NaN</td>\n",
       "      <td>NaN</td>\n",
       "      <td>NaN</td>\n",
       "      <td>NaN</td>\n",
       "    </tr>\n",
       "  </tbody>\n",
       "</table>\n",
       "</div>"
      ],
      "text/plain": [
       "concessionaria  AUTOPISTA FERNÃO DIAS  AUTOPISTA FLUMINENSE  \\\n",
       "mes_ano                                                       \n",
       "2010-01                     6190339.0             1815015.0   \n",
       "2010-02                     5924839.0             1708351.0   \n",
       "2010-03                     7003056.0             2018155.0   \n",
       "2010-04                     6875269.0             1752751.0   \n",
       "2010-05                     7518015.0             2005884.0   \n",
       "\n",
       "concessionaria  AUTOPISTA LITORAL SUL  AUTOPISTA PLANALTO SUL  \\\n",
       "mes_ano                                                         \n",
       "2010-01                     5183361.0               1464018.0   \n",
       "2010-02                     5020757.0               1481465.0   \n",
       "2010-03                     5864833.0               1701691.0   \n",
       "2010-04                     5433517.0               1627705.0   \n",
       "2010-05                     5796304.0               1746326.0   \n",
       "\n",
       "concessionaria  AUTOPISTA REGIS BITTENCOURT  CONCEBRA    CONCEPA     CONCER  \\\n",
       "mes_ano                                                                       \n",
       "2010-01                           8261978.0       NaN  1156902.0   990659.0   \n",
       "2010-02                           7872436.0       NaN  1063578.0   905443.0   \n",
       "2010-03                           9965511.0       NaN  1221469.0  1114422.0   \n",
       "2010-04                           9190180.0       NaN  1115475.0  1007970.0   \n",
       "2010-05                           9827356.0       NaN  1155528.0  1084941.0   \n",
       "\n",
       "concessionaria  CRO       CRT  ECO050  ECO101 CONCESSIONARIA DE RODOVIAS S/A  \\\n",
       "mes_ano                                                                        \n",
       "2010-01         NaN  653385.0     NaN                                    NaN   \n",
       "2010-02         NaN  612653.0     NaN                                    NaN   \n",
       "2010-03         NaN  726098.0     NaN                                    NaN   \n",
       "2010-04         NaN  625073.0     NaN                                    NaN   \n",
       "2010-05         NaN  705851.0     NaN                                    NaN   \n",
       "\n",
       "concessionaria  ECOPONTE  ECORIOMINAS     ECOSUL  ECOVIAS DO ARAGUAIA  \\\n",
       "mes_ano                                                                 \n",
       "2010-01              NaN          NaN   902674.0                  NaN   \n",
       "2010-02              NaN          NaN   850322.0                  NaN   \n",
       "2010-03              NaN          NaN  1239520.0                  NaN   \n",
       "2010-04              NaN          NaN  1676946.0                  NaN   \n",
       "2010-05              NaN          NaN  1416282.0                  NaN   \n",
       "\n",
       "concessionaria  ECOVIAS DO CERRADO  \\\n",
       "mes_ano                              \n",
       "2010-01                        NaN   \n",
       "2010-02                        NaN   \n",
       "2010-03                        NaN   \n",
       "2010-04                        NaN   \n",
       "2010-05                        NaN   \n",
       "\n",
       "concessionaria  HOLDING DO SISTEMA RODOVIARIO RIO - SAO PAULO S.A.  MSVIA  \\\n",
       "mes_ano                                                                     \n",
       "2010-01                                                       NaN     NaN   \n",
       "2010-02                                                       NaN     NaN   \n",
       "2010-03                                                       NaN     NaN   \n",
       "2010-04                                                       NaN     NaN   \n",
       "2010-05                                                       NaN     NaN   \n",
       "\n",
       "concessionaria   NOVADUTRA  RIOSP  RODOVIA DO AÇO  TRANSBRASILIANA  VIA 040  \\\n",
       "mes_ano                                                                       \n",
       "2010-01          7602748.0    NaN        986812.0        1088796.0      NaN   \n",
       "2010-02          7065494.0    NaN        929227.0        1060479.0      NaN   \n",
       "2010-03          9025403.0    NaN       1165079.0        1274481.0      NaN   \n",
       "2010-04          9694048.0    NaN       1100444.0        1198545.0      NaN   \n",
       "2010-05         10581017.0    NaN       1176777.0        1334414.0      NaN   \n",
       "\n",
       "concessionaria  VIA BAHIA  VIA BRASIL  VIA COSTEIRA  VIA SUL  \n",
       "mes_ano                                                       \n",
       "2010-01               NaN         NaN           NaN      NaN  \n",
       "2010-02               NaN         NaN           NaN      NaN  \n",
       "2010-03               NaN         NaN           NaN      NaN  \n",
       "2010-04               NaN         NaN           NaN      NaN  \n",
       "2010-05               NaN         NaN           NaN      NaN  "
      ]
     },
     "execution_count": 115,
     "metadata": {},
     "output_type": "execute_result"
    }
   ],
   "source": [
    "dict_veqs_mensal['VEQS_COMERCIAL'].head()"
   ]
  },
  {
   "cell_type": "markdown",
   "id": "e902c923-1d29-456f-8f4f-329b12ae1a4d",
   "metadata": {},
   "source": [
    "# Criando dataframes agrupando VEQs por TRIMESTRE/concessionaria/tipo de trafego"
   ]
  },
  {
   "cell_type": "code",
   "execution_count": 146,
   "id": "2fe03eba-c01a-4bad-a466-8c0e78e4df03",
   "metadata": {
    "execution": {
     "iopub.execute_input": "2024-09-11T15:43:18.640811Z",
     "iopub.status.busy": "2024-09-11T15:43:18.639700Z",
     "iopub.status.idle": "2024-09-11T15:43:18.650689Z",
     "shell.execute_reply": "2024-09-11T15:43:18.649600Z",
     "shell.execute_reply.started": "2024-09-11T15:43:18.640764Z"
    },
    "tags": []
   },
   "outputs": [],
   "source": [
    "def group_by_tri(df_monthly):\n",
    "    df_tri = df_monthly.copy()\n",
    "    \n",
    "    # # Ensure the index is a datetime object\n",
    "    df_tri.index = df_tri.index.to_timestamp()\n",
    "\n",
    "    # Ensure the index is a datetime object\n",
    "    # df_tri.index = pd.to_datetime(df_tri.index)  # Convert index to datetime if not already\n",
    "\n",
    "    # Create a column for the quarter-year format\n",
    "    df_tri['trimestre'] = df_tri.index.to_period('Q')\n",
    "\n",
    "    # Identify quarters with any NaN values\n",
    "    cols = [col for col in df_tri.columns if col != 'trimestre']\n",
    "    for col in cols:\n",
    "        # Find quarters where there is at least one NaN value in the column\n",
    "        quarters_with_nan = df_tri.groupby('trimestre')[col].apply(lambda x: x.isna().any())\n",
    "        \n",
    "        # Filter only quarters that have NaN\n",
    "        quarters_with_nan = quarters_with_nan[quarters_with_nan].index\n",
    "\n",
    "        # Set all values in those quarters to NaN for the column\n",
    "        df_tri.loc[df_tri['trimestre'].isin(quarters_with_nan), col] = None\n",
    "\n",
    "    # Identify incomplete quarters in the index itself\n",
    "    incomplete_quarters = df_tri.groupby('trimestre').size()\n",
    "    incomplete_quarters = incomplete_quarters[incomplete_quarters < 3].index\n",
    "\n",
    "    # Remove incomplete quarters\n",
    "    df_tri = df_tri[~df_tri['trimestre'].isin(incomplete_quarters)]\n",
    "\n",
    "    # Drop the helper column\n",
    "    df_tri = df_tri.drop(columns=['trimestre'])\n",
    "\n",
    "    # Group by trimester (quarter) and sum\n",
    "    df_tri = df_tri.groupby(df_tri.index.to_period('Q')).sum()\n",
    "\n",
    "    df_tri.index.name = 'trimestre'\n",
    "    \n",
    "    df_tri = df_tri.replace(0, np.nan) # colocando zero como NaN\n",
    "\n",
    "    return df_tri"
   ]
  },
  {
   "cell_type": "code",
   "execution_count": 147,
   "id": "1790f150-4d0f-4122-9daa-1ea4f9657e2d",
   "metadata": {
    "execution": {
     "iopub.execute_input": "2024-09-11T15:43:18.961259Z",
     "iopub.status.busy": "2024-09-11T15:43:18.960765Z",
     "iopub.status.idle": "2024-09-11T15:43:18.966970Z",
     "shell.execute_reply": "2024-09-11T15:43:18.965771Z",
     "shell.execute_reply.started": "2024-09-11T15:43:18.961218Z"
    },
    "tags": []
   },
   "outputs": [],
   "source": [
    "# def group_by_tri(df_monthly):\n",
    "#     df_tri = df_monthly.copy()\n",
    "   \n",
    "#     # Ensure the index is a datetime object\n",
    "#     df_tri.index = df_tri.index.to_timestamp()\n",
    "    \n",
    "#     # Create a column for the quarter-year format\n",
    "#     df_tri['trimestre'] = df_tri.index.to_period('Q')\n",
    "    \n",
    "#     # Identify quarters with any NaN values\n",
    "#     cols = [col for col in df_tri.columns if col != 'trimestre']\n",
    "#     for col in cols:\n",
    "#         # Find quarters where there is at least one NaN value in the column\n",
    "#         quarters_with_nan = df_tri.groupby('trimestre')[col].apply(lambda x: x.isna().any())\n",
    "        \n",
    "#         # Filter only quarters that have NaN\n",
    "#         quarters_with_nan = quarters_with_nan[quarters_with_nan].index\n",
    "\n",
    "#         # Set all values in those quarters to zero for the column\n",
    "#         df_tri.loc[df_tri['trimestre'].isin(quarters_with_nan), col] = None\n",
    "\n",
    "#     # Drop the helper column\n",
    "#     df_tri = df_tri.drop(columns=['trimestre'])\n",
    "\n",
    "#     # Group by trimester (quarter) and sum\n",
    "#     df_tri = df_tri.groupby(df_tri.index.to_period('Q')).sum()\n",
    "    \n",
    "#     df_tri.index.name = 'trimestre'\n",
    "#     # df_tri.index = df_tri.index.to_period('Q')\n",
    "\n",
    "#     return df_tri\n"
   ]
  },
  {
   "cell_type": "code",
   "execution_count": 148,
   "id": "726ffe1d-5c89-4627-bf71-daf257c7c6a2",
   "metadata": {
    "execution": {
     "iopub.execute_input": "2024-09-11T15:43:19.143873Z",
     "iopub.status.busy": "2024-09-11T15:43:19.143416Z",
     "iopub.status.idle": "2024-09-11T15:43:19.871034Z",
     "shell.execute_reply": "2024-09-11T15:43:19.869950Z",
     "shell.execute_reply.started": "2024-09-11T15:43:19.143833Z"
    },
    "tags": []
   },
   "outputs": [],
   "source": [
    "dict_veqs_tri = {}\n",
    "for veq, df in dict_veqs_mensal.items():\n",
    "    dict_veqs_tri[veq] = group_by_tri(df)"
   ]
  },
  {
   "cell_type": "code",
   "execution_count": 150,
   "id": "206a42ed-ca8b-4b2d-bb63-97c859cc54f9",
   "metadata": {
    "execution": {
     "iopub.execute_input": "2024-09-11T15:43:46.237404Z",
     "iopub.status.busy": "2024-09-11T15:43:46.236186Z",
     "iopub.status.idle": "2024-09-11T15:43:46.276935Z",
     "shell.execute_reply": "2024-09-11T15:43:46.275444Z",
     "shell.execute_reply.started": "2024-09-11T15:43:46.237347Z"
    },
    "tags": []
   },
   "outputs": [
    {
     "data": {
      "text/html": [
       "<div>\n",
       "<style scoped>\n",
       "    .dataframe tbody tr th:only-of-type {\n",
       "        vertical-align: middle;\n",
       "    }\n",
       "\n",
       "    .dataframe tbody tr th {\n",
       "        vertical-align: top;\n",
       "    }\n",
       "\n",
       "    .dataframe thead th {\n",
       "        text-align: right;\n",
       "    }\n",
       "</style>\n",
       "<table border=\"1\" class=\"dataframe\">\n",
       "  <thead>\n",
       "    <tr style=\"text-align: right;\">\n",
       "      <th>concessionaria</th>\n",
       "      <th>AUTOPISTA FERNÃO DIAS</th>\n",
       "      <th>AUTOPISTA FLUMINENSE</th>\n",
       "      <th>AUTOPISTA LITORAL SUL</th>\n",
       "      <th>AUTOPISTA PLANALTO SUL</th>\n",
       "      <th>AUTOPISTA REGIS BITTENCOURT</th>\n",
       "      <th>CONCEBRA</th>\n",
       "      <th>CONCEPA</th>\n",
       "      <th>CONCER</th>\n",
       "      <th>CRO</th>\n",
       "      <th>CRT</th>\n",
       "      <th>ECO050</th>\n",
       "      <th>ECO101 CONCESSIONARIA DE RODOVIAS S/A</th>\n",
       "      <th>ECOPONTE</th>\n",
       "      <th>ECORIOMINAS</th>\n",
       "      <th>ECOSUL</th>\n",
       "      <th>ECOVIAS DO ARAGUAIA</th>\n",
       "      <th>ECOVIAS DO CERRADO</th>\n",
       "      <th>HOLDING DO SISTEMA RODOVIARIO RIO - SAO PAULO S.A.</th>\n",
       "      <th>MSVIA</th>\n",
       "      <th>NOVADUTRA</th>\n",
       "      <th>RIOSP</th>\n",
       "      <th>RODOVIA DO AÇO</th>\n",
       "      <th>TRANSBRASILIANA</th>\n",
       "      <th>VIA 040</th>\n",
       "      <th>VIA BAHIA</th>\n",
       "      <th>VIA BRASIL</th>\n",
       "      <th>VIA COSTEIRA</th>\n",
       "      <th>VIA SUL</th>\n",
       "    </tr>\n",
       "    <tr>\n",
       "      <th>trimestre</th>\n",
       "      <th></th>\n",
       "      <th></th>\n",
       "      <th></th>\n",
       "      <th></th>\n",
       "      <th></th>\n",
       "      <th></th>\n",
       "      <th></th>\n",
       "      <th></th>\n",
       "      <th></th>\n",
       "      <th></th>\n",
       "      <th></th>\n",
       "      <th></th>\n",
       "      <th></th>\n",
       "      <th></th>\n",
       "      <th></th>\n",
       "      <th></th>\n",
       "      <th></th>\n",
       "      <th></th>\n",
       "      <th></th>\n",
       "      <th></th>\n",
       "      <th></th>\n",
       "      <th></th>\n",
       "      <th></th>\n",
       "      <th></th>\n",
       "      <th></th>\n",
       "      <th></th>\n",
       "      <th></th>\n",
       "      <th></th>\n",
       "    </tr>\n",
       "  </thead>\n",
       "  <tbody>\n",
       "    <tr>\n",
       "      <th>2010Q1</th>\n",
       "      <td>19118234.0</td>\n",
       "      <td>5541521.0</td>\n",
       "      <td>16068951.0</td>\n",
       "      <td>4647174.0</td>\n",
       "      <td>26099925.0</td>\n",
       "      <td>NaN</td>\n",
       "      <td>3441949.0</td>\n",
       "      <td>3010524.0</td>\n",
       "      <td>NaN</td>\n",
       "      <td>1992136.0</td>\n",
       "      <td>NaN</td>\n",
       "      <td>NaN</td>\n",
       "      <td>NaN</td>\n",
       "      <td>NaN</td>\n",
       "      <td>2992516.0</td>\n",
       "      <td>NaN</td>\n",
       "      <td>NaN</td>\n",
       "      <td>NaN</td>\n",
       "      <td>NaN</td>\n",
       "      <td>23693645.0</td>\n",
       "      <td>NaN</td>\n",
       "      <td>3081118.0</td>\n",
       "      <td>3423756.0</td>\n",
       "      <td>NaN</td>\n",
       "      <td>NaN</td>\n",
       "      <td>NaN</td>\n",
       "      <td>NaN</td>\n",
       "      <td>NaN</td>\n",
       "    </tr>\n",
       "    <tr>\n",
       "      <th>2010Q2</th>\n",
       "      <td>21643553.0</td>\n",
       "      <td>5701041.0</td>\n",
       "      <td>16910430.0</td>\n",
       "      <td>4987917.0</td>\n",
       "      <td>28377179.0</td>\n",
       "      <td>NaN</td>\n",
       "      <td>3380149.0</td>\n",
       "      <td>3157629.0</td>\n",
       "      <td>NaN</td>\n",
       "      <td>2015505.0</td>\n",
       "      <td>NaN</td>\n",
       "      <td>NaN</td>\n",
       "      <td>NaN</td>\n",
       "      <td>NaN</td>\n",
       "      <td>4325632.0</td>\n",
       "      <td>NaN</td>\n",
       "      <td>NaN</td>\n",
       "      <td>NaN</td>\n",
       "      <td>NaN</td>\n",
       "      <td>30087408.0</td>\n",
       "      <td>NaN</td>\n",
       "      <td>3342063.0</td>\n",
       "      <td>3786746.0</td>\n",
       "      <td>NaN</td>\n",
       "      <td>NaN</td>\n",
       "      <td>NaN</td>\n",
       "      <td>NaN</td>\n",
       "      <td>NaN</td>\n",
       "    </tr>\n",
       "    <tr>\n",
       "      <th>2010Q3</th>\n",
       "      <td>24157523.0</td>\n",
       "      <td>6183923.0</td>\n",
       "      <td>18332337.0</td>\n",
       "      <td>4948655.0</td>\n",
       "      <td>29787088.0</td>\n",
       "      <td>NaN</td>\n",
       "      <td>3510893.0</td>\n",
       "      <td>3418319.0</td>\n",
       "      <td>NaN</td>\n",
       "      <td>2221628.0</td>\n",
       "      <td>NaN</td>\n",
       "      <td>NaN</td>\n",
       "      <td>NaN</td>\n",
       "      <td>NaN</td>\n",
       "      <td>3666469.0</td>\n",
       "      <td>NaN</td>\n",
       "      <td>NaN</td>\n",
       "      <td>NaN</td>\n",
       "      <td>NaN</td>\n",
       "      <td>31267360.0</td>\n",
       "      <td>NaN</td>\n",
       "      <td>3246286.0</td>\n",
       "      <td>4151907.0</td>\n",
       "      <td>NaN</td>\n",
       "      <td>NaN</td>\n",
       "      <td>NaN</td>\n",
       "      <td>NaN</td>\n",
       "      <td>NaN</td>\n",
       "    </tr>\n",
       "    <tr>\n",
       "      <th>2010Q4</th>\n",
       "      <td>27296125.0</td>\n",
       "      <td>6452851.0</td>\n",
       "      <td>18619986.0</td>\n",
       "      <td>4971035.0</td>\n",
       "      <td>30620469.0</td>\n",
       "      <td>NaN</td>\n",
       "      <td>3763546.0</td>\n",
       "      <td>3523507.0</td>\n",
       "      <td>NaN</td>\n",
       "      <td>2334071.0</td>\n",
       "      <td>NaN</td>\n",
       "      <td>NaN</td>\n",
       "      <td>NaN</td>\n",
       "      <td>NaN</td>\n",
       "      <td>3442323.0</td>\n",
       "      <td>NaN</td>\n",
       "      <td>NaN</td>\n",
       "      <td>NaN</td>\n",
       "      <td>NaN</td>\n",
       "      <td>31332569.0</td>\n",
       "      <td>NaN</td>\n",
       "      <td>3217731.0</td>\n",
       "      <td>4152586.0</td>\n",
       "      <td>NaN</td>\n",
       "      <td>NaN</td>\n",
       "      <td>NaN</td>\n",
       "      <td>NaN</td>\n",
       "      <td>NaN</td>\n",
       "    </tr>\n",
       "    <tr>\n",
       "      <th>2011Q1</th>\n",
       "      <td>26160702.0</td>\n",
       "      <td>6215518.0</td>\n",
       "      <td>17250630.0</td>\n",
       "      <td>5212567.0</td>\n",
       "      <td>29285468.0</td>\n",
       "      <td>NaN</td>\n",
       "      <td>3540257.0</td>\n",
       "      <td>3533875.0</td>\n",
       "      <td>NaN</td>\n",
       "      <td>2188312.0</td>\n",
       "      <td>NaN</td>\n",
       "      <td>NaN</td>\n",
       "      <td>NaN</td>\n",
       "      <td>NaN</td>\n",
       "      <td>3626090.0</td>\n",
       "      <td>NaN</td>\n",
       "      <td>NaN</td>\n",
       "      <td>NaN</td>\n",
       "      <td>NaN</td>\n",
       "      <td>29355052.0</td>\n",
       "      <td>NaN</td>\n",
       "      <td>2984654.0</td>\n",
       "      <td>3786002.0</td>\n",
       "      <td>NaN</td>\n",
       "      <td>NaN</td>\n",
       "      <td>NaN</td>\n",
       "      <td>NaN</td>\n",
       "      <td>NaN</td>\n",
       "    </tr>\n",
       "  </tbody>\n",
       "</table>\n",
       "</div>"
      ],
      "text/plain": [
       "concessionaria  AUTOPISTA FERNÃO DIAS  AUTOPISTA FLUMINENSE  \\\n",
       "trimestre                                                     \n",
       "2010Q1                     19118234.0             5541521.0   \n",
       "2010Q2                     21643553.0             5701041.0   \n",
       "2010Q3                     24157523.0             6183923.0   \n",
       "2010Q4                     27296125.0             6452851.0   \n",
       "2011Q1                     26160702.0             6215518.0   \n",
       "\n",
       "concessionaria  AUTOPISTA LITORAL SUL  AUTOPISTA PLANALTO SUL  \\\n",
       "trimestre                                                       \n",
       "2010Q1                     16068951.0               4647174.0   \n",
       "2010Q2                     16910430.0               4987917.0   \n",
       "2010Q3                     18332337.0               4948655.0   \n",
       "2010Q4                     18619986.0               4971035.0   \n",
       "2011Q1                     17250630.0               5212567.0   \n",
       "\n",
       "concessionaria  AUTOPISTA REGIS BITTENCOURT  CONCEBRA    CONCEPA     CONCER  \\\n",
       "trimestre                                                                     \n",
       "2010Q1                           26099925.0       NaN  3441949.0  3010524.0   \n",
       "2010Q2                           28377179.0       NaN  3380149.0  3157629.0   \n",
       "2010Q3                           29787088.0       NaN  3510893.0  3418319.0   \n",
       "2010Q4                           30620469.0       NaN  3763546.0  3523507.0   \n",
       "2011Q1                           29285468.0       NaN  3540257.0  3533875.0   \n",
       "\n",
       "concessionaria  CRO        CRT  ECO050  ECO101 CONCESSIONARIA DE RODOVIAS S/A  \\\n",
       "trimestre                                                                       \n",
       "2010Q1          NaN  1992136.0     NaN                                    NaN   \n",
       "2010Q2          NaN  2015505.0     NaN                                    NaN   \n",
       "2010Q3          NaN  2221628.0     NaN                                    NaN   \n",
       "2010Q4          NaN  2334071.0     NaN                                    NaN   \n",
       "2011Q1          NaN  2188312.0     NaN                                    NaN   \n",
       "\n",
       "concessionaria  ECOPONTE  ECORIOMINAS     ECOSUL  ECOVIAS DO ARAGUAIA  \\\n",
       "trimestre                                                               \n",
       "2010Q1               NaN          NaN  2992516.0                  NaN   \n",
       "2010Q2               NaN          NaN  4325632.0                  NaN   \n",
       "2010Q3               NaN          NaN  3666469.0                  NaN   \n",
       "2010Q4               NaN          NaN  3442323.0                  NaN   \n",
       "2011Q1               NaN          NaN  3626090.0                  NaN   \n",
       "\n",
       "concessionaria  ECOVIAS DO CERRADO  \\\n",
       "trimestre                            \n",
       "2010Q1                         NaN   \n",
       "2010Q2                         NaN   \n",
       "2010Q3                         NaN   \n",
       "2010Q4                         NaN   \n",
       "2011Q1                         NaN   \n",
       "\n",
       "concessionaria  HOLDING DO SISTEMA RODOVIARIO RIO - SAO PAULO S.A.  MSVIA  \\\n",
       "trimestre                                                                   \n",
       "2010Q1                                                        NaN     NaN   \n",
       "2010Q2                                                        NaN     NaN   \n",
       "2010Q3                                                        NaN     NaN   \n",
       "2010Q4                                                        NaN     NaN   \n",
       "2011Q1                                                        NaN     NaN   \n",
       "\n",
       "concessionaria   NOVADUTRA  RIOSP  RODOVIA DO AÇO  TRANSBRASILIANA  VIA 040  \\\n",
       "trimestre                                                                     \n",
       "2010Q1          23693645.0    NaN       3081118.0        3423756.0      NaN   \n",
       "2010Q2          30087408.0    NaN       3342063.0        3786746.0      NaN   \n",
       "2010Q3          31267360.0    NaN       3246286.0        4151907.0      NaN   \n",
       "2010Q4          31332569.0    NaN       3217731.0        4152586.0      NaN   \n",
       "2011Q1          29355052.0    NaN       2984654.0        3786002.0      NaN   \n",
       "\n",
       "concessionaria  VIA BAHIA  VIA BRASIL  VIA COSTEIRA  VIA SUL  \n",
       "trimestre                                                     \n",
       "2010Q1                NaN         NaN           NaN      NaN  \n",
       "2010Q2                NaN         NaN           NaN      NaN  \n",
       "2010Q3                NaN         NaN           NaN      NaN  \n",
       "2010Q4                NaN         NaN           NaN      NaN  \n",
       "2011Q1                NaN         NaN           NaN      NaN  "
      ]
     },
     "execution_count": 150,
     "metadata": {},
     "output_type": "execute_result"
    }
   ],
   "source": [
    "dict_veqs_tri['VEQS_COMERCIAL'].head()"
   ]
  },
  {
   "cell_type": "markdown",
   "id": "6c90ab55-71f1-4129-ac09-2617c0722e83",
   "metadata": {},
   "source": [
    "# Salvando p/parquet"
   ]
  },
  {
   "cell_type": "code",
   "execution_count": 151,
   "id": "3138fcdf-0e76-4d87-95ad-bd044cefbf8f",
   "metadata": {
    "execution": {
     "iopub.execute_input": "2024-09-11T15:43:53.507347Z",
     "iopub.status.busy": "2024-09-11T15:43:53.506594Z",
     "iopub.status.idle": "2024-09-11T15:44:12.958479Z",
     "shell.execute_reply": "2024-09-11T15:44:12.954937Z",
     "shell.execute_reply.started": "2024-09-11T15:43:53.507288Z"
    },
    "tags": []
   },
   "outputs": [],
   "source": [
    "# dataframe total\n",
    "# df_trafego.to_parquet(os.path.join(path_dados_derivados,'df_trafego.parquet'))\n",
    "df_trafego.to_parquet(path_output /'df_trafego.parquet')"
   ]
  },
  {
   "cell_type": "code",
   "execution_count": 152,
   "id": "dc5e978b-2ed4-4311-92ef-6a9836424ec6",
   "metadata": {
    "execution": {
     "iopub.execute_input": "2024-09-11T15:44:12.961452Z",
     "iopub.status.busy": "2024-09-11T15:44:12.960931Z",
     "iopub.status.idle": "2024-09-11T15:44:12.969851Z",
     "shell.execute_reply": "2024-09-11T15:44:12.968691Z",
     "shell.execute_reply.started": "2024-09-11T15:44:12.961412Z"
    },
    "tags": []
   },
   "outputs": [],
   "source": [
    "# data inicial e final\n",
    "# OBS: alguns períodos finais bugados\n",
    "df_periodos.to_parquet(path_output /'df_periodos.parquet')"
   ]
  },
  {
   "cell_type": "code",
   "execution_count": 153,
   "id": "eaf1133f-540b-4ad7-9d5d-a008f1d4ca36",
   "metadata": {
    "execution": {
     "iopub.execute_input": "2024-09-11T15:44:12.972297Z",
     "iopub.status.busy": "2024-09-11T15:44:12.971333Z",
     "iopub.status.idle": "2024-09-11T15:44:12.992089Z",
     "shell.execute_reply": "2024-09-11T15:44:12.990856Z",
     "shell.execute_reply.started": "2024-09-11T15:44:12.972258Z"
    },
    "tags": []
   },
   "outputs": [],
   "source": [
    "# dicionário com os dados de tráfego anuais:\n",
    "for veq in dict_veqs_anual:\n",
    "    dict_veqs_anual[veq].to_parquet(path_output_anual / f'df_{veq}_anual.parquet')"
   ]
  },
  {
   "cell_type": "code",
   "execution_count": 154,
   "id": "cd64be80-e33b-4009-b2b6-c7d3abc42da7",
   "metadata": {
    "execution": {
     "iopub.execute_input": "2024-09-11T15:44:12.996361Z",
     "iopub.status.busy": "2024-09-11T15:44:12.995725Z",
     "iopub.status.idle": "2024-09-11T15:44:13.019828Z",
     "shell.execute_reply": "2024-09-11T15:44:13.018749Z",
     "shell.execute_reply.started": "2024-09-11T15:44:12.996321Z"
    },
    "tags": []
   },
   "outputs": [],
   "source": [
    "# dicionário com os dados de tráfego mensais:\n",
    "for veq in dict_veqs_mensal:\n",
    "    dict_veqs_mensal[veq].to_parquet(path_output_mensal / f'df_{veq}_mensal.parquet')"
   ]
  },
  {
   "cell_type": "code",
   "execution_count": 155,
   "id": "46735619-bd69-44f3-833e-9e7c85b8468d",
   "metadata": {
    "execution": {
     "iopub.execute_input": "2024-09-11T15:44:13.021937Z",
     "iopub.status.busy": "2024-09-11T15:44:13.021052Z",
     "iopub.status.idle": "2024-09-11T15:44:13.040889Z",
     "shell.execute_reply": "2024-09-11T15:44:13.040082Z",
     "shell.execute_reply.started": "2024-09-11T15:44:13.021894Z"
    },
    "tags": []
   },
   "outputs": [],
   "source": [
    "# dicionário com os dados de tráfego trimestrais:\n",
    "for veq in dict_veqs_tri:\n",
    "    dict_veqs_tri[veq].to_parquet(path_output_trimestral / f'df_{veq}_trimestral.parquet')"
   ]
  },
  {
   "cell_type": "markdown",
   "id": "3dd5690a-1f36-4de9-ace5-6f90ed976fd2",
   "metadata": {},
   "source": [
    "# Salvando p/Excel"
   ]
  },
  {
   "cell_type": "code",
   "execution_count": 156,
   "id": "8442f75c-e050-4147-8b36-33cfb9f92178",
   "metadata": {
    "execution": {
     "iopub.execute_input": "2024-09-11T15:44:13.042979Z",
     "iopub.status.busy": "2024-09-11T15:44:13.042550Z",
     "iopub.status.idle": "2024-09-11T15:44:13.067484Z",
     "shell.execute_reply": "2024-09-11T15:44:13.066406Z",
     "shell.execute_reply.started": "2024-09-11T15:44:13.042942Z"
    },
    "tags": []
   },
   "outputs": [],
   "source": [
    "# Data inicial e final de tráfego por concessionária:\n",
    "df_periodos.to_excel(path_output / 'periodo_dados_trafego.xlsx')"
   ]
  },
  {
   "cell_type": "code",
   "execution_count": 157,
   "id": "5aa80b27-1e5f-46bc-a90d-cf4964847bf0",
   "metadata": {
    "execution": {
     "iopub.execute_input": "2024-09-11T15:44:13.069207Z",
     "iopub.status.busy": "2024-09-11T15:44:13.068879Z",
     "iopub.status.idle": "2024-09-11T15:44:13.130516Z",
     "shell.execute_reply": "2024-09-11T15:44:13.129528Z",
     "shell.execute_reply.started": "2024-09-11T15:44:13.069171Z"
    },
    "tags": []
   },
   "outputs": [],
   "source": [
    "# dados de tráfego anuais\n",
    "with pd.ExcelWriter(path_output_anual / 'dados_trafego_ANTT_anual.xlsx') as writer:\n",
    "    # df_periodos.to_excel(writer, sheet_name=\"periodo_concessionarias\")\n",
    "    for veq in dict_veqs_anual:\n",
    "        dict_veqs_anual[veq].to_excel(writer, sheet_name=f\"{veq}\")"
   ]
  },
  {
   "cell_type": "code",
   "execution_count": 158,
   "id": "9fc827b3-e504-4596-840c-4724699397e6",
   "metadata": {
    "execution": {
     "iopub.execute_input": "2024-09-11T15:44:13.133748Z",
     "iopub.status.busy": "2024-09-11T15:44:13.133229Z",
     "iopub.status.idle": "2024-09-11T15:44:13.513692Z",
     "shell.execute_reply": "2024-09-11T15:44:13.512542Z",
     "shell.execute_reply.started": "2024-09-11T15:44:13.133709Z"
    },
    "tags": []
   },
   "outputs": [],
   "source": [
    "# dados de tráfego mensais\n",
    "with pd.ExcelWriter(path_output_mensal / 'dados_trafego_ANTT_mensal.xlsx') as writer:\n",
    "    # df_periodos.to_excel(writer, sheet_name=\"periodo_concessionarias\")\n",
    "    for veq,df in dict_veqs_mensal.items():\n",
    "        df_export = df.copy()\n",
    "        df_export = df_export.T\n",
    "        new_index = [col.strftime('%Y-%m-%d') for col in df_export.columns]\n",
    "        df_export.columns = new_index\n",
    "        df_export = df_export.T\n",
    "        df_export.to_excel(writer, sheet_name=f\"{veq}\")"
   ]
  },
  {
   "cell_type": "code",
   "execution_count": 159,
   "id": "31d448fb-5cb3-47d0-a977-f072aaf00176",
   "metadata": {
    "execution": {
     "iopub.execute_input": "2024-09-11T15:44:13.515690Z",
     "iopub.status.busy": "2024-09-11T15:44:13.514990Z",
     "iopub.status.idle": "2024-09-11T15:44:13.660604Z",
     "shell.execute_reply": "2024-09-11T15:44:13.659562Z",
     "shell.execute_reply.started": "2024-09-11T15:44:13.515649Z"
    },
    "tags": []
   },
   "outputs": [],
   "source": [
    "# dados de tráfego trimestrais\n",
    "with pd.ExcelWriter(path_output_trimestral / 'dados_trafego_ANTT_trimestral.xlsx') as writer:\n",
    "    # df_periodos.to_excel(writer, sheet_name=\"periodo_concessionarias\")\n",
    "    for veq,df in dict_veqs_tri.items():\n",
    "        df_export = df.copy()\n",
    "        df_export = df_export.T\n",
    "        new_index = [col.strftime('%Y-%m-%d') for col in df_export.columns]\n",
    "        df_export.columns = new_index\n",
    "        df_export = df_export.T\n",
    "        df_export.to_excel(writer, sheet_name=f\"{veq}\")"
   ]
  },
  {
   "cell_type": "code",
   "execution_count": null,
   "id": "5a3235b6-741c-416b-81de-b98492330c58",
   "metadata": {},
   "outputs": [],
   "source": []
  }
 ],
 "metadata": {
  "kernelspec": {
   "display_name": "infra-data",
   "language": "python",
   "name": "infra-data"
  },
  "language_info": {
   "codemirror_mode": {
    "name": "ipython",
    "version": 3
   },
   "file_extension": ".py",
   "mimetype": "text/x-python",
   "name": "python",
   "nbconvert_exporter": "python",
   "pygments_lexer": "ipython3",
   "version": "3.9.16"
  }
 },
 "nbformat": 4,
 "nbformat_minor": 5
}
