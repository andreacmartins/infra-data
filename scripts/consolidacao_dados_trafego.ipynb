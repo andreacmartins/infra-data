{
 "cells": [
  {
   "cell_type": "markdown",
   "id": "7cd4eef4-cce0-440e-b843-22821262126e",
   "metadata": {},
   "source": [
    "# IMPORTS"
   ]
  },
  {
   "cell_type": "code",
   "execution_count": 1,
   "id": "b0bd2558-4df8-4da6-a0fb-e13700764450",
   "metadata": {
    "execution": {
     "iopub.execute_input": "2024-08-29T20:14:09.369146Z",
     "iopub.status.busy": "2024-08-29T20:14:09.368557Z",
     "iopub.status.idle": "2024-08-29T20:14:09.950615Z",
     "shell.execute_reply": "2024-08-29T20:14:09.948827Z",
     "shell.execute_reply.started": "2024-08-29T20:14:09.369092Z"
    },
    "tags": []
   },
   "outputs": [],
   "source": [
    "import pandas as pd\n",
    "import numpy as np\n",
    "import os\n",
    "from decimal import Decimal\n",
    "import pickle\n",
    "from pathlib import Path"
   ]
  },
  {
   "cell_type": "markdown",
   "id": "49a66ef9-139e-4255-b3c1-d6d6460caffe",
   "metadata": {
    "execution": {
     "iopub.execute_input": "2024-08-20T19:55:44.418829Z",
     "iopub.status.busy": "2024-08-20T19:55:44.417516Z",
     "iopub.status.idle": "2024-08-20T19:55:44.424840Z",
     "shell.execute_reply": "2024-08-20T19:55:44.422826Z",
     "shell.execute_reply.started": "2024-08-20T19:55:44.418787Z"
    }
   },
   "source": [
    "# SETUP"
   ]
  },
  {
   "cell_type": "code",
   "execution_count": 2,
   "id": "7eaa031d-d0d4-4d30-b804-cba265e680c3",
   "metadata": {
    "execution": {
     "iopub.execute_input": "2024-08-29T20:14:09.954444Z",
     "iopub.status.busy": "2024-08-29T20:14:09.953686Z",
     "iopub.status.idle": "2024-08-29T20:14:09.962366Z",
     "shell.execute_reply": "2024-08-29T20:14:09.961417Z",
     "shell.execute_reply.started": "2024-08-29T20:14:09.954394Z"
    },
    "tags": []
   },
   "outputs": [],
   "source": [
    "dir_tree_util_path = os.path.join(\"utils\", \"dir_tree.py\")\n",
    "exec(open(dir_tree_util_path).read())"
   ]
  },
  {
   "cell_type": "markdown",
   "id": "5e259d48-4151-4192-a50c-da058d8aaa7e",
   "metadata": {},
   "source": [
    "# INPUTS"
   ]
  },
  {
   "cell_type": "code",
   "execution_count": 3,
   "id": "31307c5f-d5d2-4adc-9fa3-3bbf19cf7121",
   "metadata": {
    "execution": {
     "iopub.execute_input": "2024-08-29T20:14:10.010614Z",
     "iopub.status.busy": "2024-08-29T20:14:10.010118Z",
     "iopub.status.idle": "2024-08-29T20:14:10.016984Z",
     "shell.execute_reply": "2024-08-29T20:14:10.015472Z",
     "shell.execute_reply.started": "2024-08-29T20:14:10.010573Z"
    },
    "tags": []
   },
   "outputs": [],
   "source": [
    "# Paths\n",
    "path_input = PROJECT_DIRS[\"DADOS_VEQ_ANTT_DIR\"]\n",
    "path_output = PROJECT_DIRS[\"DADOS_DERIVADOS_DIR\"]"
   ]
  },
  {
   "cell_type": "code",
   "execution_count": 4,
   "id": "79a367f1-c05e-47ae-81dc-64bf313cbbce",
   "metadata": {
    "execution": {
     "iopub.execute_input": "2024-08-29T20:14:10.174190Z",
     "iopub.status.busy": "2024-08-29T20:14:10.172736Z",
     "iopub.status.idle": "2024-08-29T20:14:10.181941Z",
     "shell.execute_reply": "2024-08-29T20:14:10.180077Z",
     "shell.execute_reply.started": "2024-08-29T20:14:10.174119Z"
    },
    "tags": []
   },
   "outputs": [],
   "source": [
    "periodo = list(range(2010, 2025))"
   ]
  },
  {
   "cell_type": "markdown",
   "id": "4227454c-3327-470a-92b4-35b111fe9c27",
   "metadata": {},
   "source": [
    "# Criando um dataframe consolidado com os dados de tráfego"
   ]
  },
  {
   "cell_type": "code",
   "execution_count": 5,
   "id": "3b658ece-7e95-46f0-9af1-dd47eb29a702",
   "metadata": {
    "execution": {
     "iopub.execute_input": "2024-08-29T20:14:10.462454Z",
     "iopub.status.busy": "2024-08-29T20:14:10.461608Z",
     "iopub.status.idle": "2024-08-29T20:14:10.468594Z",
     "shell.execute_reply": "2024-08-29T20:14:10.467088Z",
     "shell.execute_reply.started": "2024-08-29T20:14:10.462409Z"
    },
    "tags": []
   },
   "outputs": [],
   "source": [
    "# arquivos dos dados\n",
    "arquivos = os.listdir(path_input)"
   ]
  },
  {
   "cell_type": "code",
   "execution_count": 6,
   "id": "964fa4c0-5272-4ea5-ba8a-f8fd00296c3c",
   "metadata": {
    "execution": {
     "iopub.execute_input": "2024-08-29T20:14:10.591480Z",
     "iopub.status.busy": "2024-08-29T20:14:10.590542Z",
     "iopub.status.idle": "2024-08-29T20:14:18.297720Z",
     "shell.execute_reply": "2024-08-29T20:14:18.296501Z",
     "shell.execute_reply.started": "2024-08-29T20:14:10.591439Z"
    },
    "tags": []
   },
   "outputs": [],
   "source": [
    "df_trafego = pd.DataFrame()\n",
    "for ano in periodo:\n",
    "    arquivo = [a for a in arquivos if a[:-4].endswith(str(ano))][0]\n",
    "    df_ano = pd.read_csv(os.path.join(path_input, arquivo), sep=';', encoding='cp1252', low_memory=False)\n",
    "    df_trafego = pd.concat([df_trafego,df_ano])"
   ]
  },
  {
   "cell_type": "markdown",
   "id": "77d89742-3655-43ef-935c-b57c5a4456d9",
   "metadata": {},
   "source": [
    "# EDA Inicial"
   ]
  },
  {
   "cell_type": "code",
   "execution_count": 7,
   "id": "ffc68822-6798-45bb-a980-1691d74ad640",
   "metadata": {
    "execution": {
     "iopub.execute_input": "2024-08-29T20:14:18.300558Z",
     "iopub.status.busy": "2024-08-29T20:14:18.300016Z",
     "iopub.status.idle": "2024-08-29T20:14:18.324767Z",
     "shell.execute_reply": "2024-08-29T20:14:18.323662Z",
     "shell.execute_reply.started": "2024-08-29T20:14:18.300519Z"
    },
    "tags": []
   },
   "outputs": [
    {
     "data": {
      "text/html": [
       "<div>\n",
       "<style scoped>\n",
       "    .dataframe tbody tr th:only-of-type {\n",
       "        vertical-align: middle;\n",
       "    }\n",
       "\n",
       "    .dataframe tbody tr th {\n",
       "        vertical-align: top;\n",
       "    }\n",
       "\n",
       "    .dataframe thead th {\n",
       "        text-align: right;\n",
       "    }\n",
       "</style>\n",
       "<table border=\"1\" class=\"dataframe\">\n",
       "  <thead>\n",
       "    <tr style=\"text-align: right;\">\n",
       "      <th></th>\n",
       "      <th>concessionaria</th>\n",
       "      <th>mes_ano</th>\n",
       "      <th>sentido</th>\n",
       "      <th>praca</th>\n",
       "      <th>categoria</th>\n",
       "      <th>tipo_de_veiculo</th>\n",
       "      <th>volume_total</th>\n",
       "      <th>multiplicador_de_tarifa</th>\n",
       "      <th>volume_veiculo_equivalente</th>\n",
       "      <th>tipo_de_cobranca</th>\n",
       "    </tr>\n",
       "  </thead>\n",
       "  <tbody>\n",
       "    <tr>\n",
       "      <th>0</th>\n",
       "      <td>RODOVIA DO AÇO</td>\n",
       "      <td>01-01-2010</td>\n",
       "      <td>Decrescente</td>\n",
       "      <td>Praça 01  BR-393/RJ km 125,00</td>\n",
       "      <td>Categoria 1</td>\n",
       "      <td>Passeio</td>\n",
       "      <td>44146</td>\n",
       "      <td>1</td>\n",
       "      <td>44146</td>\n",
       "      <td>NaN</td>\n",
       "    </tr>\n",
       "    <tr>\n",
       "      <th>1</th>\n",
       "      <td>RODOVIA DO AÇO</td>\n",
       "      <td>01-01-2010</td>\n",
       "      <td>Crescente</td>\n",
       "      <td>Praça 01  BR-393/RJ km 125,00</td>\n",
       "      <td>Categoria 1</td>\n",
       "      <td>Passeio</td>\n",
       "      <td>35771</td>\n",
       "      <td>1</td>\n",
       "      <td>35771</td>\n",
       "      <td>NaN</td>\n",
       "    </tr>\n",
       "    <tr>\n",
       "      <th>2</th>\n",
       "      <td>RODOVIA DO AÇO</td>\n",
       "      <td>01-02-2010</td>\n",
       "      <td>Decrescente</td>\n",
       "      <td>Praça 01  BR-393/RJ km 125,00</td>\n",
       "      <td>Categoria 1</td>\n",
       "      <td>Passeio</td>\n",
       "      <td>33455</td>\n",
       "      <td>1</td>\n",
       "      <td>33455</td>\n",
       "      <td>NaN</td>\n",
       "    </tr>\n",
       "    <tr>\n",
       "      <th>3</th>\n",
       "      <td>RODOVIA DO AÇO</td>\n",
       "      <td>01-02-2010</td>\n",
       "      <td>Crescente</td>\n",
       "      <td>Praça 01  BR-393/RJ km 125,00</td>\n",
       "      <td>Categoria 1</td>\n",
       "      <td>Passeio</td>\n",
       "      <td>27109</td>\n",
       "      <td>1</td>\n",
       "      <td>27109</td>\n",
       "      <td>NaN</td>\n",
       "    </tr>\n",
       "    <tr>\n",
       "      <th>4</th>\n",
       "      <td>RODOVIA DO AÇO</td>\n",
       "      <td>01-03-2010</td>\n",
       "      <td>Decrescente</td>\n",
       "      <td>Praça 01  BR-393/RJ km 125,00</td>\n",
       "      <td>Categoria 1</td>\n",
       "      <td>Passeio</td>\n",
       "      <td>31677</td>\n",
       "      <td>1</td>\n",
       "      <td>31677</td>\n",
       "      <td>NaN</td>\n",
       "    </tr>\n",
       "  </tbody>\n",
       "</table>\n",
       "</div>"
      ],
      "text/plain": [
       "   concessionaria     mes_ano      sentido                          praca  \\\n",
       "0  RODOVIA DO AÇO  01-01-2010  Decrescente  Praça 01  BR-393/RJ km 125,00   \n",
       "1  RODOVIA DO AÇO  01-01-2010    Crescente  Praça 01  BR-393/RJ km 125,00   \n",
       "2  RODOVIA DO AÇO  01-02-2010  Decrescente  Praça 01  BR-393/RJ km 125,00   \n",
       "3  RODOVIA DO AÇO  01-02-2010    Crescente  Praça 01  BR-393/RJ km 125,00   \n",
       "4  RODOVIA DO AÇO  01-03-2010  Decrescente  Praça 01  BR-393/RJ km 125,00   \n",
       "\n",
       "     categoria tipo_de_veiculo volume_total multiplicador_de_tarifa  \\\n",
       "0  Categoria 1         Passeio        44146                       1   \n",
       "1  Categoria 1         Passeio        35771                       1   \n",
       "2  Categoria 1         Passeio        33455                       1   \n",
       "3  Categoria 1         Passeio        27109                       1   \n",
       "4  Categoria 1         Passeio        31677                       1   \n",
       "\n",
       "  volume_veiculo_equivalente tipo_de_cobranca  \n",
       "0                      44146              NaN  \n",
       "1                      35771              NaN  \n",
       "2                      33455              NaN  \n",
       "3                      27109              NaN  \n",
       "4                      31677              NaN  "
      ]
     },
     "execution_count": 7,
     "metadata": {},
     "output_type": "execute_result"
    }
   ],
   "source": [
    "df_trafego.head()"
   ]
  },
  {
   "cell_type": "code",
   "execution_count": 8,
   "id": "375aa237-e0b2-4a31-bcb1-ba4356cc4745",
   "metadata": {
    "execution": {
     "iopub.execute_input": "2024-08-29T20:14:18.326508Z",
     "iopub.status.busy": "2024-08-29T20:14:18.326147Z",
     "iopub.status.idle": "2024-08-29T20:14:18.339961Z",
     "shell.execute_reply": "2024-08-29T20:14:18.338967Z",
     "shell.execute_reply.started": "2024-08-29T20:14:18.326471Z"
    },
    "tags": []
   },
   "outputs": [
    {
     "name": "stdout",
     "output_type": "stream",
     "text": [
      "<class 'pandas.core.frame.DataFrame'>\n",
      "Index: 3000353 entries, 0 to 2329761\n",
      "Data columns (total 10 columns):\n",
      " #   Column                      Dtype \n",
      "---  ------                      ----- \n",
      " 0   concessionaria              object\n",
      " 1   mes_ano                     object\n",
      " 2   sentido                     object\n",
      " 3   praca                       object\n",
      " 4   categoria                   object\n",
      " 5   tipo_de_veiculo             object\n",
      " 6   volume_total                object\n",
      " 7   multiplicador_de_tarifa     object\n",
      " 8   volume_veiculo_equivalente  object\n",
      " 9   tipo_de_cobranca            object\n",
      "dtypes: object(10)\n",
      "memory usage: 251.8+ MB\n"
     ]
    }
   ],
   "source": [
    "df_trafego.info()"
   ]
  },
  {
   "cell_type": "code",
   "execution_count": 9,
   "id": "ded8067c-2413-44c0-88ca-9ff8d15084b1",
   "metadata": {
    "execution": {
     "iopub.execute_input": "2024-08-29T20:14:18.344172Z",
     "iopub.status.busy": "2024-08-29T20:14:18.343667Z",
     "iopub.status.idle": "2024-08-29T20:14:19.454099Z",
     "shell.execute_reply": "2024-08-29T20:14:19.452249Z",
     "shell.execute_reply.started": "2024-08-29T20:14:18.344133Z"
    },
    "tags": []
   },
   "outputs": [
    {
     "name": "stdout",
     "output_type": "stream",
     "text": [
      "concessionaria: 0\n",
      "mes_ano: 0\n",
      "sentido: 0\n",
      "praca: 0\n",
      "categoria: 0\n",
      "tipo_de_veiculo: 0\n",
      "volume_total: 344\n",
      "multiplicador_de_tarifa: 0\n",
      "volume_veiculo_equivalente: 0\n",
      "tipo_de_cobranca: 74780\n"
     ]
    }
   ],
   "source": [
    "for col in df_trafego:\n",
    "    print(f\"{col}: {df_trafego[col].isna().sum()}\")"
   ]
  },
  {
   "cell_type": "code",
   "execution_count": 10,
   "id": "dddf1952-8eca-459f-890b-90ada7d1bc14",
   "metadata": {
    "execution": {
     "iopub.execute_input": "2024-08-29T20:14:19.456462Z",
     "iopub.status.busy": "2024-08-29T20:14:19.455503Z",
     "iopub.status.idle": "2024-08-29T20:14:19.588432Z",
     "shell.execute_reply": "2024-08-29T20:14:19.587034Z",
     "shell.execute_reply.started": "2024-08-29T20:14:19.456417Z"
    },
    "tags": []
   },
   "outputs": [
    {
     "data": {
      "text/html": [
       "<div>\n",
       "<style scoped>\n",
       "    .dataframe tbody tr th:only-of-type {\n",
       "        vertical-align: middle;\n",
       "    }\n",
       "\n",
       "    .dataframe tbody tr th {\n",
       "        vertical-align: top;\n",
       "    }\n",
       "\n",
       "    .dataframe thead th {\n",
       "        text-align: right;\n",
       "    }\n",
       "</style>\n",
       "<table border=\"1\" class=\"dataframe\">\n",
       "  <thead>\n",
       "    <tr style=\"text-align: right;\">\n",
       "      <th></th>\n",
       "      <th>concessionaria</th>\n",
       "      <th>mes_ano</th>\n",
       "      <th>sentido</th>\n",
       "      <th>praca</th>\n",
       "      <th>categoria</th>\n",
       "      <th>tipo_de_veiculo</th>\n",
       "      <th>volume_total</th>\n",
       "      <th>multiplicador_de_tarifa</th>\n",
       "      <th>volume_veiculo_equivalente</th>\n",
       "      <th>tipo_de_cobranca</th>\n",
       "    </tr>\n",
       "  </thead>\n",
       "  <tbody>\n",
       "    <tr>\n",
       "      <th>123024</th>\n",
       "      <td>ECOPONTE</td>\n",
       "      <td>01/08/2023</td>\n",
       "      <td>Decrescente</td>\n",
       "      <td>Praça 01 BR-101/RJ km 322,20</td>\n",
       "      <td>Veículo Comercial 10 eixos</td>\n",
       "      <td>COMERCIAL</td>\n",
       "      <td>NaN</td>\n",
       "      <td>10,00</td>\n",
       "      <td>0,00</td>\n",
       "      <td>N/I</td>\n",
       "    </tr>\n",
       "    <tr>\n",
       "      <th>126012</th>\n",
       "      <td>ECOSUL</td>\n",
       "      <td>01/11/2023</td>\n",
       "      <td>Decrescente</td>\n",
       "      <td>Praça 01 BR-116/RS km 430,79</td>\n",
       "      <td>Categoria 9</td>\n",
       "      <td>Moto</td>\n",
       "      <td>NaN</td>\n",
       "      <td>0,50</td>\n",
       "      <td>0,00</td>\n",
       "      <td>N/I</td>\n",
       "    </tr>\n",
       "    <tr>\n",
       "      <th>121027</th>\n",
       "      <td>ECO050</td>\n",
       "      <td>01/11/2023</td>\n",
       "      <td>Decrescente</td>\n",
       "      <td>Praça 04 BR-050/MG km 51,50</td>\n",
       "      <td>Veículo Comercial Acima 10 eixos</td>\n",
       "      <td>Comercial</td>\n",
       "      <td>NaN</td>\n",
       "      <td>10,00</td>\n",
       "      <td>0,00</td>\n",
       "      <td>N/I</td>\n",
       "    </tr>\n",
       "    <tr>\n",
       "      <th>121131</th>\n",
       "      <td>ECO050</td>\n",
       "      <td>01/12/2023</td>\n",
       "      <td>Decrescente</td>\n",
       "      <td>Praça 02 BR-050/GO km 226,00</td>\n",
       "      <td>Veículo Comercial Acima 10 eixos</td>\n",
       "      <td>Comercial</td>\n",
       "      <td>NaN</td>\n",
       "      <td>10,00</td>\n",
       "      <td>0,00</td>\n",
       "      <td>N/I</td>\n",
       "    </tr>\n",
       "    <tr>\n",
       "      <th>130333</th>\n",
       "      <td>ECOVIAS DO CERRADO</td>\n",
       "      <td>01/08/2023</td>\n",
       "      <td>Crescente</td>\n",
       "      <td>P3 - ITUIUTABA</td>\n",
       "      <td>Veículo Comercial Acima 10 eixos</td>\n",
       "      <td>Comercial</td>\n",
       "      <td>NaN</td>\n",
       "      <td>10,00</td>\n",
       "      <td>0,00</td>\n",
       "      <td>N/I</td>\n",
       "    </tr>\n",
       "    <tr>\n",
       "      <th>120650</th>\n",
       "      <td>ECO050</td>\n",
       "      <td>01/09/2023</td>\n",
       "      <td>Crescente</td>\n",
       "      <td>Praça 02 BR-050/GO km 226,00</td>\n",
       "      <td>Veículo Comercial Acima 10 eixos</td>\n",
       "      <td>Comercial</td>\n",
       "      <td>NaN</td>\n",
       "      <td>10,00</td>\n",
       "      <td>0,00</td>\n",
       "      <td>N/I</td>\n",
       "    </tr>\n",
       "    <tr>\n",
       "      <th>135991</th>\n",
       "      <td>RIOSP</td>\n",
       "      <td>01/08/2023</td>\n",
       "      <td>Crescente</td>\n",
       "      <td>Praça 08 BR-116/SP km 205,00</td>\n",
       "      <td>Categoria 7</td>\n",
       "      <td>Comercial</td>\n",
       "      <td>NaN</td>\n",
       "      <td>5,00</td>\n",
       "      <td>0,00</td>\n",
       "      <td>N/I</td>\n",
       "    </tr>\n",
       "    <tr>\n",
       "      <th>122940</th>\n",
       "      <td>ECOPONTE</td>\n",
       "      <td>01/02/2023</td>\n",
       "      <td>Decrescente</td>\n",
       "      <td>Praça 01 BR-101/RJ km 322,20</td>\n",
       "      <td>Veículo Comercial 10 eixos</td>\n",
       "      <td>Comercial</td>\n",
       "      <td>NaN</td>\n",
       "      <td>10,00</td>\n",
       "      <td>0,00</td>\n",
       "      <td>N/I</td>\n",
       "    </tr>\n",
       "    <tr>\n",
       "      <th>130918</th>\n",
       "      <td>ECOVIAS DO CERRADO</td>\n",
       "      <td>01/11/2023</td>\n",
       "      <td>Decrescente</td>\n",
       "      <td>P4 - SANTA VITÓRIA</td>\n",
       "      <td>Veículo Comercial Acima 10 eixos</td>\n",
       "      <td>Comercial</td>\n",
       "      <td>NaN</td>\n",
       "      <td>10,00</td>\n",
       "      <td>0,00</td>\n",
       "      <td>N/I</td>\n",
       "    </tr>\n",
       "  </tbody>\n",
       "</table>\n",
       "</div>"
      ],
      "text/plain": [
       "            concessionaria     mes_ano      sentido  \\\n",
       "123024            ECOPONTE  01/08/2023  Decrescente   \n",
       "126012              ECOSUL  01/11/2023  Decrescente   \n",
       "121027              ECO050  01/11/2023  Decrescente   \n",
       "121131              ECO050  01/12/2023  Decrescente   \n",
       "130333  ECOVIAS DO CERRADO  01/08/2023    Crescente   \n",
       "120650              ECO050  01/09/2023    Crescente   \n",
       "135991               RIOSP  01/08/2023    Crescente   \n",
       "122940            ECOPONTE  01/02/2023  Decrescente   \n",
       "130918  ECOVIAS DO CERRADO  01/11/2023  Decrescente   \n",
       "\n",
       "                               praca                         categoria  \\\n",
       "123024  Praça 01 BR-101/RJ km 322,20       Veículo Comercial 10 eixos    \n",
       "126012  Praça 01 BR-116/RS km 430,79                       Categoria 9   \n",
       "121027   Praça 04 BR-050/MG km 51,50  Veículo Comercial Acima 10 eixos   \n",
       "121131  Praça 02 BR-050/GO km 226,00  Veículo Comercial Acima 10 eixos   \n",
       "130333                P3 - ITUIUTABA  Veículo Comercial Acima 10 eixos   \n",
       "120650  Praça 02 BR-050/GO km 226,00  Veículo Comercial Acima 10 eixos   \n",
       "135991  Praça 08 BR-116/SP km 205,00                       Categoria 7   \n",
       "122940  Praça 01 BR-101/RJ km 322,20        Veículo Comercial 10 eixos   \n",
       "130918            P4 - SANTA VITÓRIA  Veículo Comercial Acima 10 eixos   \n",
       "\n",
       "       tipo_de_veiculo volume_total multiplicador_de_tarifa  \\\n",
       "123024       COMERCIAL          NaN                   10,00   \n",
       "126012            Moto          NaN                    0,50   \n",
       "121027       Comercial          NaN                   10,00   \n",
       "121131       Comercial          NaN                   10,00   \n",
       "130333       Comercial          NaN                   10,00   \n",
       "120650       Comercial          NaN                   10,00   \n",
       "135991       Comercial          NaN                    5,00   \n",
       "122940       Comercial          NaN                   10,00   \n",
       "130918       Comercial          NaN                   10,00   \n",
       "\n",
       "       volume_veiculo_equivalente tipo_de_cobranca  \n",
       "123024                       0,00              N/I  \n",
       "126012                       0,00              N/I  \n",
       "121027                       0,00              N/I  \n",
       "121131                       0,00              N/I  \n",
       "130333                       0,00              N/I  \n",
       "120650                       0,00              N/I  \n",
       "135991                       0,00              N/I  \n",
       "122940                       0,00              N/I  \n",
       "130918                       0,00              N/I  "
      ]
     },
     "execution_count": 10,
     "metadata": {},
     "output_type": "execute_result"
    }
   ],
   "source": [
    "df_trafego[df_trafego['volume_total'].isna()].sample(9)"
   ]
  },
  {
   "cell_type": "code",
   "execution_count": 11,
   "id": "c0eb184b-ce91-429c-bc8b-4abac18cf9d2",
   "metadata": {
    "execution": {
     "iopub.execute_input": "2024-08-29T20:14:19.590685Z",
     "iopub.status.busy": "2024-08-29T20:14:19.590312Z",
     "iopub.status.idle": "2024-08-29T20:14:19.706278Z",
     "shell.execute_reply": "2024-08-29T20:14:19.704871Z",
     "shell.execute_reply.started": "2024-08-29T20:14:19.590648Z"
    },
    "tags": []
   },
   "outputs": [
    {
     "data": {
      "text/plain": [
       "array(['0,00'], dtype=object)"
      ]
     },
     "execution_count": 11,
     "metadata": {},
     "output_type": "execute_result"
    }
   ],
   "source": [
    "df_trafego[df_trafego['volume_total'].isna()]['volume_veiculo_equivalente'].unique()"
   ]
  },
  {
   "cell_type": "code",
   "execution_count": 12,
   "id": "b455acf7-a4bf-4af3-b96d-e8fa9b687001",
   "metadata": {
    "execution": {
     "iopub.execute_input": "2024-08-29T20:14:19.708304Z",
     "iopub.status.busy": "2024-08-29T20:14:19.707965Z",
     "iopub.status.idle": "2024-08-29T20:14:20.859456Z",
     "shell.execute_reply": "2024-08-29T20:14:20.858195Z",
     "shell.execute_reply.started": "2024-08-29T20:14:19.708266Z"
    },
    "tags": []
   },
   "outputs": [
    {
     "data": {
      "text/plain": [
       "array(['01', '14', '28', '31', '30', '02', '03', '04', '05', '06', '07',\n",
       "       '08', '09', '10', '11', '12', '13', '15', '16', '17', '18', '19',\n",
       "       '20', '21', '22', '23', '24', '25', '26', '27', '29'], dtype=object)"
      ]
     },
     "execution_count": 12,
     "metadata": {},
     "output_type": "execute_result"
    }
   ],
   "source": [
    "df_trafego['mes_ano'].str[:2].unique()"
   ]
  },
  {
   "cell_type": "code",
   "execution_count": 13,
   "id": "8bd3362a-3ca0-4b08-bec7-8bf7db6a5060",
   "metadata": {
    "execution": {
     "iopub.execute_input": "2024-08-29T20:14:20.861393Z",
     "iopub.status.busy": "2024-08-29T20:14:20.860977Z",
     "iopub.status.idle": "2024-08-29T20:14:22.009362Z",
     "shell.execute_reply": "2024-08-29T20:14:22.007996Z",
     "shell.execute_reply.started": "2024-08-29T20:14:20.861337Z"
    },
    "tags": []
   },
   "outputs": [
    {
     "data": {
      "text/plain": [
       "array(['01', '02', '03', '04', '05', '06', '07', '08', '09', '10', '11',\n",
       "       '12'], dtype=object)"
      ]
     },
     "execution_count": 13,
     "metadata": {},
     "output_type": "execute_result"
    }
   ],
   "source": [
    "df_trafego['mes_ano'].str[3:5].unique()"
   ]
  },
  {
   "cell_type": "code",
   "execution_count": 14,
   "id": "8453ca06-ce7b-47b5-afe4-1dcf7ff131da",
   "metadata": {
    "execution": {
     "iopub.execute_input": "2024-08-29T20:14:22.011280Z",
     "iopub.status.busy": "2024-08-29T20:14:22.010948Z",
     "iopub.status.idle": "2024-08-29T20:14:22.124985Z",
     "shell.execute_reply": "2024-08-29T20:14:22.123760Z",
     "shell.execute_reply.started": "2024-08-29T20:14:22.011244Z"
    },
    "tags": []
   },
   "outputs": [
    {
     "data": {
      "text/plain": [
       "array([nan, 'N/I', 'Manual', 'Automática', 'Mista'], dtype=object)"
      ]
     },
     "execution_count": 14,
     "metadata": {},
     "output_type": "execute_result"
    }
   ],
   "source": [
    "df_trafego['tipo_de_cobranca'].unique()"
   ]
  },
  {
   "cell_type": "code",
   "execution_count": 15,
   "id": "60e95d5f-cf18-4ce0-bea5-a7f2037bd499",
   "metadata": {
    "execution": {
     "iopub.execute_input": "2024-08-29T20:14:22.129717Z",
     "iopub.status.busy": "2024-08-29T20:14:22.129342Z",
     "iopub.status.idle": "2024-08-29T20:14:22.244090Z",
     "shell.execute_reply": "2024-08-29T20:14:22.242674Z",
     "shell.execute_reply.started": "2024-08-29T20:14:22.129680Z"
    },
    "tags": []
   },
   "outputs": [
    {
     "data": {
      "text/plain": [
       "np.True_"
      ]
     },
     "execution_count": 15,
     "metadata": {},
     "output_type": "execute_result"
    }
   ],
   "source": [
    "df_trafego['volume_total'].isna().any()"
   ]
  },
  {
   "cell_type": "code",
   "execution_count": 16,
   "id": "ffb13d6e-a38b-4448-ac2a-18bbc4fb5806",
   "metadata": {
    "execution": {
     "iopub.execute_input": "2024-08-29T20:14:22.247405Z",
     "iopub.status.busy": "2024-08-29T20:14:22.246703Z",
     "iopub.status.idle": "2024-08-29T20:14:22.362758Z",
     "shell.execute_reply": "2024-08-29T20:14:22.361849Z",
     "shell.execute_reply.started": "2024-08-29T20:14:22.247338Z"
    },
    "tags": []
   },
   "outputs": [
    {
     "data": {
      "text/plain": [
       "np.int64(344)"
      ]
     },
     "execution_count": 16,
     "metadata": {},
     "output_type": "execute_result"
    }
   ],
   "source": [
    "df_trafego['volume_total'].isna().sum()"
   ]
  },
  {
   "cell_type": "code",
   "execution_count": 17,
   "id": "f1c1d921-77c0-4909-ab78-8f4be88a7680",
   "metadata": {
    "execution": {
     "iopub.execute_input": "2024-08-29T20:14:22.365164Z",
     "iopub.status.busy": "2024-08-29T20:14:22.364488Z",
     "iopub.status.idle": "2024-08-29T20:14:22.480397Z",
     "shell.execute_reply": "2024-08-29T20:14:22.479212Z",
     "shell.execute_reply.started": "2024-08-29T20:14:22.365125Z"
    },
    "tags": []
   },
   "outputs": [
    {
     "data": {
      "text/plain": [
       "array(['1', '2', '1,5', '3', '4', '5', '6', '0,5', '7', '8', '9', '10',\n",
       "       1.0, 2.0, 1.5, 3.0, 4.0, 5.0, 6.0, 0.5, 7.0, 8.0, 9.0, 10.0,\n",
       "       '2,00', '3,00', '4,00', '5,00', '6,00', '0,50', '1,00', '1,50',\n",
       "       '7,00', '8,00', '9,00', '10,00', '0,00', '11,00', '13,00', '15,00',\n",
       "       '12,00', '14,00', '18,00', '20,00', '16,00', '17,00', '19,00'],\n",
       "      dtype=object)"
      ]
     },
     "execution_count": 17,
     "metadata": {},
     "output_type": "execute_result"
    }
   ],
   "source": [
    "df_trafego['multiplicador_de_tarifa'].unique()"
   ]
  },
  {
   "cell_type": "markdown",
   "id": "3dd3548c-f263-4ffc-9527-5344610ef315",
   "metadata": {},
   "source": [
    "# Tratamento dos dados"
   ]
  },
  {
   "cell_type": "code",
   "execution_count": 18,
   "id": "f051ad20-c663-4a8d-925b-549e436eb4c9",
   "metadata": {
    "execution": {
     "iopub.execute_input": "2024-08-29T20:14:22.482414Z",
     "iopub.status.busy": "2024-08-29T20:14:22.482057Z",
     "iopub.status.idle": "2024-08-29T20:14:26.530271Z",
     "shell.execute_reply": "2024-08-29T20:14:26.528852Z",
     "shell.execute_reply.started": "2024-08-29T20:14:22.482362Z"
    },
    "tags": []
   },
   "outputs": [],
   "source": [
    "# Colunas de ano, mes e dia\n",
    "df_trafego['year'] = df_trafego['mes_ano'].str[-4:].astype('int') \n",
    "df_trafego['month'] = df_trafego['mes_ano'].str[3:5].astype('int')\n",
    "df_trafego['day'] = df_trafego['mes_ano'].str[:2].astype('int') "
   ]
  },
  {
   "cell_type": "code",
   "execution_count": 19,
   "id": "67124ec5-e152-49d4-b303-9cbb11927cb3",
   "metadata": {
    "execution": {
     "iopub.execute_input": "2024-08-29T20:14:26.532504Z",
     "iopub.status.busy": "2024-08-29T20:14:26.532047Z",
     "iopub.status.idle": "2024-08-29T20:14:27.722054Z",
     "shell.execute_reply": "2024-08-29T20:14:27.720873Z",
     "shell.execute_reply.started": "2024-08-29T20:14:26.532455Z"
    },
    "tags": []
   },
   "outputs": [],
   "source": [
    "# Recriando a coluna de mes_ano, agora como datetime ao invés de string. Tem que ser em ingles pq a função do pandas exige\n",
    "df_trafego['mes_ano'] = pd.to_datetime(df_trafego[['year', 'month', 'day']]).dt.date"
   ]
  },
  {
   "cell_type": "code",
   "execution_count": 20,
   "id": "5fae9658-dc43-433c-89c9-2395145471de",
   "metadata": {
    "execution": {
     "iopub.execute_input": "2024-08-29T20:14:27.723900Z",
     "iopub.status.busy": "2024-08-29T20:14:27.723565Z",
     "iopub.status.idle": "2024-08-29T20:14:27.966138Z",
     "shell.execute_reply": "2024-08-29T20:14:27.964657Z",
     "shell.execute_reply.started": "2024-08-29T20:14:27.723863Z"
    },
    "tags": []
   },
   "outputs": [],
   "source": [
    "# preenchendo os NaNs, qdo aplicável:\n",
    "df_trafego['volume_total'] = df_trafego['volume_total'].fillna(0) #o volume equivalente é zero sempre que volume_total é zero"
   ]
  },
  {
   "cell_type": "code",
   "execution_count": 21,
   "id": "6c57331f-cb3d-4adc-9d3c-ef37432f4801",
   "metadata": {
    "execution": {
     "iopub.execute_input": "2024-08-29T20:14:27.968266Z",
     "iopub.status.busy": "2024-08-29T20:14:27.967893Z",
     "iopub.status.idle": "2024-08-29T20:14:33.566137Z",
     "shell.execute_reply": "2024-08-29T20:14:33.564597Z",
     "shell.execute_reply.started": "2024-08-29T20:14:27.968224Z"
    },
    "tags": []
   },
   "outputs": [],
   "source": [
    "# Convertendo os tipos de dados para numéricos:\n",
    "df_trafego['volume_total'] = df_trafego['volume_total'].apply(lambda x: x.replace(',','.') if type(x) == str else x)\n",
    "df_trafego['volume_total'] = df_trafego['volume_total'].apply(lambda x: x.split('.')[0] if type(x) == str else x)\n",
    "df_trafego['volume_total'] = df_trafego['volume_total'].astype('int')\n",
    "\n",
    "df_trafego['volume_veiculo_equivalente'] = df_trafego['volume_veiculo_equivalente'].apply(lambda x: x.replace(',','.') if type(x) == str else x)\n",
    "df_trafego['volume_veiculo_equivalente'] = df_trafego['volume_veiculo_equivalente'].astype('float') # existe multiplicador de tarifa fracionário"
   ]
  },
  {
   "cell_type": "code",
   "execution_count": 22,
   "id": "20231a8a-8ab4-41b5-bd87-db645b34cfd5",
   "metadata": {
    "execution": {
     "iopub.execute_input": "2024-08-29T20:14:33.569604Z",
     "iopub.status.busy": "2024-08-29T20:14:33.568346Z",
     "iopub.status.idle": "2024-08-29T20:14:33.691536Z",
     "shell.execute_reply": "2024-08-29T20:14:33.690018Z",
     "shell.execute_reply.started": "2024-08-29T20:14:33.569545Z"
    },
    "tags": []
   },
   "outputs": [],
   "source": [
    "# convertendo categoria para string (do contrário não salva para parquet):\n",
    "df_trafego['categoria'] = df_trafego['categoria'].astype('string')"
   ]
  },
  {
   "cell_type": "code",
   "execution_count": 23,
   "id": "a570f4b8-a68e-47a9-8d5c-ec56f6e8086c",
   "metadata": {
    "execution": {
     "iopub.execute_input": "2024-08-29T20:14:33.693436Z",
     "iopub.status.busy": "2024-08-29T20:14:33.693051Z",
     "iopub.status.idle": "2024-08-29T20:14:36.700110Z",
     "shell.execute_reply": "2024-08-29T20:14:36.698758Z",
     "shell.execute_reply.started": "2024-08-29T20:14:33.693397Z"
    },
    "tags": []
   },
   "outputs": [],
   "source": [
    "# convertendo o multiplicador de tarifa de string para decimal (p/manter a precisao):\n",
    "df_trafego['multiplicador_de_tarifa'] = df_trafego['multiplicador_de_tarifa'].apply(lambda x: x.replace(',','.') if type(x) == str else x)\n",
    "df_trafego['multiplicador_de_tarifa'] = df_trafego['multiplicador_de_tarifa'].apply(Decimal)"
   ]
  },
  {
   "cell_type": "code",
   "execution_count": 24,
   "id": "697d05b6-6346-4a0e-a2c5-2cfd71ccd016",
   "metadata": {
    "execution": {
     "iopub.execute_input": "2024-08-29T20:14:36.701982Z",
     "iopub.status.busy": "2024-08-29T20:14:36.701629Z",
     "iopub.status.idle": "2024-08-29T20:14:37.586664Z",
     "shell.execute_reply": "2024-08-29T20:14:37.585593Z",
     "shell.execute_reply.started": "2024-08-29T20:14:36.701945Z"
    },
    "tags": []
   },
   "outputs": [],
   "source": [
    "# O tipo de tráfego ora está em maisúcula, ora em minúscula.\n",
    "# Colocando tudo p/maiúscula\n",
    "df_trafego['tipo_de_veiculo'] = df_trafego['tipo_de_veiculo'].str.upper()"
   ]
  },
  {
   "cell_type": "code",
   "execution_count": 25,
   "id": "b91a6a8d-2fa9-4c7e-8e1a-68097e4eeb46",
   "metadata": {
    "execution": {
     "iopub.execute_input": "2024-08-29T20:14:37.589196Z",
     "iopub.status.busy": "2024-08-29T20:14:37.588083Z",
     "iopub.status.idle": "2024-08-29T20:14:38.560238Z",
     "shell.execute_reply": "2024-08-29T20:14:38.558579Z",
     "shell.execute_reply.started": "2024-08-29T20:14:37.589151Z"
    },
    "tags": []
   },
   "outputs": [],
   "source": [
    "# algumas concessionárias estão ora em maiúsculas ora em minúsculas\n",
    "# colocando tudo para maiúscula\n",
    "df_trafego['concessionaria'] = df_trafego['concessionaria'].str.upper()"
   ]
  },
  {
   "cell_type": "code",
   "execution_count": 26,
   "id": "21713dd4-7ebd-4409-8deb-494dff59a52c",
   "metadata": {
    "execution": {
     "iopub.execute_input": "2024-08-29T20:14:38.563309Z",
     "iopub.status.busy": "2024-08-29T20:14:38.562734Z",
     "iopub.status.idle": "2024-08-29T20:14:38.576800Z",
     "shell.execute_reply": "2024-08-29T20:14:38.575456Z",
     "shell.execute_reply.started": "2024-08-29T20:14:38.563271Z"
    },
    "tags": []
   },
   "outputs": [
    {
     "name": "stdout",
     "output_type": "stream",
     "text": [
      "<class 'pandas.core.frame.DataFrame'>\n",
      "Index: 3000353 entries, 0 to 2329761\n",
      "Data columns (total 13 columns):\n",
      " #   Column                      Dtype  \n",
      "---  ------                      -----  \n",
      " 0   concessionaria              object \n",
      " 1   mes_ano                     object \n",
      " 2   sentido                     object \n",
      " 3   praca                       object \n",
      " 4   categoria                   string \n",
      " 5   tipo_de_veiculo             object \n",
      " 6   volume_total                int64  \n",
      " 7   multiplicador_de_tarifa     object \n",
      " 8   volume_veiculo_equivalente  float64\n",
      " 9   tipo_de_cobranca            object \n",
      " 10  year                        int64  \n",
      " 11  month                       int64  \n",
      " 12  day                         int64  \n",
      "dtypes: float64(1), int64(4), object(7), string(1)\n",
      "memory usage: 320.5+ MB\n"
     ]
    }
   ],
   "source": [
    "df_trafego.info()"
   ]
  },
  {
   "cell_type": "code",
   "execution_count": 27,
   "id": "8bf6bfb2-3415-4306-be98-5ffe1dfabb72",
   "metadata": {
    "execution": {
     "iopub.execute_input": "2024-08-29T20:14:38.578133Z",
     "iopub.status.busy": "2024-08-29T20:14:38.577795Z",
     "iopub.status.idle": "2024-08-29T20:14:38.615839Z",
     "shell.execute_reply": "2024-08-29T20:14:38.613742Z",
     "shell.execute_reply.started": "2024-08-29T20:14:38.578097Z"
    },
    "tags": []
   },
   "outputs": [
    {
     "data": {
      "text/plain": [
       "array([2010, 2011, 2012, 2013, 2014, 2015, 2016, 2017, 2018, 2019, 2020,\n",
       "       2021, 2022, 2023, 2024])"
      ]
     },
     "execution_count": 27,
     "metadata": {},
     "output_type": "execute_result"
    }
   ],
   "source": [
    "df_trafego['year'].unique()"
   ]
  },
  {
   "cell_type": "code",
   "execution_count": 28,
   "id": "923b6979-a809-448d-8a28-b79546e40f59",
   "metadata": {
    "execution": {
     "iopub.execute_input": "2024-08-29T20:14:38.618735Z",
     "iopub.status.busy": "2024-08-29T20:14:38.618059Z",
     "iopub.status.idle": "2024-08-29T20:14:39.398013Z",
     "shell.execute_reply": "2024-08-29T20:14:39.396920Z",
     "shell.execute_reply.started": "2024-08-29T20:14:38.618695Z"
    },
    "tags": []
   },
   "outputs": [
    {
     "data": {
      "text/plain": [
       "array([1, 2, 3, 4, 5, 6])"
      ]
     },
     "execution_count": 28,
     "metadata": {},
     "output_type": "execute_result"
    }
   ],
   "source": [
    "df_trafego.query(\"year == 2024\")['month'].unique()"
   ]
  },
  {
   "cell_type": "markdown",
   "id": "a051f403-674a-48e9-b2b1-56ea297d48a3",
   "metadata": {},
   "source": [
    "## Criando coluna desambiguando categorias comercial x passeio"
   ]
  },
  {
   "cell_type": "code",
   "execution_count": 29,
   "id": "cf5a5255-4914-47f2-8033-6724d83ef71b",
   "metadata": {
    "execution": {
     "iopub.execute_input": "2024-08-29T20:14:43.096523Z",
     "iopub.status.busy": "2024-08-29T20:14:43.096026Z",
     "iopub.status.idle": "2024-08-29T20:14:43.321979Z",
     "shell.execute_reply": "2024-08-29T20:14:43.320773Z",
     "shell.execute_reply.started": "2024-08-29T20:14:43.096484Z"
    },
    "tags": []
   },
   "outputs": [
    {
     "data": {
      "text/plain": [
       "array(['PASSEIO', 'COMERCIAL', 'MOTO', 'VEÍCULO PEQUENO'], dtype=object)"
      ]
     },
     "execution_count": 29,
     "metadata": {},
     "output_type": "execute_result"
    }
   ],
   "source": [
    "df_trafego['tipo_de_veiculo'].unique()"
   ]
  },
  {
   "cell_type": "code",
   "execution_count": 30,
   "id": "f490e0ed-b6b8-4e97-b659-39d32cf578ae",
   "metadata": {
    "execution": {
     "iopub.execute_input": "2024-08-29T20:14:43.669872Z",
     "iopub.status.busy": "2024-08-29T20:14:43.668232Z",
     "iopub.status.idle": "2024-08-29T20:14:44.385567Z",
     "shell.execute_reply": "2024-08-29T20:14:44.384432Z",
     "shell.execute_reply.started": "2024-08-29T20:14:43.669830Z"
    },
    "tags": []
   },
   "outputs": [],
   "source": [
    "df_trafego[\"TIPO_TRAFEGO\"] = df_trafego['tipo_de_veiculo'].apply(lambda x: x if x == \"COMERCIAL\" else \"PASSEIO\")"
   ]
  },
  {
   "cell_type": "code",
   "execution_count": 31,
   "id": "e237a2f8-7d4b-468f-9bf3-56e4af37fcbd",
   "metadata": {
    "execution": {
     "iopub.execute_input": "2024-08-29T20:14:44.388545Z",
     "iopub.status.busy": "2024-08-29T20:14:44.387501Z",
     "iopub.status.idle": "2024-08-29T20:14:44.626347Z",
     "shell.execute_reply": "2024-08-29T20:14:44.625163Z",
     "shell.execute_reply.started": "2024-08-29T20:14:44.388505Z"
    },
    "tags": []
   },
   "outputs": [
    {
     "data": {
      "text/plain": [
       "array(['PASSEIO', 'COMERCIAL'], dtype=object)"
      ]
     },
     "execution_count": 31,
     "metadata": {},
     "output_type": "execute_result"
    }
   ],
   "source": [
    "df_trafego[\"TIPO_TRAFEGO\"].unique()"
   ]
  },
  {
   "cell_type": "markdown",
   "id": "679e22fb-6baf-465e-ab85-1780da58255d",
   "metadata": {},
   "source": [
    "## Criando colunas com trafégo em Veqs para comercial e passeio"
   ]
  },
  {
   "cell_type": "code",
   "execution_count": 32,
   "id": "b8ff717e-9467-4368-9bfe-da6d7eb99b07",
   "metadata": {
    "execution": {
     "iopub.execute_input": "2024-08-29T20:14:44.848071Z",
     "iopub.status.busy": "2024-08-29T20:14:44.847494Z",
     "iopub.status.idle": "2024-08-29T20:14:47.311236Z",
     "shell.execute_reply": "2024-08-29T20:14:47.309833Z",
     "shell.execute_reply.started": "2024-08-29T20:14:44.848031Z"
    },
    "tags": []
   },
   "outputs": [],
   "source": [
    "df_trafego = df_trafego.rename(columns={'volume_veiculo_equivalente':'VEQS_TOTAL'})\n",
    "df_trafego['VEQS_COMERCIAL'] = np.where(\n",
    "    df_trafego['TIPO_TRAFEGO'] == 'COMERCIAL',\n",
    "    df_trafego['VEQS_TOTAL'],\n",
    "    0\n",
    ")\n",
    "df_trafego['VEQS_PASSEIO'] = np.where(\n",
    "    df_trafego['TIPO_TRAFEGO'] == 'PASSEIO',\n",
    "    df_trafego['VEQS_TOTAL'],\n",
    "    0\n",
    ")"
   ]
  },
  {
   "cell_type": "markdown",
   "id": "6eb69752-50ea-4ed4-b052-3e93dbde2359",
   "metadata": {},
   "source": [
    "# Criando dataframe com o período inicial e final dos dados por concessionária"
   ]
  },
  {
   "cell_type": "code",
   "execution_count": 33,
   "id": "9c88ae9b-ba1f-4cb8-81f9-7e9af597b71e",
   "metadata": {
    "execution": {
     "iopub.execute_input": "2024-08-29T20:14:47.314109Z",
     "iopub.status.busy": "2024-08-29T20:14:47.313597Z",
     "iopub.status.idle": "2024-08-29T20:14:48.160116Z",
     "shell.execute_reply": "2024-08-29T20:14:48.158792Z",
     "shell.execute_reply.started": "2024-08-29T20:14:47.314070Z"
    },
    "tags": []
   },
   "outputs": [],
   "source": [
    "df_periodos = df_trafego.groupby('concessionaria').agg(\n",
    "    data_inicial=('mes_ano', 'min'),\n",
    "    data_final=('mes_ano', 'max')\n",
    ").reset_index()\n",
    "df_periodos['data_inicial'] = pd.to_datetime(df_periodos['data_inicial']).dt.date\n",
    "df_periodos['data_final'] = pd.to_datetime(df_periodos['data_final']).dt.date"
   ]
  },
  {
   "cell_type": "code",
   "execution_count": 34,
   "id": "631fee43-44f1-4af0-bef4-269bd9f261c3",
   "metadata": {
    "execution": {
     "iopub.execute_input": "2024-08-29T20:14:48.161876Z",
     "iopub.status.busy": "2024-08-29T20:14:48.161537Z",
     "iopub.status.idle": "2024-08-29T20:14:48.168951Z",
     "shell.execute_reply": "2024-08-29T20:14:48.168043Z",
     "shell.execute_reply.started": "2024-08-29T20:14:48.161840Z"
    },
    "tags": []
   },
   "outputs": [],
   "source": [
    "df_periodos.index = df_periodos['concessionaria']\n",
    "df_periodos = df_periodos.drop(columns=['concessionaria'])"
   ]
  },
  {
   "cell_type": "code",
   "execution_count": 35,
   "id": "ff4412de-e2db-46dd-86de-03e350024261",
   "metadata": {
    "execution": {
     "iopub.execute_input": "2024-08-29T20:14:48.912291Z",
     "iopub.status.busy": "2024-08-29T20:14:48.911712Z",
     "iopub.status.idle": "2024-08-29T20:14:48.918264Z",
     "shell.execute_reply": "2024-08-29T20:14:48.917158Z",
     "shell.execute_reply.started": "2024-08-29T20:14:48.912252Z"
    },
    "tags": []
   },
   "outputs": [],
   "source": [
    "df_periodos = df_periodos.sort_values(by='data_inicial', ascending=False)"
   ]
  },
  {
   "cell_type": "markdown",
   "id": "d4a56a76-9175-4683-96dd-3ec24f7c5e17",
   "metadata": {},
   "source": [
    "# Criando dataframes agrupando VEQs por ANO/concessionaria/tipo de trafego"
   ]
  },
  {
   "cell_type": "code",
   "execution_count": 36,
   "id": "daa64db4-4baf-4def-96eb-754a59be67d8",
   "metadata": {
    "execution": {
     "iopub.execute_input": "2024-08-29T20:14:49.544932Z",
     "iopub.status.busy": "2024-08-29T20:14:49.544410Z",
     "iopub.status.idle": "2024-08-29T20:14:49.553842Z",
     "shell.execute_reply": "2024-08-29T20:14:49.552285Z",
     "shell.execute_reply.started": "2024-08-29T20:14:49.544889Z"
    },
    "tags": []
   },
   "outputs": [
    {
     "data": {
      "text/plain": [
       "Index(['concessionaria', 'mes_ano', 'sentido', 'praca', 'categoria',\n",
       "       'tipo_de_veiculo', 'volume_total', 'multiplicador_de_tarifa',\n",
       "       'VEQS_TOTAL', 'tipo_de_cobranca', 'year', 'month', 'day',\n",
       "       'TIPO_TRAFEGO', 'VEQS_COMERCIAL', 'VEQS_PASSEIO'],\n",
       "      dtype='object')"
      ]
     },
     "execution_count": 36,
     "metadata": {},
     "output_type": "execute_result"
    }
   ],
   "source": [
    "df_trafego.columns"
   ]
  },
  {
   "cell_type": "code",
   "execution_count": 37,
   "id": "d50674a2-5e78-4c74-b726-dcb92013bdb0",
   "metadata": {
    "execution": {
     "iopub.execute_input": "2024-08-29T20:14:49.993778Z",
     "iopub.status.busy": "2024-08-29T20:14:49.993209Z",
     "iopub.status.idle": "2024-08-29T20:14:50.002555Z",
     "shell.execute_reply": "2024-08-29T20:14:50.001069Z",
     "shell.execute_reply.started": "2024-08-29T20:14:49.993738Z"
    },
    "tags": []
   },
   "outputs": [],
   "source": [
    "cols_veqs = ['VEQS_TOTAL','VEQS_COMERCIAL','VEQS_PASSEIO']"
   ]
  },
  {
   "cell_type": "code",
   "execution_count": 39,
   "id": "5bc113c9-f87f-4b65-a7c4-5006d68589a2",
   "metadata": {
    "execution": {
     "iopub.execute_input": "2024-08-29T20:15:07.923878Z",
     "iopub.status.busy": "2024-08-29T20:15:07.922529Z",
     "iopub.status.idle": "2024-08-29T20:15:09.462511Z",
     "shell.execute_reply": "2024-08-29T20:15:09.461334Z",
     "shell.execute_reply.started": "2024-08-29T20:15:07.923814Z"
    },
    "tags": []
   },
   "outputs": [],
   "source": [
    "dict_veqs = {}\n",
    "for col in cols_veqs:\n",
    "    dict_veqs[col] = df_trafego.pivot_table(\n",
    "        index='concessionaria',\n",
    "        columns='year',\n",
    "        values=col,\n",
    "        aggfunc='sum'\n",
    "        ).T"
   ]
  },
  {
   "cell_type": "markdown",
   "id": "d625db77-71d2-4333-b99b-4f4024437407",
   "metadata": {},
   "source": [
    "# Criando dataframes agrupando VEQs por MÊS/concessionaria/tipo de trafego"
   ]
  },
  {
   "cell_type": "code",
   "execution_count": 40,
   "id": "59b8cf1e-8e49-44eb-a917-6d78fb0033f6",
   "metadata": {
    "execution": {
     "iopub.execute_input": "2024-08-29T20:15:11.814238Z",
     "iopub.status.busy": "2024-08-29T20:15:11.813471Z",
     "iopub.status.idle": "2024-08-29T20:15:11.819441Z",
     "shell.execute_reply": "2024-08-29T20:15:11.818213Z",
     "shell.execute_reply.started": "2024-08-29T20:15:11.814196Z"
    },
    "tags": []
   },
   "outputs": [],
   "source": [
    "# Criando uma coluna agrupando todos os registros em um mes ano para o final do mes para groupby\n",
    "# df_trafego['MES_ANO_f'] = pd.to_datetime(df_trafego['mes_ano'], format='%m/%Y')\n",
    "# df_trafego['MES_ANO_f'] = df_trafego['MES_ANO_f'].dt.to_period('M').dt.to_timestamp('M').dt.date"
   ]
  },
  {
   "cell_type": "code",
   "execution_count": 41,
   "id": "0348a3c7-a13d-41bc-b436-6ef3d043ba73",
   "metadata": {
    "execution": {
     "iopub.execute_input": "2024-08-29T20:15:12.384716Z",
     "iopub.status.busy": "2024-08-29T20:15:12.384007Z",
     "iopub.status.idle": "2024-08-29T20:15:13.001918Z",
     "shell.execute_reply": "2024-08-29T20:15:12.999823Z",
     "shell.execute_reply.started": "2024-08-29T20:15:12.384675Z"
    },
    "tags": []
   },
   "outputs": [],
   "source": [
    "# Criando uma coluna agrupando todos os registros em um mes ano para o final do mes para groupby\n",
    "df_trafego['MES_ANO_f'] = pd.to_datetime(df_trafego['mes_ano'], format='%m/%Y')\n",
    "df_trafego['MES_ANO_f'] = df_trafego['MES_ANO_f'] + pd.offsets.MonthEnd(0)\n",
    "\n",
    "# df_trafego['MES_ANO_f'] = df_trafego['MES_ANO_f'].dt.date"
   ]
  },
  {
   "cell_type": "code",
   "execution_count": 42,
   "id": "7293e28f-ae40-4148-8802-62b6ac304a35",
   "metadata": {
    "execution": {
     "iopub.execute_input": "2024-08-29T20:15:18.554543Z",
     "iopub.status.busy": "2024-08-29T20:15:18.553092Z",
     "iopub.status.idle": "2024-08-29T20:15:19.985223Z",
     "shell.execute_reply": "2024-08-29T20:15:19.983860Z",
     "shell.execute_reply.started": "2024-08-29T20:15:18.554495Z"
    },
    "tags": []
   },
   "outputs": [],
   "source": [
    "dict_veqs_mensal = {}\n",
    "for col in cols_veqs:\n",
    "    dict_veqs_mensal[col] = df_trafego.pivot_table(\n",
    "        index='concessionaria',\n",
    "        columns='MES_ANO_f',\n",
    "        values=col,\n",
    "        aggfunc='sum'\n",
    "        ).T"
   ]
  },
  {
   "cell_type": "markdown",
   "id": "6c90ab55-71f1-4129-ac09-2617c0722e83",
   "metadata": {},
   "source": [
    "# Salvando p/parquet"
   ]
  },
  {
   "cell_type": "code",
   "execution_count": 43,
   "id": "3138fcdf-0e76-4d87-95ad-bd044cefbf8f",
   "metadata": {
    "execution": {
     "iopub.execute_input": "2024-08-29T20:15:20.801890Z",
     "iopub.status.busy": "2024-08-29T20:15:20.801182Z",
     "iopub.status.idle": "2024-08-29T20:15:32.610250Z",
     "shell.execute_reply": "2024-08-29T20:15:32.609035Z",
     "shell.execute_reply.started": "2024-08-29T20:15:20.801847Z"
    },
    "tags": []
   },
   "outputs": [],
   "source": [
    "# dataframe total\n",
    "# df_trafego.to_parquet(os.path.join(path_dados_derivados,'df_trafego.parquet'))\n",
    "df_trafego.to_parquet(path_output /'df_trafego.parquet')"
   ]
  },
  {
   "cell_type": "code",
   "execution_count": 44,
   "id": "dc5e978b-2ed4-4311-92ef-6a9836424ec6",
   "metadata": {
    "execution": {
     "iopub.execute_input": "2024-08-29T20:15:32.613504Z",
     "iopub.status.busy": "2024-08-29T20:15:32.613104Z",
     "iopub.status.idle": "2024-08-29T20:15:32.621128Z",
     "shell.execute_reply": "2024-08-29T20:15:32.620179Z",
     "shell.execute_reply.started": "2024-08-29T20:15:32.613463Z"
    },
    "tags": []
   },
   "outputs": [],
   "source": [
    "# data inicial e final\n",
    "df_periodos.to_parquet(path_output /'df_periodos.parquet')"
   ]
  },
  {
   "cell_type": "code",
   "execution_count": 45,
   "id": "eaf1133f-540b-4ad7-9d5d-a008f1d4ca36",
   "metadata": {
    "execution": {
     "iopub.execute_input": "2024-08-29T20:15:32.623053Z",
     "iopub.status.busy": "2024-08-29T20:15:32.622724Z",
     "iopub.status.idle": "2024-08-29T20:15:32.653104Z",
     "shell.execute_reply": "2024-08-29T20:15:32.651654Z",
     "shell.execute_reply.started": "2024-08-29T20:15:32.623016Z"
    },
    "tags": []
   },
   "outputs": [],
   "source": [
    "# dicionário com os dados de tráfego anuais:\n",
    "for veq in dict_veqs:\n",
    "    dict_veqs[veq].to_parquet(path_output / f'df_{veq}_anual.parquet')"
   ]
  },
  {
   "cell_type": "code",
   "execution_count": 46,
   "id": "cd64be80-e33b-4009-b2b6-c7d3abc42da7",
   "metadata": {
    "execution": {
     "iopub.execute_input": "2024-08-29T20:15:32.656907Z",
     "iopub.status.busy": "2024-08-29T20:15:32.656502Z",
     "iopub.status.idle": "2024-08-29T20:15:32.687589Z",
     "shell.execute_reply": "2024-08-29T20:15:32.686573Z",
     "shell.execute_reply.started": "2024-08-29T20:15:32.656849Z"
    },
    "tags": []
   },
   "outputs": [],
   "source": [
    "# dicionário com os dados de tráfego mensial:\n",
    "for veq in dict_veqs_mensal:\n",
    "    dict_veqs_mensal[veq].to_parquet(path_output / f'df_{veq}_mensal.parquet')"
   ]
  },
  {
   "cell_type": "markdown",
   "id": "3dd5690a-1f36-4de9-ace5-6f90ed976fd2",
   "metadata": {},
   "source": [
    "# Salvando p/Excel"
   ]
  },
  {
   "cell_type": "code",
   "execution_count": 47,
   "id": "5aa80b27-1e5f-46bc-a90d-cf4964847bf0",
   "metadata": {
    "execution": {
     "iopub.execute_input": "2024-08-29T20:15:32.689753Z",
     "iopub.status.busy": "2024-08-29T20:15:32.689235Z",
     "iopub.status.idle": "2024-08-29T20:15:32.961267Z",
     "shell.execute_reply": "2024-08-29T20:15:32.959792Z",
     "shell.execute_reply.started": "2024-08-29T20:15:32.689715Z"
    },
    "tags": []
   },
   "outputs": [],
   "source": [
    "# dados de tráfego anual\n",
    "with pd.ExcelWriter(path_output / 'dados_trafego_ANTT_anual.xlsx') as writer:\n",
    "    df_periodos.to_excel(writer, sheet_name=\"periodo_concessionarias\")\n",
    "    for veq in dict_veqs:\n",
    "        dict_veqs[veq].to_excel(writer, sheet_name=f\"{veq}\")"
   ]
  },
  {
   "cell_type": "code",
   "execution_count": 49,
   "id": "c32b406b-e0ba-43b0-b605-cbc6ba2bf521",
   "metadata": {
    "execution": {
     "iopub.execute_input": "2024-08-29T20:16:19.673745Z",
     "iopub.status.busy": "2024-08-29T20:16:19.673064Z",
     "iopub.status.idle": "2024-08-29T20:16:20.443017Z",
     "shell.execute_reply": "2024-08-29T20:16:20.441539Z",
     "shell.execute_reply.started": "2024-08-29T20:16:19.673688Z"
    }
   },
   "outputs": [],
   "source": [
    "# dados de tráfego anual\n",
    "with pd.ExcelWriter(path_output / 'dados_trafego_ANTT_mensal.xlsx') as writer:\n",
    "    df_periodos.to_excel(writer, sheet_name=\"periodo_concessionarias\")\n",
    "    for veq in dict_veqs_mensal:\n",
    "        dict_veqs_mensal[veq].to_excel(writer, sheet_name=f\"{veq}\")"
   ]
  },
  {
   "cell_type": "code",
   "execution_count": null,
   "id": "48c968b4-7a54-4a05-b55b-8e4ef9dfbbc8",
   "metadata": {},
   "outputs": [],
   "source": []
  },
  {
   "cell_type": "code",
   "execution_count": null,
   "id": "9c8eaa40-ab1f-46ba-a35d-ca8e20de31a5",
   "metadata": {},
   "outputs": [],
   "source": []
  }
 ],
 "metadata": {
  "kernelspec": {
   "display_name": "infra-data",
   "language": "python",
   "name": "infra-data"
  },
  "language_info": {
   "codemirror_mode": {
    "name": "ipython",
    "version": 3
   },
   "file_extension": ".py",
   "mimetype": "text/x-python",
   "name": "python",
   "nbconvert_exporter": "python",
   "pygments_lexer": "ipython3",
   "version": "3.9.16"
  }
 },
 "nbformat": 4,
 "nbformat_minor": 5
}
