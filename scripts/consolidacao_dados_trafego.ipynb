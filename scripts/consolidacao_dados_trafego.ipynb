{
 "cells": [
  {
   "cell_type": "markdown",
   "id": "7cd4eef4-cce0-440e-b843-22821262126e",
   "metadata": {},
   "source": [
    "# IMPORTS"
   ]
  },
  {
   "cell_type": "code",
   "execution_count": 1,
   "id": "b0bd2558-4df8-4da6-a0fb-e13700764450",
   "metadata": {
    "execution": {
     "iopub.execute_input": "2024-09-04T21:06:17.892493Z",
     "iopub.status.busy": "2024-09-04T21:06:17.891850Z",
     "iopub.status.idle": "2024-09-04T21:06:18.433302Z",
     "shell.execute_reply": "2024-09-04T21:06:18.431466Z",
     "shell.execute_reply.started": "2024-09-04T21:06:17.892440Z"
    },
    "tags": []
   },
   "outputs": [],
   "source": [
    "import pandas as pd\n",
    "import numpy as np\n",
    "import os\n",
    "from decimal import Decimal\n",
    "import pickle\n",
    "from pathlib import Path\n",
    "from datetime import timedelta\n",
    "pd.set_option('display.max_columns', None)\n",
    "import warnings\n",
    "warnings.filterwarnings('ignore')"
   ]
  },
  {
   "cell_type": "markdown",
   "id": "49a66ef9-139e-4255-b3c1-d6d6460caffe",
   "metadata": {
    "execution": {
     "iopub.execute_input": "2024-08-20T19:55:44.418829Z",
     "iopub.status.busy": "2024-08-20T19:55:44.417516Z",
     "iopub.status.idle": "2024-08-20T19:55:44.424840Z",
     "shell.execute_reply": "2024-08-20T19:55:44.422826Z",
     "shell.execute_reply.started": "2024-08-20T19:55:44.418787Z"
    }
   },
   "source": [
    "# SETUP"
   ]
  },
  {
   "cell_type": "code",
   "execution_count": 2,
   "id": "7eaa031d-d0d4-4d30-b804-cba265e680c3",
   "metadata": {
    "execution": {
     "iopub.execute_input": "2024-09-04T21:06:18.436917Z",
     "iopub.status.busy": "2024-09-04T21:06:18.435970Z",
     "iopub.status.idle": "2024-09-04T21:06:18.442992Z",
     "shell.execute_reply": "2024-09-04T21:06:18.441923Z",
     "shell.execute_reply.started": "2024-09-04T21:06:18.436875Z"
    },
    "tags": []
   },
   "outputs": [],
   "source": [
    "dir_tree_util_path = os.path.join(\"utils\", \"dir_tree.py\")\n",
    "exec(open(dir_tree_util_path).read())"
   ]
  },
  {
   "cell_type": "markdown",
   "id": "5e259d48-4151-4192-a50c-da058d8aaa7e",
   "metadata": {},
   "source": [
    "# INPUTS"
   ]
  },
  {
   "cell_type": "code",
   "execution_count": 3,
   "id": "31307c5f-d5d2-4adc-9fa3-3bbf19cf7121",
   "metadata": {
    "execution": {
     "iopub.execute_input": "2024-09-04T21:06:18.445581Z",
     "iopub.status.busy": "2024-09-04T21:06:18.444664Z",
     "iopub.status.idle": "2024-09-04T21:06:18.450174Z",
     "shell.execute_reply": "2024-09-04T21:06:18.449168Z",
     "shell.execute_reply.started": "2024-09-04T21:06:18.445545Z"
    },
    "tags": []
   },
   "outputs": [],
   "source": [
    "# Paths\n",
    "path_input = PROJECT_DIRS[\"DADOS_VEQ_ANTT_DIR\"]\n",
    "path_output = PROJECT_DIRS[\"DADOS_DERIVADOS_DIR\"]"
   ]
  },
  {
   "cell_type": "code",
   "execution_count": 4,
   "id": "79a367f1-c05e-47ae-81dc-64bf313cbbce",
   "metadata": {
    "execution": {
     "iopub.execute_input": "2024-09-04T21:06:18.452691Z",
     "iopub.status.busy": "2024-09-04T21:06:18.451711Z",
     "iopub.status.idle": "2024-09-04T21:06:18.457195Z",
     "shell.execute_reply": "2024-09-04T21:06:18.456181Z",
     "shell.execute_reply.started": "2024-09-04T21:06:18.452654Z"
    },
    "tags": []
   },
   "outputs": [],
   "source": [
    "periodo = list(range(2010, 2025))"
   ]
  },
  {
   "cell_type": "markdown",
   "id": "4227454c-3327-470a-92b4-35b111fe9c27",
   "metadata": {},
   "source": [
    "# Criando um dataframe consolidado com os dados de tráfego"
   ]
  },
  {
   "cell_type": "code",
   "execution_count": 5,
   "id": "3b658ece-7e95-46f0-9af1-dd47eb29a702",
   "metadata": {
    "execution": {
     "iopub.execute_input": "2024-09-04T21:06:18.462187Z",
     "iopub.status.busy": "2024-09-04T21:06:18.461237Z",
     "iopub.status.idle": "2024-09-04T21:06:18.466381Z",
     "shell.execute_reply": "2024-09-04T21:06:18.465422Z",
     "shell.execute_reply.started": "2024-09-04T21:06:18.462152Z"
    },
    "tags": []
   },
   "outputs": [],
   "source": [
    "# arquivos dos dados\n",
    "arquivos = os.listdir(path_input)"
   ]
  },
  {
   "cell_type": "code",
   "execution_count": 6,
   "id": "964fa4c0-5272-4ea5-ba8a-f8fd00296c3c",
   "metadata": {
    "execution": {
     "iopub.execute_input": "2024-09-04T21:06:18.469185Z",
     "iopub.status.busy": "2024-09-04T21:06:18.468442Z",
     "iopub.status.idle": "2024-09-04T21:06:25.323855Z",
     "shell.execute_reply": "2024-09-04T21:06:25.322845Z",
     "shell.execute_reply.started": "2024-09-04T21:06:18.469149Z"
    },
    "tags": []
   },
   "outputs": [],
   "source": [
    "df_trafego = pd.DataFrame()\n",
    "for ano in periodo:\n",
    "    arquivo = [a for a in arquivos if a[:-4].endswith(str(ano))][0]\n",
    "    df_ano = pd.read_csv(os.path.join(path_input, arquivo), sep=';', encoding='cp1252', low_memory=False)\n",
    "    df_trafego = pd.concat([df_trafego,df_ano])"
   ]
  },
  {
   "cell_type": "markdown",
   "id": "77d89742-3655-43ef-935c-b57c5a4456d9",
   "metadata": {},
   "source": [
    "# EDA Inicial"
   ]
  },
  {
   "cell_type": "code",
   "execution_count": 7,
   "id": "ffc68822-6798-45bb-a980-1691d74ad640",
   "metadata": {
    "execution": {
     "iopub.execute_input": "2024-09-04T21:06:25.325934Z",
     "iopub.status.busy": "2024-09-04T21:06:25.325332Z",
     "iopub.status.idle": "2024-09-04T21:06:25.350561Z",
     "shell.execute_reply": "2024-09-04T21:06:25.349651Z",
     "shell.execute_reply.started": "2024-09-04T21:06:25.325896Z"
    },
    "tags": []
   },
   "outputs": [
    {
     "data": {
      "text/html": [
       "<div>\n",
       "<style scoped>\n",
       "    .dataframe tbody tr th:only-of-type {\n",
       "        vertical-align: middle;\n",
       "    }\n",
       "\n",
       "    .dataframe tbody tr th {\n",
       "        vertical-align: top;\n",
       "    }\n",
       "\n",
       "    .dataframe thead th {\n",
       "        text-align: right;\n",
       "    }\n",
       "</style>\n",
       "<table border=\"1\" class=\"dataframe\">\n",
       "  <thead>\n",
       "    <tr style=\"text-align: right;\">\n",
       "      <th></th>\n",
       "      <th>concessionaria</th>\n",
       "      <th>mes_ano</th>\n",
       "      <th>sentido</th>\n",
       "      <th>praca</th>\n",
       "      <th>categoria</th>\n",
       "      <th>tipo_de_veiculo</th>\n",
       "      <th>volume_total</th>\n",
       "      <th>multiplicador_de_tarifa</th>\n",
       "      <th>volume_veiculo_equivalente</th>\n",
       "      <th>tipo_de_cobranca</th>\n",
       "    </tr>\n",
       "  </thead>\n",
       "  <tbody>\n",
       "    <tr>\n",
       "      <th>0</th>\n",
       "      <td>RODOVIA DO AÇO</td>\n",
       "      <td>01-01-2010</td>\n",
       "      <td>Decrescente</td>\n",
       "      <td>Praça 01  BR-393/RJ km 125,00</td>\n",
       "      <td>Categoria 1</td>\n",
       "      <td>Passeio</td>\n",
       "      <td>44146</td>\n",
       "      <td>1</td>\n",
       "      <td>44146</td>\n",
       "      <td>NaN</td>\n",
       "    </tr>\n",
       "    <tr>\n",
       "      <th>1</th>\n",
       "      <td>RODOVIA DO AÇO</td>\n",
       "      <td>01-01-2010</td>\n",
       "      <td>Crescente</td>\n",
       "      <td>Praça 01  BR-393/RJ km 125,00</td>\n",
       "      <td>Categoria 1</td>\n",
       "      <td>Passeio</td>\n",
       "      <td>35771</td>\n",
       "      <td>1</td>\n",
       "      <td>35771</td>\n",
       "      <td>NaN</td>\n",
       "    </tr>\n",
       "    <tr>\n",
       "      <th>2</th>\n",
       "      <td>RODOVIA DO AÇO</td>\n",
       "      <td>01-02-2010</td>\n",
       "      <td>Decrescente</td>\n",
       "      <td>Praça 01  BR-393/RJ km 125,00</td>\n",
       "      <td>Categoria 1</td>\n",
       "      <td>Passeio</td>\n",
       "      <td>33455</td>\n",
       "      <td>1</td>\n",
       "      <td>33455</td>\n",
       "      <td>NaN</td>\n",
       "    </tr>\n",
       "    <tr>\n",
       "      <th>3</th>\n",
       "      <td>RODOVIA DO AÇO</td>\n",
       "      <td>01-02-2010</td>\n",
       "      <td>Crescente</td>\n",
       "      <td>Praça 01  BR-393/RJ km 125,00</td>\n",
       "      <td>Categoria 1</td>\n",
       "      <td>Passeio</td>\n",
       "      <td>27109</td>\n",
       "      <td>1</td>\n",
       "      <td>27109</td>\n",
       "      <td>NaN</td>\n",
       "    </tr>\n",
       "    <tr>\n",
       "      <th>4</th>\n",
       "      <td>RODOVIA DO AÇO</td>\n",
       "      <td>01-03-2010</td>\n",
       "      <td>Decrescente</td>\n",
       "      <td>Praça 01  BR-393/RJ km 125,00</td>\n",
       "      <td>Categoria 1</td>\n",
       "      <td>Passeio</td>\n",
       "      <td>31677</td>\n",
       "      <td>1</td>\n",
       "      <td>31677</td>\n",
       "      <td>NaN</td>\n",
       "    </tr>\n",
       "  </tbody>\n",
       "</table>\n",
       "</div>"
      ],
      "text/plain": [
       "   concessionaria     mes_ano      sentido                          praca  \\\n",
       "0  RODOVIA DO AÇO  01-01-2010  Decrescente  Praça 01  BR-393/RJ km 125,00   \n",
       "1  RODOVIA DO AÇO  01-01-2010    Crescente  Praça 01  BR-393/RJ km 125,00   \n",
       "2  RODOVIA DO AÇO  01-02-2010  Decrescente  Praça 01  BR-393/RJ km 125,00   \n",
       "3  RODOVIA DO AÇO  01-02-2010    Crescente  Praça 01  BR-393/RJ km 125,00   \n",
       "4  RODOVIA DO AÇO  01-03-2010  Decrescente  Praça 01  BR-393/RJ km 125,00   \n",
       "\n",
       "     categoria tipo_de_veiculo volume_total multiplicador_de_tarifa  \\\n",
       "0  Categoria 1         Passeio        44146                       1   \n",
       "1  Categoria 1         Passeio        35771                       1   \n",
       "2  Categoria 1         Passeio        33455                       1   \n",
       "3  Categoria 1         Passeio        27109                       1   \n",
       "4  Categoria 1         Passeio        31677                       1   \n",
       "\n",
       "  volume_veiculo_equivalente tipo_de_cobranca  \n",
       "0                      44146              NaN  \n",
       "1                      35771              NaN  \n",
       "2                      33455              NaN  \n",
       "3                      27109              NaN  \n",
       "4                      31677              NaN  "
      ]
     },
     "execution_count": 7,
     "metadata": {},
     "output_type": "execute_result"
    }
   ],
   "source": [
    "df_trafego.head()"
   ]
  },
  {
   "cell_type": "code",
   "execution_count": 8,
   "id": "b6ec2aac-2b43-4f9c-b424-e579cceb667d",
   "metadata": {
    "execution": {
     "iopub.execute_input": "2024-09-04T21:06:25.352756Z",
     "iopub.status.busy": "2024-09-04T21:06:25.352169Z",
     "iopub.status.idle": "2024-09-04T21:06:25.515655Z",
     "shell.execute_reply": "2024-09-04T21:06:25.514710Z",
     "shell.execute_reply.started": "2024-09-04T21:06:25.352718Z"
    },
    "tags": []
   },
   "outputs": [
    {
     "data": {
      "text/plain": [
       "1057786    25/01/2024\n",
       "2065656    17/03/2024\n",
       "1831664    17/04/2024\n",
       "34616      01/06/2021\n",
       "242257     11/03/2024\n",
       "764703     15/04/2024\n",
       "13788      01/11/2019\n",
       "86407      01/12/2021\n",
       "41039      30/01/2024\n",
       "Name: mes_ano, dtype: object"
      ]
     },
     "execution_count": 8,
     "metadata": {},
     "output_type": "execute_result"
    }
   ],
   "source": [
    "# mes_ano na verdade é uma data\n",
    "df_trafego['mes_ano'].sample(9, random_state=3)"
   ]
  },
  {
   "cell_type": "code",
   "execution_count": 9,
   "id": "375aa237-e0b2-4a31-bcb1-ba4356cc4745",
   "metadata": {
    "execution": {
     "iopub.execute_input": "2024-09-04T21:06:25.517995Z",
     "iopub.status.busy": "2024-09-04T21:06:25.517193Z",
     "iopub.status.idle": "2024-09-04T21:06:25.531792Z",
     "shell.execute_reply": "2024-09-04T21:06:25.530428Z",
     "shell.execute_reply.started": "2024-09-04T21:06:25.517957Z"
    },
    "tags": []
   },
   "outputs": [
    {
     "name": "stdout",
     "output_type": "stream",
     "text": [
      "<class 'pandas.core.frame.DataFrame'>\n",
      "Index: 3000353 entries, 0 to 2329761\n",
      "Data columns (total 10 columns):\n",
      " #   Column                      Dtype \n",
      "---  ------                      ----- \n",
      " 0   concessionaria              object\n",
      " 1   mes_ano                     object\n",
      " 2   sentido                     object\n",
      " 3   praca                       object\n",
      " 4   categoria                   object\n",
      " 5   tipo_de_veiculo             object\n",
      " 6   volume_total                object\n",
      " 7   multiplicador_de_tarifa     object\n",
      " 8   volume_veiculo_equivalente  object\n",
      " 9   tipo_de_cobranca            object\n",
      "dtypes: object(10)\n",
      "memory usage: 251.8+ MB\n"
     ]
    }
   ],
   "source": [
    "df_trafego.info()"
   ]
  },
  {
   "cell_type": "code",
   "execution_count": 10,
   "id": "ded8067c-2413-44c0-88ca-9ff8d15084b1",
   "metadata": {
    "execution": {
     "iopub.execute_input": "2024-09-04T21:06:25.533976Z",
     "iopub.status.busy": "2024-09-04T21:06:25.533638Z",
     "iopub.status.idle": "2024-09-04T21:06:26.621518Z",
     "shell.execute_reply": "2024-09-04T21:06:26.620421Z",
     "shell.execute_reply.started": "2024-09-04T21:06:25.533941Z"
    },
    "tags": []
   },
   "outputs": [
    {
     "name": "stdout",
     "output_type": "stream",
     "text": [
      "concessionaria: 0\n",
      "mes_ano: 0\n",
      "sentido: 0\n",
      "praca: 0\n",
      "categoria: 0\n",
      "tipo_de_veiculo: 0\n",
      "volume_total: 344\n",
      "multiplicador_de_tarifa: 0\n",
      "volume_veiculo_equivalente: 0\n",
      "tipo_de_cobranca: 74780\n"
     ]
    }
   ],
   "source": [
    "for col in df_trafego:\n",
    "    print(f\"{col}: {df_trafego[col].isna().sum()}\")"
   ]
  },
  {
   "cell_type": "code",
   "execution_count": 11,
   "id": "dddf1952-8eca-459f-890b-90ada7d1bc14",
   "metadata": {
    "execution": {
     "iopub.execute_input": "2024-09-04T21:06:26.623798Z",
     "iopub.status.busy": "2024-09-04T21:06:26.622971Z",
     "iopub.status.idle": "2024-09-04T21:06:26.751497Z",
     "shell.execute_reply": "2024-09-04T21:06:26.750272Z",
     "shell.execute_reply.started": "2024-09-04T21:06:26.623761Z"
    },
    "tags": []
   },
   "outputs": [
    {
     "data": {
      "text/html": [
       "<div>\n",
       "<style scoped>\n",
       "    .dataframe tbody tr th:only-of-type {\n",
       "        vertical-align: middle;\n",
       "    }\n",
       "\n",
       "    .dataframe tbody tr th {\n",
       "        vertical-align: top;\n",
       "    }\n",
       "\n",
       "    .dataframe thead th {\n",
       "        text-align: right;\n",
       "    }\n",
       "</style>\n",
       "<table border=\"1\" class=\"dataframe\">\n",
       "  <thead>\n",
       "    <tr style=\"text-align: right;\">\n",
       "      <th></th>\n",
       "      <th>concessionaria</th>\n",
       "      <th>mes_ano</th>\n",
       "      <th>sentido</th>\n",
       "      <th>praca</th>\n",
       "      <th>categoria</th>\n",
       "      <th>tipo_de_veiculo</th>\n",
       "      <th>volume_total</th>\n",
       "      <th>multiplicador_de_tarifa</th>\n",
       "      <th>volume_veiculo_equivalente</th>\n",
       "      <th>tipo_de_cobranca</th>\n",
       "    </tr>\n",
       "  </thead>\n",
       "  <tbody>\n",
       "    <tr>\n",
       "      <th>135529</th>\n",
       "      <td>RIOSP</td>\n",
       "      <td>01/06/2023</td>\n",
       "      <td>Crescente</td>\n",
       "      <td>Praça 08 BR-116/SP km 205,00</td>\n",
       "      <td>Categoria 9</td>\n",
       "      <td>Moto</td>\n",
       "      <td>NaN</td>\n",
       "      <td>0,50</td>\n",
       "      <td>0,00</td>\n",
       "      <td>N/I</td>\n",
       "    </tr>\n",
       "    <tr>\n",
       "      <th>134584</th>\n",
       "      <td>RIOSP</td>\n",
       "      <td>01/02/2023</td>\n",
       "      <td>Crescente</td>\n",
       "      <td>Praça 08 BR-116/SP km 205,00</td>\n",
       "      <td>Categoria 2</td>\n",
       "      <td>Comercial</td>\n",
       "      <td>NaN</td>\n",
       "      <td>2,00</td>\n",
       "      <td>0,00</td>\n",
       "      <td>N/I</td>\n",
       "    </tr>\n",
       "    <tr>\n",
       "      <th>130554</th>\n",
       "      <td>ECOVIAS DO CERRADO</td>\n",
       "      <td>01/09/2023</td>\n",
       "      <td>Decrescente</td>\n",
       "      <td>P4 - SANTA VITÓRIA</td>\n",
       "      <td>Veículo Comercial Acima 10 eixos</td>\n",
       "      <td>Comercial</td>\n",
       "      <td>NaN</td>\n",
       "      <td>10,00</td>\n",
       "      <td>0,00</td>\n",
       "      <td>N/I</td>\n",
       "    </tr>\n",
       "    <tr>\n",
       "      <th>135525</th>\n",
       "      <td>RIOSP</td>\n",
       "      <td>01/06/2023</td>\n",
       "      <td>Crescente</td>\n",
       "      <td>Praça 08 BR-116/SP km 205,00</td>\n",
       "      <td>Categoria Esp. 07</td>\n",
       "      <td>Comercial</td>\n",
       "      <td>NaN</td>\n",
       "      <td>7,00</td>\n",
       "      <td>0,00</td>\n",
       "      <td>N/I</td>\n",
       "    </tr>\n",
       "    <tr>\n",
       "      <th>136458</th>\n",
       "      <td>RIOSP</td>\n",
       "      <td>01/10/2023</td>\n",
       "      <td>Crescente</td>\n",
       "      <td>Praça 08 BR-116/SP km 205,00</td>\n",
       "      <td>Categoria 6</td>\n",
       "      <td>Comercial</td>\n",
       "      <td>NaN</td>\n",
       "      <td>4,00</td>\n",
       "      <td>0,00</td>\n",
       "      <td>N/I</td>\n",
       "    </tr>\n",
       "    <tr>\n",
       "      <th>125482</th>\n",
       "      <td>ECOSUL</td>\n",
       "      <td>01/05/2023</td>\n",
       "      <td>Crescente</td>\n",
       "      <td>Praça 05 BR-392/RS km 111,47</td>\n",
       "      <td>Categoria 9</td>\n",
       "      <td>Moto</td>\n",
       "      <td>NaN</td>\n",
       "      <td>0,50</td>\n",
       "      <td>0,00</td>\n",
       "      <td>N/I</td>\n",
       "    </tr>\n",
       "    <tr>\n",
       "      <th>125672</th>\n",
       "      <td>ECOSUL</td>\n",
       "      <td>01/07/2023</td>\n",
       "      <td>Decrescente</td>\n",
       "      <td>Praça 04 BR-392/RS km 52,30</td>\n",
       "      <td>Categoria 9</td>\n",
       "      <td>Moto</td>\n",
       "      <td>NaN</td>\n",
       "      <td>0,50</td>\n",
       "      <td>0,00</td>\n",
       "      <td>N/I</td>\n",
       "    </tr>\n",
       "    <tr>\n",
       "      <th>125322</th>\n",
       "      <td>ECOSUL</td>\n",
       "      <td>01/04/2023</td>\n",
       "      <td>Crescente</td>\n",
       "      <td>Praça 02 BR-116/RS km 510,76</td>\n",
       "      <td>Categoria 9</td>\n",
       "      <td>Moto</td>\n",
       "      <td>NaN</td>\n",
       "      <td>0,50</td>\n",
       "      <td>0,00</td>\n",
       "      <td>N/I</td>\n",
       "    </tr>\n",
       "    <tr>\n",
       "      <th>134585</th>\n",
       "      <td>RIOSP</td>\n",
       "      <td>01/02/2023</td>\n",
       "      <td>Crescente</td>\n",
       "      <td>Praça 08 BR-116/SP km 205,00</td>\n",
       "      <td>Categoria 4</td>\n",
       "      <td>Comercial</td>\n",
       "      <td>NaN</td>\n",
       "      <td>3,00</td>\n",
       "      <td>0,00</td>\n",
       "      <td>N/I</td>\n",
       "    </tr>\n",
       "  </tbody>\n",
       "</table>\n",
       "</div>"
      ],
      "text/plain": [
       "            concessionaria     mes_ano      sentido  \\\n",
       "135529               RIOSP  01/06/2023    Crescente   \n",
       "134584               RIOSP  01/02/2023    Crescente   \n",
       "130554  ECOVIAS DO CERRADO  01/09/2023  Decrescente   \n",
       "135525               RIOSP  01/06/2023    Crescente   \n",
       "136458               RIOSP  01/10/2023    Crescente   \n",
       "125482              ECOSUL  01/05/2023    Crescente   \n",
       "125672              ECOSUL  01/07/2023  Decrescente   \n",
       "125322              ECOSUL  01/04/2023    Crescente   \n",
       "134585               RIOSP  01/02/2023    Crescente   \n",
       "\n",
       "                               praca                         categoria  \\\n",
       "135529  Praça 08 BR-116/SP km 205,00                       Categoria 9   \n",
       "134584  Praça 08 BR-116/SP km 205,00                       Categoria 2   \n",
       "130554            P4 - SANTA VITÓRIA  Veículo Comercial Acima 10 eixos   \n",
       "135525  Praça 08 BR-116/SP km 205,00                 Categoria Esp. 07   \n",
       "136458  Praça 08 BR-116/SP km 205,00                       Categoria 6   \n",
       "125482  Praça 05 BR-392/RS km 111,47                       Categoria 9   \n",
       "125672   Praça 04 BR-392/RS km 52,30                       Categoria 9   \n",
       "125322  Praça 02 BR-116/RS km 510,76                       Categoria 9   \n",
       "134585  Praça 08 BR-116/SP km 205,00                       Categoria 4   \n",
       "\n",
       "       tipo_de_veiculo volume_total multiplicador_de_tarifa  \\\n",
       "135529            Moto          NaN                    0,50   \n",
       "134584       Comercial          NaN                    2,00   \n",
       "130554       Comercial          NaN                   10,00   \n",
       "135525       Comercial          NaN                    7,00   \n",
       "136458       Comercial          NaN                    4,00   \n",
       "125482            Moto          NaN                    0,50   \n",
       "125672            Moto          NaN                    0,50   \n",
       "125322            Moto          NaN                    0,50   \n",
       "134585       Comercial          NaN                    3,00   \n",
       "\n",
       "       volume_veiculo_equivalente tipo_de_cobranca  \n",
       "135529                       0,00              N/I  \n",
       "134584                       0,00              N/I  \n",
       "130554                       0,00              N/I  \n",
       "135525                       0,00              N/I  \n",
       "136458                       0,00              N/I  \n",
       "125482                       0,00              N/I  \n",
       "125672                       0,00              N/I  \n",
       "125322                       0,00              N/I  \n",
       "134585                       0,00              N/I  "
      ]
     },
     "execution_count": 11,
     "metadata": {},
     "output_type": "execute_result"
    }
   ],
   "source": [
    "df_trafego[df_trafego['volume_total'].isna()].sample(9)"
   ]
  },
  {
   "cell_type": "code",
   "execution_count": 12,
   "id": "c0eb184b-ce91-429c-bc8b-4abac18cf9d2",
   "metadata": {
    "execution": {
     "iopub.execute_input": "2024-09-04T21:06:26.753460Z",
     "iopub.status.busy": "2024-09-04T21:06:26.752991Z",
     "iopub.status.idle": "2024-09-04T21:06:26.871586Z",
     "shell.execute_reply": "2024-09-04T21:06:26.870596Z",
     "shell.execute_reply.started": "2024-09-04T21:06:26.753422Z"
    },
    "tags": []
   },
   "outputs": [
    {
     "data": {
      "text/plain": [
       "array(['0,00'], dtype=object)"
      ]
     },
     "execution_count": 12,
     "metadata": {},
     "output_type": "execute_result"
    }
   ],
   "source": [
    "df_trafego[df_trafego['volume_total'].isna()]['volume_veiculo_equivalente'].unique()"
   ]
  },
  {
   "cell_type": "code",
   "execution_count": 13,
   "id": "b455acf7-a4bf-4af3-b96d-e8fa9b687001",
   "metadata": {
    "execution": {
     "iopub.execute_input": "2024-09-04T21:06:26.873918Z",
     "iopub.status.busy": "2024-09-04T21:06:26.872597Z",
     "iopub.status.idle": "2024-09-04T21:06:28.698738Z",
     "shell.execute_reply": "2024-09-04T21:06:28.697325Z",
     "shell.execute_reply.started": "2024-09-04T21:06:26.873877Z"
    },
    "tags": []
   },
   "outputs": [
    {
     "data": {
      "text/plain": [
       "array(['01', '14', '28', '31', '30', '02', '03', '04', '05', '06', '07',\n",
       "       '08', '09', '10', '11', '12', '13', '15', '16', '17', '18', '19',\n",
       "       '20', '21', '22', '23', '24', '25', '26', '27', '29'], dtype=object)"
      ]
     },
     "execution_count": 13,
     "metadata": {},
     "output_type": "execute_result"
    }
   ],
   "source": [
    "df_trafego['mes_ano'].str[:2].unique()"
   ]
  },
  {
   "cell_type": "code",
   "execution_count": 14,
   "id": "8bd3362a-3ca0-4b08-bec7-8bf7db6a5060",
   "metadata": {
    "execution": {
     "iopub.execute_input": "2024-09-04T21:06:28.708208Z",
     "iopub.status.busy": "2024-09-04T21:06:28.707246Z",
     "iopub.status.idle": "2024-09-04T21:06:30.600041Z",
     "shell.execute_reply": "2024-09-04T21:06:30.598579Z",
     "shell.execute_reply.started": "2024-09-04T21:06:28.708152Z"
    },
    "tags": []
   },
   "outputs": [
    {
     "data": {
      "text/plain": [
       "array(['01', '02', '03', '04', '05', '06', '07', '08', '09', '10', '11',\n",
       "       '12'], dtype=object)"
      ]
     },
     "execution_count": 14,
     "metadata": {},
     "output_type": "execute_result"
    }
   ],
   "source": [
    "df_trafego['mes_ano'].str[3:5].unique()"
   ]
  },
  {
   "cell_type": "code",
   "execution_count": 15,
   "id": "8453ca06-ce7b-47b5-afe4-1dcf7ff131da",
   "metadata": {
    "execution": {
     "iopub.execute_input": "2024-09-04T21:06:30.603103Z",
     "iopub.status.busy": "2024-09-04T21:06:30.601970Z",
     "iopub.status.idle": "2024-09-04T21:06:30.804859Z",
     "shell.execute_reply": "2024-09-04T21:06:30.803407Z",
     "shell.execute_reply.started": "2024-09-04T21:06:30.603049Z"
    },
    "tags": []
   },
   "outputs": [
    {
     "data": {
      "text/plain": [
       "array([nan, 'N/I', 'Manual', 'Automática', 'Mista'], dtype=object)"
      ]
     },
     "execution_count": 15,
     "metadata": {},
     "output_type": "execute_result"
    }
   ],
   "source": [
    "df_trafego['tipo_de_cobranca'].unique()"
   ]
  },
  {
   "cell_type": "code",
   "execution_count": 16,
   "id": "60e95d5f-cf18-4ce0-bea5-a7f2037bd499",
   "metadata": {
    "execution": {
     "iopub.execute_input": "2024-09-04T21:06:30.807990Z",
     "iopub.status.busy": "2024-09-04T21:06:30.806906Z",
     "iopub.status.idle": "2024-09-04T21:06:31.010821Z",
     "shell.execute_reply": "2024-09-04T21:06:31.009200Z",
     "shell.execute_reply.started": "2024-09-04T21:06:30.807934Z"
    },
    "tags": []
   },
   "outputs": [
    {
     "data": {
      "text/plain": [
       "np.True_"
      ]
     },
     "execution_count": 16,
     "metadata": {},
     "output_type": "execute_result"
    }
   ],
   "source": [
    "df_trafego['volume_total'].isna().any()"
   ]
  },
  {
   "cell_type": "code",
   "execution_count": 17,
   "id": "ffb13d6e-a38b-4448-ac2a-18bbc4fb5806",
   "metadata": {
    "execution": {
     "iopub.execute_input": "2024-09-04T21:06:31.014136Z",
     "iopub.status.busy": "2024-09-04T21:06:31.012981Z",
     "iopub.status.idle": "2024-09-04T21:06:31.224851Z",
     "shell.execute_reply": "2024-09-04T21:06:31.223476Z",
     "shell.execute_reply.started": "2024-09-04T21:06:31.014061Z"
    },
    "tags": []
   },
   "outputs": [
    {
     "data": {
      "text/plain": [
       "np.int64(344)"
      ]
     },
     "execution_count": 17,
     "metadata": {},
     "output_type": "execute_result"
    }
   ],
   "source": [
    "df_trafego['volume_total'].isna().sum()"
   ]
  },
  {
   "cell_type": "code",
   "execution_count": 18,
   "id": "f1c1d921-77c0-4909-ab78-8f4be88a7680",
   "metadata": {
    "execution": {
     "iopub.execute_input": "2024-09-04T21:06:31.227797Z",
     "iopub.status.busy": "2024-09-04T21:06:31.226819Z",
     "iopub.status.idle": "2024-09-04T21:06:31.435125Z",
     "shell.execute_reply": "2024-09-04T21:06:31.433678Z",
     "shell.execute_reply.started": "2024-09-04T21:06:31.227744Z"
    },
    "tags": []
   },
   "outputs": [
    {
     "data": {
      "text/plain": [
       "array(['1', '2', '1,5', '3', '4', '5', '6', '0,5', '7', '8', '9', '10',\n",
       "       1.0, 2.0, 1.5, 3.0, 4.0, 5.0, 6.0, 0.5, 7.0, 8.0, 9.0, 10.0,\n",
       "       '2,00', '3,00', '4,00', '5,00', '6,00', '0,50', '1,00', '1,50',\n",
       "       '7,00', '8,00', '9,00', '10,00', '0,00', '11,00', '13,00', '15,00',\n",
       "       '12,00', '14,00', '18,00', '20,00', '16,00', '17,00', '19,00'],\n",
       "      dtype=object)"
      ]
     },
     "execution_count": 18,
     "metadata": {},
     "output_type": "execute_result"
    }
   ],
   "source": [
    "df_trafego['multiplicador_de_tarifa'].unique()"
   ]
  },
  {
   "cell_type": "markdown",
   "id": "3dd3548c-f263-4ffc-9527-5344610ef315",
   "metadata": {},
   "source": [
    "# Tratamento dos dados"
   ]
  },
  {
   "cell_type": "code",
   "execution_count": 19,
   "id": "f051ad20-c663-4a8d-925b-549e436eb4c9",
   "metadata": {
    "execution": {
     "iopub.execute_input": "2024-09-04T21:06:31.438746Z",
     "iopub.status.busy": "2024-09-04T21:06:31.437612Z",
     "iopub.status.idle": "2024-09-04T21:06:37.692073Z",
     "shell.execute_reply": "2024-09-04T21:06:37.690513Z",
     "shell.execute_reply.started": "2024-09-04T21:06:31.438694Z"
    },
    "tags": []
   },
   "outputs": [],
   "source": [
    "# Colunas de ano, mes e dia\n",
    "df_trafego['year'] = df_trafego['mes_ano'].str[-4:].astype('int') \n",
    "df_trafego['month'] = df_trafego['mes_ano'].str[3:5].astype('int')\n",
    "df_trafego['day'] = df_trafego['mes_ano'].str[:2].astype('int') "
   ]
  },
  {
   "cell_type": "code",
   "execution_count": 20,
   "id": "67124ec5-e152-49d4-b303-9cbb11927cb3",
   "metadata": {
    "execution": {
     "iopub.execute_input": "2024-09-04T21:06:37.695285Z",
     "iopub.status.busy": "2024-09-04T21:06:37.694112Z",
     "iopub.status.idle": "2024-09-04T21:06:39.678009Z",
     "shell.execute_reply": "2024-09-04T21:06:39.676449Z",
     "shell.execute_reply.started": "2024-09-04T21:06:37.695232Z"
    },
    "tags": []
   },
   "outputs": [],
   "source": [
    "# Recriando a coluna de data, agora como datetime ao invés de string. Tem que ser em ingles pq a função do pandas exige\n",
    "# OBS: essa coluna está cagada, as vezes temos a data completa, as vezes apenas um registro consolidando o mês!\n",
    "df_trafego['data'] = pd.to_datetime(df_trafego[['year', 'month', 'day']]).dt.date\n",
    "# criando uma coluna de mes_ano\n",
    "df_trafego['mes_ano'] = pd.to_datetime(df_trafego[['year', 'month', 'day']]).dt.to_period('M')"
   ]
  },
  {
   "cell_type": "code",
   "execution_count": 21,
   "id": "76220367-dddb-41f2-9e53-7c75a53b7c7c",
   "metadata": {
    "execution": {
     "iopub.execute_input": "2024-09-04T21:06:39.680395Z",
     "iopub.status.busy": "2024-09-04T21:06:39.679854Z",
     "iopub.status.idle": "2024-09-04T21:07:29.573095Z",
     "shell.execute_reply": "2024-09-04T21:07:29.571549Z",
     "shell.execute_reply.started": "2024-09-04T21:06:39.680341Z"
    },
    "tags": []
   },
   "outputs": [
    {
     "data": {
      "text/plain": [
       "array([datetime.date(2015, 9, 1)], dtype=object)"
      ]
     },
     "execution_count": 21,
     "metadata": {},
     "output_type": "execute_result"
    }
   ],
   "source": [
    "# OBS: para algumas concessionarias ao menos, os dados a nível de data não são confiáveis\n",
    "\n",
    "df_trafego.query(\"concessionaria == 'CRO' and mes_ano == @pd.to_datetime('2015-09').to_period('M')\")['data'].unique()\n",
    "\n",
    "\n",
    "# Os dados com início com 2010-01-01 estão ok."
   ]
  },
  {
   "cell_type": "code",
   "execution_count": 22,
   "id": "5fae9658-dc43-433c-89c9-2395145471de",
   "metadata": {
    "execution": {
     "iopub.execute_input": "2024-09-04T21:07:29.577091Z",
     "iopub.status.busy": "2024-09-04T21:07:29.575456Z",
     "iopub.status.idle": "2024-09-04T21:07:29.956609Z",
     "shell.execute_reply": "2024-09-04T21:07:29.955138Z",
     "shell.execute_reply.started": "2024-09-04T21:07:29.577032Z"
    },
    "tags": []
   },
   "outputs": [],
   "source": [
    "# preenchendo os NaNs, qdo aplicável:\n",
    "df_trafego['volume_total'] = df_trafego['volume_total'].fillna(0) #o volume equivalente é zero sempre que volume_total é zero"
   ]
  },
  {
   "cell_type": "code",
   "execution_count": 23,
   "id": "6c57331f-cb3d-4adc-9d3c-ef37432f4801",
   "metadata": {
    "execution": {
     "iopub.execute_input": "2024-09-04T21:07:29.960637Z",
     "iopub.status.busy": "2024-09-04T21:07:29.958846Z",
     "iopub.status.idle": "2024-09-04T21:07:37.537568Z",
     "shell.execute_reply": "2024-09-04T21:07:37.534826Z",
     "shell.execute_reply.started": "2024-09-04T21:07:29.960582Z"
    },
    "tags": []
   },
   "outputs": [],
   "source": [
    "# Convertendo os tipos de dados para numéricos:\n",
    "df_trafego['volume_total'] = df_trafego['volume_total'].apply(lambda x: x.replace(',','.') if type(x) == str else x)\n",
    "df_trafego['volume_total'] = df_trafego['volume_total'].apply(lambda x: x.split('.')[0] if type(x) == str else x)\n",
    "df_trafego['volume_total'] = df_trafego['volume_total'].astype('int')\n",
    "\n",
    "df_trafego['volume_veiculo_equivalente'] = df_trafego['volume_veiculo_equivalente'].apply(lambda x: x.replace(',','.') if type(x) == str else x)\n",
    "df_trafego['volume_veiculo_equivalente'] = df_trafego['volume_veiculo_equivalente'].astype('float') # existe multiplicador de tarifa fracionário"
   ]
  },
  {
   "cell_type": "code",
   "execution_count": 24,
   "id": "20231a8a-8ab4-41b5-bd87-db645b34cfd5",
   "metadata": {
    "execution": {
     "iopub.execute_input": "2024-09-04T21:07:37.541218Z",
     "iopub.status.busy": "2024-09-04T21:07:37.540077Z",
     "iopub.status.idle": "2024-09-04T21:07:37.689873Z",
     "shell.execute_reply": "2024-09-04T21:07:37.687505Z",
     "shell.execute_reply.started": "2024-09-04T21:07:37.541160Z"
    },
    "tags": []
   },
   "outputs": [],
   "source": [
    "# convertendo categoria para string (do contrário não salva para parquet):\n",
    "df_trafego['categoria'] = df_trafego['categoria'].astype('string')"
   ]
  },
  {
   "cell_type": "code",
   "execution_count": 25,
   "id": "a570f4b8-a68e-47a9-8d5c-ec56f6e8086c",
   "metadata": {
    "execution": {
     "iopub.execute_input": "2024-09-04T21:07:37.694988Z",
     "iopub.status.busy": "2024-09-04T21:07:37.693804Z",
     "iopub.status.idle": "2024-09-04T21:07:40.619571Z",
     "shell.execute_reply": "2024-09-04T21:07:40.618071Z",
     "shell.execute_reply.started": "2024-09-04T21:07:37.694890Z"
    },
    "tags": []
   },
   "outputs": [],
   "source": [
    "# convertendo o multiplicador de tarifa de string para decimal (p/manter a precisao):\n",
    "df_trafego['multiplicador_de_tarifa'] = df_trafego['multiplicador_de_tarifa'].apply(lambda x: x.replace(',','.') if type(x) == str else x)\n",
    "df_trafego['multiplicador_de_tarifa'] = df_trafego['multiplicador_de_tarifa'].apply(Decimal)"
   ]
  },
  {
   "cell_type": "code",
   "execution_count": 26,
   "id": "697d05b6-6346-4a0e-a2c5-2cfd71ccd016",
   "metadata": {
    "execution": {
     "iopub.execute_input": "2024-09-04T21:07:40.622918Z",
     "iopub.status.busy": "2024-09-04T21:07:40.621641Z",
     "iopub.status.idle": "2024-09-04T21:07:41.996254Z",
     "shell.execute_reply": "2024-09-04T21:07:41.994820Z",
     "shell.execute_reply.started": "2024-09-04T21:07:40.622867Z"
    },
    "tags": []
   },
   "outputs": [],
   "source": [
    "# O tipo de tráfego ora está em maisúcula, ora em minúscula.\n",
    "# Colocando tudo p/maiúscula\n",
    "df_trafego['tipo_de_veiculo'] = df_trafego['tipo_de_veiculo'].str.upper()"
   ]
  },
  {
   "cell_type": "code",
   "execution_count": 27,
   "id": "b91a6a8d-2fa9-4c7e-8e1a-68097e4eeb46",
   "metadata": {
    "execution": {
     "iopub.execute_input": "2024-09-04T21:07:41.999145Z",
     "iopub.status.busy": "2024-09-04T21:07:41.997952Z",
     "iopub.status.idle": "2024-09-04T21:07:43.121469Z",
     "shell.execute_reply": "2024-09-04T21:07:43.120323Z",
     "shell.execute_reply.started": "2024-09-04T21:07:41.999090Z"
    },
    "tags": []
   },
   "outputs": [],
   "source": [
    "# algumas concessionárias estão ora em maiúsculas ora em minúsculas\n",
    "# colocando tudo para maiúscula\n",
    "df_trafego['concessionaria'] = df_trafego['concessionaria'].str.upper()"
   ]
  },
  {
   "cell_type": "code",
   "execution_count": 28,
   "id": "21713dd4-7ebd-4409-8deb-494dff59a52c",
   "metadata": {
    "execution": {
     "iopub.execute_input": "2024-09-04T21:07:43.123859Z",
     "iopub.status.busy": "2024-09-04T21:07:43.122830Z",
     "iopub.status.idle": "2024-09-04T21:07:43.140424Z",
     "shell.execute_reply": "2024-09-04T21:07:43.139422Z",
     "shell.execute_reply.started": "2024-09-04T21:07:43.123821Z"
    },
    "tags": []
   },
   "outputs": [
    {
     "name": "stdout",
     "output_type": "stream",
     "text": [
      "<class 'pandas.core.frame.DataFrame'>\n",
      "Index: 3000353 entries, 0 to 2329761\n",
      "Data columns (total 14 columns):\n",
      " #   Column                      Dtype    \n",
      "---  ------                      -----    \n",
      " 0   concessionaria              object   \n",
      " 1   mes_ano                     period[M]\n",
      " 2   sentido                     object   \n",
      " 3   praca                       object   \n",
      " 4   categoria                   string   \n",
      " 5   tipo_de_veiculo             object   \n",
      " 6   volume_total                int64    \n",
      " 7   multiplicador_de_tarifa     object   \n",
      " 8   volume_veiculo_equivalente  float64  \n",
      " 9   tipo_de_cobranca            object   \n",
      " 10  year                        int64    \n",
      " 11  month                       int64    \n",
      " 12  day                         int64    \n",
      " 13  data                        object   \n",
      "dtypes: float64(1), int64(4), object(7), period[M](1), string(1)\n",
      "memory usage: 343.4+ MB\n"
     ]
    }
   ],
   "source": [
    "df_trafego.info()"
   ]
  },
  {
   "cell_type": "code",
   "execution_count": 29,
   "id": "8bf6bfb2-3415-4306-be98-5ffe1dfabb72",
   "metadata": {
    "execution": {
     "iopub.execute_input": "2024-09-04T21:07:43.142841Z",
     "iopub.status.busy": "2024-09-04T21:07:43.142132Z",
     "iopub.status.idle": "2024-09-04T21:07:43.169495Z",
     "shell.execute_reply": "2024-09-04T21:07:43.168428Z",
     "shell.execute_reply.started": "2024-09-04T21:07:43.142803Z"
    },
    "tags": []
   },
   "outputs": [
    {
     "data": {
      "text/plain": [
       "array([2010, 2011, 2012, 2013, 2014, 2015, 2016, 2017, 2018, 2019, 2020,\n",
       "       2021, 2022, 2023, 2024])"
      ]
     },
     "execution_count": 29,
     "metadata": {},
     "output_type": "execute_result"
    }
   ],
   "source": [
    "df_trafego['year'].unique()"
   ]
  },
  {
   "cell_type": "code",
   "execution_count": 30,
   "id": "923b6979-a809-448d-8a28-b79546e40f59",
   "metadata": {
    "execution": {
     "iopub.execute_input": "2024-09-04T21:07:43.171874Z",
     "iopub.status.busy": "2024-09-04T21:07:43.171181Z",
     "iopub.status.idle": "2024-09-04T21:07:44.029071Z",
     "shell.execute_reply": "2024-09-04T21:07:44.028036Z",
     "shell.execute_reply.started": "2024-09-04T21:07:43.171836Z"
    },
    "tags": []
   },
   "outputs": [
    {
     "data": {
      "text/plain": [
       "array([1, 2, 3, 4, 5, 6])"
      ]
     },
     "execution_count": 30,
     "metadata": {},
     "output_type": "execute_result"
    }
   ],
   "source": [
    "df_trafego.query(\"year == 2024\")['month'].unique()"
   ]
  },
  {
   "cell_type": "markdown",
   "id": "a051f403-674a-48e9-b2b1-56ea297d48a3",
   "metadata": {},
   "source": [
    "## Criando coluna desambiguando categorias comercial x passeio"
   ]
  },
  {
   "cell_type": "code",
   "execution_count": 31,
   "id": "cf5a5255-4914-47f2-8033-6724d83ef71b",
   "metadata": {
    "execution": {
     "iopub.execute_input": "2024-09-04T21:07:44.031620Z",
     "iopub.status.busy": "2024-09-04T21:07:44.030816Z",
     "iopub.status.idle": "2024-09-04T21:07:44.269115Z",
     "shell.execute_reply": "2024-09-04T21:07:44.267965Z",
     "shell.execute_reply.started": "2024-09-04T21:07:44.031579Z"
    },
    "tags": []
   },
   "outputs": [
    {
     "data": {
      "text/plain": [
       "array(['PASSEIO', 'COMERCIAL', 'MOTO', 'VEÍCULO PEQUENO'], dtype=object)"
      ]
     },
     "execution_count": 31,
     "metadata": {},
     "output_type": "execute_result"
    }
   ],
   "source": [
    "df_trafego['tipo_de_veiculo'].unique()"
   ]
  },
  {
   "cell_type": "code",
   "execution_count": 32,
   "id": "f490e0ed-b6b8-4e97-b659-39d32cf578ae",
   "metadata": {
    "execution": {
     "iopub.execute_input": "2024-09-04T21:07:44.271587Z",
     "iopub.status.busy": "2024-09-04T21:07:44.270868Z",
     "iopub.status.idle": "2024-09-04T21:07:45.237249Z",
     "shell.execute_reply": "2024-09-04T21:07:45.236063Z",
     "shell.execute_reply.started": "2024-09-04T21:07:44.271549Z"
    },
    "tags": []
   },
   "outputs": [],
   "source": [
    "df_trafego[\"TIPO_TRAFEGO\"] = df_trafego['tipo_de_veiculo'].apply(lambda x: x if x == \"COMERCIAL\" else \"PASSEIO\")"
   ]
  },
  {
   "cell_type": "code",
   "execution_count": 33,
   "id": "e237a2f8-7d4b-468f-9bf3-56e4af37fcbd",
   "metadata": {
    "execution": {
     "iopub.execute_input": "2024-09-04T21:07:45.239153Z",
     "iopub.status.busy": "2024-09-04T21:07:45.238804Z",
     "iopub.status.idle": "2024-09-04T21:07:45.471698Z",
     "shell.execute_reply": "2024-09-04T21:07:45.470315Z",
     "shell.execute_reply.started": "2024-09-04T21:07:45.239116Z"
    },
    "tags": []
   },
   "outputs": [
    {
     "data": {
      "text/plain": [
       "array(['PASSEIO', 'COMERCIAL'], dtype=object)"
      ]
     },
     "execution_count": 33,
     "metadata": {},
     "output_type": "execute_result"
    }
   ],
   "source": [
    "df_trafego[\"TIPO_TRAFEGO\"].unique()"
   ]
  },
  {
   "cell_type": "markdown",
   "id": "679e22fb-6baf-465e-ab85-1780da58255d",
   "metadata": {},
   "source": [
    "## Criando colunas com trafégo em Veqs para comercial e passeio"
   ]
  },
  {
   "cell_type": "code",
   "execution_count": 34,
   "id": "b8ff717e-9467-4368-9bfe-da6d7eb99b07",
   "metadata": {
    "execution": {
     "iopub.execute_input": "2024-09-04T21:07:45.473457Z",
     "iopub.status.busy": "2024-09-04T21:07:45.473111Z",
     "iopub.status.idle": "2024-09-04T21:07:48.375600Z",
     "shell.execute_reply": "2024-09-04T21:07:48.374111Z",
     "shell.execute_reply.started": "2024-09-04T21:07:45.473420Z"
    },
    "tags": []
   },
   "outputs": [],
   "source": [
    "df_trafego = df_trafego.rename(columns={'volume_veiculo_equivalente':'VEQS_TOTAL'})\n",
    "df_trafego['VEQS_COMERCIAL'] = np.where(\n",
    "    df_trafego['TIPO_TRAFEGO'] == 'COMERCIAL',\n",
    "    df_trafego['VEQS_TOTAL'],\n",
    "    0\n",
    ")\n",
    "df_trafego['VEQS_PASSEIO'] = np.where(\n",
    "    df_trafego['TIPO_TRAFEGO'] == 'PASSEIO',\n",
    "    df_trafego['VEQS_TOTAL'],\n",
    "    0\n",
    ")"
   ]
  },
  {
   "cell_type": "markdown",
   "id": "6eb69752-50ea-4ed4-b052-3e93dbde2359",
   "metadata": {},
   "source": [
    "# Criando dataframe com o período inicial e final dos dados por concessionária"
   ]
  },
  {
   "cell_type": "code",
   "execution_count": 35,
   "id": "9c88ae9b-ba1f-4cb8-81f9-7e9af597b71e",
   "metadata": {
    "execution": {
     "iopub.execute_input": "2024-09-04T21:07:48.378164Z",
     "iopub.status.busy": "2024-09-04T21:07:48.377487Z",
     "iopub.status.idle": "2024-09-04T21:07:49.327097Z",
     "shell.execute_reply": "2024-09-04T21:07:49.325951Z",
     "shell.execute_reply.started": "2024-09-04T21:07:48.378112Z"
    },
    "tags": []
   },
   "outputs": [],
   "source": [
    "df_periodos = df_trafego.groupby('concessionaria').agg(\n",
    "    data_inicial=('data', 'min'),\n",
    "    data_final=('data', 'max')\n",
    ").reset_index()\n",
    "df_periodos['data_inicial'] = pd.to_datetime(df_periodos['data_inicial']).dt.date\n",
    "df_periodos['data_final'] = pd.to_datetime(df_periodos['data_final']).dt.date"
   ]
  },
  {
   "cell_type": "code",
   "execution_count": 36,
   "id": "631fee43-44f1-4af0-bef4-269bd9f261c3",
   "metadata": {
    "execution": {
     "iopub.execute_input": "2024-09-04T21:07:49.328922Z",
     "iopub.status.busy": "2024-09-04T21:07:49.328577Z",
     "iopub.status.idle": "2024-09-04T21:07:49.336187Z",
     "shell.execute_reply": "2024-09-04T21:07:49.335176Z",
     "shell.execute_reply.started": "2024-09-04T21:07:49.328885Z"
    },
    "tags": []
   },
   "outputs": [],
   "source": [
    "df_periodos.index = df_periodos['concessionaria']\n",
    "df_periodos = df_periodos.drop(columns=['concessionaria'])"
   ]
  },
  {
   "cell_type": "code",
   "execution_count": 37,
   "id": "ff4412de-e2db-46dd-86de-03e350024261",
   "metadata": {
    "execution": {
     "iopub.execute_input": "2024-09-04T21:07:49.338955Z",
     "iopub.status.busy": "2024-09-04T21:07:49.337706Z",
     "iopub.status.idle": "2024-09-04T21:07:49.346145Z",
     "shell.execute_reply": "2024-09-04T21:07:49.345131Z",
     "shell.execute_reply.started": "2024-09-04T21:07:49.338916Z"
    },
    "tags": []
   },
   "outputs": [],
   "source": [
    "df_periodos = df_periodos.sort_values(by='data_inicial', ascending=False)"
   ]
  },
  {
   "cell_type": "markdown",
   "id": "d4a56a76-9175-4683-96dd-3ec24f7c5e17",
   "metadata": {},
   "source": [
    "# Criando dataframes agrupando VEQs por ANO/concessionaria/tipo de trafego"
   ]
  },
  {
   "cell_type": "code",
   "execution_count": 38,
   "id": "d50674a2-5e78-4c74-b726-dcb92013bdb0",
   "metadata": {
    "execution": {
     "iopub.execute_input": "2024-09-04T21:07:49.348675Z",
     "iopub.status.busy": "2024-09-04T21:07:49.348316Z",
     "iopub.status.idle": "2024-09-04T21:07:49.353235Z",
     "shell.execute_reply": "2024-09-04T21:07:49.352294Z",
     "shell.execute_reply.started": "2024-09-04T21:07:49.348638Z"
    },
    "tags": []
   },
   "outputs": [],
   "source": [
    "cols_veqs = ['VEQS_COMERCIAL','VEQS_PASSEIO']"
   ]
  },
  {
   "cell_type": "code",
   "execution_count": 39,
   "id": "5bc113c9-f87f-4b65-a7c4-5006d68589a2",
   "metadata": {
    "execution": {
     "iopub.execute_input": "2024-09-04T21:07:49.355884Z",
     "iopub.status.busy": "2024-09-04T21:07:49.355438Z",
     "iopub.status.idle": "2024-09-04T21:07:50.466962Z",
     "shell.execute_reply": "2024-09-04T21:07:50.465151Z",
     "shell.execute_reply.started": "2024-09-04T21:07:49.355835Z"
    },
    "tags": []
   },
   "outputs": [],
   "source": [
    "dict_veqs_anual = {}\n",
    "for col in cols_veqs:\n",
    "    dict_veqs_anual[col] = df_trafego.pivot_table(\n",
    "        index='concessionaria',\n",
    "        columns='year',\n",
    "        values=col,\n",
    "        aggfunc='sum'\n",
    "        ).T"
   ]
  },
  {
   "cell_type": "code",
   "execution_count": 40,
   "id": "89f8d004-add9-4df2-a717-9b26077c3e0e",
   "metadata": {
    "execution": {
     "iopub.execute_input": "2024-09-04T21:07:50.470515Z",
     "iopub.status.busy": "2024-09-04T21:07:50.469220Z",
     "iopub.status.idle": "2024-09-04T21:07:50.480904Z",
     "shell.execute_reply": "2024-09-04T21:07:50.479427Z",
     "shell.execute_reply.started": "2024-09-04T21:07:50.470477Z"
    }
   },
   "outputs": [],
   "source": [
    "def filter_incomplete_years(df_trafego, df_periodos):\n",
    "    df = df_trafego.copy()\n",
    "    for conc in df:\n",
    "        data_inicial = df_periodos.loc[conc,'data_inicial']\n",
    "        data_final = df_periodos.loc[conc,'data_final']\n",
    "        # print(data_inicial, data_final)\n",
    "        years_drop = []\n",
    "        if (data_inicial.day != 1) or (data_inicial.month != 1):\n",
    "            years_drop.append(data_inicial.year)\n",
    "        if (data_final.day != 31) or (data_final.month != 12):\n",
    "            years_drop.append(data_final.year)\n",
    "        # print(list(set(years_drop)))\n",
    "        years_drop = list(set(years_drop))\n",
    "        for year in df.index:\n",
    "            if year in years_drop:\n",
    "                df.loc[year, conc] = None\n",
    "    return df    "
   ]
  },
  {
   "cell_type": "code",
   "execution_count": 41,
   "id": "5fdd2b8a-e732-4bb1-b900-0a9b715b24fd",
   "metadata": {
    "execution": {
     "iopub.execute_input": "2024-09-04T21:07:50.492437Z",
     "iopub.status.busy": "2024-09-04T21:07:50.491526Z",
     "iopub.status.idle": "2024-09-04T21:07:50.504105Z",
     "shell.execute_reply": "2024-09-04T21:07:50.501914Z",
     "shell.execute_reply.started": "2024-09-04T21:07:50.492395Z"
    }
   },
   "outputs": [],
   "source": [
    "# retirando os anos incompletos\n",
    "def filter_incomplete_years(df_trafego, df_periodos):\n",
    "    df = df_trafego.copy()\n",
    "    for conc in df:\n",
    "        data_inicial = df_periodos.loc[conc,'data_inicial']\n",
    "        data_final = df_periodos.loc[conc,'data_final']\n",
    "        # print(data_inicial, data_final)\n",
    "        years_drop = []\n",
    "        if (data_inicial.day != 1) or (data_inicial.month != 1):\n",
    "            years_drop.append(data_inicial.year)\n",
    "        if (data_final.day != 31) or (data_final.month != 12):\n",
    "            years_drop.append(data_final.year)\n",
    "        # print(list(set(years_drop)))\n",
    "        years_drop = list(set(years_drop))\n",
    "        for year in df.index:\n",
    "            if year in years_drop:\n",
    "                df.loc[year, conc] = None\n",
    "    return df    "
   ]
  },
  {
   "cell_type": "code",
   "execution_count": 42,
   "id": "1f0e25ac-136d-41e8-ad66-28cbbd39ec95",
   "metadata": {
    "execution": {
     "iopub.execute_input": "2024-09-04T21:07:50.507905Z",
     "iopub.status.busy": "2024-09-04T21:07:50.506127Z",
     "iopub.status.idle": "2024-09-04T21:07:50.562062Z",
     "shell.execute_reply": "2024-09-04T21:07:50.560096Z",
     "shell.execute_reply.started": "2024-09-04T21:07:50.507833Z"
    },
    "tags": []
   },
   "outputs": [],
   "source": [
    "for veq, df in dict_veqs_anual.items():\n",
    "    dict_veqs_anual[veq] = filter_incomplete_years(df, df_periodos)"
   ]
  },
  {
   "cell_type": "markdown",
   "id": "d625db77-71d2-4333-b99b-4f4024437407",
   "metadata": {},
   "source": [
    "# Criando dataframes agrupando VEQs por MÊS/concessionaria/tipo de trafego"
   ]
  },
  {
   "cell_type": "code",
   "execution_count": 43,
   "id": "7293e28f-ae40-4148-8802-62b6ac304a35",
   "metadata": {
    "execution": {
     "iopub.execute_input": "2024-09-04T21:07:50.564855Z",
     "iopub.status.busy": "2024-09-04T21:07:50.564093Z",
     "iopub.status.idle": "2024-09-04T21:07:51.630763Z",
     "shell.execute_reply": "2024-09-04T21:07:51.628969Z",
     "shell.execute_reply.started": "2024-09-04T21:07:50.564800Z"
    },
    "tags": []
   },
   "outputs": [],
   "source": [
    "dict_veqs_mensal = {}\n",
    "for col in cols_veqs:\n",
    "    dict_veqs_mensal[col] = df_trafego.pivot_table(\n",
    "        index='concessionaria',\n",
    "        columns='mes_ano',\n",
    "        values=col,\n",
    "        aggfunc='sum'\n",
    "        ).T\n",
    "    dict_veqs_mensal[col].index = dict_veqs_mensal[col].index.to_timestamp().to_period('M')"
   ]
  },
  {
   "cell_type": "code",
   "execution_count": 44,
   "id": "a4c78005-df56-4a05-8406-62778547b0b2",
   "metadata": {
    "execution": {
     "iopub.execute_input": "2024-09-04T21:07:51.633569Z",
     "iopub.status.busy": "2024-09-04T21:07:51.632979Z",
     "iopub.status.idle": "2024-09-04T21:07:51.694022Z",
     "shell.execute_reply": "2024-09-04T21:07:51.692807Z",
     "shell.execute_reply.started": "2024-09-04T21:07:51.633530Z"
    },
    "tags": []
   },
   "outputs": [
    {
     "data": {
      "text/html": [
       "<div>\n",
       "<style scoped>\n",
       "    .dataframe tbody tr th:only-of-type {\n",
       "        vertical-align: middle;\n",
       "    }\n",
       "\n",
       "    .dataframe tbody tr th {\n",
       "        vertical-align: top;\n",
       "    }\n",
       "\n",
       "    .dataframe thead th {\n",
       "        text-align: right;\n",
       "    }\n",
       "</style>\n",
       "<table border=\"1\" class=\"dataframe\">\n",
       "  <thead>\n",
       "    <tr style=\"text-align: right;\">\n",
       "      <th>concessionaria</th>\n",
       "      <th>AUTOPISTA FERNÃO DIAS</th>\n",
       "      <th>AUTOPISTA FLUMINENSE</th>\n",
       "      <th>AUTOPISTA LITORAL SUL</th>\n",
       "      <th>AUTOPISTA PLANALTO SUL</th>\n",
       "      <th>AUTOPISTA REGIS BITTENCOURT</th>\n",
       "      <th>CONCEBRA</th>\n",
       "      <th>CONCEPA</th>\n",
       "      <th>CONCER</th>\n",
       "      <th>CRO</th>\n",
       "      <th>CRT</th>\n",
       "      <th>ECO050</th>\n",
       "      <th>ECO101 CONCESSIONARIA DE RODOVIAS S/A</th>\n",
       "      <th>ECOPONTE</th>\n",
       "      <th>ECORIOMINAS</th>\n",
       "      <th>ECOSUL</th>\n",
       "      <th>ECOVIAS DO ARAGUAIA</th>\n",
       "      <th>ECOVIAS DO CERRADO</th>\n",
       "      <th>HOLDING DO SISTEMA RODOVIARIO RIO - SAO PAULO S.A.</th>\n",
       "      <th>MSVIA</th>\n",
       "      <th>NOVADUTRA</th>\n",
       "      <th>RIOSP</th>\n",
       "      <th>RODOVIA DO AÇO</th>\n",
       "      <th>TRANSBRASILIANA</th>\n",
       "      <th>VIA 040</th>\n",
       "      <th>VIA BAHIA</th>\n",
       "      <th>VIA BRASIL</th>\n",
       "      <th>VIA COSTEIRA</th>\n",
       "      <th>VIA SUL</th>\n",
       "    </tr>\n",
       "    <tr>\n",
       "      <th>mes_ano</th>\n",
       "      <th></th>\n",
       "      <th></th>\n",
       "      <th></th>\n",
       "      <th></th>\n",
       "      <th></th>\n",
       "      <th></th>\n",
       "      <th></th>\n",
       "      <th></th>\n",
       "      <th></th>\n",
       "      <th></th>\n",
       "      <th></th>\n",
       "      <th></th>\n",
       "      <th></th>\n",
       "      <th></th>\n",
       "      <th></th>\n",
       "      <th></th>\n",
       "      <th></th>\n",
       "      <th></th>\n",
       "      <th></th>\n",
       "      <th></th>\n",
       "      <th></th>\n",
       "      <th></th>\n",
       "      <th></th>\n",
       "      <th></th>\n",
       "      <th></th>\n",
       "      <th></th>\n",
       "      <th></th>\n",
       "      <th></th>\n",
       "    </tr>\n",
       "  </thead>\n",
       "  <tbody>\n",
       "    <tr>\n",
       "      <th>2010-01</th>\n",
       "      <td>6190339.0</td>\n",
       "      <td>1815015.0</td>\n",
       "      <td>5183361.0</td>\n",
       "      <td>1464018.0</td>\n",
       "      <td>8261978.0</td>\n",
       "      <td>NaN</td>\n",
       "      <td>1156902.0</td>\n",
       "      <td>990659.0</td>\n",
       "      <td>NaN</td>\n",
       "      <td>653385.0</td>\n",
       "      <td>NaN</td>\n",
       "      <td>NaN</td>\n",
       "      <td>NaN</td>\n",
       "      <td>NaN</td>\n",
       "      <td>902674.0</td>\n",
       "      <td>NaN</td>\n",
       "      <td>NaN</td>\n",
       "      <td>NaN</td>\n",
       "      <td>NaN</td>\n",
       "      <td>7602748.0</td>\n",
       "      <td>NaN</td>\n",
       "      <td>986812.0</td>\n",
       "      <td>1088796.0</td>\n",
       "      <td>NaN</td>\n",
       "      <td>NaN</td>\n",
       "      <td>NaN</td>\n",
       "      <td>NaN</td>\n",
       "      <td>NaN</td>\n",
       "    </tr>\n",
       "    <tr>\n",
       "      <th>2010-02</th>\n",
       "      <td>5924839.0</td>\n",
       "      <td>1708351.0</td>\n",
       "      <td>5020757.0</td>\n",
       "      <td>1481465.0</td>\n",
       "      <td>7872436.0</td>\n",
       "      <td>NaN</td>\n",
       "      <td>1063578.0</td>\n",
       "      <td>905443.0</td>\n",
       "      <td>NaN</td>\n",
       "      <td>612653.0</td>\n",
       "      <td>NaN</td>\n",
       "      <td>NaN</td>\n",
       "      <td>NaN</td>\n",
       "      <td>NaN</td>\n",
       "      <td>850322.0</td>\n",
       "      <td>NaN</td>\n",
       "      <td>NaN</td>\n",
       "      <td>NaN</td>\n",
       "      <td>NaN</td>\n",
       "      <td>7065494.0</td>\n",
       "      <td>NaN</td>\n",
       "      <td>929227.0</td>\n",
       "      <td>1060479.0</td>\n",
       "      <td>NaN</td>\n",
       "      <td>NaN</td>\n",
       "      <td>NaN</td>\n",
       "      <td>NaN</td>\n",
       "      <td>NaN</td>\n",
       "    </tr>\n",
       "    <tr>\n",
       "      <th>2010-03</th>\n",
       "      <td>7003056.0</td>\n",
       "      <td>2018155.0</td>\n",
       "      <td>5864833.0</td>\n",
       "      <td>1701691.0</td>\n",
       "      <td>9965511.0</td>\n",
       "      <td>NaN</td>\n",
       "      <td>1221469.0</td>\n",
       "      <td>1114422.0</td>\n",
       "      <td>NaN</td>\n",
       "      <td>726098.0</td>\n",
       "      <td>NaN</td>\n",
       "      <td>NaN</td>\n",
       "      <td>NaN</td>\n",
       "      <td>NaN</td>\n",
       "      <td>1239520.0</td>\n",
       "      <td>NaN</td>\n",
       "      <td>NaN</td>\n",
       "      <td>NaN</td>\n",
       "      <td>NaN</td>\n",
       "      <td>9025403.0</td>\n",
       "      <td>NaN</td>\n",
       "      <td>1165079.0</td>\n",
       "      <td>1274481.0</td>\n",
       "      <td>NaN</td>\n",
       "      <td>NaN</td>\n",
       "      <td>NaN</td>\n",
       "      <td>NaN</td>\n",
       "      <td>NaN</td>\n",
       "    </tr>\n",
       "    <tr>\n",
       "      <th>2010-04</th>\n",
       "      <td>6875269.0</td>\n",
       "      <td>1752751.0</td>\n",
       "      <td>5433517.0</td>\n",
       "      <td>1627705.0</td>\n",
       "      <td>9190180.0</td>\n",
       "      <td>NaN</td>\n",
       "      <td>1115475.0</td>\n",
       "      <td>1007970.0</td>\n",
       "      <td>NaN</td>\n",
       "      <td>625073.0</td>\n",
       "      <td>NaN</td>\n",
       "      <td>NaN</td>\n",
       "      <td>NaN</td>\n",
       "      <td>NaN</td>\n",
       "      <td>1676946.0</td>\n",
       "      <td>NaN</td>\n",
       "      <td>NaN</td>\n",
       "      <td>NaN</td>\n",
       "      <td>NaN</td>\n",
       "      <td>9694048.0</td>\n",
       "      <td>NaN</td>\n",
       "      <td>1100444.0</td>\n",
       "      <td>1198545.0</td>\n",
       "      <td>NaN</td>\n",
       "      <td>NaN</td>\n",
       "      <td>NaN</td>\n",
       "      <td>NaN</td>\n",
       "      <td>NaN</td>\n",
       "    </tr>\n",
       "    <tr>\n",
       "      <th>2010-05</th>\n",
       "      <td>7518015.0</td>\n",
       "      <td>2005884.0</td>\n",
       "      <td>5796304.0</td>\n",
       "      <td>1746326.0</td>\n",
       "      <td>9827356.0</td>\n",
       "      <td>NaN</td>\n",
       "      <td>1155528.0</td>\n",
       "      <td>1084941.0</td>\n",
       "      <td>NaN</td>\n",
       "      <td>705851.0</td>\n",
       "      <td>NaN</td>\n",
       "      <td>NaN</td>\n",
       "      <td>NaN</td>\n",
       "      <td>NaN</td>\n",
       "      <td>1416282.0</td>\n",
       "      <td>NaN</td>\n",
       "      <td>NaN</td>\n",
       "      <td>NaN</td>\n",
       "      <td>NaN</td>\n",
       "      <td>10581017.0</td>\n",
       "      <td>NaN</td>\n",
       "      <td>1176777.0</td>\n",
       "      <td>1334414.0</td>\n",
       "      <td>NaN</td>\n",
       "      <td>NaN</td>\n",
       "      <td>NaN</td>\n",
       "      <td>NaN</td>\n",
       "      <td>NaN</td>\n",
       "    </tr>\n",
       "    <tr>\n",
       "      <th>...</th>\n",
       "      <td>...</td>\n",
       "      <td>...</td>\n",
       "      <td>...</td>\n",
       "      <td>...</td>\n",
       "      <td>...</td>\n",
       "      <td>...</td>\n",
       "      <td>...</td>\n",
       "      <td>...</td>\n",
       "      <td>...</td>\n",
       "      <td>...</td>\n",
       "      <td>...</td>\n",
       "      <td>...</td>\n",
       "      <td>...</td>\n",
       "      <td>...</td>\n",
       "      <td>...</td>\n",
       "      <td>...</td>\n",
       "      <td>...</td>\n",
       "      <td>...</td>\n",
       "      <td>...</td>\n",
       "      <td>...</td>\n",
       "      <td>...</td>\n",
       "      <td>...</td>\n",
       "      <td>...</td>\n",
       "      <td>...</td>\n",
       "      <td>...</td>\n",
       "      <td>...</td>\n",
       "      <td>...</td>\n",
       "      <td>...</td>\n",
       "    </tr>\n",
       "    <tr>\n",
       "      <th>2024-02</th>\n",
       "      <td>NaN</td>\n",
       "      <td>1987813.0</td>\n",
       "      <td>8614519.0</td>\n",
       "      <td>2222301.0</td>\n",
       "      <td>6893.0</td>\n",
       "      <td>5072773.0</td>\n",
       "      <td>NaN</td>\n",
       "      <td>889976.0</td>\n",
       "      <td>6110893.0</td>\n",
       "      <td>NaN</td>\n",
       "      <td>2771769.0</td>\n",
       "      <td>2814580.0</td>\n",
       "      <td>281351.0</td>\n",
       "      <td>3611826.0</td>\n",
       "      <td>1397204.0</td>\n",
       "      <td>2542428.0</td>\n",
       "      <td>2077433.0</td>\n",
       "      <td>5201774.0</td>\n",
       "      <td>3677050.0</td>\n",
       "      <td>NaN</td>\n",
       "      <td>NaN</td>\n",
       "      <td>856805.0</td>\n",
       "      <td>375430.0</td>\n",
       "      <td>3859726.0</td>\n",
       "      <td>4325280.0</td>\n",
       "      <td>NaN</td>\n",
       "      <td>3240.0</td>\n",
       "      <td>4693961.0</td>\n",
       "    </tr>\n",
       "    <tr>\n",
       "      <th>2024-03</th>\n",
       "      <td>NaN</td>\n",
       "      <td>805183.0</td>\n",
       "      <td>9150873.0</td>\n",
       "      <td>2339823.0</td>\n",
       "      <td>NaN</td>\n",
       "      <td>5408234.0</td>\n",
       "      <td>NaN</td>\n",
       "      <td>935950.0</td>\n",
       "      <td>6690406.0</td>\n",
       "      <td>NaN</td>\n",
       "      <td>3556270.0</td>\n",
       "      <td>3447955.0</td>\n",
       "      <td>341273.0</td>\n",
       "      <td>3890033.0</td>\n",
       "      <td>1709606.0</td>\n",
       "      <td>3254560.0</td>\n",
       "      <td>2224151.0</td>\n",
       "      <td>7247821.0</td>\n",
       "      <td>3530682.0</td>\n",
       "      <td>NaN</td>\n",
       "      <td>NaN</td>\n",
       "      <td>1034652.0</td>\n",
       "      <td>389816.0</td>\n",
       "      <td>4354306.0</td>\n",
       "      <td>5887783.0</td>\n",
       "      <td>NaN</td>\n",
       "      <td>2493832.0</td>\n",
       "      <td>319314.0</td>\n",
       "    </tr>\n",
       "    <tr>\n",
       "      <th>2024-04</th>\n",
       "      <td>NaN</td>\n",
       "      <td>21256.0</td>\n",
       "      <td>8755028.0</td>\n",
       "      <td>2436719.0</td>\n",
       "      <td>NaN</td>\n",
       "      <td>5388341.0</td>\n",
       "      <td>NaN</td>\n",
       "      <td>976630.0</td>\n",
       "      <td>7745369.0</td>\n",
       "      <td>NaN</td>\n",
       "      <td>3798837.0</td>\n",
       "      <td>3551304.0</td>\n",
       "      <td>357818.0</td>\n",
       "      <td>3837949.0</td>\n",
       "      <td>2320854.0</td>\n",
       "      <td>3486596.0</td>\n",
       "      <td>2352373.0</td>\n",
       "      <td>7520755.0</td>\n",
       "      <td>808079.0</td>\n",
       "      <td>NaN</td>\n",
       "      <td>NaN</td>\n",
       "      <td>1165673.0</td>\n",
       "      <td>99752.0</td>\n",
       "      <td>4535580.0</td>\n",
       "      <td>5857438.0</td>\n",
       "      <td>NaN</td>\n",
       "      <td>41399.0</td>\n",
       "      <td>482961.0</td>\n",
       "    </tr>\n",
       "    <tr>\n",
       "      <th>2024-05</th>\n",
       "      <td>NaN</td>\n",
       "      <td>NaN</td>\n",
       "      <td>NaN</td>\n",
       "      <td>NaN</td>\n",
       "      <td>NaN</td>\n",
       "      <td>5575640.0</td>\n",
       "      <td>NaN</td>\n",
       "      <td>1000784.0</td>\n",
       "      <td>8497497.0</td>\n",
       "      <td>NaN</td>\n",
       "      <td>3700019.0</td>\n",
       "      <td>3599997.0</td>\n",
       "      <td>366801.0</td>\n",
       "      <td>3832806.0</td>\n",
       "      <td>1471602.0</td>\n",
       "      <td>3498661.0</td>\n",
       "      <td>2449695.0</td>\n",
       "      <td>7838099.0</td>\n",
       "      <td>2360.0</td>\n",
       "      <td>NaN</td>\n",
       "      <td>NaN</td>\n",
       "      <td>120607.0</td>\n",
       "      <td>NaN</td>\n",
       "      <td>605275.0</td>\n",
       "      <td>6061462.0</td>\n",
       "      <td>NaN</td>\n",
       "      <td>NaN</td>\n",
       "      <td>221793.0</td>\n",
       "    </tr>\n",
       "    <tr>\n",
       "      <th>2024-06</th>\n",
       "      <td>NaN</td>\n",
       "      <td>NaN</td>\n",
       "      <td>NaN</td>\n",
       "      <td>NaN</td>\n",
       "      <td>NaN</td>\n",
       "      <td>5602061.0</td>\n",
       "      <td>NaN</td>\n",
       "      <td>316781.0</td>\n",
       "      <td>616483.0</td>\n",
       "      <td>NaN</td>\n",
       "      <td>174525.0</td>\n",
       "      <td>130779.0</td>\n",
       "      <td>12752.0</td>\n",
       "      <td>166962.0</td>\n",
       "      <td>44791.0</td>\n",
       "      <td>217952.0</td>\n",
       "      <td>123366.0</td>\n",
       "      <td>602320.0</td>\n",
       "      <td>NaN</td>\n",
       "      <td>NaN</td>\n",
       "      <td>NaN</td>\n",
       "      <td>NaN</td>\n",
       "      <td>NaN</td>\n",
       "      <td>NaN</td>\n",
       "      <td>356350.0</td>\n",
       "      <td>NaN</td>\n",
       "      <td>NaN</td>\n",
       "      <td>NaN</td>\n",
       "    </tr>\n",
       "  </tbody>\n",
       "</table>\n",
       "<p>174 rows × 28 columns</p>\n",
       "</div>"
      ],
      "text/plain": [
       "concessionaria  AUTOPISTA FERNÃO DIAS  AUTOPISTA FLUMINENSE  \\\n",
       "mes_ano                                                       \n",
       "2010-01                     6190339.0             1815015.0   \n",
       "2010-02                     5924839.0             1708351.0   \n",
       "2010-03                     7003056.0             2018155.0   \n",
       "2010-04                     6875269.0             1752751.0   \n",
       "2010-05                     7518015.0             2005884.0   \n",
       "...                               ...                   ...   \n",
       "2024-02                           NaN             1987813.0   \n",
       "2024-03                           NaN              805183.0   \n",
       "2024-04                           NaN               21256.0   \n",
       "2024-05                           NaN                   NaN   \n",
       "2024-06                           NaN                   NaN   \n",
       "\n",
       "concessionaria  AUTOPISTA LITORAL SUL  AUTOPISTA PLANALTO SUL  \\\n",
       "mes_ano                                                         \n",
       "2010-01                     5183361.0               1464018.0   \n",
       "2010-02                     5020757.0               1481465.0   \n",
       "2010-03                     5864833.0               1701691.0   \n",
       "2010-04                     5433517.0               1627705.0   \n",
       "2010-05                     5796304.0               1746326.0   \n",
       "...                               ...                     ...   \n",
       "2024-02                     8614519.0               2222301.0   \n",
       "2024-03                     9150873.0               2339823.0   \n",
       "2024-04                     8755028.0               2436719.0   \n",
       "2024-05                           NaN                     NaN   \n",
       "2024-06                           NaN                     NaN   \n",
       "\n",
       "concessionaria  AUTOPISTA REGIS BITTENCOURT   CONCEBRA    CONCEPA     CONCER  \\\n",
       "mes_ano                                                                        \n",
       "2010-01                           8261978.0        NaN  1156902.0   990659.0   \n",
       "2010-02                           7872436.0        NaN  1063578.0   905443.0   \n",
       "2010-03                           9965511.0        NaN  1221469.0  1114422.0   \n",
       "2010-04                           9190180.0        NaN  1115475.0  1007970.0   \n",
       "2010-05                           9827356.0        NaN  1155528.0  1084941.0   \n",
       "...                                     ...        ...        ...        ...   \n",
       "2024-02                              6893.0  5072773.0        NaN   889976.0   \n",
       "2024-03                                 NaN  5408234.0        NaN   935950.0   \n",
       "2024-04                                 NaN  5388341.0        NaN   976630.0   \n",
       "2024-05                                 NaN  5575640.0        NaN  1000784.0   \n",
       "2024-06                                 NaN  5602061.0        NaN   316781.0   \n",
       "\n",
       "concessionaria        CRO       CRT     ECO050  \\\n",
       "mes_ano                                          \n",
       "2010-01               NaN  653385.0        NaN   \n",
       "2010-02               NaN  612653.0        NaN   \n",
       "2010-03               NaN  726098.0        NaN   \n",
       "2010-04               NaN  625073.0        NaN   \n",
       "2010-05               NaN  705851.0        NaN   \n",
       "...                   ...       ...        ...   \n",
       "2024-02         6110893.0       NaN  2771769.0   \n",
       "2024-03         6690406.0       NaN  3556270.0   \n",
       "2024-04         7745369.0       NaN  3798837.0   \n",
       "2024-05         8497497.0       NaN  3700019.0   \n",
       "2024-06          616483.0       NaN   174525.0   \n",
       "\n",
       "concessionaria  ECO101 CONCESSIONARIA DE RODOVIAS S/A  ECOPONTE  ECORIOMINAS  \\\n",
       "mes_ano                                                                        \n",
       "2010-01                                           NaN       NaN          NaN   \n",
       "2010-02                                           NaN       NaN          NaN   \n",
       "2010-03                                           NaN       NaN          NaN   \n",
       "2010-04                                           NaN       NaN          NaN   \n",
       "2010-05                                           NaN       NaN          NaN   \n",
       "...                                               ...       ...          ...   \n",
       "2024-02                                     2814580.0  281351.0    3611826.0   \n",
       "2024-03                                     3447955.0  341273.0    3890033.0   \n",
       "2024-04                                     3551304.0  357818.0    3837949.0   \n",
       "2024-05                                     3599997.0  366801.0    3832806.0   \n",
       "2024-06                                      130779.0   12752.0     166962.0   \n",
       "\n",
       "concessionaria     ECOSUL  ECOVIAS DO ARAGUAIA  ECOVIAS DO CERRADO  \\\n",
       "mes_ano                                                              \n",
       "2010-01          902674.0                  NaN                 NaN   \n",
       "2010-02          850322.0                  NaN                 NaN   \n",
       "2010-03         1239520.0                  NaN                 NaN   \n",
       "2010-04         1676946.0                  NaN                 NaN   \n",
       "2010-05         1416282.0                  NaN                 NaN   \n",
       "...                   ...                  ...                 ...   \n",
       "2024-02         1397204.0            2542428.0           2077433.0   \n",
       "2024-03         1709606.0            3254560.0           2224151.0   \n",
       "2024-04         2320854.0            3486596.0           2352373.0   \n",
       "2024-05         1471602.0            3498661.0           2449695.0   \n",
       "2024-06           44791.0             217952.0            123366.0   \n",
       "\n",
       "concessionaria  HOLDING DO SISTEMA RODOVIARIO RIO - SAO PAULO S.A.      MSVIA  \\\n",
       "mes_ano                                                                         \n",
       "2010-01                                                       NaN         NaN   \n",
       "2010-02                                                       NaN         NaN   \n",
       "2010-03                                                       NaN         NaN   \n",
       "2010-04                                                       NaN         NaN   \n",
       "2010-05                                                       NaN         NaN   \n",
       "...                                                           ...         ...   \n",
       "2024-02                                                 5201774.0   3677050.0   \n",
       "2024-03                                                 7247821.0   3530682.0   \n",
       "2024-04                                                 7520755.0    808079.0   \n",
       "2024-05                                                 7838099.0      2360.0   \n",
       "2024-06                                                  602320.0         NaN   \n",
       "\n",
       "concessionaria   NOVADUTRA  RIOSP  RODOVIA DO AÇO  TRANSBRASILIANA    VIA 040  \\\n",
       "mes_ano                                                                         \n",
       "2010-01          7602748.0    NaN        986812.0        1088796.0        NaN   \n",
       "2010-02          7065494.0    NaN        929227.0        1060479.0        NaN   \n",
       "2010-03          9025403.0    NaN       1165079.0        1274481.0        NaN   \n",
       "2010-04          9694048.0    NaN       1100444.0        1198545.0        NaN   \n",
       "2010-05         10581017.0    NaN       1176777.0        1334414.0        NaN   \n",
       "...                    ...    ...             ...              ...        ...   \n",
       "2024-02                NaN    NaN        856805.0         375430.0  3859726.0   \n",
       "2024-03                NaN    NaN       1034652.0         389816.0  4354306.0   \n",
       "2024-04                NaN    NaN       1165673.0          99752.0  4535580.0   \n",
       "2024-05                NaN    NaN        120607.0              NaN   605275.0   \n",
       "2024-06                NaN    NaN             NaN              NaN        NaN   \n",
       "\n",
       "concessionaria  VIA BAHIA  VIA BRASIL  VIA COSTEIRA    VIA SUL  \n",
       "mes_ano                                                         \n",
       "2010-01               NaN         NaN           NaN        NaN  \n",
       "2010-02               NaN         NaN           NaN        NaN  \n",
       "2010-03               NaN         NaN           NaN        NaN  \n",
       "2010-04               NaN         NaN           NaN        NaN  \n",
       "2010-05               NaN         NaN           NaN        NaN  \n",
       "...                   ...         ...           ...        ...  \n",
       "2024-02         4325280.0         NaN        3240.0  4693961.0  \n",
       "2024-03         5887783.0         NaN     2493832.0   319314.0  \n",
       "2024-04         5857438.0         NaN       41399.0   482961.0  \n",
       "2024-05         6061462.0         NaN           NaN   221793.0  \n",
       "2024-06          356350.0         NaN           NaN        NaN  \n",
       "\n",
       "[174 rows x 28 columns]"
      ]
     },
     "execution_count": 44,
     "metadata": {},
     "output_type": "execute_result"
    }
   ],
   "source": [
    "dict_veqs_mensal['VEQS_COMERCIAL']"
   ]
  },
  {
   "cell_type": "code",
   "execution_count": 45,
   "id": "3be55a84-ca71-418a-8d1d-9e3e703c9cbc",
   "metadata": {
    "execution": {
     "iopub.execute_input": "2024-09-04T21:07:51.696308Z",
     "iopub.status.busy": "2024-09-04T21:07:51.695692Z",
     "iopub.status.idle": "2024-09-04T21:07:51.705506Z",
     "shell.execute_reply": "2024-09-04T21:07:51.704153Z",
     "shell.execute_reply.started": "2024-09-04T21:07:51.696267Z"
    },
    "tags": []
   },
   "outputs": [],
   "source": [
    "def filter_incomplete_months(df_trafego, df_periodos):\n",
    "    df = df_trafego.copy()\n",
    "\n",
    "    for conc in df:\n",
    "        data_inicial = df_periodos.loc[conc, 'data_inicial']\n",
    "        data_final = df_periodos.loc[conc, 'data_final']\n",
    "        \n",
    "        # List to keep track of months to drop\n",
    "        months_drop = []\n",
    "\n",
    "        # Check if the starting month is incomplete\n",
    "        if data_inicial.day != 1:\n",
    "            # Drop the starting month if not starting from the 1st day\n",
    "            incomplete_start = pd.to_datetime(data_inicial).to_period('M')\n",
    "            months_drop.append(incomplete_start)\n",
    "\n",
    "        # Check if the ending month is incomplete\n",
    "        if data_final != (data_final + pd.offsets.MonthEnd(0)):\n",
    "            # Drop the ending month if not ending on the last day\n",
    "            incomplete_end = pd.to_datetime(data_final).to_period('M')\n",
    "            months_drop.append(incomplete_end)\n",
    "\n",
    "        # Remove duplicate dates (if any)\n",
    "        months_drop = list(set(months_drop))\n",
    "\n",
    "    # Removendo os meses\n",
    "        for month in df.index:\n",
    "            if month in months_drop:\n",
    "                df.loc[month, conc] = None         \n",
    "    return df  "
   ]
  },
  {
   "cell_type": "code",
   "execution_count": 46,
   "id": "e2714335-fa1c-4bc6-84ed-912a4bc1557f",
   "metadata": {
    "execution": {
     "iopub.execute_input": "2024-09-04T21:07:51.709199Z",
     "iopub.status.busy": "2024-09-04T21:07:51.707967Z",
     "iopub.status.idle": "2024-09-04T21:07:51.718541Z",
     "shell.execute_reply": "2024-09-04T21:07:51.716903Z",
     "shell.execute_reply.started": "2024-09-04T21:07:51.709127Z"
    },
    "tags": []
   },
   "outputs": [],
   "source": [
    "# OLD, com erro!\n",
    "# def filter_incomplete_months(df_trafego, df_periodos):\n",
    "#     df = df_trafego.copy()\n",
    "\n",
    "#     for conc in df_periodos.index:\n",
    "#         data_inicial = df_periodos.loc[conc, 'data_inicial']\n",
    "#         data_final = df_periodos.loc[conc, 'data_final']\n",
    "        \n",
    "#         # List to keep track of months to drop\n",
    "#         months_drop = []\n",
    "\n",
    "#         # Check if the starting month is incomplete\n",
    "#         if data_inicial.day != 1:\n",
    "#             # Drop the starting month if not starting from the 1st day\n",
    "#             incomplete_start = (data_inicial + pd.offsets.MonthEnd(0)).date()\n",
    "#             months_drop.append(incomplete_start)\n",
    "\n",
    "#         # Check if the ending month is incomplete\n",
    "#         if data_final != (data_final + pd.offsets.MonthEnd(0)):\n",
    "#             # Drop the ending month if not ending on the last day\n",
    "#             incomplete_end = (data_final + pd.offsets.MonthEnd(0)).date()\n",
    "#             months_drop.append(incomplete_end)\n",
    "\n",
    "#         # Remove duplicate dates (if any)\n",
    "#         months_drop = list(set(months_drop))\n",
    "\n",
    "#         # Remove the rows corresponding to incomplete months\n",
    "#         for month in months_drop:\n",
    "#             if month in df.index:\n",
    "#                 df.loc[month, conc] = None\n",
    "#     return df    "
   ]
  },
  {
   "cell_type": "code",
   "execution_count": 47,
   "id": "73c43ac4-15d3-446e-956e-32f3185a513f",
   "metadata": {
    "execution": {
     "iopub.execute_input": "2024-09-04T21:07:51.721467Z",
     "iopub.status.busy": "2024-09-04T21:07:51.720571Z",
     "iopub.status.idle": "2024-09-04T21:07:51.799398Z",
     "shell.execute_reply": "2024-09-04T21:07:51.798222Z",
     "shell.execute_reply.started": "2024-09-04T21:07:51.721422Z"
    },
    "tags": []
   },
   "outputs": [],
   "source": [
    "for veq, df in dict_veqs_mensal.items():\n",
    "    dict_veqs_mensal[veq] = filter_incomplete_months(df, df_periodos)"
   ]
  },
  {
   "cell_type": "code",
   "execution_count": 48,
   "id": "4ad49133-58dc-47ee-aea4-1fbbc18bfe2c",
   "metadata": {
    "execution": {
     "iopub.execute_input": "2024-09-04T21:07:51.802161Z",
     "iopub.status.busy": "2024-09-04T21:07:51.801483Z",
     "iopub.status.idle": "2024-09-04T21:07:51.812012Z",
     "shell.execute_reply": "2024-09-04T21:07:51.809932Z",
     "shell.execute_reply.started": "2024-09-04T21:07:51.802119Z"
    },
    "tags": []
   },
   "outputs": [],
   "source": [
    "# removendo o primeiro mês das que não iniciam em jan/10 (por algum erro dos dados, está incompleto)\n",
    "def remove_first_month_post_2010(df_mensal, mes_nao_remover):\n",
    "    for col in df_mensal:\n",
    "        first_non_nan = df_mensal[col].first_valid_index()\n",
    "        # print(col, first_non_nan)\n",
    "        # print(col, df_mensal.loc[first_non_nan, col])\n",
    "        if first_non_nan != pd.to_datetime(mes_nao_remover).to_period('M'):\n",
    "            df_mensal.loc[first_non_nan, col] = None\n",
    "        # print(col, df_mensal.loc[first_non_nan, col])\n",
    "    return df_mensal"
   ]
  },
  {
   "cell_type": "code",
   "execution_count": 49,
   "id": "46848448-87fd-42da-af4f-0dd70ee83d73",
   "metadata": {
    "execution": {
     "iopub.execute_input": "2024-09-04T21:07:51.814862Z",
     "iopub.status.busy": "2024-09-04T21:07:51.814216Z",
     "iopub.status.idle": "2024-09-04T21:07:51.822696Z",
     "shell.execute_reply": "2024-09-04T21:07:51.819961Z",
     "shell.execute_reply.started": "2024-09-04T21:07:51.814823Z"
    },
    "tags": []
   },
   "outputs": [],
   "source": [
    "# removendo o primeiro mês das que não iniciam em jan/10 (por algum erro dos dados, está incompleto)\n",
    "# def remove_first_month_post_2010(df_mensal, mes_nao_remover):\n",
    "#     for col in df_mensal:\n",
    "#         if df_mensal[col].dropna().index[0] != pd.to_datetime(mes_nao_remover).date() :\n",
    "#             for i in df_mensal[col].index:\n",
    "#                 print(col, i, df_periodos.loc[col, 'data_inicial'])\n",
    "#                 if i == df_periodos.loc[col, 'data_inicial']:\n",
    "#                     print(col, df_mensal.loc[i, col])\n",
    "#                     df_mensal.loc[i, col] = 0\n",
    "#                     print(col, df_mensal.loc[i, col])\n",
    "#     return df_mensal"
   ]
  },
  {
   "cell_type": "code",
   "execution_count": 50,
   "id": "5f585fd3-5de4-4a7e-a18a-392719fa6e50",
   "metadata": {
    "execution": {
     "iopub.execute_input": "2024-09-04T21:07:51.825785Z",
     "iopub.status.busy": "2024-09-04T21:07:51.824756Z",
     "iopub.status.idle": "2024-09-04T21:07:51.903154Z",
     "shell.execute_reply": "2024-09-04T21:07:51.902055Z",
     "shell.execute_reply.started": "2024-09-04T21:07:51.825666Z"
    },
    "tags": []
   },
   "outputs": [],
   "source": [
    "for veq, df in dict_veqs_mensal.items():\n",
    "    dict_veqs_mensal[veq] = remove_first_month_post_2010(df, '2010-01')"
   ]
  },
  {
   "cell_type": "code",
   "execution_count": 51,
   "id": "e218d704-158e-413e-b76e-233ec24ddabe",
   "metadata": {
    "execution": {
     "iopub.execute_input": "2024-09-04T21:07:51.905199Z",
     "iopub.status.busy": "2024-09-04T21:07:51.904614Z",
     "iopub.status.idle": "2024-09-04T21:07:51.911399Z",
     "shell.execute_reply": "2024-09-04T21:07:51.910480Z",
     "shell.execute_reply.started": "2024-09-04T21:07:51.905161Z"
    }
   },
   "outputs": [
    {
     "name": "stdout",
     "output_type": "stream",
     "text": [
      "PeriodIndex(['2010-01', '2010-02', '2010-03', '2010-04', '2010-05', '2010-06',\n",
      "             '2010-07', '2010-08', '2010-09', '2010-10',\n",
      "             ...\n",
      "             '2023-09', '2023-10', '2023-11', '2023-12', '2024-01', '2024-02',\n",
      "             '2024-03', '2024-04', '2024-05', '2024-06'],\n",
      "            dtype='period[M]', name='mes_ano', length=174)\n",
      "PeriodIndex(['2010-01', '2010-02', '2010-03', '2010-04', '2010-05', '2010-06',\n",
      "             '2010-07', '2010-08', '2010-09', '2010-10',\n",
      "             ...\n",
      "             '2023-09', '2023-10', '2023-11', '2023-12', '2024-01', '2024-02',\n",
      "             '2024-03', '2024-04', '2024-05', '2024-06'],\n",
      "            dtype='period[M]', name='mes_ano', length=174)\n"
     ]
    }
   ],
   "source": [
    "for veq, df in dict_veqs_mensal.items():\n",
    "    print(df.index)"
   ]
  },
  {
   "cell_type": "markdown",
   "id": "e902c923-1d29-456f-8f4f-329b12ae1a4d",
   "metadata": {},
   "source": [
    "# Criando dataframes agrupando VEQs por TRIMESTRE/concessionaria/tipo de trafego"
   ]
  },
  {
   "cell_type": "code",
   "execution_count": 52,
   "id": "1790f150-4d0f-4122-9daa-1ea4f9657e2d",
   "metadata": {
    "execution": {
     "iopub.execute_input": "2024-09-04T21:07:51.913484Z",
     "iopub.status.busy": "2024-09-04T21:07:51.912801Z",
     "iopub.status.idle": "2024-09-04T21:07:51.922027Z",
     "shell.execute_reply": "2024-09-04T21:07:51.920969Z",
     "shell.execute_reply.started": "2024-09-04T21:07:51.913325Z"
    },
    "tags": []
   },
   "outputs": [],
   "source": [
    "def group_by_tri(df_monthly):\n",
    "    df_tri = df_monthly.copy()\n",
    "   \n",
    "    # Ensure the index is a datetime object\n",
    "    df_tri.index = df_tri.index.to_timestamp()\n",
    "    \n",
    "    # Create a column for the quarter-year format\n",
    "    df_tri['trimestre'] = df_tri.index.to_period('Q')\n",
    "    \n",
    "    # Identify quarters with any NaN values\n",
    "    cols = [col for col in df_tri.columns if col != 'trimestre']\n",
    "    for col in cols:\n",
    "        # Find quarters where there is at least one NaN value in the column\n",
    "        quarters_with_nan = df_tri.groupby('trimestre')[col].apply(lambda x: x.isna().any())\n",
    "        \n",
    "        # Filter only quarters that have NaN\n",
    "        quarters_with_nan = quarters_with_nan[quarters_with_nan].index\n",
    "\n",
    "        # Set all values in those quarters to zero for the column\n",
    "        df_tri.loc[df_tri['trimestre'].isin(quarters_with_nan), col] = 0\n",
    "\n",
    "    # Drop the helper column\n",
    "    df_tri = df_tri.drop(columns=['trimestre'])\n",
    "\n",
    "    # Group by trimester (quarter) and sum\n",
    "    df_tri = df_tri.groupby(df_tri.index.to_period('Q')).sum()\n",
    "    \n",
    "    df_tri.index.name = 'trimestre'\n",
    "    # df_tri.index = df_tri.index.to_period('Q')\n",
    "\n",
    "    return df_tri\n"
   ]
  },
  {
   "cell_type": "code",
   "execution_count": 53,
   "id": "726ffe1d-5c89-4627-bf71-daf257c7c6a2",
   "metadata": {
    "execution": {
     "iopub.execute_input": "2024-09-04T21:07:51.924228Z",
     "iopub.status.busy": "2024-09-04T21:07:51.923631Z",
     "iopub.status.idle": "2024-09-04T21:07:52.685407Z",
     "shell.execute_reply": "2024-09-04T21:07:52.684035Z",
     "shell.execute_reply.started": "2024-09-04T21:07:51.924190Z"
    },
    "tags": []
   },
   "outputs": [],
   "source": [
    "dict_veqs_tri = {}\n",
    "for veq, df in dict_veqs_mensal.items():\n",
    "    dict_veqs_tri[veq] = group_by_tri(df)"
   ]
  },
  {
   "cell_type": "code",
   "execution_count": 54,
   "id": "206a42ed-ca8b-4b2d-bb63-97c859cc54f9",
   "metadata": {
    "execution": {
     "iopub.execute_input": "2024-09-04T21:07:52.687503Z",
     "iopub.status.busy": "2024-09-04T21:07:52.687037Z",
     "iopub.status.idle": "2024-09-04T21:07:52.695225Z",
     "shell.execute_reply": "2024-09-04T21:07:52.693623Z",
     "shell.execute_reply.started": "2024-09-04T21:07:52.687466Z"
    },
    "tags": []
   },
   "outputs": [
    {
     "name": "stdout",
     "output_type": "stream",
     "text": [
      "PeriodIndex(['2010Q1', '2010Q2', '2010Q3', '2010Q4', '2011Q1', '2011Q2',\n",
      "             '2011Q3', '2011Q4', '2012Q1', '2012Q2', '2012Q3', '2012Q4',\n",
      "             '2013Q1', '2013Q2', '2013Q3', '2013Q4', '2014Q1', '2014Q2',\n",
      "             '2014Q3', '2014Q4', '2015Q1', '2015Q2', '2015Q3', '2015Q4',\n",
      "             '2016Q1', '2016Q2', '2016Q3', '2016Q4', '2017Q1', '2017Q2',\n",
      "             '2017Q3', '2017Q4', '2018Q1', '2018Q2', '2018Q3', '2018Q4',\n",
      "             '2019Q1', '2019Q2', '2019Q3', '2019Q4', '2020Q1', '2020Q2',\n",
      "             '2020Q3', '2020Q4', '2021Q1', '2021Q2', '2021Q3', '2021Q4',\n",
      "             '2022Q1', '2022Q2', '2022Q3', '2022Q4', '2023Q1', '2023Q2',\n",
      "             '2023Q3', '2023Q4', '2024Q1', '2024Q2'],\n",
      "            dtype='period[Q-DEC]', name='trimestre')\n",
      "PeriodIndex(['2010Q1', '2010Q2', '2010Q3', '2010Q4', '2011Q1', '2011Q2',\n",
      "             '2011Q3', '2011Q4', '2012Q1', '2012Q2', '2012Q3', '2012Q4',\n",
      "             '2013Q1', '2013Q2', '2013Q3', '2013Q4', '2014Q1', '2014Q2',\n",
      "             '2014Q3', '2014Q4', '2015Q1', '2015Q2', '2015Q3', '2015Q4',\n",
      "             '2016Q1', '2016Q2', '2016Q3', '2016Q4', '2017Q1', '2017Q2',\n",
      "             '2017Q3', '2017Q4', '2018Q1', '2018Q2', '2018Q3', '2018Q4',\n",
      "             '2019Q1', '2019Q2', '2019Q3', '2019Q4', '2020Q1', '2020Q2',\n",
      "             '2020Q3', '2020Q4', '2021Q1', '2021Q2', '2021Q3', '2021Q4',\n",
      "             '2022Q1', '2022Q2', '2022Q3', '2022Q4', '2023Q1', '2023Q2',\n",
      "             '2023Q3', '2023Q4', '2024Q1', '2024Q2'],\n",
      "            dtype='period[Q-DEC]', name='trimestre')\n"
     ]
    }
   ],
   "source": [
    "for veq, df in dict_veqs_tri.items():\n",
    "    print(df.index)"
   ]
  },
  {
   "cell_type": "markdown",
   "id": "6c90ab55-71f1-4129-ac09-2617c0722e83",
   "metadata": {},
   "source": [
    "# Salvando p/parquet"
   ]
  },
  {
   "cell_type": "code",
   "execution_count": 55,
   "id": "3138fcdf-0e76-4d87-95ad-bd044cefbf8f",
   "metadata": {
    "execution": {
     "iopub.execute_input": "2024-09-04T21:07:52.697415Z",
     "iopub.status.busy": "2024-09-04T21:07:52.697026Z",
     "iopub.status.idle": "2024-09-04T21:08:12.876855Z",
     "shell.execute_reply": "2024-09-04T21:08:12.875640Z",
     "shell.execute_reply.started": "2024-09-04T21:07:52.697349Z"
    },
    "tags": []
   },
   "outputs": [],
   "source": [
    "# dataframe total\n",
    "# df_trafego.to_parquet(os.path.join(path_dados_derivados,'df_trafego.parquet'))\n",
    "df_trafego.to_parquet(path_output /'df_trafego.parquet')"
   ]
  },
  {
   "cell_type": "code",
   "execution_count": 56,
   "id": "dc5e978b-2ed4-4311-92ef-6a9836424ec6",
   "metadata": {
    "execution": {
     "iopub.execute_input": "2024-09-04T21:08:12.879466Z",
     "iopub.status.busy": "2024-09-04T21:08:12.878863Z",
     "iopub.status.idle": "2024-09-04T21:08:12.887687Z",
     "shell.execute_reply": "2024-09-04T21:08:12.886404Z",
     "shell.execute_reply.started": "2024-09-04T21:08:12.879427Z"
    },
    "tags": []
   },
   "outputs": [],
   "source": [
    "# data inicial e final\n",
    "df_periodos.to_parquet(path_output /'df_periodos.parquet')"
   ]
  },
  {
   "cell_type": "code",
   "execution_count": 57,
   "id": "eaf1133f-540b-4ad7-9d5d-a008f1d4ca36",
   "metadata": {
    "execution": {
     "iopub.execute_input": "2024-09-04T21:08:12.889804Z",
     "iopub.status.busy": "2024-09-04T21:08:12.889217Z",
     "iopub.status.idle": "2024-09-04T21:08:12.911551Z",
     "shell.execute_reply": "2024-09-04T21:08:12.910446Z",
     "shell.execute_reply.started": "2024-09-04T21:08:12.889764Z"
    },
    "tags": []
   },
   "outputs": [],
   "source": [
    "# dicionário com os dados de tráfego anuais:\n",
    "for veq in dict_veqs_anual:\n",
    "    dict_veqs_anual[veq].to_parquet(path_output / f'df_{veq}_anual.parquet')"
   ]
  },
  {
   "cell_type": "code",
   "execution_count": 58,
   "id": "cd64be80-e33b-4009-b2b6-c7d3abc42da7",
   "metadata": {
    "execution": {
     "iopub.execute_input": "2024-09-04T21:08:12.913733Z",
     "iopub.status.busy": "2024-09-04T21:08:12.913013Z",
     "iopub.status.idle": "2024-09-04T21:08:12.935575Z",
     "shell.execute_reply": "2024-09-04T21:08:12.934449Z",
     "shell.execute_reply.started": "2024-09-04T21:08:12.913696Z"
    },
    "tags": []
   },
   "outputs": [],
   "source": [
    "# dicionário com os dados de tráfego mensial:\n",
    "for veq in dict_veqs_mensal:\n",
    "    dict_veqs_mensal[veq].to_parquet(path_output / f'df_{veq}_mensal.parquet')"
   ]
  },
  {
   "cell_type": "code",
   "execution_count": 59,
   "id": "46735619-bd69-44f3-833e-9e7c85b8468d",
   "metadata": {
    "execution": {
     "iopub.execute_input": "2024-09-04T21:08:12.938076Z",
     "iopub.status.busy": "2024-09-04T21:08:12.937359Z",
     "iopub.status.idle": "2024-09-04T21:08:12.960551Z",
     "shell.execute_reply": "2024-09-04T21:08:12.959399Z",
     "shell.execute_reply.started": "2024-09-04T21:08:12.938036Z"
    },
    "tags": []
   },
   "outputs": [],
   "source": [
    "# dicionário com os dados de tráfego trimestrais:\n",
    "for veq in dict_veqs_tri:\n",
    "    dict_veqs_tri[veq].to_parquet(path_output / f'df_{veq}_trimestral.parquet')"
   ]
  },
  {
   "cell_type": "markdown",
   "id": "3dd5690a-1f36-4de9-ace5-6f90ed976fd2",
   "metadata": {},
   "source": [
    "# Salvando p/Excel"
   ]
  },
  {
   "cell_type": "code",
   "execution_count": 60,
   "id": "5aa80b27-1e5f-46bc-a90d-cf4964847bf0",
   "metadata": {
    "execution": {
     "iopub.execute_input": "2024-09-04T21:08:12.963157Z",
     "iopub.status.busy": "2024-09-04T21:08:12.962434Z",
     "iopub.status.idle": "2024-09-04T21:08:13.182453Z",
     "shell.execute_reply": "2024-09-04T21:08:13.181284Z",
     "shell.execute_reply.started": "2024-09-04T21:08:12.963118Z"
    },
    "tags": []
   },
   "outputs": [],
   "source": [
    "# dados de tráfego anual\n",
    "with pd.ExcelWriter(path_output / 'dados_trafego_ANTT_anual.xlsx') as writer:\n",
    "    df_periodos.to_excel(writer, sheet_name=\"periodo_concessionarias\")\n",
    "    for veq in dict_veqs_anual:\n",
    "        dict_veqs_anual[veq].to_excel(writer, sheet_name=f\"{veq}\")"
   ]
  },
  {
   "cell_type": "code",
   "execution_count": 61,
   "id": "cf353305-0332-4bef-b609-4eed30bcb8a8",
   "metadata": {
    "execution": {
     "iopub.execute_input": "2024-09-04T21:08:13.184873Z",
     "iopub.status.busy": "2024-09-04T21:08:13.184313Z",
     "iopub.status.idle": "2024-09-04T21:08:13.191913Z",
     "shell.execute_reply": "2024-09-04T21:08:13.190936Z",
     "shell.execute_reply.started": "2024-09-04T21:08:13.184835Z"
    },
    "tags": []
   },
   "outputs": [
    {
     "name": "stdout",
     "output_type": "stream",
     "text": [
      "VEQS_COMERCIAL <class 'pandas.core.indexes.period.PeriodIndex'>\n",
      "VEQS_PASSEIO <class 'pandas.core.indexes.period.PeriodIndex'>\n"
     ]
    }
   ],
   "source": [
    "for key, df in dict_veqs_mensal.items():\n",
    "    print(key, type(df.index))"
   ]
  },
  {
   "cell_type": "code",
   "execution_count": 62,
   "id": "c32b406b-e0ba-43b0-b605-cbc6ba2bf521",
   "metadata": {
    "execution": {
     "iopub.execute_input": "2024-09-04T21:08:13.195099Z",
     "iopub.status.busy": "2024-09-04T21:08:13.194260Z",
     "iopub.status.idle": "2024-09-04T21:08:13.627429Z",
     "shell.execute_reply": "2024-09-04T21:08:13.626269Z",
     "shell.execute_reply.started": "2024-09-04T21:08:13.195060Z"
    },
    "tags": []
   },
   "outputs": [],
   "source": [
    "# dados de tráfego mensal\n",
    "with pd.ExcelWriter(path_output / 'dados_trafego_ANTT_mensal.xlsx') as writer:\n",
    "    df_periodos.to_excel(writer, sheet_name=\"periodo_concessionarias\")\n",
    "    for veq in dict_veqs_mensal:\n",
    "        dict_veqs_mensal[veq].to_excel(writer, sheet_name=f\"{veq}\")"
   ]
  },
  {
   "cell_type": "code",
   "execution_count": 63,
   "id": "4a45a7a9-6f50-4522-a1a4-06d8760f8ad7",
   "metadata": {
    "execution": {
     "iopub.execute_input": "2024-09-04T21:08:13.629712Z",
     "iopub.status.busy": "2024-09-04T21:08:13.629249Z",
     "iopub.status.idle": "2024-09-04T21:08:13.813841Z",
     "shell.execute_reply": "2024-09-04T21:08:13.812480Z",
     "shell.execute_reply.started": "2024-09-04T21:08:13.629675Z"
    },
    "tags": []
   },
   "outputs": [],
   "source": [
    "# dados de tráfego trimestrais\n",
    "with pd.ExcelWriter(path_output / 'dados_trafego_ANTT_trimestral.xlsx') as writer:\n",
    "    df_periodos.to_excel(writer, sheet_name=\"periodo_concessionarias\")\n",
    "    for veq in dict_veqs_tri:\n",
    "        dict_veqs_tri[veq].to_excel(writer, sheet_name=f\"{veq}\")"
   ]
  },
  {
   "cell_type": "code",
   "execution_count": null,
   "id": "5c344510-25a6-42f4-963f-9f0d7bbf78f5",
   "metadata": {},
   "outputs": [],
   "source": []
  },
  {
   "cell_type": "code",
   "execution_count": null,
   "id": "b466b80e-61a9-4af6-98ec-27ce32e47d34",
   "metadata": {},
   "outputs": [],
   "source": []
  },
  {
   "cell_type": "code",
   "execution_count": null,
   "id": "184da6b5-6476-4ddc-a87b-61c27808447e",
   "metadata": {},
   "outputs": [],
   "source": []
  }
 ],
 "metadata": {
  "kernelspec": {
   "display_name": "infra-data",
   "language": "python",
   "name": "infra-data"
  },
  "language_info": {
   "codemirror_mode": {
    "name": "ipython",
    "version": 3
   },
   "file_extension": ".py",
   "mimetype": "text/x-python",
   "name": "python",
   "nbconvert_exporter": "python",
   "pygments_lexer": "ipython3",
   "version": "3.9.16"
  }
 },
 "nbformat": 4,
 "nbformat_minor": 5
}
