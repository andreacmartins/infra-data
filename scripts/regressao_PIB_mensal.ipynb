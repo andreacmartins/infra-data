{
 "cells": [
  {
   "cell_type": "markdown",
   "id": "5ef1980a-1607-49a8-9006-fdf0d3d6d80e",
   "metadata": {},
   "source": [
    "# IMPORTS"
   ]
  },
  {
   "cell_type": "code",
   "execution_count": 1,
   "id": "24b2fbe4-04e5-4c82-8abb-70d9907bb94b",
   "metadata": {
    "execution": {
     "iopub.execute_input": "2024-08-29T17:29:26.789861Z",
     "iopub.status.busy": "2024-08-29T17:29:26.789216Z",
     "iopub.status.idle": "2024-08-29T17:29:28.421076Z",
     "shell.execute_reply": "2024-08-29T17:29:28.419645Z",
     "shell.execute_reply.started": "2024-08-29T17:29:26.789822Z"
    },
    "tags": []
   },
   "outputs": [],
   "source": [
    "import pandas as pd\n",
    "import numpy as np\n",
    "import os\n",
    "from decimal import Decimal\n",
    "import pickle\n",
    "from pathlib import Path\n",
    "\n",
    "from sklearn import linear_model\n",
    "import statsmodels.api as sm"
   ]
  },
  {
   "cell_type": "markdown",
   "id": "95c951db-275a-4345-8a52-180762be4383",
   "metadata": {
    "execution": {
     "iopub.execute_input": "2024-08-20T19:55:44.418829Z",
     "iopub.status.busy": "2024-08-20T19:55:44.417516Z",
     "iopub.status.idle": "2024-08-20T19:55:44.424840Z",
     "shell.execute_reply": "2024-08-20T19:55:44.422826Z",
     "shell.execute_reply.started": "2024-08-20T19:55:44.418787Z"
    }
   },
   "source": [
    "# SETUP"
   ]
  },
  {
   "cell_type": "code",
   "execution_count": 2,
   "id": "063f912e-4ab5-4542-bc20-86c57d2f0bae",
   "metadata": {
    "execution": {
     "iopub.execute_input": "2024-08-29T17:29:28.424108Z",
     "iopub.status.busy": "2024-08-29T17:29:28.423540Z",
     "iopub.status.idle": "2024-08-29T17:29:28.432138Z",
     "shell.execute_reply": "2024-08-29T17:29:28.430424Z",
     "shell.execute_reply.started": "2024-08-29T17:29:28.424071Z"
    },
    "tags": []
   },
   "outputs": [],
   "source": [
    "dir_tree_util_path = os.path.join(\"utils\", \"dir_tree.py\")\n",
    "exec(open(dir_tree_util_path).read())"
   ]
  },
  {
   "cell_type": "markdown",
   "id": "1405ef31-8509-4565-9304-e6efd69c7eed",
   "metadata": {},
   "source": [
    "# INPUTS"
   ]
  },
  {
   "cell_type": "code",
   "execution_count": 3,
   "id": "3b43b23b-1a5c-4658-91ad-8863019ee433",
   "metadata": {
    "execution": {
     "iopub.execute_input": "2024-08-29T17:29:28.435816Z",
     "iopub.status.busy": "2024-08-29T17:29:28.434175Z",
     "iopub.status.idle": "2024-08-29T17:29:28.441394Z",
     "shell.execute_reply": "2024-08-29T17:29:28.439562Z",
     "shell.execute_reply.started": "2024-08-29T17:29:28.435759Z"
    },
    "tags": []
   },
   "outputs": [],
   "source": [
    "# Paths\n",
    "path_dados = PROJECT_DIRS[\"DADOS_DERIVADOS_DIR\"]\n",
    "# path_output = TODO"
   ]
  },
  {
   "cell_type": "code",
   "execution_count": 4,
   "id": "b1677345-dc58-41c5-8955-68abf6a7b79e",
   "metadata": {
    "execution": {
     "iopub.execute_input": "2024-08-29T17:29:28.444843Z",
     "iopub.status.busy": "2024-08-29T17:29:28.444013Z",
     "iopub.status.idle": "2024-08-29T17:29:28.450088Z",
     "shell.execute_reply": "2024-08-29T17:29:28.449104Z",
     "shell.execute_reply.started": "2024-08-29T17:29:28.444805Z"
    },
    "tags": []
   },
   "outputs": [],
   "source": [
    "periodos = [['2010-01','2022-01'], ['2015-09','2022-01']] # formato Y/M, inclusive"
   ]
  },
  {
   "cell_type": "code",
   "execution_count": 5,
   "id": "39acc033-4ede-4c9b-a50b-29723e60d658",
   "metadata": {
    "execution": {
     "iopub.execute_input": "2024-08-29T17:29:28.451949Z",
     "iopub.status.busy": "2024-08-29T17:29:28.451354Z",
     "iopub.status.idle": "2024-08-29T17:29:28.458259Z",
     "shell.execute_reply": "2024-08-29T17:29:28.456823Z",
     "shell.execute_reply.started": "2024-08-29T17:29:28.451913Z"
    },
    "tags": []
   },
   "outputs": [],
   "source": [
    "path_outputs = PROJECT_DIRS[\"DADOS_DERIVADOS_DIR\"]"
   ]
  },
  {
   "cell_type": "markdown",
   "id": "6cb48e4f-9dbe-4f57-8be8-0b95433e25da",
   "metadata": {},
   "source": [
    "# CARREGANDO p/MEMORIA OS DADOS"
   ]
  },
  {
   "cell_type": "code",
   "execution_count": 6,
   "id": "b2d18e17-bee7-4c1b-8325-c59cc1676e2e",
   "metadata": {
    "execution": {
     "iopub.execute_input": "2024-08-29T17:29:29.451674Z",
     "iopub.status.busy": "2024-08-29T17:29:29.450683Z",
     "iopub.status.idle": "2024-08-29T17:29:29.523774Z",
     "shell.execute_reply": "2024-08-29T17:29:29.522819Z",
     "shell.execute_reply.started": "2024-08-29T17:29:29.451630Z"
    },
    "tags": []
   },
   "outputs": [],
   "source": [
    "# Dados de tráfego ANTT\n",
    "df_veqs_comercial = pd.read_parquet(path_dados / 'df_VEQS_COMERCIAL_mensal_ajustado.parquet')\n",
    "df_veqs_passeio = pd.read_parquet(path_dados / 'df_VEQS_PASSEIO_mensal_ajustado.parquet')\n",
    "\n",
    "df_periodos = pd.read_parquet(path_dados / 'df_periodos.parquet')\n",
    "\n",
    "dict_veqs = {'veqs_comercial':df_veqs_comercial,\n",
    "           'veqs_passeio':df_veqs_passeio}"
   ]
  },
  {
   "cell_type": "code",
   "execution_count": 7,
   "id": "9f3e2992-3b18-451e-91a7-615b3e88231c",
   "metadata": {
    "execution": {
     "iopub.execute_input": "2024-08-29T17:29:30.225178Z",
     "iopub.status.busy": "2024-08-29T17:29:30.224701Z",
     "iopub.status.idle": "2024-08-29T17:29:30.235672Z",
     "shell.execute_reply": "2024-08-29T17:29:30.234266Z",
     "shell.execute_reply.started": "2024-08-29T17:29:30.225140Z"
    },
    "tags": []
   },
   "outputs": [],
   "source": [
    "# Dados de PIB\n",
    "df_PIB = pd.read_parquet(path_dados / 'PIB-Bacen_mensal.parquet')"
   ]
  },
  {
   "cell_type": "markdown",
   "id": "c234e74c-a879-45aa-a806-22f44a5427d3",
   "metadata": {},
   "source": [
    "# TRATANDO OS DADOS"
   ]
  },
  {
   "cell_type": "code",
   "execution_count": 8,
   "id": "e4cf85c5-7182-4ad5-b541-c95e578b498c",
   "metadata": {
    "execution": {
     "iopub.execute_input": "2024-08-29T17:29:30.771772Z",
     "iopub.status.busy": "2024-08-29T17:29:30.770906Z",
     "iopub.status.idle": "2024-08-29T17:29:30.783719Z",
     "shell.execute_reply": "2024-08-29T17:29:30.781568Z",
     "shell.execute_reply.started": "2024-08-29T17:29:30.771735Z"
    },
    "tags": []
   },
   "outputs": [],
   "source": [
    "df_PIB.index = pd.to_datetime(df_PIB['Data'])\n",
    "df_PIB = df_PIB.drop(columns=['Data'])\n",
    "df_PIB = df_PIB.dropna()"
   ]
  },
  {
   "cell_type": "markdown",
   "id": "00347302-ded5-4080-92a8-fdfc434fb2e3",
   "metadata": {},
   "source": [
    "# DISPONIBILIDADE DE DADOS"
   ]
  },
  {
   "cell_type": "code",
   "execution_count": 27,
   "id": "4924deb4-cac5-4fd2-ada7-55eb3c2d74ce",
   "metadata": {
    "execution": {
     "iopub.execute_input": "2024-08-29T15:58:56.518889Z",
     "iopub.status.busy": "2024-08-29T15:58:56.518410Z",
     "iopub.status.idle": "2024-08-29T15:58:56.534750Z",
     "shell.execute_reply": "2024-08-29T15:58:56.533495Z",
     "shell.execute_reply.started": "2024-08-29T15:58:56.518849Z"
    }
   },
   "outputs": [
    {
     "data": {
      "text/html": [
       "<div>\n",
       "<style scoped>\n",
       "    .dataframe tbody tr th:only-of-type {\n",
       "        vertical-align: middle;\n",
       "    }\n",
       "\n",
       "    .dataframe tbody tr th {\n",
       "        vertical-align: top;\n",
       "    }\n",
       "\n",
       "    .dataframe thead th {\n",
       "        text-align: right;\n",
       "    }\n",
       "</style>\n",
       "<table border=\"1\" class=\"dataframe\">\n",
       "  <thead>\n",
       "    <tr style=\"text-align: right;\">\n",
       "      <th></th>\n",
       "      <th>data_inicial</th>\n",
       "      <th>data_final</th>\n",
       "    </tr>\n",
       "    <tr>\n",
       "      <th>concessionaria</th>\n",
       "      <th></th>\n",
       "      <th></th>\n",
       "    </tr>\n",
       "  </thead>\n",
       "  <tbody>\n",
       "    <tr>\n",
       "      <th>HOLDING DO SISTEMA RODOVIARIO RIO - SAO PAULO S.A.</th>\n",
       "      <td>2024-01-01</td>\n",
       "      <td>2024-06-03</td>\n",
       "    </tr>\n",
       "    <tr>\n",
       "      <th>VIA BRASIL</th>\n",
       "      <td>2023-02-01</td>\n",
       "      <td>2023-12-01</td>\n",
       "    </tr>\n",
       "    <tr>\n",
       "      <th>ECORIOMINAS</th>\n",
       "      <td>2022-10-01</td>\n",
       "      <td>2024-06-02</td>\n",
       "    </tr>\n",
       "    <tr>\n",
       "      <th>ECOVIAS DO ARAGUAIA</th>\n",
       "      <td>2022-10-01</td>\n",
       "      <td>2024-06-02</td>\n",
       "    </tr>\n",
       "    <tr>\n",
       "      <th>RIOSP</th>\n",
       "      <td>2022-03-01</td>\n",
       "      <td>2023-12-01</td>\n",
       "    </tr>\n",
       "    <tr>\n",
       "      <th>VIA COSTEIRA</th>\n",
       "      <td>2022-01-01</td>\n",
       "      <td>2024-04-01</td>\n",
       "    </tr>\n",
       "    <tr>\n",
       "      <th>ECOVIAS DO CERRADO</th>\n",
       "      <td>2020-11-14</td>\n",
       "      <td>2024-06-02</td>\n",
       "    </tr>\n",
       "    <tr>\n",
       "      <th>VIA SUL</th>\n",
       "      <td>2019-01-01</td>\n",
       "      <td>2024-05-03</td>\n",
       "    </tr>\n",
       "    <tr>\n",
       "      <th>MSVIA</th>\n",
       "      <td>2015-09-01</td>\n",
       "      <td>2024-05-03</td>\n",
       "    </tr>\n",
       "    <tr>\n",
       "      <th>CRO</th>\n",
       "      <td>2015-09-01</td>\n",
       "      <td>2024-06-03</td>\n",
       "    </tr>\n",
       "    <tr>\n",
       "      <th>VIA 040</th>\n",
       "      <td>2015-07-01</td>\n",
       "      <td>2024-05-04</td>\n",
       "    </tr>\n",
       "    <tr>\n",
       "      <th>ECOPONTE</th>\n",
       "      <td>2015-06-01</td>\n",
       "      <td>2024-06-02</td>\n",
       "    </tr>\n",
       "    <tr>\n",
       "      <th>CONCEBRA</th>\n",
       "      <td>2015-06-01</td>\n",
       "      <td>2024-06-01</td>\n",
       "    </tr>\n",
       "    <tr>\n",
       "      <th>ECO050</th>\n",
       "      <td>2015-04-01</td>\n",
       "      <td>2024-06-02</td>\n",
       "    </tr>\n",
       "    <tr>\n",
       "      <th>ECO101 CONCESSIONARIA DE RODOVIAS S/A</th>\n",
       "      <td>2014-05-01</td>\n",
       "      <td>2024-06-02</td>\n",
       "    </tr>\n",
       "    <tr>\n",
       "      <th>VIA BAHIA</th>\n",
       "      <td>2013-01-01</td>\n",
       "      <td>2024-06-03</td>\n",
       "    </tr>\n",
       "    <tr>\n",
       "      <th>NOVADUTRA</th>\n",
       "      <td>2010-01-01</td>\n",
       "      <td>2022-02-01</td>\n",
       "    </tr>\n",
       "    <tr>\n",
       "      <th>TRANSBRASILIANA</th>\n",
       "      <td>2010-01-01</td>\n",
       "      <td>2024-04-30</td>\n",
       "    </tr>\n",
       "    <tr>\n",
       "      <th>RODOVIA DO AÇO</th>\n",
       "      <td>2010-01-01</td>\n",
       "      <td>2024-05-03</td>\n",
       "    </tr>\n",
       "    <tr>\n",
       "      <th>AUTOPISTA FERNÃO DIAS</th>\n",
       "      <td>2010-01-01</td>\n",
       "      <td>2024-01-31</td>\n",
       "    </tr>\n",
       "    <tr>\n",
       "      <th>AUTOPISTA FLUMINENSE</th>\n",
       "      <td>2010-01-01</td>\n",
       "      <td>2024-04-16</td>\n",
       "    </tr>\n",
       "    <tr>\n",
       "      <th>CRT</th>\n",
       "      <td>2010-01-01</td>\n",
       "      <td>2022-09-01</td>\n",
       "    </tr>\n",
       "    <tr>\n",
       "      <th>CONCER</th>\n",
       "      <td>2010-01-01</td>\n",
       "      <td>2024-06-01</td>\n",
       "    </tr>\n",
       "    <tr>\n",
       "      <th>CONCEPA</th>\n",
       "      <td>2010-01-01</td>\n",
       "      <td>2018-07-01</td>\n",
       "    </tr>\n",
       "    <tr>\n",
       "      <th>AUTOPISTA REGIS BITTENCOURT</th>\n",
       "      <td>2010-01-01</td>\n",
       "      <td>2024-02-01</td>\n",
       "    </tr>\n",
       "    <tr>\n",
       "      <th>AUTOPISTA PLANALTO SUL</th>\n",
       "      <td>2010-01-01</td>\n",
       "      <td>2024-04-30</td>\n",
       "    </tr>\n",
       "    <tr>\n",
       "      <th>AUTOPISTA LITORAL SUL</th>\n",
       "      <td>2010-01-01</td>\n",
       "      <td>2024-04-30</td>\n",
       "    </tr>\n",
       "    <tr>\n",
       "      <th>ECOSUL</th>\n",
       "      <td>2010-01-01</td>\n",
       "      <td>2024-06-02</td>\n",
       "    </tr>\n",
       "  </tbody>\n",
       "</table>\n",
       "</div>"
      ],
      "text/plain": [
       "                                                   data_inicial  data_final\n",
       "concessionaria                                                             \n",
       "HOLDING DO SISTEMA RODOVIARIO RIO - SAO PAULO S.A.   2024-01-01  2024-06-03\n",
       "VIA BRASIL                                           2023-02-01  2023-12-01\n",
       "ECORIOMINAS                                          2022-10-01  2024-06-02\n",
       "ECOVIAS DO ARAGUAIA                                  2022-10-01  2024-06-02\n",
       "RIOSP                                                2022-03-01  2023-12-01\n",
       "VIA COSTEIRA                                         2022-01-01  2024-04-01\n",
       "ECOVIAS DO CERRADO                                   2020-11-14  2024-06-02\n",
       "VIA SUL                                              2019-01-01  2024-05-03\n",
       "MSVIA                                                2015-09-01  2024-05-03\n",
       "CRO                                                  2015-09-01  2024-06-03\n",
       "VIA 040                                              2015-07-01  2024-05-04\n",
       "ECOPONTE                                             2015-06-01  2024-06-02\n",
       "CONCEBRA                                             2015-06-01  2024-06-01\n",
       "ECO050                                               2015-04-01  2024-06-02\n",
       "ECO101 CONCESSIONARIA DE RODOVIAS S/A                2014-05-01  2024-06-02\n",
       "VIA BAHIA                                            2013-01-01  2024-06-03\n",
       "NOVADUTRA                                            2010-01-01  2022-02-01\n",
       "TRANSBRASILIANA                                      2010-01-01  2024-04-30\n",
       "RODOVIA DO AÇO                                       2010-01-01  2024-05-03\n",
       "AUTOPISTA FERNÃO DIAS                                2010-01-01  2024-01-31\n",
       "AUTOPISTA FLUMINENSE                                 2010-01-01  2024-04-16\n",
       "CRT                                                  2010-01-01  2022-09-01\n",
       "CONCER                                               2010-01-01  2024-06-01\n",
       "CONCEPA                                              2010-01-01  2018-07-01\n",
       "AUTOPISTA REGIS BITTENCOURT                          2010-01-01  2024-02-01\n",
       "AUTOPISTA PLANALTO SUL                               2010-01-01  2024-04-30\n",
       "AUTOPISTA LITORAL SUL                                2010-01-01  2024-04-30\n",
       "ECOSUL                                               2010-01-01  2024-06-02"
      ]
     },
     "execution_count": 27,
     "metadata": {},
     "output_type": "execute_result"
    }
   ],
   "source": [
    "df_periodos"
   ]
  },
  {
   "cell_type": "markdown",
   "id": "79e1ad30-4213-41db-87a0-57ceb98a5a72",
   "metadata": {},
   "source": [
    "# FUNCOES"
   ]
  },
  {
   "cell_type": "code",
   "execution_count": 10,
   "id": "0e608e1d-7b21-4957-bad7-b16eaf9395ae",
   "metadata": {
    "execution": {
     "iopub.execute_input": "2024-08-29T17:29:54.573057Z",
     "iopub.status.busy": "2024-08-29T17:29:54.572471Z",
     "iopub.status.idle": "2024-08-29T17:29:54.581117Z",
     "shell.execute_reply": "2024-08-29T17:29:54.580013Z",
     "shell.execute_reply.started": "2024-08-29T17:29:54.573019Z"
    },
    "tags": []
   },
   "outputs": [],
   "source": [
    "def filter_PIB_periodo(df, periodo: list):\n",
    "    # Convert the start and end periods to datetime and adjust to the first and last days of the month\n",
    "    start_date = pd.to_datetime(periodo[0]) + pd.offsets.MonthBegin(0)\n",
    "    end_date = pd.to_datetime(periodo[1]) + pd.offsets.MonthEnd(0)\n",
    "    \n",
    "    # Create a range of dates from start_date to end_date, ensuring end-of-month dates\n",
    "    datas = pd.date_range(start=start_date, end=end_date, freq='ME')\n",
    "    \n",
    "    # Filter the DataFrame using the date range\n",
    "    df = df[df.index.isin(datas)]\n",
    "    \n",
    "    # Drop rows with missing values\n",
    "    df = df.dropna()\n",
    "    \n",
    "    return df"
   ]
  },
  {
   "cell_type": "code",
   "execution_count": 11,
   "id": "99514050-e149-49da-88a3-3206d24cf520",
   "metadata": {
    "execution": {
     "iopub.execute_input": "2024-08-29T17:29:57.755512Z",
     "iopub.status.busy": "2024-08-29T17:29:57.754388Z",
     "iopub.status.idle": "2024-08-29T17:29:57.763004Z",
     "shell.execute_reply": "2024-08-29T17:29:57.761820Z",
     "shell.execute_reply.started": "2024-08-29T17:29:57.755473Z"
    },
    "tags": []
   },
   "outputs": [],
   "source": [
    "def filter_conc_periodo(df_periodos, periodo:list):\n",
    "    data_min = pd.to_datetime(f\"{min(periodo)}-01\").date()\n",
    "    data_max = (pd.to_datetime(f\"{max(periodo)}-01\") + pd.offsets.MonthEnd(0)).date()\n",
    "    condition = (df_periodos['data_inicial'] <= data_min) & \\\n",
    "                (df_periodos['data_final'] >= data_max)\n",
    "    df_concs = df_periodos[condition].index\n",
    "    return df_concs"
   ]
  },
  {
   "cell_type": "code",
   "execution_count": 15,
   "id": "f709589a-f3d5-4b5b-92a9-6ca9f9905e48",
   "metadata": {
    "execution": {
     "iopub.execute_input": "2024-08-29T17:32:22.773618Z",
     "iopub.status.busy": "2024-08-29T17:32:22.772926Z",
     "iopub.status.idle": "2024-08-29T17:32:22.783040Z",
     "shell.execute_reply": "2024-08-29T17:32:22.781322Z",
     "shell.execute_reply.started": "2024-08-29T17:32:22.773578Z"
    },
    "tags": []
   },
   "outputs": [
    {
     "data": {
      "text/plain": [
       "datetime.date(2010, 1, 31)"
      ]
     },
     "execution_count": 15,
     "metadata": {},
     "output_type": "execute_result"
    }
   ],
   "source": [
    "df_veqs_comercial.columns[0].date()"
   ]
  },
  {
   "cell_type": "code",
   "execution_count": 41,
   "id": "9f9b1bb4-7431-4238-a43f-e0cbd90cf6f6",
   "metadata": {
    "execution": {
     "iopub.execute_input": "2024-08-29T18:17:19.927066Z",
     "iopub.status.busy": "2024-08-29T18:17:19.926410Z",
     "iopub.status.idle": "2024-08-29T18:17:19.937327Z",
     "shell.execute_reply": "2024-08-29T18:17:19.935976Z",
     "shell.execute_reply.started": "2024-08-29T18:17:19.927026Z"
    },
    "tags": []
   },
   "outputs": [],
   "source": [
    "def filter_trafego_periodo(df_trafego, df_periodos, periodo:list):\n",
    "    \n",
    "    # tirando as concessionárias com meses incompletos no período\n",
    "    df_concs = filter_conc_periodo(df_periodos, periodo)\n",
    "    df_trafego = df_trafego.loc[df_concs]\n",
    "    \n",
    "    # utilizando apenas os meses no período\n",
    "    mes_inicial = pd.to_datetime(f\"{min(periodo)}-01\").date()\n",
    "    mes_final = (pd.to_datetime(f\"{max(periodo)}-01\") + pd.offsets.MonthEnd(0)).date()\n",
    "    meses = [col for col in df_trafego.columns if (col.date() >= mes_inicial) and (col.date() <= mes_final)]\n",
    "    df_trafego = df_trafego[meses]\n",
    "    \n",
    "    df_trafego = df_trafego.T # transpondo\n",
    "            \n",
    "    return df_trafego"
   ]
  },
  {
   "cell_type": "code",
   "execution_count": 42,
   "id": "e3f3b665-4e9b-4ea5-94d8-04bed8e2ffd5",
   "metadata": {
    "execution": {
     "iopub.execute_input": "2024-08-29T18:17:20.148143Z",
     "iopub.status.busy": "2024-08-29T18:17:20.147426Z",
     "iopub.status.idle": "2024-08-29T18:17:20.155801Z",
     "shell.execute_reply": "2024-08-29T18:17:20.154306Z",
     "shell.execute_reply.started": "2024-08-29T18:17:20.148103Z"
    },
    "tags": []
   },
   "outputs": [],
   "source": [
    "def calc_perc_change(df_trafego):\n",
    "    for col in df_trafego:\n",
    "        df_trafego[col] = df_trafego[col].pct_change()*100\n",
    "    df_trafego = df_trafego.iloc[1:,:]\n",
    "    return df_trafego    "
   ]
  },
  {
   "cell_type": "code",
   "execution_count": 262,
   "id": "740a8e25-9f9c-43f7-9d7c-989818756d1d",
   "metadata": {
    "execution": {
     "iopub.execute_input": "2024-08-23T16:38:46.294930Z",
     "iopub.status.busy": "2024-08-23T16:38:46.294339Z",
     "iopub.status.idle": "2024-08-23T16:38:46.301302Z",
     "shell.execute_reply": "2024-08-23T16:38:46.300405Z",
     "shell.execute_reply.started": "2024-08-23T16:38:46.294889Z"
    },
    "tags": []
   },
   "outputs": [],
   "source": [
    "# def create_df_PIB_concs(df_trafego, df_PIB, df_periodos, periodo:list):\n",
    "    \n",
    "#     X_PIB = pd.DataFrame(filter_PIB_periodo(df_PIB, periodo))\n",
    "#     y_veqs = filter_trafego_periodo(df_trafego, df_periodos, periodo)\n",
    "    \n",
    "#     df_PIB_concs = X_PIB.join(y_veqs)  \n",
    "        \n",
    "#     return df_PIB_concs"
   ]
  },
  {
   "cell_type": "code",
   "execution_count": 55,
   "id": "c7b4a310-1653-403f-8d2e-105e735cea6c",
   "metadata": {
    "execution": {
     "iopub.execute_input": "2024-08-29T18:21:46.120607Z",
     "iopub.status.busy": "2024-08-29T18:21:46.120115Z",
     "iopub.status.idle": "2024-08-29T18:21:46.129063Z",
     "shell.execute_reply": "2024-08-29T18:21:46.127547Z",
     "shell.execute_reply.started": "2024-08-29T18:21:46.120569Z"
    },
    "tags": []
   },
   "outputs": [],
   "source": [
    "def regressao(df_y, df_periodos, conc, df_X, periodo, fit_intercept=True):\n",
    "    y_train = filter_trafego_periodo(df_y, df_periodos, periodo)[conc]\n",
    "    y_train = calc_perc_change(pd.DataFrame(y_train))\n",
    "    X_train = filter_PIB_periodo(df_PIB, periodo)\n",
    "    \n",
    "    y_train = pd.DataFrame(y_train)\n",
    "    X_train = pd.DataFrame(X_train)\n",
    "    \n",
    "    X_train = X_train.loc[y_train.index,:] # O PIB vai ter um mês a mais (o mês inicial)\n",
    "\n",
    "    if fit_intercept:\n",
    "        X_train = sm.add_constant(X_train)\n",
    "    \n",
    "    model = sm.OLS(y_train, X_train).fit()\n",
    "    \n",
    "    return model"
   ]
  },
  {
   "cell_type": "code",
   "execution_count": 69,
   "id": "d57c896a-5fa5-4fde-96b2-0af71f8e0b7f",
   "metadata": {
    "execution": {
     "iopub.execute_input": "2024-08-29T18:31:11.114016Z",
     "iopub.status.busy": "2024-08-29T18:31:11.113237Z",
     "iopub.status.idle": "2024-08-29T18:31:11.124290Z",
     "shell.execute_reply": "2024-08-29T18:31:11.122657Z",
     "shell.execute_reply.started": "2024-08-29T18:31:11.113977Z"
    },
    "tags": []
   },
   "outputs": [],
   "source": [
    "def make_models(df_veqs, df_periodos, df_X, periodo, fit_intercept=True):\n",
    "    concs = filter_trafego_periodo(df_veqs, df_periodos, periodo).columns\n",
    "    df_stats = pd.DataFrame(index=concs)\n",
    "    \n",
    "    for conc in concs:\n",
    "        model = regressao(df_veqs, df_periodos, conc, df_X, periodo, fit_intercept=fit_intercept)\n",
    "        param_name = model.params.index\n",
    "        df_stats.loc[conc, 'R2'] = model.rsquared\n",
    "        df_stats.loc[conc, f'{param_name[0]}-coef'] = model.params.iloc[0]\n",
    "        df_stats.loc[conc, f'{model.pvalues.index[0]}-p-valor'] = model.pvalues.iloc[0]\n",
    "        df_stats.loc[conc, 'n'] = len(filter_trafego_periodo(df_veqs, df_periodos, periodo).iloc[1:,:])\n",
    "\n",
    "    return df_stats"
   ]
  },
  {
   "cell_type": "markdown",
   "id": "638a08ca-0f46-4c4a-8989-b57732ecaacb",
   "metadata": {},
   "source": [
    "# REGRESSÃO"
   ]
  },
  {
   "cell_type": "markdown",
   "id": "f10c6af2-1536-4d21-aa3e-8fc70a3b0493",
   "metadata": {},
   "source": [
    "## Periodo 2011-2023"
   ]
  },
  {
   "cell_type": "code",
   "execution_count": 70,
   "id": "5b6ddfce-3a79-4234-8264-e17a9eba83ad",
   "metadata": {
    "execution": {
     "iopub.execute_input": "2024-08-29T18:31:15.000274Z",
     "iopub.status.busy": "2024-08-29T18:31:14.998512Z",
     "iopub.status.idle": "2024-08-29T18:31:15.269549Z",
     "shell.execute_reply": "2024-08-29T18:31:15.268101Z",
     "shell.execute_reply.started": "2024-08-29T18:31:15.000204Z"
    },
    "tags": []
   },
   "outputs": [
    {
     "data": {
      "text/html": [
       "<div>\n",
       "<style scoped>\n",
       "    .dataframe tbody tr th:only-of-type {\n",
       "        vertical-align: middle;\n",
       "    }\n",
       "\n",
       "    .dataframe tbody tr th {\n",
       "        vertical-align: top;\n",
       "    }\n",
       "\n",
       "    .dataframe thead th {\n",
       "        text-align: right;\n",
       "    }\n",
       "</style>\n",
       "<table border=\"1\" class=\"dataframe\">\n",
       "  <thead>\n",
       "    <tr style=\"text-align: right;\">\n",
       "      <th></th>\n",
       "      <th>R2</th>\n",
       "      <th>PIB_mensal_real_%-coef</th>\n",
       "      <th>PIB_mensal_real_%-p-valor</th>\n",
       "      <th>n</th>\n",
       "    </tr>\n",
       "    <tr>\n",
       "      <th>concessionaria</th>\n",
       "      <th></th>\n",
       "      <th></th>\n",
       "      <th></th>\n",
       "      <th></th>\n",
       "    </tr>\n",
       "  </thead>\n",
       "  <tbody>\n",
       "    <tr>\n",
       "      <th>NOVADUTRA</th>\n",
       "      <td>0.067417</td>\n",
       "      <td>0.478604</td>\n",
       "      <td>0.001612</td>\n",
       "      <td>144.0</td>\n",
       "    </tr>\n",
       "    <tr>\n",
       "      <th>TRANSBRASILIANA</th>\n",
       "      <td>0.033456</td>\n",
       "      <td>0.266550</td>\n",
       "      <td>0.027659</td>\n",
       "      <td>144.0</td>\n",
       "    </tr>\n",
       "    <tr>\n",
       "      <th>RODOVIA DO AÇO</th>\n",
       "      <td>0.090588</td>\n",
       "      <td>0.708618</td>\n",
       "      <td>0.000235</td>\n",
       "      <td>144.0</td>\n",
       "    </tr>\n",
       "    <tr>\n",
       "      <th>AUTOPISTA FERNÃO DIAS</th>\n",
       "      <td>0.071743</td>\n",
       "      <td>0.525864</td>\n",
       "      <td>0.001125</td>\n",
       "      <td>144.0</td>\n",
       "    </tr>\n",
       "    <tr>\n",
       "      <th>AUTOPISTA FLUMINENSE</th>\n",
       "      <td>0.046036</td>\n",
       "      <td>0.371503</td>\n",
       "      <td>0.009555</td>\n",
       "      <td>144.0</td>\n",
       "    </tr>\n",
       "    <tr>\n",
       "      <th>CRT</th>\n",
       "      <td>0.121483</td>\n",
       "      <td>0.578572</td>\n",
       "      <td>0.000017</td>\n",
       "      <td>144.0</td>\n",
       "    </tr>\n",
       "    <tr>\n",
       "      <th>CONCER</th>\n",
       "      <td>0.063499</td>\n",
       "      <td>0.435040</td>\n",
       "      <td>0.002231</td>\n",
       "      <td>144.0</td>\n",
       "    </tr>\n",
       "    <tr>\n",
       "      <th>AUTOPISTA REGIS BITTENCOURT</th>\n",
       "      <td>0.050485</td>\n",
       "      <td>0.431861</td>\n",
       "      <td>0.006587</td>\n",
       "      <td>144.0</td>\n",
       "    </tr>\n",
       "    <tr>\n",
       "      <th>AUTOPISTA PLANALTO SUL</th>\n",
       "      <td>0.073894</td>\n",
       "      <td>0.542131</td>\n",
       "      <td>0.000941</td>\n",
       "      <td>144.0</td>\n",
       "    </tr>\n",
       "    <tr>\n",
       "      <th>AUTOPISTA LITORAL SUL</th>\n",
       "      <td>0.032304</td>\n",
       "      <td>0.358990</td>\n",
       "      <td>0.030527</td>\n",
       "      <td>144.0</td>\n",
       "    </tr>\n",
       "    <tr>\n",
       "      <th>ECOSUL</th>\n",
       "      <td>0.043483</td>\n",
       "      <td>0.824141</td>\n",
       "      <td>0.011836</td>\n",
       "      <td>144.0</td>\n",
       "    </tr>\n",
       "  </tbody>\n",
       "</table>\n",
       "</div>"
      ],
      "text/plain": [
       "                                   R2  PIB_mensal_real_%-coef  \\\n",
       "concessionaria                                                  \n",
       "NOVADUTRA                    0.067417                0.478604   \n",
       "TRANSBRASILIANA              0.033456                0.266550   \n",
       "RODOVIA DO AÇO               0.090588                0.708618   \n",
       "AUTOPISTA FERNÃO DIAS        0.071743                0.525864   \n",
       "AUTOPISTA FLUMINENSE         0.046036                0.371503   \n",
       "CRT                          0.121483                0.578572   \n",
       "CONCER                       0.063499                0.435040   \n",
       "AUTOPISTA REGIS BITTENCOURT  0.050485                0.431861   \n",
       "AUTOPISTA PLANALTO SUL       0.073894                0.542131   \n",
       "AUTOPISTA LITORAL SUL        0.032304                0.358990   \n",
       "ECOSUL                       0.043483                0.824141   \n",
       "\n",
       "                             PIB_mensal_real_%-p-valor      n  \n",
       "concessionaria                                                 \n",
       "NOVADUTRA                                     0.001612  144.0  \n",
       "TRANSBRASILIANA                               0.027659  144.0  \n",
       "RODOVIA DO AÇO                                0.000235  144.0  \n",
       "AUTOPISTA FERNÃO DIAS                         0.001125  144.0  \n",
       "AUTOPISTA FLUMINENSE                          0.009555  144.0  \n",
       "CRT                                           0.000017  144.0  \n",
       "CONCER                                        0.002231  144.0  \n",
       "AUTOPISTA REGIS BITTENCOURT                   0.006587  144.0  \n",
       "AUTOPISTA PLANALTO SUL                        0.000941  144.0  \n",
       "AUTOPISTA LITORAL SUL                         0.030527  144.0  \n",
       "ECOSUL                                        0.011836  144.0  "
      ]
     },
     "execution_count": 70,
     "metadata": {},
     "output_type": "execute_result"
    }
   ],
   "source": [
    "model_11_23 = make_models(df_veqs_comercial, df_periodos, df_PIB, ['2010-01','2022-01'], fit_intercept=False)\n",
    "model_11_23"
   ]
  },
  {
   "cell_type": "code",
   "execution_count": 71,
   "id": "0f6d6851-6b0c-4c1a-b623-82e555fa4d0b",
   "metadata": {
    "execution": {
     "iopub.execute_input": "2024-08-29T18:31:19.361615Z",
     "iopub.status.busy": "2024-08-29T18:31:19.360788Z",
     "iopub.status.idle": "2024-08-29T18:31:19.371034Z",
     "shell.execute_reply": "2024-08-29T18:31:19.369234Z",
     "shell.execute_reply.started": "2024-08-29T18:31:19.361552Z"
    },
    "tags": []
   },
   "outputs": [
    {
     "data": {
      "text/plain": [
       "np.float64(0.0631262914110482)"
      ]
     },
     "execution_count": 71,
     "metadata": {},
     "output_type": "execute_result"
    }
   ],
   "source": [
    "model_11_23['R2'].mean()"
   ]
  },
  {
   "cell_type": "code",
   "execution_count": 72,
   "id": "393c5ce4-0251-46d1-84bc-d2d848372a32",
   "metadata": {
    "execution": {
     "iopub.execute_input": "2024-08-29T18:31:19.690699Z",
     "iopub.status.busy": "2024-08-29T18:31:19.689247Z",
     "iopub.status.idle": "2024-08-29T18:31:19.702071Z",
     "shell.execute_reply": "2024-08-29T18:31:19.700126Z",
     "shell.execute_reply.started": "2024-08-29T18:31:19.690616Z"
    },
    "tags": []
   },
   "outputs": [
    {
     "data": {
      "text/plain": [
       "np.float64(0.008393286981317997)"
      ]
     },
     "execution_count": 72,
     "metadata": {},
     "output_type": "execute_result"
    }
   ],
   "source": [
    "model_11_23['PIB_mensal_real_%-p-valor'].mean()"
   ]
  },
  {
   "cell_type": "code",
   "execution_count": 73,
   "id": "03de41e9-4122-4356-91a2-09243b87369f",
   "metadata": {
    "execution": {
     "iopub.execute_input": "2024-08-29T18:31:20.059574Z",
     "iopub.status.busy": "2024-08-29T18:31:20.058063Z",
     "iopub.status.idle": "2024-08-29T18:31:20.068925Z",
     "shell.execute_reply": "2024-08-29T18:31:20.067589Z",
     "shell.execute_reply.started": "2024-08-29T18:31:20.059513Z"
    },
    "tags": []
   },
   "outputs": [
    {
     "data": {
      "text/plain": [
       "np.float64(0.5019885481245611)"
      ]
     },
     "execution_count": 73,
     "metadata": {},
     "output_type": "execute_result"
    }
   ],
   "source": [
    "model_11_23['PIB_mensal_real_%-coef'].mean()"
   ]
  },
  {
   "cell_type": "markdown",
   "id": "8ef507c1-bc53-41af-8810-3f5317088151",
   "metadata": {},
   "source": [
    "## Periodo 2017-2023"
   ]
  },
  {
   "cell_type": "code",
   "execution_count": 74,
   "id": "48181298-1e14-4f87-90d5-3ec4d97eb5b5",
   "metadata": {
    "execution": {
     "iopub.execute_input": "2024-08-29T18:31:22.788328Z",
     "iopub.status.busy": "2024-08-29T18:31:22.787526Z",
     "iopub.status.idle": "2024-08-29T18:31:23.252614Z",
     "shell.execute_reply": "2024-08-29T18:31:23.250782Z",
     "shell.execute_reply.started": "2024-08-29T18:31:22.788266Z"
    },
    "tags": []
   },
   "outputs": [
    {
     "data": {
      "text/html": [
       "<div>\n",
       "<style scoped>\n",
       "    .dataframe tbody tr th:only-of-type {\n",
       "        vertical-align: middle;\n",
       "    }\n",
       "\n",
       "    .dataframe tbody tr th {\n",
       "        vertical-align: top;\n",
       "    }\n",
       "\n",
       "    .dataframe thead th {\n",
       "        text-align: right;\n",
       "    }\n",
       "</style>\n",
       "<table border=\"1\" class=\"dataframe\">\n",
       "  <thead>\n",
       "    <tr style=\"text-align: right;\">\n",
       "      <th></th>\n",
       "      <th>R2</th>\n",
       "      <th>PIB_mensal_real_%-coef</th>\n",
       "      <th>PIB_mensal_real_%-p-valor</th>\n",
       "      <th>n</th>\n",
       "    </tr>\n",
       "    <tr>\n",
       "      <th>concessionaria</th>\n",
       "      <th></th>\n",
       "      <th></th>\n",
       "      <th></th>\n",
       "      <th></th>\n",
       "    </tr>\n",
       "  </thead>\n",
       "  <tbody>\n",
       "    <tr>\n",
       "      <th>MSVIA</th>\n",
       "      <td>0.039159</td>\n",
       "      <td>0.697116</td>\n",
       "      <td>0.084500</td>\n",
       "      <td>76.0</td>\n",
       "    </tr>\n",
       "    <tr>\n",
       "      <th>CRO</th>\n",
       "      <td>0.021176</td>\n",
       "      <td>0.427447</td>\n",
       "      <td>0.206667</td>\n",
       "      <td>76.0</td>\n",
       "    </tr>\n",
       "    <tr>\n",
       "      <th>VIA 040</th>\n",
       "      <td>0.060703</td>\n",
       "      <td>0.513133</td>\n",
       "      <td>0.030771</td>\n",
       "      <td>76.0</td>\n",
       "    </tr>\n",
       "    <tr>\n",
       "      <th>ECOPONTE</th>\n",
       "      <td>0.001938</td>\n",
       "      <td>0.302719</td>\n",
       "      <td>0.703825</td>\n",
       "      <td>76.0</td>\n",
       "    </tr>\n",
       "    <tr>\n",
       "      <th>CONCEBRA</th>\n",
       "      <td>0.061970</td>\n",
       "      <td>0.518853</td>\n",
       "      <td>0.029022</td>\n",
       "      <td>76.0</td>\n",
       "    </tr>\n",
       "    <tr>\n",
       "      <th>ECO050</th>\n",
       "      <td>0.026910</td>\n",
       "      <td>1.015849</td>\n",
       "      <td>0.153981</td>\n",
       "      <td>76.0</td>\n",
       "    </tr>\n",
       "    <tr>\n",
       "      <th>ECO101 CONCESSIONARIA DE RODOVIAS S/A</th>\n",
       "      <td>0.038257</td>\n",
       "      <td>0.390932</td>\n",
       "      <td>0.088240</td>\n",
       "      <td>76.0</td>\n",
       "    </tr>\n",
       "    <tr>\n",
       "      <th>VIA BAHIA</th>\n",
       "      <td>0.078840</td>\n",
       "      <td>0.668692</td>\n",
       "      <td>0.013378</td>\n",
       "      <td>76.0</td>\n",
       "    </tr>\n",
       "    <tr>\n",
       "      <th>NOVADUTRA</th>\n",
       "      <td>0.105666</td>\n",
       "      <td>0.762540</td>\n",
       "      <td>0.003920</td>\n",
       "      <td>76.0</td>\n",
       "    </tr>\n",
       "    <tr>\n",
       "      <th>TRANSBRASILIANA</th>\n",
       "      <td>0.042704</td>\n",
       "      <td>0.384366</td>\n",
       "      <td>0.071356</td>\n",
       "      <td>76.0</td>\n",
       "    </tr>\n",
       "    <tr>\n",
       "      <th>RODOVIA DO AÇO</th>\n",
       "      <td>0.043448</td>\n",
       "      <td>0.522276</td>\n",
       "      <td>0.068882</td>\n",
       "      <td>76.0</td>\n",
       "    </tr>\n",
       "    <tr>\n",
       "      <th>AUTOPISTA FERNÃO DIAS</th>\n",
       "      <td>0.108665</td>\n",
       "      <td>0.839211</td>\n",
       "      <td>0.003416</td>\n",
       "      <td>76.0</td>\n",
       "    </tr>\n",
       "    <tr>\n",
       "      <th>AUTOPISTA FLUMINENSE</th>\n",
       "      <td>0.061381</td>\n",
       "      <td>0.475786</td>\n",
       "      <td>0.029822</td>\n",
       "      <td>76.0</td>\n",
       "    </tr>\n",
       "    <tr>\n",
       "      <th>CRT</th>\n",
       "      <td>0.133335</td>\n",
       "      <td>0.764678</td>\n",
       "      <td>0.001093</td>\n",
       "      <td>76.0</td>\n",
       "    </tr>\n",
       "    <tr>\n",
       "      <th>CONCER</th>\n",
       "      <td>0.059853</td>\n",
       "      <td>0.545588</td>\n",
       "      <td>0.032004</td>\n",
       "      <td>76.0</td>\n",
       "    </tr>\n",
       "    <tr>\n",
       "      <th>AUTOPISTA REGIS BITTENCOURT</th>\n",
       "      <td>0.059081</td>\n",
       "      <td>0.610861</td>\n",
       "      <td>0.033166</td>\n",
       "      <td>76.0</td>\n",
       "    </tr>\n",
       "    <tr>\n",
       "      <th>AUTOPISTA PLANALTO SUL</th>\n",
       "      <td>0.048199</td>\n",
       "      <td>0.473376</td>\n",
       "      <td>0.055056</td>\n",
       "      <td>76.0</td>\n",
       "    </tr>\n",
       "    <tr>\n",
       "      <th>AUTOPISTA LITORAL SUL</th>\n",
       "      <td>0.036744</td>\n",
       "      <td>0.448801</td>\n",
       "      <td>0.094909</td>\n",
       "      <td>76.0</td>\n",
       "    </tr>\n",
       "    <tr>\n",
       "      <th>ECOSUL</th>\n",
       "      <td>0.041262</td>\n",
       "      <td>0.980296</td>\n",
       "      <td>0.076422</td>\n",
       "      <td>76.0</td>\n",
       "    </tr>\n",
       "  </tbody>\n",
       "</table>\n",
       "</div>"
      ],
      "text/plain": [
       "                                             R2  PIB_mensal_real_%-coef  \\\n",
       "concessionaria                                                            \n",
       "MSVIA                                  0.039159                0.697116   \n",
       "CRO                                    0.021176                0.427447   \n",
       "VIA 040                                0.060703                0.513133   \n",
       "ECOPONTE                               0.001938                0.302719   \n",
       "CONCEBRA                               0.061970                0.518853   \n",
       "ECO050                                 0.026910                1.015849   \n",
       "ECO101 CONCESSIONARIA DE RODOVIAS S/A  0.038257                0.390932   \n",
       "VIA BAHIA                              0.078840                0.668692   \n",
       "NOVADUTRA                              0.105666                0.762540   \n",
       "TRANSBRASILIANA                        0.042704                0.384366   \n",
       "RODOVIA DO AÇO                         0.043448                0.522276   \n",
       "AUTOPISTA FERNÃO DIAS                  0.108665                0.839211   \n",
       "AUTOPISTA FLUMINENSE                   0.061381                0.475786   \n",
       "CRT                                    0.133335                0.764678   \n",
       "CONCER                                 0.059853                0.545588   \n",
       "AUTOPISTA REGIS BITTENCOURT            0.059081                0.610861   \n",
       "AUTOPISTA PLANALTO SUL                 0.048199                0.473376   \n",
       "AUTOPISTA LITORAL SUL                  0.036744                0.448801   \n",
       "ECOSUL                                 0.041262                0.980296   \n",
       "\n",
       "                                       PIB_mensal_real_%-p-valor     n  \n",
       "concessionaria                                                          \n",
       "MSVIA                                                   0.084500  76.0  \n",
       "CRO                                                     0.206667  76.0  \n",
       "VIA 040                                                 0.030771  76.0  \n",
       "ECOPONTE                                                0.703825  76.0  \n",
       "CONCEBRA                                                0.029022  76.0  \n",
       "ECO050                                                  0.153981  76.0  \n",
       "ECO101 CONCESSIONARIA DE RODOVIAS S/A                   0.088240  76.0  \n",
       "VIA BAHIA                                               0.013378  76.0  \n",
       "NOVADUTRA                                               0.003920  76.0  \n",
       "TRANSBRASILIANA                                         0.071356  76.0  \n",
       "RODOVIA DO AÇO                                          0.068882  76.0  \n",
       "AUTOPISTA FERNÃO DIAS                                   0.003416  76.0  \n",
       "AUTOPISTA FLUMINENSE                                    0.029822  76.0  \n",
       "CRT                                                     0.001093  76.0  \n",
       "CONCER                                                  0.032004  76.0  \n",
       "AUTOPISTA REGIS BITTENCOURT                             0.033166  76.0  \n",
       "AUTOPISTA PLANALTO SUL                                  0.055056  76.0  \n",
       "AUTOPISTA LITORAL SUL                                   0.094909  76.0  \n",
       "ECOSUL                                                  0.076422  76.0  "
      ]
     },
     "execution_count": 74,
     "metadata": {},
     "output_type": "execute_result"
    }
   ],
   "source": [
    "model_17_23 = make_models(df_veqs_comercial, df_periodos, df_PIB, ['2015-09','2022-01'], fit_intercept=False)\n",
    "model_17_23"
   ]
  },
  {
   "cell_type": "code",
   "execution_count": 75,
   "id": "91596dcf-765a-437d-91d6-5cbca33eea8f",
   "metadata": {
    "execution": {
     "iopub.execute_input": "2024-08-29T18:31:25.172876Z",
     "iopub.status.busy": "2024-08-29T18:31:25.171173Z",
     "iopub.status.idle": "2024-08-29T18:31:25.181128Z",
     "shell.execute_reply": "2024-08-29T18:31:25.179550Z",
     "shell.execute_reply.started": "2024-08-29T18:31:25.172830Z"
    },
    "tags": []
   },
   "outputs": [
    {
     "data": {
      "text/plain": [
       "np.float64(0.05627839177528739)"
      ]
     },
     "execution_count": 75,
     "metadata": {},
     "output_type": "execute_result"
    }
   ],
   "source": [
    "model_17_23['R2'].mean()"
   ]
  },
  {
   "cell_type": "code",
   "execution_count": 78,
   "id": "e475c590-6bb6-4f13-81b4-e180edd30d66",
   "metadata": {
    "execution": {
     "iopub.execute_input": "2024-08-29T18:31:47.619681Z",
     "iopub.status.busy": "2024-08-29T18:31:47.617477Z",
     "iopub.status.idle": "2024-08-29T18:31:47.627614Z",
     "shell.execute_reply": "2024-08-29T18:31:47.626622Z",
     "shell.execute_reply.started": "2024-08-29T18:31:47.619621Z"
    },
    "tags": []
   },
   "outputs": [
    {
     "data": {
      "text/plain": [
       "np.float64(0.09370676845288983)"
      ]
     },
     "execution_count": 78,
     "metadata": {},
     "output_type": "execute_result"
    }
   ],
   "source": [
    "model_17_23['PIB_mensal_real_%-p-valor'].mean()"
   ]
  },
  {
   "cell_type": "code",
   "execution_count": 80,
   "id": "37eca465-4aa2-46ad-869d-ecec9a0fc9bd",
   "metadata": {
    "execution": {
     "iopub.execute_input": "2024-08-29T18:33:44.759434Z",
     "iopub.status.busy": "2024-08-29T18:33:44.758796Z",
     "iopub.status.idle": "2024-08-29T18:33:44.767648Z",
     "shell.execute_reply": "2024-08-29T18:33:44.766363Z",
     "shell.execute_reply.started": "2024-08-29T18:33:44.759394Z"
    },
    "tags": []
   },
   "outputs": [
    {
     "data": {
      "text/plain": [
       "np.float64(0.5969748377139612)"
      ]
     },
     "execution_count": 80,
     "metadata": {},
     "output_type": "execute_result"
    }
   ],
   "source": [
    "model_17_23['PIB_mensal_real_%-coef'].mean()"
   ]
  },
  {
   "cell_type": "markdown",
   "id": "6af452f6-9d55-4717-9d6f-16532f8c3230",
   "metadata": {},
   "source": [
    "# Salvando para excel"
   ]
  },
  {
   "cell_type": "code",
   "execution_count": 82,
   "id": "a7d5331f-595b-49c6-a1f1-440bee4f05ef",
   "metadata": {
    "execution": {
     "iopub.execute_input": "2024-08-29T18:34:23.533142Z",
     "iopub.status.busy": "2024-08-29T18:34:23.532457Z",
     "iopub.status.idle": "2024-08-29T18:34:24.906152Z",
     "shell.execute_reply": "2024-08-29T18:34:24.904753Z",
     "shell.execute_reply.started": "2024-08-29T18:34:23.533102Z"
    },
    "tags": []
   },
   "outputs": [
    {
     "name": "stderr",
     "output_type": "stream",
     "text": [
      "/home/andcm/.cache/pypoetry/virtualenvs/infra-data-J9p6eQia-py3.9/lib/python3.9/site-packages/openpyxl/workbook/child.py:99: UserWarning: Title is more than 31 characters. Some applications may not be able to read the file\n",
      "  warnings.warn(\"Title is more than 31 characters. Some applications may not be able to read the file\")\n",
      "/home/andcm/.cache/pypoetry/virtualenvs/infra-data-J9p6eQia-py3.9/lib/python3.9/site-packages/openpyxl/workbook/child.py:99: UserWarning: Title is more than 31 characters. Some applications may not be able to read the file\n",
      "  warnings.warn(\"Title is more than 31 characters. Some applications may not be able to read the file\")\n",
      "/home/andcm/.cache/pypoetry/virtualenvs/infra-data-J9p6eQia-py3.9/lib/python3.9/site-packages/openpyxl/workbook/child.py:99: UserWarning: Title is more than 31 characters. Some applications may not be able to read the file\n",
      "  warnings.warn(\"Title is more than 31 characters. Some applications may not be able to read the file\")\n",
      "/home/andcm/.cache/pypoetry/virtualenvs/infra-data-J9p6eQia-py3.9/lib/python3.9/site-packages/openpyxl/workbook/child.py:99: UserWarning: Title is more than 31 characters. Some applications may not be able to read the file\n",
      "  warnings.warn(\"Title is more than 31 characters. Some applications may not be able to read the file\")\n"
     ]
    }
   ],
   "source": [
    "with pd.ExcelWriter(path_outputs / 'resultado_modelos_PIB_mensal.xlsx') as writer:\n",
    "    # df_resultados = pd.DataFrame(index=df_periodos.index)\n",
    "    for p in periodos:\n",
    "        for key, veq in dict_veqs.items():\n",
    "            df_resultados = make_models(veq, df_periodos, df_PIB, p, fit_intercept=False)\n",
    "            sheet_name = f'{p[0]}-{p[1]}-{key}_mensal'\n",
    "            df_resultados.to_excel(writer, sheet_name = sheet_name)        "
   ]
  },
  {
   "cell_type": "code",
   "execution_count": null,
   "id": "a5eb1ccf-3428-4173-bb26-cbe0fb35e6ef",
   "metadata": {},
   "outputs": [],
   "source": []
  }
 ],
 "metadata": {
  "kernelspec": {
   "display_name": "infra-data",
   "language": "python",
   "name": "infra-data"
  },
  "language_info": {
   "codemirror_mode": {
    "name": "ipython",
    "version": 3
   },
   "file_extension": ".py",
   "mimetype": "text/x-python",
   "name": "python",
   "nbconvert_exporter": "python",
   "pygments_lexer": "ipython3",
   "version": "3.9.16"
  }
 },
 "nbformat": 4,
 "nbformat_minor": 5
}
