{
 "cells": [
  {
   "cell_type": "markdown",
   "id": "7cd4eef4-cce0-440e-b843-22821262126e",
   "metadata": {},
   "source": [
    "# IMPORTS"
   ]
  },
  {
   "cell_type": "code",
   "execution_count": 1,
   "id": "b0bd2558-4df8-4da6-a0fb-e13700764450",
   "metadata": {
    "execution": {
     "iopub.execute_input": "2024-08-27T21:51:17.760536Z",
     "iopub.status.busy": "2024-08-27T21:51:17.759833Z",
     "iopub.status.idle": "2024-08-27T21:51:18.261877Z",
     "shell.execute_reply": "2024-08-27T21:51:18.260731Z",
     "shell.execute_reply.started": "2024-08-27T21:51:17.760494Z"
    },
    "tags": []
   },
   "outputs": [],
   "source": [
    "import pandas as pd\n",
    "import numpy as np\n",
    "import os\n",
    "from decimal import Decimal\n",
    "import pickle\n",
    "from pathlib import Path"
   ]
  },
  {
   "cell_type": "markdown",
   "id": "49a66ef9-139e-4255-b3c1-d6d6460caffe",
   "metadata": {
    "execution": {
     "iopub.execute_input": "2024-08-20T19:55:44.418829Z",
     "iopub.status.busy": "2024-08-20T19:55:44.417516Z",
     "iopub.status.idle": "2024-08-20T19:55:44.424840Z",
     "shell.execute_reply": "2024-08-20T19:55:44.422826Z",
     "shell.execute_reply.started": "2024-08-20T19:55:44.418787Z"
    }
   },
   "source": [
    "# SETUP"
   ]
  },
  {
   "cell_type": "code",
   "execution_count": 2,
   "id": "7eaa031d-d0d4-4d30-b804-cba265e680c3",
   "metadata": {
    "execution": {
     "iopub.execute_input": "2024-08-27T21:51:18.264840Z",
     "iopub.status.busy": "2024-08-27T21:51:18.263933Z",
     "iopub.status.idle": "2024-08-27T21:51:18.273051Z",
     "shell.execute_reply": "2024-08-27T21:51:18.271755Z",
     "shell.execute_reply.started": "2024-08-27T21:51:18.264799Z"
    },
    "tags": []
   },
   "outputs": [],
   "source": [
    "dir_tree_util_path = os.path.join(\"utils\", \"dir_tree.py\")\n",
    "exec(open(dir_tree_util_path).read())"
   ]
  },
  {
   "cell_type": "markdown",
   "id": "5e259d48-4151-4192-a50c-da058d8aaa7e",
   "metadata": {},
   "source": [
    "# INPUTS"
   ]
  },
  {
   "cell_type": "code",
   "execution_count": 3,
   "id": "31307c5f-d5d2-4adc-9fa3-3bbf19cf7121",
   "metadata": {
    "execution": {
     "iopub.execute_input": "2024-08-27T21:51:18.274739Z",
     "iopub.status.busy": "2024-08-27T21:51:18.274365Z",
     "iopub.status.idle": "2024-08-27T21:51:18.279319Z",
     "shell.execute_reply": "2024-08-27T21:51:18.278477Z",
     "shell.execute_reply.started": "2024-08-27T21:51:18.274703Z"
    },
    "tags": []
   },
   "outputs": [],
   "source": [
    "# Paths\n",
    "path_input = PROJECT_DIRS[\"DADOS_VEQ_ANTT_DIR\"]\n",
    "path_output = PROJECT_DIRS[\"DADOS_DERIVADOS_DIR\"]"
   ]
  },
  {
   "cell_type": "code",
   "execution_count": 4,
   "id": "79a367f1-c05e-47ae-81dc-64bf313cbbce",
   "metadata": {
    "execution": {
     "iopub.execute_input": "2024-08-27T21:51:18.281058Z",
     "iopub.status.busy": "2024-08-27T21:51:18.280740Z",
     "iopub.status.idle": "2024-08-27T21:51:18.286671Z",
     "shell.execute_reply": "2024-08-27T21:51:18.285624Z",
     "shell.execute_reply.started": "2024-08-27T21:51:18.281024Z"
    },
    "tags": []
   },
   "outputs": [],
   "source": [
    "periodo = list(range(2010, 2025))"
   ]
  },
  {
   "cell_type": "code",
   "execution_count": 5,
   "id": "eaa37619-5ef4-4be5-9976-2b889f782bfd",
   "metadata": {
    "execution": {
     "iopub.execute_input": "2024-08-27T21:51:18.291188Z",
     "iopub.status.busy": "2024-08-27T21:51:18.290197Z",
     "iopub.status.idle": "2024-08-27T21:51:18.295851Z",
     "shell.execute_reply": "2024-08-27T21:51:18.294824Z",
     "shell.execute_reply.started": "2024-08-27T21:51:18.291151Z"
    },
    "tags": []
   },
   "outputs": [],
   "source": [
    "periodos_CAGR = [[2010,2023],[2016,2023]]"
   ]
  },
  {
   "cell_type": "markdown",
   "id": "4227454c-3327-470a-92b4-35b111fe9c27",
   "metadata": {},
   "source": [
    "# Criando um dataframe consolidado com os dados de tráfego"
   ]
  },
  {
   "cell_type": "code",
   "execution_count": 6,
   "id": "3b658ece-7e95-46f0-9af1-dd47eb29a702",
   "metadata": {
    "execution": {
     "iopub.execute_input": "2024-08-27T21:51:18.297570Z",
     "iopub.status.busy": "2024-08-27T21:51:18.297230Z",
     "iopub.status.idle": "2024-08-27T21:51:18.303316Z",
     "shell.execute_reply": "2024-08-27T21:51:18.302481Z",
     "shell.execute_reply.started": "2024-08-27T21:51:18.297535Z"
    },
    "tags": []
   },
   "outputs": [],
   "source": [
    "# arquivos dos dados\n",
    "arquivos = os.listdir(path_input)"
   ]
  },
  {
   "cell_type": "code",
   "execution_count": 7,
   "id": "964fa4c0-5272-4ea5-ba8a-f8fd00296c3c",
   "metadata": {
    "execution": {
     "iopub.execute_input": "2024-08-27T21:51:18.306052Z",
     "iopub.status.busy": "2024-08-27T21:51:18.304890Z",
     "iopub.status.idle": "2024-08-27T21:51:24.813175Z",
     "shell.execute_reply": "2024-08-27T21:51:24.811773Z",
     "shell.execute_reply.started": "2024-08-27T21:51:18.306009Z"
    },
    "tags": []
   },
   "outputs": [],
   "source": [
    "df_trafego = pd.DataFrame()\n",
    "for ano in periodo:\n",
    "    arquivo = [a for a in arquivos if a[:-4].endswith(str(ano))][0]\n",
    "    df_ano = pd.read_csv(os.path.join(path_input, arquivo), sep=';', encoding='cp1252', low_memory=False)\n",
    "    df_trafego = pd.concat([df_trafego,df_ano])"
   ]
  },
  {
   "cell_type": "markdown",
   "id": "77d89742-3655-43ef-935c-b57c5a4456d9",
   "metadata": {},
   "source": [
    "# EDA Inicial"
   ]
  },
  {
   "cell_type": "code",
   "execution_count": 8,
   "id": "ffc68822-6798-45bb-a980-1691d74ad640",
   "metadata": {
    "execution": {
     "iopub.execute_input": "2024-08-27T21:51:24.815706Z",
     "iopub.status.busy": "2024-08-27T21:51:24.815145Z",
     "iopub.status.idle": "2024-08-27T21:51:24.840651Z",
     "shell.execute_reply": "2024-08-27T21:51:24.839006Z",
     "shell.execute_reply.started": "2024-08-27T21:51:24.815664Z"
    },
    "tags": []
   },
   "outputs": [
    {
     "data": {
      "text/html": [
       "<div>\n",
       "<style scoped>\n",
       "    .dataframe tbody tr th:only-of-type {\n",
       "        vertical-align: middle;\n",
       "    }\n",
       "\n",
       "    .dataframe tbody tr th {\n",
       "        vertical-align: top;\n",
       "    }\n",
       "\n",
       "    .dataframe thead th {\n",
       "        text-align: right;\n",
       "    }\n",
       "</style>\n",
       "<table border=\"1\" class=\"dataframe\">\n",
       "  <thead>\n",
       "    <tr style=\"text-align: right;\">\n",
       "      <th></th>\n",
       "      <th>concessionaria</th>\n",
       "      <th>mes_ano</th>\n",
       "      <th>sentido</th>\n",
       "      <th>praca</th>\n",
       "      <th>categoria</th>\n",
       "      <th>tipo_de_veiculo</th>\n",
       "      <th>volume_total</th>\n",
       "      <th>multiplicador_de_tarifa</th>\n",
       "      <th>volume_veiculo_equivalente</th>\n",
       "      <th>tipo_de_cobranca</th>\n",
       "    </tr>\n",
       "  </thead>\n",
       "  <tbody>\n",
       "    <tr>\n",
       "      <th>0</th>\n",
       "      <td>RODOVIA DO AÇO</td>\n",
       "      <td>01-01-2010</td>\n",
       "      <td>Decrescente</td>\n",
       "      <td>Praça 01  BR-393/RJ km 125,00</td>\n",
       "      <td>Categoria 1</td>\n",
       "      <td>Passeio</td>\n",
       "      <td>44146</td>\n",
       "      <td>1</td>\n",
       "      <td>44146</td>\n",
       "      <td>NaN</td>\n",
       "    </tr>\n",
       "    <tr>\n",
       "      <th>1</th>\n",
       "      <td>RODOVIA DO AÇO</td>\n",
       "      <td>01-01-2010</td>\n",
       "      <td>Crescente</td>\n",
       "      <td>Praça 01  BR-393/RJ km 125,00</td>\n",
       "      <td>Categoria 1</td>\n",
       "      <td>Passeio</td>\n",
       "      <td>35771</td>\n",
       "      <td>1</td>\n",
       "      <td>35771</td>\n",
       "      <td>NaN</td>\n",
       "    </tr>\n",
       "    <tr>\n",
       "      <th>2</th>\n",
       "      <td>RODOVIA DO AÇO</td>\n",
       "      <td>01-02-2010</td>\n",
       "      <td>Decrescente</td>\n",
       "      <td>Praça 01  BR-393/RJ km 125,00</td>\n",
       "      <td>Categoria 1</td>\n",
       "      <td>Passeio</td>\n",
       "      <td>33455</td>\n",
       "      <td>1</td>\n",
       "      <td>33455</td>\n",
       "      <td>NaN</td>\n",
       "    </tr>\n",
       "    <tr>\n",
       "      <th>3</th>\n",
       "      <td>RODOVIA DO AÇO</td>\n",
       "      <td>01-02-2010</td>\n",
       "      <td>Crescente</td>\n",
       "      <td>Praça 01  BR-393/RJ km 125,00</td>\n",
       "      <td>Categoria 1</td>\n",
       "      <td>Passeio</td>\n",
       "      <td>27109</td>\n",
       "      <td>1</td>\n",
       "      <td>27109</td>\n",
       "      <td>NaN</td>\n",
       "    </tr>\n",
       "    <tr>\n",
       "      <th>4</th>\n",
       "      <td>RODOVIA DO AÇO</td>\n",
       "      <td>01-03-2010</td>\n",
       "      <td>Decrescente</td>\n",
       "      <td>Praça 01  BR-393/RJ km 125,00</td>\n",
       "      <td>Categoria 1</td>\n",
       "      <td>Passeio</td>\n",
       "      <td>31677</td>\n",
       "      <td>1</td>\n",
       "      <td>31677</td>\n",
       "      <td>NaN</td>\n",
       "    </tr>\n",
       "  </tbody>\n",
       "</table>\n",
       "</div>"
      ],
      "text/plain": [
       "   concessionaria     mes_ano      sentido                          praca  \\\n",
       "0  RODOVIA DO AÇO  01-01-2010  Decrescente  Praça 01  BR-393/RJ km 125,00   \n",
       "1  RODOVIA DO AÇO  01-01-2010    Crescente  Praça 01  BR-393/RJ km 125,00   \n",
       "2  RODOVIA DO AÇO  01-02-2010  Decrescente  Praça 01  BR-393/RJ km 125,00   \n",
       "3  RODOVIA DO AÇO  01-02-2010    Crescente  Praça 01  BR-393/RJ km 125,00   \n",
       "4  RODOVIA DO AÇO  01-03-2010  Decrescente  Praça 01  BR-393/RJ km 125,00   \n",
       "\n",
       "     categoria tipo_de_veiculo volume_total multiplicador_de_tarifa  \\\n",
       "0  Categoria 1         Passeio        44146                       1   \n",
       "1  Categoria 1         Passeio        35771                       1   \n",
       "2  Categoria 1         Passeio        33455                       1   \n",
       "3  Categoria 1         Passeio        27109                       1   \n",
       "4  Categoria 1         Passeio        31677                       1   \n",
       "\n",
       "  volume_veiculo_equivalente tipo_de_cobranca  \n",
       "0                      44146              NaN  \n",
       "1                      35771              NaN  \n",
       "2                      33455              NaN  \n",
       "3                      27109              NaN  \n",
       "4                      31677              NaN  "
      ]
     },
     "execution_count": 8,
     "metadata": {},
     "output_type": "execute_result"
    }
   ],
   "source": [
    "df_trafego.head()"
   ]
  },
  {
   "cell_type": "code",
   "execution_count": 9,
   "id": "375aa237-e0b2-4a31-bcb1-ba4356cc4745",
   "metadata": {
    "execution": {
     "iopub.execute_input": "2024-08-27T21:51:24.842840Z",
     "iopub.status.busy": "2024-08-27T21:51:24.842426Z",
     "iopub.status.idle": "2024-08-27T21:51:24.856689Z",
     "shell.execute_reply": "2024-08-27T21:51:24.855247Z",
     "shell.execute_reply.started": "2024-08-27T21:51:24.842800Z"
    },
    "tags": []
   },
   "outputs": [
    {
     "name": "stdout",
     "output_type": "stream",
     "text": [
      "<class 'pandas.core.frame.DataFrame'>\n",
      "Index: 3000353 entries, 0 to 2329761\n",
      "Data columns (total 10 columns):\n",
      " #   Column                      Dtype \n",
      "---  ------                      ----- \n",
      " 0   concessionaria              object\n",
      " 1   mes_ano                     object\n",
      " 2   sentido                     object\n",
      " 3   praca                       object\n",
      " 4   categoria                   object\n",
      " 5   tipo_de_veiculo             object\n",
      " 6   volume_total                object\n",
      " 7   multiplicador_de_tarifa     object\n",
      " 8   volume_veiculo_equivalente  object\n",
      " 9   tipo_de_cobranca            object\n",
      "dtypes: object(10)\n",
      "memory usage: 251.8+ MB\n"
     ]
    }
   ],
   "source": [
    "df_trafego.info()"
   ]
  },
  {
   "cell_type": "code",
   "execution_count": 10,
   "id": "ded8067c-2413-44c0-88ca-9ff8d15084b1",
   "metadata": {
    "execution": {
     "iopub.execute_input": "2024-08-27T21:51:24.859196Z",
     "iopub.status.busy": "2024-08-27T21:51:24.858417Z",
     "iopub.status.idle": "2024-08-27T21:51:25.998614Z",
     "shell.execute_reply": "2024-08-27T21:51:25.997192Z",
     "shell.execute_reply.started": "2024-08-27T21:51:24.859137Z"
    },
    "tags": []
   },
   "outputs": [
    {
     "name": "stdout",
     "output_type": "stream",
     "text": [
      "concessionaria: 0\n",
      "mes_ano: 0\n",
      "sentido: 0\n",
      "praca: 0\n",
      "categoria: 0\n",
      "tipo_de_veiculo: 0\n",
      "volume_total: 344\n",
      "multiplicador_de_tarifa: 0\n",
      "volume_veiculo_equivalente: 0\n",
      "tipo_de_cobranca: 74780\n"
     ]
    }
   ],
   "source": [
    "for col in df_trafego:\n",
    "    print(f\"{col}: {df_trafego[col].isna().sum()}\")"
   ]
  },
  {
   "cell_type": "code",
   "execution_count": 11,
   "id": "dddf1952-8eca-459f-890b-90ada7d1bc14",
   "metadata": {
    "execution": {
     "iopub.execute_input": "2024-08-27T21:51:26.000528Z",
     "iopub.status.busy": "2024-08-27T21:51:25.999883Z",
     "iopub.status.idle": "2024-08-27T21:51:26.150061Z",
     "shell.execute_reply": "2024-08-27T21:51:26.148708Z",
     "shell.execute_reply.started": "2024-08-27T21:51:26.000489Z"
    },
    "tags": []
   },
   "outputs": [
    {
     "data": {
      "text/html": [
       "<div>\n",
       "<style scoped>\n",
       "    .dataframe tbody tr th:only-of-type {\n",
       "        vertical-align: middle;\n",
       "    }\n",
       "\n",
       "    .dataframe tbody tr th {\n",
       "        vertical-align: top;\n",
       "    }\n",
       "\n",
       "    .dataframe thead th {\n",
       "        text-align: right;\n",
       "    }\n",
       "</style>\n",
       "<table border=\"1\" class=\"dataframe\">\n",
       "  <thead>\n",
       "    <tr style=\"text-align: right;\">\n",
       "      <th></th>\n",
       "      <th>concessionaria</th>\n",
       "      <th>mes_ano</th>\n",
       "      <th>sentido</th>\n",
       "      <th>praca</th>\n",
       "      <th>categoria</th>\n",
       "      <th>tipo_de_veiculo</th>\n",
       "      <th>volume_total</th>\n",
       "      <th>multiplicador_de_tarifa</th>\n",
       "      <th>volume_veiculo_equivalente</th>\n",
       "      <th>tipo_de_cobranca</th>\n",
       "    </tr>\n",
       "  </thead>\n",
       "  <tbody>\n",
       "    <tr>\n",
       "      <th>135297</th>\n",
       "      <td>RIOSP</td>\n",
       "      <td>01/05/2023</td>\n",
       "      <td>Crescente</td>\n",
       "      <td>Praça 08 BR-116/SP km 205,00</td>\n",
       "      <td>Categoria 3</td>\n",
       "      <td>Passeio</td>\n",
       "      <td>NaN</td>\n",
       "      <td>1,50</td>\n",
       "      <td>0,00</td>\n",
       "      <td>N/I</td>\n",
       "    </tr>\n",
       "    <tr>\n",
       "      <th>125202</th>\n",
       "      <td>ECOSUL</td>\n",
       "      <td>01/03/2023</td>\n",
       "      <td>Crescente</td>\n",
       "      <td>Praça 01 BR-116/RS km 430,79</td>\n",
       "      <td>Categoria 9</td>\n",
       "      <td>Moto</td>\n",
       "      <td>NaN</td>\n",
       "      <td>0,50</td>\n",
       "      <td>0,00</td>\n",
       "      <td>N/I</td>\n",
       "    </tr>\n",
       "    <tr>\n",
       "      <th>125352</th>\n",
       "      <td>ECOSUL</td>\n",
       "      <td>01/04/2023</td>\n",
       "      <td>Decrescente</td>\n",
       "      <td>Praça 03 BR-116/RS km 541,20</td>\n",
       "      <td>Categoria 9</td>\n",
       "      <td>Moto</td>\n",
       "      <td>NaN</td>\n",
       "      <td>0,50</td>\n",
       "      <td>0,00</td>\n",
       "      <td>N/I</td>\n",
       "    </tr>\n",
       "    <tr>\n",
       "      <th>135766</th>\n",
       "      <td>RIOSP</td>\n",
       "      <td>01/07/2023</td>\n",
       "      <td>Crescente</td>\n",
       "      <td>Praça 08 BR-116/SP km 205,00</td>\n",
       "      <td>Categoria 5</td>\n",
       "      <td>Passeio</td>\n",
       "      <td>NaN</td>\n",
       "      <td>2,00</td>\n",
       "      <td>0,00</td>\n",
       "      <td>N/I</td>\n",
       "    </tr>\n",
       "    <tr>\n",
       "      <th>126092</th>\n",
       "      <td>ECOSUL</td>\n",
       "      <td>01/11/2023</td>\n",
       "      <td>Decrescente</td>\n",
       "      <td>Praça 05 BR-392/RS km 111,47</td>\n",
       "      <td>Categoria 9</td>\n",
       "      <td>Moto</td>\n",
       "      <td>NaN</td>\n",
       "      <td>0,50</td>\n",
       "      <td>0,00</td>\n",
       "      <td>N/I</td>\n",
       "    </tr>\n",
       "    <tr>\n",
       "      <th>130086</th>\n",
       "      <td>ECOVIAS DO CERRADO</td>\n",
       "      <td>01/06/2023</td>\n",
       "      <td>Decrescente</td>\n",
       "      <td>P7 - Jataí BR 364/GO km 156,550</td>\n",
       "      <td>Veículo Comercial Acima 10 eixos</td>\n",
       "      <td>Comercial</td>\n",
       "      <td>NaN</td>\n",
       "      <td>10,00</td>\n",
       "      <td>0,00</td>\n",
       "      <td>N/I</td>\n",
       "    </tr>\n",
       "    <tr>\n",
       "      <th>125972</th>\n",
       "      <td>ECOSUL</td>\n",
       "      <td>01/10/2023</td>\n",
       "      <td>Decrescente</td>\n",
       "      <td>Praça 04 BR-392/RS km 52,30</td>\n",
       "      <td>Categoria 9</td>\n",
       "      <td>Moto</td>\n",
       "      <td>NaN</td>\n",
       "      <td>0,50</td>\n",
       "      <td>0,00</td>\n",
       "      <td>N/I</td>\n",
       "    </tr>\n",
       "    <tr>\n",
       "      <th>135055</th>\n",
       "      <td>RIOSP</td>\n",
       "      <td>01/04/2023</td>\n",
       "      <td>Crescente</td>\n",
       "      <td>Praça 08 BR-116/SP km 205,00</td>\n",
       "      <td>Categoria 7</td>\n",
       "      <td>Comercial</td>\n",
       "      <td>NaN</td>\n",
       "      <td>5,00</td>\n",
       "      <td>0,00</td>\n",
       "      <td>N/I</td>\n",
       "    </tr>\n",
       "    <tr>\n",
       "      <th>125292</th>\n",
       "      <td>ECOSUL</td>\n",
       "      <td>01/03/2023</td>\n",
       "      <td>Decrescente</td>\n",
       "      <td>Praça 05 BR-392/RS km 111,47</td>\n",
       "      <td>Categoria 9</td>\n",
       "      <td>Moto</td>\n",
       "      <td>NaN</td>\n",
       "      <td>0,50</td>\n",
       "      <td>0,00</td>\n",
       "      <td>N/I</td>\n",
       "    </tr>\n",
       "  </tbody>\n",
       "</table>\n",
       "</div>"
      ],
      "text/plain": [
       "            concessionaria     mes_ano      sentido  \\\n",
       "135297               RIOSP  01/05/2023    Crescente   \n",
       "125202              ECOSUL  01/03/2023    Crescente   \n",
       "125352              ECOSUL  01/04/2023  Decrescente   \n",
       "135766               RIOSP  01/07/2023    Crescente   \n",
       "126092              ECOSUL  01/11/2023  Decrescente   \n",
       "130086  ECOVIAS DO CERRADO  01/06/2023  Decrescente   \n",
       "125972              ECOSUL  01/10/2023  Decrescente   \n",
       "135055               RIOSP  01/04/2023    Crescente   \n",
       "125292              ECOSUL  01/03/2023  Decrescente   \n",
       "\n",
       "                                  praca                         categoria  \\\n",
       "135297     Praça 08 BR-116/SP km 205,00                       Categoria 3   \n",
       "125202     Praça 01 BR-116/RS km 430,79                       Categoria 9   \n",
       "125352     Praça 03 BR-116/RS km 541,20                       Categoria 9   \n",
       "135766     Praça 08 BR-116/SP km 205,00                       Categoria 5   \n",
       "126092     Praça 05 BR-392/RS km 111,47                       Categoria 9   \n",
       "130086  P7 - Jataí BR 364/GO km 156,550  Veículo Comercial Acima 10 eixos   \n",
       "125972      Praça 04 BR-392/RS km 52,30                       Categoria 9   \n",
       "135055     Praça 08 BR-116/SP km 205,00                       Categoria 7   \n",
       "125292     Praça 05 BR-392/RS km 111,47                       Categoria 9   \n",
       "\n",
       "       tipo_de_veiculo volume_total multiplicador_de_tarifa  \\\n",
       "135297         Passeio          NaN                    1,50   \n",
       "125202            Moto          NaN                    0,50   \n",
       "125352            Moto          NaN                    0,50   \n",
       "135766         Passeio          NaN                    2,00   \n",
       "126092            Moto          NaN                    0,50   \n",
       "130086       Comercial          NaN                   10,00   \n",
       "125972            Moto          NaN                    0,50   \n",
       "135055       Comercial          NaN                    5,00   \n",
       "125292            Moto          NaN                    0,50   \n",
       "\n",
       "       volume_veiculo_equivalente tipo_de_cobranca  \n",
       "135297                       0,00              N/I  \n",
       "125202                       0,00              N/I  \n",
       "125352                       0,00              N/I  \n",
       "135766                       0,00              N/I  \n",
       "126092                       0,00              N/I  \n",
       "130086                       0,00              N/I  \n",
       "125972                       0,00              N/I  \n",
       "135055                       0,00              N/I  \n",
       "125292                       0,00              N/I  "
      ]
     },
     "execution_count": 11,
     "metadata": {},
     "output_type": "execute_result"
    }
   ],
   "source": [
    "df_trafego[df_trafego['volume_total'].isna()].sample(9)"
   ]
  },
  {
   "cell_type": "code",
   "execution_count": 12,
   "id": "c0eb184b-ce91-429c-bc8b-4abac18cf9d2",
   "metadata": {
    "execution": {
     "iopub.execute_input": "2024-08-27T21:51:26.152190Z",
     "iopub.status.busy": "2024-08-27T21:51:26.151707Z",
     "iopub.status.idle": "2024-08-27T21:51:26.272362Z",
     "shell.execute_reply": "2024-08-27T21:51:26.270974Z",
     "shell.execute_reply.started": "2024-08-27T21:51:26.152150Z"
    },
    "tags": []
   },
   "outputs": [
    {
     "data": {
      "text/plain": [
       "array(['0,00'], dtype=object)"
      ]
     },
     "execution_count": 12,
     "metadata": {},
     "output_type": "execute_result"
    }
   ],
   "source": [
    "df_trafego[df_trafego['volume_total'].isna()]['volume_veiculo_equivalente'].unique()"
   ]
  },
  {
   "cell_type": "code",
   "execution_count": 13,
   "id": "b455acf7-a4bf-4af3-b96d-e8fa9b687001",
   "metadata": {
    "execution": {
     "iopub.execute_input": "2024-08-27T21:51:26.275386Z",
     "iopub.status.busy": "2024-08-27T21:51:26.274342Z",
     "iopub.status.idle": "2024-08-27T21:51:27.449237Z",
     "shell.execute_reply": "2024-08-27T21:51:27.448090Z",
     "shell.execute_reply.started": "2024-08-27T21:51:26.275312Z"
    },
    "tags": []
   },
   "outputs": [
    {
     "data": {
      "text/plain": [
       "array(['01', '14', '28', '31', '30', '02', '03', '04', '05', '06', '07',\n",
       "       '08', '09', '10', '11', '12', '13', '15', '16', '17', '18', '19',\n",
       "       '20', '21', '22', '23', '24', '25', '26', '27', '29'], dtype=object)"
      ]
     },
     "execution_count": 13,
     "metadata": {},
     "output_type": "execute_result"
    }
   ],
   "source": [
    "df_trafego['mes_ano'].str[:2].unique()"
   ]
  },
  {
   "cell_type": "code",
   "execution_count": 14,
   "id": "8bd3362a-3ca0-4b08-bec7-8bf7db6a5060",
   "metadata": {
    "execution": {
     "iopub.execute_input": "2024-08-27T21:51:27.456055Z",
     "iopub.status.busy": "2024-08-27T21:51:27.455520Z",
     "iopub.status.idle": "2024-08-27T21:51:28.663606Z",
     "shell.execute_reply": "2024-08-27T21:51:28.662439Z",
     "shell.execute_reply.started": "2024-08-27T21:51:27.455999Z"
    },
    "tags": []
   },
   "outputs": [
    {
     "data": {
      "text/plain": [
       "array(['01', '02', '03', '04', '05', '06', '07', '08', '09', '10', '11',\n",
       "       '12'], dtype=object)"
      ]
     },
     "execution_count": 14,
     "metadata": {},
     "output_type": "execute_result"
    }
   ],
   "source": [
    "df_trafego['mes_ano'].str[3:5].unique()"
   ]
  },
  {
   "cell_type": "code",
   "execution_count": 15,
   "id": "8453ca06-ce7b-47b5-afe4-1dcf7ff131da",
   "metadata": {
    "execution": {
     "iopub.execute_input": "2024-08-27T21:51:28.665952Z",
     "iopub.status.busy": "2024-08-27T21:51:28.664861Z",
     "iopub.status.idle": "2024-08-27T21:51:28.779441Z",
     "shell.execute_reply": "2024-08-27T21:51:28.778304Z",
     "shell.execute_reply.started": "2024-08-27T21:51:28.665913Z"
    },
    "tags": []
   },
   "outputs": [
    {
     "data": {
      "text/plain": [
       "array([nan, 'N/I', 'Manual', 'Automática', 'Mista'], dtype=object)"
      ]
     },
     "execution_count": 15,
     "metadata": {},
     "output_type": "execute_result"
    }
   ],
   "source": [
    "df_trafego['tipo_de_cobranca'].unique()"
   ]
  },
  {
   "cell_type": "code",
   "execution_count": 16,
   "id": "60e95d5f-cf18-4ce0-bea5-a7f2037bd499",
   "metadata": {
    "execution": {
     "iopub.execute_input": "2024-08-27T21:51:28.781308Z",
     "iopub.status.busy": "2024-08-27T21:51:28.780740Z",
     "iopub.status.idle": "2024-08-27T21:51:28.896013Z",
     "shell.execute_reply": "2024-08-27T21:51:28.894845Z",
     "shell.execute_reply.started": "2024-08-27T21:51:28.781271Z"
    },
    "tags": []
   },
   "outputs": [
    {
     "data": {
      "text/plain": [
       "np.True_"
      ]
     },
     "execution_count": 16,
     "metadata": {},
     "output_type": "execute_result"
    }
   ],
   "source": [
    "df_trafego['volume_total'].isna().any()"
   ]
  },
  {
   "cell_type": "code",
   "execution_count": 17,
   "id": "ffb13d6e-a38b-4448-ac2a-18bbc4fb5806",
   "metadata": {
    "execution": {
     "iopub.execute_input": "2024-08-27T21:51:28.897884Z",
     "iopub.status.busy": "2024-08-27T21:51:28.897426Z",
     "iopub.status.idle": "2024-08-27T21:51:29.023475Z",
     "shell.execute_reply": "2024-08-27T21:51:29.022183Z",
     "shell.execute_reply.started": "2024-08-27T21:51:28.897846Z"
    },
    "tags": []
   },
   "outputs": [
    {
     "data": {
      "text/plain": [
       "np.int64(344)"
      ]
     },
     "execution_count": 17,
     "metadata": {},
     "output_type": "execute_result"
    }
   ],
   "source": [
    "df_trafego['volume_total'].isna().sum()"
   ]
  },
  {
   "cell_type": "code",
   "execution_count": 18,
   "id": "f1c1d921-77c0-4909-ab78-8f4be88a7680",
   "metadata": {
    "execution": {
     "iopub.execute_input": "2024-08-27T21:51:29.025429Z",
     "iopub.status.busy": "2024-08-27T21:51:29.025059Z",
     "iopub.status.idle": "2024-08-27T21:51:29.143221Z",
     "shell.execute_reply": "2024-08-27T21:51:29.142010Z",
     "shell.execute_reply.started": "2024-08-27T21:51:29.025390Z"
    },
    "tags": []
   },
   "outputs": [
    {
     "data": {
      "text/plain": [
       "array(['1', '2', '1,5', '3', '4', '5', '6', '0,5', '7', '8', '9', '10',\n",
       "       1.0, 2.0, 1.5, 3.0, 4.0, 5.0, 6.0, 0.5, 7.0, 8.0, 9.0, 10.0,\n",
       "       '2,00', '3,00', '4,00', '5,00', '6,00', '0,50', '1,00', '1,50',\n",
       "       '7,00', '8,00', '9,00', '10,00', '0,00', '11,00', '13,00', '15,00',\n",
       "       '12,00', '14,00', '18,00', '20,00', '16,00', '17,00', '19,00'],\n",
       "      dtype=object)"
      ]
     },
     "execution_count": 18,
     "metadata": {},
     "output_type": "execute_result"
    }
   ],
   "source": [
    "df_trafego['multiplicador_de_tarifa'].unique()"
   ]
  },
  {
   "cell_type": "markdown",
   "id": "3dd3548c-f263-4ffc-9527-5344610ef315",
   "metadata": {},
   "source": [
    "# Tratamento dos dados"
   ]
  },
  {
   "cell_type": "code",
   "execution_count": 19,
   "id": "f051ad20-c663-4a8d-925b-549e436eb4c9",
   "metadata": {
    "execution": {
     "iopub.execute_input": "2024-08-27T21:51:29.145180Z",
     "iopub.status.busy": "2024-08-27T21:51:29.144693Z",
     "iopub.status.idle": "2024-08-27T21:51:33.050596Z",
     "shell.execute_reply": "2024-08-27T21:51:33.048620Z",
     "shell.execute_reply.started": "2024-08-27T21:51:29.145143Z"
    },
    "tags": []
   },
   "outputs": [],
   "source": [
    "# Colunas de ano, mes e dia\n",
    "df_trafego['year'] = df_trafego['mes_ano'].str[-4:].astype('int') \n",
    "df_trafego['month'] = df_trafego['mes_ano'].str[3:5].astype('int')\n",
    "df_trafego['day'] = df_trafego['mes_ano'].str[:2].astype('int') "
   ]
  },
  {
   "cell_type": "code",
   "execution_count": 20,
   "id": "67124ec5-e152-49d4-b303-9cbb11927cb3",
   "metadata": {
    "execution": {
     "iopub.execute_input": "2024-08-27T21:51:33.052365Z",
     "iopub.status.busy": "2024-08-27T21:51:33.052011Z",
     "iopub.status.idle": "2024-08-27T21:51:34.117554Z",
     "shell.execute_reply": "2024-08-27T21:51:34.116322Z",
     "shell.execute_reply.started": "2024-08-27T21:51:33.052327Z"
    },
    "tags": []
   },
   "outputs": [],
   "source": [
    "# Recriando a coluna de mes_ano, agora como datetime ao invés de string. Tem que ser em ingles pq a função do pandas exige\n",
    "df_trafego['mes_ano'] = pd.to_datetime(df_trafego[['year', 'month', 'day']]).dt.date"
   ]
  },
  {
   "cell_type": "code",
   "execution_count": 21,
   "id": "5fae9658-dc43-433c-89c9-2395145471de",
   "metadata": {
    "execution": {
     "iopub.execute_input": "2024-08-27T21:51:34.119490Z",
     "iopub.status.busy": "2024-08-27T21:51:34.119107Z",
     "iopub.status.idle": "2024-08-27T21:51:34.353014Z",
     "shell.execute_reply": "2024-08-27T21:51:34.351779Z",
     "shell.execute_reply.started": "2024-08-27T21:51:34.119453Z"
    },
    "tags": []
   },
   "outputs": [],
   "source": [
    "# preenchendo os NaNs, qdo aplicável:\n",
    "df_trafego['volume_total'] = df_trafego['volume_total'].fillna(0) #o volume equivalente é zero sempre que volume_total é zero"
   ]
  },
  {
   "cell_type": "code",
   "execution_count": 22,
   "id": "6c57331f-cb3d-4adc-9d3c-ef37432f4801",
   "metadata": {
    "execution": {
     "iopub.execute_input": "2024-08-27T21:51:34.355062Z",
     "iopub.status.busy": "2024-08-27T21:51:34.354605Z",
     "iopub.status.idle": "2024-08-27T21:51:39.564218Z",
     "shell.execute_reply": "2024-08-27T21:51:39.562824Z",
     "shell.execute_reply.started": "2024-08-27T21:51:34.355024Z"
    },
    "tags": []
   },
   "outputs": [],
   "source": [
    "# Convertendo os tipos de dados para numéricos:\n",
    "df_trafego['volume_total'] = df_trafego['volume_total'].apply(lambda x: x.replace(',','.') if type(x) == str else x)\n",
    "df_trafego['volume_total'] = df_trafego['volume_total'].apply(lambda x: x.split('.')[0] if type(x) == str else x)\n",
    "df_trafego['volume_total'] = df_trafego['volume_total'].astype('int')\n",
    "\n",
    "df_trafego['volume_veiculo_equivalente'] = df_trafego['volume_veiculo_equivalente'].apply(lambda x: x.replace(',','.') if type(x) == str else x)\n",
    "df_trafego['volume_veiculo_equivalente'] = df_trafego['volume_veiculo_equivalente'].astype('float') # existe multiplicador de tarifa fracionário"
   ]
  },
  {
   "cell_type": "code",
   "execution_count": 23,
   "id": "20231a8a-8ab4-41b5-bd87-db645b34cfd5",
   "metadata": {
    "execution": {
     "iopub.execute_input": "2024-08-27T21:51:39.565985Z",
     "iopub.status.busy": "2024-08-27T21:51:39.565649Z",
     "iopub.status.idle": "2024-08-27T21:51:39.689001Z",
     "shell.execute_reply": "2024-08-27T21:51:39.687792Z",
     "shell.execute_reply.started": "2024-08-27T21:51:39.565948Z"
    },
    "tags": []
   },
   "outputs": [],
   "source": [
    "# convertendo categoria para string (do contrário não salva para parquet):\n",
    "df_trafego['categoria'] = df_trafego['categoria'].astype('string')"
   ]
  },
  {
   "cell_type": "code",
   "execution_count": 24,
   "id": "a570f4b8-a68e-47a9-8d5c-ec56f6e8086c",
   "metadata": {
    "execution": {
     "iopub.execute_input": "2024-08-27T21:51:39.691007Z",
     "iopub.status.busy": "2024-08-27T21:51:39.690641Z",
     "iopub.status.idle": "2024-08-27T21:51:42.769970Z",
     "shell.execute_reply": "2024-08-27T21:51:42.768682Z",
     "shell.execute_reply.started": "2024-08-27T21:51:39.690969Z"
    },
    "tags": []
   },
   "outputs": [],
   "source": [
    "# convertendo o multiplicador de tarifa de string para decimal (p/manter a precisao):\n",
    "df_trafego['multiplicador_de_tarifa'] = df_trafego['multiplicador_de_tarifa'].apply(lambda x: x.replace(',','.') if type(x) == str else x)\n",
    "df_trafego['multiplicador_de_tarifa'] = df_trafego['multiplicador_de_tarifa'].apply(Decimal)"
   ]
  },
  {
   "cell_type": "code",
   "execution_count": 25,
   "id": "697d05b6-6346-4a0e-a2c5-2cfd71ccd016",
   "metadata": {
    "execution": {
     "iopub.execute_input": "2024-08-27T21:51:42.772404Z",
     "iopub.status.busy": "2024-08-27T21:51:42.771897Z",
     "iopub.status.idle": "2024-08-27T21:51:43.609855Z",
     "shell.execute_reply": "2024-08-27T21:51:43.608336Z",
     "shell.execute_reply.started": "2024-08-27T21:51:42.772351Z"
    },
    "tags": []
   },
   "outputs": [],
   "source": [
    "# O tipo de tráfego ora está em maisúcula, ora em minúscula.\n",
    "# Colocando tudo p/maiúscula\n",
    "df_trafego['tipo_de_veiculo'] = df_trafego['tipo_de_veiculo'].str.upper()"
   ]
  },
  {
   "cell_type": "code",
   "execution_count": 26,
   "id": "b91a6a8d-2fa9-4c7e-8e1a-68097e4eeb46",
   "metadata": {
    "execution": {
     "iopub.execute_input": "2024-08-27T21:51:43.613709Z",
     "iopub.status.busy": "2024-08-27T21:51:43.611290Z",
     "iopub.status.idle": "2024-08-27T21:51:44.594031Z",
     "shell.execute_reply": "2024-08-27T21:51:44.592930Z",
     "shell.execute_reply.started": "2024-08-27T21:51:43.613669Z"
    },
    "tags": []
   },
   "outputs": [],
   "source": [
    "# algumas concessionárias estão ora em maiúsculas ora em minúsculas\n",
    "# colocando tudo para maiúscula\n",
    "df_trafego['concessionaria'] = df_trafego['concessionaria'].str.upper()"
   ]
  },
  {
   "cell_type": "code",
   "execution_count": 27,
   "id": "21713dd4-7ebd-4409-8deb-494dff59a52c",
   "metadata": {
    "execution": {
     "iopub.execute_input": "2024-08-27T21:51:44.596199Z",
     "iopub.status.busy": "2024-08-27T21:51:44.595610Z",
     "iopub.status.idle": "2024-08-27T21:51:44.609559Z",
     "shell.execute_reply": "2024-08-27T21:51:44.608388Z",
     "shell.execute_reply.started": "2024-08-27T21:51:44.596162Z"
    },
    "tags": []
   },
   "outputs": [
    {
     "name": "stdout",
     "output_type": "stream",
     "text": [
      "<class 'pandas.core.frame.DataFrame'>\n",
      "Index: 3000353 entries, 0 to 2329761\n",
      "Data columns (total 13 columns):\n",
      " #   Column                      Dtype  \n",
      "---  ------                      -----  \n",
      " 0   concessionaria              object \n",
      " 1   mes_ano                     object \n",
      " 2   sentido                     object \n",
      " 3   praca                       object \n",
      " 4   categoria                   string \n",
      " 5   tipo_de_veiculo             object \n",
      " 6   volume_total                int64  \n",
      " 7   multiplicador_de_tarifa     object \n",
      " 8   volume_veiculo_equivalente  float64\n",
      " 9   tipo_de_cobranca            object \n",
      " 10  year                        int64  \n",
      " 11  month                       int64  \n",
      " 12  day                         int64  \n",
      "dtypes: float64(1), int64(4), object(7), string(1)\n",
      "memory usage: 320.5+ MB\n"
     ]
    }
   ],
   "source": [
    "df_trafego.info()"
   ]
  },
  {
   "cell_type": "code",
   "execution_count": 28,
   "id": "8bf6bfb2-3415-4306-be98-5ffe1dfabb72",
   "metadata": {
    "execution": {
     "iopub.execute_input": "2024-08-27T21:51:44.611089Z",
     "iopub.status.busy": "2024-08-27T21:51:44.610622Z",
     "iopub.status.idle": "2024-08-27T21:51:44.636991Z",
     "shell.execute_reply": "2024-08-27T21:51:44.636029Z",
     "shell.execute_reply.started": "2024-08-27T21:51:44.611051Z"
    },
    "tags": []
   },
   "outputs": [
    {
     "data": {
      "text/plain": [
       "array([2010, 2011, 2012, 2013, 2014, 2015, 2016, 2017, 2018, 2019, 2020,\n",
       "       2021, 2022, 2023, 2024])"
      ]
     },
     "execution_count": 28,
     "metadata": {},
     "output_type": "execute_result"
    }
   ],
   "source": [
    "df_trafego['year'].unique()"
   ]
  },
  {
   "cell_type": "code",
   "execution_count": 29,
   "id": "923b6979-a809-448d-8a28-b79546e40f59",
   "metadata": {
    "execution": {
     "iopub.execute_input": "2024-08-27T21:51:44.639318Z",
     "iopub.status.busy": "2024-08-27T21:51:44.638236Z",
     "iopub.status.idle": "2024-08-27T21:51:45.385928Z",
     "shell.execute_reply": "2024-08-27T21:51:45.384873Z",
     "shell.execute_reply.started": "2024-08-27T21:51:44.639276Z"
    },
    "tags": []
   },
   "outputs": [
    {
     "data": {
      "text/plain": [
       "array([1, 2, 3, 4, 5, 6])"
      ]
     },
     "execution_count": 29,
     "metadata": {},
     "output_type": "execute_result"
    }
   ],
   "source": [
    "df_trafego.query(\"year == 2024\")['month'].unique()"
   ]
  },
  {
   "cell_type": "markdown",
   "id": "a051f403-674a-48e9-b2b1-56ea297d48a3",
   "metadata": {},
   "source": [
    "## Criando coluna desambiguando categorias comercial x passeio"
   ]
  },
  {
   "cell_type": "code",
   "execution_count": 30,
   "id": "cf5a5255-4914-47f2-8033-6724d83ef71b",
   "metadata": {
    "execution": {
     "iopub.execute_input": "2024-08-27T21:51:45.387932Z",
     "iopub.status.busy": "2024-08-27T21:51:45.387590Z",
     "iopub.status.idle": "2024-08-27T21:51:45.611135Z",
     "shell.execute_reply": "2024-08-27T21:51:45.609827Z",
     "shell.execute_reply.started": "2024-08-27T21:51:45.387895Z"
    },
    "tags": []
   },
   "outputs": [
    {
     "data": {
      "text/plain": [
       "array(['PASSEIO', 'COMERCIAL', 'MOTO', 'VEÍCULO PEQUENO'], dtype=object)"
      ]
     },
     "execution_count": 30,
     "metadata": {},
     "output_type": "execute_result"
    }
   ],
   "source": [
    "df_trafego['tipo_de_veiculo'].unique()"
   ]
  },
  {
   "cell_type": "code",
   "execution_count": 31,
   "id": "f490e0ed-b6b8-4e97-b659-39d32cf578ae",
   "metadata": {
    "execution": {
     "iopub.execute_input": "2024-08-27T21:51:45.613632Z",
     "iopub.status.busy": "2024-08-27T21:51:45.612490Z",
     "iopub.status.idle": "2024-08-27T21:51:46.315679Z",
     "shell.execute_reply": "2024-08-27T21:51:46.314030Z",
     "shell.execute_reply.started": "2024-08-27T21:51:45.613585Z"
    },
    "tags": []
   },
   "outputs": [],
   "source": [
    "df_trafego[\"TIPO_TRAFEGO\"] = df_trafego['tipo_de_veiculo'].apply(lambda x: x if x == \"COMERCIAL\" else \"PASSEIO\")"
   ]
  },
  {
   "cell_type": "code",
   "execution_count": 32,
   "id": "e237a2f8-7d4b-468f-9bf3-56e4af37fcbd",
   "metadata": {
    "execution": {
     "iopub.execute_input": "2024-08-27T21:51:46.318572Z",
     "iopub.status.busy": "2024-08-27T21:51:46.317437Z",
     "iopub.status.idle": "2024-08-27T21:51:46.550105Z",
     "shell.execute_reply": "2024-08-27T21:51:46.548365Z",
     "shell.execute_reply.started": "2024-08-27T21:51:46.318533Z"
    },
    "tags": []
   },
   "outputs": [
    {
     "data": {
      "text/plain": [
       "array(['PASSEIO', 'COMERCIAL'], dtype=object)"
      ]
     },
     "execution_count": 32,
     "metadata": {},
     "output_type": "execute_result"
    }
   ],
   "source": [
    "df_trafego[\"TIPO_TRAFEGO\"].unique()"
   ]
  },
  {
   "cell_type": "markdown",
   "id": "679e22fb-6baf-465e-ab85-1780da58255d",
   "metadata": {},
   "source": [
    "## Criando colunas com trafégo em Veqs para comercial e passeio"
   ]
  },
  {
   "cell_type": "code",
   "execution_count": 33,
   "id": "b8ff717e-9467-4368-9bfe-da6d7eb99b07",
   "metadata": {
    "execution": {
     "iopub.execute_input": "2024-08-27T21:51:46.552426Z",
     "iopub.status.busy": "2024-08-27T21:51:46.551712Z",
     "iopub.status.idle": "2024-08-27T21:51:49.009684Z",
     "shell.execute_reply": "2024-08-27T21:51:49.008618Z",
     "shell.execute_reply.started": "2024-08-27T21:51:46.552386Z"
    },
    "tags": []
   },
   "outputs": [],
   "source": [
    "df_trafego = df_trafego.rename(columns={'volume_veiculo_equivalente':'VEQS_TOTAL'})\n",
    "df_trafego['VEQS_COMERCIAL'] = np.where(\n",
    "    df_trafego['TIPO_TRAFEGO'] == 'COMERCIAL',\n",
    "    df_trafego['VEQS_TOTAL'],\n",
    "    0\n",
    ")\n",
    "df_trafego['VEQS_PASSEIO'] = np.where(\n",
    "    df_trafego['TIPO_TRAFEGO'] == 'PASSEIO',\n",
    "    df_trafego['VEQS_TOTAL'],\n",
    "    0\n",
    ")"
   ]
  },
  {
   "cell_type": "markdown",
   "id": "6eb69752-50ea-4ed4-b052-3e93dbde2359",
   "metadata": {},
   "source": [
    "# Criando dataframe com o período inicial e final dos dados por concessionária"
   ]
  },
  {
   "cell_type": "code",
   "execution_count": 34,
   "id": "9c88ae9b-ba1f-4cb8-81f9-7e9af597b71e",
   "metadata": {
    "execution": {
     "iopub.execute_input": "2024-08-27T21:51:49.012162Z",
     "iopub.status.busy": "2024-08-27T21:51:49.011581Z",
     "iopub.status.idle": "2024-08-27T21:51:49.876642Z",
     "shell.execute_reply": "2024-08-27T21:51:49.874664Z",
     "shell.execute_reply.started": "2024-08-27T21:51:49.012123Z"
    },
    "tags": []
   },
   "outputs": [],
   "source": [
    "df_periodos = df_trafego.groupby('concessionaria').agg(\n",
    "    data_inicial=('mes_ano', 'min'),\n",
    "    data_final=('mes_ano', 'max')\n",
    ").reset_index()\n",
    "df_periodos['data_inicial'] = pd.to_datetime(df_periodos['data_inicial']).dt.date\n",
    "df_periodos['data_final'] = pd.to_datetime(df_periodos['data_final']).dt.date"
   ]
  },
  {
   "cell_type": "code",
   "execution_count": 35,
   "id": "631fee43-44f1-4af0-bef4-269bd9f261c3",
   "metadata": {
    "execution": {
     "iopub.execute_input": "2024-08-27T21:51:49.878877Z",
     "iopub.status.busy": "2024-08-27T21:51:49.877879Z",
     "iopub.status.idle": "2024-08-27T21:51:49.887155Z",
     "shell.execute_reply": "2024-08-27T21:51:49.885998Z",
     "shell.execute_reply.started": "2024-08-27T21:51:49.878797Z"
    },
    "tags": []
   },
   "outputs": [],
   "source": [
    "df_periodos.index = df_periodos['concessionaria']\n",
    "df_periodos = df_periodos.drop(columns=['concessionaria'])"
   ]
  },
  {
   "cell_type": "code",
   "execution_count": 36,
   "id": "ff4412de-e2db-46dd-86de-03e350024261",
   "metadata": {
    "execution": {
     "iopub.execute_input": "2024-08-27T21:51:49.889444Z",
     "iopub.status.busy": "2024-08-27T21:51:49.888786Z",
     "iopub.status.idle": "2024-08-27T21:51:49.896534Z",
     "shell.execute_reply": "2024-08-27T21:51:49.895257Z",
     "shell.execute_reply.started": "2024-08-27T21:51:49.889402Z"
    },
    "tags": []
   },
   "outputs": [],
   "source": [
    "df_periodos = df_periodos.sort_values(by='data_inicial', ascending=False)"
   ]
  },
  {
   "cell_type": "markdown",
   "id": "d4a56a76-9175-4683-96dd-3ec24f7c5e17",
   "metadata": {},
   "source": [
    "# Criando dataframes agrupando VEQs por ANO/concessionaria/tipo de trafego"
   ]
  },
  {
   "cell_type": "code",
   "execution_count": 47,
   "id": "daa64db4-4baf-4def-96eb-754a59be67d8",
   "metadata": {
    "execution": {
     "iopub.execute_input": "2024-08-27T21:52:27.323299Z",
     "iopub.status.busy": "2024-08-27T21:52:27.322718Z",
     "iopub.status.idle": "2024-08-27T21:52:27.331494Z",
     "shell.execute_reply": "2024-08-27T21:52:27.330259Z",
     "shell.execute_reply.started": "2024-08-27T21:52:27.323259Z"
    },
    "tags": []
   },
   "outputs": [
    {
     "data": {
      "text/plain": [
       "Index(['concessionaria', 'mes_ano', 'sentido', 'praca', 'categoria',\n",
       "       'tipo_de_veiculo', 'volume_total', 'multiplicador_de_tarifa',\n",
       "       'VEQS_TOTAL', 'tipo_de_cobranca', 'year', 'month', 'day',\n",
       "       'TIPO_TRAFEGO', 'VEQS_COMERCIAL', 'VEQS_PASSEIO', 'MES_ANO_f'],\n",
       "      dtype='object')"
      ]
     },
     "execution_count": 47,
     "metadata": {},
     "output_type": "execute_result"
    }
   ],
   "source": [
    "df_trafego.columns"
   ]
  },
  {
   "cell_type": "code",
   "execution_count": 48,
   "id": "d50674a2-5e78-4c74-b726-dcb92013bdb0",
   "metadata": {
    "execution": {
     "iopub.execute_input": "2024-08-27T21:52:27.774546Z",
     "iopub.status.busy": "2024-08-27T21:52:27.773216Z",
     "iopub.status.idle": "2024-08-27T21:52:27.779171Z",
     "shell.execute_reply": "2024-08-27T21:52:27.778355Z",
     "shell.execute_reply.started": "2024-08-27T21:52:27.774489Z"
    },
    "tags": []
   },
   "outputs": [],
   "source": [
    "cols_veqs = ['VEQS_TOTAL','VEQS_COMERCIAL','VEQS_PASSEIO']"
   ]
  },
  {
   "cell_type": "code",
   "execution_count": 49,
   "id": "5bc113c9-f87f-4b65-a7c4-5006d68589a2",
   "metadata": {
    "execution": {
     "iopub.execute_input": "2024-08-27T21:52:29.860855Z",
     "iopub.status.busy": "2024-08-27T21:52:29.860403Z",
     "iopub.status.idle": "2024-08-27T21:52:31.323639Z",
     "shell.execute_reply": "2024-08-27T21:52:31.322428Z",
     "shell.execute_reply.started": "2024-08-27T21:52:29.860816Z"
    },
    "tags": []
   },
   "outputs": [],
   "source": [
    "dict_veqs = {}\n",
    "for col in cols_veqs:\n",
    "    dict_veqs[col] = df_trafego.pivot_table(\n",
    "        index='concessionaria',\n",
    "        columns='year',\n",
    "        values=col,\n",
    "        aggfunc='sum'\n",
    "        )"
   ]
  },
  {
   "cell_type": "markdown",
   "id": "d625db77-71d2-4333-b99b-4f4024437407",
   "metadata": {},
   "source": [
    "# Criando dataframes agrupando VEQs por MÊS/concessionaria/tipo de trafego"
   ]
  },
  {
   "cell_type": "code",
   "execution_count": 74,
   "id": "59b8cf1e-8e49-44eb-a917-6d78fb0033f6",
   "metadata": {
    "execution": {
     "iopub.execute_input": "2024-08-27T21:59:27.531819Z",
     "iopub.status.busy": "2024-08-27T21:59:27.531234Z",
     "iopub.status.idle": "2024-08-27T21:59:29.160454Z",
     "shell.execute_reply": "2024-08-27T21:59:29.159141Z",
     "shell.execute_reply.started": "2024-08-27T21:59:27.531780Z"
    },
    "tags": []
   },
   "outputs": [],
   "source": [
    "# Criando uma coluna agrupando todos os registros em um mes ano para o final do mes para groupby\n",
    "df_trafego['MES_ANO_f'] = pd.to_datetime(df_trafego['mes_ano'], format='%m/%Y')\n",
    "df_trafego['MES_ANO_f'] = df_trafego['MES_ANO_f'].dt.to_period('M').dt.to_timestamp('M').dt.date"
   ]
  },
  {
   "cell_type": "code",
   "execution_count": 75,
   "id": "7293e28f-ae40-4148-8802-62b6ac304a35",
   "metadata": {
    "execution": {
     "iopub.execute_input": "2024-08-27T21:59:29.598562Z",
     "iopub.status.busy": "2024-08-27T21:59:29.597659Z",
     "iopub.status.idle": "2024-08-27T21:59:31.881834Z",
     "shell.execute_reply": "2024-08-27T21:59:31.880142Z",
     "shell.execute_reply.started": "2024-08-27T21:59:29.598516Z"
    },
    "tags": []
   },
   "outputs": [],
   "source": [
    "dict_veqs_mensal = {}\n",
    "for col in cols_veqs:\n",
    "    dict_veqs_mensal[col] = df_trafego.pivot_table(\n",
    "        index='concessionaria',\n",
    "        columns='MES_ANO_f',\n",
    "        values=col,\n",
    "        aggfunc='sum'\n",
    "        )"
   ]
  },
  {
   "cell_type": "code",
   "execution_count": 76,
   "id": "ea855907-e829-4505-bdcb-1110f748c731",
   "metadata": {
    "execution": {
     "iopub.execute_input": "2024-08-27T21:59:31.884739Z",
     "iopub.status.busy": "2024-08-27T21:59:31.884157Z",
     "iopub.status.idle": "2024-08-27T21:59:31.963559Z",
     "shell.execute_reply": "2024-08-27T21:59:31.962280Z",
     "shell.execute_reply.started": "2024-08-27T21:59:31.884673Z"
    },
    "tags": []
   },
   "outputs": [
    {
     "data": {
      "text/html": [
       "<div>\n",
       "<style scoped>\n",
       "    .dataframe tbody tr th:only-of-type {\n",
       "        vertical-align: middle;\n",
       "    }\n",
       "\n",
       "    .dataframe tbody tr th {\n",
       "        vertical-align: top;\n",
       "    }\n",
       "\n",
       "    .dataframe thead th {\n",
       "        text-align: right;\n",
       "    }\n",
       "</style>\n",
       "<table border=\"1\" class=\"dataframe\">\n",
       "  <thead>\n",
       "    <tr style=\"text-align: right;\">\n",
       "      <th>MES_ANO_f</th>\n",
       "      <th>2010-01-31</th>\n",
       "      <th>2010-02-28</th>\n",
       "      <th>2010-03-31</th>\n",
       "      <th>2010-04-30</th>\n",
       "      <th>2010-05-31</th>\n",
       "      <th>2010-06-30</th>\n",
       "      <th>2010-07-31</th>\n",
       "      <th>2010-08-31</th>\n",
       "      <th>2010-09-30</th>\n",
       "      <th>2010-10-31</th>\n",
       "      <th>...</th>\n",
       "      <th>2023-09-30</th>\n",
       "      <th>2023-10-31</th>\n",
       "      <th>2023-11-30</th>\n",
       "      <th>2023-12-31</th>\n",
       "      <th>2024-01-31</th>\n",
       "      <th>2024-02-29</th>\n",
       "      <th>2024-03-31</th>\n",
       "      <th>2024-04-30</th>\n",
       "      <th>2024-05-31</th>\n",
       "      <th>2024-06-30</th>\n",
       "    </tr>\n",
       "    <tr>\n",
       "      <th>concessionaria</th>\n",
       "      <th></th>\n",
       "      <th></th>\n",
       "      <th></th>\n",
       "      <th></th>\n",
       "      <th></th>\n",
       "      <th></th>\n",
       "      <th></th>\n",
       "      <th></th>\n",
       "      <th></th>\n",
       "      <th></th>\n",
       "      <th></th>\n",
       "      <th></th>\n",
       "      <th></th>\n",
       "      <th></th>\n",
       "      <th></th>\n",
       "      <th></th>\n",
       "      <th></th>\n",
       "      <th></th>\n",
       "      <th></th>\n",
       "      <th></th>\n",
       "      <th></th>\n",
       "    </tr>\n",
       "  </thead>\n",
       "  <tbody>\n",
       "    <tr>\n",
       "      <th>AUTOPISTA FERNÃO DIAS</th>\n",
       "      <td>8378489.0</td>\n",
       "      <td>7597815.5</td>\n",
       "      <td>8464339.0</td>\n",
       "      <td>8507557.5</td>\n",
       "      <td>9119625.5</td>\n",
       "      <td>8945909.5</td>\n",
       "      <td>9831941.0</td>\n",
       "      <td>9534627.5</td>\n",
       "      <td>11259964.0</td>\n",
       "      <td>12443127.0</td>\n",
       "      <td>...</td>\n",
       "      <td>14026920.00</td>\n",
       "      <td>14471788.50</td>\n",
       "      <td>14244332.00</td>\n",
       "      <td>14903341.00</td>\n",
       "      <td>12264573.0</td>\n",
       "      <td>NaN</td>\n",
       "      <td>NaN</td>\n",
       "      <td>NaN</td>\n",
       "      <td>NaN</td>\n",
       "      <td>NaN</td>\n",
       "    </tr>\n",
       "    <tr>\n",
       "      <th>AUTOPISTA FLUMINENSE</th>\n",
       "      <td>3624722.0</td>\n",
       "      <td>3291562.5</td>\n",
       "      <td>3352859.5</td>\n",
       "      <td>3112184.5</td>\n",
       "      <td>3368807.5</td>\n",
       "      <td>3241332.5</td>\n",
       "      <td>3533522.5</td>\n",
       "      <td>3543010.5</td>\n",
       "      <td>3529144.5</td>\n",
       "      <td>3617006.5</td>\n",
       "      <td>...</td>\n",
       "      <td>3846118.50</td>\n",
       "      <td>3971101.50</td>\n",
       "      <td>4001603.50</td>\n",
       "      <td>4235383.00</td>\n",
       "      <td>4195316.5</td>\n",
       "      <td>3780432.5</td>\n",
       "      <td>1451661.0</td>\n",
       "      <td>43079.5</td>\n",
       "      <td>NaN</td>\n",
       "      <td>NaN</td>\n",
       "    </tr>\n",
       "    <tr>\n",
       "      <th>AUTOPISTA LITORAL SUL</th>\n",
       "      <td>9715122.5</td>\n",
       "      <td>8449151.0</td>\n",
       "      <td>8635409.0</td>\n",
       "      <td>8207830.5</td>\n",
       "      <td>8408850.0</td>\n",
       "      <td>8159287.0</td>\n",
       "      <td>8963336.5</td>\n",
       "      <td>8979786.0</td>\n",
       "      <td>9152392.5</td>\n",
       "      <td>9477581.5</td>\n",
       "      <td>...</td>\n",
       "      <td>12418718.50</td>\n",
       "      <td>12311317.00</td>\n",
       "      <td>12892038.00</td>\n",
       "      <td>13552705.50</td>\n",
       "      <td>6103640.5</td>\n",
       "      <td>13317610.0</td>\n",
       "      <td>13921360.0</td>\n",
       "      <td>12593523.0</td>\n",
       "      <td>NaN</td>\n",
       "      <td>NaN</td>\n",
       "    </tr>\n",
       "    <tr>\n",
       "      <th>AUTOPISTA PLANALTO SUL</th>\n",
       "      <td>1990969.0</td>\n",
       "      <td>1967207.0</td>\n",
       "      <td>2199601.5</td>\n",
       "      <td>2154696.0</td>\n",
       "      <td>2267816.0</td>\n",
       "      <td>2108400.5</td>\n",
       "      <td>2214808.5</td>\n",
       "      <td>2197724.5</td>\n",
       "      <td>2147746.5</td>\n",
       "      <td>2221816.5</td>\n",
       "      <td>...</td>\n",
       "      <td>2549115.00</td>\n",
       "      <td>3047892.00</td>\n",
       "      <td>2833235.00</td>\n",
       "      <td>2775849.00</td>\n",
       "      <td>2477717.0</td>\n",
       "      <td>2958571.0</td>\n",
       "      <td>3142100.5</td>\n",
       "      <td>3187702.5</td>\n",
       "      <td>NaN</td>\n",
       "      <td>NaN</td>\n",
       "    </tr>\n",
       "    <tr>\n",
       "      <th>AUTOPISTA REGIS BITTENCOURT</th>\n",
       "      <td>10233460.5</td>\n",
       "      <td>9255794.5</td>\n",
       "      <td>11202293.0</td>\n",
       "      <td>10561292.5</td>\n",
       "      <td>11113305.0</td>\n",
       "      <td>10625262.0</td>\n",
       "      <td>11367074.5</td>\n",
       "      <td>11401061.5</td>\n",
       "      <td>11344991.5</td>\n",
       "      <td>11962673.0</td>\n",
       "      <td>...</td>\n",
       "      <td>13163838.00</td>\n",
       "      <td>13572890.00</td>\n",
       "      <td>13602677.50</td>\n",
       "      <td>13672725.50</td>\n",
       "      <td>13940858.5</td>\n",
       "      <td>7297.0</td>\n",
       "      <td>NaN</td>\n",
       "      <td>NaN</td>\n",
       "      <td>NaN</td>\n",
       "      <td>NaN</td>\n",
       "    </tr>\n",
       "    <tr>\n",
       "      <th>CONCEBRA</th>\n",
       "      <td>NaN</td>\n",
       "      <td>NaN</td>\n",
       "      <td>NaN</td>\n",
       "      <td>NaN</td>\n",
       "      <td>NaN</td>\n",
       "      <td>NaN</td>\n",
       "      <td>NaN</td>\n",
       "      <td>NaN</td>\n",
       "      <td>NaN</td>\n",
       "      <td>NaN</td>\n",
       "      <td>...</td>\n",
       "      <td>8089644.50</td>\n",
       "      <td>8233267.50</td>\n",
       "      <td>7792289.00</td>\n",
       "      <td>7811751.00</td>\n",
       "      <td>7704918.5</td>\n",
       "      <td>7184002.5</td>\n",
       "      <td>7718145.5</td>\n",
       "      <td>7561248.5</td>\n",
       "      <td>7926717.5</td>\n",
       "      <td>7937696.5</td>\n",
       "    </tr>\n",
       "    <tr>\n",
       "      <th>CONCEPA</th>\n",
       "      <td>3152009.0</td>\n",
       "      <td>2866194.5</td>\n",
       "      <td>2321640.5</td>\n",
       "      <td>2213994.5</td>\n",
       "      <td>2152870.5</td>\n",
       "      <td>2053017.0</td>\n",
       "      <td>2212338.5</td>\n",
       "      <td>2222965.5</td>\n",
       "      <td>2356904.0</td>\n",
       "      <td>2499998.0</td>\n",
       "      <td>...</td>\n",
       "      <td>NaN</td>\n",
       "      <td>NaN</td>\n",
       "      <td>NaN</td>\n",
       "      <td>NaN</td>\n",
       "      <td>NaN</td>\n",
       "      <td>NaN</td>\n",
       "      <td>NaN</td>\n",
       "      <td>NaN</td>\n",
       "      <td>NaN</td>\n",
       "      <td>NaN</td>\n",
       "    </tr>\n",
       "    <tr>\n",
       "      <th>CONCER</th>\n",
       "      <td>2139548.5</td>\n",
       "      <td>1843578.5</td>\n",
       "      <td>2017238.5</td>\n",
       "      <td>1959747.0</td>\n",
       "      <td>2016398.0</td>\n",
       "      <td>1979750.5</td>\n",
       "      <td>2203094.5</td>\n",
       "      <td>2137830.5</td>\n",
       "      <td>2102409.5</td>\n",
       "      <td>2196490.5</td>\n",
       "      <td>...</td>\n",
       "      <td>2046140.50</td>\n",
       "      <td>2148980.00</td>\n",
       "      <td>2114233.00</td>\n",
       "      <td>2255075.50</td>\n",
       "      <td>1769030.0</td>\n",
       "      <td>1905405.0</td>\n",
       "      <td>1978087.5</td>\n",
       "      <td>2006069.5</td>\n",
       "      <td>2083291.5</td>\n",
       "      <td>577255.0</td>\n",
       "    </tr>\n",
       "    <tr>\n",
       "      <th>CRO</th>\n",
       "      <td>NaN</td>\n",
       "      <td>NaN</td>\n",
       "      <td>NaN</td>\n",
       "      <td>NaN</td>\n",
       "      <td>NaN</td>\n",
       "      <td>NaN</td>\n",
       "      <td>NaN</td>\n",
       "      <td>NaN</td>\n",
       "      <td>NaN</td>\n",
       "      <td>NaN</td>\n",
       "      <td>...</td>\n",
       "      <td>10454277.50</td>\n",
       "      <td>9905309.50</td>\n",
       "      <td>9858427.50</td>\n",
       "      <td>9427826.00</td>\n",
       "      <td>7109570.0</td>\n",
       "      <td>6889198.0</td>\n",
       "      <td>7646984.5</td>\n",
       "      <td>8702620.0</td>\n",
       "      <td>9509593.0</td>\n",
       "      <td>720864.0</td>\n",
       "    </tr>\n",
       "    <tr>\n",
       "      <th>CRT</th>\n",
       "      <td>1159453.0</td>\n",
       "      <td>1078632.5</td>\n",
       "      <td>1131530.0</td>\n",
       "      <td>1059164.5</td>\n",
       "      <td>1129717.5</td>\n",
       "      <td>1088403.5</td>\n",
       "      <td>1191807.0</td>\n",
       "      <td>1184982.0</td>\n",
       "      <td>1181710.0</td>\n",
       "      <td>1211938.0</td>\n",
       "      <td>...</td>\n",
       "      <td>NaN</td>\n",
       "      <td>NaN</td>\n",
       "      <td>NaN</td>\n",
       "      <td>NaN</td>\n",
       "      <td>NaN</td>\n",
       "      <td>NaN</td>\n",
       "      <td>NaN</td>\n",
       "      <td>NaN</td>\n",
       "      <td>NaN</td>\n",
       "      <td>NaN</td>\n",
       "    </tr>\n",
       "    <tr>\n",
       "      <th>ECO050</th>\n",
       "      <td>NaN</td>\n",
       "      <td>NaN</td>\n",
       "      <td>NaN</td>\n",
       "      <td>NaN</td>\n",
       "      <td>NaN</td>\n",
       "      <td>NaN</td>\n",
       "      <td>NaN</td>\n",
       "      <td>NaN</td>\n",
       "      <td>NaN</td>\n",
       "      <td>NaN</td>\n",
       "      <td>...</td>\n",
       "      <td>4960199.50</td>\n",
       "      <td>5069032.50</td>\n",
       "      <td>4771515.00</td>\n",
       "      <td>4727072.00</td>\n",
       "      <td>3761844.0</td>\n",
       "      <td>3790023.0</td>\n",
       "      <td>4749159.0</td>\n",
       "      <td>4993895.0</td>\n",
       "      <td>4979468.0</td>\n",
       "      <td>275755.5</td>\n",
       "    </tr>\n",
       "    <tr>\n",
       "      <th>ECO101 CONCESSIONARIA DE RODOVIAS S/A</th>\n",
       "      <td>NaN</td>\n",
       "      <td>NaN</td>\n",
       "      <td>NaN</td>\n",
       "      <td>NaN</td>\n",
       "      <td>NaN</td>\n",
       "      <td>NaN</td>\n",
       "      <td>NaN</td>\n",
       "      <td>NaN</td>\n",
       "      <td>NaN</td>\n",
       "      <td>NaN</td>\n",
       "      <td>...</td>\n",
       "      <td>4793536.00</td>\n",
       "      <td>5025451.50</td>\n",
       "      <td>4945374.00</td>\n",
       "      <td>5179182.00</td>\n",
       "      <td>4608185.0</td>\n",
       "      <td>4173837.5</td>\n",
       "      <td>4932044.0</td>\n",
       "      <td>5000963.0</td>\n",
       "      <td>5070236.5</td>\n",
       "      <td>254064.0</td>\n",
       "    </tr>\n",
       "    <tr>\n",
       "      <th>ECOPONTE</th>\n",
       "      <td>NaN</td>\n",
       "      <td>NaN</td>\n",
       "      <td>NaN</td>\n",
       "      <td>NaN</td>\n",
       "      <td>NaN</td>\n",
       "      <td>NaN</td>\n",
       "      <td>NaN</td>\n",
       "      <td>NaN</td>\n",
       "      <td>NaN</td>\n",
       "      <td>NaN</td>\n",
       "      <td>...</td>\n",
       "      <td>2391106.00</td>\n",
       "      <td>2404477.00</td>\n",
       "      <td>2362397.50</td>\n",
       "      <td>2543922.50</td>\n",
       "      <td>1978234.5</td>\n",
       "      <td>1889072.5</td>\n",
       "      <td>2239082.0</td>\n",
       "      <td>2374114.5</td>\n",
       "      <td>2424761.5</td>\n",
       "      <td>126680.5</td>\n",
       "    </tr>\n",
       "    <tr>\n",
       "      <th>ECORIOMINAS</th>\n",
       "      <td>NaN</td>\n",
       "      <td>NaN</td>\n",
       "      <td>NaN</td>\n",
       "      <td>NaN</td>\n",
       "      <td>NaN</td>\n",
       "      <td>NaN</td>\n",
       "      <td>NaN</td>\n",
       "      <td>NaN</td>\n",
       "      <td>NaN</td>\n",
       "      <td>NaN</td>\n",
       "      <td>...</td>\n",
       "      <td>3304819.50</td>\n",
       "      <td>3754654.00</td>\n",
       "      <td>5750825.50</td>\n",
       "      <td>6301959.50</td>\n",
       "      <td>5779959.0</td>\n",
       "      <td>5768046.0</td>\n",
       "      <td>6002037.5</td>\n",
       "      <td>5921556.5</td>\n",
       "      <td>5808795.5</td>\n",
       "      <td>325689.0</td>\n",
       "    </tr>\n",
       "    <tr>\n",
       "      <th>ECOSUL</th>\n",
       "      <td>1398141.0</td>\n",
       "      <td>1304833.0</td>\n",
       "      <td>1632545.0</td>\n",
       "      <td>2073598.5</td>\n",
       "      <td>1794053.5</td>\n",
       "      <td>1598401.5</td>\n",
       "      <td>1655468.0</td>\n",
       "      <td>1610623.0</td>\n",
       "      <td>1572042.0</td>\n",
       "      <td>1644938.5</td>\n",
       "      <td>...</td>\n",
       "      <td>2367682.00</td>\n",
       "      <td>2811956.00</td>\n",
       "      <td>2333213.50</td>\n",
       "      <td>2280308.00</td>\n",
       "      <td>2137192.5</td>\n",
       "      <td>2048178.5</td>\n",
       "      <td>2394956.5</td>\n",
       "      <td>2899339.5</td>\n",
       "      <td>1808033.0</td>\n",
       "      <td>77640.0</td>\n",
       "    </tr>\n",
       "    <tr>\n",
       "      <th>ECOVIAS DO ARAGUAIA</th>\n",
       "      <td>NaN</td>\n",
       "      <td>NaN</td>\n",
       "      <td>NaN</td>\n",
       "      <td>NaN</td>\n",
       "      <td>NaN</td>\n",
       "      <td>NaN</td>\n",
       "      <td>NaN</td>\n",
       "      <td>NaN</td>\n",
       "      <td>NaN</td>\n",
       "      <td>NaN</td>\n",
       "      <td>...</td>\n",
       "      <td>4321673.00</td>\n",
       "      <td>4432469.00</td>\n",
       "      <td>4243775.00</td>\n",
       "      <td>4407791.50</td>\n",
       "      <td>3357762.0</td>\n",
       "      <td>3177496.5</td>\n",
       "      <td>3989091.5</td>\n",
       "      <td>4219651.0</td>\n",
       "      <td>4273344.0</td>\n",
       "      <td>279385.5</td>\n",
       "    </tr>\n",
       "    <tr>\n",
       "      <th>ECOVIAS DO CERRADO</th>\n",
       "      <td>NaN</td>\n",
       "      <td>NaN</td>\n",
       "      <td>NaN</td>\n",
       "      <td>NaN</td>\n",
       "      <td>NaN</td>\n",
       "      <td>NaN</td>\n",
       "      <td>NaN</td>\n",
       "      <td>NaN</td>\n",
       "      <td>NaN</td>\n",
       "      <td>NaN</td>\n",
       "      <td>...</td>\n",
       "      <td>3198736.50</td>\n",
       "      <td>3400483.50</td>\n",
       "      <td>3297540.50</td>\n",
       "      <td>3048028.00</td>\n",
       "      <td>2355376.0</td>\n",
       "      <td>2639868.5</td>\n",
       "      <td>2898002.5</td>\n",
       "      <td>3030954.5</td>\n",
       "      <td>3154702.0</td>\n",
       "      <td>180759.5</td>\n",
       "    </tr>\n",
       "    <tr>\n",
       "      <th>HOLDING DO SISTEMA RODOVIARIO RIO - SAO PAULO S.A.</th>\n",
       "      <td>NaN</td>\n",
       "      <td>NaN</td>\n",
       "      <td>NaN</td>\n",
       "      <td>NaN</td>\n",
       "      <td>NaN</td>\n",
       "      <td>NaN</td>\n",
       "      <td>NaN</td>\n",
       "      <td>NaN</td>\n",
       "      <td>NaN</td>\n",
       "      <td>NaN</td>\n",
       "      <td>...</td>\n",
       "      <td>NaN</td>\n",
       "      <td>NaN</td>\n",
       "      <td>NaN</td>\n",
       "      <td>NaN</td>\n",
       "      <td>11015556.5</td>\n",
       "      <td>8919299.5</td>\n",
       "      <td>12466393.0</td>\n",
       "      <td>12451768.5</td>\n",
       "      <td>13007679.0</td>\n",
       "      <td>1258914.5</td>\n",
       "    </tr>\n",
       "    <tr>\n",
       "      <th>MSVIA</th>\n",
       "      <td>NaN</td>\n",
       "      <td>NaN</td>\n",
       "      <td>NaN</td>\n",
       "      <td>NaN</td>\n",
       "      <td>NaN</td>\n",
       "      <td>NaN</td>\n",
       "      <td>NaN</td>\n",
       "      <td>NaN</td>\n",
       "      <td>NaN</td>\n",
       "      <td>NaN</td>\n",
       "      <td>...</td>\n",
       "      <td>4954213.50</td>\n",
       "      <td>5158877.50</td>\n",
       "      <td>4976464.00</td>\n",
       "      <td>4919509.50</td>\n",
       "      <td>4844541.5</td>\n",
       "      <td>4530490.5</td>\n",
       "      <td>4431578.0</td>\n",
       "      <td>1013207.5</td>\n",
       "      <td>2521.0</td>\n",
       "      <td>NaN</td>\n",
       "    </tr>\n",
       "    <tr>\n",
       "      <th>NOVADUTRA</th>\n",
       "      <td>11022037.5</td>\n",
       "      <td>9822182.0</td>\n",
       "      <td>11982079.5</td>\n",
       "      <td>13478933.5</td>\n",
       "      <td>14463458.5</td>\n",
       "      <td>13511723.5</td>\n",
       "      <td>14620474.0</td>\n",
       "      <td>14612311.5</td>\n",
       "      <td>14328769.5</td>\n",
       "      <td>14645297.0</td>\n",
       "      <td>...</td>\n",
       "      <td>NaN</td>\n",
       "      <td>NaN</td>\n",
       "      <td>NaN</td>\n",
       "      <td>NaN</td>\n",
       "      <td>NaN</td>\n",
       "      <td>NaN</td>\n",
       "      <td>NaN</td>\n",
       "      <td>NaN</td>\n",
       "      <td>NaN</td>\n",
       "      <td>NaN</td>\n",
       "    </tr>\n",
       "    <tr>\n",
       "      <th>RIOSP</th>\n",
       "      <td>NaN</td>\n",
       "      <td>NaN</td>\n",
       "      <td>NaN</td>\n",
       "      <td>NaN</td>\n",
       "      <td>NaN</td>\n",
       "      <td>NaN</td>\n",
       "      <td>NaN</td>\n",
       "      <td>NaN</td>\n",
       "      <td>NaN</td>\n",
       "      <td>NaN</td>\n",
       "      <td>...</td>\n",
       "      <td>14328092.85</td>\n",
       "      <td>14548253.59</td>\n",
       "      <td>14413101.28</td>\n",
       "      <td>14881727.25</td>\n",
       "      <td>NaN</td>\n",
       "      <td>NaN</td>\n",
       "      <td>NaN</td>\n",
       "      <td>NaN</td>\n",
       "      <td>NaN</td>\n",
       "      <td>NaN</td>\n",
       "    </tr>\n",
       "    <tr>\n",
       "      <th>RODOVIA DO AÇO</th>\n",
       "      <td>1372921.5</td>\n",
       "      <td>1248881.5</td>\n",
       "      <td>1483330.5</td>\n",
       "      <td>1432191.5</td>\n",
       "      <td>1506326.5</td>\n",
       "      <td>1389509.5</td>\n",
       "      <td>1483650.0</td>\n",
       "      <td>1436728.5</td>\n",
       "      <td>1377475.0</td>\n",
       "      <td>1413497.0</td>\n",
       "      <td>...</td>\n",
       "      <td>1427950.00</td>\n",
       "      <td>1492511.50</td>\n",
       "      <td>1434763.00</td>\n",
       "      <td>1470559.00</td>\n",
       "      <td>1409039.5</td>\n",
       "      <td>1161823.5</td>\n",
       "      <td>1365482.5</td>\n",
       "      <td>1509469.5</td>\n",
       "      <td>154247.0</td>\n",
       "      <td>NaN</td>\n",
       "    </tr>\n",
       "    <tr>\n",
       "      <th>TRANSBRASILIANA</th>\n",
       "      <td>1678462.0</td>\n",
       "      <td>1560745.0</td>\n",
       "      <td>1820650.0</td>\n",
       "      <td>1740557.5</td>\n",
       "      <td>1883941.0</td>\n",
       "      <td>1783846.5</td>\n",
       "      <td>1939807.0</td>\n",
       "      <td>1978186.5</td>\n",
       "      <td>1963418.5</td>\n",
       "      <td>2028492.5</td>\n",
       "      <td>...</td>\n",
       "      <td>2064173.00</td>\n",
       "      <td>2077350.00</td>\n",
       "      <td>1940056.50</td>\n",
       "      <td>1921893.50</td>\n",
       "      <td>776319.0</td>\n",
       "      <td>731377.0</td>\n",
       "      <td>773155.5</td>\n",
       "      <td>195385.0</td>\n",
       "      <td>NaN</td>\n",
       "      <td>NaN</td>\n",
       "    </tr>\n",
       "    <tr>\n",
       "      <th>VIA 040</th>\n",
       "      <td>NaN</td>\n",
       "      <td>NaN</td>\n",
       "      <td>NaN</td>\n",
       "      <td>NaN</td>\n",
       "      <td>NaN</td>\n",
       "      <td>NaN</td>\n",
       "      <td>NaN</td>\n",
       "      <td>NaN</td>\n",
       "      <td>NaN</td>\n",
       "      <td>NaN</td>\n",
       "      <td>...</td>\n",
       "      <td>7051924.00</td>\n",
       "      <td>7306300.50</td>\n",
       "      <td>6832812.00</td>\n",
       "      <td>6990447.00</td>\n",
       "      <td>5444596.5</td>\n",
       "      <td>5429695.0</td>\n",
       "      <td>6064025.5</td>\n",
       "      <td>6143936.5</td>\n",
       "      <td>817901.5</td>\n",
       "      <td>NaN</td>\n",
       "    </tr>\n",
       "    <tr>\n",
       "      <th>VIA BAHIA</th>\n",
       "      <td>NaN</td>\n",
       "      <td>NaN</td>\n",
       "      <td>NaN</td>\n",
       "      <td>NaN</td>\n",
       "      <td>NaN</td>\n",
       "      <td>NaN</td>\n",
       "      <td>NaN</td>\n",
       "      <td>NaN</td>\n",
       "      <td>NaN</td>\n",
       "      <td>NaN</td>\n",
       "      <td>...</td>\n",
       "      <td>7169900.50</td>\n",
       "      <td>5817835.00</td>\n",
       "      <td>7407971.00</td>\n",
       "      <td>7915952.00</td>\n",
       "      <td>7956443.0</td>\n",
       "      <td>6048328.5</td>\n",
       "      <td>7955644.5</td>\n",
       "      <td>7831107.5</td>\n",
       "      <td>8134240.5</td>\n",
       "      <td>491237.0</td>\n",
       "    </tr>\n",
       "    <tr>\n",
       "      <th>VIA BRASIL</th>\n",
       "      <td>NaN</td>\n",
       "      <td>NaN</td>\n",
       "      <td>NaN</td>\n",
       "      <td>NaN</td>\n",
       "      <td>NaN</td>\n",
       "      <td>NaN</td>\n",
       "      <td>NaN</td>\n",
       "      <td>NaN</td>\n",
       "      <td>NaN</td>\n",
       "      <td>NaN</td>\n",
       "      <td>...</td>\n",
       "      <td>2023266.50</td>\n",
       "      <td>1414514.00</td>\n",
       "      <td>1064515.50</td>\n",
       "      <td>1420221.50</td>\n",
       "      <td>NaN</td>\n",
       "      <td>NaN</td>\n",
       "      <td>NaN</td>\n",
       "      <td>NaN</td>\n",
       "      <td>NaN</td>\n",
       "      <td>NaN</td>\n",
       "    </tr>\n",
       "    <tr>\n",
       "      <th>VIA COSTEIRA</th>\n",
       "      <td>NaN</td>\n",
       "      <td>NaN</td>\n",
       "      <td>NaN</td>\n",
       "      <td>NaN</td>\n",
       "      <td>NaN</td>\n",
       "      <td>NaN</td>\n",
       "      <td>NaN</td>\n",
       "      <td>NaN</td>\n",
       "      <td>NaN</td>\n",
       "      <td>NaN</td>\n",
       "      <td>...</td>\n",
       "      <td>6598515.00</td>\n",
       "      <td>6756470.50</td>\n",
       "      <td>6875179.00</td>\n",
       "      <td>7421631.00</td>\n",
       "      <td>3637271.0</td>\n",
       "      <td>3517.0</td>\n",
       "      <td>4312798.5</td>\n",
       "      <td>74268.5</td>\n",
       "      <td>NaN</td>\n",
       "      <td>NaN</td>\n",
       "    </tr>\n",
       "    <tr>\n",
       "      <th>VIA SUL</th>\n",
       "      <td>NaN</td>\n",
       "      <td>NaN</td>\n",
       "      <td>NaN</td>\n",
       "      <td>NaN</td>\n",
       "      <td>NaN</td>\n",
       "      <td>NaN</td>\n",
       "      <td>NaN</td>\n",
       "      <td>NaN</td>\n",
       "      <td>NaN</td>\n",
       "      <td>NaN</td>\n",
       "      <td>...</td>\n",
       "      <td>7316034.00</td>\n",
       "      <td>8011930.50</td>\n",
       "      <td>7926526.00</td>\n",
       "      <td>9099960.00</td>\n",
       "      <td>4754087.5</td>\n",
       "      <td>9580848.0</td>\n",
       "      <td>615706.0</td>\n",
       "      <td>802399.5</td>\n",
       "      <td>328860.5</td>\n",
       "      <td>NaN</td>\n",
       "    </tr>\n",
       "  </tbody>\n",
       "</table>\n",
       "<p>28 rows × 174 columns</p>\n",
       "</div>"
      ],
      "text/plain": [
       "MES_ANO_f                                           2010-01-31  2010-02-28  \\\n",
       "concessionaria                                                               \n",
       "AUTOPISTA FERNÃO DIAS                                8378489.0   7597815.5   \n",
       "AUTOPISTA FLUMINENSE                                 3624722.0   3291562.5   \n",
       "AUTOPISTA LITORAL SUL                                9715122.5   8449151.0   \n",
       "AUTOPISTA PLANALTO SUL                               1990969.0   1967207.0   \n",
       "AUTOPISTA REGIS BITTENCOURT                         10233460.5   9255794.5   \n",
       "CONCEBRA                                                   NaN         NaN   \n",
       "CONCEPA                                              3152009.0   2866194.5   \n",
       "CONCER                                               2139548.5   1843578.5   \n",
       "CRO                                                        NaN         NaN   \n",
       "CRT                                                  1159453.0   1078632.5   \n",
       "ECO050                                                     NaN         NaN   \n",
       "ECO101 CONCESSIONARIA DE RODOVIAS S/A                      NaN         NaN   \n",
       "ECOPONTE                                                   NaN         NaN   \n",
       "ECORIOMINAS                                                NaN         NaN   \n",
       "ECOSUL                                               1398141.0   1304833.0   \n",
       "ECOVIAS DO ARAGUAIA                                        NaN         NaN   \n",
       "ECOVIAS DO CERRADO                                         NaN         NaN   \n",
       "HOLDING DO SISTEMA RODOVIARIO RIO - SAO PAULO S.A.         NaN         NaN   \n",
       "MSVIA                                                      NaN         NaN   \n",
       "NOVADUTRA                                           11022037.5   9822182.0   \n",
       "RIOSP                                                      NaN         NaN   \n",
       "RODOVIA DO AÇO                                       1372921.5   1248881.5   \n",
       "TRANSBRASILIANA                                      1678462.0   1560745.0   \n",
       "VIA 040                                                    NaN         NaN   \n",
       "VIA BAHIA                                                  NaN         NaN   \n",
       "VIA BRASIL                                                 NaN         NaN   \n",
       "VIA COSTEIRA                                               NaN         NaN   \n",
       "VIA SUL                                                    NaN         NaN   \n",
       "\n",
       "MES_ANO_f                                           2010-03-31  2010-04-30  \\\n",
       "concessionaria                                                               \n",
       "AUTOPISTA FERNÃO DIAS                                8464339.0   8507557.5   \n",
       "AUTOPISTA FLUMINENSE                                 3352859.5   3112184.5   \n",
       "AUTOPISTA LITORAL SUL                                8635409.0   8207830.5   \n",
       "AUTOPISTA PLANALTO SUL                               2199601.5   2154696.0   \n",
       "AUTOPISTA REGIS BITTENCOURT                         11202293.0  10561292.5   \n",
       "CONCEBRA                                                   NaN         NaN   \n",
       "CONCEPA                                              2321640.5   2213994.5   \n",
       "CONCER                                               2017238.5   1959747.0   \n",
       "CRO                                                        NaN         NaN   \n",
       "CRT                                                  1131530.0   1059164.5   \n",
       "ECO050                                                     NaN         NaN   \n",
       "ECO101 CONCESSIONARIA DE RODOVIAS S/A                      NaN         NaN   \n",
       "ECOPONTE                                                   NaN         NaN   \n",
       "ECORIOMINAS                                                NaN         NaN   \n",
       "ECOSUL                                               1632545.0   2073598.5   \n",
       "ECOVIAS DO ARAGUAIA                                        NaN         NaN   \n",
       "ECOVIAS DO CERRADO                                         NaN         NaN   \n",
       "HOLDING DO SISTEMA RODOVIARIO RIO - SAO PAULO S.A.         NaN         NaN   \n",
       "MSVIA                                                      NaN         NaN   \n",
       "NOVADUTRA                                           11982079.5  13478933.5   \n",
       "RIOSP                                                      NaN         NaN   \n",
       "RODOVIA DO AÇO                                       1483330.5   1432191.5   \n",
       "TRANSBRASILIANA                                      1820650.0   1740557.5   \n",
       "VIA 040                                                    NaN         NaN   \n",
       "VIA BAHIA                                                  NaN         NaN   \n",
       "VIA BRASIL                                                 NaN         NaN   \n",
       "VIA COSTEIRA                                               NaN         NaN   \n",
       "VIA SUL                                                    NaN         NaN   \n",
       "\n",
       "MES_ANO_f                                           2010-05-31  2010-06-30  \\\n",
       "concessionaria                                                               \n",
       "AUTOPISTA FERNÃO DIAS                                9119625.5   8945909.5   \n",
       "AUTOPISTA FLUMINENSE                                 3368807.5   3241332.5   \n",
       "AUTOPISTA LITORAL SUL                                8408850.0   8159287.0   \n",
       "AUTOPISTA PLANALTO SUL                               2267816.0   2108400.5   \n",
       "AUTOPISTA REGIS BITTENCOURT                         11113305.0  10625262.0   \n",
       "CONCEBRA                                                   NaN         NaN   \n",
       "CONCEPA                                              2152870.5   2053017.0   \n",
       "CONCER                                               2016398.0   1979750.5   \n",
       "CRO                                                        NaN         NaN   \n",
       "CRT                                                  1129717.5   1088403.5   \n",
       "ECO050                                                     NaN         NaN   \n",
       "ECO101 CONCESSIONARIA DE RODOVIAS S/A                      NaN         NaN   \n",
       "ECOPONTE                                                   NaN         NaN   \n",
       "ECORIOMINAS                                                NaN         NaN   \n",
       "ECOSUL                                               1794053.5   1598401.5   \n",
       "ECOVIAS DO ARAGUAIA                                        NaN         NaN   \n",
       "ECOVIAS DO CERRADO                                         NaN         NaN   \n",
       "HOLDING DO SISTEMA RODOVIARIO RIO - SAO PAULO S.A.         NaN         NaN   \n",
       "MSVIA                                                      NaN         NaN   \n",
       "NOVADUTRA                                           14463458.5  13511723.5   \n",
       "RIOSP                                                      NaN         NaN   \n",
       "RODOVIA DO AÇO                                       1506326.5   1389509.5   \n",
       "TRANSBRASILIANA                                      1883941.0   1783846.5   \n",
       "VIA 040                                                    NaN         NaN   \n",
       "VIA BAHIA                                                  NaN         NaN   \n",
       "VIA BRASIL                                                 NaN         NaN   \n",
       "VIA COSTEIRA                                               NaN         NaN   \n",
       "VIA SUL                                                    NaN         NaN   \n",
       "\n",
       "MES_ANO_f                                           2010-07-31  2010-08-31  \\\n",
       "concessionaria                                                               \n",
       "AUTOPISTA FERNÃO DIAS                                9831941.0   9534627.5   \n",
       "AUTOPISTA FLUMINENSE                                 3533522.5   3543010.5   \n",
       "AUTOPISTA LITORAL SUL                                8963336.5   8979786.0   \n",
       "AUTOPISTA PLANALTO SUL                               2214808.5   2197724.5   \n",
       "AUTOPISTA REGIS BITTENCOURT                         11367074.5  11401061.5   \n",
       "CONCEBRA                                                   NaN         NaN   \n",
       "CONCEPA                                              2212338.5   2222965.5   \n",
       "CONCER                                               2203094.5   2137830.5   \n",
       "CRO                                                        NaN         NaN   \n",
       "CRT                                                  1191807.0   1184982.0   \n",
       "ECO050                                                     NaN         NaN   \n",
       "ECO101 CONCESSIONARIA DE RODOVIAS S/A                      NaN         NaN   \n",
       "ECOPONTE                                                   NaN         NaN   \n",
       "ECORIOMINAS                                                NaN         NaN   \n",
       "ECOSUL                                               1655468.0   1610623.0   \n",
       "ECOVIAS DO ARAGUAIA                                        NaN         NaN   \n",
       "ECOVIAS DO CERRADO                                         NaN         NaN   \n",
       "HOLDING DO SISTEMA RODOVIARIO RIO - SAO PAULO S.A.         NaN         NaN   \n",
       "MSVIA                                                      NaN         NaN   \n",
       "NOVADUTRA                                           14620474.0  14612311.5   \n",
       "RIOSP                                                      NaN         NaN   \n",
       "RODOVIA DO AÇO                                       1483650.0   1436728.5   \n",
       "TRANSBRASILIANA                                      1939807.0   1978186.5   \n",
       "VIA 040                                                    NaN         NaN   \n",
       "VIA BAHIA                                                  NaN         NaN   \n",
       "VIA BRASIL                                                 NaN         NaN   \n",
       "VIA COSTEIRA                                               NaN         NaN   \n",
       "VIA SUL                                                    NaN         NaN   \n",
       "\n",
       "MES_ANO_f                                           2010-09-30  2010-10-31  \\\n",
       "concessionaria                                                               \n",
       "AUTOPISTA FERNÃO DIAS                               11259964.0  12443127.0   \n",
       "AUTOPISTA FLUMINENSE                                 3529144.5   3617006.5   \n",
       "AUTOPISTA LITORAL SUL                                9152392.5   9477581.5   \n",
       "AUTOPISTA PLANALTO SUL                               2147746.5   2221816.5   \n",
       "AUTOPISTA REGIS BITTENCOURT                         11344991.5  11962673.0   \n",
       "CONCEBRA                                                   NaN         NaN   \n",
       "CONCEPA                                              2356904.0   2499998.0   \n",
       "CONCER                                               2102409.5   2196490.5   \n",
       "CRO                                                        NaN         NaN   \n",
       "CRT                                                  1181710.0   1211938.0   \n",
       "ECO050                                                     NaN         NaN   \n",
       "ECO101 CONCESSIONARIA DE RODOVIAS S/A                      NaN         NaN   \n",
       "ECOPONTE                                                   NaN         NaN   \n",
       "ECORIOMINAS                                                NaN         NaN   \n",
       "ECOSUL                                               1572042.0   1644938.5   \n",
       "ECOVIAS DO ARAGUAIA                                        NaN         NaN   \n",
       "ECOVIAS DO CERRADO                                         NaN         NaN   \n",
       "HOLDING DO SISTEMA RODOVIARIO RIO - SAO PAULO S.A.         NaN         NaN   \n",
       "MSVIA                                                      NaN         NaN   \n",
       "NOVADUTRA                                           14328769.5  14645297.0   \n",
       "RIOSP                                                      NaN         NaN   \n",
       "RODOVIA DO AÇO                                       1377475.0   1413497.0   \n",
       "TRANSBRASILIANA                                      1963418.5   2028492.5   \n",
       "VIA 040                                                    NaN         NaN   \n",
       "VIA BAHIA                                                  NaN         NaN   \n",
       "VIA BRASIL                                                 NaN         NaN   \n",
       "VIA COSTEIRA                                               NaN         NaN   \n",
       "VIA SUL                                                    NaN         NaN   \n",
       "\n",
       "MES_ANO_f                                           ...   2023-09-30  \\\n",
       "concessionaria                                      ...                \n",
       "AUTOPISTA FERNÃO DIAS                               ...  14026920.00   \n",
       "AUTOPISTA FLUMINENSE                                ...   3846118.50   \n",
       "AUTOPISTA LITORAL SUL                               ...  12418718.50   \n",
       "AUTOPISTA PLANALTO SUL                              ...   2549115.00   \n",
       "AUTOPISTA REGIS BITTENCOURT                         ...  13163838.00   \n",
       "CONCEBRA                                            ...   8089644.50   \n",
       "CONCEPA                                             ...          NaN   \n",
       "CONCER                                              ...   2046140.50   \n",
       "CRO                                                 ...  10454277.50   \n",
       "CRT                                                 ...          NaN   \n",
       "ECO050                                              ...   4960199.50   \n",
       "ECO101 CONCESSIONARIA DE RODOVIAS S/A               ...   4793536.00   \n",
       "ECOPONTE                                            ...   2391106.00   \n",
       "ECORIOMINAS                                         ...   3304819.50   \n",
       "ECOSUL                                              ...   2367682.00   \n",
       "ECOVIAS DO ARAGUAIA                                 ...   4321673.00   \n",
       "ECOVIAS DO CERRADO                                  ...   3198736.50   \n",
       "HOLDING DO SISTEMA RODOVIARIO RIO - SAO PAULO S.A.  ...          NaN   \n",
       "MSVIA                                               ...   4954213.50   \n",
       "NOVADUTRA                                           ...          NaN   \n",
       "RIOSP                                               ...  14328092.85   \n",
       "RODOVIA DO AÇO                                      ...   1427950.00   \n",
       "TRANSBRASILIANA                                     ...   2064173.00   \n",
       "VIA 040                                             ...   7051924.00   \n",
       "VIA BAHIA                                           ...   7169900.50   \n",
       "VIA BRASIL                                          ...   2023266.50   \n",
       "VIA COSTEIRA                                        ...   6598515.00   \n",
       "VIA SUL                                             ...   7316034.00   \n",
       "\n",
       "MES_ANO_f                                            2023-10-31   2023-11-30  \\\n",
       "concessionaria                                                                 \n",
       "AUTOPISTA FERNÃO DIAS                               14471788.50  14244332.00   \n",
       "AUTOPISTA FLUMINENSE                                 3971101.50   4001603.50   \n",
       "AUTOPISTA LITORAL SUL                               12311317.00  12892038.00   \n",
       "AUTOPISTA PLANALTO SUL                               3047892.00   2833235.00   \n",
       "AUTOPISTA REGIS BITTENCOURT                         13572890.00  13602677.50   \n",
       "CONCEBRA                                             8233267.50   7792289.00   \n",
       "CONCEPA                                                     NaN          NaN   \n",
       "CONCER                                               2148980.00   2114233.00   \n",
       "CRO                                                  9905309.50   9858427.50   \n",
       "CRT                                                         NaN          NaN   \n",
       "ECO050                                               5069032.50   4771515.00   \n",
       "ECO101 CONCESSIONARIA DE RODOVIAS S/A                5025451.50   4945374.00   \n",
       "ECOPONTE                                             2404477.00   2362397.50   \n",
       "ECORIOMINAS                                          3754654.00   5750825.50   \n",
       "ECOSUL                                               2811956.00   2333213.50   \n",
       "ECOVIAS DO ARAGUAIA                                  4432469.00   4243775.00   \n",
       "ECOVIAS DO CERRADO                                   3400483.50   3297540.50   \n",
       "HOLDING DO SISTEMA RODOVIARIO RIO - SAO PAULO S.A.          NaN          NaN   \n",
       "MSVIA                                                5158877.50   4976464.00   \n",
       "NOVADUTRA                                                   NaN          NaN   \n",
       "RIOSP                                               14548253.59  14413101.28   \n",
       "RODOVIA DO AÇO                                       1492511.50   1434763.00   \n",
       "TRANSBRASILIANA                                      2077350.00   1940056.50   \n",
       "VIA 040                                              7306300.50   6832812.00   \n",
       "VIA BAHIA                                            5817835.00   7407971.00   \n",
       "VIA BRASIL                                           1414514.00   1064515.50   \n",
       "VIA COSTEIRA                                         6756470.50   6875179.00   \n",
       "VIA SUL                                              8011930.50   7926526.00   \n",
       "\n",
       "MES_ANO_f                                            2023-12-31  2024-01-31  \\\n",
       "concessionaria                                                                \n",
       "AUTOPISTA FERNÃO DIAS                               14903341.00  12264573.0   \n",
       "AUTOPISTA FLUMINENSE                                 4235383.00   4195316.5   \n",
       "AUTOPISTA LITORAL SUL                               13552705.50   6103640.5   \n",
       "AUTOPISTA PLANALTO SUL                               2775849.00   2477717.0   \n",
       "AUTOPISTA REGIS BITTENCOURT                         13672725.50  13940858.5   \n",
       "CONCEBRA                                             7811751.00   7704918.5   \n",
       "CONCEPA                                                     NaN         NaN   \n",
       "CONCER                                               2255075.50   1769030.0   \n",
       "CRO                                                  9427826.00   7109570.0   \n",
       "CRT                                                         NaN         NaN   \n",
       "ECO050                                               4727072.00   3761844.0   \n",
       "ECO101 CONCESSIONARIA DE RODOVIAS S/A                5179182.00   4608185.0   \n",
       "ECOPONTE                                             2543922.50   1978234.5   \n",
       "ECORIOMINAS                                          6301959.50   5779959.0   \n",
       "ECOSUL                                               2280308.00   2137192.5   \n",
       "ECOVIAS DO ARAGUAIA                                  4407791.50   3357762.0   \n",
       "ECOVIAS DO CERRADO                                   3048028.00   2355376.0   \n",
       "HOLDING DO SISTEMA RODOVIARIO RIO - SAO PAULO S.A.          NaN  11015556.5   \n",
       "MSVIA                                                4919509.50   4844541.5   \n",
       "NOVADUTRA                                                   NaN         NaN   \n",
       "RIOSP                                               14881727.25         NaN   \n",
       "RODOVIA DO AÇO                                       1470559.00   1409039.5   \n",
       "TRANSBRASILIANA                                      1921893.50    776319.0   \n",
       "VIA 040                                              6990447.00   5444596.5   \n",
       "VIA BAHIA                                            7915952.00   7956443.0   \n",
       "VIA BRASIL                                           1420221.50         NaN   \n",
       "VIA COSTEIRA                                         7421631.00   3637271.0   \n",
       "VIA SUL                                              9099960.00   4754087.5   \n",
       "\n",
       "MES_ANO_f                                           2024-02-29  2024-03-31  \\\n",
       "concessionaria                                                               \n",
       "AUTOPISTA FERNÃO DIAS                                      NaN         NaN   \n",
       "AUTOPISTA FLUMINENSE                                 3780432.5   1451661.0   \n",
       "AUTOPISTA LITORAL SUL                               13317610.0  13921360.0   \n",
       "AUTOPISTA PLANALTO SUL                               2958571.0   3142100.5   \n",
       "AUTOPISTA REGIS BITTENCOURT                             7297.0         NaN   \n",
       "CONCEBRA                                             7184002.5   7718145.5   \n",
       "CONCEPA                                                    NaN         NaN   \n",
       "CONCER                                               1905405.0   1978087.5   \n",
       "CRO                                                  6889198.0   7646984.5   \n",
       "CRT                                                        NaN         NaN   \n",
       "ECO050                                               3790023.0   4749159.0   \n",
       "ECO101 CONCESSIONARIA DE RODOVIAS S/A                4173837.5   4932044.0   \n",
       "ECOPONTE                                             1889072.5   2239082.0   \n",
       "ECORIOMINAS                                          5768046.0   6002037.5   \n",
       "ECOSUL                                               2048178.5   2394956.5   \n",
       "ECOVIAS DO ARAGUAIA                                  3177496.5   3989091.5   \n",
       "ECOVIAS DO CERRADO                                   2639868.5   2898002.5   \n",
       "HOLDING DO SISTEMA RODOVIARIO RIO - SAO PAULO S.A.   8919299.5  12466393.0   \n",
       "MSVIA                                                4530490.5   4431578.0   \n",
       "NOVADUTRA                                                  NaN         NaN   \n",
       "RIOSP                                                      NaN         NaN   \n",
       "RODOVIA DO AÇO                                       1161823.5   1365482.5   \n",
       "TRANSBRASILIANA                                       731377.0    773155.5   \n",
       "VIA 040                                              5429695.0   6064025.5   \n",
       "VIA BAHIA                                            6048328.5   7955644.5   \n",
       "VIA BRASIL                                                 NaN         NaN   \n",
       "VIA COSTEIRA                                            3517.0   4312798.5   \n",
       "VIA SUL                                              9580848.0    615706.0   \n",
       "\n",
       "MES_ANO_f                                           2024-04-30  2024-05-31  \\\n",
       "concessionaria                                                               \n",
       "AUTOPISTA FERNÃO DIAS                                      NaN         NaN   \n",
       "AUTOPISTA FLUMINENSE                                   43079.5         NaN   \n",
       "AUTOPISTA LITORAL SUL                               12593523.0         NaN   \n",
       "AUTOPISTA PLANALTO SUL                               3187702.5         NaN   \n",
       "AUTOPISTA REGIS BITTENCOURT                                NaN         NaN   \n",
       "CONCEBRA                                             7561248.5   7926717.5   \n",
       "CONCEPA                                                    NaN         NaN   \n",
       "CONCER                                               2006069.5   2083291.5   \n",
       "CRO                                                  8702620.0   9509593.0   \n",
       "CRT                                                        NaN         NaN   \n",
       "ECO050                                               4993895.0   4979468.0   \n",
       "ECO101 CONCESSIONARIA DE RODOVIAS S/A                5000963.0   5070236.5   \n",
       "ECOPONTE                                             2374114.5   2424761.5   \n",
       "ECORIOMINAS                                          5921556.5   5808795.5   \n",
       "ECOSUL                                               2899339.5   1808033.0   \n",
       "ECOVIAS DO ARAGUAIA                                  4219651.0   4273344.0   \n",
       "ECOVIAS DO CERRADO                                   3030954.5   3154702.0   \n",
       "HOLDING DO SISTEMA RODOVIARIO RIO - SAO PAULO S.A.  12451768.5  13007679.0   \n",
       "MSVIA                                                1013207.5      2521.0   \n",
       "NOVADUTRA                                                  NaN         NaN   \n",
       "RIOSP                                                      NaN         NaN   \n",
       "RODOVIA DO AÇO                                       1509469.5    154247.0   \n",
       "TRANSBRASILIANA                                       195385.0         NaN   \n",
       "VIA 040                                              6143936.5    817901.5   \n",
       "VIA BAHIA                                            7831107.5   8134240.5   \n",
       "VIA BRASIL                                                 NaN         NaN   \n",
       "VIA COSTEIRA                                           74268.5         NaN   \n",
       "VIA SUL                                               802399.5    328860.5   \n",
       "\n",
       "MES_ANO_f                                           2024-06-30  \n",
       "concessionaria                                                  \n",
       "AUTOPISTA FERNÃO DIAS                                      NaN  \n",
       "AUTOPISTA FLUMINENSE                                       NaN  \n",
       "AUTOPISTA LITORAL SUL                                      NaN  \n",
       "AUTOPISTA PLANALTO SUL                                     NaN  \n",
       "AUTOPISTA REGIS BITTENCOURT                                NaN  \n",
       "CONCEBRA                                             7937696.5  \n",
       "CONCEPA                                                    NaN  \n",
       "CONCER                                                577255.0  \n",
       "CRO                                                   720864.0  \n",
       "CRT                                                        NaN  \n",
       "ECO050                                                275755.5  \n",
       "ECO101 CONCESSIONARIA DE RODOVIAS S/A                 254064.0  \n",
       "ECOPONTE                                              126680.5  \n",
       "ECORIOMINAS                                           325689.0  \n",
       "ECOSUL                                                 77640.0  \n",
       "ECOVIAS DO ARAGUAIA                                   279385.5  \n",
       "ECOVIAS DO CERRADO                                    180759.5  \n",
       "HOLDING DO SISTEMA RODOVIARIO RIO - SAO PAULO S.A.   1258914.5  \n",
       "MSVIA                                                      NaN  \n",
       "NOVADUTRA                                                  NaN  \n",
       "RIOSP                                                      NaN  \n",
       "RODOVIA DO AÇO                                             NaN  \n",
       "TRANSBRASILIANA                                            NaN  \n",
       "VIA 040                                                    NaN  \n",
       "VIA BAHIA                                             491237.0  \n",
       "VIA BRASIL                                                 NaN  \n",
       "VIA COSTEIRA                                               NaN  \n",
       "VIA SUL                                                    NaN  \n",
       "\n",
       "[28 rows x 174 columns]"
      ]
     },
     "execution_count": 76,
     "metadata": {},
     "output_type": "execute_result"
    }
   ],
   "source": [
    "dict_veqs_mensal['VEQS_TOTAL']"
   ]
  },
  {
   "cell_type": "markdown",
   "id": "6c90ab55-71f1-4129-ac09-2617c0722e83",
   "metadata": {},
   "source": [
    "# Salvando p/parquet"
   ]
  },
  {
   "cell_type": "code",
   "execution_count": 55,
   "id": "3138fcdf-0e76-4d87-95ad-bd044cefbf8f",
   "metadata": {
    "execution": {
     "iopub.execute_input": "2024-08-27T21:53:16.284946Z",
     "iopub.status.busy": "2024-08-27T21:53:16.284495Z",
     "iopub.status.idle": "2024-08-27T21:53:27.659612Z",
     "shell.execute_reply": "2024-08-27T21:53:27.658221Z",
     "shell.execute_reply.started": "2024-08-27T21:53:16.284906Z"
    },
    "tags": []
   },
   "outputs": [],
   "source": [
    "# dataframe total\n",
    "# df_trafego.to_parquet(os.path.join(path_dados_derivados,'df_trafego.parquet'))\n",
    "df_trafego.to_parquet(path_output /'df_trafego.parquet')"
   ]
  },
  {
   "cell_type": "code",
   "execution_count": 56,
   "id": "dc5e978b-2ed4-4311-92ef-6a9836424ec6",
   "metadata": {
    "execution": {
     "iopub.execute_input": "2024-08-27T21:53:27.662783Z",
     "iopub.status.busy": "2024-08-27T21:53:27.662154Z",
     "iopub.status.idle": "2024-08-27T21:53:27.671684Z",
     "shell.execute_reply": "2024-08-27T21:53:27.670307Z",
     "shell.execute_reply.started": "2024-08-27T21:53:27.662743Z"
    },
    "tags": []
   },
   "outputs": [],
   "source": [
    "# data inicial e final\n",
    "df_periodos.to_parquet(path_output /'df_periodos.parquet')"
   ]
  },
  {
   "cell_type": "code",
   "execution_count": 63,
   "id": "eaf1133f-540b-4ad7-9d5d-a008f1d4ca36",
   "metadata": {
    "execution": {
     "iopub.execute_input": "2024-08-27T21:55:28.592481Z",
     "iopub.status.busy": "2024-08-27T21:55:28.590986Z",
     "iopub.status.idle": "2024-08-27T21:55:28.610603Z",
     "shell.execute_reply": "2024-08-27T21:55:28.609444Z",
     "shell.execute_reply.started": "2024-08-27T21:55:28.592436Z"
    },
    "tags": []
   },
   "outputs": [],
   "source": [
    "# dicionário com os dados de tráfego anuais:\n",
    "for veq in dict_veqs:\n",
    "    dict_veqs[veq].to_parquet(path_output / f'df_{veq}_anual.parquet')"
   ]
  },
  {
   "cell_type": "code",
   "execution_count": 77,
   "id": "cd64be80-e33b-4009-b2b6-c7d3abc42da7",
   "metadata": {
    "execution": {
     "iopub.execute_input": "2024-08-27T21:59:38.074569Z",
     "iopub.status.busy": "2024-08-27T21:59:38.073432Z",
     "iopub.status.idle": "2024-08-27T21:59:38.252308Z",
     "shell.execute_reply": "2024-08-27T21:59:38.251116Z",
     "shell.execute_reply.started": "2024-08-27T21:59:38.074529Z"
    },
    "tags": []
   },
   "outputs": [],
   "source": [
    "# dicionário com os dados de tráfego mensial:\n",
    "for veq in dict_veqs_mensal:\n",
    "    dict_veqs_mensal[veq].to_parquet(path_output / f'df_{veq}_mensal.parquet')"
   ]
  },
  {
   "cell_type": "markdown",
   "id": "3dd5690a-1f36-4de9-ace5-6f90ed976fd2",
   "metadata": {},
   "source": [
    "# Salvando p/Excel"
   ]
  },
  {
   "cell_type": "code",
   "execution_count": 61,
   "id": "5aa80b27-1e5f-46bc-a90d-cf4964847bf0",
   "metadata": {
    "execution": {
     "iopub.execute_input": "2024-08-27T21:55:08.286326Z",
     "iopub.status.busy": "2024-08-27T21:55:08.285809Z",
     "iopub.status.idle": "2024-08-27T21:55:08.404574Z",
     "shell.execute_reply": "2024-08-27T21:55:08.403329Z",
     "shell.execute_reply.started": "2024-08-27T21:55:08.286286Z"
    },
    "tags": []
   },
   "outputs": [],
   "source": [
    "# dados de tráfego anual\n",
    "with pd.ExcelWriter(path_output / 'dados_trafego_ANTT_anual.xlsx') as writer:\n",
    "    df_periodos.to_excel(writer, sheet_name=\"periodo_concessionarias\")\n",
    "    for veq in dict_veqs:\n",
    "        dict_veqs[veq].to_excel(writer, sheet_name=f\"{veq}\")"
   ]
  },
  {
   "cell_type": "code",
   "execution_count": 73,
   "id": "20a18c87-2f93-4f7b-9005-a7b2d0c60af1",
   "metadata": {
    "execution": {
     "iopub.execute_input": "2024-08-27T21:58:03.147179Z",
     "iopub.status.busy": "2024-08-27T21:58:03.146660Z",
     "iopub.status.idle": "2024-08-27T21:58:03.964261Z",
     "shell.execute_reply": "2024-08-27T21:58:03.962741Z",
     "shell.execute_reply.started": "2024-08-27T21:58:03.147138Z"
    },
    "tags": []
   },
   "outputs": [],
   "source": [
    "# dados de tráfego mensal\n",
    "with pd.ExcelWriter(path_output / 'dados_trafego_ANTT_mensal.xlsx') as writer:\n",
    "    df_periodos.to_excel(writer, sheet_name=\"periodo_concessionarias\")\n",
    "    for veq in dict_veqs_mensal:\n",
    "        dict_veqs_mensal[veq].to_excel(writer, sheet_name=f\"{veq}\")"
   ]
  },
  {
   "cell_type": "code",
   "execution_count": null,
   "id": "48c968b4-7a54-4a05-b55b-8e4ef9dfbbc8",
   "metadata": {},
   "outputs": [],
   "source": []
  }
 ],
 "metadata": {
  "kernelspec": {
   "display_name": "infra-data",
   "language": "python",
   "name": "infra-data"
  },
  "language_info": {
   "codemirror_mode": {
    "name": "ipython",
    "version": 3
   },
   "file_extension": ".py",
   "mimetype": "text/x-python",
   "name": "python",
   "nbconvert_exporter": "python",
   "pygments_lexer": "ipython3",
   "version": "3.9.16"
  }
 },
 "nbformat": 4,
 "nbformat_minor": 5
}
