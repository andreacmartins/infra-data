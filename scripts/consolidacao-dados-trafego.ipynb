{
 "cells": [
  {
   "cell_type": "markdown",
   "id": "7cd4eef4-cce0-440e-b843-22821262126e",
   "metadata": {},
   "source": [
    "# IMPORTS"
   ]
  },
  {
   "cell_type": "code",
   "execution_count": 49,
   "id": "b0bd2558-4df8-4da6-a0fb-e13700764450",
   "metadata": {
    "execution": {
     "iopub.execute_input": "2024-08-20T21:15:46.937998Z",
     "iopub.status.busy": "2024-08-20T21:15:46.937162Z",
     "iopub.status.idle": "2024-08-20T21:15:46.943120Z",
     "shell.execute_reply": "2024-08-20T21:15:46.941931Z",
     "shell.execute_reply.started": "2024-08-20T21:15:46.937955Z"
    },
    "tags": []
   },
   "outputs": [],
   "source": [
    "import pandas as pd\n",
    "import numpy as np\n",
    "import os\n",
    "from decimal import Decimal\n",
    "import pickle\n",
    "from pathlib import Path"
   ]
  },
  {
   "cell_type": "markdown",
   "id": "49a66ef9-139e-4255-b3c1-d6d6460caffe",
   "metadata": {
    "execution": {
     "iopub.execute_input": "2024-08-20T19:55:44.418829Z",
     "iopub.status.busy": "2024-08-20T19:55:44.417516Z",
     "iopub.status.idle": "2024-08-20T19:55:44.424840Z",
     "shell.execute_reply": "2024-08-20T19:55:44.422826Z",
     "shell.execute_reply.started": "2024-08-20T19:55:44.418787Z"
    }
   },
   "source": [
    "# SETUP"
   ]
  },
  {
   "cell_type": "code",
   "execution_count": 50,
   "id": "7eaa031d-d0d4-4d30-b804-cba265e680c3",
   "metadata": {
    "execution": {
     "iopub.execute_input": "2024-08-20T21:15:47.304350Z",
     "iopub.status.busy": "2024-08-20T21:15:47.303714Z",
     "iopub.status.idle": "2024-08-20T21:15:47.317771Z",
     "shell.execute_reply": "2024-08-20T21:15:47.316319Z",
     "shell.execute_reply.started": "2024-08-20T21:15:47.304308Z"
    },
    "tags": []
   },
   "outputs": [],
   "source": [
    "dir_tree_util_path = os.path.join(\"utils\", \"dir_tree.py\")\n",
    "exec(open(dir_tree_util_path).read())"
   ]
  },
  {
   "cell_type": "markdown",
   "id": "5e259d48-4151-4192-a50c-da058d8aaa7e",
   "metadata": {},
   "source": [
    "# INPUTS"
   ]
  },
  {
   "cell_type": "code",
   "execution_count": 51,
   "id": "08ef8a6a-5506-4c15-ba36-c2c052306a9f",
   "metadata": {
    "execution": {
     "iopub.execute_input": "2024-08-20T21:15:47.590678Z",
     "iopub.status.busy": "2024-08-20T21:15:47.589602Z",
     "iopub.status.idle": "2024-08-20T21:15:47.600883Z",
     "shell.execute_reply": "2024-08-20T21:15:47.599449Z",
     "shell.execute_reply.started": "2024-08-20T21:15:47.590621Z"
    },
    "tags": []
   },
   "outputs": [
    {
     "data": {
      "text/plain": [
       "{'BASE_DIR': PosixPath('/home/andcm/work/Projetos/infra-data'),\n",
       " 'DADOS_DIR': PosixPath('/home/andcm/work/Projetos/infra-data/dados'),\n",
       " 'DADOS_BRUTOS_DIR': PosixPath('/home/andcm/work/Projetos/infra-data/dados/brutos'),\n",
       " 'DADOS_VEQ_ANTT_DIR': PosixPath('/home/andcm/work/Projetos/infra-data/dados/brutos/dados-trafego-ANTT'),\n",
       " 'DADOS_DERIVADOS_DIR': PosixPath('/home/andcm/work/Projetos/infra-data/dados/derivados'),\n",
       " 'DADOS_CONSOL_VEQ_ANTT': PosixPath('/home/andcm/work/Projetos/infra-data/dados/derivados/trafego-VEQ-ANTT'),\n",
       " 'path_input': PosixPath('/home/andcm/work/Projetos/infra-data/dados/brutos/dados-trafego-ANTT'),\n",
       " 'path_output': PosixPath('/home/andcm/work/Projetos/infra-data/dados/derivados')}"
      ]
     },
     "execution_count": 51,
     "metadata": {},
     "output_type": "execute_result"
    }
   ],
   "source": [
    "PROJECT_DIRS"
   ]
  },
  {
   "cell_type": "code",
   "execution_count": 52,
   "id": "31307c5f-d5d2-4adc-9fa3-3bbf19cf7121",
   "metadata": {
    "execution": {
     "iopub.execute_input": "2024-08-20T21:15:47.961315Z",
     "iopub.status.busy": "2024-08-20T21:15:47.960225Z",
     "iopub.status.idle": "2024-08-20T21:15:47.966619Z",
     "shell.execute_reply": "2024-08-20T21:15:47.965442Z",
     "shell.execute_reply.started": "2024-08-20T21:15:47.961269Z"
    },
    "tags": []
   },
   "outputs": [],
   "source": [
    "# Paths\n",
    "path_input = PROJECT_DIRS[\"DADOS_VEQ_ANTT_DIR\"]\n",
    "path_output = PROJECT_DIRS[\"DADOS_DERIVADOS_DIR\"]"
   ]
  },
  {
   "cell_type": "code",
   "execution_count": 53,
   "id": "79a367f1-c05e-47ae-81dc-64bf313cbbce",
   "metadata": {
    "execution": {
     "iopub.execute_input": "2024-08-20T21:15:48.573638Z",
     "iopub.status.busy": "2024-08-20T21:15:48.572723Z",
     "iopub.status.idle": "2024-08-20T21:15:48.578776Z",
     "shell.execute_reply": "2024-08-20T21:15:48.577623Z",
     "shell.execute_reply.started": "2024-08-20T21:15:48.573596Z"
    },
    "tags": []
   },
   "outputs": [],
   "source": [
    "periodo = list(range(2010, 2025))"
   ]
  },
  {
   "cell_type": "markdown",
   "id": "4227454c-3327-470a-92b4-35b111fe9c27",
   "metadata": {},
   "source": [
    "# Criando um dataframe consolidado com os dados de tráfego"
   ]
  },
  {
   "cell_type": "code",
   "execution_count": 56,
   "id": "3b658ece-7e95-46f0-9af1-dd47eb29a702",
   "metadata": {
    "execution": {
     "iopub.execute_input": "2024-08-20T21:15:59.990696Z",
     "iopub.status.busy": "2024-08-20T21:15:59.989753Z",
     "iopub.status.idle": "2024-08-20T21:15:59.995802Z",
     "shell.execute_reply": "2024-08-20T21:15:59.994647Z",
     "shell.execute_reply.started": "2024-08-20T21:15:59.990653Z"
    },
    "tags": []
   },
   "outputs": [],
   "source": [
    "# arquivos dos dados\n",
    "arquivos = os.listdir(path_input)"
   ]
  },
  {
   "cell_type": "code",
   "execution_count": 59,
   "id": "964fa4c0-5272-4ea5-ba8a-f8fd00296c3c",
   "metadata": {
    "execution": {
     "iopub.execute_input": "2024-08-20T21:16:34.344157Z",
     "iopub.status.busy": "2024-08-20T21:16:34.343089Z",
     "iopub.status.idle": "2024-08-20T21:16:42.142729Z",
     "shell.execute_reply": "2024-08-20T21:16:42.141211Z",
     "shell.execute_reply.started": "2024-08-20T21:16:34.344104Z"
    },
    "tags": []
   },
   "outputs": [],
   "source": [
    "df_trafego = pd.DataFrame()\n",
    "for ano in periodo:\n",
    "    arquivo = [a for a in arquivos if a[:-4].endswith(str(ano))][0]\n",
    "    df_ano = pd.read_csv(os.path.join(path_input, arquivo), sep=';', encoding='cp1252', low_memory=False)\n",
    "    df_trafego = pd.concat([df_trafego,df_ano])"
   ]
  },
  {
   "cell_type": "markdown",
   "id": "77d89742-3655-43ef-935c-b57c5a4456d9",
   "metadata": {},
   "source": [
    "# EDA Inicial"
   ]
  },
  {
   "cell_type": "code",
   "execution_count": 60,
   "id": "ffc68822-6798-45bb-a980-1691d74ad640",
   "metadata": {
    "execution": {
     "iopub.execute_input": "2024-08-20T21:16:44.919339Z",
     "iopub.status.busy": "2024-08-20T21:16:44.918225Z",
     "iopub.status.idle": "2024-08-20T21:16:44.946095Z",
     "shell.execute_reply": "2024-08-20T21:16:44.944515Z",
     "shell.execute_reply.started": "2024-08-20T21:16:44.919287Z"
    },
    "tags": []
   },
   "outputs": [
    {
     "data": {
      "text/html": [
       "<div>\n",
       "<style scoped>\n",
       "    .dataframe tbody tr th:only-of-type {\n",
       "        vertical-align: middle;\n",
       "    }\n",
       "\n",
       "    .dataframe tbody tr th {\n",
       "        vertical-align: top;\n",
       "    }\n",
       "\n",
       "    .dataframe thead th {\n",
       "        text-align: right;\n",
       "    }\n",
       "</style>\n",
       "<table border=\"1\" class=\"dataframe\">\n",
       "  <thead>\n",
       "    <tr style=\"text-align: right;\">\n",
       "      <th></th>\n",
       "      <th>concessionaria</th>\n",
       "      <th>mes_ano</th>\n",
       "      <th>sentido</th>\n",
       "      <th>praca</th>\n",
       "      <th>categoria</th>\n",
       "      <th>tipo_de_veiculo</th>\n",
       "      <th>volume_total</th>\n",
       "      <th>multiplicador_de_tarifa</th>\n",
       "      <th>volume_veiculo_equivalente</th>\n",
       "      <th>tipo_de_cobranca</th>\n",
       "    </tr>\n",
       "  </thead>\n",
       "  <tbody>\n",
       "    <tr>\n",
       "      <th>0</th>\n",
       "      <td>RODOVIA DO AÇO</td>\n",
       "      <td>01-01-2010</td>\n",
       "      <td>Decrescente</td>\n",
       "      <td>Praça 01  BR-393/RJ km 125,00</td>\n",
       "      <td>Categoria 1</td>\n",
       "      <td>Passeio</td>\n",
       "      <td>44146</td>\n",
       "      <td>1</td>\n",
       "      <td>44146</td>\n",
       "      <td>NaN</td>\n",
       "    </tr>\n",
       "    <tr>\n",
       "      <th>1</th>\n",
       "      <td>RODOVIA DO AÇO</td>\n",
       "      <td>01-01-2010</td>\n",
       "      <td>Crescente</td>\n",
       "      <td>Praça 01  BR-393/RJ km 125,00</td>\n",
       "      <td>Categoria 1</td>\n",
       "      <td>Passeio</td>\n",
       "      <td>35771</td>\n",
       "      <td>1</td>\n",
       "      <td>35771</td>\n",
       "      <td>NaN</td>\n",
       "    </tr>\n",
       "    <tr>\n",
       "      <th>2</th>\n",
       "      <td>RODOVIA DO AÇO</td>\n",
       "      <td>01-02-2010</td>\n",
       "      <td>Decrescente</td>\n",
       "      <td>Praça 01  BR-393/RJ km 125,00</td>\n",
       "      <td>Categoria 1</td>\n",
       "      <td>Passeio</td>\n",
       "      <td>33455</td>\n",
       "      <td>1</td>\n",
       "      <td>33455</td>\n",
       "      <td>NaN</td>\n",
       "    </tr>\n",
       "    <tr>\n",
       "      <th>3</th>\n",
       "      <td>RODOVIA DO AÇO</td>\n",
       "      <td>01-02-2010</td>\n",
       "      <td>Crescente</td>\n",
       "      <td>Praça 01  BR-393/RJ km 125,00</td>\n",
       "      <td>Categoria 1</td>\n",
       "      <td>Passeio</td>\n",
       "      <td>27109</td>\n",
       "      <td>1</td>\n",
       "      <td>27109</td>\n",
       "      <td>NaN</td>\n",
       "    </tr>\n",
       "    <tr>\n",
       "      <th>4</th>\n",
       "      <td>RODOVIA DO AÇO</td>\n",
       "      <td>01-03-2010</td>\n",
       "      <td>Decrescente</td>\n",
       "      <td>Praça 01  BR-393/RJ km 125,00</td>\n",
       "      <td>Categoria 1</td>\n",
       "      <td>Passeio</td>\n",
       "      <td>31677</td>\n",
       "      <td>1</td>\n",
       "      <td>31677</td>\n",
       "      <td>NaN</td>\n",
       "    </tr>\n",
       "  </tbody>\n",
       "</table>\n",
       "</div>"
      ],
      "text/plain": [
       "   concessionaria     mes_ano      sentido                          praca  \\\n",
       "0  RODOVIA DO AÇO  01-01-2010  Decrescente  Praça 01  BR-393/RJ km 125,00   \n",
       "1  RODOVIA DO AÇO  01-01-2010    Crescente  Praça 01  BR-393/RJ km 125,00   \n",
       "2  RODOVIA DO AÇO  01-02-2010  Decrescente  Praça 01  BR-393/RJ km 125,00   \n",
       "3  RODOVIA DO AÇO  01-02-2010    Crescente  Praça 01  BR-393/RJ km 125,00   \n",
       "4  RODOVIA DO AÇO  01-03-2010  Decrescente  Praça 01  BR-393/RJ km 125,00   \n",
       "\n",
       "     categoria tipo_de_veiculo volume_total multiplicador_de_tarifa  \\\n",
       "0  Categoria 1         Passeio        44146                       1   \n",
       "1  Categoria 1         Passeio        35771                       1   \n",
       "2  Categoria 1         Passeio        33455                       1   \n",
       "3  Categoria 1         Passeio        27109                       1   \n",
       "4  Categoria 1         Passeio        31677                       1   \n",
       "\n",
       "  volume_veiculo_equivalente tipo_de_cobranca  \n",
       "0                      44146              NaN  \n",
       "1                      35771              NaN  \n",
       "2                      33455              NaN  \n",
       "3                      27109              NaN  \n",
       "4                      31677              NaN  "
      ]
     },
     "execution_count": 60,
     "metadata": {},
     "output_type": "execute_result"
    }
   ],
   "source": [
    "df_trafego.head()"
   ]
  },
  {
   "cell_type": "code",
   "execution_count": 61,
   "id": "375aa237-e0b2-4a31-bcb1-ba4356cc4745",
   "metadata": {
    "execution": {
     "iopub.execute_input": "2024-08-20T21:16:47.990927Z",
     "iopub.status.busy": "2024-08-20T21:16:47.989917Z",
     "iopub.status.idle": "2024-08-20T21:16:48.005807Z",
     "shell.execute_reply": "2024-08-20T21:16:48.004629Z",
     "shell.execute_reply.started": "2024-08-20T21:16:47.990883Z"
    },
    "tags": []
   },
   "outputs": [
    {
     "name": "stdout",
     "output_type": "stream",
     "text": [
      "<class 'pandas.core.frame.DataFrame'>\n",
      "Index: 3000353 entries, 0 to 2329761\n",
      "Data columns (total 10 columns):\n",
      " #   Column                      Dtype \n",
      "---  ------                      ----- \n",
      " 0   concessionaria              object\n",
      " 1   mes_ano                     object\n",
      " 2   sentido                     object\n",
      " 3   praca                       object\n",
      " 4   categoria                   object\n",
      " 5   tipo_de_veiculo             object\n",
      " 6   volume_total                object\n",
      " 7   multiplicador_de_tarifa     object\n",
      " 8   volume_veiculo_equivalente  object\n",
      " 9   tipo_de_cobranca            object\n",
      "dtypes: object(10)\n",
      "memory usage: 251.8+ MB\n"
     ]
    }
   ],
   "source": [
    "df_trafego.info()"
   ]
  },
  {
   "cell_type": "code",
   "execution_count": 62,
   "id": "ded8067c-2413-44c0-88ca-9ff8d15084b1",
   "metadata": {
    "execution": {
     "iopub.execute_input": "2024-08-20T21:16:50.580553Z",
     "iopub.status.busy": "2024-08-20T21:16:50.579253Z",
     "iopub.status.idle": "2024-08-20T21:16:51.799403Z",
     "shell.execute_reply": "2024-08-20T21:16:51.798340Z",
     "shell.execute_reply.started": "2024-08-20T21:16:50.580508Z"
    },
    "tags": []
   },
   "outputs": [
    {
     "name": "stdout",
     "output_type": "stream",
     "text": [
      "concessionaria: 0\n",
      "mes_ano: 0\n",
      "sentido: 0\n",
      "praca: 0\n",
      "categoria: 0\n",
      "tipo_de_veiculo: 0\n",
      "volume_total: 344\n",
      "multiplicador_de_tarifa: 0\n",
      "volume_veiculo_equivalente: 0\n",
      "tipo_de_cobranca: 74780\n"
     ]
    }
   ],
   "source": [
    "for col in df_trafego:\n",
    "    print(f\"{col}: {df_trafego[col].isna().sum()}\")"
   ]
  },
  {
   "cell_type": "code",
   "execution_count": 63,
   "id": "dddf1952-8eca-459f-890b-90ada7d1bc14",
   "metadata": {
    "execution": {
     "iopub.execute_input": "2024-08-20T21:16:53.857530Z",
     "iopub.status.busy": "2024-08-20T21:16:53.856200Z",
     "iopub.status.idle": "2024-08-20T21:16:54.008737Z",
     "shell.execute_reply": "2024-08-20T21:16:54.007439Z",
     "shell.execute_reply.started": "2024-08-20T21:16:53.857484Z"
    },
    "tags": []
   },
   "outputs": [
    {
     "data": {
      "text/html": [
       "<div>\n",
       "<style scoped>\n",
       "    .dataframe tbody tr th:only-of-type {\n",
       "        vertical-align: middle;\n",
       "    }\n",
       "\n",
       "    .dataframe tbody tr th {\n",
       "        vertical-align: top;\n",
       "    }\n",
       "\n",
       "    .dataframe thead th {\n",
       "        text-align: right;\n",
       "    }\n",
       "</style>\n",
       "<table border=\"1\" class=\"dataframe\">\n",
       "  <thead>\n",
       "    <tr style=\"text-align: right;\">\n",
       "      <th></th>\n",
       "      <th>concessionaria</th>\n",
       "      <th>mes_ano</th>\n",
       "      <th>sentido</th>\n",
       "      <th>praca</th>\n",
       "      <th>categoria</th>\n",
       "      <th>tipo_de_veiculo</th>\n",
       "      <th>volume_total</th>\n",
       "      <th>multiplicador_de_tarifa</th>\n",
       "      <th>volume_veiculo_equivalente</th>\n",
       "      <th>tipo_de_cobranca</th>\n",
       "    </tr>\n",
       "  </thead>\n",
       "  <tbody>\n",
       "    <tr>\n",
       "      <th>129345</th>\n",
       "      <td>ECOVIAS DO CERRADO</td>\n",
       "      <td>01/02/2023</td>\n",
       "      <td>Crescente</td>\n",
       "      <td>P7 - Jataí BR 364/GO km 156,550</td>\n",
       "      <td>Veículo Comercial Acima 10 eixos</td>\n",
       "      <td>Comercial</td>\n",
       "      <td>NaN</td>\n",
       "      <td>10,00</td>\n",
       "      <td>0,00</td>\n",
       "      <td>N/I</td>\n",
       "    </tr>\n",
       "    <tr>\n",
       "      <th>123053</th>\n",
       "      <td>ECOPONTE</td>\n",
       "      <td>01/10/2023</td>\n",
       "      <td>Decrescente</td>\n",
       "      <td>Praça 01 BR-101/RJ km 322,20</td>\n",
       "      <td>Veículo Comercial Acima 10 eixos</td>\n",
       "      <td>COMERCIAL</td>\n",
       "      <td>NaN</td>\n",
       "      <td>10,00</td>\n",
       "      <td>0,00</td>\n",
       "      <td>N/I</td>\n",
       "    </tr>\n",
       "    <tr>\n",
       "      <th>130060</th>\n",
       "      <td>ECOVIAS DO CERRADO</td>\n",
       "      <td>01/06/2023</td>\n",
       "      <td>Decrescente</td>\n",
       "      <td>P6 - Praça Cachoeira Alta BR 364/GO km 93,120</td>\n",
       "      <td>Veículo Comercial Acima 10 eixos</td>\n",
       "      <td>Comercial</td>\n",
       "      <td>NaN</td>\n",
       "      <td>10,00</td>\n",
       "      <td>0,00</td>\n",
       "      <td>N/I</td>\n",
       "    </tr>\n",
       "    <tr>\n",
       "      <th>120481</th>\n",
       "      <td>ECO050</td>\n",
       "      <td>01/08/2023</td>\n",
       "      <td>Decrescente</td>\n",
       "      <td>Praça 01 BR-050/GO km 143,99</td>\n",
       "      <td>Veículo Comercial Acima 10 eixos</td>\n",
       "      <td>Comercial</td>\n",
       "      <td>NaN</td>\n",
       "      <td>10,00</td>\n",
       "      <td>0,00</td>\n",
       "      <td>N/I</td>\n",
       "    </tr>\n",
       "    <tr>\n",
       "      <th>136462</th>\n",
       "      <td>RIOSP</td>\n",
       "      <td>01/10/2023</td>\n",
       "      <td>Crescente</td>\n",
       "      <td>Praça 08 BR-116/SP km 205,00</td>\n",
       "      <td>Categoria Esp. 08</td>\n",
       "      <td>Comercial</td>\n",
       "      <td>NaN</td>\n",
       "      <td>8,00</td>\n",
       "      <td>0,00</td>\n",
       "      <td>N/I</td>\n",
       "    </tr>\n",
       "    <tr>\n",
       "      <th>125862</th>\n",
       "      <td>ECOSUL</td>\n",
       "      <td>01/09/2023</td>\n",
       "      <td>Crescente</td>\n",
       "      <td>Praça 04 BR-392/RS km 52,30</td>\n",
       "      <td>Categoria 9</td>\n",
       "      <td>Moto</td>\n",
       "      <td>NaN</td>\n",
       "      <td>0,50</td>\n",
       "      <td>0,00</td>\n",
       "      <td>N/I</td>\n",
       "    </tr>\n",
       "    <tr>\n",
       "      <th>125342</th>\n",
       "      <td>ECOSUL</td>\n",
       "      <td>01/04/2023</td>\n",
       "      <td>Crescente</td>\n",
       "      <td>Praça 03 BR-116/RS km 541,20</td>\n",
       "      <td>Categoria 9</td>\n",
       "      <td>Moto</td>\n",
       "      <td>NaN</td>\n",
       "      <td>0,50</td>\n",
       "      <td>0,00</td>\n",
       "      <td>N/I</td>\n",
       "    </tr>\n",
       "    <tr>\n",
       "      <th>130476</th>\n",
       "      <td>ECOVIAS DO CERRADO</td>\n",
       "      <td>01/09/2023</td>\n",
       "      <td>Decrescente</td>\n",
       "      <td>P2 - Praça Monte Alegre  BR 365/MG Km 704,350</td>\n",
       "      <td>Veículo Comercial Acima 10 eixos</td>\n",
       "      <td>Comercial</td>\n",
       "      <td>NaN</td>\n",
       "      <td>10,00</td>\n",
       "      <td>0,00</td>\n",
       "      <td>N/I</td>\n",
       "    </tr>\n",
       "    <tr>\n",
       "      <th>125212</th>\n",
       "      <td>ECOSUL</td>\n",
       "      <td>01/03/2023</td>\n",
       "      <td>Decrescente</td>\n",
       "      <td>Praça 01 BR-116/RS km 430,79</td>\n",
       "      <td>Categoria 9</td>\n",
       "      <td>Moto</td>\n",
       "      <td>NaN</td>\n",
       "      <td>0,50</td>\n",
       "      <td>0,00</td>\n",
       "      <td>N/I</td>\n",
       "    </tr>\n",
       "  </tbody>\n",
       "</table>\n",
       "</div>"
      ],
      "text/plain": [
       "            concessionaria     mes_ano      sentido  \\\n",
       "129345  ECOVIAS DO CERRADO  01/02/2023    Crescente   \n",
       "123053            ECOPONTE  01/10/2023  Decrescente   \n",
       "130060  ECOVIAS DO CERRADO  01/06/2023  Decrescente   \n",
       "120481              ECO050  01/08/2023  Decrescente   \n",
       "136462               RIOSP  01/10/2023    Crescente   \n",
       "125862              ECOSUL  01/09/2023    Crescente   \n",
       "125342              ECOSUL  01/04/2023    Crescente   \n",
       "130476  ECOVIAS DO CERRADO  01/09/2023  Decrescente   \n",
       "125212              ECOSUL  01/03/2023  Decrescente   \n",
       "\n",
       "                                                 praca  \\\n",
       "129345                 P7 - Jataí BR 364/GO km 156,550   \n",
       "123053                    Praça 01 BR-101/RJ km 322,20   \n",
       "130060   P6 - Praça Cachoeira Alta BR 364/GO km 93,120   \n",
       "120481                    Praça 01 BR-050/GO km 143,99   \n",
       "136462                    Praça 08 BR-116/SP km 205,00   \n",
       "125862                     Praça 04 BR-392/RS km 52,30   \n",
       "125342                    Praça 03 BR-116/RS km 541,20   \n",
       "130476   P2 - Praça Monte Alegre  BR 365/MG Km 704,350   \n",
       "125212                    Praça 01 BR-116/RS km 430,79   \n",
       "\n",
       "                               categoria tipo_de_veiculo volume_total  \\\n",
       "129345  Veículo Comercial Acima 10 eixos       Comercial          NaN   \n",
       "123053  Veículo Comercial Acima 10 eixos       COMERCIAL          NaN   \n",
       "130060  Veículo Comercial Acima 10 eixos       Comercial          NaN   \n",
       "120481  Veículo Comercial Acima 10 eixos       Comercial          NaN   \n",
       "136462                 Categoria Esp. 08       Comercial          NaN   \n",
       "125862                       Categoria 9            Moto          NaN   \n",
       "125342                       Categoria 9            Moto          NaN   \n",
       "130476  Veículo Comercial Acima 10 eixos       Comercial          NaN   \n",
       "125212                       Categoria 9            Moto          NaN   \n",
       "\n",
       "       multiplicador_de_tarifa volume_veiculo_equivalente tipo_de_cobranca  \n",
       "129345                   10,00                       0,00              N/I  \n",
       "123053                   10,00                       0,00              N/I  \n",
       "130060                   10,00                       0,00              N/I  \n",
       "120481                   10,00                       0,00              N/I  \n",
       "136462                    8,00                       0,00              N/I  \n",
       "125862                    0,50                       0,00              N/I  \n",
       "125342                    0,50                       0,00              N/I  \n",
       "130476                   10,00                       0,00              N/I  \n",
       "125212                    0,50                       0,00              N/I  "
      ]
     },
     "execution_count": 63,
     "metadata": {},
     "output_type": "execute_result"
    }
   ],
   "source": [
    "df_trafego[df_trafego['volume_total'].isna()].sample(9)"
   ]
  },
  {
   "cell_type": "code",
   "execution_count": 64,
   "id": "c0eb184b-ce91-429c-bc8b-4abac18cf9d2",
   "metadata": {
    "execution": {
     "iopub.execute_input": "2024-08-20T21:16:54.521157Z",
     "iopub.status.busy": "2024-08-20T21:16:54.519640Z",
     "iopub.status.idle": "2024-08-20T21:16:54.656139Z",
     "shell.execute_reply": "2024-08-20T21:16:54.654782Z",
     "shell.execute_reply.started": "2024-08-20T21:16:54.521108Z"
    },
    "tags": []
   },
   "outputs": [
    {
     "data": {
      "text/plain": [
       "array(['0,00'], dtype=object)"
      ]
     },
     "execution_count": 64,
     "metadata": {},
     "output_type": "execute_result"
    }
   ],
   "source": [
    "df_trafego[df_trafego['volume_total'].isna()]['volume_veiculo_equivalente'].unique()"
   ]
  },
  {
   "cell_type": "code",
   "execution_count": 65,
   "id": "b455acf7-a4bf-4af3-b96d-e8fa9b687001",
   "metadata": {
    "execution": {
     "iopub.execute_input": "2024-08-20T21:16:54.771409Z",
     "iopub.status.busy": "2024-08-20T21:16:54.769708Z",
     "iopub.status.idle": "2024-08-20T21:16:56.050222Z",
     "shell.execute_reply": "2024-08-20T21:16:56.048280Z",
     "shell.execute_reply.started": "2024-08-20T21:16:54.771316Z"
    },
    "tags": []
   },
   "outputs": [
    {
     "data": {
      "text/plain": [
       "array(['01', '14', '28', '31', '30', '02', '03', '04', '05', '06', '07',\n",
       "       '08', '09', '10', '11', '12', '13', '15', '16', '17', '18', '19',\n",
       "       '20', '21', '22', '23', '24', '25', '26', '27', '29'], dtype=object)"
      ]
     },
     "execution_count": 65,
     "metadata": {},
     "output_type": "execute_result"
    }
   ],
   "source": [
    "df_trafego['mes_ano'].str[:2].unique()"
   ]
  },
  {
   "cell_type": "code",
   "execution_count": 66,
   "id": "8bd3362a-3ca0-4b08-bec7-8bf7db6a5060",
   "metadata": {
    "execution": {
     "iopub.execute_input": "2024-08-20T21:16:56.053280Z",
     "iopub.status.busy": "2024-08-20T21:16:56.052674Z",
     "iopub.status.idle": "2024-08-20T21:16:57.314353Z",
     "shell.execute_reply": "2024-08-20T21:16:57.312969Z",
     "shell.execute_reply.started": "2024-08-20T21:16:56.053238Z"
    },
    "tags": []
   },
   "outputs": [
    {
     "data": {
      "text/plain": [
       "array(['01', '02', '03', '04', '05', '06', '07', '08', '09', '10', '11',\n",
       "       '12'], dtype=object)"
      ]
     },
     "execution_count": 66,
     "metadata": {},
     "output_type": "execute_result"
    }
   ],
   "source": [
    "df_trafego['mes_ano'].str[3:5].unique()"
   ]
  },
  {
   "cell_type": "code",
   "execution_count": 67,
   "id": "8453ca06-ce7b-47b5-afe4-1dcf7ff131da",
   "metadata": {
    "execution": {
     "iopub.execute_input": "2024-08-20T21:16:57.317285Z",
     "iopub.status.busy": "2024-08-20T21:16:57.316215Z",
     "iopub.status.idle": "2024-08-20T21:16:57.441916Z",
     "shell.execute_reply": "2024-08-20T21:16:57.440168Z",
     "shell.execute_reply.started": "2024-08-20T21:16:57.317241Z"
    },
    "tags": []
   },
   "outputs": [
    {
     "data": {
      "text/plain": [
       "array([nan, 'N/I', 'Manual', 'Automática', 'Mista'], dtype=object)"
      ]
     },
     "execution_count": 67,
     "metadata": {},
     "output_type": "execute_result"
    }
   ],
   "source": [
    "df_trafego['tipo_de_cobranca'].unique()"
   ]
  },
  {
   "cell_type": "code",
   "execution_count": 68,
   "id": "60e95d5f-cf18-4ce0-bea5-a7f2037bd499",
   "metadata": {
    "execution": {
     "iopub.execute_input": "2024-08-20T21:16:57.445876Z",
     "iopub.status.busy": "2024-08-20T21:16:57.445202Z",
     "iopub.status.idle": "2024-08-20T21:16:57.576522Z",
     "shell.execute_reply": "2024-08-20T21:16:57.575154Z",
     "shell.execute_reply.started": "2024-08-20T21:16:57.445830Z"
    },
    "tags": []
   },
   "outputs": [
    {
     "data": {
      "text/plain": [
       "np.True_"
      ]
     },
     "execution_count": 68,
     "metadata": {},
     "output_type": "execute_result"
    }
   ],
   "source": [
    "df_trafego['volume_total'].isna().any()"
   ]
  },
  {
   "cell_type": "code",
   "execution_count": 69,
   "id": "ffb13d6e-a38b-4448-ac2a-18bbc4fb5806",
   "metadata": {
    "execution": {
     "iopub.execute_input": "2024-08-20T21:16:57.579328Z",
     "iopub.status.busy": "2024-08-20T21:16:57.578286Z",
     "iopub.status.idle": "2024-08-20T21:16:57.716745Z",
     "shell.execute_reply": "2024-08-20T21:16:57.715447Z",
     "shell.execute_reply.started": "2024-08-20T21:16:57.579269Z"
    },
    "tags": []
   },
   "outputs": [
    {
     "data": {
      "text/plain": [
       "np.int64(344)"
      ]
     },
     "execution_count": 69,
     "metadata": {},
     "output_type": "execute_result"
    }
   ],
   "source": [
    "df_trafego['volume_total'].isna().sum()"
   ]
  },
  {
   "cell_type": "code",
   "execution_count": 70,
   "id": "f1c1d921-77c0-4909-ab78-8f4be88a7680",
   "metadata": {
    "execution": {
     "iopub.execute_input": "2024-08-20T21:16:57.719206Z",
     "iopub.status.busy": "2024-08-20T21:16:57.718515Z",
     "iopub.status.idle": "2024-08-20T21:16:57.847111Z",
     "shell.execute_reply": "2024-08-20T21:16:57.845685Z",
     "shell.execute_reply.started": "2024-08-20T21:16:57.719159Z"
    },
    "tags": []
   },
   "outputs": [
    {
     "data": {
      "text/plain": [
       "array(['1', '2', '1,5', '3', '4', '5', '6', '0,5', '7', '8', '9', '10',\n",
       "       1.0, 2.0, 1.5, 3.0, 4.0, 5.0, 6.0, 0.5, 7.0, 8.0, 9.0, 10.0,\n",
       "       '2,00', '3,00', '4,00', '5,00', '6,00', '0,50', '1,00', '1,50',\n",
       "       '7,00', '8,00', '9,00', '10,00', '0,00', '11,00', '13,00', '15,00',\n",
       "       '12,00', '14,00', '18,00', '20,00', '16,00', '17,00', '19,00'],\n",
       "      dtype=object)"
      ]
     },
     "execution_count": 70,
     "metadata": {},
     "output_type": "execute_result"
    }
   ],
   "source": [
    "df_trafego['multiplicador_de_tarifa'].unique()"
   ]
  },
  {
   "cell_type": "markdown",
   "id": "3dd3548c-f263-4ffc-9527-5344610ef315",
   "metadata": {},
   "source": [
    "# Tratamento dos dados"
   ]
  },
  {
   "cell_type": "code",
   "execution_count": 71,
   "id": "f051ad20-c663-4a8d-925b-549e436eb4c9",
   "metadata": {
    "execution": {
     "iopub.execute_input": "2024-08-20T21:16:57.849109Z",
     "iopub.status.busy": "2024-08-20T21:16:57.848328Z",
     "iopub.status.idle": "2024-08-20T21:17:02.053412Z",
     "shell.execute_reply": "2024-08-20T21:17:02.051759Z",
     "shell.execute_reply.started": "2024-08-20T21:16:57.848812Z"
    },
    "tags": []
   },
   "outputs": [],
   "source": [
    "# Colunas de ano, mes e dia\n",
    "df_trafego['year'] = df_trafego['mes_ano'].str[-4:].astype('int') \n",
    "df_trafego['month'] = df_trafego['mes_ano'].str[3:5].astype('int')\n",
    "df_trafego['day'] = df_trafego['mes_ano'].str[:2].astype('int') "
   ]
  },
  {
   "cell_type": "code",
   "execution_count": 72,
   "id": "67124ec5-e152-49d4-b303-9cbb11927cb3",
   "metadata": {
    "execution": {
     "iopub.execute_input": "2024-08-20T21:17:02.058788Z",
     "iopub.status.busy": "2024-08-20T21:17:02.055459Z",
     "iopub.status.idle": "2024-08-20T21:17:02.435829Z",
     "shell.execute_reply": "2024-08-20T21:17:02.430079Z",
     "shell.execute_reply.started": "2024-08-20T21:17:02.058714Z"
    },
    "tags": []
   },
   "outputs": [],
   "source": [
    "# Recriando a coluna de mes_ano, agora como datetime ao invés de string. Tem que ser em ingles pq a função do pandas exige\n",
    "df_trafego['mes_ano'] = pd.to_datetime(df_trafego[['year', 'month', 'day']])"
   ]
  },
  {
   "cell_type": "code",
   "execution_count": 73,
   "id": "5fae9658-dc43-433c-89c9-2395145471de",
   "metadata": {
    "execution": {
     "iopub.execute_input": "2024-08-20T21:17:02.439256Z",
     "iopub.status.busy": "2024-08-20T21:17:02.437270Z",
     "iopub.status.idle": "2024-08-20T21:17:02.805840Z",
     "shell.execute_reply": "2024-08-20T21:17:02.804476Z",
     "shell.execute_reply.started": "2024-08-20T21:17:02.439206Z"
    },
    "tags": []
   },
   "outputs": [],
   "source": [
    "# preenchendo os NaNs, qdo aplicável:\n",
    "df_trafego['volume_total'] = df_trafego['volume_total'].fillna(0) #o volume equivalente é zero sempre que volume_total é zero"
   ]
  },
  {
   "cell_type": "code",
   "execution_count": 74,
   "id": "6c57331f-cb3d-4adc-9d3c-ef37432f4801",
   "metadata": {
    "execution": {
     "iopub.execute_input": "2024-08-20T21:17:02.810395Z",
     "iopub.status.busy": "2024-08-20T21:17:02.809676Z",
     "iopub.status.idle": "2024-08-20T21:17:08.411018Z",
     "shell.execute_reply": "2024-08-20T21:17:08.409569Z",
     "shell.execute_reply.started": "2024-08-20T21:17:02.810338Z"
    },
    "tags": []
   },
   "outputs": [],
   "source": [
    "# Convertendo os tipos de dados para numéricos:\n",
    "df_trafego['volume_total'] = df_trafego['volume_total'].apply(lambda x: x.replace(',','.') if type(x) == str else x)\n",
    "df_trafego['volume_total'] = df_trafego['volume_total'].apply(lambda x: x.split('.')[0] if type(x) == str else x)\n",
    "df_trafego['volume_total'] = df_trafego['volume_total'].astype('int')\n",
    "\n",
    "df_trafego['volume_veiculo_equivalente'] = df_trafego['volume_veiculo_equivalente'].apply(lambda x: x.replace(',','.') if type(x) == str else x)\n",
    "df_trafego['volume_veiculo_equivalente'] = df_trafego['volume_veiculo_equivalente'].astype('float') # existe multiplicador de tarifa fracionário"
   ]
  },
  {
   "cell_type": "code",
   "execution_count": 75,
   "id": "20231a8a-8ab4-41b5-bd87-db645b34cfd5",
   "metadata": {
    "execution": {
     "iopub.execute_input": "2024-08-20T21:17:08.414084Z",
     "iopub.status.busy": "2024-08-20T21:17:08.412651Z",
     "iopub.status.idle": "2024-08-20T21:17:08.551103Z",
     "shell.execute_reply": "2024-08-20T21:17:08.549527Z",
     "shell.execute_reply.started": "2024-08-20T21:17:08.414037Z"
    },
    "tags": []
   },
   "outputs": [],
   "source": [
    "# convertendo categoria para string (do contrário não salva para parquet):\n",
    "df_trafego['categoria'] = df_trafego['categoria'].astype('string')"
   ]
  },
  {
   "cell_type": "code",
   "execution_count": 76,
   "id": "a570f4b8-a68e-47a9-8d5c-ec56f6e8086c",
   "metadata": {
    "execution": {
     "iopub.execute_input": "2024-08-20T21:17:08.554026Z",
     "iopub.status.busy": "2024-08-20T21:17:08.553114Z",
     "iopub.status.idle": "2024-08-20T21:17:11.669742Z",
     "shell.execute_reply": "2024-08-20T21:17:11.665766Z",
     "shell.execute_reply.started": "2024-08-20T21:17:08.553979Z"
    },
    "tags": []
   },
   "outputs": [],
   "source": [
    "# convertendo o multiplicador de tarifa de string para decimal (p/manter a precisao):\n",
    "df_trafego['multiplicador_de_tarifa'] = df_trafego['multiplicador_de_tarifa'].apply(lambda x: x.replace(',','.') if type(x) == str else x)\n",
    "df_trafego['multiplicador_de_tarifa'] = df_trafego['multiplicador_de_tarifa'].apply(Decimal)"
   ]
  },
  {
   "cell_type": "code",
   "execution_count": 77,
   "id": "697d05b6-6346-4a0e-a2c5-2cfd71ccd016",
   "metadata": {
    "execution": {
     "iopub.execute_input": "2024-08-20T21:17:11.675419Z",
     "iopub.status.busy": "2024-08-20T21:17:11.674387Z",
     "iopub.status.idle": "2024-08-20T21:17:12.718440Z",
     "shell.execute_reply": "2024-08-20T21:17:12.716520Z",
     "shell.execute_reply.started": "2024-08-20T21:17:11.675361Z"
    },
    "tags": []
   },
   "outputs": [],
   "source": [
    "# O tipo de tráfego ora está em maisúcula, ora em minúscula.\n",
    "# Colocando tudo p/maiúscula\n",
    "df_trafego['tipo_de_veiculo'] = df_trafego['tipo_de_veiculo'].str.upper()"
   ]
  },
  {
   "cell_type": "code",
   "execution_count": 78,
   "id": "b91a6a8d-2fa9-4c7e-8e1a-68097e4eeb46",
   "metadata": {
    "execution": {
     "iopub.execute_input": "2024-08-20T21:17:12.720501Z",
     "iopub.status.busy": "2024-08-20T21:17:12.720094Z",
     "iopub.status.idle": "2024-08-20T21:17:13.745137Z",
     "shell.execute_reply": "2024-08-20T21:17:13.743541Z",
     "shell.execute_reply.started": "2024-08-20T21:17:12.720460Z"
    },
    "tags": []
   },
   "outputs": [],
   "source": [
    "# algumas concessionárias estão ora em maiúsculas ora em minúsculas\n",
    "# colocando tudo para maiúscula\n",
    "df_trafego['concessionaria'] = df_trafego['concessionaria'].str.upper()"
   ]
  },
  {
   "cell_type": "code",
   "execution_count": 79,
   "id": "21713dd4-7ebd-4409-8deb-494dff59a52c",
   "metadata": {
    "execution": {
     "iopub.execute_input": "2024-08-20T21:17:13.747515Z",
     "iopub.status.busy": "2024-08-20T21:17:13.747049Z",
     "iopub.status.idle": "2024-08-20T21:17:13.767804Z",
     "shell.execute_reply": "2024-08-20T21:17:13.766558Z",
     "shell.execute_reply.started": "2024-08-20T21:17:13.747473Z"
    },
    "tags": []
   },
   "outputs": [
    {
     "name": "stdout",
     "output_type": "stream",
     "text": [
      "<class 'pandas.core.frame.DataFrame'>\n",
      "Index: 3000353 entries, 0 to 2329761\n",
      "Data columns (total 13 columns):\n",
      " #   Column                      Dtype         \n",
      "---  ------                      -----         \n",
      " 0   concessionaria              object        \n",
      " 1   mes_ano                     datetime64[ns]\n",
      " 2   sentido                     object        \n",
      " 3   praca                       object        \n",
      " 4   categoria                   string        \n",
      " 5   tipo_de_veiculo             object        \n",
      " 6   volume_total                int64         \n",
      " 7   multiplicador_de_tarifa     object        \n",
      " 8   volume_veiculo_equivalente  float64       \n",
      " 9   tipo_de_cobranca            object        \n",
      " 10  year                        int64         \n",
      " 11  month                       int64         \n",
      " 12  day                         int64         \n",
      "dtypes: datetime64[ns](1), float64(1), int64(4), object(6), string(1)\n",
      "memory usage: 320.5+ MB\n"
     ]
    }
   ],
   "source": [
    "df_trafego.info()"
   ]
  },
  {
   "cell_type": "code",
   "execution_count": 80,
   "id": "8bf6bfb2-3415-4306-be98-5ffe1dfabb72",
   "metadata": {
    "execution": {
     "iopub.execute_input": "2024-08-20T21:17:13.770286Z",
     "iopub.status.busy": "2024-08-20T21:17:13.769483Z",
     "iopub.status.idle": "2024-08-20T21:17:13.826970Z",
     "shell.execute_reply": "2024-08-20T21:17:13.825734Z",
     "shell.execute_reply.started": "2024-08-20T21:17:13.770243Z"
    },
    "tags": []
   },
   "outputs": [
    {
     "data": {
      "text/plain": [
       "array([2010, 2011, 2012, 2013, 2014, 2015, 2016, 2017, 2018, 2019, 2020,\n",
       "       2021, 2022, 2023, 2024])"
      ]
     },
     "execution_count": 80,
     "metadata": {},
     "output_type": "execute_result"
    }
   ],
   "source": [
    "df_trafego['year'].unique()"
   ]
  },
  {
   "cell_type": "code",
   "execution_count": 81,
   "id": "923b6979-a809-448d-8a28-b79546e40f59",
   "metadata": {
    "execution": {
     "iopub.execute_input": "2024-08-20T21:17:13.846342Z",
     "iopub.status.busy": "2024-08-20T21:17:13.829008Z",
     "iopub.status.idle": "2024-08-20T21:17:14.744075Z",
     "shell.execute_reply": "2024-08-20T21:17:14.742538Z",
     "shell.execute_reply.started": "2024-08-20T21:17:13.846262Z"
    },
    "tags": []
   },
   "outputs": [
    {
     "data": {
      "text/plain": [
       "array([1, 2, 3, 4, 5, 6])"
      ]
     },
     "execution_count": 81,
     "metadata": {},
     "output_type": "execute_result"
    }
   ],
   "source": [
    "df_trafego.query(\"year == 2024\")['month'].unique()"
   ]
  },
  {
   "cell_type": "markdown",
   "id": "a051f403-674a-48e9-b2b1-56ea297d48a3",
   "metadata": {},
   "source": [
    "# Criando coluna desambiguando categorias comercial x passeio"
   ]
  },
  {
   "cell_type": "code",
   "execution_count": 82,
   "id": "cf5a5255-4914-47f2-8033-6724d83ef71b",
   "metadata": {
    "execution": {
     "iopub.execute_input": "2024-08-20T21:17:14.749322Z",
     "iopub.status.busy": "2024-08-20T21:17:14.748482Z",
     "iopub.status.idle": "2024-08-20T21:17:15.012416Z",
     "shell.execute_reply": "2024-08-20T21:17:15.011066Z",
     "shell.execute_reply.started": "2024-08-20T21:17:14.749276Z"
    },
    "tags": []
   },
   "outputs": [
    {
     "data": {
      "text/plain": [
       "array(['PASSEIO', 'COMERCIAL', 'MOTO', 'VEÍCULO PEQUENO'], dtype=object)"
      ]
     },
     "execution_count": 82,
     "metadata": {},
     "output_type": "execute_result"
    }
   ],
   "source": [
    "df_trafego['tipo_de_veiculo'].unique()"
   ]
  },
  {
   "cell_type": "code",
   "execution_count": 83,
   "id": "f490e0ed-b6b8-4e97-b659-39d32cf578ae",
   "metadata": {
    "execution": {
     "iopub.execute_input": "2024-08-20T21:17:15.015056Z",
     "iopub.status.busy": "2024-08-20T21:17:15.014249Z",
     "iopub.status.idle": "2024-08-20T21:17:15.820922Z",
     "shell.execute_reply": "2024-08-20T21:17:15.819499Z",
     "shell.execute_reply.started": "2024-08-20T21:17:15.015010Z"
    },
    "tags": []
   },
   "outputs": [],
   "source": [
    "df_trafego[\"TIPO_TRAFEGO\"] = df_trafego['tipo_de_veiculo'].apply(lambda x: x if x == \"COMERCIAL\" else \"PASSEIO\")"
   ]
  },
  {
   "cell_type": "code",
   "execution_count": 84,
   "id": "e237a2f8-7d4b-468f-9bf3-56e4af37fcbd",
   "metadata": {
    "execution": {
     "iopub.execute_input": "2024-08-20T21:17:15.823402Z",
     "iopub.status.busy": "2024-08-20T21:17:15.822732Z",
     "iopub.status.idle": "2024-08-20T21:17:16.097705Z",
     "shell.execute_reply": "2024-08-20T21:17:16.096458Z",
     "shell.execute_reply.started": "2024-08-20T21:17:15.823346Z"
    },
    "tags": []
   },
   "outputs": [
    {
     "data": {
      "text/plain": [
       "array(['PASSEIO', 'COMERCIAL'], dtype=object)"
      ]
     },
     "execution_count": 84,
     "metadata": {},
     "output_type": "execute_result"
    }
   ],
   "source": [
    "df_trafego[\"TIPO_TRAFEGO\"].unique()"
   ]
  },
  {
   "cell_type": "markdown",
   "id": "679e22fb-6baf-465e-ab85-1780da58255d",
   "metadata": {},
   "source": [
    "# Criando colunas com trafégo em Veqs para comercial e passeio"
   ]
  },
  {
   "cell_type": "code",
   "execution_count": 85,
   "id": "b8ff717e-9467-4368-9bfe-da6d7eb99b07",
   "metadata": {
    "execution": {
     "iopub.execute_input": "2024-08-20T21:17:16.099949Z",
     "iopub.status.busy": "2024-08-20T21:17:16.099308Z",
     "iopub.status.idle": "2024-08-20T21:17:16.622968Z",
     "shell.execute_reply": "2024-08-20T21:17:16.621516Z",
     "shell.execute_reply.started": "2024-08-20T21:17:16.099907Z"
    },
    "tags": []
   },
   "outputs": [],
   "source": [
    "df_trafego['VEQS_COMERCIAL'] = np.where(\n",
    "    df_trafego['TIPO_TRAFEGO'] == 'COMERCIAL',\n",
    "    df_trafego['volume_veiculo_equivalente'],\n",
    "    0\n",
    ")\n",
    "df_trafego['VEQS_PASSEIO'] = np.where(\n",
    "    df_trafego['TIPO_TRAFEGO'] == 'PASSEIO',\n",
    "    df_trafego['volume_veiculo_equivalente'],\n",
    "    0\n",
    ")"
   ]
  },
  {
   "cell_type": "markdown",
   "id": "6eb69752-50ea-4ed4-b052-3e93dbde2359",
   "metadata": {},
   "source": [
    "# Criando dataframe com o período inicial e final dos dados por concessionária"
   ]
  },
  {
   "cell_type": "code",
   "execution_count": 86,
   "id": "9c88ae9b-ba1f-4cb8-81f9-7e9af597b71e",
   "metadata": {
    "execution": {
     "iopub.execute_input": "2024-08-20T21:17:16.625464Z",
     "iopub.status.busy": "2024-08-20T21:17:16.624818Z",
     "iopub.status.idle": "2024-08-20T21:17:17.019678Z",
     "shell.execute_reply": "2024-08-20T21:17:17.018062Z",
     "shell.execute_reply.started": "2024-08-20T21:17:16.625417Z"
    },
    "tags": []
   },
   "outputs": [],
   "source": [
    "df_periodos = df_trafego.groupby('concessionaria').agg(\n",
    "    data_inicial=('mes_ano', 'min'),\n",
    "    data_final=('mes_ano', 'max')\n",
    ").reset_index()"
   ]
  },
  {
   "cell_type": "code",
   "execution_count": 98,
   "id": "ff4412de-e2db-46dd-86de-03e350024261",
   "metadata": {
    "execution": {
     "iopub.execute_input": "2024-08-20T21:20:55.912251Z",
     "iopub.status.busy": "2024-08-20T21:20:55.911722Z",
     "iopub.status.idle": "2024-08-20T21:20:55.921516Z",
     "shell.execute_reply": "2024-08-20T21:20:55.920176Z",
     "shell.execute_reply.started": "2024-08-20T21:20:55.912209Z"
    },
    "tags": []
   },
   "outputs": [],
   "source": [
    "df_periodos = df_periodos.sort_values(by='data_inicial', ascending=False)"
   ]
  },
  {
   "cell_type": "markdown",
   "id": "d4a56a76-9175-4683-96dd-3ec24f7c5e17",
   "metadata": {},
   "source": [
    "# Agrupando por ano/concessionaria/tipo de trafego"
   ]
  },
  {
   "cell_type": "code",
   "execution_count": 88,
   "id": "daa64db4-4baf-4def-96eb-754a59be67d8",
   "metadata": {
    "execution": {
     "iopub.execute_input": "2024-08-20T21:17:17.041678Z",
     "iopub.status.busy": "2024-08-20T21:17:17.041271Z",
     "iopub.status.idle": "2024-08-20T21:17:17.051956Z",
     "shell.execute_reply": "2024-08-20T21:17:17.050598Z",
     "shell.execute_reply.started": "2024-08-20T21:17:17.041637Z"
    },
    "tags": []
   },
   "outputs": [
    {
     "data": {
      "text/plain": [
       "Index(['concessionaria', 'mes_ano', 'sentido', 'praca', 'categoria',\n",
       "       'tipo_de_veiculo', 'volume_total', 'multiplicador_de_tarifa',\n",
       "       'volume_veiculo_equivalente', 'tipo_de_cobranca', 'year', 'month',\n",
       "       'day', 'TIPO_TRAFEGO', 'VEQS_COMERCIAL', 'VEQS_PASSEIO'],\n",
       "      dtype='object')"
      ]
     },
     "execution_count": 88,
     "metadata": {},
     "output_type": "execute_result"
    }
   ],
   "source": [
    "df_trafego.columns"
   ]
  },
  {
   "cell_type": "code",
   "execution_count": 89,
   "id": "d50674a2-5e78-4c74-b726-dcb92013bdb0",
   "metadata": {
    "execution": {
     "iopub.execute_input": "2024-08-20T21:17:17.054855Z",
     "iopub.status.busy": "2024-08-20T21:17:17.053950Z",
     "iopub.status.idle": "2024-08-20T21:17:17.060988Z",
     "shell.execute_reply": "2024-08-20T21:17:17.059356Z",
     "shell.execute_reply.started": "2024-08-20T21:17:17.054810Z"
    },
    "tags": []
   },
   "outputs": [],
   "source": [
    "cols_veqs = ['volume_veiculo_equivalente','VEQS_COMERCIAL','VEQS_PASSEIO']"
   ]
  },
  {
   "cell_type": "code",
   "execution_count": 90,
   "id": "5bc113c9-f87f-4b65-a7c4-5006d68589a2",
   "metadata": {
    "execution": {
     "iopub.execute_input": "2024-08-20T21:17:17.064848Z",
     "iopub.status.busy": "2024-08-20T21:17:17.062705Z",
     "iopub.status.idle": "2024-08-20T21:17:19.211009Z",
     "shell.execute_reply": "2024-08-20T21:17:19.209697Z",
     "shell.execute_reply.started": "2024-08-20T21:17:17.064790Z"
    },
    "tags": []
   },
   "outputs": [],
   "source": [
    "dict_veqs = {}\n",
    "for col in cols_veqs:\n",
    "    dict_veqs[col] = df_trafego.pivot_table(\n",
    "        index='concessionaria',\n",
    "        columns='year',\n",
    "        values=col,\n",
    "        aggfunc='sum'\n",
    "        ) "
   ]
  },
  {
   "cell_type": "markdown",
   "id": "9ccb98c0-7421-45f3-836b-a72d778b90f8",
   "metadata": {
    "tags": []
   },
   "source": [
    "# TO-DO: CAGR"
   ]
  },
  {
   "cell_type": "code",
   "execution_count": 109,
   "id": "47a27508-6c05-4568-b3d1-b16cd201cc97",
   "metadata": {
    "execution": {
     "iopub.execute_input": "2024-08-20T21:27:47.817205Z",
     "iopub.status.busy": "2024-08-20T21:27:47.816728Z",
     "iopub.status.idle": "2024-08-20T21:27:48.123043Z",
     "shell.execute_reply": "2024-08-20T21:27:48.121571Z",
     "shell.execute_reply.started": "2024-08-20T21:27:47.817164Z"
    },
    "tags": []
   },
   "outputs": [],
   "source": [
    "df_CAGRs = pd.DataFrame(index=df_trafego['concessionaria'].unique())"
   ]
  },
  {
   "cell_type": "code",
   "execution_count": null,
   "id": "013422af-9140-4e39-b74e-853f976817b5",
   "metadata": {},
   "outputs": [],
   "source": [
    "df_CAGRs['2010-2023_tot'] =  "
   ]
  },
  {
   "cell_type": "code",
   "execution_count": null,
   "id": "85db5a39-11fa-4a59-96b4-fb50f6b4e541",
   "metadata": {},
   "outputs": [],
   "source": []
  },
  {
   "cell_type": "code",
   "execution_count": 105,
   "id": "114b25fa-83d0-4529-a7d2-f775056f15f5",
   "metadata": {
    "execution": {
     "iopub.execute_input": "2024-08-20T21:26:06.163352Z",
     "iopub.status.busy": "2024-08-20T21:26:06.162271Z",
     "iopub.status.idle": "2024-08-20T21:26:06.171174Z",
     "shell.execute_reply": "2024-08-20T21:26:06.170032Z",
     "shell.execute_reply.started": "2024-08-20T21:26:06.163308Z"
    },
    "tags": []
   },
   "outputs": [],
   "source": [
    "concs_cagr_10_23 = df_periodos[df_periodos['data_inicial'] <= pd.to_datetime('01/01/2010', dayfirst=True)]['concessionaria']"
   ]
  },
  {
   "cell_type": "code",
   "execution_count": 107,
   "id": "b23e9eaf-214e-4048-b074-9767c5651ba5",
   "metadata": {
    "execution": {
     "iopub.execute_input": "2024-08-20T21:27:26.645243Z",
     "iopub.status.busy": "2024-08-20T21:27:26.644756Z",
     "iopub.status.idle": "2024-08-20T21:27:26.679882Z",
     "shell.execute_reply": "2024-08-20T21:27:26.678468Z",
     "shell.execute_reply.started": "2024-08-20T21:27:26.645189Z"
    }
   },
   "outputs": [
    {
     "data": {
      "text/html": [
       "<div>\n",
       "<style scoped>\n",
       "    .dataframe tbody tr th:only-of-type {\n",
       "        vertical-align: middle;\n",
       "    }\n",
       "\n",
       "    .dataframe tbody tr th {\n",
       "        vertical-align: top;\n",
       "    }\n",
       "\n",
       "    .dataframe thead th {\n",
       "        text-align: right;\n",
       "    }\n",
       "</style>\n",
       "<table border=\"1\" class=\"dataframe\">\n",
       "  <thead>\n",
       "    <tr style=\"text-align: right;\">\n",
       "      <th></th>\n",
       "      <th>concessionaria</th>\n",
       "      <th>mes_ano</th>\n",
       "      <th>sentido</th>\n",
       "      <th>praca</th>\n",
       "      <th>categoria</th>\n",
       "      <th>tipo_de_veiculo</th>\n",
       "      <th>volume_total</th>\n",
       "      <th>multiplicador_de_tarifa</th>\n",
       "      <th>volume_veiculo_equivalente</th>\n",
       "      <th>tipo_de_cobranca</th>\n",
       "      <th>year</th>\n",
       "      <th>month</th>\n",
       "      <th>day</th>\n",
       "      <th>TIPO_TRAFEGO</th>\n",
       "      <th>VEQS_COMERCIAL</th>\n",
       "      <th>VEQS_PASSEIO</th>\n",
       "    </tr>\n",
       "  </thead>\n",
       "  <tbody>\n",
       "    <tr>\n",
       "      <th>0</th>\n",
       "      <td>RODOVIA DO AÇO</td>\n",
       "      <td>2010-01-01</td>\n",
       "      <td>Decrescente</td>\n",
       "      <td>Praça 01  BR-393/RJ km 125,00</td>\n",
       "      <td>Categoria 1</td>\n",
       "      <td>PASSEIO</td>\n",
       "      <td>44146</td>\n",
       "      <td>1</td>\n",
       "      <td>44146.0</td>\n",
       "      <td>NaN</td>\n",
       "      <td>2010</td>\n",
       "      <td>1</td>\n",
       "      <td>1</td>\n",
       "      <td>PASSEIO</td>\n",
       "      <td>0.0</td>\n",
       "      <td>44146.0</td>\n",
       "    </tr>\n",
       "    <tr>\n",
       "      <th>1</th>\n",
       "      <td>RODOVIA DO AÇO</td>\n",
       "      <td>2010-01-01</td>\n",
       "      <td>Crescente</td>\n",
       "      <td>Praça 01  BR-393/RJ km 125,00</td>\n",
       "      <td>Categoria 1</td>\n",
       "      <td>PASSEIO</td>\n",
       "      <td>35771</td>\n",
       "      <td>1</td>\n",
       "      <td>35771.0</td>\n",
       "      <td>NaN</td>\n",
       "      <td>2010</td>\n",
       "      <td>1</td>\n",
       "      <td>1</td>\n",
       "      <td>PASSEIO</td>\n",
       "      <td>0.0</td>\n",
       "      <td>35771.0</td>\n",
       "    </tr>\n",
       "    <tr>\n",
       "      <th>2</th>\n",
       "      <td>RODOVIA DO AÇO</td>\n",
       "      <td>2010-02-01</td>\n",
       "      <td>Decrescente</td>\n",
       "      <td>Praça 01  BR-393/RJ km 125,00</td>\n",
       "      <td>Categoria 1</td>\n",
       "      <td>PASSEIO</td>\n",
       "      <td>33455</td>\n",
       "      <td>1</td>\n",
       "      <td>33455.0</td>\n",
       "      <td>NaN</td>\n",
       "      <td>2010</td>\n",
       "      <td>2</td>\n",
       "      <td>1</td>\n",
       "      <td>PASSEIO</td>\n",
       "      <td>0.0</td>\n",
       "      <td>33455.0</td>\n",
       "    </tr>\n",
       "    <tr>\n",
       "      <th>3</th>\n",
       "      <td>RODOVIA DO AÇO</td>\n",
       "      <td>2010-02-01</td>\n",
       "      <td>Crescente</td>\n",
       "      <td>Praça 01  BR-393/RJ km 125,00</td>\n",
       "      <td>Categoria 1</td>\n",
       "      <td>PASSEIO</td>\n",
       "      <td>27109</td>\n",
       "      <td>1</td>\n",
       "      <td>27109.0</td>\n",
       "      <td>NaN</td>\n",
       "      <td>2010</td>\n",
       "      <td>2</td>\n",
       "      <td>1</td>\n",
       "      <td>PASSEIO</td>\n",
       "      <td>0.0</td>\n",
       "      <td>27109.0</td>\n",
       "    </tr>\n",
       "    <tr>\n",
       "      <th>4</th>\n",
       "      <td>RODOVIA DO AÇO</td>\n",
       "      <td>2010-03-01</td>\n",
       "      <td>Decrescente</td>\n",
       "      <td>Praça 01  BR-393/RJ km 125,00</td>\n",
       "      <td>Categoria 1</td>\n",
       "      <td>PASSEIO</td>\n",
       "      <td>31677</td>\n",
       "      <td>1</td>\n",
       "      <td>31677.0</td>\n",
       "      <td>NaN</td>\n",
       "      <td>2010</td>\n",
       "      <td>3</td>\n",
       "      <td>1</td>\n",
       "      <td>PASSEIO</td>\n",
       "      <td>0.0</td>\n",
       "      <td>31677.0</td>\n",
       "    </tr>\n",
       "    <tr>\n",
       "      <th>...</th>\n",
       "      <td>...</td>\n",
       "      <td>...</td>\n",
       "      <td>...</td>\n",
       "      <td>...</td>\n",
       "      <td>...</td>\n",
       "      <td>...</td>\n",
       "      <td>...</td>\n",
       "      <td>...</td>\n",
       "      <td>...</td>\n",
       "      <td>...</td>\n",
       "      <td>...</td>\n",
       "      <td>...</td>\n",
       "      <td>...</td>\n",
       "      <td>...</td>\n",
       "      <td>...</td>\n",
       "      <td>...</td>\n",
       "    </tr>\n",
       "    <tr>\n",
       "      <th>2329757</th>\n",
       "      <td>VIA SUL</td>\n",
       "      <td>2024-05-03</td>\n",
       "      <td>Decrescente</td>\n",
       "      <td>P7-Victor Graeff</td>\n",
       "      <td>2</td>\n",
       "      <td>PASSEIO</td>\n",
       "      <td>5</td>\n",
       "      <td>0.00</td>\n",
       "      <td>0.0</td>\n",
       "      <td>Automática</td>\n",
       "      <td>2024</td>\n",
       "      <td>5</td>\n",
       "      <td>3</td>\n",
       "      <td>PASSEIO</td>\n",
       "      <td>0.0</td>\n",
       "      <td>0.0</td>\n",
       "    </tr>\n",
       "    <tr>\n",
       "      <th>2329758</th>\n",
       "      <td>VIA SUL</td>\n",
       "      <td>2024-05-03</td>\n",
       "      <td>Decrescente</td>\n",
       "      <td>P7-Victor Graeff</td>\n",
       "      <td>2</td>\n",
       "      <td>PASSEIO</td>\n",
       "      <td>220</td>\n",
       "      <td>1.00</td>\n",
       "      <td>220.0</td>\n",
       "      <td>Automática</td>\n",
       "      <td>2024</td>\n",
       "      <td>5</td>\n",
       "      <td>3</td>\n",
       "      <td>PASSEIO</td>\n",
       "      <td>0.0</td>\n",
       "      <td>220.0</td>\n",
       "    </tr>\n",
       "    <tr>\n",
       "      <th>2329759</th>\n",
       "      <td>VIA SUL</td>\n",
       "      <td>2024-05-03</td>\n",
       "      <td>Decrescente</td>\n",
       "      <td>P7-Victor Graeff</td>\n",
       "      <td>2</td>\n",
       "      <td>PASSEIO</td>\n",
       "      <td>74</td>\n",
       "      <td>1.00</td>\n",
       "      <td>74.0</td>\n",
       "      <td>Manual</td>\n",
       "      <td>2024</td>\n",
       "      <td>5</td>\n",
       "      <td>3</td>\n",
       "      <td>PASSEIO</td>\n",
       "      <td>0.0</td>\n",
       "      <td>74.0</td>\n",
       "    </tr>\n",
       "    <tr>\n",
       "      <th>2329760</th>\n",
       "      <td>VIA SUL</td>\n",
       "      <td>2024-05-03</td>\n",
       "      <td>Decrescente</td>\n",
       "      <td>P7-Victor Graeff</td>\n",
       "      <td>3</td>\n",
       "      <td>PASSEIO</td>\n",
       "      <td>3</td>\n",
       "      <td>1.50</td>\n",
       "      <td>4.5</td>\n",
       "      <td>Automática</td>\n",
       "      <td>2024</td>\n",
       "      <td>5</td>\n",
       "      <td>3</td>\n",
       "      <td>PASSEIO</td>\n",
       "      <td>0.0</td>\n",
       "      <td>4.5</td>\n",
       "    </tr>\n",
       "    <tr>\n",
       "      <th>2329761</th>\n",
       "      <td>VIA SUL</td>\n",
       "      <td>2024-05-03</td>\n",
       "      <td>Decrescente</td>\n",
       "      <td>P7-Victor Graeff</td>\n",
       "      <td>4</td>\n",
       "      <td>PASSEIO</td>\n",
       "      <td>2</td>\n",
       "      <td>2.00</td>\n",
       "      <td>4.0</td>\n",
       "      <td>Automática</td>\n",
       "      <td>2024</td>\n",
       "      <td>5</td>\n",
       "      <td>3</td>\n",
       "      <td>PASSEIO</td>\n",
       "      <td>0.0</td>\n",
       "      <td>4.0</td>\n",
       "    </tr>\n",
       "  </tbody>\n",
       "</table>\n",
       "<p>3000353 rows × 16 columns</p>\n",
       "</div>"
      ],
      "text/plain": [
       "         concessionaria    mes_ano      sentido  \\\n",
       "0        RODOVIA DO AÇO 2010-01-01  Decrescente   \n",
       "1        RODOVIA DO AÇO 2010-01-01    Crescente   \n",
       "2        RODOVIA DO AÇO 2010-02-01  Decrescente   \n",
       "3        RODOVIA DO AÇO 2010-02-01    Crescente   \n",
       "4        RODOVIA DO AÇO 2010-03-01  Decrescente   \n",
       "...                 ...        ...          ...   \n",
       "2329757         VIA SUL 2024-05-03  Decrescente   \n",
       "2329758         VIA SUL 2024-05-03  Decrescente   \n",
       "2329759         VIA SUL 2024-05-03  Decrescente   \n",
       "2329760         VIA SUL 2024-05-03  Decrescente   \n",
       "2329761         VIA SUL 2024-05-03  Decrescente   \n",
       "\n",
       "                                 praca    categoria tipo_de_veiculo  \\\n",
       "0        Praça 01  BR-393/RJ km 125,00  Categoria 1         PASSEIO   \n",
       "1        Praça 01  BR-393/RJ km 125,00  Categoria 1         PASSEIO   \n",
       "2        Praça 01  BR-393/RJ km 125,00  Categoria 1         PASSEIO   \n",
       "3        Praça 01  BR-393/RJ km 125,00  Categoria 1         PASSEIO   \n",
       "4        Praça 01  BR-393/RJ km 125,00  Categoria 1         PASSEIO   \n",
       "...                                ...          ...             ...   \n",
       "2329757               P7-Victor Graeff            2         PASSEIO   \n",
       "2329758               P7-Victor Graeff            2         PASSEIO   \n",
       "2329759               P7-Victor Graeff            2         PASSEIO   \n",
       "2329760               P7-Victor Graeff            3         PASSEIO   \n",
       "2329761               P7-Victor Graeff            4         PASSEIO   \n",
       "\n",
       "         volume_total multiplicador_de_tarifa  volume_veiculo_equivalente  \\\n",
       "0               44146                       1                     44146.0   \n",
       "1               35771                       1                     35771.0   \n",
       "2               33455                       1                     33455.0   \n",
       "3               27109                       1                     27109.0   \n",
       "4               31677                       1                     31677.0   \n",
       "...               ...                     ...                         ...   \n",
       "2329757             5                    0.00                         0.0   \n",
       "2329758           220                    1.00                       220.0   \n",
       "2329759            74                    1.00                        74.0   \n",
       "2329760             3                    1.50                         4.5   \n",
       "2329761             2                    2.00                         4.0   \n",
       "\n",
       "        tipo_de_cobranca  year  month  day TIPO_TRAFEGO  VEQS_COMERCIAL  \\\n",
       "0                    NaN  2010      1    1      PASSEIO             0.0   \n",
       "1                    NaN  2010      1    1      PASSEIO             0.0   \n",
       "2                    NaN  2010      2    1      PASSEIO             0.0   \n",
       "3                    NaN  2010      2    1      PASSEIO             0.0   \n",
       "4                    NaN  2010      3    1      PASSEIO             0.0   \n",
       "...                  ...   ...    ...  ...          ...             ...   \n",
       "2329757       Automática  2024      5    3      PASSEIO             0.0   \n",
       "2329758       Automática  2024      5    3      PASSEIO             0.0   \n",
       "2329759           Manual  2024      5    3      PASSEIO             0.0   \n",
       "2329760       Automática  2024      5    3      PASSEIO             0.0   \n",
       "2329761       Automática  2024      5    3      PASSEIO             0.0   \n",
       "\n",
       "         VEQS_PASSEIO  \n",
       "0             44146.0  \n",
       "1             35771.0  \n",
       "2             33455.0  \n",
       "3             27109.0  \n",
       "4             31677.0  \n",
       "...               ...  \n",
       "2329757           0.0  \n",
       "2329758         220.0  \n",
       "2329759          74.0  \n",
       "2329760           4.5  \n",
       "2329761           4.0  \n",
       "\n",
       "[3000353 rows x 16 columns]"
      ]
     },
     "execution_count": 107,
     "metadata": {},
     "output_type": "execute_result"
    }
   ],
   "source": [
    "df_trafego"
   ]
  },
  {
   "cell_type": "markdown",
   "id": "6c90ab55-71f1-4129-ac09-2617c0722e83",
   "metadata": {},
   "source": [
    "# Salvando p/parquet"
   ]
  },
  {
   "cell_type": "code",
   "execution_count": 91,
   "id": "3138fcdf-0e76-4d87-95ad-bd044cefbf8f",
   "metadata": {
    "execution": {
     "iopub.execute_input": "2024-08-20T21:18:04.941308Z",
     "iopub.status.busy": "2024-08-20T21:18:04.940535Z",
     "iopub.status.idle": "2024-08-20T21:18:17.630860Z",
     "shell.execute_reply": "2024-08-20T21:18:17.629581Z",
     "shell.execute_reply.started": "2024-08-20T21:18:04.941266Z"
    },
    "tags": []
   },
   "outputs": [],
   "source": [
    "# dataframe total\n",
    "# df_trafego.to_parquet(os.path.join(path_dados_derivados,'df_trafego.parquet'))\n",
    "df_trafego.to_parquet(path_output /'df_trafego.parquet')"
   ]
  },
  {
   "cell_type": "code",
   "execution_count": 92,
   "id": "dc5e978b-2ed4-4311-92ef-6a9836424ec6",
   "metadata": {
    "execution": {
     "iopub.execute_input": "2024-08-20T21:18:51.747160Z",
     "iopub.status.busy": "2024-08-20T21:18:51.746682Z",
     "iopub.status.idle": "2024-08-20T21:18:51.756904Z",
     "shell.execute_reply": "2024-08-20T21:18:51.755645Z",
     "shell.execute_reply.started": "2024-08-20T21:18:51.747119Z"
    },
    "tags": []
   },
   "outputs": [],
   "source": [
    "# data inicial e final\n",
    "df_periodos.to_parquet(path_output /'df_periodos.parquet')"
   ]
  },
  {
   "cell_type": "code",
   "execution_count": 94,
   "id": "eaf1133f-540b-4ad7-9d5d-a008f1d4ca36",
   "metadata": {
    "execution": {
     "iopub.execute_input": "2024-08-20T21:19:09.847293Z",
     "iopub.status.busy": "2024-08-20T21:19:09.846153Z",
     "iopub.status.idle": "2024-08-20T21:19:09.881367Z",
     "shell.execute_reply": "2024-08-20T21:19:09.880207Z",
     "shell.execute_reply.started": "2024-08-20T21:19:09.847246Z"
    },
    "tags": []
   },
   "outputs": [],
   "source": [
    "# dicionário com os dados de tráfego:\n",
    "for veq in dict_veqs:\n",
    "    dict_veqs[veq].to_parquet(path_output / f'df_{veq}.parquet')"
   ]
  },
  {
   "cell_type": "markdown",
   "id": "3dd5690a-1f36-4de9-ace5-6f90ed976fd2",
   "metadata": {},
   "source": [
    "# Salvando p/Excel"
   ]
  },
  {
   "cell_type": "code",
   "execution_count": 99,
   "id": "5aa80b27-1e5f-46bc-a90d-cf4964847bf0",
   "metadata": {
    "execution": {
     "iopub.execute_input": "2024-08-20T21:20:59.234143Z",
     "iopub.status.busy": "2024-08-20T21:20:59.233659Z",
     "iopub.status.idle": "2024-08-20T21:20:59.360999Z",
     "shell.execute_reply": "2024-08-20T21:20:59.359273Z",
     "shell.execute_reply.started": "2024-08-20T21:20:59.234100Z"
    },
    "tags": []
   },
   "outputs": [],
   "source": [
    "with pd.ExcelWriter(path_output / 'dados_trafego_ANTT.xlsx') as writer:\n",
    "    df_periodos.to_excel(writer, sheet_name=\"periodo_concessionarias\")\n",
    "    for veq in dict_veqs:\n",
    "        dict_veqs[veq].to_excel(writer, sheet_name=f\"{veq}\")"
   ]
  },
  {
   "cell_type": "code",
   "execution_count": null,
   "id": "20a18c87-2f93-4f7b-9005-a7b2d0c60af1",
   "metadata": {},
   "outputs": [],
   "source": []
  },
  {
   "cell_type": "code",
   "execution_count": null,
   "id": "48c968b4-7a54-4a05-b55b-8e4ef9dfbbc8",
   "metadata": {},
   "outputs": [],
   "source": []
  }
 ],
 "metadata": {
  "kernelspec": {
   "display_name": "infra-data",
   "language": "python",
   "name": "infra-data"
  },
  "language_info": {
   "codemirror_mode": {
    "name": "ipython",
    "version": 3
   },
   "file_extension": ".py",
   "mimetype": "text/x-python",
   "name": "python",
   "nbconvert_exporter": "python",
   "pygments_lexer": "ipython3",
   "version": "3.9.16"
  }
 },
 "nbformat": 4,
 "nbformat_minor": 5
}
