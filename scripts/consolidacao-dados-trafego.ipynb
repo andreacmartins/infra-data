{
 "cells": [
  {
   "cell_type": "markdown",
   "id": "7cd4eef4-cce0-440e-b843-22821262126e",
   "metadata": {},
   "source": [
    "# IMPORTS"
   ]
  },
  {
   "cell_type": "code",
   "execution_count": 1,
   "id": "b0bd2558-4df8-4da6-a0fb-e13700764450",
   "metadata": {
    "execution": {
     "iopub.execute_input": "2024-08-23T14:00:32.301184Z",
     "iopub.status.busy": "2024-08-23T14:00:32.299587Z",
     "iopub.status.idle": "2024-08-23T14:00:34.100344Z",
     "shell.execute_reply": "2024-08-23T14:00:34.098867Z",
     "shell.execute_reply.started": "2024-08-23T14:00:32.301128Z"
    },
    "tags": []
   },
   "outputs": [],
   "source": [
    "import pandas as pd\n",
    "import numpy as np\n",
    "import os\n",
    "from decimal import Decimal\n",
    "import pickle\n",
    "from pathlib import Path"
   ]
  },
  {
   "cell_type": "markdown",
   "id": "49a66ef9-139e-4255-b3c1-d6d6460caffe",
   "metadata": {
    "execution": {
     "iopub.execute_input": "2024-08-20T19:55:44.418829Z",
     "iopub.status.busy": "2024-08-20T19:55:44.417516Z",
     "iopub.status.idle": "2024-08-20T19:55:44.424840Z",
     "shell.execute_reply": "2024-08-20T19:55:44.422826Z",
     "shell.execute_reply.started": "2024-08-20T19:55:44.418787Z"
    }
   },
   "source": [
    "# SETUP"
   ]
  },
  {
   "cell_type": "code",
   "execution_count": 2,
   "id": "7eaa031d-d0d4-4d30-b804-cba265e680c3",
   "metadata": {
    "execution": {
     "iopub.execute_input": "2024-08-23T14:00:34.103169Z",
     "iopub.status.busy": "2024-08-23T14:00:34.102489Z",
     "iopub.status.idle": "2024-08-23T14:00:34.111582Z",
     "shell.execute_reply": "2024-08-23T14:00:34.110251Z",
     "shell.execute_reply.started": "2024-08-23T14:00:34.103130Z"
    },
    "tags": []
   },
   "outputs": [],
   "source": [
    "dir_tree_util_path = os.path.join(\"utils\", \"dir_tree.py\")\n",
    "exec(open(dir_tree_util_path).read())"
   ]
  },
  {
   "cell_type": "markdown",
   "id": "5e259d48-4151-4192-a50c-da058d8aaa7e",
   "metadata": {},
   "source": [
    "# INPUTS"
   ]
  },
  {
   "cell_type": "code",
   "execution_count": 3,
   "id": "31307c5f-d5d2-4adc-9fa3-3bbf19cf7121",
   "metadata": {
    "execution": {
     "iopub.execute_input": "2024-08-23T14:00:34.113806Z",
     "iopub.status.busy": "2024-08-23T14:00:34.113454Z",
     "iopub.status.idle": "2024-08-23T14:00:34.120781Z",
     "shell.execute_reply": "2024-08-23T14:00:34.119317Z",
     "shell.execute_reply.started": "2024-08-23T14:00:34.113770Z"
    },
    "tags": []
   },
   "outputs": [],
   "source": [
    "# Paths\n",
    "path_input = PROJECT_DIRS[\"DADOS_VEQ_ANTT_DIR\"]\n",
    "path_output = PROJECT_DIRS[\"DADOS_DERIVADOS_DIR\"]"
   ]
  },
  {
   "cell_type": "code",
   "execution_count": 4,
   "id": "79a367f1-c05e-47ae-81dc-64bf313cbbce",
   "metadata": {
    "execution": {
     "iopub.execute_input": "2024-08-23T14:00:34.772382Z",
     "iopub.status.busy": "2024-08-23T14:00:34.771773Z",
     "iopub.status.idle": "2024-08-23T14:00:34.779581Z",
     "shell.execute_reply": "2024-08-23T14:00:34.778388Z",
     "shell.execute_reply.started": "2024-08-23T14:00:34.772330Z"
    },
    "tags": []
   },
   "outputs": [],
   "source": [
    "periodo = list(range(2010, 2025))"
   ]
  },
  {
   "cell_type": "code",
   "execution_count": 5,
   "id": "eaa37619-5ef4-4be5-9976-2b889f782bfd",
   "metadata": {
    "execution": {
     "iopub.execute_input": "2024-08-23T14:00:34.957317Z",
     "iopub.status.busy": "2024-08-23T14:00:34.956570Z",
     "iopub.status.idle": "2024-08-23T14:00:34.963482Z",
     "shell.execute_reply": "2024-08-23T14:00:34.961991Z",
     "shell.execute_reply.started": "2024-08-23T14:00:34.957276Z"
    },
    "tags": []
   },
   "outputs": [],
   "source": [
    "periodos_CAGR = [[2010,2023],[2016,2023]]"
   ]
  },
  {
   "cell_type": "markdown",
   "id": "4227454c-3327-470a-92b4-35b111fe9c27",
   "metadata": {},
   "source": [
    "# Criando um dataframe consolidado com os dados de tráfego"
   ]
  },
  {
   "cell_type": "code",
   "execution_count": 6,
   "id": "3b658ece-7e95-46f0-9af1-dd47eb29a702",
   "metadata": {
    "execution": {
     "iopub.execute_input": "2024-08-23T14:00:35.490309Z",
     "iopub.status.busy": "2024-08-23T14:00:35.489864Z",
     "iopub.status.idle": "2024-08-23T14:00:35.495781Z",
     "shell.execute_reply": "2024-08-23T14:00:35.494613Z",
     "shell.execute_reply.started": "2024-08-23T14:00:35.490272Z"
    },
    "tags": []
   },
   "outputs": [],
   "source": [
    "# arquivos dos dados\n",
    "arquivos = os.listdir(path_input)"
   ]
  },
  {
   "cell_type": "code",
   "execution_count": 7,
   "id": "964fa4c0-5272-4ea5-ba8a-f8fd00296c3c",
   "metadata": {
    "execution": {
     "iopub.execute_input": "2024-08-23T14:00:35.699605Z",
     "iopub.status.busy": "2024-08-23T14:00:35.698837Z",
     "iopub.status.idle": "2024-08-23T14:00:42.814628Z",
     "shell.execute_reply": "2024-08-23T14:00:42.812854Z",
     "shell.execute_reply.started": "2024-08-23T14:00:35.699563Z"
    },
    "tags": []
   },
   "outputs": [],
   "source": [
    "df_trafego = pd.DataFrame()\n",
    "for ano in periodo:\n",
    "    arquivo = [a for a in arquivos if a[:-4].endswith(str(ano))][0]\n",
    "    df_ano = pd.read_csv(os.path.join(path_input, arquivo), sep=';', encoding='cp1252', low_memory=False)\n",
    "    df_trafego = pd.concat([df_trafego,df_ano])"
   ]
  },
  {
   "cell_type": "markdown",
   "id": "77d89742-3655-43ef-935c-b57c5a4456d9",
   "metadata": {},
   "source": [
    "# EDA Inicial"
   ]
  },
  {
   "cell_type": "code",
   "execution_count": 8,
   "id": "ffc68822-6798-45bb-a980-1691d74ad640",
   "metadata": {
    "execution": {
     "iopub.execute_input": "2024-08-23T14:00:42.818054Z",
     "iopub.status.busy": "2024-08-23T14:00:42.817171Z",
     "iopub.status.idle": "2024-08-23T14:00:42.850231Z",
     "shell.execute_reply": "2024-08-23T14:00:42.848848Z",
     "shell.execute_reply.started": "2024-08-23T14:00:42.817997Z"
    },
    "tags": []
   },
   "outputs": [
    {
     "data": {
      "text/html": [
       "<div>\n",
       "<style scoped>\n",
       "    .dataframe tbody tr th:only-of-type {\n",
       "        vertical-align: middle;\n",
       "    }\n",
       "\n",
       "    .dataframe tbody tr th {\n",
       "        vertical-align: top;\n",
       "    }\n",
       "\n",
       "    .dataframe thead th {\n",
       "        text-align: right;\n",
       "    }\n",
       "</style>\n",
       "<table border=\"1\" class=\"dataframe\">\n",
       "  <thead>\n",
       "    <tr style=\"text-align: right;\">\n",
       "      <th></th>\n",
       "      <th>concessionaria</th>\n",
       "      <th>mes_ano</th>\n",
       "      <th>sentido</th>\n",
       "      <th>praca</th>\n",
       "      <th>categoria</th>\n",
       "      <th>tipo_de_veiculo</th>\n",
       "      <th>volume_total</th>\n",
       "      <th>multiplicador_de_tarifa</th>\n",
       "      <th>volume_veiculo_equivalente</th>\n",
       "      <th>tipo_de_cobranca</th>\n",
       "    </tr>\n",
       "  </thead>\n",
       "  <tbody>\n",
       "    <tr>\n",
       "      <th>0</th>\n",
       "      <td>RODOVIA DO AÇO</td>\n",
       "      <td>01-01-2010</td>\n",
       "      <td>Decrescente</td>\n",
       "      <td>Praça 01  BR-393/RJ km 125,00</td>\n",
       "      <td>Categoria 1</td>\n",
       "      <td>Passeio</td>\n",
       "      <td>44146</td>\n",
       "      <td>1</td>\n",
       "      <td>44146</td>\n",
       "      <td>NaN</td>\n",
       "    </tr>\n",
       "    <tr>\n",
       "      <th>1</th>\n",
       "      <td>RODOVIA DO AÇO</td>\n",
       "      <td>01-01-2010</td>\n",
       "      <td>Crescente</td>\n",
       "      <td>Praça 01  BR-393/RJ km 125,00</td>\n",
       "      <td>Categoria 1</td>\n",
       "      <td>Passeio</td>\n",
       "      <td>35771</td>\n",
       "      <td>1</td>\n",
       "      <td>35771</td>\n",
       "      <td>NaN</td>\n",
       "    </tr>\n",
       "    <tr>\n",
       "      <th>2</th>\n",
       "      <td>RODOVIA DO AÇO</td>\n",
       "      <td>01-02-2010</td>\n",
       "      <td>Decrescente</td>\n",
       "      <td>Praça 01  BR-393/RJ km 125,00</td>\n",
       "      <td>Categoria 1</td>\n",
       "      <td>Passeio</td>\n",
       "      <td>33455</td>\n",
       "      <td>1</td>\n",
       "      <td>33455</td>\n",
       "      <td>NaN</td>\n",
       "    </tr>\n",
       "    <tr>\n",
       "      <th>3</th>\n",
       "      <td>RODOVIA DO AÇO</td>\n",
       "      <td>01-02-2010</td>\n",
       "      <td>Crescente</td>\n",
       "      <td>Praça 01  BR-393/RJ km 125,00</td>\n",
       "      <td>Categoria 1</td>\n",
       "      <td>Passeio</td>\n",
       "      <td>27109</td>\n",
       "      <td>1</td>\n",
       "      <td>27109</td>\n",
       "      <td>NaN</td>\n",
       "    </tr>\n",
       "    <tr>\n",
       "      <th>4</th>\n",
       "      <td>RODOVIA DO AÇO</td>\n",
       "      <td>01-03-2010</td>\n",
       "      <td>Decrescente</td>\n",
       "      <td>Praça 01  BR-393/RJ km 125,00</td>\n",
       "      <td>Categoria 1</td>\n",
       "      <td>Passeio</td>\n",
       "      <td>31677</td>\n",
       "      <td>1</td>\n",
       "      <td>31677</td>\n",
       "      <td>NaN</td>\n",
       "    </tr>\n",
       "  </tbody>\n",
       "</table>\n",
       "</div>"
      ],
      "text/plain": [
       "   concessionaria     mes_ano      sentido                          praca  \\\n",
       "0  RODOVIA DO AÇO  01-01-2010  Decrescente  Praça 01  BR-393/RJ km 125,00   \n",
       "1  RODOVIA DO AÇO  01-01-2010    Crescente  Praça 01  BR-393/RJ km 125,00   \n",
       "2  RODOVIA DO AÇO  01-02-2010  Decrescente  Praça 01  BR-393/RJ km 125,00   \n",
       "3  RODOVIA DO AÇO  01-02-2010    Crescente  Praça 01  BR-393/RJ km 125,00   \n",
       "4  RODOVIA DO AÇO  01-03-2010  Decrescente  Praça 01  BR-393/RJ km 125,00   \n",
       "\n",
       "     categoria tipo_de_veiculo volume_total multiplicador_de_tarifa  \\\n",
       "0  Categoria 1         Passeio        44146                       1   \n",
       "1  Categoria 1         Passeio        35771                       1   \n",
       "2  Categoria 1         Passeio        33455                       1   \n",
       "3  Categoria 1         Passeio        27109                       1   \n",
       "4  Categoria 1         Passeio        31677                       1   \n",
       "\n",
       "  volume_veiculo_equivalente tipo_de_cobranca  \n",
       "0                      44146              NaN  \n",
       "1                      35771              NaN  \n",
       "2                      33455              NaN  \n",
       "3                      27109              NaN  \n",
       "4                      31677              NaN  "
      ]
     },
     "execution_count": 8,
     "metadata": {},
     "output_type": "execute_result"
    }
   ],
   "source": [
    "df_trafego.head()"
   ]
  },
  {
   "cell_type": "code",
   "execution_count": 9,
   "id": "375aa237-e0b2-4a31-bcb1-ba4356cc4745",
   "metadata": {
    "execution": {
     "iopub.execute_input": "2024-08-23T14:00:42.852560Z",
     "iopub.status.busy": "2024-08-23T14:00:42.851895Z",
     "iopub.status.idle": "2024-08-23T14:00:42.879048Z",
     "shell.execute_reply": "2024-08-23T14:00:42.878001Z",
     "shell.execute_reply.started": "2024-08-23T14:00:42.852523Z"
    },
    "tags": []
   },
   "outputs": [
    {
     "name": "stdout",
     "output_type": "stream",
     "text": [
      "<class 'pandas.core.frame.DataFrame'>\n",
      "Index: 3000353 entries, 0 to 2329761\n",
      "Data columns (total 10 columns):\n",
      " #   Column                      Dtype \n",
      "---  ------                      ----- \n",
      " 0   concessionaria              object\n",
      " 1   mes_ano                     object\n",
      " 2   sentido                     object\n",
      " 3   praca                       object\n",
      " 4   categoria                   object\n",
      " 5   tipo_de_veiculo             object\n",
      " 6   volume_total                object\n",
      " 7   multiplicador_de_tarifa     object\n",
      " 8   volume_veiculo_equivalente  object\n",
      " 9   tipo_de_cobranca            object\n",
      "dtypes: object(10)\n",
      "memory usage: 251.8+ MB\n"
     ]
    }
   ],
   "source": [
    "df_trafego.info()"
   ]
  },
  {
   "cell_type": "code",
   "execution_count": 10,
   "id": "ded8067c-2413-44c0-88ca-9ff8d15084b1",
   "metadata": {
    "execution": {
     "iopub.execute_input": "2024-08-23T14:00:42.883016Z",
     "iopub.status.busy": "2024-08-23T14:00:42.882683Z",
     "iopub.status.idle": "2024-08-23T14:00:44.015012Z",
     "shell.execute_reply": "2024-08-23T14:00:44.013851Z",
     "shell.execute_reply.started": "2024-08-23T14:00:42.882981Z"
    },
    "tags": []
   },
   "outputs": [
    {
     "name": "stdout",
     "output_type": "stream",
     "text": [
      "concessionaria: 0\n",
      "mes_ano: 0\n",
      "sentido: 0\n",
      "praca: 0\n",
      "categoria: 0\n",
      "tipo_de_veiculo: 0\n",
      "volume_total: 344\n",
      "multiplicador_de_tarifa: 0\n",
      "volume_veiculo_equivalente: 0\n",
      "tipo_de_cobranca: 74780\n"
     ]
    }
   ],
   "source": [
    "for col in df_trafego:\n",
    "    print(f\"{col}: {df_trafego[col].isna().sum()}\")"
   ]
  },
  {
   "cell_type": "code",
   "execution_count": 11,
   "id": "dddf1952-8eca-459f-890b-90ada7d1bc14",
   "metadata": {
    "execution": {
     "iopub.execute_input": "2024-08-23T14:00:44.017766Z",
     "iopub.status.busy": "2024-08-23T14:00:44.017162Z",
     "iopub.status.idle": "2024-08-23T14:00:44.155346Z",
     "shell.execute_reply": "2024-08-23T14:00:44.153856Z",
     "shell.execute_reply.started": "2024-08-23T14:00:44.017720Z"
    },
    "tags": []
   },
   "outputs": [
    {
     "data": {
      "text/html": [
       "<div>\n",
       "<style scoped>\n",
       "    .dataframe tbody tr th:only-of-type {\n",
       "        vertical-align: middle;\n",
       "    }\n",
       "\n",
       "    .dataframe tbody tr th {\n",
       "        vertical-align: top;\n",
       "    }\n",
       "\n",
       "    .dataframe thead th {\n",
       "        text-align: right;\n",
       "    }\n",
       "</style>\n",
       "<table border=\"1\" class=\"dataframe\">\n",
       "  <thead>\n",
       "    <tr style=\"text-align: right;\">\n",
       "      <th></th>\n",
       "      <th>concessionaria</th>\n",
       "      <th>mes_ano</th>\n",
       "      <th>sentido</th>\n",
       "      <th>praca</th>\n",
       "      <th>categoria</th>\n",
       "      <th>tipo_de_veiculo</th>\n",
       "      <th>volume_total</th>\n",
       "      <th>multiplicador_de_tarifa</th>\n",
       "      <th>volume_veiculo_equivalente</th>\n",
       "      <th>tipo_de_cobranca</th>\n",
       "    </tr>\n",
       "  </thead>\n",
       "  <tbody>\n",
       "    <tr>\n",
       "      <th>125282</th>\n",
       "      <td>ECOSUL</td>\n",
       "      <td>01/03/2023</td>\n",
       "      <td>Crescente</td>\n",
       "      <td>Praça 05 BR-392/RS km 111,47</td>\n",
       "      <td>Categoria 9</td>\n",
       "      <td>Moto</td>\n",
       "      <td>NaN</td>\n",
       "      <td>0,50</td>\n",
       "      <td>0,00</td>\n",
       "      <td>N/I</td>\n",
       "    </tr>\n",
       "    <tr>\n",
       "      <th>136696</th>\n",
       "      <td>RIOSP</td>\n",
       "      <td>01/11/2023</td>\n",
       "      <td>Crescente</td>\n",
       "      <td>Praça 08 BR-116/SP km 205,00</td>\n",
       "      <td>Categoria Esp. 08</td>\n",
       "      <td>Comercial</td>\n",
       "      <td>NaN</td>\n",
       "      <td>8,00</td>\n",
       "      <td>0,00</td>\n",
       "      <td>N/I</td>\n",
       "    </tr>\n",
       "    <tr>\n",
       "      <th>125742</th>\n",
       "      <td>ECOSUL</td>\n",
       "      <td>01/08/2023</td>\n",
       "      <td>Crescente</td>\n",
       "      <td>Praça 03 BR-116/RS km 541,20</td>\n",
       "      <td>Categoria 9</td>\n",
       "      <td>Moto</td>\n",
       "      <td>NaN</td>\n",
       "      <td>0,50</td>\n",
       "      <td>0,00</td>\n",
       "      <td>N/I</td>\n",
       "    </tr>\n",
       "    <tr>\n",
       "      <th>134589</th>\n",
       "      <td>RIOSP</td>\n",
       "      <td>01/02/2023</td>\n",
       "      <td>Crescente</td>\n",
       "      <td>Praça 08 BR-116/SP km 205,00</td>\n",
       "      <td>Categoria Esp. 07</td>\n",
       "      <td>Comercial</td>\n",
       "      <td>NaN</td>\n",
       "      <td>7,00</td>\n",
       "      <td>0,00</td>\n",
       "      <td>N/I</td>\n",
       "    </tr>\n",
       "    <tr>\n",
       "      <th>122954</th>\n",
       "      <td>ECOPONTE</td>\n",
       "      <td>01/03/2023</td>\n",
       "      <td>Decrescente</td>\n",
       "      <td>Praça 01 BR-101/RJ km 322,20</td>\n",
       "      <td>Veículo Comercial 10 eixos</td>\n",
       "      <td>Comercial</td>\n",
       "      <td>NaN</td>\n",
       "      <td>10,00</td>\n",
       "      <td>0,00</td>\n",
       "      <td>N/I</td>\n",
       "    </tr>\n",
       "    <tr>\n",
       "      <th>134825</th>\n",
       "      <td>RIOSP</td>\n",
       "      <td>01/03/2023</td>\n",
       "      <td>Crescente</td>\n",
       "      <td>Praça 08 BR-116/SP km 205,00</td>\n",
       "      <td>Categoria Esp. 09</td>\n",
       "      <td>Comercial</td>\n",
       "      <td>NaN</td>\n",
       "      <td>9,00</td>\n",
       "      <td>0,00</td>\n",
       "      <td>N/I</td>\n",
       "    </tr>\n",
       "    <tr>\n",
       "      <th>136692</th>\n",
       "      <td>RIOSP</td>\n",
       "      <td>01/11/2023</td>\n",
       "      <td>Crescente</td>\n",
       "      <td>Praça 08 BR-116/SP km 205,00</td>\n",
       "      <td>Categoria 6</td>\n",
       "      <td>Comercial</td>\n",
       "      <td>NaN</td>\n",
       "      <td>4,00</td>\n",
       "      <td>0,00</td>\n",
       "      <td>N/I</td>\n",
       "    </tr>\n",
       "    <tr>\n",
       "      <th>125702</th>\n",
       "      <td>ECOSUL</td>\n",
       "      <td>01/08/2023</td>\n",
       "      <td>Crescente</td>\n",
       "      <td>Praça 01 BR-116/RS km 430,79</td>\n",
       "      <td>Categoria 9</td>\n",
       "      <td>Moto</td>\n",
       "      <td>NaN</td>\n",
       "      <td>0,50</td>\n",
       "      <td>0,00</td>\n",
       "      <td>N/I</td>\n",
       "    </tr>\n",
       "    <tr>\n",
       "      <th>136223</th>\n",
       "      <td>RIOSP</td>\n",
       "      <td>01/09/2023</td>\n",
       "      <td>Crescente</td>\n",
       "      <td>Praça 08 BR-116/SP km 205,00</td>\n",
       "      <td>Categoria 4</td>\n",
       "      <td>Comercial</td>\n",
       "      <td>NaN</td>\n",
       "      <td>3,00</td>\n",
       "      <td>0,00</td>\n",
       "      <td>N/I</td>\n",
       "    </tr>\n",
       "  </tbody>\n",
       "</table>\n",
       "</div>"
      ],
      "text/plain": [
       "       concessionaria     mes_ano      sentido                         praca  \\\n",
       "125282         ECOSUL  01/03/2023    Crescente  Praça 05 BR-392/RS km 111,47   \n",
       "136696          RIOSP  01/11/2023    Crescente  Praça 08 BR-116/SP km 205,00   \n",
       "125742         ECOSUL  01/08/2023    Crescente  Praça 03 BR-116/RS km 541,20   \n",
       "134589          RIOSP  01/02/2023    Crescente  Praça 08 BR-116/SP km 205,00   \n",
       "122954       ECOPONTE  01/03/2023  Decrescente  Praça 01 BR-101/RJ km 322,20   \n",
       "134825          RIOSP  01/03/2023    Crescente  Praça 08 BR-116/SP km 205,00   \n",
       "136692          RIOSP  01/11/2023    Crescente  Praça 08 BR-116/SP km 205,00   \n",
       "125702         ECOSUL  01/08/2023    Crescente  Praça 01 BR-116/RS km 430,79   \n",
       "136223          RIOSP  01/09/2023    Crescente  Praça 08 BR-116/SP km 205,00   \n",
       "\n",
       "                          categoria tipo_de_veiculo volume_total  \\\n",
       "125282                  Categoria 9            Moto          NaN   \n",
       "136696            Categoria Esp. 08       Comercial          NaN   \n",
       "125742                  Categoria 9            Moto          NaN   \n",
       "134589            Categoria Esp. 07       Comercial          NaN   \n",
       "122954  Veículo Comercial 10 eixos        Comercial          NaN   \n",
       "134825            Categoria Esp. 09       Comercial          NaN   \n",
       "136692                  Categoria 6       Comercial          NaN   \n",
       "125702                  Categoria 9            Moto          NaN   \n",
       "136223                  Categoria 4       Comercial          NaN   \n",
       "\n",
       "       multiplicador_de_tarifa volume_veiculo_equivalente tipo_de_cobranca  \n",
       "125282                    0,50                       0,00              N/I  \n",
       "136696                    8,00                       0,00              N/I  \n",
       "125742                    0,50                       0,00              N/I  \n",
       "134589                    7,00                       0,00              N/I  \n",
       "122954                   10,00                       0,00              N/I  \n",
       "134825                    9,00                       0,00              N/I  \n",
       "136692                    4,00                       0,00              N/I  \n",
       "125702                    0,50                       0,00              N/I  \n",
       "136223                    3,00                       0,00              N/I  "
      ]
     },
     "execution_count": 11,
     "metadata": {},
     "output_type": "execute_result"
    }
   ],
   "source": [
    "df_trafego[df_trafego['volume_total'].isna()].sample(9)"
   ]
  },
  {
   "cell_type": "code",
   "execution_count": 12,
   "id": "c0eb184b-ce91-429c-bc8b-4abac18cf9d2",
   "metadata": {
    "execution": {
     "iopub.execute_input": "2024-08-23T14:00:44.157477Z",
     "iopub.status.busy": "2024-08-23T14:00:44.157101Z",
     "iopub.status.idle": "2024-08-23T14:00:44.274411Z",
     "shell.execute_reply": "2024-08-23T14:00:44.273357Z",
     "shell.execute_reply.started": "2024-08-23T14:00:44.157440Z"
    },
    "tags": []
   },
   "outputs": [
    {
     "data": {
      "text/plain": [
       "array(['0,00'], dtype=object)"
      ]
     },
     "execution_count": 12,
     "metadata": {},
     "output_type": "execute_result"
    }
   ],
   "source": [
    "df_trafego[df_trafego['volume_total'].isna()]['volume_veiculo_equivalente'].unique()"
   ]
  },
  {
   "cell_type": "code",
   "execution_count": 13,
   "id": "b455acf7-a4bf-4af3-b96d-e8fa9b687001",
   "metadata": {
    "execution": {
     "iopub.execute_input": "2024-08-23T14:00:44.276489Z",
     "iopub.status.busy": "2024-08-23T14:00:44.275606Z",
     "iopub.status.idle": "2024-08-23T14:00:45.394430Z",
     "shell.execute_reply": "2024-08-23T14:00:45.393422Z",
     "shell.execute_reply.started": "2024-08-23T14:00:44.276451Z"
    },
    "tags": []
   },
   "outputs": [
    {
     "data": {
      "text/plain": [
       "array(['01', '14', '28', '31', '30', '02', '03', '04', '05', '06', '07',\n",
       "       '08', '09', '10', '11', '12', '13', '15', '16', '17', '18', '19',\n",
       "       '20', '21', '22', '23', '24', '25', '26', '27', '29'], dtype=object)"
      ]
     },
     "execution_count": 13,
     "metadata": {},
     "output_type": "execute_result"
    }
   ],
   "source": [
    "df_trafego['mes_ano'].str[:2].unique()"
   ]
  },
  {
   "cell_type": "code",
   "execution_count": 14,
   "id": "8bd3362a-3ca0-4b08-bec7-8bf7db6a5060",
   "metadata": {
    "execution": {
     "iopub.execute_input": "2024-08-23T14:00:45.396785Z",
     "iopub.status.busy": "2024-08-23T14:00:45.395641Z",
     "iopub.status.idle": "2024-08-23T14:00:46.570585Z",
     "shell.execute_reply": "2024-08-23T14:00:46.567505Z",
     "shell.execute_reply.started": "2024-08-23T14:00:45.396740Z"
    },
    "tags": []
   },
   "outputs": [
    {
     "data": {
      "text/plain": [
       "array(['01', '02', '03', '04', '05', '06', '07', '08', '09', '10', '11',\n",
       "       '12'], dtype=object)"
      ]
     },
     "execution_count": 14,
     "metadata": {},
     "output_type": "execute_result"
    }
   ],
   "source": [
    "df_trafego['mes_ano'].str[3:5].unique()"
   ]
  },
  {
   "cell_type": "code",
   "execution_count": 15,
   "id": "8453ca06-ce7b-47b5-afe4-1dcf7ff131da",
   "metadata": {
    "execution": {
     "iopub.execute_input": "2024-08-23T14:00:46.572967Z",
     "iopub.status.busy": "2024-08-23T14:00:46.572007Z",
     "iopub.status.idle": "2024-08-23T14:00:46.698283Z",
     "shell.execute_reply": "2024-08-23T14:00:46.697280Z",
     "shell.execute_reply.started": "2024-08-23T14:00:46.572909Z"
    },
    "tags": []
   },
   "outputs": [
    {
     "data": {
      "text/plain": [
       "array([nan, 'N/I', 'Manual', 'Automática', 'Mista'], dtype=object)"
      ]
     },
     "execution_count": 15,
     "metadata": {},
     "output_type": "execute_result"
    }
   ],
   "source": [
    "df_trafego['tipo_de_cobranca'].unique()"
   ]
  },
  {
   "cell_type": "code",
   "execution_count": 16,
   "id": "60e95d5f-cf18-4ce0-bea5-a7f2037bd499",
   "metadata": {
    "execution": {
     "iopub.execute_input": "2024-08-23T14:00:46.702941Z",
     "iopub.status.busy": "2024-08-23T14:00:46.702388Z",
     "iopub.status.idle": "2024-08-23T14:00:46.881580Z",
     "shell.execute_reply": "2024-08-23T14:00:46.878829Z",
     "shell.execute_reply.started": "2024-08-23T14:00:46.702904Z"
    },
    "tags": []
   },
   "outputs": [
    {
     "data": {
      "text/plain": [
       "np.True_"
      ]
     },
     "execution_count": 16,
     "metadata": {},
     "output_type": "execute_result"
    }
   ],
   "source": [
    "df_trafego['volume_total'].isna().any()"
   ]
  },
  {
   "cell_type": "code",
   "execution_count": 17,
   "id": "ffb13d6e-a38b-4448-ac2a-18bbc4fb5806",
   "metadata": {
    "execution": {
     "iopub.execute_input": "2024-08-23T14:00:46.885732Z",
     "iopub.status.busy": "2024-08-23T14:00:46.883928Z",
     "iopub.status.idle": "2024-08-23T14:00:47.008805Z",
     "shell.execute_reply": "2024-08-23T14:00:47.007724Z",
     "shell.execute_reply.started": "2024-08-23T14:00:46.885653Z"
    },
    "tags": []
   },
   "outputs": [
    {
     "data": {
      "text/plain": [
       "np.int64(344)"
      ]
     },
     "execution_count": 17,
     "metadata": {},
     "output_type": "execute_result"
    }
   ],
   "source": [
    "df_trafego['volume_total'].isna().sum()"
   ]
  },
  {
   "cell_type": "code",
   "execution_count": 18,
   "id": "f1c1d921-77c0-4909-ab78-8f4be88a7680",
   "metadata": {
    "execution": {
     "iopub.execute_input": "2024-08-23T14:00:47.011089Z",
     "iopub.status.busy": "2024-08-23T14:00:47.010501Z",
     "iopub.status.idle": "2024-08-23T14:00:47.137740Z",
     "shell.execute_reply": "2024-08-23T14:00:47.136242Z",
     "shell.execute_reply.started": "2024-08-23T14:00:47.011050Z"
    },
    "tags": []
   },
   "outputs": [
    {
     "data": {
      "text/plain": [
       "array(['1', '2', '1,5', '3', '4', '5', '6', '0,5', '7', '8', '9', '10',\n",
       "       1.0, 2.0, 1.5, 3.0, 4.0, 5.0, 6.0, 0.5, 7.0, 8.0, 9.0, 10.0,\n",
       "       '2,00', '3,00', '4,00', '5,00', '6,00', '0,50', '1,00', '1,50',\n",
       "       '7,00', '8,00', '9,00', '10,00', '0,00', '11,00', '13,00', '15,00',\n",
       "       '12,00', '14,00', '18,00', '20,00', '16,00', '17,00', '19,00'],\n",
       "      dtype=object)"
      ]
     },
     "execution_count": 18,
     "metadata": {},
     "output_type": "execute_result"
    }
   ],
   "source": [
    "df_trafego['multiplicador_de_tarifa'].unique()"
   ]
  },
  {
   "cell_type": "markdown",
   "id": "3dd3548c-f263-4ffc-9527-5344610ef315",
   "metadata": {},
   "source": [
    "# Tratamento dos dados"
   ]
  },
  {
   "cell_type": "code",
   "execution_count": 19,
   "id": "f051ad20-c663-4a8d-925b-549e436eb4c9",
   "metadata": {
    "execution": {
     "iopub.execute_input": "2024-08-23T14:00:47.140272Z",
     "iopub.status.busy": "2024-08-23T14:00:47.139706Z",
     "iopub.status.idle": "2024-08-23T14:00:51.287347Z",
     "shell.execute_reply": "2024-08-23T14:00:51.285782Z",
     "shell.execute_reply.started": "2024-08-23T14:00:47.140233Z"
    },
    "tags": []
   },
   "outputs": [],
   "source": [
    "# Colunas de ano, mes e dia\n",
    "df_trafego['year'] = df_trafego['mes_ano'].str[-4:].astype('int') \n",
    "df_trafego['month'] = df_trafego['mes_ano'].str[3:5].astype('int')\n",
    "df_trafego['day'] = df_trafego['mes_ano'].str[:2].astype('int') "
   ]
  },
  {
   "cell_type": "code",
   "execution_count": null,
   "id": "67124ec5-e152-49d4-b303-9cbb11927cb3",
   "metadata": {
    "execution": {
     "iopub.execute_input": "2024-08-23T14:00:51.289840Z",
     "iopub.status.busy": "2024-08-23T14:00:51.289162Z"
    },
    "tags": []
   },
   "outputs": [],
   "source": [
    "# Recriando a coluna de mes_ano, agora como datetime ao invés de string. Tem que ser em ingles pq a função do pandas exige\n",
    "df_trafego['mes_ano'] = pd.to_datetime(df_trafego[['year', 'month', 'day']]).dt.date"
   ]
  },
  {
   "cell_type": "code",
   "execution_count": null,
   "id": "5fae9658-dc43-433c-89c9-2395145471de",
   "metadata": {
    "execution": {
     "iopub.execute_input": "2024-08-23T14:00:52.444904Z",
     "iopub.status.busy": "2024-08-23T14:00:52.444332Z",
     "iopub.status.idle": "2024-08-23T14:00:52.693632Z",
     "shell.execute_reply": "2024-08-23T14:00:52.691899Z",
     "shell.execute_reply.started": "2024-08-23T14:00:52.444864Z"
    },
    "tags": []
   },
   "outputs": [],
   "source": [
    "# preenchendo os NaNs, qdo aplicável:\n",
    "df_trafego['volume_total'] = df_trafego['volume_total'].fillna(0) #o volume equivalente é zero sempre que volume_total é zero"
   ]
  },
  {
   "cell_type": "code",
   "execution_count": 22,
   "id": "6c57331f-cb3d-4adc-9d3c-ef37432f4801",
   "metadata": {
    "execution": {
     "iopub.execute_input": "2024-08-23T14:00:52.696699Z",
     "iopub.status.busy": "2024-08-23T14:00:52.695849Z",
     "iopub.status.idle": "2024-08-23T14:00:58.171314Z",
     "shell.execute_reply": "2024-08-23T14:00:58.170380Z",
     "shell.execute_reply.started": "2024-08-23T14:00:52.696642Z"
    },
    "tags": []
   },
   "outputs": [],
   "source": [
    "# Convertendo os tipos de dados para numéricos:\n",
    "df_trafego['volume_total'] = df_trafego['volume_total'].apply(lambda x: x.replace(',','.') if type(x) == str else x)\n",
    "df_trafego['volume_total'] = df_trafego['volume_total'].apply(lambda x: x.split('.')[0] if type(x) == str else x)\n",
    "df_trafego['volume_total'] = df_trafego['volume_total'].astype('int')\n",
    "\n",
    "df_trafego['volume_veiculo_equivalente'] = df_trafego['volume_veiculo_equivalente'].apply(lambda x: x.replace(',','.') if type(x) == str else x)\n",
    "df_trafego['volume_veiculo_equivalente'] = df_trafego['volume_veiculo_equivalente'].astype('float') # existe multiplicador de tarifa fracionário"
   ]
  },
  {
   "cell_type": "code",
   "execution_count": 23,
   "id": "20231a8a-8ab4-41b5-bd87-db645b34cfd5",
   "metadata": {
    "execution": {
     "iopub.execute_input": "2024-08-23T14:00:58.173482Z",
     "iopub.status.busy": "2024-08-23T14:00:58.173030Z",
     "iopub.status.idle": "2024-08-23T14:00:58.301634Z",
     "shell.execute_reply": "2024-08-23T14:00:58.299067Z",
     "shell.execute_reply.started": "2024-08-23T14:00:58.173444Z"
    },
    "tags": []
   },
   "outputs": [],
   "source": [
    "# convertendo categoria para string (do contrário não salva para parquet):\n",
    "df_trafego['categoria'] = df_trafego['categoria'].astype('string')"
   ]
  },
  {
   "cell_type": "code",
   "execution_count": 24,
   "id": "a570f4b8-a68e-47a9-8d5c-ec56f6e8086c",
   "metadata": {
    "execution": {
     "iopub.execute_input": "2024-08-23T14:00:58.304766Z",
     "iopub.status.busy": "2024-08-23T14:00:58.304059Z",
     "iopub.status.idle": "2024-08-23T14:01:01.451783Z",
     "shell.execute_reply": "2024-08-23T14:01:01.450586Z",
     "shell.execute_reply.started": "2024-08-23T14:00:58.304709Z"
    },
    "tags": []
   },
   "outputs": [],
   "source": [
    "# convertendo o multiplicador de tarifa de string para decimal (p/manter a precisao):\n",
    "df_trafego['multiplicador_de_tarifa'] = df_trafego['multiplicador_de_tarifa'].apply(lambda x: x.replace(',','.') if type(x) == str else x)\n",
    "df_trafego['multiplicador_de_tarifa'] = df_trafego['multiplicador_de_tarifa'].apply(Decimal)"
   ]
  },
  {
   "cell_type": "code",
   "execution_count": 25,
   "id": "697d05b6-6346-4a0e-a2c5-2cfd71ccd016",
   "metadata": {
    "execution": {
     "iopub.execute_input": "2024-08-23T14:01:01.454310Z",
     "iopub.status.busy": "2024-08-23T14:01:01.453752Z",
     "iopub.status.idle": "2024-08-23T14:01:02.368293Z",
     "shell.execute_reply": "2024-08-23T14:01:02.366873Z",
     "shell.execute_reply.started": "2024-08-23T14:01:01.454272Z"
    },
    "tags": []
   },
   "outputs": [],
   "source": [
    "# O tipo de tráfego ora está em maisúcula, ora em minúscula.\n",
    "# Colocando tudo p/maiúscula\n",
    "df_trafego['tipo_de_veiculo'] = df_trafego['tipo_de_veiculo'].str.upper()"
   ]
  },
  {
   "cell_type": "code",
   "execution_count": 26,
   "id": "b91a6a8d-2fa9-4c7e-8e1a-68097e4eeb46",
   "metadata": {
    "execution": {
     "iopub.execute_input": "2024-08-23T14:01:02.370996Z",
     "iopub.status.busy": "2024-08-23T14:01:02.370498Z",
     "iopub.status.idle": "2024-08-23T14:01:03.334965Z",
     "shell.execute_reply": "2024-08-23T14:01:03.333567Z",
     "shell.execute_reply.started": "2024-08-23T14:01:02.370958Z"
    },
    "tags": []
   },
   "outputs": [],
   "source": [
    "# algumas concessionárias estão ora em maiúsculas ora em minúsculas\n",
    "# colocando tudo para maiúscula\n",
    "df_trafego['concessionaria'] = df_trafego['concessionaria'].str.upper()"
   ]
  },
  {
   "cell_type": "code",
   "execution_count": 27,
   "id": "21713dd4-7ebd-4409-8deb-494dff59a52c",
   "metadata": {
    "execution": {
     "iopub.execute_input": "2024-08-23T14:01:03.339450Z",
     "iopub.status.busy": "2024-08-23T14:01:03.338034Z",
     "iopub.status.idle": "2024-08-23T14:01:03.354459Z",
     "shell.execute_reply": "2024-08-23T14:01:03.352962Z",
     "shell.execute_reply.started": "2024-08-23T14:01:03.339396Z"
    },
    "tags": []
   },
   "outputs": [
    {
     "name": "stdout",
     "output_type": "stream",
     "text": [
      "<class 'pandas.core.frame.DataFrame'>\n",
      "Index: 3000353 entries, 0 to 2329761\n",
      "Data columns (total 13 columns):\n",
      " #   Column                      Dtype  \n",
      "---  ------                      -----  \n",
      " 0   concessionaria              object \n",
      " 1   mes_ano                     object \n",
      " 2   sentido                     object \n",
      " 3   praca                       object \n",
      " 4   categoria                   string \n",
      " 5   tipo_de_veiculo             object \n",
      " 6   volume_total                int64  \n",
      " 7   multiplicador_de_tarifa     object \n",
      " 8   volume_veiculo_equivalente  float64\n",
      " 9   tipo_de_cobranca            object \n",
      " 10  year                        int64  \n",
      " 11  month                       int64  \n",
      " 12  day                         int64  \n",
      "dtypes: float64(1), int64(4), object(7), string(1)\n",
      "memory usage: 320.5+ MB\n"
     ]
    }
   ],
   "source": [
    "df_trafego.info()"
   ]
  },
  {
   "cell_type": "code",
   "execution_count": 28,
   "id": "8bf6bfb2-3415-4306-be98-5ffe1dfabb72",
   "metadata": {
    "execution": {
     "iopub.execute_input": "2024-08-23T14:01:03.357318Z",
     "iopub.status.busy": "2024-08-23T14:01:03.356407Z",
     "iopub.status.idle": "2024-08-23T14:01:03.386160Z",
     "shell.execute_reply": "2024-08-23T14:01:03.384664Z",
     "shell.execute_reply.started": "2024-08-23T14:01:03.357278Z"
    },
    "tags": []
   },
   "outputs": [
    {
     "data": {
      "text/plain": [
       "array([2010, 2011, 2012, 2013, 2014, 2015, 2016, 2017, 2018, 2019, 2020,\n",
       "       2021, 2022, 2023, 2024])"
      ]
     },
     "execution_count": 28,
     "metadata": {},
     "output_type": "execute_result"
    }
   ],
   "source": [
    "df_trafego['year'].unique()"
   ]
  },
  {
   "cell_type": "code",
   "execution_count": 29,
   "id": "923b6979-a809-448d-8a28-b79546e40f59",
   "metadata": {
    "execution": {
     "iopub.execute_input": "2024-08-23T14:01:03.388638Z",
     "iopub.status.busy": "2024-08-23T14:01:03.388143Z",
     "iopub.status.idle": "2024-08-23T14:01:04.163420Z",
     "shell.execute_reply": "2024-08-23T14:01:04.162505Z",
     "shell.execute_reply.started": "2024-08-23T14:01:03.388602Z"
    },
    "tags": []
   },
   "outputs": [
    {
     "data": {
      "text/plain": [
       "array([1, 2, 3, 4, 5, 6])"
      ]
     },
     "execution_count": 29,
     "metadata": {},
     "output_type": "execute_result"
    }
   ],
   "source": [
    "df_trafego.query(\"year == 2024\")['month'].unique()"
   ]
  },
  {
   "cell_type": "markdown",
   "id": "a051f403-674a-48e9-b2b1-56ea297d48a3",
   "metadata": {},
   "source": [
    "## Criando coluna desambiguando categorias comercial x passeio"
   ]
  },
  {
   "cell_type": "code",
   "execution_count": 30,
   "id": "cf5a5255-4914-47f2-8033-6724d83ef71b",
   "metadata": {
    "execution": {
     "iopub.execute_input": "2024-08-23T14:01:04.166830Z",
     "iopub.status.busy": "2024-08-23T14:01:04.165533Z",
     "iopub.status.idle": "2024-08-23T14:01:04.381773Z",
     "shell.execute_reply": "2024-08-23T14:01:04.380617Z",
     "shell.execute_reply.started": "2024-08-23T14:01:04.166790Z"
    },
    "tags": []
   },
   "outputs": [
    {
     "data": {
      "text/plain": [
       "array(['PASSEIO', 'COMERCIAL', 'MOTO', 'VEÍCULO PEQUENO'], dtype=object)"
      ]
     },
     "execution_count": 30,
     "metadata": {},
     "output_type": "execute_result"
    }
   ],
   "source": [
    "df_trafego['tipo_de_veiculo'].unique()"
   ]
  },
  {
   "cell_type": "code",
   "execution_count": 31,
   "id": "f490e0ed-b6b8-4e97-b659-39d32cf578ae",
   "metadata": {
    "execution": {
     "iopub.execute_input": "2024-08-23T14:01:04.384800Z",
     "iopub.status.busy": "2024-08-23T14:01:04.383448Z",
     "iopub.status.idle": "2024-08-23T14:01:05.116221Z",
     "shell.execute_reply": "2024-08-23T14:01:05.114443Z",
     "shell.execute_reply.started": "2024-08-23T14:01:04.384758Z"
    },
    "tags": []
   },
   "outputs": [],
   "source": [
    "df_trafego[\"TIPO_TRAFEGO\"] = df_trafego['tipo_de_veiculo'].apply(lambda x: x if x == \"COMERCIAL\" else \"PASSEIO\")"
   ]
  },
  {
   "cell_type": "code",
   "execution_count": 32,
   "id": "e237a2f8-7d4b-468f-9bf3-56e4af37fcbd",
   "metadata": {
    "execution": {
     "iopub.execute_input": "2024-08-23T14:01:05.118698Z",
     "iopub.status.busy": "2024-08-23T14:01:05.118240Z",
     "iopub.status.idle": "2024-08-23T14:01:05.359448Z",
     "shell.execute_reply": "2024-08-23T14:01:05.358395Z",
     "shell.execute_reply.started": "2024-08-23T14:01:05.118660Z"
    },
    "tags": []
   },
   "outputs": [
    {
     "data": {
      "text/plain": [
       "array(['PASSEIO', 'COMERCIAL'], dtype=object)"
      ]
     },
     "execution_count": 32,
     "metadata": {},
     "output_type": "execute_result"
    }
   ],
   "source": [
    "df_trafego[\"TIPO_TRAFEGO\"].unique()"
   ]
  },
  {
   "cell_type": "markdown",
   "id": "679e22fb-6baf-465e-ab85-1780da58255d",
   "metadata": {},
   "source": [
    "## Criando colunas com trafégo em Veqs para comercial e passeio"
   ]
  },
  {
   "cell_type": "code",
   "execution_count": 33,
   "id": "b8ff717e-9467-4368-9bfe-da6d7eb99b07",
   "metadata": {
    "execution": {
     "iopub.execute_input": "2024-08-23T14:01:05.361085Z",
     "iopub.status.busy": "2024-08-23T14:01:05.360752Z",
     "iopub.status.idle": "2024-08-23T14:01:07.767211Z",
     "shell.execute_reply": "2024-08-23T14:01:07.766112Z",
     "shell.execute_reply.started": "2024-08-23T14:01:05.361050Z"
    },
    "tags": []
   },
   "outputs": [],
   "source": [
    "df_trafego = df_trafego.rename(columns={'volume_veiculo_equivalente':'VEQS_TOTAL'})\n",
    "df_trafego['VEQS_COMERCIAL'] = np.where(\n",
    "    df_trafego['TIPO_TRAFEGO'] == 'COMERCIAL',\n",
    "    df_trafego['VEQS_TOTAL'],\n",
    "    0\n",
    ")\n",
    "df_trafego['VEQS_PASSEIO'] = np.where(\n",
    "    df_trafego['TIPO_TRAFEGO'] == 'PASSEIO',\n",
    "    df_trafego['VEQS_TOTAL'],\n",
    "    0\n",
    ")"
   ]
  },
  {
   "cell_type": "markdown",
   "id": "6eb69752-50ea-4ed4-b052-3e93dbde2359",
   "metadata": {},
   "source": [
    "# Criando dataframe com o período inicial e final dos dados por concessionária"
   ]
  },
  {
   "cell_type": "code",
   "execution_count": 34,
   "id": "9c88ae9b-ba1f-4cb8-81f9-7e9af597b71e",
   "metadata": {
    "execution": {
     "iopub.execute_input": "2024-08-23T14:01:07.774258Z",
     "iopub.status.busy": "2024-08-23T14:01:07.772865Z",
     "iopub.status.idle": "2024-08-23T14:01:08.609536Z",
     "shell.execute_reply": "2024-08-23T14:01:08.608419Z",
     "shell.execute_reply.started": "2024-08-23T14:01:07.774218Z"
    },
    "tags": []
   },
   "outputs": [],
   "source": [
    "df_periodos = df_trafego.groupby('concessionaria').agg(\n",
    "    data_inicial=('mes_ano', 'min'),\n",
    "    data_final=('mes_ano', 'max')\n",
    ").reset_index()\n",
    "df_periodos['data_inicial'] = pd.to_datetime(df_periodos['data_inicial']).dt.date\n",
    "df_periodos['data_final'] = pd.to_datetime(df_periodos['data_final']).dt.date"
   ]
  },
  {
   "cell_type": "code",
   "execution_count": 47,
   "id": "631fee43-44f1-4af0-bef4-269bd9f261c3",
   "metadata": {
    "execution": {
     "iopub.execute_input": "2024-08-23T14:14:51.387954Z",
     "iopub.status.busy": "2024-08-23T14:14:51.387180Z",
     "iopub.status.idle": "2024-08-23T14:14:51.395284Z",
     "shell.execute_reply": "2024-08-23T14:14:51.394266Z",
     "shell.execute_reply.started": "2024-08-23T14:14:51.387914Z"
    },
    "tags": []
   },
   "outputs": [],
   "source": [
    "df_periodos.index = df_periodos['concessionaria']\n",
    "df_periodos = df_periodos.drop(columns=['concessionaria'])"
   ]
  },
  {
   "cell_type": "code",
   "execution_count": 35,
   "id": "ff4412de-e2db-46dd-86de-03e350024261",
   "metadata": {
    "execution": {
     "iopub.execute_input": "2024-08-23T14:01:08.611746Z",
     "iopub.status.busy": "2024-08-23T14:01:08.611143Z",
     "iopub.status.idle": "2024-08-23T14:01:08.618008Z",
     "shell.execute_reply": "2024-08-23T14:01:08.616948Z",
     "shell.execute_reply.started": "2024-08-23T14:01:08.611709Z"
    },
    "tags": []
   },
   "outputs": [],
   "source": [
    "df_periodos = df_periodos.sort_values(by='data_inicial', ascending=False)"
   ]
  },
  {
   "cell_type": "markdown",
   "id": "d4a56a76-9175-4683-96dd-3ec24f7c5e17",
   "metadata": {},
   "source": [
    "# Criando dataframes agrupando VEQs por ano/concessionaria/tipo de trafego"
   ]
  },
  {
   "cell_type": "code",
   "execution_count": 36,
   "id": "daa64db4-4baf-4def-96eb-754a59be67d8",
   "metadata": {
    "execution": {
     "iopub.execute_input": "2024-08-23T14:01:08.620239Z",
     "iopub.status.busy": "2024-08-23T14:01:08.619687Z",
     "iopub.status.idle": "2024-08-23T14:01:08.632057Z",
     "shell.execute_reply": "2024-08-23T14:01:08.631035Z",
     "shell.execute_reply.started": "2024-08-23T14:01:08.620203Z"
    },
    "tags": []
   },
   "outputs": [
    {
     "data": {
      "text/plain": [
       "Index(['concessionaria', 'mes_ano', 'sentido', 'praca', 'categoria',\n",
       "       'tipo_de_veiculo', 'volume_total', 'multiplicador_de_tarifa',\n",
       "       'VEQS_TOTAL', 'tipo_de_cobranca', 'year', 'month', 'day',\n",
       "       'TIPO_TRAFEGO', 'VEQS_COMERCIAL', 'VEQS_PASSEIO'],\n",
       "      dtype='object')"
      ]
     },
     "execution_count": 36,
     "metadata": {},
     "output_type": "execute_result"
    }
   ],
   "source": [
    "df_trafego.columns"
   ]
  },
  {
   "cell_type": "code",
   "execution_count": 37,
   "id": "d50674a2-5e78-4c74-b726-dcb92013bdb0",
   "metadata": {
    "execution": {
     "iopub.execute_input": "2024-08-23T14:01:08.633709Z",
     "iopub.status.busy": "2024-08-23T14:01:08.633366Z",
     "iopub.status.idle": "2024-08-23T14:01:08.640260Z",
     "shell.execute_reply": "2024-08-23T14:01:08.638825Z",
     "shell.execute_reply.started": "2024-08-23T14:01:08.633674Z"
    },
    "tags": []
   },
   "outputs": [],
   "source": [
    "cols_veqs = ['VEQS_TOTAL','VEQS_COMERCIAL','VEQS_PASSEIO']"
   ]
  },
  {
   "cell_type": "code",
   "execution_count": 38,
   "id": "5bc113c9-f87f-4b65-a7c4-5006d68589a2",
   "metadata": {
    "execution": {
     "iopub.execute_input": "2024-08-23T14:01:08.642175Z",
     "iopub.status.busy": "2024-08-23T14:01:08.641641Z",
     "iopub.status.idle": "2024-08-23T14:01:10.091583Z",
     "shell.execute_reply": "2024-08-23T14:01:10.090592Z",
     "shell.execute_reply.started": "2024-08-23T14:01:08.642140Z"
    },
    "tags": []
   },
   "outputs": [],
   "source": [
    "dict_veqs = {}\n",
    "for col in cols_veqs:\n",
    "    dict_veqs[col] = df_trafego.pivot_table(\n",
    "        index='concessionaria',\n",
    "        columns='year',\n",
    "        values=col,\n",
    "        aggfunc='sum'\n",
    "        )"
   ]
  },
  {
   "cell_type": "markdown",
   "id": "9ccb98c0-7421-45f3-836b-a72d778b90f8",
   "metadata": {
    "tags": []
   },
   "source": [
    "# CAGR"
   ]
  },
  {
   "cell_type": "code",
   "execution_count": 40,
   "id": "02c42f71-e888-4a0d-bcf0-82dcf6d5b7e8",
   "metadata": {
    "execution": {
     "iopub.execute_input": "2024-08-22T18:17:55.065727Z",
     "iopub.status.busy": "2024-08-22T18:17:55.065157Z",
     "iopub.status.idle": "2024-08-22T18:17:55.074083Z",
     "shell.execute_reply": "2024-08-22T18:17:55.072868Z",
     "shell.execute_reply.started": "2024-08-22T18:17:55.065674Z"
    },
    "tags": []
   },
   "outputs": [],
   "source": [
    "# def filter_periodos(df_periodos, periodo: list):\n",
    "#     # Convert data_inicial and data_final to consistent date format\n",
    "#     df_periodos['data_inicial'] = pd.to_datetime(df_periodos['data_inicial']).dt.date\n",
    "#     df_periodos['data_final'] = pd.to_datetime(df_periodos['data_final']).dt.date\n",
    "\n",
    "#     # Define start and end dates\n",
    "#     start_date = pd.to_datetime(f'{periodo[0]}-01-01').date()\n",
    "#     end_date = pd.to_datetime(f'{periodo[1]}-12-31').date()\n",
    "\n",
    "#     # Apply the mask: Match start date exactly and ensure the period ends on or after the specified end date\n",
    "#     mask = (df_periodos['data_inicial'] == start_date) & (df_periodos['data_final'] >= end_date)\n",
    "\n",
    "#     # Filter the dataframe\n",
    "#     df_filtrada_periodo = df_periodos[mask]\n",
    "    \n",
    "#     return df_filtrada_periodo"
   ]
  },
  {
   "cell_type": "code",
   "execution_count": 41,
   "id": "3953fdad-5991-4a8a-aa61-d4a22ea5515a",
   "metadata": {
    "execution": {
     "iopub.execute_input": "2024-08-22T18:17:55.075917Z",
     "iopub.status.busy": "2024-08-22T18:17:55.075604Z",
     "iopub.status.idle": "2024-08-22T18:17:55.086792Z",
     "shell.execute_reply": "2024-08-22T18:17:55.085666Z",
     "shell.execute_reply.started": "2024-08-22T18:17:55.075883Z"
    },
    "tags": []
   },
   "outputs": [],
   "source": [
    "# def calc_cagr(dict_veqs:dict, df_periodos, periodos:list):\n",
    "#     # Criando dataframes para os cálculos e condições\n",
    "#     df_CAGR = pd.DataFrame(index=df_periodos.index)\n",
    "#     df_periodos.index = df_periodos['concessionaria']\n",
    "    \n",
    "#     for key, df_veqs in dict_veqs.items():\n",
    "        \n",
    "#         if 'data_inicial' not in df_veqs.columns and 'data_final' not in df_veqs.columns:\n",
    "#             df_veqs = df_veqs.join(df_periodos[['data_inicial','data_final']])\n",
    "#         # df_veqs = df_veqs.join(df_periodos[['data_inicial','data_final']])\n",
    "    \n",
    "#         for anos in periodos:\n",
    "#             # Condição para calcular apenas para anos completos no período\n",
    "#             start_date = pd.to_datetime(f'{anos[0]}-01-01').date()\n",
    "#             end_date = pd.to_datetime(f'{anos[1]}-12-31').date()\n",
    "#             # condition = (df_CAGR['data_inicial'] <= start_date) & (df_CAGR['data_final'] >= end_date)\n",
    "#             condition = (df_veqs['data_inicial'] <= start_date) & (df_veqs['data_final'] > end_date)\n",
    "\n",
    "#             # Calculando o CAGR no período\n",
    "#             col_CAGR = f'CAGR{anos[0]}-{anos[1]}_%'      \n",
    "#             df_veqs[col_CAGR] = np.where(condition,\n",
    "#                                         ( ( (df_veqs[anos[1]] / df_veqs[anos[0]]) ** (1 / (anos[1]-anos[0])) ) - 1 ) * 100,\n",
    "#                                          'N/D'\n",
    "#                                         )\n",
    "#         dict_veqs[key] = df_veqs\n",
    "        \n",
    "#     return dict_veqs"
   ]
  },
  {
   "cell_type": "code",
   "execution_count": 42,
   "id": "9ab0482c-e650-46cc-b104-94c4c85e1e38",
   "metadata": {
    "execution": {
     "iopub.execute_input": "2024-08-22T18:17:55.089041Z",
     "iopub.status.busy": "2024-08-22T18:17:55.088537Z",
     "iopub.status.idle": "2024-08-22T18:17:55.124905Z",
     "shell.execute_reply": "2024-08-22T18:17:55.123476Z",
     "shell.execute_reply.started": "2024-08-22T18:17:55.088989Z"
    },
    "tags": []
   },
   "outputs": [],
   "source": [
    "# dict_veqs = calc_cagr(dict_veqs, df_periodos, periodos_CAGR)"
   ]
  },
  {
   "cell_type": "markdown",
   "id": "6c90ab55-71f1-4129-ac09-2617c0722e83",
   "metadata": {},
   "source": [
    "# Salvando p/parquet"
   ]
  },
  {
   "cell_type": "code",
   "execution_count": 40,
   "id": "3138fcdf-0e76-4d87-95ad-bd044cefbf8f",
   "metadata": {
    "execution": {
     "iopub.execute_input": "2024-08-23T14:01:13.440804Z",
     "iopub.status.busy": "2024-08-23T14:01:13.439959Z",
     "iopub.status.idle": "2024-08-23T14:01:25.794311Z",
     "shell.execute_reply": "2024-08-23T14:01:25.793231Z",
     "shell.execute_reply.started": "2024-08-23T14:01:13.440765Z"
    },
    "tags": []
   },
   "outputs": [],
   "source": [
    "# dataframe total\n",
    "# df_trafego.to_parquet(os.path.join(path_dados_derivados,'df_trafego.parquet'))\n",
    "df_trafego.to_parquet(path_output /'df_trafego.parquet')"
   ]
  },
  {
   "cell_type": "code",
   "execution_count": 49,
   "id": "dc5e978b-2ed4-4311-92ef-6a9836424ec6",
   "metadata": {
    "execution": {
     "iopub.execute_input": "2024-08-23T14:14:59.163666Z",
     "iopub.status.busy": "2024-08-23T14:14:59.162967Z",
     "iopub.status.idle": "2024-08-23T14:14:59.172568Z",
     "shell.execute_reply": "2024-08-23T14:14:59.171309Z",
     "shell.execute_reply.started": "2024-08-23T14:14:59.163626Z"
    },
    "tags": []
   },
   "outputs": [],
   "source": [
    "# data inicial e final\n",
    "df_periodos.to_parquet(path_output /'df_periodos.parquet')"
   ]
  },
  {
   "cell_type": "code",
   "execution_count": 42,
   "id": "eaf1133f-540b-4ad7-9d5d-a008f1d4ca36",
   "metadata": {
    "execution": {
     "iopub.execute_input": "2024-08-23T14:01:25.810053Z",
     "iopub.status.busy": "2024-08-23T14:01:25.809014Z",
     "iopub.status.idle": "2024-08-23T14:01:25.835986Z",
     "shell.execute_reply": "2024-08-23T14:01:25.834795Z",
     "shell.execute_reply.started": "2024-08-23T14:01:25.810003Z"
    },
    "tags": []
   },
   "outputs": [],
   "source": [
    "# dicionário com os dados de tráfego:\n",
    "for veq in dict_veqs:\n",
    "    dict_veqs[veq].to_parquet(path_output / f'df_{veq}.parquet')"
   ]
  },
  {
   "cell_type": "markdown",
   "id": "3dd5690a-1f36-4de9-ace5-6f90ed976fd2",
   "metadata": {},
   "source": [
    "# Salvando p/Excel"
   ]
  },
  {
   "cell_type": "code",
   "execution_count": 43,
   "id": "5aa80b27-1e5f-46bc-a90d-cf4964847bf0",
   "metadata": {
    "execution": {
     "iopub.execute_input": "2024-08-23T14:01:25.838883Z",
     "iopub.status.busy": "2024-08-23T14:01:25.838462Z",
     "iopub.status.idle": "2024-08-23T14:01:26.254848Z",
     "shell.execute_reply": "2024-08-23T14:01:26.253353Z",
     "shell.execute_reply.started": "2024-08-23T14:01:25.838827Z"
    },
    "tags": []
   },
   "outputs": [],
   "source": [
    "with pd.ExcelWriter(path_output / 'dados_trafego_ANTT.xlsx') as writer:\n",
    "    df_periodos.to_excel(writer, sheet_name=\"periodo_concessionarias\")\n",
    "    for veq in dict_veqs:\n",
    "        dict_veqs[veq].to_excel(writer, sheet_name=f\"{veq}\")"
   ]
  },
  {
   "cell_type": "code",
   "execution_count": null,
   "id": "20a18c87-2f93-4f7b-9005-a7b2d0c60af1",
   "metadata": {},
   "outputs": [],
   "source": []
  },
  {
   "cell_type": "code",
   "execution_count": null,
   "id": "48c968b4-7a54-4a05-b55b-8e4ef9dfbbc8",
   "metadata": {},
   "outputs": [],
   "source": []
  }
 ],
 "metadata": {
  "kernelspec": {
   "display_name": "infra-data",
   "language": "python",
   "name": "infra-data"
  },
  "language_info": {
   "codemirror_mode": {
    "name": "ipython",
    "version": 3
   },
   "file_extension": ".py",
   "mimetype": "text/x-python",
   "name": "python",
   "nbconvert_exporter": "python",
   "pygments_lexer": "ipython3",
   "version": "3.9.16"
  }
 },
 "nbformat": 4,
 "nbformat_minor": 5
}
