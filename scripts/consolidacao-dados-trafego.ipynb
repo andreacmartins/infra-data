{
 "cells": [
  {
   "cell_type": "markdown",
   "id": "7cd4eef4-cce0-440e-b843-22821262126e",
   "metadata": {},
   "source": [
    "# IMPORTS"
   ]
  },
  {
   "cell_type": "code",
   "execution_count": 1,
   "id": "b0bd2558-4df8-4da6-a0fb-e13700764450",
   "metadata": {
    "execution": {
     "iopub.execute_input": "2024-08-22T18:17:18.259620Z",
     "iopub.status.busy": "2024-08-22T18:17:18.259126Z",
     "iopub.status.idle": "2024-08-22T18:17:19.825475Z",
     "shell.execute_reply": "2024-08-22T18:17:19.823678Z",
     "shell.execute_reply.started": "2024-08-22T18:17:18.259579Z"
    },
    "tags": []
   },
   "outputs": [],
   "source": [
    "import pandas as pd\n",
    "import numpy as np\n",
    "import os\n",
    "from decimal import Decimal\n",
    "import pickle\n",
    "from pathlib import Path"
   ]
  },
  {
   "cell_type": "markdown",
   "id": "49a66ef9-139e-4255-b3c1-d6d6460caffe",
   "metadata": {
    "execution": {
     "iopub.execute_input": "2024-08-20T19:55:44.418829Z",
     "iopub.status.busy": "2024-08-20T19:55:44.417516Z",
     "iopub.status.idle": "2024-08-20T19:55:44.424840Z",
     "shell.execute_reply": "2024-08-20T19:55:44.422826Z",
     "shell.execute_reply.started": "2024-08-20T19:55:44.418787Z"
    }
   },
   "source": [
    "# SETUP"
   ]
  },
  {
   "cell_type": "code",
   "execution_count": 2,
   "id": "7eaa031d-d0d4-4d30-b804-cba265e680c3",
   "metadata": {
    "execution": {
     "iopub.execute_input": "2024-08-22T18:17:19.829031Z",
     "iopub.status.busy": "2024-08-22T18:17:19.828317Z",
     "iopub.status.idle": "2024-08-22T18:17:19.837595Z",
     "shell.execute_reply": "2024-08-22T18:17:19.836082Z",
     "shell.execute_reply.started": "2024-08-22T18:17:19.828992Z"
    },
    "tags": []
   },
   "outputs": [],
   "source": [
    "dir_tree_util_path = os.path.join(\"utils\", \"dir_tree.py\")\n",
    "exec(open(dir_tree_util_path).read())"
   ]
  },
  {
   "cell_type": "markdown",
   "id": "5e259d48-4151-4192-a50c-da058d8aaa7e",
   "metadata": {},
   "source": [
    "# INPUTS"
   ]
  },
  {
   "cell_type": "code",
   "execution_count": 3,
   "id": "31307c5f-d5d2-4adc-9fa3-3bbf19cf7121",
   "metadata": {
    "execution": {
     "iopub.execute_input": "2024-08-22T18:17:19.840486Z",
     "iopub.status.busy": "2024-08-22T18:17:19.840036Z",
     "iopub.status.idle": "2024-08-22T18:17:19.846650Z",
     "shell.execute_reply": "2024-08-22T18:17:19.845652Z",
     "shell.execute_reply.started": "2024-08-22T18:17:19.840448Z"
    },
    "tags": []
   },
   "outputs": [],
   "source": [
    "# Paths\n",
    "path_input = PROJECT_DIRS[\"DADOS_VEQ_ANTT_DIR\"]\n",
    "path_output = PROJECT_DIRS[\"DADOS_DERIVADOS_DIR\"]"
   ]
  },
  {
   "cell_type": "code",
   "execution_count": 4,
   "id": "79a367f1-c05e-47ae-81dc-64bf313cbbce",
   "metadata": {
    "execution": {
     "iopub.execute_input": "2024-08-22T18:17:19.849246Z",
     "iopub.status.busy": "2024-08-22T18:17:19.848165Z",
     "iopub.status.idle": "2024-08-22T18:17:19.855264Z",
     "shell.execute_reply": "2024-08-22T18:17:19.853960Z",
     "shell.execute_reply.started": "2024-08-22T18:17:19.849210Z"
    },
    "tags": []
   },
   "outputs": [],
   "source": [
    "periodo = list(range(2010, 2025))"
   ]
  },
  {
   "cell_type": "code",
   "execution_count": 5,
   "id": "eaa37619-5ef4-4be5-9976-2b889f782bfd",
   "metadata": {
    "execution": {
     "iopub.execute_input": "2024-08-22T18:17:19.857225Z",
     "iopub.status.busy": "2024-08-22T18:17:19.856764Z",
     "iopub.status.idle": "2024-08-22T18:17:19.862952Z",
     "shell.execute_reply": "2024-08-22T18:17:19.862031Z",
     "shell.execute_reply.started": "2024-08-22T18:17:19.857190Z"
    }
   },
   "outputs": [],
   "source": [
    "periodos_CAGR = [[2010,2023],[2016,2023]]"
   ]
  },
  {
   "cell_type": "markdown",
   "id": "4227454c-3327-470a-92b4-35b111fe9c27",
   "metadata": {},
   "source": [
    "# Criando um dataframe consolidado com os dados de tráfego"
   ]
  },
  {
   "cell_type": "code",
   "execution_count": 6,
   "id": "3b658ece-7e95-46f0-9af1-dd47eb29a702",
   "metadata": {
    "execution": {
     "iopub.execute_input": "2024-08-22T18:17:19.864253Z",
     "iopub.status.busy": "2024-08-22T18:17:19.863939Z",
     "iopub.status.idle": "2024-08-22T18:17:19.870620Z",
     "shell.execute_reply": "2024-08-22T18:17:19.869529Z",
     "shell.execute_reply.started": "2024-08-22T18:17:19.864219Z"
    },
    "tags": []
   },
   "outputs": [],
   "source": [
    "# arquivos dos dados\n",
    "arquivos = os.listdir(path_input)"
   ]
  },
  {
   "cell_type": "code",
   "execution_count": 7,
   "id": "964fa4c0-5272-4ea5-ba8a-f8fd00296c3c",
   "metadata": {
    "execution": {
     "iopub.execute_input": "2024-08-22T18:17:19.875899Z",
     "iopub.status.busy": "2024-08-22T18:17:19.875533Z",
     "iopub.status.idle": "2024-08-22T18:17:27.841418Z",
     "shell.execute_reply": "2024-08-22T18:17:27.840088Z",
     "shell.execute_reply.started": "2024-08-22T18:17:19.875864Z"
    },
    "tags": []
   },
   "outputs": [],
   "source": [
    "df_trafego = pd.DataFrame()\n",
    "for ano in periodo:\n",
    "    arquivo = [a for a in arquivos if a[:-4].endswith(str(ano))][0]\n",
    "    df_ano = pd.read_csv(os.path.join(path_input, arquivo), sep=';', encoding='cp1252', low_memory=False)\n",
    "    df_trafego = pd.concat([df_trafego,df_ano])"
   ]
  },
  {
   "cell_type": "markdown",
   "id": "77d89742-3655-43ef-935c-b57c5a4456d9",
   "metadata": {},
   "source": [
    "# EDA Inicial"
   ]
  },
  {
   "cell_type": "code",
   "execution_count": 8,
   "id": "ffc68822-6798-45bb-a980-1691d74ad640",
   "metadata": {
    "execution": {
     "iopub.execute_input": "2024-08-22T18:17:27.843219Z",
     "iopub.status.busy": "2024-08-22T18:17:27.842873Z",
     "iopub.status.idle": "2024-08-22T18:17:27.881322Z",
     "shell.execute_reply": "2024-08-22T18:17:27.879517Z",
     "shell.execute_reply.started": "2024-08-22T18:17:27.843182Z"
    },
    "tags": []
   },
   "outputs": [
    {
     "data": {
      "text/html": [
       "<div>\n",
       "<style scoped>\n",
       "    .dataframe tbody tr th:only-of-type {\n",
       "        vertical-align: middle;\n",
       "    }\n",
       "\n",
       "    .dataframe tbody tr th {\n",
       "        vertical-align: top;\n",
       "    }\n",
       "\n",
       "    .dataframe thead th {\n",
       "        text-align: right;\n",
       "    }\n",
       "</style>\n",
       "<table border=\"1\" class=\"dataframe\">\n",
       "  <thead>\n",
       "    <tr style=\"text-align: right;\">\n",
       "      <th></th>\n",
       "      <th>concessionaria</th>\n",
       "      <th>mes_ano</th>\n",
       "      <th>sentido</th>\n",
       "      <th>praca</th>\n",
       "      <th>categoria</th>\n",
       "      <th>tipo_de_veiculo</th>\n",
       "      <th>volume_total</th>\n",
       "      <th>multiplicador_de_tarifa</th>\n",
       "      <th>volume_veiculo_equivalente</th>\n",
       "      <th>tipo_de_cobranca</th>\n",
       "    </tr>\n",
       "  </thead>\n",
       "  <tbody>\n",
       "    <tr>\n",
       "      <th>0</th>\n",
       "      <td>RODOVIA DO AÇO</td>\n",
       "      <td>01-01-2010</td>\n",
       "      <td>Decrescente</td>\n",
       "      <td>Praça 01  BR-393/RJ km 125,00</td>\n",
       "      <td>Categoria 1</td>\n",
       "      <td>Passeio</td>\n",
       "      <td>44146</td>\n",
       "      <td>1</td>\n",
       "      <td>44146</td>\n",
       "      <td>NaN</td>\n",
       "    </tr>\n",
       "    <tr>\n",
       "      <th>1</th>\n",
       "      <td>RODOVIA DO AÇO</td>\n",
       "      <td>01-01-2010</td>\n",
       "      <td>Crescente</td>\n",
       "      <td>Praça 01  BR-393/RJ km 125,00</td>\n",
       "      <td>Categoria 1</td>\n",
       "      <td>Passeio</td>\n",
       "      <td>35771</td>\n",
       "      <td>1</td>\n",
       "      <td>35771</td>\n",
       "      <td>NaN</td>\n",
       "    </tr>\n",
       "    <tr>\n",
       "      <th>2</th>\n",
       "      <td>RODOVIA DO AÇO</td>\n",
       "      <td>01-02-2010</td>\n",
       "      <td>Decrescente</td>\n",
       "      <td>Praça 01  BR-393/RJ km 125,00</td>\n",
       "      <td>Categoria 1</td>\n",
       "      <td>Passeio</td>\n",
       "      <td>33455</td>\n",
       "      <td>1</td>\n",
       "      <td>33455</td>\n",
       "      <td>NaN</td>\n",
       "    </tr>\n",
       "    <tr>\n",
       "      <th>3</th>\n",
       "      <td>RODOVIA DO AÇO</td>\n",
       "      <td>01-02-2010</td>\n",
       "      <td>Crescente</td>\n",
       "      <td>Praça 01  BR-393/RJ km 125,00</td>\n",
       "      <td>Categoria 1</td>\n",
       "      <td>Passeio</td>\n",
       "      <td>27109</td>\n",
       "      <td>1</td>\n",
       "      <td>27109</td>\n",
       "      <td>NaN</td>\n",
       "    </tr>\n",
       "    <tr>\n",
       "      <th>4</th>\n",
       "      <td>RODOVIA DO AÇO</td>\n",
       "      <td>01-03-2010</td>\n",
       "      <td>Decrescente</td>\n",
       "      <td>Praça 01  BR-393/RJ km 125,00</td>\n",
       "      <td>Categoria 1</td>\n",
       "      <td>Passeio</td>\n",
       "      <td>31677</td>\n",
       "      <td>1</td>\n",
       "      <td>31677</td>\n",
       "      <td>NaN</td>\n",
       "    </tr>\n",
       "  </tbody>\n",
       "</table>\n",
       "</div>"
      ],
      "text/plain": [
       "   concessionaria     mes_ano      sentido                          praca  \\\n",
       "0  RODOVIA DO AÇO  01-01-2010  Decrescente  Praça 01  BR-393/RJ km 125,00   \n",
       "1  RODOVIA DO AÇO  01-01-2010    Crescente  Praça 01  BR-393/RJ km 125,00   \n",
       "2  RODOVIA DO AÇO  01-02-2010  Decrescente  Praça 01  BR-393/RJ km 125,00   \n",
       "3  RODOVIA DO AÇO  01-02-2010    Crescente  Praça 01  BR-393/RJ km 125,00   \n",
       "4  RODOVIA DO AÇO  01-03-2010  Decrescente  Praça 01  BR-393/RJ km 125,00   \n",
       "\n",
       "     categoria tipo_de_veiculo volume_total multiplicador_de_tarifa  \\\n",
       "0  Categoria 1         Passeio        44146                       1   \n",
       "1  Categoria 1         Passeio        35771                       1   \n",
       "2  Categoria 1         Passeio        33455                       1   \n",
       "3  Categoria 1         Passeio        27109                       1   \n",
       "4  Categoria 1         Passeio        31677                       1   \n",
       "\n",
       "  volume_veiculo_equivalente tipo_de_cobranca  \n",
       "0                      44146              NaN  \n",
       "1                      35771              NaN  \n",
       "2                      33455              NaN  \n",
       "3                      27109              NaN  \n",
       "4                      31677              NaN  "
      ]
     },
     "execution_count": 8,
     "metadata": {},
     "output_type": "execute_result"
    }
   ],
   "source": [
    "df_trafego.head()"
   ]
  },
  {
   "cell_type": "code",
   "execution_count": 9,
   "id": "375aa237-e0b2-4a31-bcb1-ba4356cc4745",
   "metadata": {
    "execution": {
     "iopub.execute_input": "2024-08-22T18:17:27.884188Z",
     "iopub.status.busy": "2024-08-22T18:17:27.883185Z",
     "iopub.status.idle": "2024-08-22T18:17:27.915228Z",
     "shell.execute_reply": "2024-08-22T18:17:27.913541Z",
     "shell.execute_reply.started": "2024-08-22T18:17:27.884134Z"
    },
    "tags": []
   },
   "outputs": [
    {
     "name": "stdout",
     "output_type": "stream",
     "text": [
      "<class 'pandas.core.frame.DataFrame'>\n",
      "Index: 3000353 entries, 0 to 2329761\n",
      "Data columns (total 10 columns):\n",
      " #   Column                      Dtype \n",
      "---  ------                      ----- \n",
      " 0   concessionaria              object\n",
      " 1   mes_ano                     object\n",
      " 2   sentido                     object\n",
      " 3   praca                       object\n",
      " 4   categoria                   object\n",
      " 5   tipo_de_veiculo             object\n",
      " 6   volume_total                object\n",
      " 7   multiplicador_de_tarifa     object\n",
      " 8   volume_veiculo_equivalente  object\n",
      " 9   tipo_de_cobranca            object\n",
      "dtypes: object(10)\n",
      "memory usage: 251.8+ MB\n"
     ]
    }
   ],
   "source": [
    "df_trafego.info()"
   ]
  },
  {
   "cell_type": "code",
   "execution_count": 10,
   "id": "ded8067c-2413-44c0-88ca-9ff8d15084b1",
   "metadata": {
    "execution": {
     "iopub.execute_input": "2024-08-22T18:17:27.918176Z",
     "iopub.status.busy": "2024-08-22T18:17:27.917597Z",
     "iopub.status.idle": "2024-08-22T18:17:29.085341Z",
     "shell.execute_reply": "2024-08-22T18:17:29.083781Z",
     "shell.execute_reply.started": "2024-08-22T18:17:27.918120Z"
    },
    "tags": []
   },
   "outputs": [
    {
     "name": "stdout",
     "output_type": "stream",
     "text": [
      "concessionaria: 0\n",
      "mes_ano: 0\n",
      "sentido: 0\n",
      "praca: 0\n",
      "categoria: 0\n",
      "tipo_de_veiculo: 0\n",
      "volume_total: 344\n",
      "multiplicador_de_tarifa: 0\n",
      "volume_veiculo_equivalente: 0\n",
      "tipo_de_cobranca: 74780\n"
     ]
    }
   ],
   "source": [
    "for col in df_trafego:\n",
    "    print(f\"{col}: {df_trafego[col].isna().sum()}\")"
   ]
  },
  {
   "cell_type": "code",
   "execution_count": 11,
   "id": "dddf1952-8eca-459f-890b-90ada7d1bc14",
   "metadata": {
    "execution": {
     "iopub.execute_input": "2024-08-22T18:17:29.087691Z",
     "iopub.status.busy": "2024-08-22T18:17:29.087347Z",
     "iopub.status.idle": "2024-08-22T18:17:29.214602Z",
     "shell.execute_reply": "2024-08-22T18:17:29.213177Z",
     "shell.execute_reply.started": "2024-08-22T18:17:29.087655Z"
    },
    "tags": []
   },
   "outputs": [
    {
     "data": {
      "text/html": [
       "<div>\n",
       "<style scoped>\n",
       "    .dataframe tbody tr th:only-of-type {\n",
       "        vertical-align: middle;\n",
       "    }\n",
       "\n",
       "    .dataframe tbody tr th {\n",
       "        vertical-align: top;\n",
       "    }\n",
       "\n",
       "    .dataframe thead th {\n",
       "        text-align: right;\n",
       "    }\n",
       "</style>\n",
       "<table border=\"1\" class=\"dataframe\">\n",
       "  <thead>\n",
       "    <tr style=\"text-align: right;\">\n",
       "      <th></th>\n",
       "      <th>concessionaria</th>\n",
       "      <th>mes_ano</th>\n",
       "      <th>sentido</th>\n",
       "      <th>praca</th>\n",
       "      <th>categoria</th>\n",
       "      <th>tipo_de_veiculo</th>\n",
       "      <th>volume_total</th>\n",
       "      <th>multiplicador_de_tarifa</th>\n",
       "      <th>volume_veiculo_equivalente</th>\n",
       "      <th>tipo_de_cobranca</th>\n",
       "    </tr>\n",
       "  </thead>\n",
       "  <tbody>\n",
       "    <tr>\n",
       "      <th>125842</th>\n",
       "      <td>ECOSUL</td>\n",
       "      <td>01/09/2023</td>\n",
       "      <td>Crescente</td>\n",
       "      <td>Praça 03 BR-116/RS km 541,20</td>\n",
       "      <td>Categoria 9</td>\n",
       "      <td>Moto</td>\n",
       "      <td>NaN</td>\n",
       "      <td>0,50</td>\n",
       "      <td>0,00</td>\n",
       "      <td>N/I</td>\n",
       "    </tr>\n",
       "    <tr>\n",
       "      <th>125462</th>\n",
       "      <td>ECOSUL</td>\n",
       "      <td>01/05/2023</td>\n",
       "      <td>Crescente</td>\n",
       "      <td>Praça 04 BR-392/RS km 52,30</td>\n",
       "      <td>Categoria 9</td>\n",
       "      <td>Moto</td>\n",
       "      <td>NaN</td>\n",
       "      <td>0,50</td>\n",
       "      <td>0,00</td>\n",
       "      <td>N/I</td>\n",
       "    </tr>\n",
       "    <tr>\n",
       "      <th>129878</th>\n",
       "      <td>ECOVIAS DO CERRADO</td>\n",
       "      <td>01/05/2023</td>\n",
       "      <td>Decrescente</td>\n",
       "      <td>P6 - Praça Cachoeira Alta BR 364/GO km 93,120</td>\n",
       "      <td>Veículo Comercial Acima 10 eixos</td>\n",
       "      <td>Comercial</td>\n",
       "      <td>NaN</td>\n",
       "      <td>10,00</td>\n",
       "      <td>0,00</td>\n",
       "      <td>N/I</td>\n",
       "    </tr>\n",
       "    <tr>\n",
       "      <th>134594</th>\n",
       "      <td>RIOSP</td>\n",
       "      <td>01/02/2023</td>\n",
       "      <td>Crescente</td>\n",
       "      <td>Praça 08 BR-116/SP km 205,00</td>\n",
       "      <td>Categoria 1</td>\n",
       "      <td>Passeio</td>\n",
       "      <td>NaN</td>\n",
       "      <td>1,00</td>\n",
       "      <td>0,00</td>\n",
       "      <td>N/I</td>\n",
       "    </tr>\n",
       "    <tr>\n",
       "      <th>136232</th>\n",
       "      <td>RIOSP</td>\n",
       "      <td>01/09/2023</td>\n",
       "      <td>Crescente</td>\n",
       "      <td>Praça 08 BR-116/SP km 205,00</td>\n",
       "      <td>Categoria 1</td>\n",
       "      <td>Passeio</td>\n",
       "      <td>NaN</td>\n",
       "      <td>1,00</td>\n",
       "      <td>0,00</td>\n",
       "      <td>N/I</td>\n",
       "    </tr>\n",
       "    <tr>\n",
       "      <th>125982</th>\n",
       "      <td>ECOSUL</td>\n",
       "      <td>01/10/2023</td>\n",
       "      <td>Crescente</td>\n",
       "      <td>Praça 05 BR-392/RS km 111,47</td>\n",
       "      <td>Categoria 9</td>\n",
       "      <td>Moto</td>\n",
       "      <td>NaN</td>\n",
       "      <td>0,50</td>\n",
       "      <td>0,00</td>\n",
       "      <td>N/I</td>\n",
       "    </tr>\n",
       "    <tr>\n",
       "      <th>126393</th>\n",
       "      <td>ECOVIAS DO ARAGUAIA</td>\n",
       "      <td>26/01/2023</td>\n",
       "      <td>Decrescente</td>\n",
       "      <td>P7- Jaraguá</td>\n",
       "      <td>Categoria Esp. 10</td>\n",
       "      <td>Comercial</td>\n",
       "      <td>NaN</td>\n",
       "      <td>10,00</td>\n",
       "      <td>0,00</td>\n",
       "      <td>N/I</td>\n",
       "    </tr>\n",
       "    <tr>\n",
       "      <th>129644</th>\n",
       "      <td>ECOVIAS DO CERRADO</td>\n",
       "      <td>01/04/2023</td>\n",
       "      <td>Decrescente</td>\n",
       "      <td>P4 - SANTA VITÓRIA</td>\n",
       "      <td>Veículo Comercial Acima 10 eixos</td>\n",
       "      <td>Comercial</td>\n",
       "      <td>NaN</td>\n",
       "      <td>10,00</td>\n",
       "      <td>0,00</td>\n",
       "      <td>N/I</td>\n",
       "    </tr>\n",
       "    <tr>\n",
       "      <th>136459</th>\n",
       "      <td>RIOSP</td>\n",
       "      <td>01/10/2023</td>\n",
       "      <td>Crescente</td>\n",
       "      <td>Praça 08 BR-116/SP km 205,00</td>\n",
       "      <td>Categoria 7</td>\n",
       "      <td>Comercial</td>\n",
       "      <td>NaN</td>\n",
       "      <td>5,00</td>\n",
       "      <td>0,00</td>\n",
       "      <td>N/I</td>\n",
       "    </tr>\n",
       "  </tbody>\n",
       "</table>\n",
       "</div>"
      ],
      "text/plain": [
       "             concessionaria     mes_ano      sentido  \\\n",
       "125842               ECOSUL  01/09/2023    Crescente   \n",
       "125462               ECOSUL  01/05/2023    Crescente   \n",
       "129878   ECOVIAS DO CERRADO  01/05/2023  Decrescente   \n",
       "134594                RIOSP  01/02/2023    Crescente   \n",
       "136232                RIOSP  01/09/2023    Crescente   \n",
       "125982               ECOSUL  01/10/2023    Crescente   \n",
       "126393  ECOVIAS DO ARAGUAIA  26/01/2023  Decrescente   \n",
       "129644   ECOVIAS DO CERRADO  01/04/2023  Decrescente   \n",
       "136459                RIOSP  01/10/2023    Crescente   \n",
       "\n",
       "                                                praca  \\\n",
       "125842                   Praça 03 BR-116/RS km 541,20   \n",
       "125462                    Praça 04 BR-392/RS km 52,30   \n",
       "129878  P6 - Praça Cachoeira Alta BR 364/GO km 93,120   \n",
       "134594                   Praça 08 BR-116/SP km 205,00   \n",
       "136232                   Praça 08 BR-116/SP km 205,00   \n",
       "125982                   Praça 05 BR-392/RS km 111,47   \n",
       "126393                                    P7- Jaraguá   \n",
       "129644                             P4 - SANTA VITÓRIA   \n",
       "136459                   Praça 08 BR-116/SP km 205,00   \n",
       "\n",
       "                               categoria tipo_de_veiculo volume_total  \\\n",
       "125842                       Categoria 9            Moto          NaN   \n",
       "125462                       Categoria 9            Moto          NaN   \n",
       "129878  Veículo Comercial Acima 10 eixos       Comercial          NaN   \n",
       "134594                       Categoria 1         Passeio          NaN   \n",
       "136232                       Categoria 1         Passeio          NaN   \n",
       "125982                       Categoria 9            Moto          NaN   \n",
       "126393                 Categoria Esp. 10       Comercial          NaN   \n",
       "129644  Veículo Comercial Acima 10 eixos       Comercial          NaN   \n",
       "136459                       Categoria 7       Comercial          NaN   \n",
       "\n",
       "       multiplicador_de_tarifa volume_veiculo_equivalente tipo_de_cobranca  \n",
       "125842                    0,50                       0,00              N/I  \n",
       "125462                    0,50                       0,00              N/I  \n",
       "129878                   10,00                       0,00              N/I  \n",
       "134594                    1,00                       0,00              N/I  \n",
       "136232                    1,00                       0,00              N/I  \n",
       "125982                    0,50                       0,00              N/I  \n",
       "126393                   10,00                       0,00              N/I  \n",
       "129644                   10,00                       0,00              N/I  \n",
       "136459                    5,00                       0,00              N/I  "
      ]
     },
     "execution_count": 11,
     "metadata": {},
     "output_type": "execute_result"
    }
   ],
   "source": [
    "df_trafego[df_trafego['volume_total'].isna()].sample(9)"
   ]
  },
  {
   "cell_type": "code",
   "execution_count": 12,
   "id": "c0eb184b-ce91-429c-bc8b-4abac18cf9d2",
   "metadata": {
    "execution": {
     "iopub.execute_input": "2024-08-22T18:17:29.216820Z",
     "iopub.status.busy": "2024-08-22T18:17:29.216485Z",
     "iopub.status.idle": "2024-08-22T18:17:29.339233Z",
     "shell.execute_reply": "2024-08-22T18:17:29.337892Z",
     "shell.execute_reply.started": "2024-08-22T18:17:29.216785Z"
    },
    "tags": []
   },
   "outputs": [
    {
     "data": {
      "text/plain": [
       "array(['0,00'], dtype=object)"
      ]
     },
     "execution_count": 12,
     "metadata": {},
     "output_type": "execute_result"
    }
   ],
   "source": [
    "df_trafego[df_trafego['volume_total'].isna()]['volume_veiculo_equivalente'].unique()"
   ]
  },
  {
   "cell_type": "code",
   "execution_count": 13,
   "id": "b455acf7-a4bf-4af3-b96d-e8fa9b687001",
   "metadata": {
    "execution": {
     "iopub.execute_input": "2024-08-22T18:17:29.341194Z",
     "iopub.status.busy": "2024-08-22T18:17:29.340697Z",
     "iopub.status.idle": "2024-08-22T18:17:30.548155Z",
     "shell.execute_reply": "2024-08-22T18:17:30.546907Z",
     "shell.execute_reply.started": "2024-08-22T18:17:29.341155Z"
    },
    "tags": []
   },
   "outputs": [
    {
     "data": {
      "text/plain": [
       "array(['01', '14', '28', '31', '30', '02', '03', '04', '05', '06', '07',\n",
       "       '08', '09', '10', '11', '12', '13', '15', '16', '17', '18', '19',\n",
       "       '20', '21', '22', '23', '24', '25', '26', '27', '29'], dtype=object)"
      ]
     },
     "execution_count": 13,
     "metadata": {},
     "output_type": "execute_result"
    }
   ],
   "source": [
    "df_trafego['mes_ano'].str[:2].unique()"
   ]
  },
  {
   "cell_type": "code",
   "execution_count": 14,
   "id": "8bd3362a-3ca0-4b08-bec7-8bf7db6a5060",
   "metadata": {
    "execution": {
     "iopub.execute_input": "2024-08-22T18:17:30.549963Z",
     "iopub.status.busy": "2024-08-22T18:17:30.549628Z",
     "iopub.status.idle": "2024-08-22T18:17:31.768881Z",
     "shell.execute_reply": "2024-08-22T18:17:31.767921Z",
     "shell.execute_reply.started": "2024-08-22T18:17:30.549927Z"
    },
    "tags": []
   },
   "outputs": [
    {
     "data": {
      "text/plain": [
       "array(['01', '02', '03', '04', '05', '06', '07', '08', '09', '10', '11',\n",
       "       '12'], dtype=object)"
      ]
     },
     "execution_count": 14,
     "metadata": {},
     "output_type": "execute_result"
    }
   ],
   "source": [
    "df_trafego['mes_ano'].str[3:5].unique()"
   ]
  },
  {
   "cell_type": "code",
   "execution_count": 15,
   "id": "8453ca06-ce7b-47b5-afe4-1dcf7ff131da",
   "metadata": {
    "execution": {
     "iopub.execute_input": "2024-08-22T18:17:31.771924Z",
     "iopub.status.busy": "2024-08-22T18:17:31.770759Z",
     "iopub.status.idle": "2024-08-22T18:17:31.887923Z",
     "shell.execute_reply": "2024-08-22T18:17:31.886848Z",
     "shell.execute_reply.started": "2024-08-22T18:17:31.771882Z"
    },
    "tags": []
   },
   "outputs": [
    {
     "data": {
      "text/plain": [
       "array([nan, 'N/I', 'Manual', 'Automática', 'Mista'], dtype=object)"
      ]
     },
     "execution_count": 15,
     "metadata": {},
     "output_type": "execute_result"
    }
   ],
   "source": [
    "df_trafego['tipo_de_cobranca'].unique()"
   ]
  },
  {
   "cell_type": "code",
   "execution_count": 16,
   "id": "60e95d5f-cf18-4ce0-bea5-a7f2037bd499",
   "metadata": {
    "execution": {
     "iopub.execute_input": "2024-08-22T18:17:31.892706Z",
     "iopub.status.busy": "2024-08-22T18:17:31.891569Z",
     "iopub.status.idle": "2024-08-22T18:17:32.016330Z",
     "shell.execute_reply": "2024-08-22T18:17:32.015333Z",
     "shell.execute_reply.started": "2024-08-22T18:17:31.892666Z"
    },
    "tags": []
   },
   "outputs": [
    {
     "data": {
      "text/plain": [
       "np.True_"
      ]
     },
     "execution_count": 16,
     "metadata": {},
     "output_type": "execute_result"
    }
   ],
   "source": [
    "df_trafego['volume_total'].isna().any()"
   ]
  },
  {
   "cell_type": "code",
   "execution_count": 17,
   "id": "ffb13d6e-a38b-4448-ac2a-18bbc4fb5806",
   "metadata": {
    "execution": {
     "iopub.execute_input": "2024-08-22T18:17:32.017905Z",
     "iopub.status.busy": "2024-08-22T18:17:32.017356Z",
     "iopub.status.idle": "2024-08-22T18:17:32.152672Z",
     "shell.execute_reply": "2024-08-22T18:17:32.151222Z",
     "shell.execute_reply.started": "2024-08-22T18:17:32.017869Z"
    },
    "tags": []
   },
   "outputs": [
    {
     "data": {
      "text/plain": [
       "np.int64(344)"
      ]
     },
     "execution_count": 17,
     "metadata": {},
     "output_type": "execute_result"
    }
   ],
   "source": [
    "df_trafego['volume_total'].isna().sum()"
   ]
  },
  {
   "cell_type": "code",
   "execution_count": 18,
   "id": "f1c1d921-77c0-4909-ab78-8f4be88a7680",
   "metadata": {
    "execution": {
     "iopub.execute_input": "2024-08-22T18:17:32.154396Z",
     "iopub.status.busy": "2024-08-22T18:17:32.154056Z",
     "iopub.status.idle": "2024-08-22T18:17:32.270175Z",
     "shell.execute_reply": "2024-08-22T18:17:32.269204Z",
     "shell.execute_reply.started": "2024-08-22T18:17:32.154342Z"
    },
    "tags": []
   },
   "outputs": [
    {
     "data": {
      "text/plain": [
       "array(['1', '2', '1,5', '3', '4', '5', '6', '0,5', '7', '8', '9', '10',\n",
       "       1.0, 2.0, 1.5, 3.0, 4.0, 5.0, 6.0, 0.5, 7.0, 8.0, 9.0, 10.0,\n",
       "       '2,00', '3,00', '4,00', '5,00', '6,00', '0,50', '1,00', '1,50',\n",
       "       '7,00', '8,00', '9,00', '10,00', '0,00', '11,00', '13,00', '15,00',\n",
       "       '12,00', '14,00', '18,00', '20,00', '16,00', '17,00', '19,00'],\n",
       "      dtype=object)"
      ]
     },
     "execution_count": 18,
     "metadata": {},
     "output_type": "execute_result"
    }
   ],
   "source": [
    "df_trafego['multiplicador_de_tarifa'].unique()"
   ]
  },
  {
   "cell_type": "markdown",
   "id": "3dd3548c-f263-4ffc-9527-5344610ef315",
   "metadata": {},
   "source": [
    "# Tratamento dos dados"
   ]
  },
  {
   "cell_type": "code",
   "execution_count": 19,
   "id": "f051ad20-c663-4a8d-925b-549e436eb4c9",
   "metadata": {
    "execution": {
     "iopub.execute_input": "2024-08-22T18:17:32.272446Z",
     "iopub.status.busy": "2024-08-22T18:17:32.271846Z",
     "iopub.status.idle": "2024-08-22T18:17:36.223010Z",
     "shell.execute_reply": "2024-08-22T18:17:36.221962Z",
     "shell.execute_reply.started": "2024-08-22T18:17:32.272410Z"
    },
    "tags": []
   },
   "outputs": [],
   "source": [
    "# Colunas de ano, mes e dia\n",
    "df_trafego['year'] = df_trafego['mes_ano'].str[-4:].astype('int') \n",
    "df_trafego['month'] = df_trafego['mes_ano'].str[3:5].astype('int')\n",
    "df_trafego['day'] = df_trafego['mes_ano'].str[:2].astype('int') "
   ]
  },
  {
   "cell_type": "code",
   "execution_count": 20,
   "id": "67124ec5-e152-49d4-b303-9cbb11927cb3",
   "metadata": {
    "execution": {
     "iopub.execute_input": "2024-08-22T18:17:36.225092Z",
     "iopub.status.busy": "2024-08-22T18:17:36.224555Z",
     "iopub.status.idle": "2024-08-22T18:17:37.348610Z",
     "shell.execute_reply": "2024-08-22T18:17:37.347229Z",
     "shell.execute_reply.started": "2024-08-22T18:17:36.225055Z"
    },
    "tags": []
   },
   "outputs": [],
   "source": [
    "# Recriando a coluna de mes_ano, agora como datetime ao invés de string. Tem que ser em ingles pq a função do pandas exige\n",
    "df_trafego['mes_ano'] = pd.to_datetime(df_trafego[['year', 'month', 'day']]).dt.date"
   ]
  },
  {
   "cell_type": "code",
   "execution_count": 21,
   "id": "5fae9658-dc43-433c-89c9-2395145471de",
   "metadata": {
    "execution": {
     "iopub.execute_input": "2024-08-22T18:17:37.350845Z",
     "iopub.status.busy": "2024-08-22T18:17:37.350290Z",
     "iopub.status.idle": "2024-08-22T18:17:37.599724Z",
     "shell.execute_reply": "2024-08-22T18:17:37.598283Z",
     "shell.execute_reply.started": "2024-08-22T18:17:37.350806Z"
    },
    "tags": []
   },
   "outputs": [],
   "source": [
    "# preenchendo os NaNs, qdo aplicável:\n",
    "df_trafego['volume_total'] = df_trafego['volume_total'].fillna(0) #o volume equivalente é zero sempre que volume_total é zero"
   ]
  },
  {
   "cell_type": "code",
   "execution_count": 22,
   "id": "6c57331f-cb3d-4adc-9d3c-ef37432f4801",
   "metadata": {
    "execution": {
     "iopub.execute_input": "2024-08-22T18:17:37.607917Z",
     "iopub.status.busy": "2024-08-22T18:17:37.607291Z",
     "iopub.status.idle": "2024-08-22T18:17:43.181292Z",
     "shell.execute_reply": "2024-08-22T18:17:43.180212Z",
     "shell.execute_reply.started": "2024-08-22T18:17:37.607878Z"
    },
    "tags": []
   },
   "outputs": [],
   "source": [
    "# Convertendo os tipos de dados para numéricos:\n",
    "df_trafego['volume_total'] = df_trafego['volume_total'].apply(lambda x: x.replace(',','.') if type(x) == str else x)\n",
    "df_trafego['volume_total'] = df_trafego['volume_total'].apply(lambda x: x.split('.')[0] if type(x) == str else x)\n",
    "df_trafego['volume_total'] = df_trafego['volume_total'].astype('int')\n",
    "\n",
    "df_trafego['volume_veiculo_equivalente'] = df_trafego['volume_veiculo_equivalente'].apply(lambda x: x.replace(',','.') if type(x) == str else x)\n",
    "df_trafego['volume_veiculo_equivalente'] = df_trafego['volume_veiculo_equivalente'].astype('float') # existe multiplicador de tarifa fracionário"
   ]
  },
  {
   "cell_type": "code",
   "execution_count": 23,
   "id": "20231a8a-8ab4-41b5-bd87-db645b34cfd5",
   "metadata": {
    "execution": {
     "iopub.execute_input": "2024-08-22T18:17:43.184152Z",
     "iopub.status.busy": "2024-08-22T18:17:43.182540Z",
     "iopub.status.idle": "2024-08-22T18:17:43.307999Z",
     "shell.execute_reply": "2024-08-22T18:17:43.306581Z",
     "shell.execute_reply.started": "2024-08-22T18:17:43.184062Z"
    },
    "tags": []
   },
   "outputs": [],
   "source": [
    "# convertendo categoria para string (do contrário não salva para parquet):\n",
    "df_trafego['categoria'] = df_trafego['categoria'].astype('string')"
   ]
  },
  {
   "cell_type": "code",
   "execution_count": 24,
   "id": "a570f4b8-a68e-47a9-8d5c-ec56f6e8086c",
   "metadata": {
    "execution": {
     "iopub.execute_input": "2024-08-22T18:17:43.310690Z",
     "iopub.status.busy": "2024-08-22T18:17:43.310201Z",
     "iopub.status.idle": "2024-08-22T18:17:46.459013Z",
     "shell.execute_reply": "2024-08-22T18:17:46.457665Z",
     "shell.execute_reply.started": "2024-08-22T18:17:43.310647Z"
    },
    "tags": []
   },
   "outputs": [],
   "source": [
    "# convertendo o multiplicador de tarifa de string para decimal (p/manter a precisao):\n",
    "df_trafego['multiplicador_de_tarifa'] = df_trafego['multiplicador_de_tarifa'].apply(lambda x: x.replace(',','.') if type(x) == str else x)\n",
    "df_trafego['multiplicador_de_tarifa'] = df_trafego['multiplicador_de_tarifa'].apply(Decimal)"
   ]
  },
  {
   "cell_type": "code",
   "execution_count": 25,
   "id": "697d05b6-6346-4a0e-a2c5-2cfd71ccd016",
   "metadata": {
    "execution": {
     "iopub.execute_input": "2024-08-22T18:17:46.461616Z",
     "iopub.status.busy": "2024-08-22T18:17:46.461097Z",
     "iopub.status.idle": "2024-08-22T18:17:47.341359Z",
     "shell.execute_reply": "2024-08-22T18:17:47.339955Z",
     "shell.execute_reply.started": "2024-08-22T18:17:46.461529Z"
    },
    "tags": []
   },
   "outputs": [],
   "source": [
    "# O tipo de tráfego ora está em maisúcula, ora em minúscula.\n",
    "# Colocando tudo p/maiúscula\n",
    "df_trafego['tipo_de_veiculo'] = df_trafego['tipo_de_veiculo'].str.upper()"
   ]
  },
  {
   "cell_type": "code",
   "execution_count": 26,
   "id": "b91a6a8d-2fa9-4c7e-8e1a-68097e4eeb46",
   "metadata": {
    "execution": {
     "iopub.execute_input": "2024-08-22T18:17:47.344171Z",
     "iopub.status.busy": "2024-08-22T18:17:47.343317Z",
     "iopub.status.idle": "2024-08-22T18:17:48.292031Z",
     "shell.execute_reply": "2024-08-22T18:17:48.290726Z",
     "shell.execute_reply.started": "2024-08-22T18:17:47.344115Z"
    },
    "tags": []
   },
   "outputs": [],
   "source": [
    "# algumas concessionárias estão ora em maiúsculas ora em minúsculas\n",
    "# colocando tudo para maiúscula\n",
    "df_trafego['concessionaria'] = df_trafego['concessionaria'].str.upper()"
   ]
  },
  {
   "cell_type": "code",
   "execution_count": 27,
   "id": "21713dd4-7ebd-4409-8deb-494dff59a52c",
   "metadata": {
    "execution": {
     "iopub.execute_input": "2024-08-22T18:17:48.294396Z",
     "iopub.status.busy": "2024-08-22T18:17:48.293678Z",
     "iopub.status.idle": "2024-08-22T18:17:48.308690Z",
     "shell.execute_reply": "2024-08-22T18:17:48.307389Z",
     "shell.execute_reply.started": "2024-08-22T18:17:48.294342Z"
    },
    "tags": []
   },
   "outputs": [
    {
     "name": "stdout",
     "output_type": "stream",
     "text": [
      "<class 'pandas.core.frame.DataFrame'>\n",
      "Index: 3000353 entries, 0 to 2329761\n",
      "Data columns (total 13 columns):\n",
      " #   Column                      Dtype  \n",
      "---  ------                      -----  \n",
      " 0   concessionaria              object \n",
      " 1   mes_ano                     object \n",
      " 2   sentido                     object \n",
      " 3   praca                       object \n",
      " 4   categoria                   string \n",
      " 5   tipo_de_veiculo             object \n",
      " 6   volume_total                int64  \n",
      " 7   multiplicador_de_tarifa     object \n",
      " 8   volume_veiculo_equivalente  float64\n",
      " 9   tipo_de_cobranca            object \n",
      " 10  year                        int64  \n",
      " 11  month                       int64  \n",
      " 12  day                         int64  \n",
      "dtypes: float64(1), int64(4), object(7), string(1)\n",
      "memory usage: 320.5+ MB\n"
     ]
    }
   ],
   "source": [
    "df_trafego.info()"
   ]
  },
  {
   "cell_type": "code",
   "execution_count": 28,
   "id": "8bf6bfb2-3415-4306-be98-5ffe1dfabb72",
   "metadata": {
    "execution": {
     "iopub.execute_input": "2024-08-22T18:17:48.310711Z",
     "iopub.status.busy": "2024-08-22T18:17:48.310233Z",
     "iopub.status.idle": "2024-08-22T18:17:48.336869Z",
     "shell.execute_reply": "2024-08-22T18:17:48.335461Z",
     "shell.execute_reply.started": "2024-08-22T18:17:48.310673Z"
    },
    "tags": []
   },
   "outputs": [
    {
     "data": {
      "text/plain": [
       "array([2010, 2011, 2012, 2013, 2014, 2015, 2016, 2017, 2018, 2019, 2020,\n",
       "       2021, 2022, 2023, 2024])"
      ]
     },
     "execution_count": 28,
     "metadata": {},
     "output_type": "execute_result"
    }
   ],
   "source": [
    "df_trafego['year'].unique()"
   ]
  },
  {
   "cell_type": "code",
   "execution_count": 29,
   "id": "923b6979-a809-448d-8a28-b79546e40f59",
   "metadata": {
    "execution": {
     "iopub.execute_input": "2024-08-22T18:17:48.338655Z",
     "iopub.status.busy": "2024-08-22T18:17:48.338297Z",
     "iopub.status.idle": "2024-08-22T18:17:49.122513Z",
     "shell.execute_reply": "2024-08-22T18:17:49.120965Z",
     "shell.execute_reply.started": "2024-08-22T18:17:48.338621Z"
    },
    "tags": []
   },
   "outputs": [
    {
     "data": {
      "text/plain": [
       "array([1, 2, 3, 4, 5, 6])"
      ]
     },
     "execution_count": 29,
     "metadata": {},
     "output_type": "execute_result"
    }
   ],
   "source": [
    "df_trafego.query(\"year == 2024\")['month'].unique()"
   ]
  },
  {
   "cell_type": "markdown",
   "id": "a051f403-674a-48e9-b2b1-56ea297d48a3",
   "metadata": {},
   "source": [
    "## Criando coluna desambiguando categorias comercial x passeio"
   ]
  },
  {
   "cell_type": "code",
   "execution_count": 30,
   "id": "cf5a5255-4914-47f2-8033-6724d83ef71b",
   "metadata": {
    "execution": {
     "iopub.execute_input": "2024-08-22T18:17:49.124900Z",
     "iopub.status.busy": "2024-08-22T18:17:49.124424Z",
     "iopub.status.idle": "2024-08-22T18:17:49.350751Z",
     "shell.execute_reply": "2024-08-22T18:17:49.349269Z",
     "shell.execute_reply.started": "2024-08-22T18:17:49.124863Z"
    },
    "tags": []
   },
   "outputs": [
    {
     "data": {
      "text/plain": [
       "array(['PASSEIO', 'COMERCIAL', 'MOTO', 'VEÍCULO PEQUENO'], dtype=object)"
      ]
     },
     "execution_count": 30,
     "metadata": {},
     "output_type": "execute_result"
    }
   ],
   "source": [
    "df_trafego['tipo_de_veiculo'].unique()"
   ]
  },
  {
   "cell_type": "code",
   "execution_count": 31,
   "id": "f490e0ed-b6b8-4e97-b659-39d32cf578ae",
   "metadata": {
    "execution": {
     "iopub.execute_input": "2024-08-22T18:17:49.352885Z",
     "iopub.status.busy": "2024-08-22T18:17:49.352483Z",
     "iopub.status.idle": "2024-08-22T18:17:50.060956Z",
     "shell.execute_reply": "2024-08-22T18:17:50.059767Z",
     "shell.execute_reply.started": "2024-08-22T18:17:49.352830Z"
    },
    "tags": []
   },
   "outputs": [],
   "source": [
    "df_trafego[\"TIPO_TRAFEGO\"] = df_trafego['tipo_de_veiculo'].apply(lambda x: x if x == \"COMERCIAL\" else \"PASSEIO\")"
   ]
  },
  {
   "cell_type": "code",
   "execution_count": 32,
   "id": "e237a2f8-7d4b-468f-9bf3-56e4af37fcbd",
   "metadata": {
    "execution": {
     "iopub.execute_input": "2024-08-22T18:17:50.063730Z",
     "iopub.status.busy": "2024-08-22T18:17:50.063057Z",
     "iopub.status.idle": "2024-08-22T18:17:50.297839Z",
     "shell.execute_reply": "2024-08-22T18:17:50.296767Z",
     "shell.execute_reply.started": "2024-08-22T18:17:50.063692Z"
    },
    "tags": []
   },
   "outputs": [
    {
     "data": {
      "text/plain": [
       "array(['PASSEIO', 'COMERCIAL'], dtype=object)"
      ]
     },
     "execution_count": 32,
     "metadata": {},
     "output_type": "execute_result"
    }
   ],
   "source": [
    "df_trafego[\"TIPO_TRAFEGO\"].unique()"
   ]
  },
  {
   "cell_type": "markdown",
   "id": "679e22fb-6baf-465e-ab85-1780da58255d",
   "metadata": {},
   "source": [
    "## Criando colunas com trafégo em Veqs para comercial e passeio"
   ]
  },
  {
   "cell_type": "code",
   "execution_count": 33,
   "id": "b8ff717e-9467-4368-9bfe-da6d7eb99b07",
   "metadata": {
    "execution": {
     "iopub.execute_input": "2024-08-22T18:17:50.299882Z",
     "iopub.status.busy": "2024-08-22T18:17:50.299540Z",
     "iopub.status.idle": "2024-08-22T18:17:52.770642Z",
     "shell.execute_reply": "2024-08-22T18:17:52.769663Z",
     "shell.execute_reply.started": "2024-08-22T18:17:50.299845Z"
    },
    "tags": []
   },
   "outputs": [],
   "source": [
    "df_trafego = df_trafego.rename(columns={'volume_veiculo_equivalente':'VEQS_TOTAL'})\n",
    "df_trafego['VEQS_COMERCIAL'] = np.where(\n",
    "    df_trafego['TIPO_TRAFEGO'] == 'COMERCIAL',\n",
    "    df_trafego['VEQS_TOTAL'],\n",
    "    0\n",
    ")\n",
    "df_trafego['VEQS_PASSEIO'] = np.where(\n",
    "    df_trafego['TIPO_TRAFEGO'] == 'PASSEIO',\n",
    "    df_trafego['VEQS_TOTAL'],\n",
    "    0\n",
    ")"
   ]
  },
  {
   "cell_type": "markdown",
   "id": "6eb69752-50ea-4ed4-b052-3e93dbde2359",
   "metadata": {},
   "source": [
    "# Criando dataframe com o período inicial e final dos dados por concessionária"
   ]
  },
  {
   "cell_type": "code",
   "execution_count": 34,
   "id": "9c88ae9b-ba1f-4cb8-81f9-7e9af597b71e",
   "metadata": {
    "execution": {
     "iopub.execute_input": "2024-08-22T18:17:52.772935Z",
     "iopub.status.busy": "2024-08-22T18:17:52.772418Z",
     "iopub.status.idle": "2024-08-22T18:17:53.569809Z",
     "shell.execute_reply": "2024-08-22T18:17:53.568832Z",
     "shell.execute_reply.started": "2024-08-22T18:17:52.772899Z"
    },
    "tags": []
   },
   "outputs": [],
   "source": [
    "df_periodos = df_trafego.groupby('concessionaria').agg(\n",
    "    data_inicial=('mes_ano', 'min'),\n",
    "    data_final=('mes_ano', 'max')\n",
    ").reset_index()\n",
    "df_periodos['data_inicial'] = pd.to_datetime(df_periodos['data_inicial']).dt.date\n",
    "df_periodos['data_final'] = pd.to_datetime(df_periodos['data_final']).dt.date"
   ]
  },
  {
   "cell_type": "code",
   "execution_count": 35,
   "id": "ff4412de-e2db-46dd-86de-03e350024261",
   "metadata": {
    "execution": {
     "iopub.execute_input": "2024-08-22T18:17:53.571790Z",
     "iopub.status.busy": "2024-08-22T18:17:53.571451Z",
     "iopub.status.idle": "2024-08-22T18:17:53.578209Z",
     "shell.execute_reply": "2024-08-22T18:17:53.576933Z",
     "shell.execute_reply.started": "2024-08-22T18:17:53.571754Z"
    },
    "tags": []
   },
   "outputs": [],
   "source": [
    "df_periodos = df_periodos.sort_values(by='data_inicial', ascending=False)"
   ]
  },
  {
   "cell_type": "markdown",
   "id": "d4a56a76-9175-4683-96dd-3ec24f7c5e17",
   "metadata": {},
   "source": [
    "# Criando dataframes agrupando VEQs por ano/concessionaria/tipo de trafego"
   ]
  },
  {
   "cell_type": "code",
   "execution_count": 36,
   "id": "daa64db4-4baf-4def-96eb-754a59be67d8",
   "metadata": {
    "execution": {
     "iopub.execute_input": "2024-08-22T18:17:53.579683Z",
     "iopub.status.busy": "2024-08-22T18:17:53.579350Z",
     "iopub.status.idle": "2024-08-22T18:17:53.587989Z",
     "shell.execute_reply": "2024-08-22T18:17:53.586885Z",
     "shell.execute_reply.started": "2024-08-22T18:17:53.579649Z"
    },
    "tags": []
   },
   "outputs": [
    {
     "data": {
      "text/plain": [
       "Index(['concessionaria', 'mes_ano', 'sentido', 'praca', 'categoria',\n",
       "       'tipo_de_veiculo', 'volume_total', 'multiplicador_de_tarifa',\n",
       "       'VEQS_TOTAL', 'tipo_de_cobranca', 'year', 'month', 'day',\n",
       "       'TIPO_TRAFEGO', 'VEQS_COMERCIAL', 'VEQS_PASSEIO'],\n",
       "      dtype='object')"
      ]
     },
     "execution_count": 36,
     "metadata": {},
     "output_type": "execute_result"
    }
   ],
   "source": [
    "df_trafego.columns"
   ]
  },
  {
   "cell_type": "code",
   "execution_count": 37,
   "id": "d50674a2-5e78-4c74-b726-dcb92013bdb0",
   "metadata": {
    "execution": {
     "iopub.execute_input": "2024-08-22T18:17:53.591094Z",
     "iopub.status.busy": "2024-08-22T18:17:53.590127Z",
     "iopub.status.idle": "2024-08-22T18:17:53.596203Z",
     "shell.execute_reply": "2024-08-22T18:17:53.594908Z",
     "shell.execute_reply.started": "2024-08-22T18:17:53.591059Z"
    },
    "tags": []
   },
   "outputs": [],
   "source": [
    "cols_veqs = ['VEQS_TOTAL','VEQS_COMERCIAL','VEQS_PASSEIO']"
   ]
  },
  {
   "cell_type": "code",
   "execution_count": 38,
   "id": "5bc113c9-f87f-4b65-a7c4-5006d68589a2",
   "metadata": {
    "execution": {
     "iopub.execute_input": "2024-08-22T18:17:53.598243Z",
     "iopub.status.busy": "2024-08-22T18:17:53.597878Z",
     "iopub.status.idle": "2024-08-22T18:17:55.001040Z",
     "shell.execute_reply": "2024-08-22T18:17:54.999691Z",
     "shell.execute_reply.started": "2024-08-22T18:17:53.598207Z"
    },
    "tags": []
   },
   "outputs": [],
   "source": [
    "dict_veqs = {}\n",
    "for col in cols_veqs:\n",
    "    dict_veqs[col] = df_trafego.pivot_table(\n",
    "        index='concessionaria',\n",
    "        columns='year',\n",
    "        values=col,\n",
    "        aggfunc='sum'\n",
    "        )"
   ]
  },
  {
   "cell_type": "code",
   "execution_count": 39,
   "id": "4dd9752f-93c7-4d40-b8f1-f8c02a084634",
   "metadata": {
    "execution": {
     "iopub.execute_input": "2024-08-22T18:17:55.003011Z",
     "iopub.status.busy": "2024-08-22T18:17:55.002637Z",
     "iopub.status.idle": "2024-08-22T18:17:55.063104Z",
     "shell.execute_reply": "2024-08-22T18:17:55.061873Z",
     "shell.execute_reply.started": "2024-08-22T18:17:55.002975Z"
    },
    "tags": []
   },
   "outputs": [
    {
     "data": {
      "text/html": [
       "<div>\n",
       "<style scoped>\n",
       "    .dataframe tbody tr th:only-of-type {\n",
       "        vertical-align: middle;\n",
       "    }\n",
       "\n",
       "    .dataframe tbody tr th {\n",
       "        vertical-align: top;\n",
       "    }\n",
       "\n",
       "    .dataframe thead th {\n",
       "        text-align: right;\n",
       "    }\n",
       "</style>\n",
       "<table border=\"1\" class=\"dataframe\">\n",
       "  <thead>\n",
       "    <tr style=\"text-align: right;\">\n",
       "      <th>year</th>\n",
       "      <th>2010</th>\n",
       "      <th>2011</th>\n",
       "      <th>2012</th>\n",
       "      <th>2013</th>\n",
       "      <th>2014</th>\n",
       "      <th>2015</th>\n",
       "      <th>2016</th>\n",
       "      <th>2017</th>\n",
       "      <th>2018</th>\n",
       "      <th>2019</th>\n",
       "      <th>2020</th>\n",
       "      <th>2021</th>\n",
       "      <th>2022</th>\n",
       "      <th>2023</th>\n",
       "      <th>2024</th>\n",
       "    </tr>\n",
       "    <tr>\n",
       "      <th>concessionaria</th>\n",
       "      <th></th>\n",
       "      <th></th>\n",
       "      <th></th>\n",
       "      <th></th>\n",
       "      <th></th>\n",
       "      <th></th>\n",
       "      <th></th>\n",
       "      <th></th>\n",
       "      <th></th>\n",
       "      <th></th>\n",
       "      <th></th>\n",
       "      <th></th>\n",
       "      <th></th>\n",
       "      <th></th>\n",
       "      <th></th>\n",
       "    </tr>\n",
       "  </thead>\n",
       "  <tbody>\n",
       "    <tr>\n",
       "      <th>AUTOPISTA FERNÃO DIAS</th>\n",
       "      <td>119092267.5</td>\n",
       "      <td>150559736.0</td>\n",
       "      <td>157806037.0</td>\n",
       "      <td>162107028.0</td>\n",
       "      <td>161068092.0</td>\n",
       "      <td>148094701.5</td>\n",
       "      <td>142458018.5</td>\n",
       "      <td>147170102.5</td>\n",
       "      <td>147290900.0</td>\n",
       "      <td>169882815.5</td>\n",
       "      <td>168401716.5</td>\n",
       "      <td>1.896789e+08</td>\n",
       "      <td>162456829.0</td>\n",
       "      <td>1.679139e+08</td>\n",
       "      <td>12264573.0</td>\n",
       "    </tr>\n",
       "    <tr>\n",
       "      <th>AUTOPISTA FLUMINENSE</th>\n",
       "      <td>41728899.5</td>\n",
       "      <td>45660152.0</td>\n",
       "      <td>47804013.5</td>\n",
       "      <td>47951191.5</td>\n",
       "      <td>48207454.0</td>\n",
       "      <td>45600603.0</td>\n",
       "      <td>41249860.5</td>\n",
       "      <td>39885704.5</td>\n",
       "      <td>39286923.0</td>\n",
       "      <td>40566531.5</td>\n",
       "      <td>38990241.5</td>\n",
       "      <td>4.459816e+07</td>\n",
       "      <td>44950482.0</td>\n",
       "      <td>4.660152e+07</td>\n",
       "      <td>9470489.5</td>\n",
       "    </tr>\n",
       "    <tr>\n",
       "      <th>AUTOPISTA LITORAL SUL</th>\n",
       "      <td>107872122.5</td>\n",
       "      <td>112844729.5</td>\n",
       "      <td>120340610.0</td>\n",
       "      <td>119069671.5</td>\n",
       "      <td>139077138.5</td>\n",
       "      <td>129296415.5</td>\n",
       "      <td>123865581.0</td>\n",
       "      <td>121079477.0</td>\n",
       "      <td>122937552.5</td>\n",
       "      <td>129407313.0</td>\n",
       "      <td>126919283.0</td>\n",
       "      <td>1.401476e+08</td>\n",
       "      <td>140484365.0</td>\n",
       "      <td>1.485568e+08</td>\n",
       "      <td>45936133.5</td>\n",
       "    </tr>\n",
       "    <tr>\n",
       "      <th>AUTOPISTA PLANALTO SUL</th>\n",
       "      <td>25946947.5</td>\n",
       "      <td>27122408.5</td>\n",
       "      <td>27055445.0</td>\n",
       "      <td>28234697.0</td>\n",
       "      <td>29643995.5</td>\n",
       "      <td>26063140.5</td>\n",
       "      <td>25035859.0</td>\n",
       "      <td>24908641.5</td>\n",
       "      <td>26075591.0</td>\n",
       "      <td>27242211.5</td>\n",
       "      <td>27119423.5</td>\n",
       "      <td>3.088398e+07</td>\n",
       "      <td>32397859.0</td>\n",
       "      <td>3.311986e+07</td>\n",
       "      <td>11766091.0</td>\n",
       "    </tr>\n",
       "    <tr>\n",
       "      <th>AUTOPISTA REGIS BITTENCOURT</th>\n",
       "      <td>132761912.5</td>\n",
       "      <td>141009043.5</td>\n",
       "      <td>143187465.0</td>\n",
       "      <td>146902608.5</td>\n",
       "      <td>144880653.0</td>\n",
       "      <td>130744094.0</td>\n",
       "      <td>124006297.0</td>\n",
       "      <td>129737477.5</td>\n",
       "      <td>133263422.5</td>\n",
       "      <td>138980100.0</td>\n",
       "      <td>139187866.5</td>\n",
       "      <td>1.550483e+08</td>\n",
       "      <td>153731701.0</td>\n",
       "      <td>1.569003e+08</td>\n",
       "      <td>13948155.5</td>\n",
       "    </tr>\n",
       "    <tr>\n",
       "      <th>CONCEBRA</th>\n",
       "      <td>NaN</td>\n",
       "      <td>NaN</td>\n",
       "      <td>NaN</td>\n",
       "      <td>NaN</td>\n",
       "      <td>NaN</td>\n",
       "      <td>44784896.0</td>\n",
       "      <td>83469296.5</td>\n",
       "      <td>83991534.5</td>\n",
       "      <td>82802394.5</td>\n",
       "      <td>85876376.0</td>\n",
       "      <td>85486882.0</td>\n",
       "      <td>9.253040e+07</td>\n",
       "      <td>90947633.0</td>\n",
       "      <td>9.367429e+07</td>\n",
       "      <td>46032729.0</td>\n",
       "    </tr>\n",
       "    <tr>\n",
       "      <th>CONCEPA</th>\n",
       "      <td>29641914.5</td>\n",
       "      <td>32032526.0</td>\n",
       "      <td>34632455.5</td>\n",
       "      <td>36922811.0</td>\n",
       "      <td>39101463.5</td>\n",
       "      <td>37236391.0</td>\n",
       "      <td>35607856.5</td>\n",
       "      <td>37787017.5</td>\n",
       "      <td>20508556.0</td>\n",
       "      <td>NaN</td>\n",
       "      <td>NaN</td>\n",
       "      <td>NaN</td>\n",
       "      <td>NaN</td>\n",
       "      <td>NaN</td>\n",
       "      <td>NaN</td>\n",
       "    </tr>\n",
       "    <tr>\n",
       "      <th>CONCER</th>\n",
       "      <td>25050336.0</td>\n",
       "      <td>27478441.5</td>\n",
       "      <td>29282042.5</td>\n",
       "      <td>30236236.5</td>\n",
       "      <td>29587870.5</td>\n",
       "      <td>25994928.5</td>\n",
       "      <td>23552236.0</td>\n",
       "      <td>22784899.5</td>\n",
       "      <td>22615413.5</td>\n",
       "      <td>23558604.0</td>\n",
       "      <td>20635092.0</td>\n",
       "      <td>2.292358e+07</td>\n",
       "      <td>23483295.5</td>\n",
       "      <td>2.484375e+07</td>\n",
       "      <td>10319138.5</td>\n",
       "    </tr>\n",
       "    <tr>\n",
       "      <th>CRO</th>\n",
       "      <td>NaN</td>\n",
       "      <td>NaN</td>\n",
       "      <td>NaN</td>\n",
       "      <td>NaN</td>\n",
       "      <td>NaN</td>\n",
       "      <td>29519863.0</td>\n",
       "      <td>86930106.0</td>\n",
       "      <td>85297258.0</td>\n",
       "      <td>91150072.0</td>\n",
       "      <td>92706338.0</td>\n",
       "      <td>95197099.0</td>\n",
       "      <td>1.040709e+08</td>\n",
       "      <td>109077798.5</td>\n",
       "      <td>1.150608e+08</td>\n",
       "      <td>40578829.5</td>\n",
       "    </tr>\n",
       "    <tr>\n",
       "      <th>CRT</th>\n",
       "      <td>13963163.5</td>\n",
       "      <td>14837628.0</td>\n",
       "      <td>15693161.5</td>\n",
       "      <td>15899696.0</td>\n",
       "      <td>16849968.0</td>\n",
       "      <td>16300701.5</td>\n",
       "      <td>16274495.5</td>\n",
       "      <td>14524275.5</td>\n",
       "      <td>14262621.5</td>\n",
       "      <td>14301458.5</td>\n",
       "      <td>11958984.5</td>\n",
       "      <td>1.337898e+07</td>\n",
       "      <td>9993418.5</td>\n",
       "      <td>NaN</td>\n",
       "      <td>NaN</td>\n",
       "    </tr>\n",
       "    <tr>\n",
       "      <th>ECO050</th>\n",
       "      <td>NaN</td>\n",
       "      <td>NaN</td>\n",
       "      <td>NaN</td>\n",
       "      <td>NaN</td>\n",
       "      <td>NaN</td>\n",
       "      <td>29794797.0</td>\n",
       "      <td>39764220.0</td>\n",
       "      <td>40202595.0</td>\n",
       "      <td>41418301.0</td>\n",
       "      <td>43530959.5</td>\n",
       "      <td>45837222.0</td>\n",
       "      <td>4.735412e+07</td>\n",
       "      <td>53594241.0</td>\n",
       "      <td>5.672383e+07</td>\n",
       "      <td>22550144.5</td>\n",
       "    </tr>\n",
       "    <tr>\n",
       "      <th>ECO101 CONCESSIONARIA DE RODOVIAS S/A</th>\n",
       "      <td>NaN</td>\n",
       "      <td>NaN</td>\n",
       "      <td>NaN</td>\n",
       "      <td>NaN</td>\n",
       "      <td>33914754.5</td>\n",
       "      <td>50334054.0</td>\n",
       "      <td>45017453.5</td>\n",
       "      <td>45236037.5</td>\n",
       "      <td>45781660.0</td>\n",
       "      <td>45964060.5</td>\n",
       "      <td>46683142.0</td>\n",
       "      <td>5.230388e+07</td>\n",
       "      <td>54263404.5</td>\n",
       "      <td>5.796869e+07</td>\n",
       "      <td>24039330.0</td>\n",
       "    </tr>\n",
       "    <tr>\n",
       "      <th>ECOPONTE</th>\n",
       "      <td>NaN</td>\n",
       "      <td>NaN</td>\n",
       "      <td>NaN</td>\n",
       "      <td>NaN</td>\n",
       "      <td>NaN</td>\n",
       "      <td>16922560.0</td>\n",
       "      <td>28826838.0</td>\n",
       "      <td>30075786.0</td>\n",
       "      <td>29451666.5</td>\n",
       "      <td>29388951.5</td>\n",
       "      <td>24667118.0</td>\n",
       "      <td>3.048936e+07</td>\n",
       "      <td>28629242.0</td>\n",
       "      <td>2.886426e+07</td>\n",
       "      <td>11031945.5</td>\n",
       "    </tr>\n",
       "    <tr>\n",
       "      <th>ECORIOMINAS</th>\n",
       "      <td>NaN</td>\n",
       "      <td>NaN</td>\n",
       "      <td>NaN</td>\n",
       "      <td>NaN</td>\n",
       "      <td>NaN</td>\n",
       "      <td>NaN</td>\n",
       "      <td>NaN</td>\n",
       "      <td>NaN</td>\n",
       "      <td>NaN</td>\n",
       "      <td>NaN</td>\n",
       "      <td>NaN</td>\n",
       "      <td>NaN</td>\n",
       "      <td>3374174.5</td>\n",
       "      <td>3.830833e+07</td>\n",
       "      <td>29606083.5</td>\n",
       "    </tr>\n",
       "    <tr>\n",
       "      <th>ECOSUL</th>\n",
       "      <td>19454318.5</td>\n",
       "      <td>21636361.0</td>\n",
       "      <td>21623522.0</td>\n",
       "      <td>25641465.0</td>\n",
       "      <td>27190280.0</td>\n",
       "      <td>26343004.0</td>\n",
       "      <td>25120126.0</td>\n",
       "      <td>25570550.0</td>\n",
       "      <td>25565679.0</td>\n",
       "      <td>25437623.0</td>\n",
       "      <td>23589364.0</td>\n",
       "      <td>2.819562e+07</td>\n",
       "      <td>24393339.5</td>\n",
       "      <td>2.778686e+07</td>\n",
       "      <td>11365340.0</td>\n",
       "    </tr>\n",
       "    <tr>\n",
       "      <th>ECOVIAS DO ARAGUAIA</th>\n",
       "      <td>NaN</td>\n",
       "      <td>NaN</td>\n",
       "      <td>NaN</td>\n",
       "      <td>NaN</td>\n",
       "      <td>NaN</td>\n",
       "      <td>NaN</td>\n",
       "      <td>NaN</td>\n",
       "      <td>NaN</td>\n",
       "      <td>NaN</td>\n",
       "      <td>NaN</td>\n",
       "      <td>NaN</td>\n",
       "      <td>NaN</td>\n",
       "      <td>11302412.5</td>\n",
       "      <td>5.020431e+07</td>\n",
       "      <td>19296730.5</td>\n",
       "    </tr>\n",
       "    <tr>\n",
       "      <th>ECOVIAS DO CERRADO</th>\n",
       "      <td>NaN</td>\n",
       "      <td>NaN</td>\n",
       "      <td>NaN</td>\n",
       "      <td>NaN</td>\n",
       "      <td>NaN</td>\n",
       "      <td>NaN</td>\n",
       "      <td>NaN</td>\n",
       "      <td>NaN</td>\n",
       "      <td>NaN</td>\n",
       "      <td>NaN</td>\n",
       "      <td>2593404.5</td>\n",
       "      <td>3.147533e+07</td>\n",
       "      <td>33831196.5</td>\n",
       "      <td>3.745700e+07</td>\n",
       "      <td>14259663.0</td>\n",
       "    </tr>\n",
       "    <tr>\n",
       "      <th>HOLDING DO SISTEMA RODOVIARIO RIO - SAO PAULO S.A.</th>\n",
       "      <td>NaN</td>\n",
       "      <td>NaN</td>\n",
       "      <td>NaN</td>\n",
       "      <td>NaN</td>\n",
       "      <td>NaN</td>\n",
       "      <td>NaN</td>\n",
       "      <td>NaN</td>\n",
       "      <td>NaN</td>\n",
       "      <td>NaN</td>\n",
       "      <td>NaN</td>\n",
       "      <td>NaN</td>\n",
       "      <td>NaN</td>\n",
       "      <td>NaN</td>\n",
       "      <td>NaN</td>\n",
       "      <td>59119611.0</td>\n",
       "    </tr>\n",
       "    <tr>\n",
       "      <th>MSVIA</th>\n",
       "      <td>NaN</td>\n",
       "      <td>NaN</td>\n",
       "      <td>NaN</td>\n",
       "      <td>NaN</td>\n",
       "      <td>NaN</td>\n",
       "      <td>14631597.5</td>\n",
       "      <td>47164823.5</td>\n",
       "      <td>42913505.5</td>\n",
       "      <td>44696814.5</td>\n",
       "      <td>44275936.0</td>\n",
       "      <td>44398517.0</td>\n",
       "      <td>5.096163e+07</td>\n",
       "      <td>51850174.0</td>\n",
       "      <td>5.657153e+07</td>\n",
       "      <td>14822338.5</td>\n",
       "    </tr>\n",
       "    <tr>\n",
       "      <th>NOVADUTRA</th>\n",
       "      <td>162352864.5</td>\n",
       "      <td>177537947.5</td>\n",
       "      <td>178922255.0</td>\n",
       "      <td>183898769.5</td>\n",
       "      <td>182277825.0</td>\n",
       "      <td>166825786.5</td>\n",
       "      <td>157992653.5</td>\n",
       "      <td>158964965.0</td>\n",
       "      <td>155647767.5</td>\n",
       "      <td>158208519.5</td>\n",
       "      <td>146865183.5</td>\n",
       "      <td>1.626826e+08</td>\n",
       "      <td>26495457.0</td>\n",
       "      <td>NaN</td>\n",
       "      <td>NaN</td>\n",
       "    </tr>\n",
       "    <tr>\n",
       "      <th>RIOSP</th>\n",
       "      <td>NaN</td>\n",
       "      <td>NaN</td>\n",
       "      <td>NaN</td>\n",
       "      <td>NaN</td>\n",
       "      <td>NaN</td>\n",
       "      <td>NaN</td>\n",
       "      <td>NaN</td>\n",
       "      <td>NaN</td>\n",
       "      <td>NaN</td>\n",
       "      <td>NaN</td>\n",
       "      <td>NaN</td>\n",
       "      <td>NaN</td>\n",
       "      <td>144794253.0</td>\n",
       "      <td>1.671757e+08</td>\n",
       "      <td>NaN</td>\n",
       "    </tr>\n",
       "    <tr>\n",
       "      <th>RODOVIA DO AÇO</th>\n",
       "      <td>17031050.0</td>\n",
       "      <td>16627859.0</td>\n",
       "      <td>15692550.5</td>\n",
       "      <td>17244266.5</td>\n",
       "      <td>17270326.0</td>\n",
       "      <td>16310598.0</td>\n",
       "      <td>15568003.5</td>\n",
       "      <td>16150196.5</td>\n",
       "      <td>16261126.0</td>\n",
       "      <td>16153549.5</td>\n",
       "      <td>15175814.0</td>\n",
       "      <td>1.642856e+07</td>\n",
       "      <td>16453510.5</td>\n",
       "      <td>1.721008e+07</td>\n",
       "      <td>5600062.0</td>\n",
       "    </tr>\n",
       "    <tr>\n",
       "      <th>TRANSBRASILIANA</th>\n",
       "      <td>22348328.5</td>\n",
       "      <td>23922007.0</td>\n",
       "      <td>25911826.5</td>\n",
       "      <td>26471204.5</td>\n",
       "      <td>26589654.0</td>\n",
       "      <td>24297049.0</td>\n",
       "      <td>23241685.5</td>\n",
       "      <td>22548784.0</td>\n",
       "      <td>21955209.0</td>\n",
       "      <td>22769175.0</td>\n",
       "      <td>22574304.0</td>\n",
       "      <td>2.298177e+07</td>\n",
       "      <td>23738405.0</td>\n",
       "      <td>2.362224e+07</td>\n",
       "      <td>2476236.5</td>\n",
       "    </tr>\n",
       "    <tr>\n",
       "      <th>VIA 040</th>\n",
       "      <td>NaN</td>\n",
       "      <td>NaN</td>\n",
       "      <td>NaN</td>\n",
       "      <td>NaN</td>\n",
       "      <td>NaN</td>\n",
       "      <td>30898082.0</td>\n",
       "      <td>65140474.5</td>\n",
       "      <td>65741873.0</td>\n",
       "      <td>66811190.5</td>\n",
       "      <td>70635117.0</td>\n",
       "      <td>78801240.5</td>\n",
       "      <td>7.801864e+07</td>\n",
       "      <td>78178635.0</td>\n",
       "      <td>8.223068e+07</td>\n",
       "      <td>23900155.0</td>\n",
       "    </tr>\n",
       "    <tr>\n",
       "      <th>VIA BAHIA</th>\n",
       "      <td>NaN</td>\n",
       "      <td>NaN</td>\n",
       "      <td>NaN</td>\n",
       "      <td>91340424.0</td>\n",
       "      <td>94880871.0</td>\n",
       "      <td>89070894.5</td>\n",
       "      <td>83523619.5</td>\n",
       "      <td>86490092.5</td>\n",
       "      <td>86398314.0</td>\n",
       "      <td>86973508.0</td>\n",
       "      <td>85441158.0</td>\n",
       "      <td>8.995760e+07</td>\n",
       "      <td>89130842.5</td>\n",
       "      <td>8.898991e+07</td>\n",
       "      <td>38417001.0</td>\n",
       "    </tr>\n",
       "    <tr>\n",
       "      <th>VIA BRASIL</th>\n",
       "      <td>NaN</td>\n",
       "      <td>NaN</td>\n",
       "      <td>NaN</td>\n",
       "      <td>NaN</td>\n",
       "      <td>NaN</td>\n",
       "      <td>NaN</td>\n",
       "      <td>NaN</td>\n",
       "      <td>NaN</td>\n",
       "      <td>NaN</td>\n",
       "      <td>NaN</td>\n",
       "      <td>NaN</td>\n",
       "      <td>NaN</td>\n",
       "      <td>NaN</td>\n",
       "      <td>1.728525e+07</td>\n",
       "      <td>NaN</td>\n",
       "    </tr>\n",
       "    <tr>\n",
       "      <th>VIA COSTEIRA</th>\n",
       "      <td>NaN</td>\n",
       "      <td>NaN</td>\n",
       "      <td>NaN</td>\n",
       "      <td>NaN</td>\n",
       "      <td>NaN</td>\n",
       "      <td>NaN</td>\n",
       "      <td>NaN</td>\n",
       "      <td>NaN</td>\n",
       "      <td>NaN</td>\n",
       "      <td>NaN</td>\n",
       "      <td>NaN</td>\n",
       "      <td>NaN</td>\n",
       "      <td>79214461.5</td>\n",
       "      <td>8.265980e+07</td>\n",
       "      <td>8027855.0</td>\n",
       "    </tr>\n",
       "    <tr>\n",
       "      <th>VIA SUL</th>\n",
       "      <td>NaN</td>\n",
       "      <td>NaN</td>\n",
       "      <td>NaN</td>\n",
       "      <td>NaN</td>\n",
       "      <td>NaN</td>\n",
       "      <td>NaN</td>\n",
       "      <td>NaN</td>\n",
       "      <td>NaN</td>\n",
       "      <td>NaN</td>\n",
       "      <td>28621129.0</td>\n",
       "      <td>74192481.0</td>\n",
       "      <td>9.007286e+07</td>\n",
       "      <td>92375185.5</td>\n",
       "      <td>9.693012e+07</td>\n",
       "      <td>16081901.5</td>\n",
       "    </tr>\n",
       "  </tbody>\n",
       "</table>\n",
       "</div>"
      ],
      "text/plain": [
       "year                                                       2010         2011  \\\n",
       "concessionaria                                                                 \n",
       "AUTOPISTA FERNÃO DIAS                               119092267.5  150559736.0   \n",
       "AUTOPISTA FLUMINENSE                                 41728899.5   45660152.0   \n",
       "AUTOPISTA LITORAL SUL                               107872122.5  112844729.5   \n",
       "AUTOPISTA PLANALTO SUL                               25946947.5   27122408.5   \n",
       "AUTOPISTA REGIS BITTENCOURT                         132761912.5  141009043.5   \n",
       "CONCEBRA                                                    NaN          NaN   \n",
       "CONCEPA                                              29641914.5   32032526.0   \n",
       "CONCER                                               25050336.0   27478441.5   \n",
       "CRO                                                         NaN          NaN   \n",
       "CRT                                                  13963163.5   14837628.0   \n",
       "ECO050                                                      NaN          NaN   \n",
       "ECO101 CONCESSIONARIA DE RODOVIAS S/A                       NaN          NaN   \n",
       "ECOPONTE                                                    NaN          NaN   \n",
       "ECORIOMINAS                                                 NaN          NaN   \n",
       "ECOSUL                                               19454318.5   21636361.0   \n",
       "ECOVIAS DO ARAGUAIA                                         NaN          NaN   \n",
       "ECOVIAS DO CERRADO                                          NaN          NaN   \n",
       "HOLDING DO SISTEMA RODOVIARIO RIO - SAO PAULO S.A.          NaN          NaN   \n",
       "MSVIA                                                       NaN          NaN   \n",
       "NOVADUTRA                                           162352864.5  177537947.5   \n",
       "RIOSP                                                       NaN          NaN   \n",
       "RODOVIA DO AÇO                                       17031050.0   16627859.0   \n",
       "TRANSBRASILIANA                                      22348328.5   23922007.0   \n",
       "VIA 040                                                     NaN          NaN   \n",
       "VIA BAHIA                                                   NaN          NaN   \n",
       "VIA BRASIL                                                  NaN          NaN   \n",
       "VIA COSTEIRA                                                NaN          NaN   \n",
       "VIA SUL                                                     NaN          NaN   \n",
       "\n",
       "year                                                       2012         2013  \\\n",
       "concessionaria                                                                 \n",
       "AUTOPISTA FERNÃO DIAS                               157806037.0  162107028.0   \n",
       "AUTOPISTA FLUMINENSE                                 47804013.5   47951191.5   \n",
       "AUTOPISTA LITORAL SUL                               120340610.0  119069671.5   \n",
       "AUTOPISTA PLANALTO SUL                               27055445.0   28234697.0   \n",
       "AUTOPISTA REGIS BITTENCOURT                         143187465.0  146902608.5   \n",
       "CONCEBRA                                                    NaN          NaN   \n",
       "CONCEPA                                              34632455.5   36922811.0   \n",
       "CONCER                                               29282042.5   30236236.5   \n",
       "CRO                                                         NaN          NaN   \n",
       "CRT                                                  15693161.5   15899696.0   \n",
       "ECO050                                                      NaN          NaN   \n",
       "ECO101 CONCESSIONARIA DE RODOVIAS S/A                       NaN          NaN   \n",
       "ECOPONTE                                                    NaN          NaN   \n",
       "ECORIOMINAS                                                 NaN          NaN   \n",
       "ECOSUL                                               21623522.0   25641465.0   \n",
       "ECOVIAS DO ARAGUAIA                                         NaN          NaN   \n",
       "ECOVIAS DO CERRADO                                          NaN          NaN   \n",
       "HOLDING DO SISTEMA RODOVIARIO RIO - SAO PAULO S.A.          NaN          NaN   \n",
       "MSVIA                                                       NaN          NaN   \n",
       "NOVADUTRA                                           178922255.0  183898769.5   \n",
       "RIOSP                                                       NaN          NaN   \n",
       "RODOVIA DO AÇO                                       15692550.5   17244266.5   \n",
       "TRANSBRASILIANA                                      25911826.5   26471204.5   \n",
       "VIA 040                                                     NaN          NaN   \n",
       "VIA BAHIA                                                   NaN   91340424.0   \n",
       "VIA BRASIL                                                  NaN          NaN   \n",
       "VIA COSTEIRA                                                NaN          NaN   \n",
       "VIA SUL                                                     NaN          NaN   \n",
       "\n",
       "year                                                       2014         2015  \\\n",
       "concessionaria                                                                 \n",
       "AUTOPISTA FERNÃO DIAS                               161068092.0  148094701.5   \n",
       "AUTOPISTA FLUMINENSE                                 48207454.0   45600603.0   \n",
       "AUTOPISTA LITORAL SUL                               139077138.5  129296415.5   \n",
       "AUTOPISTA PLANALTO SUL                               29643995.5   26063140.5   \n",
       "AUTOPISTA REGIS BITTENCOURT                         144880653.0  130744094.0   \n",
       "CONCEBRA                                                    NaN   44784896.0   \n",
       "CONCEPA                                              39101463.5   37236391.0   \n",
       "CONCER                                               29587870.5   25994928.5   \n",
       "CRO                                                         NaN   29519863.0   \n",
       "CRT                                                  16849968.0   16300701.5   \n",
       "ECO050                                                      NaN   29794797.0   \n",
       "ECO101 CONCESSIONARIA DE RODOVIAS S/A                33914754.5   50334054.0   \n",
       "ECOPONTE                                                    NaN   16922560.0   \n",
       "ECORIOMINAS                                                 NaN          NaN   \n",
       "ECOSUL                                               27190280.0   26343004.0   \n",
       "ECOVIAS DO ARAGUAIA                                         NaN          NaN   \n",
       "ECOVIAS DO CERRADO                                          NaN          NaN   \n",
       "HOLDING DO SISTEMA RODOVIARIO RIO - SAO PAULO S.A.          NaN          NaN   \n",
       "MSVIA                                                       NaN   14631597.5   \n",
       "NOVADUTRA                                           182277825.0  166825786.5   \n",
       "RIOSP                                                       NaN          NaN   \n",
       "RODOVIA DO AÇO                                       17270326.0   16310598.0   \n",
       "TRANSBRASILIANA                                      26589654.0   24297049.0   \n",
       "VIA 040                                                     NaN   30898082.0   \n",
       "VIA BAHIA                                            94880871.0   89070894.5   \n",
       "VIA BRASIL                                                  NaN          NaN   \n",
       "VIA COSTEIRA                                                NaN          NaN   \n",
       "VIA SUL                                                     NaN          NaN   \n",
       "\n",
       "year                                                       2016         2017  \\\n",
       "concessionaria                                                                 \n",
       "AUTOPISTA FERNÃO DIAS                               142458018.5  147170102.5   \n",
       "AUTOPISTA FLUMINENSE                                 41249860.5   39885704.5   \n",
       "AUTOPISTA LITORAL SUL                               123865581.0  121079477.0   \n",
       "AUTOPISTA PLANALTO SUL                               25035859.0   24908641.5   \n",
       "AUTOPISTA REGIS BITTENCOURT                         124006297.0  129737477.5   \n",
       "CONCEBRA                                             83469296.5   83991534.5   \n",
       "CONCEPA                                              35607856.5   37787017.5   \n",
       "CONCER                                               23552236.0   22784899.5   \n",
       "CRO                                                  86930106.0   85297258.0   \n",
       "CRT                                                  16274495.5   14524275.5   \n",
       "ECO050                                               39764220.0   40202595.0   \n",
       "ECO101 CONCESSIONARIA DE RODOVIAS S/A                45017453.5   45236037.5   \n",
       "ECOPONTE                                             28826838.0   30075786.0   \n",
       "ECORIOMINAS                                                 NaN          NaN   \n",
       "ECOSUL                                               25120126.0   25570550.0   \n",
       "ECOVIAS DO ARAGUAIA                                         NaN          NaN   \n",
       "ECOVIAS DO CERRADO                                          NaN          NaN   \n",
       "HOLDING DO SISTEMA RODOVIARIO RIO - SAO PAULO S.A.          NaN          NaN   \n",
       "MSVIA                                                47164823.5   42913505.5   \n",
       "NOVADUTRA                                           157992653.5  158964965.0   \n",
       "RIOSP                                                       NaN          NaN   \n",
       "RODOVIA DO AÇO                                       15568003.5   16150196.5   \n",
       "TRANSBRASILIANA                                      23241685.5   22548784.0   \n",
       "VIA 040                                              65140474.5   65741873.0   \n",
       "VIA BAHIA                                            83523619.5   86490092.5   \n",
       "VIA BRASIL                                                  NaN          NaN   \n",
       "VIA COSTEIRA                                                NaN          NaN   \n",
       "VIA SUL                                                     NaN          NaN   \n",
       "\n",
       "year                                                       2018         2019  \\\n",
       "concessionaria                                                                 \n",
       "AUTOPISTA FERNÃO DIAS                               147290900.0  169882815.5   \n",
       "AUTOPISTA FLUMINENSE                                 39286923.0   40566531.5   \n",
       "AUTOPISTA LITORAL SUL                               122937552.5  129407313.0   \n",
       "AUTOPISTA PLANALTO SUL                               26075591.0   27242211.5   \n",
       "AUTOPISTA REGIS BITTENCOURT                         133263422.5  138980100.0   \n",
       "CONCEBRA                                             82802394.5   85876376.0   \n",
       "CONCEPA                                              20508556.0          NaN   \n",
       "CONCER                                               22615413.5   23558604.0   \n",
       "CRO                                                  91150072.0   92706338.0   \n",
       "CRT                                                  14262621.5   14301458.5   \n",
       "ECO050                                               41418301.0   43530959.5   \n",
       "ECO101 CONCESSIONARIA DE RODOVIAS S/A                45781660.0   45964060.5   \n",
       "ECOPONTE                                             29451666.5   29388951.5   \n",
       "ECORIOMINAS                                                 NaN          NaN   \n",
       "ECOSUL                                               25565679.0   25437623.0   \n",
       "ECOVIAS DO ARAGUAIA                                         NaN          NaN   \n",
       "ECOVIAS DO CERRADO                                          NaN          NaN   \n",
       "HOLDING DO SISTEMA RODOVIARIO RIO - SAO PAULO S.A.          NaN          NaN   \n",
       "MSVIA                                                44696814.5   44275936.0   \n",
       "NOVADUTRA                                           155647767.5  158208519.5   \n",
       "RIOSP                                                       NaN          NaN   \n",
       "RODOVIA DO AÇO                                       16261126.0   16153549.5   \n",
       "TRANSBRASILIANA                                      21955209.0   22769175.0   \n",
       "VIA 040                                              66811190.5   70635117.0   \n",
       "VIA BAHIA                                            86398314.0   86973508.0   \n",
       "VIA BRASIL                                                  NaN          NaN   \n",
       "VIA COSTEIRA                                                NaN          NaN   \n",
       "VIA SUL                                                     NaN   28621129.0   \n",
       "\n",
       "year                                                       2020          2021  \\\n",
       "concessionaria                                                                  \n",
       "AUTOPISTA FERNÃO DIAS                               168401716.5  1.896789e+08   \n",
       "AUTOPISTA FLUMINENSE                                 38990241.5  4.459816e+07   \n",
       "AUTOPISTA LITORAL SUL                               126919283.0  1.401476e+08   \n",
       "AUTOPISTA PLANALTO SUL                               27119423.5  3.088398e+07   \n",
       "AUTOPISTA REGIS BITTENCOURT                         139187866.5  1.550483e+08   \n",
       "CONCEBRA                                             85486882.0  9.253040e+07   \n",
       "CONCEPA                                                     NaN           NaN   \n",
       "CONCER                                               20635092.0  2.292358e+07   \n",
       "CRO                                                  95197099.0  1.040709e+08   \n",
       "CRT                                                  11958984.5  1.337898e+07   \n",
       "ECO050                                               45837222.0  4.735412e+07   \n",
       "ECO101 CONCESSIONARIA DE RODOVIAS S/A                46683142.0  5.230388e+07   \n",
       "ECOPONTE                                             24667118.0  3.048936e+07   \n",
       "ECORIOMINAS                                                 NaN           NaN   \n",
       "ECOSUL                                               23589364.0  2.819562e+07   \n",
       "ECOVIAS DO ARAGUAIA                                         NaN           NaN   \n",
       "ECOVIAS DO CERRADO                                    2593404.5  3.147533e+07   \n",
       "HOLDING DO SISTEMA RODOVIARIO RIO - SAO PAULO S.A.          NaN           NaN   \n",
       "MSVIA                                                44398517.0  5.096163e+07   \n",
       "NOVADUTRA                                           146865183.5  1.626826e+08   \n",
       "RIOSP                                                       NaN           NaN   \n",
       "RODOVIA DO AÇO                                       15175814.0  1.642856e+07   \n",
       "TRANSBRASILIANA                                      22574304.0  2.298177e+07   \n",
       "VIA 040                                              78801240.5  7.801864e+07   \n",
       "VIA BAHIA                                            85441158.0  8.995760e+07   \n",
       "VIA BRASIL                                                  NaN           NaN   \n",
       "VIA COSTEIRA                                                NaN           NaN   \n",
       "VIA SUL                                              74192481.0  9.007286e+07   \n",
       "\n",
       "year                                                       2022          2023  \\\n",
       "concessionaria                                                                  \n",
       "AUTOPISTA FERNÃO DIAS                               162456829.0  1.679139e+08   \n",
       "AUTOPISTA FLUMINENSE                                 44950482.0  4.660152e+07   \n",
       "AUTOPISTA LITORAL SUL                               140484365.0  1.485568e+08   \n",
       "AUTOPISTA PLANALTO SUL                               32397859.0  3.311986e+07   \n",
       "AUTOPISTA REGIS BITTENCOURT                         153731701.0  1.569003e+08   \n",
       "CONCEBRA                                             90947633.0  9.367429e+07   \n",
       "CONCEPA                                                     NaN           NaN   \n",
       "CONCER                                               23483295.5  2.484375e+07   \n",
       "CRO                                                 109077798.5  1.150608e+08   \n",
       "CRT                                                   9993418.5           NaN   \n",
       "ECO050                                               53594241.0  5.672383e+07   \n",
       "ECO101 CONCESSIONARIA DE RODOVIAS S/A                54263404.5  5.796869e+07   \n",
       "ECOPONTE                                             28629242.0  2.886426e+07   \n",
       "ECORIOMINAS                                           3374174.5  3.830833e+07   \n",
       "ECOSUL                                               24393339.5  2.778686e+07   \n",
       "ECOVIAS DO ARAGUAIA                                  11302412.5  5.020431e+07   \n",
       "ECOVIAS DO CERRADO                                   33831196.5  3.745700e+07   \n",
       "HOLDING DO SISTEMA RODOVIARIO RIO - SAO PAULO S.A.          NaN           NaN   \n",
       "MSVIA                                                51850174.0  5.657153e+07   \n",
       "NOVADUTRA                                            26495457.0           NaN   \n",
       "RIOSP                                               144794253.0  1.671757e+08   \n",
       "RODOVIA DO AÇO                                       16453510.5  1.721008e+07   \n",
       "TRANSBRASILIANA                                      23738405.0  2.362224e+07   \n",
       "VIA 040                                              78178635.0  8.223068e+07   \n",
       "VIA BAHIA                                            89130842.5  8.898991e+07   \n",
       "VIA BRASIL                                                  NaN  1.728525e+07   \n",
       "VIA COSTEIRA                                         79214461.5  8.265980e+07   \n",
       "VIA SUL                                              92375185.5  9.693012e+07   \n",
       "\n",
       "year                                                      2024  \n",
       "concessionaria                                                  \n",
       "AUTOPISTA FERNÃO DIAS                               12264573.0  \n",
       "AUTOPISTA FLUMINENSE                                 9470489.5  \n",
       "AUTOPISTA LITORAL SUL                               45936133.5  \n",
       "AUTOPISTA PLANALTO SUL                              11766091.0  \n",
       "AUTOPISTA REGIS BITTENCOURT                         13948155.5  \n",
       "CONCEBRA                                            46032729.0  \n",
       "CONCEPA                                                    NaN  \n",
       "CONCER                                              10319138.5  \n",
       "CRO                                                 40578829.5  \n",
       "CRT                                                        NaN  \n",
       "ECO050                                              22550144.5  \n",
       "ECO101 CONCESSIONARIA DE RODOVIAS S/A               24039330.0  \n",
       "ECOPONTE                                            11031945.5  \n",
       "ECORIOMINAS                                         29606083.5  \n",
       "ECOSUL                                              11365340.0  \n",
       "ECOVIAS DO ARAGUAIA                                 19296730.5  \n",
       "ECOVIAS DO CERRADO                                  14259663.0  \n",
       "HOLDING DO SISTEMA RODOVIARIO RIO - SAO PAULO S.A.  59119611.0  \n",
       "MSVIA                                               14822338.5  \n",
       "NOVADUTRA                                                  NaN  \n",
       "RIOSP                                                      NaN  \n",
       "RODOVIA DO AÇO                                       5600062.0  \n",
       "TRANSBRASILIANA                                      2476236.5  \n",
       "VIA 040                                             23900155.0  \n",
       "VIA BAHIA                                           38417001.0  \n",
       "VIA BRASIL                                                 NaN  \n",
       "VIA COSTEIRA                                         8027855.0  \n",
       "VIA SUL                                             16081901.5  "
      ]
     },
     "execution_count": 39,
     "metadata": {},
     "output_type": "execute_result"
    }
   ],
   "source": [
    "dict_veqs['VEQS_TOTAL']"
   ]
  },
  {
   "cell_type": "markdown",
   "id": "9ccb98c0-7421-45f3-836b-a72d778b90f8",
   "metadata": {
    "tags": []
   },
   "source": [
    "# CAGR"
   ]
  },
  {
   "cell_type": "code",
   "execution_count": 40,
   "id": "02c42f71-e888-4a0d-bcf0-82dcf6d5b7e8",
   "metadata": {
    "execution": {
     "iopub.execute_input": "2024-08-22T18:17:55.065727Z",
     "iopub.status.busy": "2024-08-22T18:17:55.065157Z",
     "iopub.status.idle": "2024-08-22T18:17:55.074083Z",
     "shell.execute_reply": "2024-08-22T18:17:55.072868Z",
     "shell.execute_reply.started": "2024-08-22T18:17:55.065674Z"
    },
    "tags": []
   },
   "outputs": [],
   "source": [
    "def filter_periodos(df_periodos, periodo: list):\n",
    "    # Convert data_inicial and data_final to consistent date format\n",
    "    df_periodos['data_inicial'] = pd.to_datetime(df_periodos['data_inicial']).dt.date\n",
    "    df_periodos['data_final'] = pd.to_datetime(df_periodos['data_final']).dt.date\n",
    "\n",
    "    # Define start and end dates\n",
    "    start_date = pd.to_datetime(f'{periodo[0]}-01-01').date()\n",
    "    end_date = pd.to_datetime(f'{periodo[1]}-12-31').date()\n",
    "\n",
    "    # Apply the mask: Match start date exactly and ensure the period ends on or after the specified end date\n",
    "    mask = (df_periodos['data_inicial'] == start_date) & (df_periodos['data_final'] >= end_date)\n",
    "\n",
    "    # Filter the dataframe\n",
    "    df_filtrada_periodo = df_periodos[mask]\n",
    "    \n",
    "    return df_filtrada_periodo"
   ]
  },
  {
   "cell_type": "code",
   "execution_count": 41,
   "id": "3953fdad-5991-4a8a-aa61-d4a22ea5515a",
   "metadata": {
    "execution": {
     "iopub.execute_input": "2024-08-22T18:17:55.075917Z",
     "iopub.status.busy": "2024-08-22T18:17:55.075604Z",
     "iopub.status.idle": "2024-08-22T18:17:55.086792Z",
     "shell.execute_reply": "2024-08-22T18:17:55.085666Z",
     "shell.execute_reply.started": "2024-08-22T18:17:55.075883Z"
    },
    "tags": []
   },
   "outputs": [],
   "source": [
    "def calc_cagr(dict_veqs:dict, df_periodos, periodos:list):\n",
    "    # Criando dataframes para os cálculos e condições\n",
    "    df_CAGR = pd.DataFrame(index=df_periodos.index)\n",
    "    df_periodos.index = df_periodos['concessionaria']\n",
    "    \n",
    "    for key, df_veqs in dict_veqs.items():\n",
    "        \n",
    "        if 'data_inicial' not in df_veqs.columns and 'data_final' not in df_veqs.columns:\n",
    "            df_veqs = df_veqs.join(df_periodos[['data_inicial','data_final']])\n",
    "        # df_veqs = df_veqs.join(df_periodos[['data_inicial','data_final']])\n",
    "    \n",
    "        for anos in periodos:\n",
    "            # Condição para calcular apenas para anos completos no período\n",
    "            start_date = pd.to_datetime(f'{anos[0]}-01-01').date()\n",
    "            end_date = pd.to_datetime(f'{anos[1]}-12-31').date()\n",
    "            # condition = (df_CAGR['data_inicial'] <= start_date) & (df_CAGR['data_final'] >= end_date)\n",
    "            condition = (df_veqs['data_inicial'] <= start_date) & (df_veqs['data_final'] > end_date)\n",
    "\n",
    "            # Calculando o CAGR no período\n",
    "            col_CAGR = f'CAGR{anos[0]}-{anos[1]}_%'      \n",
    "            df_veqs[col_CAGR] = np.where(condition,\n",
    "                                        ( ( (df_veqs[anos[1]] / df_veqs[anos[0]]) ** (1 / (anos[1]-anos[0])) ) - 1 ) * 100,\n",
    "                                         'N/D'\n",
    "                                        )\n",
    "        dict_veqs[key] = df_veqs\n",
    "        \n",
    "    return dict_veqs"
   ]
  },
  {
   "cell_type": "code",
   "execution_count": 42,
   "id": "9ab0482c-e650-46cc-b104-94c4c85e1e38",
   "metadata": {
    "execution": {
     "iopub.execute_input": "2024-08-22T18:17:55.089041Z",
     "iopub.status.busy": "2024-08-22T18:17:55.088537Z",
     "iopub.status.idle": "2024-08-22T18:17:55.124905Z",
     "shell.execute_reply": "2024-08-22T18:17:55.123476Z",
     "shell.execute_reply.started": "2024-08-22T18:17:55.088989Z"
    },
    "tags": []
   },
   "outputs": [],
   "source": [
    "dict_veqs = calc_cagr(dict_veqs, df_periodos, periodos_CAGR)"
   ]
  },
  {
   "cell_type": "markdown",
   "id": "6c90ab55-71f1-4129-ac09-2617c0722e83",
   "metadata": {},
   "source": [
    "# Salvando p/parquet"
   ]
  },
  {
   "cell_type": "code",
   "execution_count": 43,
   "id": "3138fcdf-0e76-4d87-95ad-bd044cefbf8f",
   "metadata": {
    "execution": {
     "iopub.execute_input": "2024-08-22T18:17:55.128761Z",
     "iopub.status.busy": "2024-08-22T18:17:55.127112Z",
     "iopub.status.idle": "2024-08-22T18:18:06.713395Z",
     "shell.execute_reply": "2024-08-22T18:18:06.712440Z",
     "shell.execute_reply.started": "2024-08-22T18:17:55.128686Z"
    },
    "tags": []
   },
   "outputs": [],
   "source": [
    "# dataframe total\n",
    "# df_trafego.to_parquet(os.path.join(path_dados_derivados,'df_trafego.parquet'))\n",
    "df_trafego.to_parquet(path_output /'df_trafego.parquet')"
   ]
  },
  {
   "cell_type": "code",
   "execution_count": 44,
   "id": "dc5e978b-2ed4-4311-92ef-6a9836424ec6",
   "metadata": {
    "execution": {
     "iopub.execute_input": "2024-08-22T18:18:06.715299Z",
     "iopub.status.busy": "2024-08-22T18:18:06.714976Z",
     "iopub.status.idle": "2024-08-22T18:18:06.723843Z",
     "shell.execute_reply": "2024-08-22T18:18:06.722712Z",
     "shell.execute_reply.started": "2024-08-22T18:18:06.715263Z"
    },
    "tags": []
   },
   "outputs": [],
   "source": [
    "# data inicial e final\n",
    "df_periodos.to_parquet(path_output /'df_periodos.parquet')"
   ]
  },
  {
   "cell_type": "code",
   "execution_count": 45,
   "id": "eaf1133f-540b-4ad7-9d5d-a008f1d4ca36",
   "metadata": {
    "execution": {
     "iopub.execute_input": "2024-08-22T18:18:06.725619Z",
     "iopub.status.busy": "2024-08-22T18:18:06.725271Z",
     "iopub.status.idle": "2024-08-22T18:18:06.763773Z",
     "shell.execute_reply": "2024-08-22T18:18:06.762177Z",
     "shell.execute_reply.started": "2024-08-22T18:18:06.725584Z"
    },
    "tags": []
   },
   "outputs": [
    {
     "name": "stderr",
     "output_type": "stream",
     "text": [
      "/home/andcm/.cache/pypoetry/virtualenvs/infra-data-J9p6eQia-py3.9/lib/python3.9/site-packages/pandas/io/parquet.py:190: UserWarning: The DataFrame has column names of mixed type. They will be converted to strings and not roundtrip correctly.\n",
      "  table = self.api.Table.from_pandas(df, **from_pandas_kwargs)\n"
     ]
    }
   ],
   "source": [
    "# dicionário com os dados de tráfego:\n",
    "for veq in dict_veqs:\n",
    "    dict_veqs[veq].to_parquet(path_output / f'df_{veq}.parquet')"
   ]
  },
  {
   "cell_type": "markdown",
   "id": "3dd5690a-1f36-4de9-ace5-6f90ed976fd2",
   "metadata": {},
   "source": [
    "# Salvando p/Excel"
   ]
  },
  {
   "cell_type": "code",
   "execution_count": 46,
   "id": "5aa80b27-1e5f-46bc-a90d-cf4964847bf0",
   "metadata": {
    "execution": {
     "iopub.execute_input": "2024-08-22T18:18:06.766174Z",
     "iopub.status.busy": "2024-08-22T18:18:06.765640Z",
     "iopub.status.idle": "2024-08-22T18:18:07.154790Z",
     "shell.execute_reply": "2024-08-22T18:18:07.153439Z",
     "shell.execute_reply.started": "2024-08-22T18:18:06.766135Z"
    },
    "tags": []
   },
   "outputs": [],
   "source": [
    "with pd.ExcelWriter(path_output / 'dados_trafego_ANTT.xlsx') as writer:\n",
    "    df_periodos.to_excel(writer, sheet_name=\"periodo_concessionarias\")\n",
    "    for veq in dict_veqs:\n",
    "        dict_veqs[veq].to_excel(writer, sheet_name=f\"{veq}\")"
   ]
  },
  {
   "cell_type": "code",
   "execution_count": null,
   "id": "20a18c87-2f93-4f7b-9005-a7b2d0c60af1",
   "metadata": {},
   "outputs": [],
   "source": []
  },
  {
   "cell_type": "code",
   "execution_count": null,
   "id": "48c968b4-7a54-4a05-b55b-8e4ef9dfbbc8",
   "metadata": {},
   "outputs": [],
   "source": []
  }
 ],
 "metadata": {
  "kernelspec": {
   "display_name": "infra-data",
   "language": "python",
   "name": "infra-data"
  },
  "language_info": {
   "codemirror_mode": {
    "name": "ipython",
    "version": 3
   },
   "file_extension": ".py",
   "mimetype": "text/x-python",
   "name": "python",
   "nbconvert_exporter": "python",
   "pygments_lexer": "ipython3",
   "version": "3.9.16"
  }
 },
 "nbformat": 4,
 "nbformat_minor": 5
}
