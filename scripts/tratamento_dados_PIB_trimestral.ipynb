{
 "cells": [
  {
   "cell_type": "code",
   "execution_count": 1,
   "id": "461e704f-49c5-4e6d-86bb-9c5662d4007b",
   "metadata": {
    "execution": {
     "iopub.execute_input": "2024-08-29T20:05:32.434966Z",
     "iopub.status.busy": "2024-08-29T20:05:32.434136Z",
     "iopub.status.idle": "2024-08-29T20:05:32.985009Z",
     "shell.execute_reply": "2024-08-29T20:05:32.983726Z",
     "shell.execute_reply.started": "2024-08-29T20:05:32.434926Z"
    },
    "tags": []
   },
   "outputs": [],
   "source": [
    "import pandas as pd\n",
    "import numpy as np\n",
    "import os\n",
    "from decimal import Decimal\n",
    "import pickle\n",
    "from pathlib import Path"
   ]
  },
  {
   "cell_type": "markdown",
   "id": "469a553f-e52a-4c33-acc9-f5820b401e62",
   "metadata": {
    "execution": {
     "iopub.execute_input": "2024-08-20T19:55:44.418829Z",
     "iopub.status.busy": "2024-08-20T19:55:44.417516Z",
     "iopub.status.idle": "2024-08-20T19:55:44.424840Z",
     "shell.execute_reply": "2024-08-20T19:55:44.422826Z",
     "shell.execute_reply.started": "2024-08-20T19:55:44.418787Z"
    }
   },
   "source": [
    "# SETUP"
   ]
  },
  {
   "cell_type": "code",
   "execution_count": 2,
   "id": "e68264d5-95e9-4f59-9458-ded1cb449c30",
   "metadata": {
    "execution": {
     "iopub.execute_input": "2024-08-29T20:05:32.988823Z",
     "iopub.status.busy": "2024-08-29T20:05:32.988187Z",
     "iopub.status.idle": "2024-08-29T20:05:32.997262Z",
     "shell.execute_reply": "2024-08-29T20:05:32.995955Z",
     "shell.execute_reply.started": "2024-08-29T20:05:32.988783Z"
    },
    "tags": []
   },
   "outputs": [],
   "source": [
    "dir_tree_util_path = os.path.join(\"utils\", \"dir_tree.py\")\n",
    "exec(open(dir_tree_util_path).read())"
   ]
  },
  {
   "cell_type": "markdown",
   "id": "092e1dba-365e-4668-ae2d-5397dbb5edb2",
   "metadata": {},
   "source": [
    "# INPUTS"
   ]
  },
  {
   "cell_type": "code",
   "execution_count": 3,
   "id": "daedc56c-e029-4528-a9a0-a27293586d34",
   "metadata": {
    "execution": {
     "iopub.execute_input": "2024-08-29T20:05:32.999933Z",
     "iopub.status.busy": "2024-08-29T20:05:32.999411Z",
     "iopub.status.idle": "2024-08-29T20:05:33.005696Z",
     "shell.execute_reply": "2024-08-29T20:05:33.004487Z",
     "shell.execute_reply.started": "2024-08-29T20:05:32.999895Z"
    },
    "tags": []
   },
   "outputs": [],
   "source": [
    "# Paths\n",
    "path_dados_pib = PROJECT_DIRS['DADOS_GIT_BACEN_DIR']\n",
    "# path_output = TODO\n",
    "path_output = PROJECT_DIRS['DADOS_DERIVADOS_DIR']"
   ]
  },
  {
   "cell_type": "markdown",
   "id": "80cab38a-b879-41ec-8472-8253bdd0a791",
   "metadata": {},
   "source": [
    "# CARREGANDO p/MEMORIA OS DADOS"
   ]
  },
  {
   "cell_type": "code",
   "execution_count": 4,
   "id": "8f86c2f0-933c-4c58-9633-e2ecc575652d",
   "metadata": {
    "execution": {
     "iopub.execute_input": "2024-08-29T20:05:33.008281Z",
     "iopub.status.busy": "2024-08-29T20:05:33.007114Z",
     "iopub.status.idle": "2024-08-29T20:05:33.022618Z",
     "shell.execute_reply": "2024-08-29T20:05:33.020323Z",
     "shell.execute_reply.started": "2024-08-29T20:05:33.008222Z"
    },
    "tags": []
   },
   "outputs": [],
   "source": [
    "# df_pib mensal nominal\n",
    "# fonte: Bacen. SGS, df_pib mensal - valores correntes, Cód 4380\n",
    "df_pib = pd.read_csv(path_dados_pib / 'STP-20240827171150836.csv', sep=\";\", encoding='windows-1251', \n",
    "                  skipfooter=1, engine='python')"
   ]
  },
  {
   "cell_type": "code",
   "execution_count": 5,
   "id": "482fd7db-51b3-45bd-b1db-56d3c5798d20",
   "metadata": {
    "execution": {
     "iopub.execute_input": "2024-08-29T20:05:33.026973Z",
     "iopub.status.busy": "2024-08-29T20:05:33.026329Z",
     "iopub.status.idle": "2024-08-29T20:05:33.037870Z",
     "shell.execute_reply": "2024-08-29T20:05:33.036595Z",
     "shell.execute_reply.started": "2024-08-29T20:05:33.026913Z"
    },
    "tags": []
   },
   "outputs": [],
   "source": [
    "# df_ipca mensal\n",
    "# fonte: Bacen. SGS, Índice nacional de preços ao consumidor-amplo (df_ipca), Cód 433\n",
    "df_ipca = pd.read_csv(path_dados_pib / 'STP-20240827171950785.csv', sep=\";\", encoding='windows-1251', \n",
    "                  skipfooter=1, engine='python')"
   ]
  },
  {
   "cell_type": "markdown",
   "id": "433bd176-2227-4c7b-a11b-40161814969e",
   "metadata": {},
   "source": [
    "# TRATANDO OS DADOS"
   ]
  },
  {
   "cell_type": "markdown",
   "id": "b1d85732-392c-4a98-af87-4c944023dc5a",
   "metadata": {},
   "source": [
    "## IPCA"
   ]
  },
  {
   "cell_type": "code",
   "execution_count": 6,
   "id": "7a1f6080-4264-4a4b-94aa-4aeb3fea732e",
   "metadata": {
    "execution": {
     "iopub.execute_input": "2024-08-29T20:05:33.041198Z",
     "iopub.status.busy": "2024-08-29T20:05:33.039696Z",
     "iopub.status.idle": "2024-08-29T20:05:33.066567Z",
     "shell.execute_reply": "2024-08-29T20:05:33.064881Z",
     "shell.execute_reply.started": "2024-08-29T20:05:33.041135Z"
    },
    "tags": []
   },
   "outputs": [
    {
     "data": {
      "text/html": [
       "<div>\n",
       "<style scoped>\n",
       "    .dataframe tbody tr th:only-of-type {\n",
       "        vertical-align: middle;\n",
       "    }\n",
       "\n",
       "    .dataframe tbody tr th {\n",
       "        vertical-align: top;\n",
       "    }\n",
       "\n",
       "    .dataframe thead th {\n",
       "        text-align: right;\n",
       "    }\n",
       "</style>\n",
       "<table border=\"1\" class=\"dataframe\">\n",
       "  <thead>\n",
       "    <tr style=\"text-align: right;\">\n",
       "      <th></th>\n",
       "      <th>Data</th>\n",
       "      <th>433 - Нndice nacional de preзos ao consumidor-amplo (IPCA) - Var. % mensal</th>\n",
       "    </tr>\n",
       "  </thead>\n",
       "  <tbody>\n",
       "    <tr>\n",
       "      <th>0</th>\n",
       "      <td>01/1980</td>\n",
       "      <td>6,62</td>\n",
       "    </tr>\n",
       "    <tr>\n",
       "      <th>1</th>\n",
       "      <td>02/1980</td>\n",
       "      <td>4,62</td>\n",
       "    </tr>\n",
       "    <tr>\n",
       "      <th>2</th>\n",
       "      <td>03/1980</td>\n",
       "      <td>6,04</td>\n",
       "    </tr>\n",
       "    <tr>\n",
       "      <th>3</th>\n",
       "      <td>04/1980</td>\n",
       "      <td>5,29</td>\n",
       "    </tr>\n",
       "    <tr>\n",
       "      <th>4</th>\n",
       "      <td>05/1980</td>\n",
       "      <td>5,70</td>\n",
       "    </tr>\n",
       "    <tr>\n",
       "      <th>...</th>\n",
       "      <td>...</td>\n",
       "      <td>...</td>\n",
       "    </tr>\n",
       "    <tr>\n",
       "      <th>530</th>\n",
       "      <td>03/2024</td>\n",
       "      <td>0,16</td>\n",
       "    </tr>\n",
       "    <tr>\n",
       "      <th>531</th>\n",
       "      <td>04/2024</td>\n",
       "      <td>0,38</td>\n",
       "    </tr>\n",
       "    <tr>\n",
       "      <th>532</th>\n",
       "      <td>05/2024</td>\n",
       "      <td>0,46</td>\n",
       "    </tr>\n",
       "    <tr>\n",
       "      <th>533</th>\n",
       "      <td>06/2024</td>\n",
       "      <td>0,21</td>\n",
       "    </tr>\n",
       "    <tr>\n",
       "      <th>534</th>\n",
       "      <td>07/2024</td>\n",
       "      <td>0,38</td>\n",
       "    </tr>\n",
       "  </tbody>\n",
       "</table>\n",
       "<p>535 rows × 2 columns</p>\n",
       "</div>"
      ],
      "text/plain": [
       "        Data  \\\n",
       "0    01/1980   \n",
       "1    02/1980   \n",
       "2    03/1980   \n",
       "3    04/1980   \n",
       "4    05/1980   \n",
       "..       ...   \n",
       "530  03/2024   \n",
       "531  04/2024   \n",
       "532  05/2024   \n",
       "533  06/2024   \n",
       "534  07/2024   \n",
       "\n",
       "    433 - Нndice nacional de preзos ao consumidor-amplo (IPCA) - Var. % mensal  \n",
       "0                                                 6,62                          \n",
       "1                                                 4,62                          \n",
       "2                                                 6,04                          \n",
       "3                                                 5,29                          \n",
       "4                                                 5,70                          \n",
       "..                                                 ...                          \n",
       "530                                               0,16                          \n",
       "531                                               0,38                          \n",
       "532                                               0,46                          \n",
       "533                                               0,21                          \n",
       "534                                               0,38                          \n",
       "\n",
       "[535 rows x 2 columns]"
      ]
     },
     "execution_count": 6,
     "metadata": {},
     "output_type": "execute_result"
    }
   ],
   "source": [
    "df_ipca"
   ]
  },
  {
   "cell_type": "code",
   "execution_count": 7,
   "id": "3d05c037-9c12-4b04-99a2-2a0d854ff678",
   "metadata": {
    "execution": {
     "iopub.execute_input": "2024-08-29T20:05:33.069073Z",
     "iopub.status.busy": "2024-08-29T20:05:33.068405Z",
     "iopub.status.idle": "2024-08-29T20:05:33.083330Z",
     "shell.execute_reply": "2024-08-29T20:05:33.082067Z",
     "shell.execute_reply.started": "2024-08-29T20:05:33.069034Z"
    },
    "tags": []
   },
   "outputs": [
    {
     "name": "stdout",
     "output_type": "stream",
     "text": [
      "<class 'pandas.core.frame.DataFrame'>\n",
      "RangeIndex: 535 entries, 0 to 534\n",
      "Data columns (total 2 columns):\n",
      " #   Column                                                                      Non-Null Count  Dtype \n",
      "---  ------                                                                      --------------  ----- \n",
      " 0   Data                                                                        535 non-null    object\n",
      " 1   433 - Нndice nacional de preзos ao consumidor-amplo (IPCA) - Var. % mensal  535 non-null    object\n",
      "dtypes: object(2)\n",
      "memory usage: 8.5+ KB\n"
     ]
    }
   ],
   "source": [
    "df_ipca.info()"
   ]
  },
  {
   "cell_type": "markdown",
   "id": "12e9d335-01d2-43ef-a750-3802fe405884",
   "metadata": {},
   "source": [
    "### Tratando a coluna de data e passando para o índice"
   ]
  },
  {
   "cell_type": "code",
   "execution_count": 8,
   "id": "34c27b01-a64f-4736-9b63-d9e24b6c22ca",
   "metadata": {
    "execution": {
     "iopub.execute_input": "2024-08-29T20:05:33.086103Z",
     "iopub.status.busy": "2024-08-29T20:05:33.085760Z",
     "iopub.status.idle": "2024-08-29T20:05:33.096064Z",
     "shell.execute_reply": "2024-08-29T20:05:33.094620Z",
     "shell.execute_reply.started": "2024-08-29T20:05:33.086046Z"
    },
    "tags": []
   },
   "outputs": [
    {
     "data": {
      "text/plain": [
       "'01/1980'"
      ]
     },
     "execution_count": 8,
     "metadata": {},
     "output_type": "execute_result"
    }
   ],
   "source": [
    "df_ipca.loc[0,'Data']"
   ]
  },
  {
   "cell_type": "code",
   "execution_count": 9,
   "id": "c0500551-f488-44a9-88ad-3507f91add4a",
   "metadata": {
    "execution": {
     "iopub.execute_input": "2024-08-29T20:05:33.099604Z",
     "iopub.status.busy": "2024-08-29T20:05:33.098107Z",
     "iopub.status.idle": "2024-08-29T20:05:33.106717Z",
     "shell.execute_reply": "2024-08-29T20:05:33.105815Z",
     "shell.execute_reply.started": "2024-08-29T20:05:33.099562Z"
    },
    "tags": []
   },
   "outputs": [
    {
     "data": {
      "text/plain": [
       "str"
      ]
     },
     "execution_count": 9,
     "metadata": {},
     "output_type": "execute_result"
    }
   ],
   "source": [
    "type(df_ipca.loc[0,'Data'])"
   ]
  },
  {
   "cell_type": "code",
   "execution_count": 10,
   "id": "b92ab97b-1c8e-4623-8628-3b8df1ecc9ca",
   "metadata": {
    "execution": {
     "iopub.execute_input": "2024-08-29T20:05:33.110017Z",
     "iopub.status.busy": "2024-08-29T20:05:33.108960Z",
     "iopub.status.idle": "2024-08-29T20:05:33.120227Z",
     "shell.execute_reply": "2024-08-29T20:05:33.118892Z",
     "shell.execute_reply.started": "2024-08-29T20:05:33.109980Z"
    },
    "tags": []
   },
   "outputs": [],
   "source": [
    "# Convertendo coluna de data para tipo datetime, e p/final do mês\n",
    "df_ipca['Data'] = pd.to_datetime(df_ipca['Data'], format='%m/%Y') + pd.offsets.MonthEnd(0)\n",
    "# df_ipca['Data'] = df_ipca['Data'].dt.to_period('M').dt.to_timestamp('M')"
   ]
  },
  {
   "cell_type": "code",
   "execution_count": 11,
   "id": "dee6cfc8-bf84-4081-b7bd-ee9a3dfff9e7",
   "metadata": {
    "execution": {
     "iopub.execute_input": "2024-08-29T20:05:33.122763Z",
     "iopub.status.busy": "2024-08-29T20:05:33.122075Z",
     "iopub.status.idle": "2024-08-29T20:05:33.128770Z",
     "shell.execute_reply": "2024-08-29T20:05:33.127607Z",
     "shell.execute_reply.started": "2024-08-29T20:05:33.122720Z"
    }
   },
   "outputs": [],
   "source": [
    "df_ipca.index = df_ipca['Data']"
   ]
  },
  {
   "cell_type": "code",
   "execution_count": 12,
   "id": "32476006-9051-4a46-bdd3-01ca99e8d6e9",
   "metadata": {
    "execution": {
     "iopub.execute_input": "2024-08-29T20:05:33.130548Z",
     "iopub.status.busy": "2024-08-29T20:05:33.130169Z",
     "iopub.status.idle": "2024-08-29T20:05:33.137364Z",
     "shell.execute_reply": "2024-08-29T20:05:33.136049Z",
     "shell.execute_reply.started": "2024-08-29T20:05:33.130501Z"
    }
   },
   "outputs": [],
   "source": [
    "df_ipca = df_ipca.drop(columns=['Data'])"
   ]
  },
  {
   "cell_type": "markdown",
   "id": "8eb8704e-1c1d-4893-841b-49230c88f905",
   "metadata": {},
   "source": [
    "### Outros tratamentos"
   ]
  },
  {
   "cell_type": "code",
   "execution_count": 13,
   "id": "fce0097b-fdd7-4cc3-be58-495af2305d5a",
   "metadata": {
    "execution": {
     "iopub.execute_input": "2024-08-29T20:05:33.139347Z",
     "iopub.status.busy": "2024-08-29T20:05:33.138893Z",
     "iopub.status.idle": "2024-08-29T20:05:33.145569Z",
     "shell.execute_reply": "2024-08-29T20:05:33.144433Z",
     "shell.execute_reply.started": "2024-08-29T20:05:33.139309Z"
    },
    "tags": []
   },
   "outputs": [],
   "source": [
    "# Simplificando nome de coluna\n",
    "df_ipca = df_ipca.rename(columns={'433 - Нndice nacional de preзos ao consumidor-amplo (IPCA) - Var. % mensal':'ipca_mensal_%'})"
   ]
  },
  {
   "cell_type": "code",
   "execution_count": 14,
   "id": "4bb6847b-8792-4187-90a0-91ec11818056",
   "metadata": {
    "execution": {
     "iopub.execute_input": "2024-08-29T20:05:33.151868Z",
     "iopub.status.busy": "2024-08-29T20:05:33.151408Z",
     "iopub.status.idle": "2024-08-29T20:05:33.161651Z",
     "shell.execute_reply": "2024-08-29T20:05:33.160051Z",
     "shell.execute_reply.started": "2024-08-29T20:05:33.151778Z"
    },
    "tags": []
   },
   "outputs": [
    {
     "data": {
      "text/plain": [
       "str"
      ]
     },
     "execution_count": 14,
     "metadata": {},
     "output_type": "execute_result"
    }
   ],
   "source": [
    "type(df_ipca.loc[df_ipca.index[0],'ipca_mensal_%']) # str"
   ]
  },
  {
   "cell_type": "code",
   "execution_count": 15,
   "id": "8a1cb569-1429-4ada-8670-dba2373722b2",
   "metadata": {
    "execution": {
     "iopub.execute_input": "2024-08-29T20:05:33.164712Z",
     "iopub.status.busy": "2024-08-29T20:05:33.164009Z",
     "iopub.status.idle": "2024-08-29T20:05:33.172835Z",
     "shell.execute_reply": "2024-08-29T20:05:33.171621Z",
     "shell.execute_reply.started": "2024-08-29T20:05:33.164650Z"
    },
    "tags": []
   },
   "outputs": [],
   "source": [
    "# Convertendo ipca de string para float\n",
    "df_ipca['ipca_mensal_%'] = df_ipca['ipca_mensal_%'].str.replace(',','.')\n",
    "df_ipca['ipca_mensal_%'] = df_ipca['ipca_mensal_%'].astype('float')"
   ]
  },
  {
   "cell_type": "code",
   "execution_count": 16,
   "id": "08579a00-b655-4ecd-a5ff-abc9f4ac3ec2",
   "metadata": {
    "execution": {
     "iopub.execute_input": "2024-08-29T20:05:33.174737Z",
     "iopub.status.busy": "2024-08-29T20:05:33.174323Z",
     "iopub.status.idle": "2024-08-29T20:05:33.187074Z",
     "shell.execute_reply": "2024-08-29T20:05:33.185692Z",
     "shell.execute_reply.started": "2024-08-29T20:05:33.174699Z"
    },
    "tags": []
   },
   "outputs": [],
   "source": [
    "# Atribuindo dez/2009 = 1.00\n",
    "df_ipca['ipca_mensal'] = 1 + df_ipca['ipca_mensal_%']/100\n",
    "df_ipca['ipca_acum'] =  df_ipca['ipca_mensal'].cumprod()\n",
    "scaling_date = df_ipca.loc[df_ipca.index == '2009-12-31']['ipca_acum'].iloc[0]\n",
    "df_ipca['ipca_acum'] = df_ipca['ipca_acum'] / scaling_date"
   ]
  },
  {
   "cell_type": "code",
   "execution_count": 17,
   "id": "65b72508-cf3d-49fa-b107-d2b0c153ce2c",
   "metadata": {
    "execution": {
     "iopub.execute_input": "2024-08-29T20:05:33.190718Z",
     "iopub.status.busy": "2024-08-29T20:05:33.189017Z",
     "iopub.status.idle": "2024-08-29T20:05:33.198219Z",
     "shell.execute_reply": "2024-08-29T20:05:33.196152Z",
     "shell.execute_reply.started": "2024-08-29T20:05:33.190645Z"
    },
    "tags": []
   },
   "outputs": [],
   "source": [
    "# removendo coluna não utilizada\n",
    "df_ipca = df_ipca.drop(columns=['ipca_mensal'])"
   ]
  },
  {
   "cell_type": "markdown",
   "id": "35617f67-c221-4372-b07b-0cee86109421",
   "metadata": {},
   "source": [
    "## PIB"
   ]
  },
  {
   "cell_type": "code",
   "execution_count": 18,
   "id": "df1a32ca-06a9-40c5-8d2a-9cafe1d12566",
   "metadata": {
    "execution": {
     "iopub.execute_input": "2024-08-29T20:05:33.200936Z",
     "iopub.status.busy": "2024-08-29T20:05:33.199561Z",
     "iopub.status.idle": "2024-08-29T20:05:33.215589Z",
     "shell.execute_reply": "2024-08-29T20:05:33.214250Z",
     "shell.execute_reply.started": "2024-08-29T20:05:33.200865Z"
    },
    "tags": []
   },
   "outputs": [
    {
     "data": {
      "text/html": [
       "<div>\n",
       "<style scoped>\n",
       "    .dataframe tbody tr th:only-of-type {\n",
       "        vertical-align: middle;\n",
       "    }\n",
       "\n",
       "    .dataframe tbody tr th {\n",
       "        vertical-align: top;\n",
       "    }\n",
       "\n",
       "    .dataframe thead th {\n",
       "        text-align: right;\n",
       "    }\n",
       "</style>\n",
       "<table border=\"1\" class=\"dataframe\">\n",
       "  <thead>\n",
       "    <tr style=\"text-align: right;\">\n",
       "      <th></th>\n",
       "      <th>Data</th>\n",
       "      <th>4380 - PIB mensal - Valores correntes (R$ milhхes) - R$ (milhхes)</th>\n",
       "    </tr>\n",
       "  </thead>\n",
       "  <tbody>\n",
       "    <tr>\n",
       "      <th>0</th>\n",
       "      <td>01/1990</td>\n",
       "      <td>0,2</td>\n",
       "    </tr>\n",
       "    <tr>\n",
       "      <th>1</th>\n",
       "      <td>02/1990</td>\n",
       "      <td>0,4</td>\n",
       "    </tr>\n",
       "    <tr>\n",
       "      <th>2</th>\n",
       "      <td>03/1990</td>\n",
       "      <td>0,8</td>\n",
       "    </tr>\n",
       "    <tr>\n",
       "      <th>3</th>\n",
       "      <td>04/1990</td>\n",
       "      <td>0,7</td>\n",
       "    </tr>\n",
       "    <tr>\n",
       "      <th>4</th>\n",
       "      <td>05/1990</td>\n",
       "      <td>0,8</td>\n",
       "    </tr>\n",
       "    <tr>\n",
       "      <th>...</th>\n",
       "      <td>...</td>\n",
       "      <td>...</td>\n",
       "    </tr>\n",
       "    <tr>\n",
       "      <th>410</th>\n",
       "      <td>03/2024</td>\n",
       "      <td>952.242,4</td>\n",
       "    </tr>\n",
       "    <tr>\n",
       "      <th>411</th>\n",
       "      <td>04/2024</td>\n",
       "      <td>977.372,0</td>\n",
       "    </tr>\n",
       "    <tr>\n",
       "      <th>412</th>\n",
       "      <td>05/2024</td>\n",
       "      <td>954.779,1</td>\n",
       "    </tr>\n",
       "    <tr>\n",
       "      <th>413</th>\n",
       "      <td>06/2024</td>\n",
       "      <td>952.995,6</td>\n",
       "    </tr>\n",
       "    <tr>\n",
       "      <th>414</th>\n",
       "      <td>07/2024</td>\n",
       "      <td>987.472,6</td>\n",
       "    </tr>\n",
       "  </tbody>\n",
       "</table>\n",
       "<p>415 rows × 2 columns</p>\n",
       "</div>"
      ],
      "text/plain": [
       "        Data 4380 - PIB mensal - Valores correntes (R$ milhхes) - R$ (milhхes)\n",
       "0    01/1990                                                0,2               \n",
       "1    02/1990                                                0,4               \n",
       "2    03/1990                                                0,8               \n",
       "3    04/1990                                                0,7               \n",
       "4    05/1990                                                0,8               \n",
       "..       ...                                                ...               \n",
       "410  03/2024                                          952.242,4               \n",
       "411  04/2024                                          977.372,0               \n",
       "412  05/2024                                          954.779,1               \n",
       "413  06/2024                                          952.995,6               \n",
       "414  07/2024                                          987.472,6               \n",
       "\n",
       "[415 rows x 2 columns]"
      ]
     },
     "execution_count": 18,
     "metadata": {},
     "output_type": "execute_result"
    }
   ],
   "source": [
    "df_pib"
   ]
  },
  {
   "cell_type": "code",
   "execution_count": 19,
   "id": "c5b06ab7-6439-40ac-b94b-9d5b995c2927",
   "metadata": {
    "execution": {
     "iopub.execute_input": "2024-08-29T20:05:33.218591Z",
     "iopub.status.busy": "2024-08-29T20:05:33.217410Z",
     "iopub.status.idle": "2024-08-29T20:05:33.231340Z",
     "shell.execute_reply": "2024-08-29T20:05:33.229811Z",
     "shell.execute_reply.started": "2024-08-29T20:05:33.218547Z"
    },
    "tags": []
   },
   "outputs": [
    {
     "name": "stdout",
     "output_type": "stream",
     "text": [
      "<class 'pandas.core.frame.DataFrame'>\n",
      "RangeIndex: 415 entries, 0 to 414\n",
      "Data columns (total 2 columns):\n",
      " #   Column                                                             Non-Null Count  Dtype \n",
      "---  ------                                                             --------------  ----- \n",
      " 0   Data                                                               415 non-null    object\n",
      " 1   4380 - PIB mensal - Valores correntes (R$ milhхes) - R$ (milhхes)  415 non-null    object\n",
      "dtypes: object(2)\n",
      "memory usage: 6.6+ KB\n"
     ]
    }
   ],
   "source": [
    "df_pib.info()"
   ]
  },
  {
   "cell_type": "code",
   "execution_count": 20,
   "id": "dedd6668-596f-48d2-9350-380f132cca33",
   "metadata": {
    "execution": {
     "iopub.execute_input": "2024-08-29T20:05:33.234446Z",
     "iopub.status.busy": "2024-08-29T20:05:33.233534Z",
     "iopub.status.idle": "2024-08-29T20:05:33.240273Z",
     "shell.execute_reply": "2024-08-29T20:05:33.238967Z",
     "shell.execute_reply.started": "2024-08-29T20:05:33.234405Z"
    },
    "tags": []
   },
   "outputs": [],
   "source": [
    "# simplificando nome de colunas\n",
    "df_pib = df_pib.rename(columns={\n",
    "'4380 - PIB mensal - Valores correntes (R$ milhхes) - R$ (milhхes)':'PIB_mensal'\n",
    "})"
   ]
  },
  {
   "cell_type": "code",
   "execution_count": 21,
   "id": "a7eb8c22-dbeb-4f0c-b4ad-d5bfef62bb44",
   "metadata": {
    "execution": {
     "iopub.execute_input": "2024-08-29T20:05:33.242860Z",
     "iopub.status.busy": "2024-08-29T20:05:33.242043Z",
     "iopub.status.idle": "2024-08-29T20:05:33.251706Z",
     "shell.execute_reply": "2024-08-29T20:05:33.250435Z",
     "shell.execute_reply.started": "2024-08-29T20:05:33.242818Z"
    },
    "tags": []
   },
   "outputs": [],
   "source": [
    "# Alterando data para datetime e final do mês\n",
    "df_pib['Data'] = pd.to_datetime(df_pib['Data'], format='%m/%Y') + pd.offsets.MonthEnd(0)"
   ]
  },
  {
   "cell_type": "code",
   "execution_count": 22,
   "id": "dd4c599b-78cb-4835-b829-1ddc58c75c6f",
   "metadata": {
    "execution": {
     "iopub.execute_input": "2024-08-29T20:05:33.254459Z",
     "iopub.status.busy": "2024-08-29T20:05:33.253435Z",
     "iopub.status.idle": "2024-08-29T20:05:33.261561Z",
     "shell.execute_reply": "2024-08-29T20:05:33.260547Z",
     "shell.execute_reply.started": "2024-08-29T20:05:33.254420Z"
    },
    "tags": []
   },
   "outputs": [],
   "source": [
    "# jogando data para o índice\n",
    "df_pib.index = df_pib['Data']\n",
    "df_pib = df_pib.drop(columns=['Data'])"
   ]
  },
  {
   "cell_type": "code",
   "execution_count": 23,
   "id": "ed1b2d24-0182-460e-a91f-20ab3adb3d68",
   "metadata": {
    "execution": {
     "iopub.execute_input": "2024-08-29T20:05:33.263486Z",
     "iopub.status.busy": "2024-08-29T20:05:33.263044Z",
     "iopub.status.idle": "2024-08-29T20:05:33.271872Z",
     "shell.execute_reply": "2024-08-29T20:05:33.270936Z",
     "shell.execute_reply.started": "2024-08-29T20:05:33.263449Z"
    },
    "tags": []
   },
   "outputs": [],
   "source": [
    "# Alterando PIB para float\n",
    "df_pib['PIB_mensal'] = df_pib['PIB_mensal'].str.replace('.', '', regex=False)\n",
    "df_pib['PIB_mensal'] = df_pib['PIB_mensal'].str.replace(',', '.', regex=False)\n",
    "df_pib['PIB_mensal'] = df_pib['PIB_mensal'].astype('float')"
   ]
  },
  {
   "cell_type": "markdown",
   "id": "1d881799-4519-4140-adfb-7b4ae40bb13d",
   "metadata": {},
   "source": [
    "# Calculando o PIB real"
   ]
  },
  {
   "cell_type": "code",
   "execution_count": 24,
   "id": "8e82320f-0801-4861-9250-eb9060c02950",
   "metadata": {
    "execution": {
     "iopub.execute_input": "2024-08-29T20:05:33.273115Z",
     "iopub.status.busy": "2024-08-29T20:05:33.272792Z",
     "iopub.status.idle": "2024-08-29T20:05:33.281851Z",
     "shell.execute_reply": "2024-08-29T20:05:33.280419Z",
     "shell.execute_reply.started": "2024-08-29T20:05:33.273080Z"
    },
    "tags": []
   },
   "outputs": [],
   "source": [
    "df_pib = df_pib.join(df_ipca)"
   ]
  },
  {
   "cell_type": "code",
   "execution_count": 26,
   "id": "b2c04ef0-1435-4c8e-8611-6a5475c81cf1",
   "metadata": {
    "execution": {
     "iopub.execute_input": "2024-08-29T20:05:50.356392Z",
     "iopub.status.busy": "2024-08-29T20:05:50.355787Z",
     "iopub.status.idle": "2024-08-29T20:05:50.363497Z",
     "shell.execute_reply": "2024-08-29T20:05:50.362113Z",
     "shell.execute_reply.started": "2024-08-29T20:05:50.356341Z"
    },
    "tags": []
   },
   "outputs": [],
   "source": [
    "df_pib['PIB_mensal_real'] = df_pib['PIB_mensal'] / df_pib['ipca_acum']"
   ]
  },
  {
   "cell_type": "code",
   "execution_count": 27,
   "id": "baf6f204-3df1-4e6e-b497-dc004d0a9aa8",
   "metadata": {
    "execution": {
     "iopub.execute_input": "2024-08-29T20:05:50.566924Z",
     "iopub.status.busy": "2024-08-29T20:05:50.566201Z",
     "iopub.status.idle": "2024-08-29T20:05:50.586216Z",
     "shell.execute_reply": "2024-08-29T20:05:50.584668Z",
     "shell.execute_reply.started": "2024-08-29T20:05:50.566882Z"
    },
    "tags": []
   },
   "outputs": [
    {
     "data": {
      "text/html": [
       "<div>\n",
       "<style scoped>\n",
       "    .dataframe tbody tr th:only-of-type {\n",
       "        vertical-align: middle;\n",
       "    }\n",
       "\n",
       "    .dataframe tbody tr th {\n",
       "        vertical-align: top;\n",
       "    }\n",
       "\n",
       "    .dataframe thead th {\n",
       "        text-align: right;\n",
       "    }\n",
       "</style>\n",
       "<table border=\"1\" class=\"dataframe\">\n",
       "  <thead>\n",
       "    <tr style=\"text-align: right;\">\n",
       "      <th></th>\n",
       "      <th>PIB_mensal</th>\n",
       "      <th>ipca_mensal_%</th>\n",
       "      <th>ipca_acum</th>\n",
       "      <th>PIB_mensal_real</th>\n",
       "    </tr>\n",
       "    <tr>\n",
       "      <th>Data</th>\n",
       "      <th></th>\n",
       "      <th></th>\n",
       "      <th></th>\n",
       "      <th></th>\n",
       "    </tr>\n",
       "  </thead>\n",
       "  <tbody>\n",
       "    <tr>\n",
       "      <th>1990-01-31</th>\n",
       "      <td>0.2</td>\n",
       "      <td>67.55</td>\n",
       "      <td>0.000002</td>\n",
       "      <td>111533.244265</td>\n",
       "    </tr>\n",
       "    <tr>\n",
       "      <th>1990-02-28</th>\n",
       "      <td>0.4</td>\n",
       "      <td>75.73</td>\n",
       "      <td>0.000003</td>\n",
       "      <td>126937.056012</td>\n",
       "    </tr>\n",
       "    <tr>\n",
       "      <th>1990-03-31</th>\n",
       "      <td>0.8</td>\n",
       "      <td>82.39</td>\n",
       "      <td>0.000006</td>\n",
       "      <td>139192.999630</td>\n",
       "    </tr>\n",
       "    <tr>\n",
       "      <th>1990-04-30</th>\n",
       "      <td>0.7</td>\n",
       "      <td>15.52</td>\n",
       "      <td>0.000007</td>\n",
       "      <td>105430.985696</td>\n",
       "    </tr>\n",
       "    <tr>\n",
       "      <th>1990-05-31</th>\n",
       "      <td>0.8</td>\n",
       "      <td>7.59</td>\n",
       "      <td>0.000007</td>\n",
       "      <td>111992.336724</td>\n",
       "    </tr>\n",
       "    <tr>\n",
       "      <th>...</th>\n",
       "      <td>...</td>\n",
       "      <td>...</td>\n",
       "      <td>...</td>\n",
       "      <td>...</td>\n",
       "    </tr>\n",
       "    <tr>\n",
       "      <th>2024-03-31</th>\n",
       "      <td>952242.4</td>\n",
       "      <td>0.16</td>\n",
       "      <td>2.276373</td>\n",
       "      <td>418315.597437</td>\n",
       "    </tr>\n",
       "    <tr>\n",
       "      <th>2024-04-30</th>\n",
       "      <td>977372.0</td>\n",
       "      <td>0.38</td>\n",
       "      <td>2.285023</td>\n",
       "      <td>427729.540003</td>\n",
       "    </tr>\n",
       "    <tr>\n",
       "      <th>2024-05-31</th>\n",
       "      <td>954779.1</td>\n",
       "      <td>0.46</td>\n",
       "      <td>2.295534</td>\n",
       "      <td>415928.884720</td>\n",
       "    </tr>\n",
       "    <tr>\n",
       "      <th>2024-06-30</th>\n",
       "      <td>952995.6</td>\n",
       "      <td>0.21</td>\n",
       "      <td>2.300355</td>\n",
       "      <td>414281.949388</td>\n",
       "    </tr>\n",
       "    <tr>\n",
       "      <th>2024-07-31</th>\n",
       "      <td>987472.6</td>\n",
       "      <td>0.38</td>\n",
       "      <td>2.309096</td>\n",
       "      <td>427644.585916</td>\n",
       "    </tr>\n",
       "  </tbody>\n",
       "</table>\n",
       "<p>415 rows × 4 columns</p>\n",
       "</div>"
      ],
      "text/plain": [
       "            PIB_mensal  ipca_mensal_%  ipca_acum  PIB_mensal_real\n",
       "Data                                                             \n",
       "1990-01-31         0.2          67.55   0.000002    111533.244265\n",
       "1990-02-28         0.4          75.73   0.000003    126937.056012\n",
       "1990-03-31         0.8          82.39   0.000006    139192.999630\n",
       "1990-04-30         0.7          15.52   0.000007    105430.985696\n",
       "1990-05-31         0.8           7.59   0.000007    111992.336724\n",
       "...                ...            ...        ...              ...\n",
       "2024-03-31    952242.4           0.16   2.276373    418315.597437\n",
       "2024-04-30    977372.0           0.38   2.285023    427729.540003\n",
       "2024-05-31    954779.1           0.46   2.295534    415928.884720\n",
       "2024-06-30    952995.6           0.21   2.300355    414281.949388\n",
       "2024-07-31    987472.6           0.38   2.309096    427644.585916\n",
       "\n",
       "[415 rows x 4 columns]"
      ]
     },
     "execution_count": 27,
     "metadata": {},
     "output_type": "execute_result"
    }
   ],
   "source": [
    "df_pib"
   ]
  },
  {
   "cell_type": "markdown",
   "id": "db658241-63f0-4193-a5b4-aea750d2cb13",
   "metadata": {},
   "source": [
    "# Calculando a variação do PIB mensal"
   ]
  },
  {
   "cell_type": "code",
   "execution_count": 29,
   "id": "b8188f9c-5b07-40df-a080-9f95b69831a7",
   "metadata": {
    "execution": {
     "iopub.execute_input": "2024-08-29T20:06:48.444247Z",
     "iopub.status.busy": "2024-08-29T20:06:48.443484Z",
     "iopub.status.idle": "2024-08-29T20:06:48.451764Z",
     "shell.execute_reply": "2024-08-29T20:06:48.450725Z",
     "shell.execute_reply.started": "2024-08-29T20:06:48.444207Z"
    },
    "tags": []
   },
   "outputs": [],
   "source": [
    "df_pib['PIB_mensal_real_%'] = df_pib['PIB_mensal_real'].pct_change() * 100"
   ]
  },
  {
   "cell_type": "code",
   "execution_count": 31,
   "id": "d18ee5cd-7ffd-4dcc-84e7-449e3ff95094",
   "metadata": {
    "execution": {
     "iopub.execute_input": "2024-08-29T20:07:05.422665Z",
     "iopub.status.busy": "2024-08-29T20:07:05.421843Z",
     "iopub.status.idle": "2024-08-29T20:07:05.447226Z",
     "shell.execute_reply": "2024-08-29T20:07:05.445619Z",
     "shell.execute_reply.started": "2024-08-29T20:07:05.422603Z"
    }
   },
   "outputs": [
    {
     "data": {
      "text/html": [
       "<div>\n",
       "<style scoped>\n",
       "    .dataframe tbody tr th:only-of-type {\n",
       "        vertical-align: middle;\n",
       "    }\n",
       "\n",
       "    .dataframe tbody tr th {\n",
       "        vertical-align: top;\n",
       "    }\n",
       "\n",
       "    .dataframe thead th {\n",
       "        text-align: right;\n",
       "    }\n",
       "</style>\n",
       "<table border=\"1\" class=\"dataframe\">\n",
       "  <thead>\n",
       "    <tr style=\"text-align: right;\">\n",
       "      <th></th>\n",
       "      <th>PIB_mensal</th>\n",
       "      <th>ipca_mensal_%</th>\n",
       "      <th>ipca_acum</th>\n",
       "      <th>PIB_mensal_real</th>\n",
       "      <th>PIB_mensal_real_%</th>\n",
       "    </tr>\n",
       "    <tr>\n",
       "      <th>Data</th>\n",
       "      <th></th>\n",
       "      <th></th>\n",
       "      <th></th>\n",
       "      <th></th>\n",
       "      <th></th>\n",
       "    </tr>\n",
       "  </thead>\n",
       "  <tbody>\n",
       "    <tr>\n",
       "      <th>1990-01-31</th>\n",
       "      <td>0.2</td>\n",
       "      <td>67.55</td>\n",
       "      <td>0.000002</td>\n",
       "      <td>111533.244265</td>\n",
       "      <td>NaN</td>\n",
       "    </tr>\n",
       "    <tr>\n",
       "      <th>1990-02-28</th>\n",
       "      <td>0.4</td>\n",
       "      <td>75.73</td>\n",
       "      <td>0.000003</td>\n",
       "      <td>126937.056012</td>\n",
       "      <td>13.810960</td>\n",
       "    </tr>\n",
       "    <tr>\n",
       "      <th>1990-03-31</th>\n",
       "      <td>0.8</td>\n",
       "      <td>82.39</td>\n",
       "      <td>0.000006</td>\n",
       "      <td>139192.999630</td>\n",
       "      <td>9.655135</td>\n",
       "    </tr>\n",
       "    <tr>\n",
       "      <th>1990-04-30</th>\n",
       "      <td>0.7</td>\n",
       "      <td>15.52</td>\n",
       "      <td>0.000007</td>\n",
       "      <td>105430.985696</td>\n",
       "      <td>-24.255540</td>\n",
       "    </tr>\n",
       "    <tr>\n",
       "      <th>1990-05-31</th>\n",
       "      <td>0.8</td>\n",
       "      <td>7.59</td>\n",
       "      <td>0.000007</td>\n",
       "      <td>111992.336724</td>\n",
       "      <td>6.223361</td>\n",
       "    </tr>\n",
       "    <tr>\n",
       "      <th>...</th>\n",
       "      <td>...</td>\n",
       "      <td>...</td>\n",
       "      <td>...</td>\n",
       "      <td>...</td>\n",
       "      <td>...</td>\n",
       "    </tr>\n",
       "    <tr>\n",
       "      <th>2024-03-31</th>\n",
       "      <td>952242.4</td>\n",
       "      <td>0.16</td>\n",
       "      <td>2.276373</td>\n",
       "      <td>418315.597437</td>\n",
       "      <td>7.294999</td>\n",
       "    </tr>\n",
       "    <tr>\n",
       "      <th>2024-04-30</th>\n",
       "      <td>977372.0</td>\n",
       "      <td>0.38</td>\n",
       "      <td>2.285023</td>\n",
       "      <td>427729.540003</td>\n",
       "      <td>2.250440</td>\n",
       "    </tr>\n",
       "    <tr>\n",
       "      <th>2024-05-31</th>\n",
       "      <td>954779.1</td>\n",
       "      <td>0.46</td>\n",
       "      <td>2.295534</td>\n",
       "      <td>415928.884720</td>\n",
       "      <td>-2.758906</td>\n",
       "    </tr>\n",
       "    <tr>\n",
       "      <th>2024-06-30</th>\n",
       "      <td>952995.6</td>\n",
       "      <td>0.21</td>\n",
       "      <td>2.300355</td>\n",
       "      <td>414281.949388</td>\n",
       "      <td>-0.395966</td>\n",
       "    </tr>\n",
       "    <tr>\n",
       "      <th>2024-07-31</th>\n",
       "      <td>987472.6</td>\n",
       "      <td>0.38</td>\n",
       "      <td>2.309096</td>\n",
       "      <td>427644.585916</td>\n",
       "      <td>3.225493</td>\n",
       "    </tr>\n",
       "  </tbody>\n",
       "</table>\n",
       "<p>415 rows × 5 columns</p>\n",
       "</div>"
      ],
      "text/plain": [
       "            PIB_mensal  ipca_mensal_%  ipca_acum  PIB_mensal_real  \\\n",
       "Data                                                                \n",
       "1990-01-31         0.2          67.55   0.000002    111533.244265   \n",
       "1990-02-28         0.4          75.73   0.000003    126937.056012   \n",
       "1990-03-31         0.8          82.39   0.000006    139192.999630   \n",
       "1990-04-30         0.7          15.52   0.000007    105430.985696   \n",
       "1990-05-31         0.8           7.59   0.000007    111992.336724   \n",
       "...                ...            ...        ...              ...   \n",
       "2024-03-31    952242.4           0.16   2.276373    418315.597437   \n",
       "2024-04-30    977372.0           0.38   2.285023    427729.540003   \n",
       "2024-05-31    954779.1           0.46   2.295534    415928.884720   \n",
       "2024-06-30    952995.6           0.21   2.300355    414281.949388   \n",
       "2024-07-31    987472.6           0.38   2.309096    427644.585916   \n",
       "\n",
       "            PIB_mensal_real_%  \n",
       "Data                           \n",
       "1990-01-31                NaN  \n",
       "1990-02-28          13.810960  \n",
       "1990-03-31           9.655135  \n",
       "1990-04-30         -24.255540  \n",
       "1990-05-31           6.223361  \n",
       "...                       ...  \n",
       "2024-03-31           7.294999  \n",
       "2024-04-30           2.250440  \n",
       "2024-05-31          -2.758906  \n",
       "2024-06-30          -0.395966  \n",
       "2024-07-31           3.225493  \n",
       "\n",
       "[415 rows x 5 columns]"
      ]
     },
     "execution_count": 31,
     "metadata": {},
     "output_type": "execute_result"
    }
   ],
   "source": [
    "df_pib"
   ]
  },
  {
   "cell_type": "markdown",
   "id": "bb0537a7-2680-4b98-960e-6246454792c0",
   "metadata": {},
   "source": [
    "# Descartando colunas que não serão utilizadas"
   ]
  },
  {
   "cell_type": "code",
   "execution_count": 32,
   "id": "6176fa51-1bb0-403c-8ba7-4558e6a91472",
   "metadata": {
    "execution": {
     "iopub.execute_input": "2024-08-29T20:07:31.800003Z",
     "iopub.status.busy": "2024-08-29T20:07:31.798272Z",
     "iopub.status.idle": "2024-08-29T20:07:31.808546Z",
     "shell.execute_reply": "2024-08-29T20:07:31.807386Z",
     "shell.execute_reply.started": "2024-08-29T20:07:31.799934Z"
    },
    "tags": []
   },
   "outputs": [],
   "source": [
    "df_pib = df_pib.drop(columns={'PIB_mensal','ipca_mensal_%','ipca_acum','PIB_mensal_real'})"
   ]
  },
  {
   "cell_type": "code",
   "execution_count": 33,
   "id": "8dc63937-ef2c-4787-aff5-0f381b7d7e66",
   "metadata": {
    "execution": {
     "iopub.execute_input": "2024-08-29T20:07:39.162883Z",
     "iopub.status.busy": "2024-08-29T20:07:39.161592Z",
     "iopub.status.idle": "2024-08-29T20:07:39.175715Z",
     "shell.execute_reply": "2024-08-29T20:07:39.174404Z",
     "shell.execute_reply.started": "2024-08-29T20:07:39.162844Z"
    }
   },
   "outputs": [
    {
     "data": {
      "text/html": [
       "<div>\n",
       "<style scoped>\n",
       "    .dataframe tbody tr th:only-of-type {\n",
       "        vertical-align: middle;\n",
       "    }\n",
       "\n",
       "    .dataframe tbody tr th {\n",
       "        vertical-align: top;\n",
       "    }\n",
       "\n",
       "    .dataframe thead th {\n",
       "        text-align: right;\n",
       "    }\n",
       "</style>\n",
       "<table border=\"1\" class=\"dataframe\">\n",
       "  <thead>\n",
       "    <tr style=\"text-align: right;\">\n",
       "      <th></th>\n",
       "      <th>PIB_mensal_real_%</th>\n",
       "    </tr>\n",
       "    <tr>\n",
       "      <th>Data</th>\n",
       "      <th></th>\n",
       "    </tr>\n",
       "  </thead>\n",
       "  <tbody>\n",
       "    <tr>\n",
       "      <th>1990-01-31</th>\n",
       "      <td>NaN</td>\n",
       "    </tr>\n",
       "    <tr>\n",
       "      <th>1990-02-28</th>\n",
       "      <td>13.810960</td>\n",
       "    </tr>\n",
       "    <tr>\n",
       "      <th>1990-03-31</th>\n",
       "      <td>9.655135</td>\n",
       "    </tr>\n",
       "    <tr>\n",
       "      <th>1990-04-30</th>\n",
       "      <td>-24.255540</td>\n",
       "    </tr>\n",
       "    <tr>\n",
       "      <th>1990-05-31</th>\n",
       "      <td>6.223361</td>\n",
       "    </tr>\n",
       "    <tr>\n",
       "      <th>...</th>\n",
       "      <td>...</td>\n",
       "    </tr>\n",
       "    <tr>\n",
       "      <th>2024-03-31</th>\n",
       "      <td>7.294999</td>\n",
       "    </tr>\n",
       "    <tr>\n",
       "      <th>2024-04-30</th>\n",
       "      <td>2.250440</td>\n",
       "    </tr>\n",
       "    <tr>\n",
       "      <th>2024-05-31</th>\n",
       "      <td>-2.758906</td>\n",
       "    </tr>\n",
       "    <tr>\n",
       "      <th>2024-06-30</th>\n",
       "      <td>-0.395966</td>\n",
       "    </tr>\n",
       "    <tr>\n",
       "      <th>2024-07-31</th>\n",
       "      <td>3.225493</td>\n",
       "    </tr>\n",
       "  </tbody>\n",
       "</table>\n",
       "<p>415 rows × 1 columns</p>\n",
       "</div>"
      ],
      "text/plain": [
       "            PIB_mensal_real_%\n",
       "Data                         \n",
       "1990-01-31                NaN\n",
       "1990-02-28          13.810960\n",
       "1990-03-31           9.655135\n",
       "1990-04-30         -24.255540\n",
       "1990-05-31           6.223361\n",
       "...                       ...\n",
       "2024-03-31           7.294999\n",
       "2024-04-30           2.250440\n",
       "2024-05-31          -2.758906\n",
       "2024-06-30          -0.395966\n",
       "2024-07-31           3.225493\n",
       "\n",
       "[415 rows x 1 columns]"
      ]
     },
     "execution_count": 33,
     "metadata": {},
     "output_type": "execute_result"
    }
   ],
   "source": [
    "df_pib"
   ]
  },
  {
   "cell_type": "code",
   "execution_count": 39,
   "id": "f871dbcf-f2b0-44dc-bb36-fe7b91c94dfc",
   "metadata": {
    "execution": {
     "iopub.execute_input": "2024-08-29T20:10:35.880573Z",
     "iopub.status.busy": "2024-08-29T20:10:35.880079Z",
     "iopub.status.idle": "2024-08-29T20:10:35.886761Z",
     "shell.execute_reply": "2024-08-29T20:10:35.885429Z",
     "shell.execute_reply.started": "2024-08-29T20:10:35.880534Z"
    },
    "tags": []
   },
   "outputs": [],
   "source": [
    "# simplificando a data do index\n",
    "df_pib.index = df_pib.index.date"
   ]
  },
  {
   "cell_type": "markdown",
   "id": "6f077118-c7d7-40a3-8ff8-e82bc8f3aae2",
   "metadata": {},
   "source": [
    "# SALVANDO PARA PARQUET"
   ]
  },
  {
   "cell_type": "code",
   "execution_count": 43,
   "id": "745d804b-2805-4aec-ade1-03e67de26d5b",
   "metadata": {
    "execution": {
     "iopub.execute_input": "2024-08-29T20:11:41.077457Z",
     "iopub.status.busy": "2024-08-29T20:11:41.076475Z",
     "iopub.status.idle": "2024-08-29T20:11:41.099522Z",
     "shell.execute_reply": "2024-08-29T20:11:41.098261Z",
     "shell.execute_reply.started": "2024-08-29T20:11:41.077413Z"
    },
    "tags": []
   },
   "outputs": [],
   "source": [
    "df_pib.to_parquet(path_output / 'PIB-Bacen_mensal.parquet')"
   ]
  },
  {
   "cell_type": "markdown",
   "id": "905f26d6-431c-4d05-81d1-1205eac820c4",
   "metadata": {},
   "source": [
    "# SALVANDO PARA EXCEL"
   ]
  },
  {
   "cell_type": "code",
   "execution_count": 44,
   "id": "ea255b8c-3ded-4f58-b2b9-b53000c4020c",
   "metadata": {
    "execution": {
     "iopub.execute_input": "2024-08-29T20:11:41.805228Z",
     "iopub.status.busy": "2024-08-29T20:11:41.804551Z",
     "iopub.status.idle": "2024-08-29T20:11:42.055124Z",
     "shell.execute_reply": "2024-08-29T20:11:42.053837Z",
     "shell.execute_reply.started": "2024-08-29T20:11:41.805187Z"
    },
    "tags": []
   },
   "outputs": [],
   "source": [
    "df_pib.to_excel(path_output / 'PIB-Bacen_mensal.xlsx')"
   ]
  },
  {
   "cell_type": "code",
   "execution_count": null,
   "id": "4fd77f58-4493-413a-ab40-e1bcfe1fcad9",
   "metadata": {},
   "outputs": [],
   "source": []
  }
 ],
 "metadata": {
  "kernelspec": {
   "display_name": "infra-data",
   "language": "python",
   "name": "infra-data"
  },
  "language_info": {
   "codemirror_mode": {
    "name": "ipython",
    "version": 3
   },
   "file_extension": ".py",
   "mimetype": "text/x-python",
   "name": "python",
   "nbconvert_exporter": "python",
   "pygments_lexer": "ipython3",
   "version": "3.9.16"
  }
 },
 "nbformat": 4,
 "nbformat_minor": 5
}
