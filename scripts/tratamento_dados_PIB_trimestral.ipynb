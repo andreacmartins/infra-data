{
 "cells": [
  {
   "cell_type": "code",
   "execution_count": 9,
   "id": "461e704f-49c5-4e6d-86bb-9c5662d4007b",
   "metadata": {
    "execution": {
     "iopub.execute_input": "2024-09-10T18:54:01.121429Z",
     "iopub.status.busy": "2024-09-10T18:54:01.120935Z",
     "iopub.status.idle": "2024-09-10T18:54:01.126610Z",
     "shell.execute_reply": "2024-09-10T18:54:01.125185Z",
     "shell.execute_reply.started": "2024-09-10T18:54:01.121388Z"
    },
    "tags": []
   },
   "outputs": [],
   "source": [
    "import pandas as pd\n",
    "import numpy as np\n",
    "import os\n",
    "from decimal import Decimal\n",
    "import pickle\n",
    "from pathlib import Path"
   ]
  },
  {
   "cell_type": "markdown",
   "id": "469a553f-e52a-4c33-acc9-f5820b401e62",
   "metadata": {
    "execution": {
     "iopub.execute_input": "2024-08-20T19:55:44.418829Z",
     "iopub.status.busy": "2024-08-20T19:55:44.417516Z",
     "iopub.status.idle": "2024-08-20T19:55:44.424840Z",
     "shell.execute_reply": "2024-08-20T19:55:44.422826Z",
     "shell.execute_reply.started": "2024-08-20T19:55:44.418787Z"
    }
   },
   "source": [
    "# SETUP"
   ]
  },
  {
   "cell_type": "code",
   "execution_count": 10,
   "id": "e68264d5-95e9-4f59-9458-ded1cb449c30",
   "metadata": {
    "execution": {
     "iopub.execute_input": "2024-09-10T18:54:01.129817Z",
     "iopub.status.busy": "2024-09-10T18:54:01.129457Z",
     "iopub.status.idle": "2024-09-10T18:54:01.137957Z",
     "shell.execute_reply": "2024-09-10T18:54:01.136855Z",
     "shell.execute_reply.started": "2024-09-10T18:54:01.129780Z"
    },
    "tags": []
   },
   "outputs": [],
   "source": [
    "dir_tree_util_path = os.path.join(\"utils\", \"dir_tree.py\")\n",
    "exec(open(dir_tree_util_path).read())"
   ]
  },
  {
   "cell_type": "markdown",
   "id": "092e1dba-365e-4668-ae2d-5397dbb5edb2",
   "metadata": {},
   "source": [
    "# INPUTS"
   ]
  },
  {
   "cell_type": "code",
   "execution_count": 11,
   "id": "daedc56c-e029-4528-a9a0-a27293586d34",
   "metadata": {
    "execution": {
     "iopub.execute_input": "2024-09-10T18:54:01.139617Z",
     "iopub.status.busy": "2024-09-10T18:54:01.139163Z",
     "iopub.status.idle": "2024-09-10T18:54:01.147034Z",
     "shell.execute_reply": "2024-09-10T18:54:01.145823Z",
     "shell.execute_reply.started": "2024-09-10T18:54:01.139579Z"
    },
    "tags": []
   },
   "outputs": [],
   "source": [
    "# Paths\n",
    "path_dados_pib = PROJECT_DIRS['DADOS_GIT_BACEN_DIR']\n",
    "# path_output = TODO\n",
    "path_output = PROJECT_DIRS['DADOS_PIB_DIR']"
   ]
  },
  {
   "cell_type": "markdown",
   "id": "80cab38a-b879-41ec-8472-8253bdd0a791",
   "metadata": {},
   "source": [
    "# CARREGANDO p/MEMORIA OS DADOS"
   ]
  },
  {
   "cell_type": "code",
   "execution_count": 12,
   "id": "8f86c2f0-933c-4c58-9633-e2ecc575652d",
   "metadata": {
    "execution": {
     "iopub.execute_input": "2024-09-10T18:54:01.150271Z",
     "iopub.status.busy": "2024-09-10T18:54:01.149864Z",
     "iopub.status.idle": "2024-09-10T18:54:01.175774Z",
     "shell.execute_reply": "2024-09-10T18:54:01.174777Z",
     "shell.execute_reply.started": "2024-09-10T18:54:01.150231Z"
    },
    "tags": []
   },
   "outputs": [],
   "source": [
    "# df_pib trimestral real\n",
    "# fonte: Bacen. SGS, df_pib mensal - valores correntes, Cód 4380\n",
    "df_pib = pd.read_excel(path_dados_pib / 'PIB_trimestral_ipeadata.xlsx')"
   ]
  },
  {
   "cell_type": "markdown",
   "id": "433bd176-2227-4c7b-a11b-40161814969e",
   "metadata": {},
   "source": [
    "# TRATANDO OS DADOS"
   ]
  },
  {
   "cell_type": "code",
   "execution_count": 13,
   "id": "df1a32ca-06a9-40c5-8d2a-9cafe1d12566",
   "metadata": {
    "execution": {
     "iopub.execute_input": "2024-09-10T18:54:01.177542Z",
     "iopub.status.busy": "2024-09-10T18:54:01.177176Z",
     "iopub.status.idle": "2024-09-10T18:54:01.192419Z",
     "shell.execute_reply": "2024-09-10T18:54:01.191089Z",
     "shell.execute_reply.started": "2024-09-10T18:54:01.177505Z"
    },
    "tags": []
   },
   "outputs": [
    {
     "data": {
      "text/html": [
       "<div>\n",
       "<style scoped>\n",
       "    .dataframe tbody tr th:only-of-type {\n",
       "        vertical-align: middle;\n",
       "    }\n",
       "\n",
       "    .dataframe tbody tr th {\n",
       "        vertical-align: top;\n",
       "    }\n",
       "\n",
       "    .dataframe thead th {\n",
       "        text-align: right;\n",
       "    }\n",
       "</style>\n",
       "<table border=\"1\" class=\"dataframe\">\n",
       "  <thead>\n",
       "    <tr style=\"text-align: right;\">\n",
       "      <th></th>\n",
       "      <th>Data</th>\n",
       "      <th>PIB_real_pct</th>\n",
       "    </tr>\n",
       "  </thead>\n",
       "  <tbody>\n",
       "    <tr>\n",
       "      <th>0</th>\n",
       "      <td>1997 T1</td>\n",
       "      <td>3.40</td>\n",
       "    </tr>\n",
       "    <tr>\n",
       "      <th>1</th>\n",
       "      <td>1997 T2</td>\n",
       "      <td>4.75</td>\n",
       "    </tr>\n",
       "    <tr>\n",
       "      <th>2</th>\n",
       "      <td>1997 T3</td>\n",
       "      <td>1.79</td>\n",
       "    </tr>\n",
       "    <tr>\n",
       "      <th>3</th>\n",
       "      <td>1997 T4</td>\n",
       "      <td>3.74</td>\n",
       "    </tr>\n",
       "    <tr>\n",
       "      <th>4</th>\n",
       "      <td>1998 T1</td>\n",
       "      <td>1.01</td>\n",
       "    </tr>\n",
       "    <tr>\n",
       "      <th>...</th>\n",
       "      <td>...</td>\n",
       "      <td>...</td>\n",
       "    </tr>\n",
       "    <tr>\n",
       "      <th>104</th>\n",
       "      <td>2023 T1</td>\n",
       "      <td>4.22</td>\n",
       "    </tr>\n",
       "    <tr>\n",
       "      <th>105</th>\n",
       "      <td>2023 T2</td>\n",
       "      <td>3.47</td>\n",
       "    </tr>\n",
       "    <tr>\n",
       "      <th>106</th>\n",
       "      <td>2023 T3</td>\n",
       "      <td>1.96</td>\n",
       "    </tr>\n",
       "    <tr>\n",
       "      <th>107</th>\n",
       "      <td>2023 T4</td>\n",
       "      <td>2.05</td>\n",
       "    </tr>\n",
       "    <tr>\n",
       "      <th>108</th>\n",
       "      <td>2024 T1</td>\n",
       "      <td>2.46</td>\n",
       "    </tr>\n",
       "  </tbody>\n",
       "</table>\n",
       "<p>109 rows × 2 columns</p>\n",
       "</div>"
      ],
      "text/plain": [
       "        Data  PIB_real_pct\n",
       "0    1997 T1          3.40\n",
       "1    1997 T2          4.75\n",
       "2    1997 T3          1.79\n",
       "3    1997 T4          3.74\n",
       "4    1998 T1          1.01\n",
       "..       ...           ...\n",
       "104  2023 T1          4.22\n",
       "105  2023 T2          3.47\n",
       "106  2023 T3          1.96\n",
       "107  2023 T4          2.05\n",
       "108  2024 T1          2.46\n",
       "\n",
       "[109 rows x 2 columns]"
      ]
     },
     "execution_count": 13,
     "metadata": {},
     "output_type": "execute_result"
    }
   ],
   "source": [
    "df_pib"
   ]
  },
  {
   "cell_type": "code",
   "execution_count": 14,
   "id": "c5b06ab7-6439-40ac-b94b-9d5b995c2927",
   "metadata": {
    "execution": {
     "iopub.execute_input": "2024-09-10T18:54:01.194829Z",
     "iopub.status.busy": "2024-09-10T18:54:01.193983Z",
     "iopub.status.idle": "2024-09-10T18:54:01.210785Z",
     "shell.execute_reply": "2024-09-10T18:54:01.209310Z",
     "shell.execute_reply.started": "2024-09-10T18:54:01.194765Z"
    },
    "tags": []
   },
   "outputs": [
    {
     "name": "stdout",
     "output_type": "stream",
     "text": [
      "<class 'pandas.core.frame.DataFrame'>\n",
      "RangeIndex: 109 entries, 0 to 108\n",
      "Data columns (total 2 columns):\n",
      " #   Column        Non-Null Count  Dtype  \n",
      "---  ------        --------------  -----  \n",
      " 0   Data          109 non-null    object \n",
      " 1   PIB_real_pct  109 non-null    float64\n",
      "dtypes: float64(1), object(1)\n",
      "memory usage: 1.8+ KB\n"
     ]
    }
   ],
   "source": [
    "df_pib.info()"
   ]
  },
  {
   "cell_type": "code",
   "execution_count": 15,
   "id": "3e8500d2-deb9-4641-80ce-692826f3b0bd",
   "metadata": {
    "execution": {
     "iopub.execute_input": "2024-09-10T18:54:01.214053Z",
     "iopub.status.busy": "2024-09-10T18:54:01.212824Z",
     "iopub.status.idle": "2024-09-10T18:54:01.224670Z",
     "shell.execute_reply": "2024-09-10T18:54:01.223376Z",
     "shell.execute_reply.started": "2024-09-10T18:54:01.213993Z"
    }
   },
   "outputs": [],
   "source": [
    "# Tratando a coluna de data\n",
    "df_pib['Data'] = df_pib['Data'].apply(\n",
    "    lambda x: pd.Period(\n",
    "        year=int(x.split()[0]), \n",
    "        quarter=int(x.split()[1][-1]), \n",
    "        freq='Q'))"
   ]
  },
  {
   "cell_type": "code",
   "execution_count": 18,
   "id": "35d6414b-bc74-4b45-8577-2a51a16b0d22",
   "metadata": {
    "execution": {
     "iopub.execute_input": "2024-09-10T18:54:13.176449Z",
     "iopub.status.busy": "2024-09-10T18:54:13.175775Z",
     "iopub.status.idle": "2024-09-10T18:54:13.183469Z",
     "shell.execute_reply": "2024-09-10T18:54:13.181940Z",
     "shell.execute_reply.started": "2024-09-10T18:54:13.176402Z"
    },
    "tags": []
   },
   "outputs": [],
   "source": [
    "df_pib.index = df_pib.pop('Data')"
   ]
  },
  {
   "cell_type": "markdown",
   "id": "6f077118-c7d7-40a3-8ff8-e82bc8f3aae2",
   "metadata": {},
   "source": [
    "# SALVANDO PARA PARQUET"
   ]
  },
  {
   "cell_type": "code",
   "execution_count": 20,
   "id": "745d804b-2805-4aec-ade1-03e67de26d5b",
   "metadata": {
    "execution": {
     "iopub.execute_input": "2024-09-10T18:54:19.284049Z",
     "iopub.status.busy": "2024-09-10T18:54:19.283067Z",
     "iopub.status.idle": "2024-09-10T18:54:19.305403Z",
     "shell.execute_reply": "2024-09-10T18:54:19.303583Z",
     "shell.execute_reply.started": "2024-09-10T18:54:19.284008Z"
    },
    "tags": []
   },
   "outputs": [],
   "source": [
    "df_pib.to_parquet(path_output / 'PIB-Ipea-trimestral.parquet')"
   ]
  },
  {
   "cell_type": "markdown",
   "id": "905f26d6-431c-4d05-81d1-1205eac820c4",
   "metadata": {},
   "source": [
    "# SALVANDO PARA EXCEL"
   ]
  },
  {
   "cell_type": "code",
   "execution_count": 21,
   "id": "ea255b8c-3ded-4f58-b2b9-b53000c4020c",
   "metadata": {
    "execution": {
     "iopub.execute_input": "2024-09-10T18:54:19.836983Z",
     "iopub.status.busy": "2024-09-10T18:54:19.836359Z",
     "iopub.status.idle": "2024-09-10T18:54:19.881349Z",
     "shell.execute_reply": "2024-09-10T18:54:19.880082Z",
     "shell.execute_reply.started": "2024-09-10T18:54:19.836944Z"
    },
    "tags": []
   },
   "outputs": [],
   "source": [
    "df_pib.to_excel(path_output / 'PIB-Ipea-trimestral.xlsx')"
   ]
  },
  {
   "cell_type": "code",
   "execution_count": null,
   "id": "4b81b9e1-857c-4b22-8ece-ca51cb4f03d3",
   "metadata": {},
   "outputs": [],
   "source": []
  }
 ],
 "metadata": {
  "kernelspec": {
   "display_name": "infra-data",
   "language": "python",
   "name": "infra-data"
  },
  "language_info": {
   "codemirror_mode": {
    "name": "ipython",
    "version": 3
   },
   "file_extension": ".py",
   "mimetype": "text/x-python",
   "name": "python",
   "nbconvert_exporter": "python",
   "pygments_lexer": "ipython3",
   "version": "3.9.16"
  }
 },
 "nbformat": 4,
 "nbformat_minor": 5
}
