{
 "cells": [
  {
   "cell_type": "code",
   "execution_count": 1,
   "id": "461e704f-49c5-4e6d-86bb-9c5662d4007b",
   "metadata": {
    "execution": {
     "iopub.execute_input": "2024-08-27T22:04:32.044420Z",
     "iopub.status.busy": "2024-08-27T22:04:32.044043Z",
     "iopub.status.idle": "2024-08-27T22:04:32.562714Z",
     "shell.execute_reply": "2024-08-27T22:04:32.561477Z",
     "shell.execute_reply.started": "2024-08-27T22:04:32.044342Z"
    },
    "tags": []
   },
   "outputs": [],
   "source": [
    "import pandas as pd\n",
    "import numpy as np\n",
    "import os\n",
    "from decimal import Decimal\n",
    "import pickle\n",
    "from pathlib import Path"
   ]
  },
  {
   "cell_type": "markdown",
   "id": "469a553f-e52a-4c33-acc9-f5820b401e62",
   "metadata": {
    "execution": {
     "iopub.execute_input": "2024-08-20T19:55:44.418829Z",
     "iopub.status.busy": "2024-08-20T19:55:44.417516Z",
     "iopub.status.idle": "2024-08-20T19:55:44.424840Z",
     "shell.execute_reply": "2024-08-20T19:55:44.422826Z",
     "shell.execute_reply.started": "2024-08-20T19:55:44.418787Z"
    }
   },
   "source": [
    "# SETUP"
   ]
  },
  {
   "cell_type": "code",
   "execution_count": 2,
   "id": "e68264d5-95e9-4f59-9458-ded1cb449c30",
   "metadata": {
    "execution": {
     "iopub.execute_input": "2024-08-27T22:04:32.566401Z",
     "iopub.status.busy": "2024-08-27T22:04:32.565825Z",
     "iopub.status.idle": "2024-08-27T22:04:32.573103Z",
     "shell.execute_reply": "2024-08-27T22:04:32.572139Z",
     "shell.execute_reply.started": "2024-08-27T22:04:32.566350Z"
    },
    "tags": []
   },
   "outputs": [],
   "source": [
    "dir_tree_util_path = os.path.join(\"utils\", \"dir_tree.py\")\n",
    "exec(open(dir_tree_util_path).read())"
   ]
  },
  {
   "cell_type": "markdown",
   "id": "092e1dba-365e-4668-ae2d-5397dbb5edb2",
   "metadata": {},
   "source": [
    "# INPUTS"
   ]
  },
  {
   "cell_type": "code",
   "execution_count": 3,
   "id": "daedc56c-e029-4528-a9a0-a27293586d34",
   "metadata": {
    "execution": {
     "iopub.execute_input": "2024-08-27T22:04:32.574954Z",
     "iopub.status.busy": "2024-08-27T22:04:32.574330Z",
     "iopub.status.idle": "2024-08-27T22:04:32.579162Z",
     "shell.execute_reply": "2024-08-27T22:04:32.578392Z",
     "shell.execute_reply.started": "2024-08-27T22:04:32.574918Z"
    },
    "tags": []
   },
   "outputs": [],
   "source": [
    "# Paths\n",
    "path_dados_pib = PROJECT_DIRS['DADOS_GIT_BACEN_DIR']\n",
    "# path_output = TODO\n",
    "path_output = PROJECT_DIRS['DADOS_DERIVADOS_DIR']"
   ]
  },
  {
   "cell_type": "markdown",
   "id": "80cab38a-b879-41ec-8472-8253bdd0a791",
   "metadata": {},
   "source": [
    "# CARREGANDO p/MEMORIA OS DADOS"
   ]
  },
  {
   "cell_type": "code",
   "execution_count": 4,
   "id": "8f86c2f0-933c-4c58-9633-e2ecc575652d",
   "metadata": {
    "execution": {
     "iopub.execute_input": "2024-08-27T22:04:32.581137Z",
     "iopub.status.busy": "2024-08-27T22:04:32.580671Z",
     "iopub.status.idle": "2024-08-27T22:04:32.591190Z",
     "shell.execute_reply": "2024-08-27T22:04:32.590178Z",
     "shell.execute_reply.started": "2024-08-27T22:04:32.581102Z"
    },
    "tags": []
   },
   "outputs": [],
   "source": [
    "# df_pib mensal nominal\n",
    "# fonte: Bacen. SGS, df_pib mensal - valores correntes, Cód 4380\n",
    "df_pib = pd.read_csv(path_dados_pib / 'STP-20240827171150836.csv', sep=\";\", encoding='windows-1251', \n",
    "                  skipfooter=1, engine='python')"
   ]
  },
  {
   "cell_type": "code",
   "execution_count": 5,
   "id": "482fd7db-51b3-45bd-b1db-56d3c5798d20",
   "metadata": {
    "execution": {
     "iopub.execute_input": "2024-08-27T22:04:32.593467Z",
     "iopub.status.busy": "2024-08-27T22:04:32.592878Z",
     "iopub.status.idle": "2024-08-27T22:04:32.601074Z",
     "shell.execute_reply": "2024-08-27T22:04:32.600204Z",
     "shell.execute_reply.started": "2024-08-27T22:04:32.593429Z"
    },
    "tags": []
   },
   "outputs": [],
   "source": [
    "# df_ipca mensal\n",
    "# fonte: Bacen. SGS, Índice nacional de preços ao consumidor-amplo (df_ipca), Cód 433\n",
    "df_ipca = pd.read_csv(path_dados_pib / 'STP-20240827171950785.csv', sep=\";\", encoding='windows-1251', \n",
    "                  skipfooter=1, engine='python')"
   ]
  },
  {
   "cell_type": "markdown",
   "id": "433bd176-2227-4c7b-a11b-40161814969e",
   "metadata": {},
   "source": [
    "# TRATANDO OS DADOS"
   ]
  },
  {
   "cell_type": "markdown",
   "id": "b1d85732-392c-4a98-af87-4c944023dc5a",
   "metadata": {},
   "source": [
    "## IPCA"
   ]
  },
  {
   "cell_type": "code",
   "execution_count": 6,
   "id": "7a1f6080-4264-4a4b-94aa-4aeb3fea732e",
   "metadata": {
    "execution": {
     "iopub.execute_input": "2024-08-27T22:04:32.603525Z",
     "iopub.status.busy": "2024-08-27T22:04:32.603084Z",
     "iopub.status.idle": "2024-08-27T22:04:32.621631Z",
     "shell.execute_reply": "2024-08-27T22:04:32.620770Z",
     "shell.execute_reply.started": "2024-08-27T22:04:32.603489Z"
    },
    "tags": []
   },
   "outputs": [
    {
     "data": {
      "text/html": [
       "<div>\n",
       "<style scoped>\n",
       "    .dataframe tbody tr th:only-of-type {\n",
       "        vertical-align: middle;\n",
       "    }\n",
       "\n",
       "    .dataframe tbody tr th {\n",
       "        vertical-align: top;\n",
       "    }\n",
       "\n",
       "    .dataframe thead th {\n",
       "        text-align: right;\n",
       "    }\n",
       "</style>\n",
       "<table border=\"1\" class=\"dataframe\">\n",
       "  <thead>\n",
       "    <tr style=\"text-align: right;\">\n",
       "      <th></th>\n",
       "      <th>Data</th>\n",
       "      <th>433 - Нndice nacional de preзos ao consumidor-amplo (IPCA) - Var. % mensal</th>\n",
       "    </tr>\n",
       "  </thead>\n",
       "  <tbody>\n",
       "    <tr>\n",
       "      <th>0</th>\n",
       "      <td>01/1980</td>\n",
       "      <td>6,62</td>\n",
       "    </tr>\n",
       "    <tr>\n",
       "      <th>1</th>\n",
       "      <td>02/1980</td>\n",
       "      <td>4,62</td>\n",
       "    </tr>\n",
       "    <tr>\n",
       "      <th>2</th>\n",
       "      <td>03/1980</td>\n",
       "      <td>6,04</td>\n",
       "    </tr>\n",
       "    <tr>\n",
       "      <th>3</th>\n",
       "      <td>04/1980</td>\n",
       "      <td>5,29</td>\n",
       "    </tr>\n",
       "    <tr>\n",
       "      <th>4</th>\n",
       "      <td>05/1980</td>\n",
       "      <td>5,70</td>\n",
       "    </tr>\n",
       "    <tr>\n",
       "      <th>...</th>\n",
       "      <td>...</td>\n",
       "      <td>...</td>\n",
       "    </tr>\n",
       "    <tr>\n",
       "      <th>530</th>\n",
       "      <td>03/2024</td>\n",
       "      <td>0,16</td>\n",
       "    </tr>\n",
       "    <tr>\n",
       "      <th>531</th>\n",
       "      <td>04/2024</td>\n",
       "      <td>0,38</td>\n",
       "    </tr>\n",
       "    <tr>\n",
       "      <th>532</th>\n",
       "      <td>05/2024</td>\n",
       "      <td>0,46</td>\n",
       "    </tr>\n",
       "    <tr>\n",
       "      <th>533</th>\n",
       "      <td>06/2024</td>\n",
       "      <td>0,21</td>\n",
       "    </tr>\n",
       "    <tr>\n",
       "      <th>534</th>\n",
       "      <td>07/2024</td>\n",
       "      <td>0,38</td>\n",
       "    </tr>\n",
       "  </tbody>\n",
       "</table>\n",
       "<p>535 rows × 2 columns</p>\n",
       "</div>"
      ],
      "text/plain": [
       "        Data  \\\n",
       "0    01/1980   \n",
       "1    02/1980   \n",
       "2    03/1980   \n",
       "3    04/1980   \n",
       "4    05/1980   \n",
       "..       ...   \n",
       "530  03/2024   \n",
       "531  04/2024   \n",
       "532  05/2024   \n",
       "533  06/2024   \n",
       "534  07/2024   \n",
       "\n",
       "    433 - Нndice nacional de preзos ao consumidor-amplo (IPCA) - Var. % mensal  \n",
       "0                                                 6,62                          \n",
       "1                                                 4,62                          \n",
       "2                                                 6,04                          \n",
       "3                                                 5,29                          \n",
       "4                                                 5,70                          \n",
       "..                                                 ...                          \n",
       "530                                               0,16                          \n",
       "531                                               0,38                          \n",
       "532                                               0,46                          \n",
       "533                                               0,21                          \n",
       "534                                               0,38                          \n",
       "\n",
       "[535 rows x 2 columns]"
      ]
     },
     "execution_count": 6,
     "metadata": {},
     "output_type": "execute_result"
    }
   ],
   "source": [
    "df_ipca"
   ]
  },
  {
   "cell_type": "code",
   "execution_count": 7,
   "id": "3d05c037-9c12-4b04-99a2-2a0d854ff678",
   "metadata": {
    "execution": {
     "iopub.execute_input": "2024-08-27T22:04:32.626464Z",
     "iopub.status.busy": "2024-08-27T22:04:32.625987Z",
     "iopub.status.idle": "2024-08-27T22:04:32.638051Z",
     "shell.execute_reply": "2024-08-27T22:04:32.636949Z",
     "shell.execute_reply.started": "2024-08-27T22:04:32.626416Z"
    },
    "tags": []
   },
   "outputs": [
    {
     "name": "stdout",
     "output_type": "stream",
     "text": [
      "<class 'pandas.core.frame.DataFrame'>\n",
      "RangeIndex: 535 entries, 0 to 534\n",
      "Data columns (total 2 columns):\n",
      " #   Column                                                                      Non-Null Count  Dtype \n",
      "---  ------                                                                      --------------  ----- \n",
      " 0   Data                                                                        535 non-null    object\n",
      " 1   433 - Нndice nacional de preзos ao consumidor-amplo (IPCA) - Var. % mensal  535 non-null    object\n",
      "dtypes: object(2)\n",
      "memory usage: 8.5+ KB\n"
     ]
    }
   ],
   "source": [
    "df_ipca.info()"
   ]
  },
  {
   "cell_type": "code",
   "execution_count": 8,
   "id": "34c27b01-a64f-4736-9b63-d9e24b6c22ca",
   "metadata": {
    "execution": {
     "iopub.execute_input": "2024-08-27T22:04:32.639839Z",
     "iopub.status.busy": "2024-08-27T22:04:32.639481Z",
     "iopub.status.idle": "2024-08-27T22:04:32.647185Z",
     "shell.execute_reply": "2024-08-27T22:04:32.646134Z",
     "shell.execute_reply.started": "2024-08-27T22:04:32.639804Z"
    },
    "tags": []
   },
   "outputs": [
    {
     "data": {
      "text/plain": [
       "'01/1980'"
      ]
     },
     "execution_count": 8,
     "metadata": {},
     "output_type": "execute_result"
    }
   ],
   "source": [
    "df_ipca.loc[0,'Data']"
   ]
  },
  {
   "cell_type": "code",
   "execution_count": 9,
   "id": "c0500551-f488-44a9-88ad-3507f91add4a",
   "metadata": {
    "execution": {
     "iopub.execute_input": "2024-08-27T22:04:32.648959Z",
     "iopub.status.busy": "2024-08-27T22:04:32.648630Z",
     "iopub.status.idle": "2024-08-27T22:04:32.655856Z",
     "shell.execute_reply": "2024-08-27T22:04:32.654725Z",
     "shell.execute_reply.started": "2024-08-27T22:04:32.648925Z"
    },
    "tags": []
   },
   "outputs": [
    {
     "data": {
      "text/plain": [
       "str"
      ]
     },
     "execution_count": 9,
     "metadata": {},
     "output_type": "execute_result"
    }
   ],
   "source": [
    "type(df_ipca.loc[0,'Data'])"
   ]
  },
  {
   "cell_type": "code",
   "execution_count": 10,
   "id": "fce0097b-fdd7-4cc3-be58-495af2305d5a",
   "metadata": {
    "execution": {
     "iopub.execute_input": "2024-08-27T22:04:32.657794Z",
     "iopub.status.busy": "2024-08-27T22:04:32.657312Z",
     "iopub.status.idle": "2024-08-27T22:04:32.663107Z",
     "shell.execute_reply": "2024-08-27T22:04:32.662019Z",
     "shell.execute_reply.started": "2024-08-27T22:04:32.657760Z"
    },
    "tags": []
   },
   "outputs": [],
   "source": [
    "# Simplificando nome de coluna\n",
    "df_ipca = df_ipca.rename(columns={'433 - Нndice nacional de preзos ao consumidor-amplo (IPCA) - Var. % mensal':'ipca_mensal_%'})"
   ]
  },
  {
   "cell_type": "code",
   "execution_count": 11,
   "id": "e511a27a-4ea7-4710-9ac3-91972928c9b3",
   "metadata": {
    "execution": {
     "iopub.execute_input": "2024-08-27T22:04:32.664975Z",
     "iopub.status.busy": "2024-08-27T22:04:32.664564Z",
     "iopub.status.idle": "2024-08-27T22:04:32.676953Z",
     "shell.execute_reply": "2024-08-27T22:04:32.676173Z",
     "shell.execute_reply.started": "2024-08-27T22:04:32.664941Z"
    },
    "tags": []
   },
   "outputs": [],
   "source": [
    "# Convertendo coluna de data para tipo datetime, e p/final do mês\n",
    "df_ipca['Data'] = pd.to_datetime(df_ipca['Data'], format='%m/%Y')\n",
    "df_ipca['Data'] = df_ipca['Data'].dt.to_period('M').dt.to_timestamp('M')"
   ]
  },
  {
   "cell_type": "code",
   "execution_count": 12,
   "id": "8a1cb569-1429-4ada-8670-dba2373722b2",
   "metadata": {
    "execution": {
     "iopub.execute_input": "2024-08-27T22:04:32.679562Z",
     "iopub.status.busy": "2024-08-27T22:04:32.678569Z",
     "iopub.status.idle": "2024-08-27T22:04:32.685954Z",
     "shell.execute_reply": "2024-08-27T22:04:32.685156Z",
     "shell.execute_reply.started": "2024-08-27T22:04:32.679526Z"
    },
    "tags": []
   },
   "outputs": [],
   "source": [
    "# Convertendo ipca de string para float\n",
    "type(df_ipca.loc[0,'ipca_mensal_%']) # str\n",
    "df_ipca['ipca_mensal_%'] = df_ipca['ipca_mensal_%'].str.replace(',','.')\n",
    "df_ipca['ipca_mensal_%'] = df_ipca['ipca_mensal_%'].astype('float')"
   ]
  },
  {
   "cell_type": "code",
   "execution_count": 13,
   "id": "3e58bcfe-b304-49e0-afc7-faae25dd2c67",
   "metadata": {
    "execution": {
     "iopub.execute_input": "2024-08-27T22:04:32.688346Z",
     "iopub.status.busy": "2024-08-27T22:04:32.687796Z",
     "iopub.status.idle": "2024-08-27T22:04:32.695489Z",
     "shell.execute_reply": "2024-08-27T22:04:32.694726Z",
     "shell.execute_reply.started": "2024-08-27T22:04:32.688312Z"
    },
    "tags": []
   },
   "outputs": [
    {
     "data": {
      "text/plain": [
       "dtype('<M8[ns]')"
      ]
     },
     "execution_count": 13,
     "metadata": {},
     "output_type": "execute_result"
    }
   ],
   "source": [
    "df_ipca['Data'].dtype"
   ]
  },
  {
   "cell_type": "code",
   "execution_count": 14,
   "id": "08579a00-b655-4ecd-a5ff-abc9f4ac3ec2",
   "metadata": {
    "execution": {
     "iopub.execute_input": "2024-08-27T22:04:32.697249Z",
     "iopub.status.busy": "2024-08-27T22:04:32.696426Z",
     "iopub.status.idle": "2024-08-27T22:04:32.707112Z",
     "shell.execute_reply": "2024-08-27T22:04:32.706028Z",
     "shell.execute_reply.started": "2024-08-27T22:04:32.697213Z"
    },
    "tags": []
   },
   "outputs": [],
   "source": [
    "# Atribuindo dez/2009 = 1.00\n",
    "df_ipca['ipca_mensal'] = 1 + df_ipca['ipca_mensal_%']/100\n",
    "df_ipca['ipca_acum'] =  df_ipca['ipca_mensal'].cumprod()\n",
    "scaling_date = df_ipca.loc[df_ipca['Data'] == '2009-12-31']['ipca_acum'].iloc[0]\n",
    "df_ipca['ipca_acum'] = df_ipca['ipca_acum'] / scaling_date"
   ]
  },
  {
   "cell_type": "markdown",
   "id": "35617f67-c221-4372-b07b-0cee86109421",
   "metadata": {},
   "source": [
    "## PIB"
   ]
  },
  {
   "cell_type": "code",
   "execution_count": 15,
   "id": "df1a32ca-06a9-40c5-8d2a-9cafe1d12566",
   "metadata": {
    "execution": {
     "iopub.execute_input": "2024-08-27T22:04:32.709245Z",
     "iopub.status.busy": "2024-08-27T22:04:32.708767Z",
     "iopub.status.idle": "2024-08-27T22:04:32.724585Z",
     "shell.execute_reply": "2024-08-27T22:04:32.723327Z",
     "shell.execute_reply.started": "2024-08-27T22:04:32.709207Z"
    },
    "tags": []
   },
   "outputs": [
    {
     "data": {
      "text/html": [
       "<div>\n",
       "<style scoped>\n",
       "    .dataframe tbody tr th:only-of-type {\n",
       "        vertical-align: middle;\n",
       "    }\n",
       "\n",
       "    .dataframe tbody tr th {\n",
       "        vertical-align: top;\n",
       "    }\n",
       "\n",
       "    .dataframe thead th {\n",
       "        text-align: right;\n",
       "    }\n",
       "</style>\n",
       "<table border=\"1\" class=\"dataframe\">\n",
       "  <thead>\n",
       "    <tr style=\"text-align: right;\">\n",
       "      <th></th>\n",
       "      <th>Data</th>\n",
       "      <th>4380 - PIB mensal - Valores correntes (R$ milhхes) - R$ (milhхes)</th>\n",
       "    </tr>\n",
       "  </thead>\n",
       "  <tbody>\n",
       "    <tr>\n",
       "      <th>0</th>\n",
       "      <td>01/1990</td>\n",
       "      <td>0,2</td>\n",
       "    </tr>\n",
       "    <tr>\n",
       "      <th>1</th>\n",
       "      <td>02/1990</td>\n",
       "      <td>0,4</td>\n",
       "    </tr>\n",
       "    <tr>\n",
       "      <th>2</th>\n",
       "      <td>03/1990</td>\n",
       "      <td>0,8</td>\n",
       "    </tr>\n",
       "    <tr>\n",
       "      <th>3</th>\n",
       "      <td>04/1990</td>\n",
       "      <td>0,7</td>\n",
       "    </tr>\n",
       "    <tr>\n",
       "      <th>4</th>\n",
       "      <td>05/1990</td>\n",
       "      <td>0,8</td>\n",
       "    </tr>\n",
       "    <tr>\n",
       "      <th>...</th>\n",
       "      <td>...</td>\n",
       "      <td>...</td>\n",
       "    </tr>\n",
       "    <tr>\n",
       "      <th>410</th>\n",
       "      <td>03/2024</td>\n",
       "      <td>952.242,4</td>\n",
       "    </tr>\n",
       "    <tr>\n",
       "      <th>411</th>\n",
       "      <td>04/2024</td>\n",
       "      <td>977.372,0</td>\n",
       "    </tr>\n",
       "    <tr>\n",
       "      <th>412</th>\n",
       "      <td>05/2024</td>\n",
       "      <td>954.779,1</td>\n",
       "    </tr>\n",
       "    <tr>\n",
       "      <th>413</th>\n",
       "      <td>06/2024</td>\n",
       "      <td>952.995,6</td>\n",
       "    </tr>\n",
       "    <tr>\n",
       "      <th>414</th>\n",
       "      <td>07/2024</td>\n",
       "      <td>987.472,6</td>\n",
       "    </tr>\n",
       "  </tbody>\n",
       "</table>\n",
       "<p>415 rows × 2 columns</p>\n",
       "</div>"
      ],
      "text/plain": [
       "        Data 4380 - PIB mensal - Valores correntes (R$ milhхes) - R$ (milhхes)\n",
       "0    01/1990                                                0,2               \n",
       "1    02/1990                                                0,4               \n",
       "2    03/1990                                                0,8               \n",
       "3    04/1990                                                0,7               \n",
       "4    05/1990                                                0,8               \n",
       "..       ...                                                ...               \n",
       "410  03/2024                                          952.242,4               \n",
       "411  04/2024                                          977.372,0               \n",
       "412  05/2024                                          954.779,1               \n",
       "413  06/2024                                          952.995,6               \n",
       "414  07/2024                                          987.472,6               \n",
       "\n",
       "[415 rows x 2 columns]"
      ]
     },
     "execution_count": 15,
     "metadata": {},
     "output_type": "execute_result"
    }
   ],
   "source": [
    "df_pib"
   ]
  },
  {
   "cell_type": "code",
   "execution_count": 16,
   "id": "c5b06ab7-6439-40ac-b94b-9d5b995c2927",
   "metadata": {
    "execution": {
     "iopub.execute_input": "2024-08-27T22:04:32.726820Z",
     "iopub.status.busy": "2024-08-27T22:04:32.726276Z",
     "iopub.status.idle": "2024-08-27T22:04:32.740163Z",
     "shell.execute_reply": "2024-08-27T22:04:32.739011Z",
     "shell.execute_reply.started": "2024-08-27T22:04:32.726781Z"
    },
    "tags": []
   },
   "outputs": [
    {
     "name": "stdout",
     "output_type": "stream",
     "text": [
      "<class 'pandas.core.frame.DataFrame'>\n",
      "RangeIndex: 415 entries, 0 to 414\n",
      "Data columns (total 2 columns):\n",
      " #   Column                                                             Non-Null Count  Dtype \n",
      "---  ------                                                             --------------  ----- \n",
      " 0   Data                                                               415 non-null    object\n",
      " 1   4380 - PIB mensal - Valores correntes (R$ milhхes) - R$ (milhхes)  415 non-null    object\n",
      "dtypes: object(2)\n",
      "memory usage: 6.6+ KB\n"
     ]
    }
   ],
   "source": [
    "df_pib.info()"
   ]
  },
  {
   "cell_type": "code",
   "execution_count": 17,
   "id": "dedd6668-596f-48d2-9350-380f132cca33",
   "metadata": {
    "execution": {
     "iopub.execute_input": "2024-08-27T22:04:32.742195Z",
     "iopub.status.busy": "2024-08-27T22:04:32.741758Z",
     "iopub.status.idle": "2024-08-27T22:04:32.748193Z",
     "shell.execute_reply": "2024-08-27T22:04:32.747150Z",
     "shell.execute_reply.started": "2024-08-27T22:04:32.742159Z"
    },
    "tags": []
   },
   "outputs": [],
   "source": [
    "df_pib = df_pib.rename(columns={\n",
    "'4380 - PIB mensal - Valores correntes (R$ milhхes) - R$ (milhхes)':'PIB_mensal'\n",
    "})"
   ]
  },
  {
   "cell_type": "code",
   "execution_count": 18,
   "id": "a7eb8c22-dbeb-4f0c-b4ad-d5bfef62bb44",
   "metadata": {
    "execution": {
     "iopub.execute_input": "2024-08-27T22:04:32.750147Z",
     "iopub.status.busy": "2024-08-27T22:04:32.749700Z",
     "iopub.status.idle": "2024-08-27T22:04:32.760245Z",
     "shell.execute_reply": "2024-08-27T22:04:32.759274Z",
     "shell.execute_reply.started": "2024-08-27T22:04:32.750112Z"
    },
    "tags": []
   },
   "outputs": [],
   "source": [
    "# Alterando data para datetime e final do mês\n",
    "df_pib['Data'] = pd.to_datetime(df_pib['Data'], format='%m/%Y')\n",
    "df_pib['Data'] = df_pib['Data'].dt.to_period('M').dt.to_timestamp('M')\n",
    "# df_pib['Data'] = df_pib['Data'] + pd.offsets.MonthEnd(0)"
   ]
  },
  {
   "cell_type": "code",
   "execution_count": 19,
   "id": "ed1b2d24-0182-460e-a91f-20ab3adb3d68",
   "metadata": {
    "execution": {
     "iopub.execute_input": "2024-08-27T22:04:32.762344Z",
     "iopub.status.busy": "2024-08-27T22:04:32.761620Z",
     "iopub.status.idle": "2024-08-27T22:04:32.769831Z",
     "shell.execute_reply": "2024-08-27T22:04:32.768897Z",
     "shell.execute_reply.started": "2024-08-27T22:04:32.762308Z"
    },
    "tags": []
   },
   "outputs": [],
   "source": [
    "# Alterando PIB para float\n",
    "df_pib['PIB_mensal'] = df_pib['PIB_mensal'].str.replace('.', '', regex=False)\n",
    "df_pib['PIB_mensal'] = df_pib['PIB_mensal'].str.replace(',', '.', regex=False)\n",
    "df_pib['PIB_mensal'] = df_pib['PIB_mensal'].astype('float')"
   ]
  },
  {
   "cell_type": "markdown",
   "id": "1d881799-4519-4140-adfb-7b4ae40bb13d",
   "metadata": {},
   "source": [
    "# Calculando o PIB real"
   ]
  },
  {
   "cell_type": "code",
   "execution_count": 20,
   "id": "7b204b41-1293-4100-90f3-b9193fb7eac4",
   "metadata": {
    "execution": {
     "iopub.execute_input": "2024-08-27T22:04:32.771836Z",
     "iopub.status.busy": "2024-08-27T22:04:32.771179Z",
     "iopub.status.idle": "2024-08-27T22:04:32.782347Z",
     "shell.execute_reply": "2024-08-27T22:04:32.780993Z",
     "shell.execute_reply.started": "2024-08-27T22:04:32.771801Z"
    },
    "tags": []
   },
   "outputs": [],
   "source": [
    "df_pib = df_pib.merge(df_ipca[['Data','ipca_acum']], on='Data')"
   ]
  },
  {
   "cell_type": "code",
   "execution_count": 21,
   "id": "b2c04ef0-1435-4c8e-8611-6a5475c81cf1",
   "metadata": {
    "execution": {
     "iopub.execute_input": "2024-08-27T22:04:32.784592Z",
     "iopub.status.busy": "2024-08-27T22:04:32.783777Z",
     "iopub.status.idle": "2024-08-27T22:04:32.790146Z",
     "shell.execute_reply": "2024-08-27T22:04:32.789026Z",
     "shell.execute_reply.started": "2024-08-27T22:04:32.784553Z"
    },
    "tags": []
   },
   "outputs": [],
   "source": [
    "df_pib['PIB_real'] = df_pib['PIB_mensal'] / df_pib['ipca_acum']"
   ]
  },
  {
   "cell_type": "markdown",
   "id": "db658241-63f0-4193-a5b4-aea750d2cb13",
   "metadata": {},
   "source": [
    "# Calculando a variação do PIB mensal"
   ]
  },
  {
   "cell_type": "code",
   "execution_count": 22,
   "id": "b8188f9c-5b07-40df-a080-9f95b69831a7",
   "metadata": {
    "execution": {
     "iopub.execute_input": "2024-08-27T22:04:32.796662Z",
     "iopub.status.busy": "2024-08-27T22:04:32.795434Z",
     "iopub.status.idle": "2024-08-27T22:04:32.804305Z",
     "shell.execute_reply": "2024-08-27T22:04:32.802493Z",
     "shell.execute_reply.started": "2024-08-27T22:04:32.796597Z"
    },
    "tags": []
   },
   "outputs": [],
   "source": [
    "df_pib['PIB_mensal_real_%'] = df_pib['PIB_real'].pct_change() * 100"
   ]
  },
  {
   "cell_type": "markdown",
   "id": "bb0537a7-2680-4b98-960e-6246454792c0",
   "metadata": {},
   "source": [
    "# Descartando colunas que não serão utilizadas"
   ]
  },
  {
   "cell_type": "code",
   "execution_count": 23,
   "id": "6176fa51-1bb0-403c-8ba7-4558e6a91472",
   "metadata": {
    "execution": {
     "iopub.execute_input": "2024-08-27T22:04:32.807178Z",
     "iopub.status.busy": "2024-08-27T22:04:32.806134Z",
     "iopub.status.idle": "2024-08-27T22:04:32.814094Z",
     "shell.execute_reply": "2024-08-27T22:04:32.813107Z",
     "shell.execute_reply.started": "2024-08-27T22:04:32.807120Z"
    },
    "tags": []
   },
   "outputs": [],
   "source": [
    "df_pib = df_pib.drop(columns={'PIB_mensal','ipca_acum','PIB_real'})"
   ]
  },
  {
   "cell_type": "code",
   "execution_count": 24,
   "id": "7bd6efd2-209d-4bb6-b95d-f62712563686",
   "metadata": {
    "execution": {
     "iopub.execute_input": "2024-08-27T22:04:32.815855Z",
     "iopub.status.busy": "2024-08-27T22:04:32.815426Z",
     "iopub.status.idle": "2024-08-27T22:04:32.821657Z",
     "shell.execute_reply": "2024-08-27T22:04:32.820855Z",
     "shell.execute_reply.started": "2024-08-27T22:04:32.815817Z"
    },
    "tags": []
   },
   "outputs": [],
   "source": [
    "df_pib['Data'] = df_pib['Data'].dt.date"
   ]
  },
  {
   "cell_type": "markdown",
   "id": "6f077118-c7d7-40a3-8ff8-e82bc8f3aae2",
   "metadata": {},
   "source": [
    "# SALVANDO PARA PARQUET"
   ]
  },
  {
   "cell_type": "code",
   "execution_count": 25,
   "id": "745d804b-2805-4aec-ade1-03e67de26d5b",
   "metadata": {
    "execution": {
     "iopub.execute_input": "2024-08-27T22:04:32.823329Z",
     "iopub.status.busy": "2024-08-27T22:04:32.823019Z",
     "iopub.status.idle": "2024-08-27T22:04:32.844009Z",
     "shell.execute_reply": "2024-08-27T22:04:32.843184Z",
     "shell.execute_reply.started": "2024-08-27T22:04:32.823295Z"
    },
    "tags": []
   },
   "outputs": [],
   "source": [
    "df_pib.to_parquet(path_output / 'PIB-Bacen_mensal.parquet')"
   ]
  },
  {
   "cell_type": "code",
   "execution_count": null,
   "id": "ea255b8c-3ded-4f58-b2b9-b53000c4020c",
   "metadata": {},
   "outputs": [],
   "source": []
  }
 ],
 "metadata": {
  "kernelspec": {
   "display_name": "infra-data",
   "language": "python",
   "name": "infra-data"
  },
  "language_info": {
   "codemirror_mode": {
    "name": "ipython",
    "version": 3
   },
   "file_extension": ".py",
   "mimetype": "text/x-python",
   "name": "python",
   "nbconvert_exporter": "python",
   "pygments_lexer": "ipython3",
   "version": "3.9.16"
  }
 },
 "nbformat": 4,
 "nbformat_minor": 5
}
