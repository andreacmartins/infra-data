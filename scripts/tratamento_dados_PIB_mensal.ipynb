{
 "cells": [
  {
   "cell_type": "code",
   "execution_count": 19,
   "id": "461e704f-49c5-4e6d-86bb-9c5662d4007b",
   "metadata": {
    "execution": {
     "iopub.execute_input": "2024-08-27T22:03:49.331626Z",
     "iopub.status.busy": "2024-08-27T22:03:49.330080Z",
     "iopub.status.idle": "2024-08-27T22:03:49.336984Z",
     "shell.execute_reply": "2024-08-27T22:03:49.335722Z",
     "shell.execute_reply.started": "2024-08-27T22:03:49.331584Z"
    },
    "tags": []
   },
   "outputs": [],
   "source": [
    "import pandas as pd\n",
    "import numpy as np\n",
    "import os\n",
    "from decimal import Decimal\n",
    "import pickle\n",
    "from pathlib import Path"
   ]
  },
  {
   "cell_type": "markdown",
   "id": "469a553f-e52a-4c33-acc9-f5820b401e62",
   "metadata": {
    "execution": {
     "iopub.execute_input": "2024-08-20T19:55:44.418829Z",
     "iopub.status.busy": "2024-08-20T19:55:44.417516Z",
     "iopub.status.idle": "2024-08-20T19:55:44.424840Z",
     "shell.execute_reply": "2024-08-20T19:55:44.422826Z",
     "shell.execute_reply.started": "2024-08-20T19:55:44.418787Z"
    }
   },
   "source": [
    "# SETUP"
   ]
  },
  {
   "cell_type": "code",
   "execution_count": 20,
   "id": "e68264d5-95e9-4f59-9458-ded1cb449c30",
   "metadata": {
    "execution": {
     "iopub.execute_input": "2024-08-27T22:03:49.339255Z",
     "iopub.status.busy": "2024-08-27T22:03:49.338828Z",
     "iopub.status.idle": "2024-08-27T22:03:49.345477Z",
     "shell.execute_reply": "2024-08-27T22:03:49.344414Z",
     "shell.execute_reply.started": "2024-08-27T22:03:49.339221Z"
    },
    "tags": []
   },
   "outputs": [],
   "source": [
    "dir_tree_util_path = os.path.join(\"utils\", \"dir_tree.py\")\n",
    "exec(open(dir_tree_util_path).read())"
   ]
  },
  {
   "cell_type": "markdown",
   "id": "092e1dba-365e-4668-ae2d-5397dbb5edb2",
   "metadata": {},
   "source": [
    "# INPUTS"
   ]
  },
  {
   "cell_type": "code",
   "execution_count": 21,
   "id": "daedc56c-e029-4528-a9a0-a27293586d34",
   "metadata": {
    "execution": {
     "iopub.execute_input": "2024-08-27T22:03:49.347169Z",
     "iopub.status.busy": "2024-08-27T22:03:49.346745Z",
     "iopub.status.idle": "2024-08-27T22:03:49.352750Z",
     "shell.execute_reply": "2024-08-27T22:03:49.351508Z",
     "shell.execute_reply.started": "2024-08-27T22:03:49.347134Z"
    },
    "tags": []
   },
   "outputs": [],
   "source": [
    "# Paths\n",
    "path_dados_pib = PROJECT_DIRS['DADOS_GIT_BACEN_DIR']\n",
    "# path_output = TODO\n",
    "path_output = PROJECT_DIRS['DADOS_DERIVADOS_DIR']"
   ]
  },
  {
   "cell_type": "markdown",
   "id": "80cab38a-b879-41ec-8472-8253bdd0a791",
   "metadata": {},
   "source": [
    "# CARREGANDO p/MEMORIA OS DADOS"
   ]
  },
  {
   "cell_type": "code",
   "execution_count": 22,
   "id": "8f86c2f0-933c-4c58-9633-e2ecc575652d",
   "metadata": {
    "execution": {
     "iopub.execute_input": "2024-08-27T22:03:49.355796Z",
     "iopub.status.busy": "2024-08-27T22:03:49.355316Z",
     "iopub.status.idle": "2024-08-27T22:03:49.364281Z",
     "shell.execute_reply": "2024-08-27T22:03:49.363187Z",
     "shell.execute_reply.started": "2024-08-27T22:03:49.355760Z"
    },
    "tags": []
   },
   "outputs": [],
   "source": [
    "# df_pib mensal nominal\n",
    "# fonte: Bacen. SGS, df_pib mensal - valores correntes, Cód 4380\n",
    "df_pib = pd.read_csv(path_dados_pib / 'STP-20240827171150836.csv', sep=\";\", encoding='windows-1251', \n",
    "                  skipfooter=1, engine='python')"
   ]
  },
  {
   "cell_type": "code",
   "execution_count": 23,
   "id": "482fd7db-51b3-45bd-b1db-56d3c5798d20",
   "metadata": {
    "execution": {
     "iopub.execute_input": "2024-08-27T22:03:49.366058Z",
     "iopub.status.busy": "2024-08-27T22:03:49.365633Z",
     "iopub.status.idle": "2024-08-27T22:03:49.374577Z",
     "shell.execute_reply": "2024-08-27T22:03:49.373570Z",
     "shell.execute_reply.started": "2024-08-27T22:03:49.366021Z"
    },
    "tags": []
   },
   "outputs": [],
   "source": [
    "# df_ipca mensal\n",
    "# fonte: Bacen. SGS, Índice nacional de preços ao consumidor-amplo (df_ipca), Cód 433\n",
    "df_ipca = pd.read_csv(path_dados_pib / 'STP-20240827171950785.csv', sep=\";\", encoding='windows-1251', \n",
    "                  skipfooter=1, engine='python')"
   ]
  },
  {
   "cell_type": "markdown",
   "id": "433bd176-2227-4c7b-a11b-40161814969e",
   "metadata": {},
   "source": [
    "# TRATANDO OS DADOS"
   ]
  },
  {
   "cell_type": "markdown",
   "id": "b1d85732-392c-4a98-af87-4c944023dc5a",
   "metadata": {},
   "source": [
    "## IPCA"
   ]
  },
  {
   "cell_type": "code",
   "execution_count": 24,
   "id": "7a1f6080-4264-4a4b-94aa-4aeb3fea732e",
   "metadata": {
    "execution": {
     "iopub.execute_input": "2024-08-27T22:03:49.376495Z",
     "iopub.status.busy": "2024-08-27T22:03:49.376029Z",
     "iopub.status.idle": "2024-08-27T22:03:49.390071Z",
     "shell.execute_reply": "2024-08-27T22:03:49.388881Z",
     "shell.execute_reply.started": "2024-08-27T22:03:49.376459Z"
    },
    "tags": []
   },
   "outputs": [
    {
     "data": {
      "text/html": [
       "<div>\n",
       "<style scoped>\n",
       "    .dataframe tbody tr th:only-of-type {\n",
       "        vertical-align: middle;\n",
       "    }\n",
       "\n",
       "    .dataframe tbody tr th {\n",
       "        vertical-align: top;\n",
       "    }\n",
       "\n",
       "    .dataframe thead th {\n",
       "        text-align: right;\n",
       "    }\n",
       "</style>\n",
       "<table border=\"1\" class=\"dataframe\">\n",
       "  <thead>\n",
       "    <tr style=\"text-align: right;\">\n",
       "      <th></th>\n",
       "      <th>Data</th>\n",
       "      <th>433 - Нndice nacional de preзos ao consumidor-amplo (IPCA) - Var. % mensal</th>\n",
       "    </tr>\n",
       "  </thead>\n",
       "  <tbody>\n",
       "    <tr>\n",
       "      <th>0</th>\n",
       "      <td>01/1980</td>\n",
       "      <td>6,62</td>\n",
       "    </tr>\n",
       "    <tr>\n",
       "      <th>1</th>\n",
       "      <td>02/1980</td>\n",
       "      <td>4,62</td>\n",
       "    </tr>\n",
       "    <tr>\n",
       "      <th>2</th>\n",
       "      <td>03/1980</td>\n",
       "      <td>6,04</td>\n",
       "    </tr>\n",
       "    <tr>\n",
       "      <th>3</th>\n",
       "      <td>04/1980</td>\n",
       "      <td>5,29</td>\n",
       "    </tr>\n",
       "    <tr>\n",
       "      <th>4</th>\n",
       "      <td>05/1980</td>\n",
       "      <td>5,70</td>\n",
       "    </tr>\n",
       "    <tr>\n",
       "      <th>...</th>\n",
       "      <td>...</td>\n",
       "      <td>...</td>\n",
       "    </tr>\n",
       "    <tr>\n",
       "      <th>530</th>\n",
       "      <td>03/2024</td>\n",
       "      <td>0,16</td>\n",
       "    </tr>\n",
       "    <tr>\n",
       "      <th>531</th>\n",
       "      <td>04/2024</td>\n",
       "      <td>0,38</td>\n",
       "    </tr>\n",
       "    <tr>\n",
       "      <th>532</th>\n",
       "      <td>05/2024</td>\n",
       "      <td>0,46</td>\n",
       "    </tr>\n",
       "    <tr>\n",
       "      <th>533</th>\n",
       "      <td>06/2024</td>\n",
       "      <td>0,21</td>\n",
       "    </tr>\n",
       "    <tr>\n",
       "      <th>534</th>\n",
       "      <td>07/2024</td>\n",
       "      <td>0,38</td>\n",
       "    </tr>\n",
       "  </tbody>\n",
       "</table>\n",
       "<p>535 rows × 2 columns</p>\n",
       "</div>"
      ],
      "text/plain": [
       "        Data  \\\n",
       "0    01/1980   \n",
       "1    02/1980   \n",
       "2    03/1980   \n",
       "3    04/1980   \n",
       "4    05/1980   \n",
       "..       ...   \n",
       "530  03/2024   \n",
       "531  04/2024   \n",
       "532  05/2024   \n",
       "533  06/2024   \n",
       "534  07/2024   \n",
       "\n",
       "    433 - Нndice nacional de preзos ao consumidor-amplo (IPCA) - Var. % mensal  \n",
       "0                                                 6,62                          \n",
       "1                                                 4,62                          \n",
       "2                                                 6,04                          \n",
       "3                                                 5,29                          \n",
       "4                                                 5,70                          \n",
       "..                                                 ...                          \n",
       "530                                               0,16                          \n",
       "531                                               0,38                          \n",
       "532                                               0,46                          \n",
       "533                                               0,21                          \n",
       "534                                               0,38                          \n",
       "\n",
       "[535 rows x 2 columns]"
      ]
     },
     "execution_count": 24,
     "metadata": {},
     "output_type": "execute_result"
    }
   ],
   "source": [
    "df_ipca"
   ]
  },
  {
   "cell_type": "code",
   "execution_count": 25,
   "id": "3d05c037-9c12-4b04-99a2-2a0d854ff678",
   "metadata": {
    "execution": {
     "iopub.execute_input": "2024-08-27T22:03:49.392107Z",
     "iopub.status.busy": "2024-08-27T22:03:49.391384Z",
     "iopub.status.idle": "2024-08-27T22:03:49.403136Z",
     "shell.execute_reply": "2024-08-27T22:03:49.401914Z",
     "shell.execute_reply.started": "2024-08-27T22:03:49.392068Z"
    },
    "tags": []
   },
   "outputs": [
    {
     "name": "stdout",
     "output_type": "stream",
     "text": [
      "<class 'pandas.core.frame.DataFrame'>\n",
      "RangeIndex: 535 entries, 0 to 534\n",
      "Data columns (total 2 columns):\n",
      " #   Column                                                                      Non-Null Count  Dtype \n",
      "---  ------                                                                      --------------  ----- \n",
      " 0   Data                                                                        535 non-null    object\n",
      " 1   433 - Нndice nacional de preзos ao consumidor-amplo (IPCA) - Var. % mensal  535 non-null    object\n",
      "dtypes: object(2)\n",
      "memory usage: 8.5+ KB\n"
     ]
    }
   ],
   "source": [
    "df_ipca.info()"
   ]
  },
  {
   "cell_type": "code",
   "execution_count": 26,
   "id": "34c27b01-a64f-4736-9b63-d9e24b6c22ca",
   "metadata": {
    "execution": {
     "iopub.execute_input": "2024-08-27T22:03:49.404978Z",
     "iopub.status.busy": "2024-08-27T22:03:49.404629Z",
     "iopub.status.idle": "2024-08-27T22:03:49.411777Z",
     "shell.execute_reply": "2024-08-27T22:03:49.410992Z",
     "shell.execute_reply.started": "2024-08-27T22:03:49.404940Z"
    },
    "tags": []
   },
   "outputs": [
    {
     "data": {
      "text/plain": [
       "'01/1980'"
      ]
     },
     "execution_count": 26,
     "metadata": {},
     "output_type": "execute_result"
    }
   ],
   "source": [
    "df_ipca.loc[0,'Data']"
   ]
  },
  {
   "cell_type": "code",
   "execution_count": 27,
   "id": "c0500551-f488-44a9-88ad-3507f91add4a",
   "metadata": {
    "execution": {
     "iopub.execute_input": "2024-08-27T22:03:49.414039Z",
     "iopub.status.busy": "2024-08-27T22:03:49.413534Z",
     "iopub.status.idle": "2024-08-27T22:03:49.423193Z",
     "shell.execute_reply": "2024-08-27T22:03:49.421962Z",
     "shell.execute_reply.started": "2024-08-27T22:03:49.414001Z"
    },
    "tags": []
   },
   "outputs": [
    {
     "data": {
      "text/plain": [
       "str"
      ]
     },
     "execution_count": 27,
     "metadata": {},
     "output_type": "execute_result"
    }
   ],
   "source": [
    "type(df_ipca.loc[0,'Data'])"
   ]
  },
  {
   "cell_type": "code",
   "execution_count": 28,
   "id": "fce0097b-fdd7-4cc3-be58-495af2305d5a",
   "metadata": {
    "execution": {
     "iopub.execute_input": "2024-08-27T22:03:49.429119Z",
     "iopub.status.busy": "2024-08-27T22:03:49.428383Z",
     "iopub.status.idle": "2024-08-27T22:03:49.435483Z",
     "shell.execute_reply": "2024-08-27T22:03:49.434442Z",
     "shell.execute_reply.started": "2024-08-27T22:03:49.429079Z"
    },
    "tags": []
   },
   "outputs": [],
   "source": [
    "# Simplificando nome de coluna\n",
    "df_ipca = df_ipca.rename(columns={'433 - Нndice nacional de preзos ao consumidor-amplo (IPCA) - Var. % mensal':'ipca_mensal_%'})"
   ]
  },
  {
   "cell_type": "code",
   "execution_count": 29,
   "id": "e511a27a-4ea7-4710-9ac3-91972928c9b3",
   "metadata": {
    "execution": {
     "iopub.execute_input": "2024-08-27T22:03:49.437106Z",
     "iopub.status.busy": "2024-08-27T22:03:49.436778Z",
     "iopub.status.idle": "2024-08-27T22:03:49.450174Z",
     "shell.execute_reply": "2024-08-27T22:03:49.448764Z",
     "shell.execute_reply.started": "2024-08-27T22:03:49.437071Z"
    },
    "tags": []
   },
   "outputs": [],
   "source": [
    "# Convertendo coluna de data para tipo datetime, e p/final do mês\n",
    "df_ipca['Data'] = pd.to_datetime(df_ipca['Data'], format='%m/%Y')\n",
    "df_ipca['Data'] = df_ipca['Data'].dt.to_period('M').dt.to_timestamp('M')"
   ]
  },
  {
   "cell_type": "code",
   "execution_count": 30,
   "id": "8a1cb569-1429-4ada-8670-dba2373722b2",
   "metadata": {
    "execution": {
     "iopub.execute_input": "2024-08-27T22:03:49.452678Z",
     "iopub.status.busy": "2024-08-27T22:03:49.451979Z",
     "iopub.status.idle": "2024-08-27T22:03:49.461306Z",
     "shell.execute_reply": "2024-08-27T22:03:49.460265Z",
     "shell.execute_reply.started": "2024-08-27T22:03:49.452638Z"
    },
    "tags": []
   },
   "outputs": [],
   "source": [
    "# Convertendo ipca de string para float\n",
    "type(df_ipca.loc[0,'ipca_mensal_%']) # str\n",
    "df_ipca['ipca_mensal_%'] = df_ipca['ipca_mensal_%'].str.replace(',','.')\n",
    "df_ipca['ipca_mensal_%'] = df_ipca['ipca_mensal_%'].astype('float')"
   ]
  },
  {
   "cell_type": "code",
   "execution_count": 31,
   "id": "3e58bcfe-b304-49e0-afc7-faae25dd2c67",
   "metadata": {
    "execution": {
     "iopub.execute_input": "2024-08-27T22:03:49.463306Z",
     "iopub.status.busy": "2024-08-27T22:03:49.462567Z",
     "iopub.status.idle": "2024-08-27T22:03:49.471785Z",
     "shell.execute_reply": "2024-08-27T22:03:49.470670Z",
     "shell.execute_reply.started": "2024-08-27T22:03:49.463258Z"
    },
    "tags": []
   },
   "outputs": [
    {
     "data": {
      "text/plain": [
       "dtype('<M8[ns]')"
      ]
     },
     "execution_count": 31,
     "metadata": {},
     "output_type": "execute_result"
    }
   ],
   "source": [
    "df_ipca['Data'].dtype"
   ]
  },
  {
   "cell_type": "code",
   "execution_count": 32,
   "id": "08579a00-b655-4ecd-a5ff-abc9f4ac3ec2",
   "metadata": {
    "execution": {
     "iopub.execute_input": "2024-08-27T22:03:49.473597Z",
     "iopub.status.busy": "2024-08-27T22:03:49.473085Z",
     "iopub.status.idle": "2024-08-27T22:03:49.486620Z",
     "shell.execute_reply": "2024-08-27T22:03:49.485420Z",
     "shell.execute_reply.started": "2024-08-27T22:03:49.473539Z"
    },
    "tags": []
   },
   "outputs": [],
   "source": [
    "# Atribuindo dez/2009 = 1.00\n",
    "df_ipca['ipca_mensal'] = 1 + df_ipca['ipca_mensal_%']/100\n",
    "df_ipca['ipca_acum'] =  df_ipca['ipca_mensal'].cumprod()\n",
    "scaling_date = df_ipca.loc[df_ipca['Data'] == '2009-12-31']['ipca_acum'].iloc[0]\n",
    "df_ipca['ipca_acum'] = df_ipca['ipca_acum'] / scaling_date"
   ]
  },
  {
   "cell_type": "markdown",
   "id": "35617f67-c221-4372-b07b-0cee86109421",
   "metadata": {},
   "source": [
    "## PIB"
   ]
  },
  {
   "cell_type": "code",
   "execution_count": 33,
   "id": "df1a32ca-06a9-40c5-8d2a-9cafe1d12566",
   "metadata": {
    "execution": {
     "iopub.execute_input": "2024-08-27T22:03:49.488593Z",
     "iopub.status.busy": "2024-08-27T22:03:49.488041Z",
     "iopub.status.idle": "2024-08-27T22:03:49.502188Z",
     "shell.execute_reply": "2024-08-27T22:03:49.500679Z",
     "shell.execute_reply.started": "2024-08-27T22:03:49.488556Z"
    },
    "tags": []
   },
   "outputs": [
    {
     "data": {
      "text/html": [
       "<div>\n",
       "<style scoped>\n",
       "    .dataframe tbody tr th:only-of-type {\n",
       "        vertical-align: middle;\n",
       "    }\n",
       "\n",
       "    .dataframe tbody tr th {\n",
       "        vertical-align: top;\n",
       "    }\n",
       "\n",
       "    .dataframe thead th {\n",
       "        text-align: right;\n",
       "    }\n",
       "</style>\n",
       "<table border=\"1\" class=\"dataframe\">\n",
       "  <thead>\n",
       "    <tr style=\"text-align: right;\">\n",
       "      <th></th>\n",
       "      <th>Data</th>\n",
       "      <th>4380 - PIB mensal - Valores correntes (R$ milhхes) - R$ (milhхes)</th>\n",
       "    </tr>\n",
       "  </thead>\n",
       "  <tbody>\n",
       "    <tr>\n",
       "      <th>0</th>\n",
       "      <td>01/1990</td>\n",
       "      <td>0,2</td>\n",
       "    </tr>\n",
       "    <tr>\n",
       "      <th>1</th>\n",
       "      <td>02/1990</td>\n",
       "      <td>0,4</td>\n",
       "    </tr>\n",
       "    <tr>\n",
       "      <th>2</th>\n",
       "      <td>03/1990</td>\n",
       "      <td>0,8</td>\n",
       "    </tr>\n",
       "    <tr>\n",
       "      <th>3</th>\n",
       "      <td>04/1990</td>\n",
       "      <td>0,7</td>\n",
       "    </tr>\n",
       "    <tr>\n",
       "      <th>4</th>\n",
       "      <td>05/1990</td>\n",
       "      <td>0,8</td>\n",
       "    </tr>\n",
       "    <tr>\n",
       "      <th>...</th>\n",
       "      <td>...</td>\n",
       "      <td>...</td>\n",
       "    </tr>\n",
       "    <tr>\n",
       "      <th>410</th>\n",
       "      <td>03/2024</td>\n",
       "      <td>952.242,4</td>\n",
       "    </tr>\n",
       "    <tr>\n",
       "      <th>411</th>\n",
       "      <td>04/2024</td>\n",
       "      <td>977.372,0</td>\n",
       "    </tr>\n",
       "    <tr>\n",
       "      <th>412</th>\n",
       "      <td>05/2024</td>\n",
       "      <td>954.779,1</td>\n",
       "    </tr>\n",
       "    <tr>\n",
       "      <th>413</th>\n",
       "      <td>06/2024</td>\n",
       "      <td>952.995,6</td>\n",
       "    </tr>\n",
       "    <tr>\n",
       "      <th>414</th>\n",
       "      <td>07/2024</td>\n",
       "      <td>987.472,6</td>\n",
       "    </tr>\n",
       "  </tbody>\n",
       "</table>\n",
       "<p>415 rows × 2 columns</p>\n",
       "</div>"
      ],
      "text/plain": [
       "        Data 4380 - PIB mensal - Valores correntes (R$ milhхes) - R$ (milhхes)\n",
       "0    01/1990                                                0,2               \n",
       "1    02/1990                                                0,4               \n",
       "2    03/1990                                                0,8               \n",
       "3    04/1990                                                0,7               \n",
       "4    05/1990                                                0,8               \n",
       "..       ...                                                ...               \n",
       "410  03/2024                                          952.242,4               \n",
       "411  04/2024                                          977.372,0               \n",
       "412  05/2024                                          954.779,1               \n",
       "413  06/2024                                          952.995,6               \n",
       "414  07/2024                                          987.472,6               \n",
       "\n",
       "[415 rows x 2 columns]"
      ]
     },
     "execution_count": 33,
     "metadata": {},
     "output_type": "execute_result"
    }
   ],
   "source": [
    "df_pib"
   ]
  },
  {
   "cell_type": "code",
   "execution_count": 34,
   "id": "c5b06ab7-6439-40ac-b94b-9d5b995c2927",
   "metadata": {
    "execution": {
     "iopub.execute_input": "2024-08-27T22:03:49.504354Z",
     "iopub.status.busy": "2024-08-27T22:03:49.503939Z",
     "iopub.status.idle": "2024-08-27T22:03:49.515838Z",
     "shell.execute_reply": "2024-08-27T22:03:49.514644Z",
     "shell.execute_reply.started": "2024-08-27T22:03:49.504312Z"
    },
    "tags": []
   },
   "outputs": [
    {
     "name": "stdout",
     "output_type": "stream",
     "text": [
      "<class 'pandas.core.frame.DataFrame'>\n",
      "RangeIndex: 415 entries, 0 to 414\n",
      "Data columns (total 2 columns):\n",
      " #   Column                                                             Non-Null Count  Dtype \n",
      "---  ------                                                             --------------  ----- \n",
      " 0   Data                                                               415 non-null    object\n",
      " 1   4380 - PIB mensal - Valores correntes (R$ milhхes) - R$ (milhхes)  415 non-null    object\n",
      "dtypes: object(2)\n",
      "memory usage: 6.6+ KB\n"
     ]
    }
   ],
   "source": [
    "df_pib.info()"
   ]
  },
  {
   "cell_type": "code",
   "execution_count": 35,
   "id": "dedd6668-596f-48d2-9350-380f132cca33",
   "metadata": {
    "execution": {
     "iopub.execute_input": "2024-08-27T22:03:49.517506Z",
     "iopub.status.busy": "2024-08-27T22:03:49.517161Z",
     "iopub.status.idle": "2024-08-27T22:03:49.524097Z",
     "shell.execute_reply": "2024-08-27T22:03:49.522910Z",
     "shell.execute_reply.started": "2024-08-27T22:03:49.517471Z"
    },
    "tags": []
   },
   "outputs": [],
   "source": [
    "df_pib = df_pib.rename(columns={\n",
    "'4380 - PIB mensal - Valores correntes (R$ milhхes) - R$ (milhхes)':'PIB_mensal'\n",
    "})"
   ]
  },
  {
   "cell_type": "code",
   "execution_count": 36,
   "id": "a7eb8c22-dbeb-4f0c-b4ad-d5bfef62bb44",
   "metadata": {
    "execution": {
     "iopub.execute_input": "2024-08-27T22:03:49.526133Z",
     "iopub.status.busy": "2024-08-27T22:03:49.525752Z",
     "iopub.status.idle": "2024-08-27T22:03:49.538666Z",
     "shell.execute_reply": "2024-08-27T22:03:49.537528Z",
     "shell.execute_reply.started": "2024-08-27T22:03:49.526097Z"
    },
    "tags": []
   },
   "outputs": [],
   "source": [
    "# Alterando data para datetime e final do mês\n",
    "df_pib['Data'] = pd.to_datetime(df_pib['Data'], format='%m/%Y')\n",
    "df_pib['Data'] = df_pib['Data'].dt.to_period('M').dt.to_timestamp('M')\n",
    "# df_pib['Data'] = df_pib['Data'] + pd.offsets.MonthEnd(0)"
   ]
  },
  {
   "cell_type": "code",
   "execution_count": 37,
   "id": "ed1b2d24-0182-460e-a91f-20ab3adb3d68",
   "metadata": {
    "execution": {
     "iopub.execute_input": "2024-08-27T22:03:49.540225Z",
     "iopub.status.busy": "2024-08-27T22:03:49.539911Z",
     "iopub.status.idle": "2024-08-27T22:03:49.548616Z",
     "shell.execute_reply": "2024-08-27T22:03:49.547559Z",
     "shell.execute_reply.started": "2024-08-27T22:03:49.540191Z"
    },
    "tags": []
   },
   "outputs": [],
   "source": [
    "# Alterando PIB para float\n",
    "df_pib['PIB_mensal'] = df_pib['PIB_mensal'].str.replace('.', '', regex=False)\n",
    "df_pib['PIB_mensal'] = df_pib['PIB_mensal'].str.replace(',', '.', regex=False)\n",
    "df_pib['PIB_mensal'] = df_pib['PIB_mensal'].astype('float')"
   ]
  },
  {
   "cell_type": "markdown",
   "id": "1d881799-4519-4140-adfb-7b4ae40bb13d",
   "metadata": {},
   "source": [
    "# Calculando o PIB real"
   ]
  },
  {
   "cell_type": "code",
   "execution_count": 38,
   "id": "7b204b41-1293-4100-90f3-b9193fb7eac4",
   "metadata": {
    "execution": {
     "iopub.execute_input": "2024-08-27T22:03:49.550214Z",
     "iopub.status.busy": "2024-08-27T22:03:49.549904Z",
     "iopub.status.idle": "2024-08-27T22:03:49.559730Z",
     "shell.execute_reply": "2024-08-27T22:03:49.558527Z",
     "shell.execute_reply.started": "2024-08-27T22:03:49.550180Z"
    },
    "tags": []
   },
   "outputs": [],
   "source": [
    "df_pib = df_pib.merge(df_ipca[['Data','ipca_acum']], on='Data')"
   ]
  },
  {
   "cell_type": "code",
   "execution_count": 39,
   "id": "b2c04ef0-1435-4c8e-8611-6a5475c81cf1",
   "metadata": {
    "execution": {
     "iopub.execute_input": "2024-08-27T22:03:49.561208Z",
     "iopub.status.busy": "2024-08-27T22:03:49.560896Z",
     "iopub.status.idle": "2024-08-27T22:03:49.568170Z",
     "shell.execute_reply": "2024-08-27T22:03:49.567095Z",
     "shell.execute_reply.started": "2024-08-27T22:03:49.561174Z"
    },
    "tags": []
   },
   "outputs": [],
   "source": [
    "df_pib['PIB_real'] = df_pib['PIB_mensal'] / df_pib['ipca_acum']"
   ]
  },
  {
   "cell_type": "markdown",
   "id": "db658241-63f0-4193-a5b4-aea750d2cb13",
   "metadata": {},
   "source": [
    "# Calculando a variação do PIB mensal"
   ]
  },
  {
   "cell_type": "code",
   "execution_count": 40,
   "id": "b8188f9c-5b07-40df-a080-9f95b69831a7",
   "metadata": {
    "execution": {
     "iopub.execute_input": "2024-08-27T22:03:49.570422Z",
     "iopub.status.busy": "2024-08-27T22:03:49.569875Z",
     "iopub.status.idle": "2024-08-27T22:03:49.577812Z",
     "shell.execute_reply": "2024-08-27T22:03:49.576803Z",
     "shell.execute_reply.started": "2024-08-27T22:03:49.570367Z"
    },
    "tags": []
   },
   "outputs": [],
   "source": [
    "df_pib['PIB_mensal_real_%'] = df_pib['PIB_real'].pct_change() * 100"
   ]
  },
  {
   "cell_type": "markdown",
   "id": "bb0537a7-2680-4b98-960e-6246454792c0",
   "metadata": {},
   "source": [
    "# Descartando colunas que não serão utilizadas"
   ]
  },
  {
   "cell_type": "code",
   "execution_count": 41,
   "id": "6176fa51-1bb0-403c-8ba7-4558e6a91472",
   "metadata": {
    "execution": {
     "iopub.execute_input": "2024-08-27T22:03:49.580474Z",
     "iopub.status.busy": "2024-08-27T22:03:49.579486Z",
     "iopub.status.idle": "2024-08-27T22:03:49.587040Z",
     "shell.execute_reply": "2024-08-27T22:03:49.586034Z",
     "shell.execute_reply.started": "2024-08-27T22:03:49.580421Z"
    },
    "tags": []
   },
   "outputs": [],
   "source": [
    "df_pib = df_pib.drop(columns={'PIB_mensal','ipca_acum','PIB_real'})"
   ]
  },
  {
   "cell_type": "code",
   "execution_count": null,
   "id": "b8d5097f-6091-4480-8177-658ab2fd6f5d",
   "metadata": {},
   "outputs": [],
   "source": []
  },
  {
   "cell_type": "code",
   "execution_count": 42,
   "id": "7bd6efd2-209d-4bb6-b95d-f62712563686",
   "metadata": {
    "execution": {
     "iopub.execute_input": "2024-08-27T22:03:55.446791Z",
     "iopub.status.busy": "2024-08-27T22:03:55.445490Z",
     "iopub.status.idle": "2024-08-27T22:03:55.459554Z",
     "shell.execute_reply": "2024-08-27T22:03:55.458512Z",
     "shell.execute_reply.started": "2024-08-27T22:03:55.446745Z"
    }
   },
   "outputs": [
    {
     "data": {
      "text/html": [
       "<div>\n",
       "<style scoped>\n",
       "    .dataframe tbody tr th:only-of-type {\n",
       "        vertical-align: middle;\n",
       "    }\n",
       "\n",
       "    .dataframe tbody tr th {\n",
       "        vertical-align: top;\n",
       "    }\n",
       "\n",
       "    .dataframe thead th {\n",
       "        text-align: right;\n",
       "    }\n",
       "</style>\n",
       "<table border=\"1\" class=\"dataframe\">\n",
       "  <thead>\n",
       "    <tr style=\"text-align: right;\">\n",
       "      <th></th>\n",
       "      <th>Data</th>\n",
       "      <th>PIB_mensal_real_%</th>\n",
       "    </tr>\n",
       "  </thead>\n",
       "  <tbody>\n",
       "    <tr>\n",
       "      <th>0</th>\n",
       "      <td>1990-01-31</td>\n",
       "      <td>NaN</td>\n",
       "    </tr>\n",
       "    <tr>\n",
       "      <th>1</th>\n",
       "      <td>1990-02-28</td>\n",
       "      <td>13.810960</td>\n",
       "    </tr>\n",
       "    <tr>\n",
       "      <th>2</th>\n",
       "      <td>1990-03-31</td>\n",
       "      <td>9.655135</td>\n",
       "    </tr>\n",
       "    <tr>\n",
       "      <th>3</th>\n",
       "      <td>1990-04-30</td>\n",
       "      <td>-24.255540</td>\n",
       "    </tr>\n",
       "    <tr>\n",
       "      <th>4</th>\n",
       "      <td>1990-05-31</td>\n",
       "      <td>6.223361</td>\n",
       "    </tr>\n",
       "    <tr>\n",
       "      <th>...</th>\n",
       "      <td>...</td>\n",
       "      <td>...</td>\n",
       "    </tr>\n",
       "    <tr>\n",
       "      <th>410</th>\n",
       "      <td>2024-03-31</td>\n",
       "      <td>7.294999</td>\n",
       "    </tr>\n",
       "    <tr>\n",
       "      <th>411</th>\n",
       "      <td>2024-04-30</td>\n",
       "      <td>2.250440</td>\n",
       "    </tr>\n",
       "    <tr>\n",
       "      <th>412</th>\n",
       "      <td>2024-05-31</td>\n",
       "      <td>-2.758906</td>\n",
       "    </tr>\n",
       "    <tr>\n",
       "      <th>413</th>\n",
       "      <td>2024-06-30</td>\n",
       "      <td>-0.395966</td>\n",
       "    </tr>\n",
       "    <tr>\n",
       "      <th>414</th>\n",
       "      <td>2024-07-31</td>\n",
       "      <td>3.225493</td>\n",
       "    </tr>\n",
       "  </tbody>\n",
       "</table>\n",
       "<p>415 rows × 2 columns</p>\n",
       "</div>"
      ],
      "text/plain": [
       "          Data  PIB_mensal_real_%\n",
       "0   1990-01-31                NaN\n",
       "1   1990-02-28          13.810960\n",
       "2   1990-03-31           9.655135\n",
       "3   1990-04-30         -24.255540\n",
       "4   1990-05-31           6.223361\n",
       "..         ...                ...\n",
       "410 2024-03-31           7.294999\n",
       "411 2024-04-30           2.250440\n",
       "412 2024-05-31          -2.758906\n",
       "413 2024-06-30          -0.395966\n",
       "414 2024-07-31           3.225493\n",
       "\n",
       "[415 rows x 2 columns]"
      ]
     },
     "execution_count": 42,
     "metadata": {},
     "output_type": "execute_result"
    }
   ],
   "source": [
    "df_pib"
   ]
  },
  {
   "cell_type": "markdown",
   "id": "6f077118-c7d7-40a3-8ff8-e82bc8f3aae2",
   "metadata": {},
   "source": [
    "# SALVANDO PARA PARQUET"
   ]
  },
  {
   "cell_type": "code",
   "execution_count": null,
   "id": "745d804b-2805-4aec-ade1-03e67de26d5b",
   "metadata": {
    "execution": {
     "iopub.status.busy": "2024-08-27T22:00:26.789778Z",
     "iopub.status.idle": "2024-08-27T22:00:26.790210Z",
     "shell.execute_reply": "2024-08-27T22:00:26.790011Z",
     "shell.execute_reply.started": "2024-08-27T22:00:26.789990Z"
    },
    "tags": []
   },
   "outputs": [],
   "source": [
    "df_pib.to_parquet(path_output / 'PIB-Bacen_mensal.parquet')"
   ]
  },
  {
   "cell_type": "code",
   "execution_count": null,
   "id": "ea255b8c-3ded-4f58-b2b9-b53000c4020c",
   "metadata": {},
   "outputs": [],
   "source": []
  }
 ],
 "metadata": {
  "kernelspec": {
   "display_name": "infra-data",
   "language": "python",
   "name": "infra-data"
  },
  "language_info": {
   "codemirror_mode": {
    "name": "ipython",
    "version": 3
   },
   "file_extension": ".py",
   "mimetype": "text/x-python",
   "name": "python",
   "nbconvert_exporter": "python",
   "pygments_lexer": "ipython3",
   "version": "3.9.16"
  }
 },
 "nbformat": 4,
 "nbformat_minor": 5
}
