{
 "cells": [
  {
   "cell_type": "markdown",
   "id": "7cd4eef4-cce0-440e-b843-22821262126e",
   "metadata": {},
   "source": [
    "# IMPORTS"
   ]
  },
  {
   "cell_type": "code",
   "execution_count": 1,
   "id": "b0bd2558-4df8-4da6-a0fb-e13700764450",
   "metadata": {
    "execution": {
     "iopub.execute_input": "2024-08-16T21:40:08.789044Z",
     "iopub.status.busy": "2024-08-16T21:40:08.788624Z",
     "iopub.status.idle": "2024-08-16T21:40:09.369729Z",
     "shell.execute_reply": "2024-08-16T21:40:09.368444Z",
     "shell.execute_reply.started": "2024-08-16T21:40:08.788944Z"
    },
    "tags": []
   },
   "outputs": [],
   "source": [
    "import pandas as pd\n",
    "import numpy as np\n",
    "import os\n",
    "from decimal import Decimal\n",
    "import pickle"
   ]
  },
  {
   "cell_type": "markdown",
   "id": "5e259d48-4151-4192-a50c-da058d8aaa7e",
   "metadata": {},
   "source": [
    "# INPUTS"
   ]
  },
  {
   "cell_type": "code",
   "execution_count": 2,
   "id": "31307c5f-d5d2-4adc-9fa3-3bbf19cf7121",
   "metadata": {
    "execution": {
     "iopub.execute_input": "2024-08-16T21:40:09.372893Z",
     "iopub.status.busy": "2024-08-16T21:40:09.372456Z",
     "iopub.status.idle": "2024-08-16T21:40:09.382012Z",
     "shell.execute_reply": "2024-08-16T21:40:09.380861Z",
     "shell.execute_reply.started": "2024-08-16T21:40:09.372855Z"
    },
    "tags": []
   },
   "outputs": [],
   "source": [
    "# Paths\n",
    "path_dados_trafego = os.path.join('..','dados','brutos','trafego-veiculos-eq_ANTT')\n",
    "path_dados_derivados = os.path.join('..','dados','derivados','trafego_rodo_ANTT')"
   ]
  },
  {
   "cell_type": "code",
   "execution_count": 3,
   "id": "79a367f1-c05e-47ae-81dc-64bf313cbbce",
   "metadata": {
    "execution": {
     "iopub.execute_input": "2024-08-16T21:40:09.383679Z",
     "iopub.status.busy": "2024-08-16T21:40:09.383336Z",
     "iopub.status.idle": "2024-08-16T21:40:09.392526Z",
     "shell.execute_reply": "2024-08-16T21:40:09.391407Z",
     "shell.execute_reply.started": "2024-08-16T21:40:09.383644Z"
    },
    "tags": []
   },
   "outputs": [],
   "source": [
    "periodo = list(range(2010, 2025))"
   ]
  },
  {
   "cell_type": "markdown",
   "id": "4227454c-3327-470a-92b4-35b111fe9c27",
   "metadata": {},
   "source": [
    "# Criando um dataframe consolidado com os dados de tráfego"
   ]
  },
  {
   "cell_type": "code",
   "execution_count": 4,
   "id": "3b658ece-7e95-46f0-9af1-dd47eb29a702",
   "metadata": {
    "execution": {
     "iopub.execute_input": "2024-08-16T21:40:09.393737Z",
     "iopub.status.busy": "2024-08-16T21:40:09.393403Z",
     "iopub.status.idle": "2024-08-16T21:40:09.400735Z",
     "shell.execute_reply": "2024-08-16T21:40:09.399387Z",
     "shell.execute_reply.started": "2024-08-16T21:40:09.393703Z"
    },
    "tags": []
   },
   "outputs": [],
   "source": [
    "# arquivos dos dados\n",
    "arquivos = os.listdir(path_dados_trafego)"
   ]
  },
  {
   "cell_type": "code",
   "execution_count": 5,
   "id": "964fa4c0-5272-4ea5-ba8a-f8fd00296c3c",
   "metadata": {
    "execution": {
     "iopub.execute_input": "2024-08-16T21:40:09.402728Z",
     "iopub.status.busy": "2024-08-16T21:40:09.402158Z",
     "iopub.status.idle": "2024-08-16T21:40:15.956051Z",
     "shell.execute_reply": "2024-08-16T21:40:15.953622Z",
     "shell.execute_reply.started": "2024-08-16T21:40:09.402688Z"
    },
    "tags": []
   },
   "outputs": [],
   "source": [
    "df_trafego = pd.DataFrame()\n",
    "for ano in periodo:\n",
    "    arquivo = [a for a in arquivos if a[:-4].endswith(str(ano))][0]\n",
    "    df_ano = pd.read_csv(os.path.join(path_dados_trafego, arquivo), sep=';', encoding='cp1252', low_memory=False)\n",
    "    df_trafego = pd.concat([df_trafego,df_ano])"
   ]
  },
  {
   "cell_type": "markdown",
   "id": "77d89742-3655-43ef-935c-b57c5a4456d9",
   "metadata": {},
   "source": [
    "# EDA Inicial"
   ]
  },
  {
   "cell_type": "code",
   "execution_count": 6,
   "id": "ffc68822-6798-45bb-a980-1691d74ad640",
   "metadata": {
    "execution": {
     "iopub.execute_input": "2024-08-16T21:40:15.959168Z",
     "iopub.status.busy": "2024-08-16T21:40:15.957956Z",
     "iopub.status.idle": "2024-08-16T21:40:15.984480Z",
     "shell.execute_reply": "2024-08-16T21:40:15.983540Z",
     "shell.execute_reply.started": "2024-08-16T21:40:15.959122Z"
    },
    "tags": []
   },
   "outputs": [
    {
     "data": {
      "text/html": [
       "<div>\n",
       "<style scoped>\n",
       "    .dataframe tbody tr th:only-of-type {\n",
       "        vertical-align: middle;\n",
       "    }\n",
       "\n",
       "    .dataframe tbody tr th {\n",
       "        vertical-align: top;\n",
       "    }\n",
       "\n",
       "    .dataframe thead th {\n",
       "        text-align: right;\n",
       "    }\n",
       "</style>\n",
       "<table border=\"1\" class=\"dataframe\">\n",
       "  <thead>\n",
       "    <tr style=\"text-align: right;\">\n",
       "      <th></th>\n",
       "      <th>concessionaria</th>\n",
       "      <th>mes_ano</th>\n",
       "      <th>sentido</th>\n",
       "      <th>praca</th>\n",
       "      <th>categoria</th>\n",
       "      <th>tipo_de_veiculo</th>\n",
       "      <th>volume_total</th>\n",
       "      <th>multiplicador_de_tarifa</th>\n",
       "      <th>volume_veiculo_equivalente</th>\n",
       "      <th>tipo_de_cobranca</th>\n",
       "    </tr>\n",
       "  </thead>\n",
       "  <tbody>\n",
       "    <tr>\n",
       "      <th>0</th>\n",
       "      <td>RODOVIA DO AÇO</td>\n",
       "      <td>01-01-2010</td>\n",
       "      <td>Decrescente</td>\n",
       "      <td>Praça 01  BR-393/RJ km 125,00</td>\n",
       "      <td>Categoria 1</td>\n",
       "      <td>Passeio</td>\n",
       "      <td>44146</td>\n",
       "      <td>1</td>\n",
       "      <td>44146</td>\n",
       "      <td>NaN</td>\n",
       "    </tr>\n",
       "    <tr>\n",
       "      <th>1</th>\n",
       "      <td>RODOVIA DO AÇO</td>\n",
       "      <td>01-01-2010</td>\n",
       "      <td>Crescente</td>\n",
       "      <td>Praça 01  BR-393/RJ km 125,00</td>\n",
       "      <td>Categoria 1</td>\n",
       "      <td>Passeio</td>\n",
       "      <td>35771</td>\n",
       "      <td>1</td>\n",
       "      <td>35771</td>\n",
       "      <td>NaN</td>\n",
       "    </tr>\n",
       "    <tr>\n",
       "      <th>2</th>\n",
       "      <td>RODOVIA DO AÇO</td>\n",
       "      <td>01-02-2010</td>\n",
       "      <td>Decrescente</td>\n",
       "      <td>Praça 01  BR-393/RJ km 125,00</td>\n",
       "      <td>Categoria 1</td>\n",
       "      <td>Passeio</td>\n",
       "      <td>33455</td>\n",
       "      <td>1</td>\n",
       "      <td>33455</td>\n",
       "      <td>NaN</td>\n",
       "    </tr>\n",
       "    <tr>\n",
       "      <th>3</th>\n",
       "      <td>RODOVIA DO AÇO</td>\n",
       "      <td>01-02-2010</td>\n",
       "      <td>Crescente</td>\n",
       "      <td>Praça 01  BR-393/RJ km 125,00</td>\n",
       "      <td>Categoria 1</td>\n",
       "      <td>Passeio</td>\n",
       "      <td>27109</td>\n",
       "      <td>1</td>\n",
       "      <td>27109</td>\n",
       "      <td>NaN</td>\n",
       "    </tr>\n",
       "    <tr>\n",
       "      <th>4</th>\n",
       "      <td>RODOVIA DO AÇO</td>\n",
       "      <td>01-03-2010</td>\n",
       "      <td>Decrescente</td>\n",
       "      <td>Praça 01  BR-393/RJ km 125,00</td>\n",
       "      <td>Categoria 1</td>\n",
       "      <td>Passeio</td>\n",
       "      <td>31677</td>\n",
       "      <td>1</td>\n",
       "      <td>31677</td>\n",
       "      <td>NaN</td>\n",
       "    </tr>\n",
       "  </tbody>\n",
       "</table>\n",
       "</div>"
      ],
      "text/plain": [
       "   concessionaria     mes_ano      sentido                          praca  \\\n",
       "0  RODOVIA DO AÇO  01-01-2010  Decrescente  Praça 01  BR-393/RJ km 125,00   \n",
       "1  RODOVIA DO AÇO  01-01-2010    Crescente  Praça 01  BR-393/RJ km 125,00   \n",
       "2  RODOVIA DO AÇO  01-02-2010  Decrescente  Praça 01  BR-393/RJ km 125,00   \n",
       "3  RODOVIA DO AÇO  01-02-2010    Crescente  Praça 01  BR-393/RJ km 125,00   \n",
       "4  RODOVIA DO AÇO  01-03-2010  Decrescente  Praça 01  BR-393/RJ km 125,00   \n",
       "\n",
       "     categoria tipo_de_veiculo volume_total multiplicador_de_tarifa  \\\n",
       "0  Categoria 1         Passeio        44146                       1   \n",
       "1  Categoria 1         Passeio        35771                       1   \n",
       "2  Categoria 1         Passeio        33455                       1   \n",
       "3  Categoria 1         Passeio        27109                       1   \n",
       "4  Categoria 1         Passeio        31677                       1   \n",
       "\n",
       "  volume_veiculo_equivalente tipo_de_cobranca  \n",
       "0                      44146              NaN  \n",
       "1                      35771              NaN  \n",
       "2                      33455              NaN  \n",
       "3                      27109              NaN  \n",
       "4                      31677              NaN  "
      ]
     },
     "execution_count": 6,
     "metadata": {},
     "output_type": "execute_result"
    }
   ],
   "source": [
    "df_trafego.head()"
   ]
  },
  {
   "cell_type": "code",
   "execution_count": 7,
   "id": "375aa237-e0b2-4a31-bcb1-ba4356cc4745",
   "metadata": {
    "execution": {
     "iopub.execute_input": "2024-08-16T21:40:15.988893Z",
     "iopub.status.busy": "2024-08-16T21:40:15.988185Z",
     "iopub.status.idle": "2024-08-16T21:40:16.003496Z",
     "shell.execute_reply": "2024-08-16T21:40:16.002518Z",
     "shell.execute_reply.started": "2024-08-16T21:40:15.988856Z"
    },
    "tags": []
   },
   "outputs": [
    {
     "name": "stdout",
     "output_type": "stream",
     "text": [
      "<class 'pandas.core.frame.DataFrame'>\n",
      "Index: 3000353 entries, 0 to 2329761\n",
      "Data columns (total 10 columns):\n",
      " #   Column                      Dtype \n",
      "---  ------                      ----- \n",
      " 0   concessionaria              object\n",
      " 1   mes_ano                     object\n",
      " 2   sentido                     object\n",
      " 3   praca                       object\n",
      " 4   categoria                   object\n",
      " 5   tipo_de_veiculo             object\n",
      " 6   volume_total                object\n",
      " 7   multiplicador_de_tarifa     object\n",
      " 8   volume_veiculo_equivalente  object\n",
      " 9   tipo_de_cobranca            object\n",
      "dtypes: object(10)\n",
      "memory usage: 251.8+ MB\n"
     ]
    }
   ],
   "source": [
    "df_trafego.info()"
   ]
  },
  {
   "cell_type": "code",
   "execution_count": 8,
   "id": "ded8067c-2413-44c0-88ca-9ff8d15084b1",
   "metadata": {
    "execution": {
     "iopub.execute_input": "2024-08-16T21:40:16.005804Z",
     "iopub.status.busy": "2024-08-16T21:40:16.004777Z",
     "iopub.status.idle": "2024-08-16T21:40:17.016917Z",
     "shell.execute_reply": "2024-08-16T21:40:17.015646Z",
     "shell.execute_reply.started": "2024-08-16T21:40:16.005765Z"
    },
    "tags": []
   },
   "outputs": [
    {
     "name": "stdout",
     "output_type": "stream",
     "text": [
      "concessionaria: 0\n",
      "mes_ano: 0\n",
      "sentido: 0\n",
      "praca: 0\n",
      "categoria: 0\n",
      "tipo_de_veiculo: 0\n",
      "volume_total: 344\n",
      "multiplicador_de_tarifa: 0\n",
      "volume_veiculo_equivalente: 0\n",
      "tipo_de_cobranca: 74780\n"
     ]
    }
   ],
   "source": [
    "for col in df_trafego:\n",
    "    print(f\"{col}: {df_trafego[col].isna().sum()}\")"
   ]
  },
  {
   "cell_type": "code",
   "execution_count": 9,
   "id": "dddf1952-8eca-459f-890b-90ada7d1bc14",
   "metadata": {
    "execution": {
     "iopub.execute_input": "2024-08-16T21:40:17.018970Z",
     "iopub.status.busy": "2024-08-16T21:40:17.018438Z",
     "iopub.status.idle": "2024-08-16T21:40:17.140109Z",
     "shell.execute_reply": "2024-08-16T21:40:17.138928Z",
     "shell.execute_reply.started": "2024-08-16T21:40:17.018933Z"
    },
    "tags": []
   },
   "outputs": [
    {
     "data": {
      "text/html": [
       "<div>\n",
       "<style scoped>\n",
       "    .dataframe tbody tr th:only-of-type {\n",
       "        vertical-align: middle;\n",
       "    }\n",
       "\n",
       "    .dataframe tbody tr th {\n",
       "        vertical-align: top;\n",
       "    }\n",
       "\n",
       "    .dataframe thead th {\n",
       "        text-align: right;\n",
       "    }\n",
       "</style>\n",
       "<table border=\"1\" class=\"dataframe\">\n",
       "  <thead>\n",
       "    <tr style=\"text-align: right;\">\n",
       "      <th></th>\n",
       "      <th>concessionaria</th>\n",
       "      <th>mes_ano</th>\n",
       "      <th>sentido</th>\n",
       "      <th>praca</th>\n",
       "      <th>categoria</th>\n",
       "      <th>tipo_de_veiculo</th>\n",
       "      <th>volume_total</th>\n",
       "      <th>multiplicador_de_tarifa</th>\n",
       "      <th>volume_veiculo_equivalente</th>\n",
       "      <th>tipo_de_cobranca</th>\n",
       "    </tr>\n",
       "  </thead>\n",
       "  <tbody>\n",
       "    <tr>\n",
       "      <th>125542</th>\n",
       "      <td>ECOSUL</td>\n",
       "      <td>01/06/2023</td>\n",
       "      <td>Crescente</td>\n",
       "      <td>Praça 03 BR-116/RS km 541,20</td>\n",
       "      <td>Categoria 9</td>\n",
       "      <td>Moto</td>\n",
       "      <td>NaN</td>\n",
       "      <td>0,50</td>\n",
       "      <td>0,00</td>\n",
       "      <td>N/I</td>\n",
       "    </tr>\n",
       "    <tr>\n",
       "      <th>135524</th>\n",
       "      <td>RIOSP</td>\n",
       "      <td>01/06/2023</td>\n",
       "      <td>Crescente</td>\n",
       "      <td>Praça 08 BR-116/SP km 205,00</td>\n",
       "      <td>Categoria 8</td>\n",
       "      <td>Comercial</td>\n",
       "      <td>NaN</td>\n",
       "      <td>6,00</td>\n",
       "      <td>0,00</td>\n",
       "      <td>N/I</td>\n",
       "    </tr>\n",
       "    <tr>\n",
       "      <th>135759</th>\n",
       "      <td>RIOSP</td>\n",
       "      <td>01/07/2023</td>\n",
       "      <td>Crescente</td>\n",
       "      <td>Praça 08 BR-116/SP km 205,00</td>\n",
       "      <td>Categoria Esp. 07</td>\n",
       "      <td>Comercial</td>\n",
       "      <td>NaN</td>\n",
       "      <td>7,00</td>\n",
       "      <td>0,00</td>\n",
       "      <td>N/I</td>\n",
       "    </tr>\n",
       "    <tr>\n",
       "      <th>125742</th>\n",
       "      <td>ECOSUL</td>\n",
       "      <td>01/08/2023</td>\n",
       "      <td>Crescente</td>\n",
       "      <td>Praça 03 BR-116/RS km 541,20</td>\n",
       "      <td>Categoria 9</td>\n",
       "      <td>Moto</td>\n",
       "      <td>NaN</td>\n",
       "      <td>0,50</td>\n",
       "      <td>0,00</td>\n",
       "      <td>N/I</td>\n",
       "    </tr>\n",
       "    <tr>\n",
       "      <th>125372</th>\n",
       "      <td>ECOSUL</td>\n",
       "      <td>01/04/2023</td>\n",
       "      <td>Decrescente</td>\n",
       "      <td>Praça 04 BR-392/RS km 52,30</td>\n",
       "      <td>Categoria 9</td>\n",
       "      <td>Moto</td>\n",
       "      <td>NaN</td>\n",
       "      <td>0,50</td>\n",
       "      <td>0,00</td>\n",
       "      <td>N/I</td>\n",
       "    </tr>\n",
       "    <tr>\n",
       "      <th>135286</th>\n",
       "      <td>RIOSP</td>\n",
       "      <td>01/05/2023</td>\n",
       "      <td>Crescente</td>\n",
       "      <td>Praça 08 BR-116/SP km 205,00</td>\n",
       "      <td>Categoria 2</td>\n",
       "      <td>Comercial</td>\n",
       "      <td>NaN</td>\n",
       "      <td>2,00</td>\n",
       "      <td>0,00</td>\n",
       "      <td>N/I</td>\n",
       "    </tr>\n",
       "    <tr>\n",
       "      <th>125142</th>\n",
       "      <td>ECOSUL</td>\n",
       "      <td>01/02/2023</td>\n",
       "      <td>Crescente</td>\n",
       "      <td>Praça 03 BR-116/RS km 541,20</td>\n",
       "      <td>Categoria 9</td>\n",
       "      <td>Moto</td>\n",
       "      <td>NaN</td>\n",
       "      <td>0,50</td>\n",
       "      <td>0,00</td>\n",
       "      <td>N/I</td>\n",
       "    </tr>\n",
       "    <tr>\n",
       "      <th>136690</th>\n",
       "      <td>RIOSP</td>\n",
       "      <td>01/11/2023</td>\n",
       "      <td>Crescente</td>\n",
       "      <td>Praça 08 BR-116/SP km 205,00</td>\n",
       "      <td>Categoria 2</td>\n",
       "      <td>Comercial</td>\n",
       "      <td>NaN</td>\n",
       "      <td>2,00</td>\n",
       "      <td>0,00</td>\n",
       "      <td>N/I</td>\n",
       "    </tr>\n",
       "    <tr>\n",
       "      <th>121196</th>\n",
       "      <td>ECO050</td>\n",
       "      <td>01/12/2023</td>\n",
       "      <td>Crescente</td>\n",
       "      <td>Praça 05 BR-050/MG km 104,90</td>\n",
       "      <td>Veículo Comercial Acima 10 eixos</td>\n",
       "      <td>Comercial</td>\n",
       "      <td>NaN</td>\n",
       "      <td>10,00</td>\n",
       "      <td>0,00</td>\n",
       "      <td>N/I</td>\n",
       "    </tr>\n",
       "  </tbody>\n",
       "</table>\n",
       "</div>"
      ],
      "text/plain": [
       "       concessionaria     mes_ano      sentido                         praca  \\\n",
       "125542         ECOSUL  01/06/2023    Crescente  Praça 03 BR-116/RS km 541,20   \n",
       "135524          RIOSP  01/06/2023    Crescente  Praça 08 BR-116/SP km 205,00   \n",
       "135759          RIOSP  01/07/2023    Crescente  Praça 08 BR-116/SP km 205,00   \n",
       "125742         ECOSUL  01/08/2023    Crescente  Praça 03 BR-116/RS km 541,20   \n",
       "125372         ECOSUL  01/04/2023  Decrescente   Praça 04 BR-392/RS km 52,30   \n",
       "135286          RIOSP  01/05/2023    Crescente  Praça 08 BR-116/SP km 205,00   \n",
       "125142         ECOSUL  01/02/2023    Crescente  Praça 03 BR-116/RS km 541,20   \n",
       "136690          RIOSP  01/11/2023    Crescente  Praça 08 BR-116/SP km 205,00   \n",
       "121196         ECO050  01/12/2023    Crescente  Praça 05 BR-050/MG km 104,90   \n",
       "\n",
       "                               categoria tipo_de_veiculo volume_total  \\\n",
       "125542                       Categoria 9            Moto          NaN   \n",
       "135524                       Categoria 8       Comercial          NaN   \n",
       "135759                 Categoria Esp. 07       Comercial          NaN   \n",
       "125742                       Categoria 9            Moto          NaN   \n",
       "125372                       Categoria 9            Moto          NaN   \n",
       "135286                       Categoria 2       Comercial          NaN   \n",
       "125142                       Categoria 9            Moto          NaN   \n",
       "136690                       Categoria 2       Comercial          NaN   \n",
       "121196  Veículo Comercial Acima 10 eixos       Comercial          NaN   \n",
       "\n",
       "       multiplicador_de_tarifa volume_veiculo_equivalente tipo_de_cobranca  \n",
       "125542                    0,50                       0,00              N/I  \n",
       "135524                    6,00                       0,00              N/I  \n",
       "135759                    7,00                       0,00              N/I  \n",
       "125742                    0,50                       0,00              N/I  \n",
       "125372                    0,50                       0,00              N/I  \n",
       "135286                    2,00                       0,00              N/I  \n",
       "125142                    0,50                       0,00              N/I  \n",
       "136690                    2,00                       0,00              N/I  \n",
       "121196                   10,00                       0,00              N/I  "
      ]
     },
     "execution_count": 9,
     "metadata": {},
     "output_type": "execute_result"
    }
   ],
   "source": [
    "df_trafego[df_trafego['volume_total'].isna()].sample(9)"
   ]
  },
  {
   "cell_type": "code",
   "execution_count": 10,
   "id": "c0eb184b-ce91-429c-bc8b-4abac18cf9d2",
   "metadata": {
    "execution": {
     "iopub.execute_input": "2024-08-16T21:40:17.142093Z",
     "iopub.status.busy": "2024-08-16T21:40:17.141575Z",
     "iopub.status.idle": "2024-08-16T21:40:17.249607Z",
     "shell.execute_reply": "2024-08-16T21:40:17.248525Z",
     "shell.execute_reply.started": "2024-08-16T21:40:17.142056Z"
    },
    "tags": []
   },
   "outputs": [
    {
     "data": {
      "text/plain": [
       "array(['0,00'], dtype=object)"
      ]
     },
     "execution_count": 10,
     "metadata": {},
     "output_type": "execute_result"
    }
   ],
   "source": [
    "df_trafego[df_trafego['volume_total'].isna()]['volume_veiculo_equivalente'].unique()"
   ]
  },
  {
   "cell_type": "code",
   "execution_count": 11,
   "id": "b455acf7-a4bf-4af3-b96d-e8fa9b687001",
   "metadata": {
    "execution": {
     "iopub.execute_input": "2024-08-16T21:40:17.251219Z",
     "iopub.status.busy": "2024-08-16T21:40:17.250882Z",
     "iopub.status.idle": "2024-08-16T21:40:18.386554Z",
     "shell.execute_reply": "2024-08-16T21:40:18.385506Z",
     "shell.execute_reply.started": "2024-08-16T21:40:17.251178Z"
    },
    "tags": []
   },
   "outputs": [
    {
     "data": {
      "text/plain": [
       "array(['01', '14', '28', '31', '30', '02', '03', '04', '05', '06', '07',\n",
       "       '08', '09', '10', '11', '12', '13', '15', '16', '17', '18', '19',\n",
       "       '20', '21', '22', '23', '24', '25', '26', '27', '29'], dtype=object)"
      ]
     },
     "execution_count": 11,
     "metadata": {},
     "output_type": "execute_result"
    }
   ],
   "source": [
    "df_trafego['mes_ano'].str[:2].unique()"
   ]
  },
  {
   "cell_type": "code",
   "execution_count": 12,
   "id": "8bd3362a-3ca0-4b08-bec7-8bf7db6a5060",
   "metadata": {
    "execution": {
     "iopub.execute_input": "2024-08-16T21:40:18.387995Z",
     "iopub.status.busy": "2024-08-16T21:40:18.387664Z",
     "iopub.status.idle": "2024-08-16T21:40:19.563257Z",
     "shell.execute_reply": "2024-08-16T21:40:19.561869Z",
     "shell.execute_reply.started": "2024-08-16T21:40:18.387959Z"
    },
    "tags": []
   },
   "outputs": [
    {
     "data": {
      "text/plain": [
       "array(['01', '02', '03', '04', '05', '06', '07', '08', '09', '10', '11',\n",
       "       '12'], dtype=object)"
      ]
     },
     "execution_count": 12,
     "metadata": {},
     "output_type": "execute_result"
    }
   ],
   "source": [
    "df_trafego['mes_ano'].str[3:5].unique()"
   ]
  },
  {
   "cell_type": "code",
   "execution_count": 13,
   "id": "8453ca06-ce7b-47b5-afe4-1dcf7ff131da",
   "metadata": {
    "execution": {
     "iopub.execute_input": "2024-08-16T21:40:19.564724Z",
     "iopub.status.busy": "2024-08-16T21:40:19.564351Z",
     "iopub.status.idle": "2024-08-16T21:40:19.677334Z",
     "shell.execute_reply": "2024-08-16T21:40:19.676036Z",
     "shell.execute_reply.started": "2024-08-16T21:40:19.564687Z"
    },
    "tags": []
   },
   "outputs": [
    {
     "data": {
      "text/plain": [
       "array([nan, 'N/I', 'Manual', 'Automática', 'Mista'], dtype=object)"
      ]
     },
     "execution_count": 13,
     "metadata": {},
     "output_type": "execute_result"
    }
   ],
   "source": [
    "df_trafego['tipo_de_cobranca'].unique()"
   ]
  },
  {
   "cell_type": "code",
   "execution_count": 14,
   "id": "60e95d5f-cf18-4ce0-bea5-a7f2037bd499",
   "metadata": {
    "execution": {
     "iopub.execute_input": "2024-08-16T21:40:19.680138Z",
     "iopub.status.busy": "2024-08-16T21:40:19.679060Z",
     "iopub.status.idle": "2024-08-16T21:40:19.783103Z",
     "shell.execute_reply": "2024-08-16T21:40:19.781753Z",
     "shell.execute_reply.started": "2024-08-16T21:40:19.680099Z"
    },
    "tags": []
   },
   "outputs": [
    {
     "data": {
      "text/plain": [
       "True"
      ]
     },
     "execution_count": 14,
     "metadata": {},
     "output_type": "execute_result"
    }
   ],
   "source": [
    "df_trafego['volume_total'].isna().any()"
   ]
  },
  {
   "cell_type": "code",
   "execution_count": 15,
   "id": "ffb13d6e-a38b-4448-ac2a-18bbc4fb5806",
   "metadata": {
    "execution": {
     "iopub.execute_input": "2024-08-16T21:40:19.785005Z",
     "iopub.status.busy": "2024-08-16T21:40:19.784633Z",
     "iopub.status.idle": "2024-08-16T21:40:19.891754Z",
     "shell.execute_reply": "2024-08-16T21:40:19.890622Z",
     "shell.execute_reply.started": "2024-08-16T21:40:19.784968Z"
    },
    "tags": []
   },
   "outputs": [
    {
     "data": {
      "text/plain": [
       "344"
      ]
     },
     "execution_count": 15,
     "metadata": {},
     "output_type": "execute_result"
    }
   ],
   "source": [
    "df_trafego['volume_total'].isna().sum()"
   ]
  },
  {
   "cell_type": "code",
   "execution_count": 16,
   "id": "f1c1d921-77c0-4909-ab78-8f4be88a7680",
   "metadata": {
    "execution": {
     "iopub.execute_input": "2024-08-16T21:40:19.893503Z",
     "iopub.status.busy": "2024-08-16T21:40:19.892901Z",
     "iopub.status.idle": "2024-08-16T21:40:20.007582Z",
     "shell.execute_reply": "2024-08-16T21:40:20.006071Z",
     "shell.execute_reply.started": "2024-08-16T21:40:19.893465Z"
    },
    "tags": []
   },
   "outputs": [
    {
     "data": {
      "text/plain": [
       "array(['1', '2', '1,5', '3', '4', '5', '6', '0,5', '7', '8', '9', '10',\n",
       "       1.0, 2.0, 1.5, 3.0, 4.0, 5.0, 6.0, 0.5, 7.0, 8.0, 9.0, 10.0,\n",
       "       '2,00', '3,00', '4,00', '5,00', '6,00', '0,50', '1,00', '1,50',\n",
       "       '7,00', '8,00', '9,00', '10,00', '0,00', '11,00', '13,00', '15,00',\n",
       "       '12,00', '14,00', '18,00', '20,00', '16,00', '17,00', '19,00'],\n",
       "      dtype=object)"
      ]
     },
     "execution_count": 16,
     "metadata": {},
     "output_type": "execute_result"
    }
   ],
   "source": [
    "df_trafego['multiplicador_de_tarifa'].unique()"
   ]
  },
  {
   "cell_type": "markdown",
   "id": "3dd3548c-f263-4ffc-9527-5344610ef315",
   "metadata": {},
   "source": [
    "# Tratamento dos dados"
   ]
  },
  {
   "cell_type": "code",
   "execution_count": 17,
   "id": "f051ad20-c663-4a8d-925b-549e436eb4c9",
   "metadata": {
    "execution": {
     "iopub.execute_input": "2024-08-16T21:40:20.009839Z",
     "iopub.status.busy": "2024-08-16T21:40:20.009293Z",
     "iopub.status.idle": "2024-08-16T21:40:23.848685Z",
     "shell.execute_reply": "2024-08-16T21:40:23.847394Z",
     "shell.execute_reply.started": "2024-08-16T21:40:20.009801Z"
    },
    "tags": []
   },
   "outputs": [],
   "source": [
    "# Colunas de ano, mes e dia\n",
    "df_trafego['year'] = df_trafego['mes_ano'].str[-4:].astype('int') \n",
    "df_trafego['month'] = df_trafego['mes_ano'].str[3:5].astype('int')\n",
    "df_trafego['day'] = df_trafego['mes_ano'].str[:2].astype('int') "
   ]
  },
  {
   "cell_type": "code",
   "execution_count": 18,
   "id": "67124ec5-e152-49d4-b303-9cbb11927cb3",
   "metadata": {
    "execution": {
     "iopub.execute_input": "2024-08-16T21:40:23.851853Z",
     "iopub.status.busy": "2024-08-16T21:40:23.850764Z",
     "iopub.status.idle": "2024-08-16T21:40:24.090887Z",
     "shell.execute_reply": "2024-08-16T21:40:24.089578Z",
     "shell.execute_reply.started": "2024-08-16T21:40:23.851813Z"
    },
    "tags": []
   },
   "outputs": [],
   "source": [
    "# Recriando a coluna de mes_ano, agora como datetime ao invés de string. Tem que ser em ingles pq a função do pandas exige\n",
    "df_trafego['mes_ano'] = pd.to_datetime(df_trafego[['year', 'month', 'day']])"
   ]
  },
  {
   "cell_type": "code",
   "execution_count": 21,
   "id": "5fae9658-dc43-433c-89c9-2395145471de",
   "metadata": {
    "execution": {
     "iopub.execute_input": "2024-08-16T21:40:24.111689Z",
     "iopub.status.busy": "2024-08-16T21:40:24.110962Z",
     "iopub.status.idle": "2024-08-16T21:40:24.357545Z",
     "shell.execute_reply": "2024-08-16T21:40:24.356421Z",
     "shell.execute_reply.started": "2024-08-16T21:40:24.111652Z"
    },
    "tags": []
   },
   "outputs": [],
   "source": [
    "# preenchendo os NaNs, qdo aplicável:\n",
    "df_trafego['volume_total'] = df_trafego['volume_total'].fillna(0) #o volume equivalente é zero sempre que volume_total é zero"
   ]
  },
  {
   "cell_type": "code",
   "execution_count": 22,
   "id": "6c57331f-cb3d-4adc-9d3c-ef37432f4801",
   "metadata": {
    "execution": {
     "iopub.execute_input": "2024-08-16T21:40:24.365224Z",
     "iopub.status.busy": "2024-08-16T21:40:24.364418Z",
     "iopub.status.idle": "2024-08-16T21:40:29.676102Z",
     "shell.execute_reply": "2024-08-16T21:40:29.674224Z",
     "shell.execute_reply.started": "2024-08-16T21:40:24.365184Z"
    },
    "tags": []
   },
   "outputs": [],
   "source": [
    "# Convertendo os tipos de dados para numéricos:\n",
    "df_trafego['volume_total'] = df_trafego['volume_total'].apply(lambda x: x.replace(',','.') if type(x) == str else x)\n",
    "df_trafego['volume_total'] = df_trafego['volume_total'].apply(lambda x: x.split('.')[0] if type(x) == str else x)\n",
    "df_trafego['volume_total'] = df_trafego['volume_total'].astype('int')\n",
    "\n",
    "df_trafego['volume_veiculo_equivalente'] = df_trafego['volume_veiculo_equivalente'].apply(lambda x: x.replace(',','.') if type(x) == str else x)\n",
    "df_trafego['volume_veiculo_equivalente'] = df_trafego['volume_veiculo_equivalente'].astype('float') # existe multiplicador de tarifa fracionário"
   ]
  },
  {
   "cell_type": "code",
   "execution_count": 23,
   "id": "20231a8a-8ab4-41b5-bd87-db645b34cfd5",
   "metadata": {
    "execution": {
     "iopub.execute_input": "2024-08-16T21:40:29.678748Z",
     "iopub.status.busy": "2024-08-16T21:40:29.677765Z",
     "iopub.status.idle": "2024-08-16T21:40:29.795880Z",
     "shell.execute_reply": "2024-08-16T21:40:29.794901Z",
     "shell.execute_reply.started": "2024-08-16T21:40:29.678708Z"
    },
    "tags": []
   },
   "outputs": [],
   "source": [
    "# convertendo categoria para string (do contrário não salva para parquet):\n",
    "df_trafego['categoria'] = df_trafego['categoria'].astype('string')"
   ]
  },
  {
   "cell_type": "code",
   "execution_count": 24,
   "id": "a570f4b8-a68e-47a9-8d5c-ec56f6e8086c",
   "metadata": {
    "execution": {
     "iopub.execute_input": "2024-08-16T21:40:29.798899Z",
     "iopub.status.busy": "2024-08-16T21:40:29.797731Z",
     "iopub.status.idle": "2024-08-16T21:40:32.753190Z",
     "shell.execute_reply": "2024-08-16T21:40:32.751839Z",
     "shell.execute_reply.started": "2024-08-16T21:40:29.798860Z"
    },
    "tags": []
   },
   "outputs": [],
   "source": [
    "# convertendo o multiplicador de tarifa de string para decimal (p/manter a precisao):\n",
    "df_trafego['multiplicador_de_tarifa'] = df_trafego['multiplicador_de_tarifa'].apply(lambda x: x.replace(',','.') if type(x) == str else x)\n",
    "df_trafego['multiplicador_de_tarifa'] = df_trafego['multiplicador_de_tarifa'].apply(Decimal)"
   ]
  },
  {
   "cell_type": "code",
   "execution_count": 25,
   "id": "697d05b6-6346-4a0e-a2c5-2cfd71ccd016",
   "metadata": {
    "execution": {
     "iopub.execute_input": "2024-08-16T21:40:32.755785Z",
     "iopub.status.busy": "2024-08-16T21:40:32.754960Z",
     "iopub.status.idle": "2024-08-16T21:40:33.617408Z",
     "shell.execute_reply": "2024-08-16T21:40:33.615780Z",
     "shell.execute_reply.started": "2024-08-16T21:40:32.755693Z"
    },
    "tags": []
   },
   "outputs": [],
   "source": [
    "# O tipo de tráfego ora está em maisúcula, ora em minúscula.\n",
    "# Colocando tudo p/maiúscula\n",
    "df_trafego['tipo_de_veiculo'] = df_trafego['tipo_de_veiculo'].str.upper()"
   ]
  },
  {
   "cell_type": "code",
   "execution_count": 26,
   "id": "b91a6a8d-2fa9-4c7e-8e1a-68097e4eeb46",
   "metadata": {
    "execution": {
     "iopub.execute_input": "2024-08-16T21:40:33.620401Z",
     "iopub.status.busy": "2024-08-16T21:40:33.619285Z",
     "iopub.status.idle": "2024-08-16T21:40:34.529047Z",
     "shell.execute_reply": "2024-08-16T21:40:34.528030Z",
     "shell.execute_reply.started": "2024-08-16T21:40:33.620328Z"
    },
    "tags": []
   },
   "outputs": [],
   "source": [
    "# algumas concessionárias estão ora em maiúsculas ora em minúsculas\n",
    "# colocando tudo para maiúscula\n",
    "df_trafego['concessionaria'] = df_trafego['concessionaria'].str.upper()"
   ]
  },
  {
   "cell_type": "code",
   "execution_count": 27,
   "id": "21713dd4-7ebd-4409-8deb-494dff59a52c",
   "metadata": {
    "execution": {
     "iopub.execute_input": "2024-08-16T21:40:34.531462Z",
     "iopub.status.busy": "2024-08-16T21:40:34.530961Z",
     "iopub.status.idle": "2024-08-16T21:40:34.544405Z",
     "shell.execute_reply": "2024-08-16T21:40:34.543572Z",
     "shell.execute_reply.started": "2024-08-16T21:40:34.531424Z"
    },
    "tags": []
   },
   "outputs": [
    {
     "name": "stdout",
     "output_type": "stream",
     "text": [
      "<class 'pandas.core.frame.DataFrame'>\n",
      "Index: 3000353 entries, 0 to 2329761\n",
      "Data columns (total 13 columns):\n",
      " #   Column                      Dtype         \n",
      "---  ------                      -----         \n",
      " 0   concessionaria              object        \n",
      " 1   mes_ano                     datetime64[ns]\n",
      " 2   sentido                     object        \n",
      " 3   praca                       object        \n",
      " 4   categoria                   string        \n",
      " 5   tipo_de_veiculo             object        \n",
      " 6   volume_total                int64         \n",
      " 7   multiplicador_de_tarifa     object        \n",
      " 8   volume_veiculo_equivalente  float64       \n",
      " 9   tipo_de_cobranca            object        \n",
      " 10  year                        int64         \n",
      " 11  month                       int64         \n",
      " 12  day                         int64         \n",
      "dtypes: datetime64[ns](1), float64(1), int64(4), object(6), string(1)\n",
      "memory usage: 320.5+ MB\n"
     ]
    }
   ],
   "source": [
    "df_trafego.info()"
   ]
  },
  {
   "cell_type": "code",
   "execution_count": 30,
   "id": "8bf6bfb2-3415-4306-be98-5ffe1dfabb72",
   "metadata": {
    "execution": {
     "iopub.execute_input": "2024-08-16T21:41:31.838595Z",
     "iopub.status.busy": "2024-08-16T21:41:31.837415Z",
     "iopub.status.idle": "2024-08-16T21:41:31.878282Z",
     "shell.execute_reply": "2024-08-16T21:41:31.876953Z",
     "shell.execute_reply.started": "2024-08-16T21:41:31.838554Z"
    },
    "tags": []
   },
   "outputs": [
    {
     "data": {
      "text/plain": [
       "array([2010, 2011, 2012, 2013, 2014, 2015, 2016, 2017, 2018, 2019, 2020,\n",
       "       2021, 2022, 2023, 2024])"
      ]
     },
     "execution_count": 30,
     "metadata": {},
     "output_type": "execute_result"
    }
   ],
   "source": [
    "df_trafego['year'].unique()"
   ]
  },
  {
   "cell_type": "code",
   "execution_count": 32,
   "id": "923b6979-a809-448d-8a28-b79546e40f59",
   "metadata": {
    "execution": {
     "iopub.execute_input": "2024-08-16T21:41:41.152555Z",
     "iopub.status.busy": "2024-08-16T21:41:41.151224Z",
     "iopub.status.idle": "2024-08-16T21:41:41.910433Z",
     "shell.execute_reply": "2024-08-16T21:41:41.908897Z",
     "shell.execute_reply.started": "2024-08-16T21:41:41.152487Z"
    },
    "tags": []
   },
   "outputs": [
    {
     "data": {
      "text/plain": [
       "array([1, 2, 3, 4, 5, 6])"
      ]
     },
     "execution_count": 32,
     "metadata": {},
     "output_type": "execute_result"
    }
   ],
   "source": [
    "df_trafego.query(\"year == 2024\")['month'].unique()"
   ]
  },
  {
   "cell_type": "markdown",
   "id": "a051f403-674a-48e9-b2b1-56ea297d48a3",
   "metadata": {},
   "source": [
    "# Criando coluna desambiguando categorias comercial x passeio"
   ]
  },
  {
   "cell_type": "code",
   "execution_count": 33,
   "id": "cf5a5255-4914-47f2-8033-6724d83ef71b",
   "metadata": {
    "execution": {
     "iopub.execute_input": "2024-08-16T21:41:44.841331Z",
     "iopub.status.busy": "2024-08-16T21:41:44.840758Z",
     "iopub.status.idle": "2024-08-16T21:41:45.078034Z",
     "shell.execute_reply": "2024-08-16T21:41:45.076363Z",
     "shell.execute_reply.started": "2024-08-16T21:41:44.841291Z"
    },
    "tags": []
   },
   "outputs": [
    {
     "data": {
      "text/plain": [
       "array(['PASSEIO', 'COMERCIAL', 'MOTO', 'VEÍCULO PEQUENO'], dtype=object)"
      ]
     },
     "execution_count": 33,
     "metadata": {},
     "output_type": "execute_result"
    }
   ],
   "source": [
    "df_trafego['tipo_de_veiculo'].unique()"
   ]
  },
  {
   "cell_type": "code",
   "execution_count": 34,
   "id": "f490e0ed-b6b8-4e97-b659-39d32cf578ae",
   "metadata": {
    "execution": {
     "iopub.execute_input": "2024-08-16T21:41:45.460824Z",
     "iopub.status.busy": "2024-08-16T21:41:45.460202Z",
     "iopub.status.idle": "2024-08-16T21:41:46.177928Z",
     "shell.execute_reply": "2024-08-16T21:41:46.176036Z",
     "shell.execute_reply.started": "2024-08-16T21:41:45.460783Z"
    },
    "tags": []
   },
   "outputs": [],
   "source": [
    "df_trafego[\"TIPO_TRAFEGO\"] = df_trafego['tipo_de_veiculo'].apply(lambda x: x if x == \"COMERCIAL\" else \"PASSEIO\")"
   ]
  },
  {
   "cell_type": "code",
   "execution_count": 35,
   "id": "e237a2f8-7d4b-468f-9bf3-56e4af37fcbd",
   "metadata": {
    "execution": {
     "iopub.execute_input": "2024-08-16T21:41:46.697785Z",
     "iopub.status.busy": "2024-08-16T21:41:46.697176Z",
     "iopub.status.idle": "2024-08-16T21:41:46.936086Z",
     "shell.execute_reply": "2024-08-16T21:41:46.934696Z",
     "shell.execute_reply.started": "2024-08-16T21:41:46.697745Z"
    },
    "tags": []
   },
   "outputs": [
    {
     "data": {
      "text/plain": [
       "array(['PASSEIO', 'COMERCIAL'], dtype=object)"
      ]
     },
     "execution_count": 35,
     "metadata": {},
     "output_type": "execute_result"
    }
   ],
   "source": [
    "df_trafego[\"TIPO_TRAFEGO\"].unique()"
   ]
  },
  {
   "cell_type": "markdown",
   "id": "679e22fb-6baf-465e-ab85-1780da58255d",
   "metadata": {},
   "source": [
    "# Criando colunas com trafégo em Veqs para comercial e passeio"
   ]
  },
  {
   "cell_type": "code",
   "execution_count": 36,
   "id": "b8ff717e-9467-4368-9bfe-da6d7eb99b07",
   "metadata": {
    "execution": {
     "iopub.execute_input": "2024-08-16T21:41:49.848464Z",
     "iopub.status.busy": "2024-08-16T21:41:49.847795Z",
     "iopub.status.idle": "2024-08-16T21:41:50.468867Z",
     "shell.execute_reply": "2024-08-16T21:41:50.467446Z",
     "shell.execute_reply.started": "2024-08-16T21:41:49.848423Z"
    },
    "tags": []
   },
   "outputs": [],
   "source": [
    "df_trafego['VEQS_COMERCIAL'] = np.where(\n",
    "    df_trafego['TIPO_TRAFEGO'] == 'COMERCIAL',\n",
    "    df_trafego['volume_veiculo_equivalente'],\n",
    "    0\n",
    ")\n",
    "df_trafego['VEQS_PASSEIO'] = np.where(\n",
    "    df_trafego['TIPO_TRAFEGO'] == 'PASSEIO',\n",
    "    df_trafego['volume_veiculo_equivalente'],\n",
    "    0\n",
    ")"
   ]
  },
  {
   "cell_type": "markdown",
   "id": "6eb69752-50ea-4ed4-b052-3e93dbde2359",
   "metadata": {},
   "source": [
    "# Criando dataframe com o período inicial e final dos dados"
   ]
  },
  {
   "cell_type": "code",
   "execution_count": 37,
   "id": "9c88ae9b-ba1f-4cb8-81f9-7e9af597b71e",
   "metadata": {
    "execution": {
     "iopub.execute_input": "2024-08-16T21:42:01.053348Z",
     "iopub.status.busy": "2024-08-16T21:42:01.052702Z",
     "iopub.status.idle": "2024-08-16T21:42:01.432972Z",
     "shell.execute_reply": "2024-08-16T21:42:01.431475Z",
     "shell.execute_reply.started": "2024-08-16T21:42:01.053304Z"
    },
    "tags": []
   },
   "outputs": [],
   "source": [
    "df_periodos = df_trafego.groupby('concessionaria').agg(\n",
    "    data_inicial=('mes_ano', 'min'),\n",
    "    data_final=('mes_ano', 'max')\n",
    ").reset_index()"
   ]
  },
  {
   "cell_type": "code",
   "execution_count": 38,
   "id": "ff4412de-e2db-46dd-86de-03e350024261",
   "metadata": {
    "collapsed": true,
    "execution": {
     "iopub.execute_input": "2024-08-16T21:42:01.662069Z",
     "iopub.status.busy": "2024-08-16T21:42:01.661179Z",
     "iopub.status.idle": "2024-08-16T21:42:01.677908Z",
     "shell.execute_reply": "2024-08-16T21:42:01.676872Z",
     "shell.execute_reply.started": "2024-08-16T21:42:01.662010Z"
    },
    "jupyter": {
     "outputs_hidden": true
    },
    "tags": []
   },
   "outputs": [
    {
     "data": {
      "text/html": [
       "<div>\n",
       "<style scoped>\n",
       "    .dataframe tbody tr th:only-of-type {\n",
       "        vertical-align: middle;\n",
       "    }\n",
       "\n",
       "    .dataframe tbody tr th {\n",
       "        vertical-align: top;\n",
       "    }\n",
       "\n",
       "    .dataframe thead th {\n",
       "        text-align: right;\n",
       "    }\n",
       "</style>\n",
       "<table border=\"1\" class=\"dataframe\">\n",
       "  <thead>\n",
       "    <tr style=\"text-align: right;\">\n",
       "      <th></th>\n",
       "      <th>concessionaria</th>\n",
       "      <th>data_inicial</th>\n",
       "      <th>data_final</th>\n",
       "    </tr>\n",
       "  </thead>\n",
       "  <tbody>\n",
       "    <tr>\n",
       "      <th>17</th>\n",
       "      <td>HOLDING DO SISTEMA RODOVIARIO RIO - SAO PAULO ...</td>\n",
       "      <td>2024-01-01</td>\n",
       "      <td>2024-06-03</td>\n",
       "    </tr>\n",
       "    <tr>\n",
       "      <th>25</th>\n",
       "      <td>VIA BRASIL</td>\n",
       "      <td>2023-02-01</td>\n",
       "      <td>2023-12-01</td>\n",
       "    </tr>\n",
       "    <tr>\n",
       "      <th>13</th>\n",
       "      <td>ECORIOMINAS</td>\n",
       "      <td>2022-10-01</td>\n",
       "      <td>2024-06-02</td>\n",
       "    </tr>\n",
       "    <tr>\n",
       "      <th>15</th>\n",
       "      <td>ECOVIAS DO ARAGUAIA</td>\n",
       "      <td>2022-10-01</td>\n",
       "      <td>2024-06-02</td>\n",
       "    </tr>\n",
       "    <tr>\n",
       "      <th>20</th>\n",
       "      <td>RIOSP</td>\n",
       "      <td>2022-03-01</td>\n",
       "      <td>2023-12-01</td>\n",
       "    </tr>\n",
       "    <tr>\n",
       "      <th>26</th>\n",
       "      <td>VIA COSTEIRA</td>\n",
       "      <td>2022-01-01</td>\n",
       "      <td>2024-04-01</td>\n",
       "    </tr>\n",
       "    <tr>\n",
       "      <th>16</th>\n",
       "      <td>ECOVIAS DO CERRADO</td>\n",
       "      <td>2020-11-14</td>\n",
       "      <td>2024-06-02</td>\n",
       "    </tr>\n",
       "    <tr>\n",
       "      <th>27</th>\n",
       "      <td>VIA SUL</td>\n",
       "      <td>2019-01-01</td>\n",
       "      <td>2024-05-03</td>\n",
       "    </tr>\n",
       "    <tr>\n",
       "      <th>18</th>\n",
       "      <td>MSVIA</td>\n",
       "      <td>2015-09-01</td>\n",
       "      <td>2024-05-03</td>\n",
       "    </tr>\n",
       "    <tr>\n",
       "      <th>8</th>\n",
       "      <td>CRO</td>\n",
       "      <td>2015-09-01</td>\n",
       "      <td>2024-06-03</td>\n",
       "    </tr>\n",
       "    <tr>\n",
       "      <th>23</th>\n",
       "      <td>VIA 040</td>\n",
       "      <td>2015-07-01</td>\n",
       "      <td>2024-05-04</td>\n",
       "    </tr>\n",
       "    <tr>\n",
       "      <th>12</th>\n",
       "      <td>ECOPONTE</td>\n",
       "      <td>2015-06-01</td>\n",
       "      <td>2024-06-02</td>\n",
       "    </tr>\n",
       "    <tr>\n",
       "      <th>5</th>\n",
       "      <td>CONCEBRA</td>\n",
       "      <td>2015-06-01</td>\n",
       "      <td>2024-06-01</td>\n",
       "    </tr>\n",
       "    <tr>\n",
       "      <th>10</th>\n",
       "      <td>ECO050</td>\n",
       "      <td>2015-04-01</td>\n",
       "      <td>2024-06-02</td>\n",
       "    </tr>\n",
       "    <tr>\n",
       "      <th>11</th>\n",
       "      <td>ECO101 CONCESSIONARIA DE RODOVIAS S/A</td>\n",
       "      <td>2014-05-01</td>\n",
       "      <td>2024-06-02</td>\n",
       "    </tr>\n",
       "    <tr>\n",
       "      <th>24</th>\n",
       "      <td>VIA BAHIA</td>\n",
       "      <td>2013-01-01</td>\n",
       "      <td>2024-06-03</td>\n",
       "    </tr>\n",
       "    <tr>\n",
       "      <th>19</th>\n",
       "      <td>NOVADUTRA</td>\n",
       "      <td>2010-01-01</td>\n",
       "      <td>2022-02-01</td>\n",
       "    </tr>\n",
       "    <tr>\n",
       "      <th>22</th>\n",
       "      <td>TRANSBRASILIANA</td>\n",
       "      <td>2010-01-01</td>\n",
       "      <td>2024-04-30</td>\n",
       "    </tr>\n",
       "    <tr>\n",
       "      <th>21</th>\n",
       "      <td>RODOVIA DO AÇO</td>\n",
       "      <td>2010-01-01</td>\n",
       "      <td>2024-05-03</td>\n",
       "    </tr>\n",
       "    <tr>\n",
       "      <th>0</th>\n",
       "      <td>AUTOPISTA FERNÃO DIAS</td>\n",
       "      <td>2010-01-01</td>\n",
       "      <td>2024-01-31</td>\n",
       "    </tr>\n",
       "    <tr>\n",
       "      <th>1</th>\n",
       "      <td>AUTOPISTA FLUMINENSE</td>\n",
       "      <td>2010-01-01</td>\n",
       "      <td>2024-04-16</td>\n",
       "    </tr>\n",
       "    <tr>\n",
       "      <th>9</th>\n",
       "      <td>CRT</td>\n",
       "      <td>2010-01-01</td>\n",
       "      <td>2022-09-01</td>\n",
       "    </tr>\n",
       "    <tr>\n",
       "      <th>7</th>\n",
       "      <td>CONCER</td>\n",
       "      <td>2010-01-01</td>\n",
       "      <td>2024-06-01</td>\n",
       "    </tr>\n",
       "    <tr>\n",
       "      <th>6</th>\n",
       "      <td>CONCEPA</td>\n",
       "      <td>2010-01-01</td>\n",
       "      <td>2018-07-01</td>\n",
       "    </tr>\n",
       "    <tr>\n",
       "      <th>4</th>\n",
       "      <td>AUTOPISTA REGIS BITTENCOURT</td>\n",
       "      <td>2010-01-01</td>\n",
       "      <td>2024-02-01</td>\n",
       "    </tr>\n",
       "    <tr>\n",
       "      <th>3</th>\n",
       "      <td>AUTOPISTA PLANALTO SUL</td>\n",
       "      <td>2010-01-01</td>\n",
       "      <td>2024-04-30</td>\n",
       "    </tr>\n",
       "    <tr>\n",
       "      <th>2</th>\n",
       "      <td>AUTOPISTA LITORAL SUL</td>\n",
       "      <td>2010-01-01</td>\n",
       "      <td>2024-04-30</td>\n",
       "    </tr>\n",
       "    <tr>\n",
       "      <th>14</th>\n",
       "      <td>ECOSUL</td>\n",
       "      <td>2010-01-01</td>\n",
       "      <td>2024-06-02</td>\n",
       "    </tr>\n",
       "  </tbody>\n",
       "</table>\n",
       "</div>"
      ],
      "text/plain": [
       "                                       concessionaria data_inicial data_final\n",
       "17  HOLDING DO SISTEMA RODOVIARIO RIO - SAO PAULO ...   2024-01-01 2024-06-03\n",
       "25                                         VIA BRASIL   2023-02-01 2023-12-01\n",
       "13                                        ECORIOMINAS   2022-10-01 2024-06-02\n",
       "15                                ECOVIAS DO ARAGUAIA   2022-10-01 2024-06-02\n",
       "20                                              RIOSP   2022-03-01 2023-12-01\n",
       "26                                       VIA COSTEIRA   2022-01-01 2024-04-01\n",
       "16                                 ECOVIAS DO CERRADO   2020-11-14 2024-06-02\n",
       "27                                            VIA SUL   2019-01-01 2024-05-03\n",
       "18                                              MSVIA   2015-09-01 2024-05-03\n",
       "8                                                 CRO   2015-09-01 2024-06-03\n",
       "23                                            VIA 040   2015-07-01 2024-05-04\n",
       "12                                           ECOPONTE   2015-06-01 2024-06-02\n",
       "5                                            CONCEBRA   2015-06-01 2024-06-01\n",
       "10                                             ECO050   2015-04-01 2024-06-02\n",
       "11              ECO101 CONCESSIONARIA DE RODOVIAS S/A   2014-05-01 2024-06-02\n",
       "24                                          VIA BAHIA   2013-01-01 2024-06-03\n",
       "19                                          NOVADUTRA   2010-01-01 2022-02-01\n",
       "22                                    TRANSBRASILIANA   2010-01-01 2024-04-30\n",
       "21                                     RODOVIA DO AÇO   2010-01-01 2024-05-03\n",
       "0                               AUTOPISTA FERNÃO DIAS   2010-01-01 2024-01-31\n",
       "1                                AUTOPISTA FLUMINENSE   2010-01-01 2024-04-16\n",
       "9                                                 CRT   2010-01-01 2022-09-01\n",
       "7                                              CONCER   2010-01-01 2024-06-01\n",
       "6                                             CONCEPA   2010-01-01 2018-07-01\n",
       "4                         AUTOPISTA REGIS BITTENCOURT   2010-01-01 2024-02-01\n",
       "3                              AUTOPISTA PLANALTO SUL   2010-01-01 2024-04-30\n",
       "2                               AUTOPISTA LITORAL SUL   2010-01-01 2024-04-30\n",
       "14                                             ECOSUL   2010-01-01 2024-06-02"
      ]
     },
     "execution_count": 38,
     "metadata": {},
     "output_type": "execute_result"
    }
   ],
   "source": [
    "df_periodos.sort_values(by='data_inicial', ascending=False)"
   ]
  },
  {
   "cell_type": "markdown",
   "id": "d4a56a76-9175-4683-96dd-3ec24f7c5e17",
   "metadata": {},
   "source": [
    "# Agrupando por ano/concessionaria/tipo de trafego"
   ]
  },
  {
   "cell_type": "code",
   "execution_count": 39,
   "id": "daa64db4-4baf-4def-96eb-754a59be67d8",
   "metadata": {
    "execution": {
     "iopub.execute_input": "2024-08-16T21:42:08.227820Z",
     "iopub.status.busy": "2024-08-16T21:42:08.227162Z",
     "iopub.status.idle": "2024-08-16T21:42:08.235674Z",
     "shell.execute_reply": "2024-08-16T21:42:08.234442Z",
     "shell.execute_reply.started": "2024-08-16T21:42:08.227781Z"
    },
    "tags": []
   },
   "outputs": [
    {
     "data": {
      "text/plain": [
       "Index(['concessionaria', 'mes_ano', 'sentido', 'praca', 'categoria',\n",
       "       'tipo_de_veiculo', 'volume_total', 'multiplicador_de_tarifa',\n",
       "       'volume_veiculo_equivalente', 'tipo_de_cobranca', 'year', 'month',\n",
       "       'day', 'TIPO_TRAFEGO', 'VEQS_COMERCIAL', 'VEQS_PASSEIO'],\n",
       "      dtype='object')"
      ]
     },
     "execution_count": 39,
     "metadata": {},
     "output_type": "execute_result"
    }
   ],
   "source": [
    "df_trafego.columns"
   ]
  },
  {
   "cell_type": "code",
   "execution_count": 40,
   "id": "d50674a2-5e78-4c74-b726-dcb92013bdb0",
   "metadata": {
    "execution": {
     "iopub.execute_input": "2024-08-16T21:42:09.019177Z",
     "iopub.status.busy": "2024-08-16T21:42:09.018441Z",
     "iopub.status.idle": "2024-08-16T21:42:09.024871Z",
     "shell.execute_reply": "2024-08-16T21:42:09.023609Z",
     "shell.execute_reply.started": "2024-08-16T21:42:09.019138Z"
    },
    "tags": []
   },
   "outputs": [],
   "source": [
    "cols_veqs = ['volume_veiculo_equivalente','VEQS_COMERCIAL','VEQS_PASSEIO']"
   ]
  },
  {
   "cell_type": "code",
   "execution_count": 42,
   "id": "5bc113c9-f87f-4b65-a7c4-5006d68589a2",
   "metadata": {
    "execution": {
     "iopub.execute_input": "2024-08-16T21:42:18.023204Z",
     "iopub.status.busy": "2024-08-16T21:42:18.021956Z",
     "iopub.status.idle": "2024-08-16T21:42:20.032422Z",
     "shell.execute_reply": "2024-08-16T21:42:20.031257Z",
     "shell.execute_reply.started": "2024-08-16T21:42:18.023150Z"
    },
    "tags": []
   },
   "outputs": [],
   "source": [
    "dict_veqs = {}\n",
    "for col in cols_veqs:\n",
    "    dict_veqs[col] = df_trafego.pivot_table(\n",
    "        index='concessionaria',\n",
    "        columns='year',\n",
    "        values=col,\n",
    "        aggfunc='sum'\n",
    "        ) "
   ]
  },
  {
   "cell_type": "markdown",
   "id": "6c90ab55-71f1-4129-ac09-2617c0722e83",
   "metadata": {},
   "source": [
    "# Salvando p/parquet"
   ]
  },
  {
   "cell_type": "code",
   "execution_count": 43,
   "id": "3138fcdf-0e76-4d87-95ad-bd044cefbf8f",
   "metadata": {
    "execution": {
     "iopub.execute_input": "2024-08-16T21:42:28.475934Z",
     "iopub.status.busy": "2024-08-16T21:42:28.475064Z",
     "iopub.status.idle": "2024-08-16T21:42:39.471811Z",
     "shell.execute_reply": "2024-08-16T21:42:39.470603Z",
     "shell.execute_reply.started": "2024-08-16T21:42:28.475893Z"
    },
    "tags": []
   },
   "outputs": [],
   "source": [
    "# dataframe total\n",
    "df_trafego.to_parquet(os.path.join(path_dados_derivados,'df_trafego.parquet'))"
   ]
  },
  {
   "cell_type": "code",
   "execution_count": 44,
   "id": "dc5e978b-2ed4-4311-92ef-6a9836424ec6",
   "metadata": {
    "execution": {
     "iopub.execute_input": "2024-08-16T21:42:39.474624Z",
     "iopub.status.busy": "2024-08-16T21:42:39.473700Z",
     "iopub.status.idle": "2024-08-16T21:42:39.481864Z",
     "shell.execute_reply": "2024-08-16T21:42:39.480894Z",
     "shell.execute_reply.started": "2024-08-16T21:42:39.474584Z"
    },
    "tags": []
   },
   "outputs": [],
   "source": [
    "# data inicial e final\n",
    "df_periodos.to_parquet(os.path.join(path_dados_derivados,'df_periodos.parquet'))"
   ]
  },
  {
   "cell_type": "code",
   "execution_count": 45,
   "id": "0e9477b0-07ce-4881-9df5-dd67bde06382",
   "metadata": {
    "execution": {
     "iopub.execute_input": "2024-08-16T21:42:39.484183Z",
     "iopub.status.busy": "2024-08-16T21:42:39.483080Z",
     "iopub.status.idle": "2024-08-16T21:42:39.489654Z",
     "shell.execute_reply": "2024-08-16T21:42:39.488396Z",
     "shell.execute_reply.started": "2024-08-16T21:42:39.484146Z"
    },
    "tags": []
   },
   "outputs": [
    {
     "name": "stdout",
     "output_type": "stream",
     "text": [
      "volume_veiculo_equivalente\n",
      "VEQS_COMERCIAL\n",
      "VEQS_PASSEIO\n"
     ]
    }
   ],
   "source": [
    "for col in cols_veqs:\n",
    "    print(col)"
   ]
  },
  {
   "cell_type": "code",
   "execution_count": 46,
   "id": "eaf1133f-540b-4ad7-9d5d-a008f1d4ca36",
   "metadata": {
    "execution": {
     "iopub.execute_input": "2024-08-16T21:42:39.493030Z",
     "iopub.status.busy": "2024-08-16T21:42:39.492104Z",
     "iopub.status.idle": "2024-08-16T21:42:39.513409Z",
     "shell.execute_reply": "2024-08-16T21:42:39.512439Z",
     "shell.execute_reply.started": "2024-08-16T21:42:39.492993Z"
    },
    "tags": []
   },
   "outputs": [],
   "source": [
    "# dicionário com os dados de tráfego:\n",
    "for veq in dict_veqs:\n",
    "    dict_veqs[veq].to_parquet(os.path.join(path_dados_derivados, f'df_{veq}.parquet'))"
   ]
  },
  {
   "cell_type": "markdown",
   "id": "3dd5690a-1f36-4de9-ace5-6f90ed976fd2",
   "metadata": {},
   "source": [
    "# Salvando p/Excel"
   ]
  },
  {
   "cell_type": "code",
   "execution_count": 47,
   "id": "5aa80b27-1e5f-46bc-a90d-cf4964847bf0",
   "metadata": {
    "execution": {
     "iopub.execute_input": "2024-08-16T21:42:39.515719Z",
     "iopub.status.busy": "2024-08-16T21:42:39.515313Z",
     "iopub.status.idle": "2024-08-16T21:42:40.017111Z",
     "shell.execute_reply": "2024-08-16T21:42:40.015762Z",
     "shell.execute_reply.started": "2024-08-16T21:42:39.515682Z"
    },
    "tags": []
   },
   "outputs": [],
   "source": [
    "with pd.ExcelWriter(os.path.join(path_dados_derivados, 'dados_trafego_ANTT.xlsx')) as writer:\n",
    "    df_periodos.to_excel(writer, sheet_name=\"periodo_concessionarias\")\n",
    "    for veq in dict_veqs:\n",
    "        dict_veqs[veq].to_excel(writer, sheet_name=f\"{veq}\")"
   ]
  },
  {
   "cell_type": "code",
   "execution_count": null,
   "id": "20a18c87-2f93-4f7b-9005-a7b2d0c60af1",
   "metadata": {},
   "outputs": [],
   "source": []
  },
  {
   "cell_type": "code",
   "execution_count": null,
   "id": "48c968b4-7a54-4a05-b55b-8e4ef9dfbbc8",
   "metadata": {},
   "outputs": [],
   "source": []
  }
 ],
 "metadata": {
  "kernelspec": {
   "display_name": "infra-data",
   "language": "python",
   "name": "infra-data"
  },
  "language_info": {
   "codemirror_mode": {
    "name": "ipython",
    "version": 3
   },
   "file_extension": ".py",
   "mimetype": "text/x-python",
   "name": "python",
   "nbconvert_exporter": "python",
   "pygments_lexer": "ipython3",
   "version": "3.9.16"
  }
 },
 "nbformat": 4,
 "nbformat_minor": 5
}
