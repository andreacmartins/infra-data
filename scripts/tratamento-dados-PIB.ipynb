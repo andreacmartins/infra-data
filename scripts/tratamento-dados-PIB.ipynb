{
 "cells": [
  {
   "cell_type": "code",
   "execution_count": 2,
   "id": "461e704f-49c5-4e6d-86bb-9c5662d4007b",
   "metadata": {
    "execution": {
     "iopub.execute_input": "2024-08-22T19:22:47.447150Z",
     "iopub.status.busy": "2024-08-22T19:22:47.446383Z",
     "iopub.status.idle": "2024-08-22T19:22:47.453031Z",
     "shell.execute_reply": "2024-08-22T19:22:47.451963Z",
     "shell.execute_reply.started": "2024-08-22T19:22:47.447110Z"
    },
    "tags": []
   },
   "outputs": [],
   "source": [
    "import pandas as pd\n",
    "import numpy as np\n",
    "import os\n",
    "from decimal import Decimal\n",
    "import pickle\n",
    "from pathlib import Path"
   ]
  },
  {
   "cell_type": "markdown",
   "id": "469a553f-e52a-4c33-acc9-f5820b401e62",
   "metadata": {
    "execution": {
     "iopub.execute_input": "2024-08-20T19:55:44.418829Z",
     "iopub.status.busy": "2024-08-20T19:55:44.417516Z",
     "iopub.status.idle": "2024-08-20T19:55:44.424840Z",
     "shell.execute_reply": "2024-08-20T19:55:44.422826Z",
     "shell.execute_reply.started": "2024-08-20T19:55:44.418787Z"
    }
   },
   "source": [
    "# SETUP"
   ]
  },
  {
   "cell_type": "code",
   "execution_count": 3,
   "id": "e68264d5-95e9-4f59-9458-ded1cb449c30",
   "metadata": {
    "execution": {
     "iopub.execute_input": "2024-08-22T19:22:48.724406Z",
     "iopub.status.busy": "2024-08-22T19:22:48.723219Z",
     "iopub.status.idle": "2024-08-22T19:22:48.731117Z",
     "shell.execute_reply": "2024-08-22T19:22:48.729838Z",
     "shell.execute_reply.started": "2024-08-22T19:22:48.724353Z"
    },
    "tags": []
   },
   "outputs": [],
   "source": [
    "dir_tree_util_path = os.path.join(\"utils\", \"dir_tree.py\")\n",
    "exec(open(dir_tree_util_path).read())"
   ]
  },
  {
   "cell_type": "markdown",
   "id": "092e1dba-365e-4668-ae2d-5397dbb5edb2",
   "metadata": {},
   "source": [
    "# INPUTS"
   ]
  },
  {
   "cell_type": "code",
   "execution_count": 28,
   "id": "daedc56c-e029-4528-a9a0-a27293586d34",
   "metadata": {
    "execution": {
     "iopub.execute_input": "2024-08-22T19:30:53.102063Z",
     "iopub.status.busy": "2024-08-22T19:30:53.101479Z",
     "iopub.status.idle": "2024-08-22T19:30:53.107165Z",
     "shell.execute_reply": "2024-08-22T19:30:53.106189Z",
     "shell.execute_reply.started": "2024-08-22T19:30:53.102023Z"
    },
    "tags": []
   },
   "outputs": [],
   "source": [
    "# Paths\n",
    "path_dados_PIB = PROJECT_DIRS['DADOS_PIB_BACEN']\n",
    "# path_output = TODO\n",
    "path_output = PROJECT_DIRS['DADOS_DERIVADOS_DIR']"
   ]
  },
  {
   "cell_type": "markdown",
   "id": "80cab38a-b879-41ec-8472-8253bdd0a791",
   "metadata": {},
   "source": [
    "# CARREGANDO p/MEMORIA OS DADOS"
   ]
  },
  {
   "cell_type": "code",
   "execution_count": 17,
   "id": "8f86c2f0-933c-4c58-9633-e2ecc575652d",
   "metadata": {
    "execution": {
     "iopub.execute_input": "2024-08-22T19:27:58.079044Z",
     "iopub.status.busy": "2024-08-22T19:27:58.078481Z",
     "iopub.status.idle": "2024-08-22T19:27:58.087717Z",
     "shell.execute_reply": "2024-08-22T19:27:58.086734Z",
     "shell.execute_reply.started": "2024-08-22T19:27:58.079005Z"
    },
    "tags": []
   },
   "outputs": [],
   "source": [
    "pib = pd.read_csv(path_dados_PIB / 'STP-20240822151202826.csv', sep=\";\", encoding='windows-1251', \n",
    "                  skipfooter=1, engine='python')"
   ]
  },
  {
   "cell_type": "markdown",
   "id": "433bd176-2227-4c7b-a11b-40161814969e",
   "metadata": {},
   "source": [
    "# TRATANDO OS DADOS"
   ]
  },
  {
   "cell_type": "code",
   "execution_count": 18,
   "id": "df1a32ca-06a9-40c5-8d2a-9cafe1d12566",
   "metadata": {
    "execution": {
     "iopub.execute_input": "2024-08-22T19:28:00.570536Z",
     "iopub.status.busy": "2024-08-22T19:28:00.569954Z",
     "iopub.status.idle": "2024-08-22T19:28:00.581550Z",
     "shell.execute_reply": "2024-08-22T19:28:00.580639Z",
     "shell.execute_reply.started": "2024-08-22T19:28:00.570497Z"
    },
    "tags": []
   },
   "outputs": [
    {
     "data": {
      "text/html": [
       "<div>\n",
       "<style scoped>\n",
       "    .dataframe tbody tr th:only-of-type {\n",
       "        vertical-align: middle;\n",
       "    }\n",
       "\n",
       "    .dataframe tbody tr th {\n",
       "        vertical-align: top;\n",
       "    }\n",
       "\n",
       "    .dataframe thead th {\n",
       "        text-align: right;\n",
       "    }\n",
       "</style>\n",
       "<table border=\"1\" class=\"dataframe\">\n",
       "  <thead>\n",
       "    <tr style=\"text-align: right;\">\n",
       "      <th></th>\n",
       "      <th>Data</th>\n",
       "      <th>7326 - Produto Interno Bruto - Taxa de variaзгo real no ano - Var. % anual</th>\n",
       "    </tr>\n",
       "  </thead>\n",
       "  <tbody>\n",
       "    <tr>\n",
       "      <th>0</th>\n",
       "      <td>1962</td>\n",
       "      <td>6,60</td>\n",
       "    </tr>\n",
       "    <tr>\n",
       "      <th>1</th>\n",
       "      <td>1963</td>\n",
       "      <td>0,60</td>\n",
       "    </tr>\n",
       "    <tr>\n",
       "      <th>2</th>\n",
       "      <td>1964</td>\n",
       "      <td>3,40</td>\n",
       "    </tr>\n",
       "    <tr>\n",
       "      <th>3</th>\n",
       "      <td>1965</td>\n",
       "      <td>2,40</td>\n",
       "    </tr>\n",
       "    <tr>\n",
       "      <th>4</th>\n",
       "      <td>1966</td>\n",
       "      <td>6,70</td>\n",
       "    </tr>\n",
       "  </tbody>\n",
       "</table>\n",
       "</div>"
      ],
      "text/plain": [
       "   Data  \\\n",
       "0  1962   \n",
       "1  1963   \n",
       "2  1964   \n",
       "3  1965   \n",
       "4  1966   \n",
       "\n",
       "  7326 - Produto Interno Bruto - Taxa de variaзгo real no ano - Var. % anual  \n",
       "0                                               6,60                          \n",
       "1                                               0,60                          \n",
       "2                                               3,40                          \n",
       "3                                               2,40                          \n",
       "4                                               6,70                          "
      ]
     },
     "execution_count": 18,
     "metadata": {},
     "output_type": "execute_result"
    }
   ],
   "source": [
    "pib.head()"
   ]
  },
  {
   "cell_type": "code",
   "execution_count": 19,
   "id": "c5b06ab7-6439-40ac-b94b-9d5b995c2927",
   "metadata": {
    "execution": {
     "iopub.execute_input": "2024-08-22T19:28:02.985954Z",
     "iopub.status.busy": "2024-08-22T19:28:02.984819Z",
     "iopub.status.idle": "2024-08-22T19:28:02.997632Z",
     "shell.execute_reply": "2024-08-22T19:28:02.995843Z",
     "shell.execute_reply.started": "2024-08-22T19:28:02.985914Z"
    },
    "tags": []
   },
   "outputs": [
    {
     "name": "stdout",
     "output_type": "stream",
     "text": [
      "<class 'pandas.core.frame.DataFrame'>\n",
      "RangeIndex: 62 entries, 0 to 61\n",
      "Data columns (total 2 columns):\n",
      " #   Column                                                                      Non-Null Count  Dtype \n",
      "---  ------                                                                      --------------  ----- \n",
      " 0   Data                                                                        62 non-null     int64 \n",
      " 1   7326 - Produto Interno Bruto - Taxa de variaзгo real no ano - Var. % anual  62 non-null     object\n",
      "dtypes: int64(1), object(1)\n",
      "memory usage: 1.1+ KB\n"
     ]
    }
   ],
   "source": [
    "pib.info()"
   ]
  },
  {
   "cell_type": "code",
   "execution_count": 20,
   "id": "dc547a7b-4cbf-42fb-aaee-0c08948d2121",
   "metadata": {
    "execution": {
     "iopub.execute_input": "2024-08-22T19:28:07.205312Z",
     "iopub.status.busy": "2024-08-22T19:28:07.204204Z",
     "iopub.status.idle": "2024-08-22T19:28:07.211116Z",
     "shell.execute_reply": "2024-08-22T19:28:07.210160Z",
     "shell.execute_reply.started": "2024-08-22T19:28:07.205270Z"
    },
    "tags": []
   },
   "outputs": [],
   "source": [
    "pib = pib.rename(columns={'Data':'ano', \n",
    "                          '7326 - Produto Interno Bruto - Taxa de variaзгo real no ano - Var. % anual' : 'cresc_real_ano'})"
   ]
  },
  {
   "cell_type": "code",
   "execution_count": 21,
   "id": "876f84df-d603-4860-9612-753a95a489be",
   "metadata": {
    "execution": {
     "iopub.execute_input": "2024-08-22T19:28:21.751685Z",
     "iopub.status.busy": "2024-08-22T19:28:21.750936Z",
     "iopub.status.idle": "2024-08-22T19:28:21.761252Z",
     "shell.execute_reply": "2024-08-22T19:28:21.760001Z",
     "shell.execute_reply.started": "2024-08-22T19:28:21.751643Z"
    },
    "tags": []
   },
   "outputs": [
    {
     "data": {
      "text/plain": [
       "array(['6,60', '0,60', '3,40', '2,40', '6,70', '4,20', '9,80', '9,50',\n",
       "       '10,40', '11,34', '11,94', '13,97', '8,15', '5,17', '10,26',\n",
       "       '4,93', '4,97', '6,76', '9,23', '-4,25', '0,83', '-2,93', '5,40',\n",
       "       '7,85', '7,49', '3,53', '-0,06', '3,16', '-4,35', '1,03', '-0,54',\n",
       "       '4,92', '5,85', '4,22', '2,21', '3,39', '0,34', '0,47', '4,39',\n",
       "       '1,39', '3,05', '1,14', '5,76', '3,20', '3,96', '6,07', '5,09',\n",
       "       '-0,13', '7,53', '3,97', '1,92', '3,00', '0,50', '-3,55', '-3,28',\n",
       "       '1,32', '1,78', '1,22', '4,76', '3,02', '2,91'], dtype=object)"
      ]
     },
     "execution_count": 21,
     "metadata": {},
     "output_type": "execute_result"
    }
   ],
   "source": [
    "pib['cresc_real_ano'].unique()"
   ]
  },
  {
   "cell_type": "code",
   "execution_count": 23,
   "id": "1681c1ba-8c06-496a-8dfc-9cc8e6830d9a",
   "metadata": {
    "execution": {
     "iopub.execute_input": "2024-08-22T19:29:04.219331Z",
     "iopub.status.busy": "2024-08-22T19:29:04.217781Z",
     "iopub.status.idle": "2024-08-22T19:29:04.226591Z",
     "shell.execute_reply": "2024-08-22T19:29:04.225239Z",
     "shell.execute_reply.started": "2024-08-22T19:29:04.219274Z"
    },
    "tags": []
   },
   "outputs": [],
   "source": [
    "pib['cresc_real_ano'] = pib['cresc_real_ano'].str.replace(',','.')"
   ]
  },
  {
   "cell_type": "code",
   "execution_count": 25,
   "id": "8c5361bf-9129-4378-a0a5-bad9cf8a6c92",
   "metadata": {
    "execution": {
     "iopub.execute_input": "2024-08-22T19:29:24.210505Z",
     "iopub.status.busy": "2024-08-22T19:29:24.209834Z",
     "iopub.status.idle": "2024-08-22T19:29:24.217073Z",
     "shell.execute_reply": "2024-08-22T19:29:24.215828Z",
     "shell.execute_reply.started": "2024-08-22T19:29:24.210466Z"
    },
    "tags": []
   },
   "outputs": [],
   "source": [
    "pib['cresc_real_ano'] = pib['cresc_real_ano'].astype('float')"
   ]
  },
  {
   "cell_type": "code",
   "execution_count": 26,
   "id": "422e8480-8494-4543-a8f0-f2a56db8307e",
   "metadata": {
    "execution": {
     "iopub.execute_input": "2024-08-22T19:29:32.162222Z",
     "iopub.status.busy": "2024-08-22T19:29:32.161562Z",
     "iopub.status.idle": "2024-08-22T19:29:32.170578Z",
     "shell.execute_reply": "2024-08-22T19:29:32.169654Z",
     "shell.execute_reply.started": "2024-08-22T19:29:32.162183Z"
    }
   },
   "outputs": [
    {
     "data": {
      "text/plain": [
       "array([ 6.6 ,  0.6 ,  3.4 ,  2.4 ,  6.7 ,  4.2 ,  9.8 ,  9.5 , 10.4 ,\n",
       "       11.34, 11.94, 13.97,  8.15,  5.17, 10.26,  4.93,  4.97,  6.76,\n",
       "        9.23, -4.25,  0.83, -2.93,  5.4 ,  7.85,  7.49,  3.53, -0.06,\n",
       "        3.16, -4.35,  1.03, -0.54,  4.92,  5.85,  4.22,  2.21,  3.39,\n",
       "        0.34,  0.47,  4.39,  1.39,  3.05,  1.14,  5.76,  3.2 ,  3.96,\n",
       "        6.07,  5.09, -0.13,  7.53,  3.97,  1.92,  3.  ,  0.5 , -3.55,\n",
       "       -3.28,  1.32,  1.78,  1.22,  4.76,  3.02,  2.91])"
      ]
     },
     "execution_count": 26,
     "metadata": {},
     "output_type": "execute_result"
    }
   ],
   "source": [
    "pib['cresc_real_ano'].unique()"
   ]
  },
  {
   "cell_type": "code",
   "execution_count": 27,
   "id": "24130402-6b5d-4590-aac3-998e31559713",
   "metadata": {
    "execution": {
     "iopub.execute_input": "2024-08-22T19:29:40.426032Z",
     "iopub.status.busy": "2024-08-22T19:29:40.425318Z",
     "iopub.status.idle": "2024-08-22T19:29:40.434786Z",
     "shell.execute_reply": "2024-08-22T19:29:40.433811Z",
     "shell.execute_reply.started": "2024-08-22T19:29:40.425992Z"
    }
   },
   "outputs": [
    {
     "data": {
      "text/plain": [
       "dtype('float64')"
      ]
     },
     "execution_count": 27,
     "metadata": {},
     "output_type": "execute_result"
    }
   ],
   "source": [
    "pib['cresc_real_ano'].dtype"
   ]
  },
  {
   "cell_type": "markdown",
   "id": "6f077118-c7d7-40a3-8ff8-e82bc8f3aae2",
   "metadata": {},
   "source": [
    "# SALVANDO PARA PARQUET"
   ]
  },
  {
   "cell_type": "code",
   "execution_count": 29,
   "id": "745d804b-2805-4aec-ade1-03e67de26d5b",
   "metadata": {
    "execution": {
     "iopub.execute_input": "2024-08-22T19:31:05.626597Z",
     "iopub.status.busy": "2024-08-22T19:31:05.625988Z",
     "iopub.status.idle": "2024-08-22T19:31:05.647706Z",
     "shell.execute_reply": "2024-08-22T19:31:05.646061Z",
     "shell.execute_reply.started": "2024-08-22T19:31:05.626543Z"
    }
   },
   "outputs": [],
   "source": [
    "pib.to_parquet(path_output / 'PIB-Bacen.parquet')"
   ]
  },
  {
   "cell_type": "code",
   "execution_count": null,
   "id": "8424ed73-3347-45da-a658-e1488bedf963",
   "metadata": {},
   "outputs": [],
   "source": []
  }
 ],
 "metadata": {
  "kernelspec": {
   "display_name": "infra-data",
   "language": "python",
   "name": "infra-data"
  },
  "language_info": {
   "codemirror_mode": {
    "name": "ipython",
    "version": 3
   },
   "file_extension": ".py",
   "mimetype": "text/x-python",
   "name": "python",
   "nbconvert_exporter": "python",
   "pygments_lexer": "ipython3",
   "version": "3.9.16"
  }
 },
 "nbformat": 4,
 "nbformat_minor": 5
}
