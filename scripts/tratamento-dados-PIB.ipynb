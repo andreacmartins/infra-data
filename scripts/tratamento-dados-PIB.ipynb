{
 "cells": [
  {
   "cell_type": "code",
   "execution_count": 19,
   "id": "461e704f-49c5-4e6d-86bb-9c5662d4007b",
   "metadata": {
    "execution": {
     "iopub.execute_input": "2024-08-23T18:46:33.293022Z",
     "iopub.status.busy": "2024-08-23T18:46:33.291534Z",
     "iopub.status.idle": "2024-08-23T18:46:33.298715Z",
     "shell.execute_reply": "2024-08-23T18:46:33.297326Z",
     "shell.execute_reply.started": "2024-08-23T18:46:33.292962Z"
    },
    "tags": []
   },
   "outputs": [],
   "source": [
    "import pandas as pd\n",
    "import numpy as np\n",
    "import os\n",
    "from decimal import Decimal\n",
    "import pickle\n",
    "from pathlib import Path"
   ]
  },
  {
   "cell_type": "markdown",
   "id": "469a553f-e52a-4c33-acc9-f5820b401e62",
   "metadata": {
    "execution": {
     "iopub.execute_input": "2024-08-20T19:55:44.418829Z",
     "iopub.status.busy": "2024-08-20T19:55:44.417516Z",
     "iopub.status.idle": "2024-08-20T19:55:44.424840Z",
     "shell.execute_reply": "2024-08-20T19:55:44.422826Z",
     "shell.execute_reply.started": "2024-08-20T19:55:44.418787Z"
    }
   },
   "source": [
    "# SETUP"
   ]
  },
  {
   "cell_type": "code",
   "execution_count": 20,
   "id": "e68264d5-95e9-4f59-9458-ded1cb449c30",
   "metadata": {
    "execution": {
     "iopub.execute_input": "2024-08-23T18:46:34.009505Z",
     "iopub.status.busy": "2024-08-23T18:46:34.008773Z",
     "iopub.status.idle": "2024-08-23T18:46:34.016749Z",
     "shell.execute_reply": "2024-08-23T18:46:34.015529Z",
     "shell.execute_reply.started": "2024-08-23T18:46:34.009466Z"
    },
    "tags": []
   },
   "outputs": [],
   "source": [
    "dir_tree_util_path = os.path.join(\"utils\", \"dir_tree.py\")\n",
    "exec(open(dir_tree_util_path).read())"
   ]
  },
  {
   "cell_type": "markdown",
   "id": "092e1dba-365e-4668-ae2d-5397dbb5edb2",
   "metadata": {},
   "source": [
    "# INPUTS"
   ]
  },
  {
   "cell_type": "code",
   "execution_count": 21,
   "id": "daedc56c-e029-4528-a9a0-a27293586d34",
   "metadata": {
    "execution": {
     "iopub.execute_input": "2024-08-23T18:46:59.490538Z",
     "iopub.status.busy": "2024-08-23T18:46:59.489822Z",
     "iopub.status.idle": "2024-08-23T18:46:59.497463Z",
     "shell.execute_reply": "2024-08-23T18:46:59.496036Z",
     "shell.execute_reply.started": "2024-08-23T18:46:59.490498Z"
    },
    "tags": []
   },
   "outputs": [],
   "source": [
    "# Paths\n",
    "path_dados_PIB = PROJECT_DIRS['DADOS_GIT_DIR']\n",
    "# path_output = TODO\n",
    "path_output = PROJECT_DIRS['DADOS_DERIVADOS_DIR']"
   ]
  },
  {
   "cell_type": "markdown",
   "id": "80cab38a-b879-41ec-8472-8253bdd0a791",
   "metadata": {},
   "source": [
    "# CARREGANDO p/MEMORIA OS DADOS"
   ]
  },
  {
   "cell_type": "code",
   "execution_count": 23,
   "id": "8f86c2f0-933c-4c58-9633-e2ecc575652d",
   "metadata": {
    "execution": {
     "iopub.execute_input": "2024-08-23T18:47:06.490655Z",
     "iopub.status.busy": "2024-08-23T18:47:06.489921Z",
     "iopub.status.idle": "2024-08-23T18:47:06.501655Z",
     "shell.execute_reply": "2024-08-23T18:47:06.500306Z",
     "shell.execute_reply.started": "2024-08-23T18:47:06.490611Z"
    },
    "tags": []
   },
   "outputs": [],
   "source": [
    "pib = pd.read_csv(path_dados_PIB / 'STP-20240822151202826.csv', sep=\";\", encoding='windows-1251', \n",
    "                  skipfooter=1, engine='python')"
   ]
  },
  {
   "cell_type": "markdown",
   "id": "433bd176-2227-4c7b-a11b-40161814969e",
   "metadata": {},
   "source": [
    "# TRATANDO OS DADOS"
   ]
  },
  {
   "cell_type": "code",
   "execution_count": 5,
   "id": "df1a32ca-06a9-40c5-8d2a-9cafe1d12566",
   "metadata": {
    "execution": {
     "iopub.execute_input": "2024-08-23T15:17:31.035750Z",
     "iopub.status.busy": "2024-08-23T15:17:31.035003Z",
     "iopub.status.idle": "2024-08-23T15:17:31.052347Z",
     "shell.execute_reply": "2024-08-23T15:17:31.051282Z",
     "shell.execute_reply.started": "2024-08-23T15:17:31.035711Z"
    },
    "tags": []
   },
   "outputs": [
    {
     "data": {
      "text/html": [
       "<div>\n",
       "<style scoped>\n",
       "    .dataframe tbody tr th:only-of-type {\n",
       "        vertical-align: middle;\n",
       "    }\n",
       "\n",
       "    .dataframe tbody tr th {\n",
       "        vertical-align: top;\n",
       "    }\n",
       "\n",
       "    .dataframe thead th {\n",
       "        text-align: right;\n",
       "    }\n",
       "</style>\n",
       "<table border=\"1\" class=\"dataframe\">\n",
       "  <thead>\n",
       "    <tr style=\"text-align: right;\">\n",
       "      <th></th>\n",
       "      <th>Data</th>\n",
       "      <th>7326 - Produto Interno Bruto - Taxa de variaзгo real no ano - Var. % anual</th>\n",
       "    </tr>\n",
       "  </thead>\n",
       "  <tbody>\n",
       "    <tr>\n",
       "      <th>0</th>\n",
       "      <td>1962</td>\n",
       "      <td>6,60</td>\n",
       "    </tr>\n",
       "    <tr>\n",
       "      <th>1</th>\n",
       "      <td>1963</td>\n",
       "      <td>0,60</td>\n",
       "    </tr>\n",
       "    <tr>\n",
       "      <th>2</th>\n",
       "      <td>1964</td>\n",
       "      <td>3,40</td>\n",
       "    </tr>\n",
       "    <tr>\n",
       "      <th>3</th>\n",
       "      <td>1965</td>\n",
       "      <td>2,40</td>\n",
       "    </tr>\n",
       "    <tr>\n",
       "      <th>4</th>\n",
       "      <td>1966</td>\n",
       "      <td>6,70</td>\n",
       "    </tr>\n",
       "  </tbody>\n",
       "</table>\n",
       "</div>"
      ],
      "text/plain": [
       "   Data  \\\n",
       "0  1962   \n",
       "1  1963   \n",
       "2  1964   \n",
       "3  1965   \n",
       "4  1966   \n",
       "\n",
       "  7326 - Produto Interno Bruto - Taxa de variaзгo real no ano - Var. % anual  \n",
       "0                                               6,60                          \n",
       "1                                               0,60                          \n",
       "2                                               3,40                          \n",
       "3                                               2,40                          \n",
       "4                                               6,70                          "
      ]
     },
     "execution_count": 5,
     "metadata": {},
     "output_type": "execute_result"
    }
   ],
   "source": [
    "pib.head()"
   ]
  },
  {
   "cell_type": "code",
   "execution_count": 6,
   "id": "c5b06ab7-6439-40ac-b94b-9d5b995c2927",
   "metadata": {
    "execution": {
     "iopub.execute_input": "2024-08-23T15:17:31.054787Z",
     "iopub.status.busy": "2024-08-23T15:17:31.053773Z",
     "iopub.status.idle": "2024-08-23T15:17:31.069020Z",
     "shell.execute_reply": "2024-08-23T15:17:31.067892Z",
     "shell.execute_reply.started": "2024-08-23T15:17:31.054749Z"
    },
    "tags": []
   },
   "outputs": [
    {
     "name": "stdout",
     "output_type": "stream",
     "text": [
      "<class 'pandas.core.frame.DataFrame'>\n",
      "RangeIndex: 62 entries, 0 to 61\n",
      "Data columns (total 2 columns):\n",
      " #   Column                                                                      Non-Null Count  Dtype \n",
      "---  ------                                                                      --------------  ----- \n",
      " 0   Data                                                                        62 non-null     int64 \n",
      " 1   7326 - Produto Interno Bruto - Taxa de variaзгo real no ano - Var. % anual  62 non-null     object\n",
      "dtypes: int64(1), object(1)\n",
      "memory usage: 1.1+ KB\n"
     ]
    }
   ],
   "source": [
    "pib.info()"
   ]
  },
  {
   "cell_type": "code",
   "execution_count": 7,
   "id": "dc547a7b-4cbf-42fb-aaee-0c08948d2121",
   "metadata": {
    "execution": {
     "iopub.execute_input": "2024-08-23T15:17:31.073150Z",
     "iopub.status.busy": "2024-08-23T15:17:31.072686Z",
     "iopub.status.idle": "2024-08-23T15:17:31.079843Z",
     "shell.execute_reply": "2024-08-23T15:17:31.078395Z",
     "shell.execute_reply.started": "2024-08-23T15:17:31.073111Z"
    },
    "tags": []
   },
   "outputs": [],
   "source": [
    "pib = pib.rename(columns={'Data':'ano', \n",
    "                          '7326 - Produto Interno Bruto - Taxa de variaзгo real no ano - Var. % anual' : 'PIB_real_cresc_%'})"
   ]
  },
  {
   "cell_type": "code",
   "execution_count": 8,
   "id": "876f84df-d603-4860-9612-753a95a489be",
   "metadata": {
    "execution": {
     "iopub.execute_input": "2024-08-23T15:17:31.081526Z",
     "iopub.status.busy": "2024-08-23T15:17:31.081172Z",
     "iopub.status.idle": "2024-08-23T15:17:31.093642Z",
     "shell.execute_reply": "2024-08-23T15:17:31.092279Z",
     "shell.execute_reply.started": "2024-08-23T15:17:31.081489Z"
    },
    "tags": []
   },
   "outputs": [
    {
     "data": {
      "text/plain": [
       "array(['6,60', '0,60', '3,40', '2,40', '6,70', '4,20', '9,80', '9,50',\n",
       "       '10,40', '11,34', '11,94', '13,97', '8,15', '5,17', '10,26',\n",
       "       '4,93', '4,97', '6,76', '9,23', '-4,25', '0,83', '-2,93', '5,40',\n",
       "       '7,85', '7,49', '3,53', '-0,06', '3,16', '-4,35', '1,03', '-0,54',\n",
       "       '4,92', '5,85', '4,22', '2,21', '3,39', '0,34', '0,47', '4,39',\n",
       "       '1,39', '3,05', '1,14', '5,76', '3,20', '3,96', '6,07', '5,09',\n",
       "       '-0,13', '7,53', '3,97', '1,92', '3,00', '0,50', '-3,55', '-3,28',\n",
       "       '1,32', '1,78', '1,22', '4,76', '3,02', '2,91'], dtype=object)"
      ]
     },
     "execution_count": 8,
     "metadata": {},
     "output_type": "execute_result"
    }
   ],
   "source": [
    "pib['PIB_real_cresc_%'].unique()"
   ]
  },
  {
   "cell_type": "code",
   "execution_count": 9,
   "id": "1681c1ba-8c06-496a-8dfc-9cc8e6830d9a",
   "metadata": {
    "execution": {
     "iopub.execute_input": "2024-08-23T15:17:31.095556Z",
     "iopub.status.busy": "2024-08-23T15:17:31.095217Z",
     "iopub.status.idle": "2024-08-23T15:17:31.102074Z",
     "shell.execute_reply": "2024-08-23T15:17:31.100791Z",
     "shell.execute_reply.started": "2024-08-23T15:17:31.095521Z"
    },
    "tags": []
   },
   "outputs": [],
   "source": [
    "pib['PIB_real_cresc_%'] = pib['PIB_real_cresc_%'].str.replace(',','.')"
   ]
  },
  {
   "cell_type": "code",
   "execution_count": 10,
   "id": "8c5361bf-9129-4378-a0a5-bad9cf8a6c92",
   "metadata": {
    "execution": {
     "iopub.execute_input": "2024-08-23T15:17:31.103946Z",
     "iopub.status.busy": "2024-08-23T15:17:31.103501Z",
     "iopub.status.idle": "2024-08-23T15:17:31.110872Z",
     "shell.execute_reply": "2024-08-23T15:17:31.109551Z",
     "shell.execute_reply.started": "2024-08-23T15:17:31.103909Z"
    },
    "tags": []
   },
   "outputs": [],
   "source": [
    "pib['PIB_real_cresc_%'] = pib['PIB_real_cresc_%'].astype('float')"
   ]
  },
  {
   "cell_type": "code",
   "execution_count": 11,
   "id": "422e8480-8494-4543-a8f0-f2a56db8307e",
   "metadata": {
    "execution": {
     "iopub.execute_input": "2024-08-23T15:17:31.112688Z",
     "iopub.status.busy": "2024-08-23T15:17:31.112245Z",
     "iopub.status.idle": "2024-08-23T15:17:31.121488Z",
     "shell.execute_reply": "2024-08-23T15:17:31.120344Z",
     "shell.execute_reply.started": "2024-08-23T15:17:31.112651Z"
    }
   },
   "outputs": [
    {
     "data": {
      "text/plain": [
       "array([ 6.6 ,  0.6 ,  3.4 ,  2.4 ,  6.7 ,  4.2 ,  9.8 ,  9.5 , 10.4 ,\n",
       "       11.34, 11.94, 13.97,  8.15,  5.17, 10.26,  4.93,  4.97,  6.76,\n",
       "        9.23, -4.25,  0.83, -2.93,  5.4 ,  7.85,  7.49,  3.53, -0.06,\n",
       "        3.16, -4.35,  1.03, -0.54,  4.92,  5.85,  4.22,  2.21,  3.39,\n",
       "        0.34,  0.47,  4.39,  1.39,  3.05,  1.14,  5.76,  3.2 ,  3.96,\n",
       "        6.07,  5.09, -0.13,  7.53,  3.97,  1.92,  3.  ,  0.5 , -3.55,\n",
       "       -3.28,  1.32,  1.78,  1.22,  4.76,  3.02,  2.91])"
      ]
     },
     "execution_count": 11,
     "metadata": {},
     "output_type": "execute_result"
    }
   ],
   "source": [
    "pib['PIB_real_cresc_%'].unique()"
   ]
  },
  {
   "cell_type": "code",
   "execution_count": 12,
   "id": "24130402-6b5d-4590-aac3-998e31559713",
   "metadata": {
    "execution": {
     "iopub.execute_input": "2024-08-23T15:17:31.123363Z",
     "iopub.status.busy": "2024-08-23T15:17:31.123029Z",
     "iopub.status.idle": "2024-08-23T15:17:31.131678Z",
     "shell.execute_reply": "2024-08-23T15:17:31.130397Z",
     "shell.execute_reply.started": "2024-08-23T15:17:31.123326Z"
    }
   },
   "outputs": [
    {
     "data": {
      "text/plain": [
       "dtype('float64')"
      ]
     },
     "execution_count": 12,
     "metadata": {},
     "output_type": "execute_result"
    }
   ],
   "source": [
    "pib['PIB_real_cresc_%'].dtype"
   ]
  },
  {
   "cell_type": "code",
   "execution_count": 16,
   "id": "dd7f32ee-a86e-4c54-abf7-832660ca3256",
   "metadata": {
    "execution": {
     "iopub.execute_input": "2024-08-23T15:18:04.832225Z",
     "iopub.status.busy": "2024-08-23T15:18:04.831155Z",
     "iopub.status.idle": "2024-08-23T15:18:04.847405Z",
     "shell.execute_reply": "2024-08-23T15:18:04.846329Z",
     "shell.execute_reply.started": "2024-08-23T15:18:04.832179Z"
    }
   },
   "outputs": [
    {
     "data": {
      "text/html": [
       "<div>\n",
       "<style scoped>\n",
       "    .dataframe tbody tr th:only-of-type {\n",
       "        vertical-align: middle;\n",
       "    }\n",
       "\n",
       "    .dataframe tbody tr th {\n",
       "        vertical-align: top;\n",
       "    }\n",
       "\n",
       "    .dataframe thead th {\n",
       "        text-align: right;\n",
       "    }\n",
       "</style>\n",
       "<table border=\"1\" class=\"dataframe\">\n",
       "  <thead>\n",
       "    <tr style=\"text-align: right;\">\n",
       "      <th></th>\n",
       "      <th>ano</th>\n",
       "      <th>PIB_real_cresc_%</th>\n",
       "    </tr>\n",
       "  </thead>\n",
       "  <tbody>\n",
       "    <tr>\n",
       "      <th>0</th>\n",
       "      <td>1962</td>\n",
       "      <td>6.60</td>\n",
       "    </tr>\n",
       "    <tr>\n",
       "      <th>1</th>\n",
       "      <td>1963</td>\n",
       "      <td>0.60</td>\n",
       "    </tr>\n",
       "    <tr>\n",
       "      <th>2</th>\n",
       "      <td>1964</td>\n",
       "      <td>3.40</td>\n",
       "    </tr>\n",
       "    <tr>\n",
       "      <th>3</th>\n",
       "      <td>1965</td>\n",
       "      <td>2.40</td>\n",
       "    </tr>\n",
       "    <tr>\n",
       "      <th>4</th>\n",
       "      <td>1966</td>\n",
       "      <td>6.70</td>\n",
       "    </tr>\n",
       "    <tr>\n",
       "      <th>...</th>\n",
       "      <td>...</td>\n",
       "      <td>...</td>\n",
       "    </tr>\n",
       "    <tr>\n",
       "      <th>57</th>\n",
       "      <td>2019</td>\n",
       "      <td>1.22</td>\n",
       "    </tr>\n",
       "    <tr>\n",
       "      <th>58</th>\n",
       "      <td>2020</td>\n",
       "      <td>-3.28</td>\n",
       "    </tr>\n",
       "    <tr>\n",
       "      <th>59</th>\n",
       "      <td>2021</td>\n",
       "      <td>4.76</td>\n",
       "    </tr>\n",
       "    <tr>\n",
       "      <th>60</th>\n",
       "      <td>2022</td>\n",
       "      <td>3.02</td>\n",
       "    </tr>\n",
       "    <tr>\n",
       "      <th>61</th>\n",
       "      <td>2023</td>\n",
       "      <td>2.91</td>\n",
       "    </tr>\n",
       "  </tbody>\n",
       "</table>\n",
       "<p>62 rows × 2 columns</p>\n",
       "</div>"
      ],
      "text/plain": [
       "     ano  PIB_real_cresc_%\n",
       "0   1962              6.60\n",
       "1   1963              0.60\n",
       "2   1964              3.40\n",
       "3   1965              2.40\n",
       "4   1966              6.70\n",
       "..   ...               ...\n",
       "57  2019              1.22\n",
       "58  2020             -3.28\n",
       "59  2021              4.76\n",
       "60  2022              3.02\n",
       "61  2023              2.91\n",
       "\n",
       "[62 rows x 2 columns]"
      ]
     },
     "execution_count": 16,
     "metadata": {},
     "output_type": "execute_result"
    }
   ],
   "source": [
    "pib"
   ]
  },
  {
   "cell_type": "code",
   "execution_count": 17,
   "id": "82155ea5-9869-4f0c-b92f-c7ecadf231bd",
   "metadata": {
    "execution": {
     "iopub.execute_input": "2024-08-23T15:18:29.812967Z",
     "iopub.status.busy": "2024-08-23T15:18:29.811469Z",
     "iopub.status.idle": "2024-08-23T15:18:29.819623Z",
     "shell.execute_reply": "2024-08-23T15:18:29.818167Z",
     "shell.execute_reply.started": "2024-08-23T15:18:29.812923Z"
    },
    "tags": []
   },
   "outputs": [],
   "source": [
    "pib.index = pib.pop('ano')"
   ]
  },
  {
   "cell_type": "markdown",
   "id": "6f077118-c7d7-40a3-8ff8-e82bc8f3aae2",
   "metadata": {},
   "source": [
    "# SALVANDO PARA PARQUET"
   ]
  },
  {
   "cell_type": "code",
   "execution_count": 18,
   "id": "745d804b-2805-4aec-ade1-03e67de26d5b",
   "metadata": {
    "execution": {
     "iopub.execute_input": "2024-08-23T15:18:31.524096Z",
     "iopub.status.busy": "2024-08-23T15:18:31.523231Z",
     "iopub.status.idle": "2024-08-23T15:18:31.555741Z",
     "shell.execute_reply": "2024-08-23T15:18:31.554578Z",
     "shell.execute_reply.started": "2024-08-23T15:18:31.524046Z"
    },
    "tags": []
   },
   "outputs": [],
   "source": [
    "pib.to_parquet(path_output / 'PIB-Bacen.parquet')"
   ]
  },
  {
   "cell_type": "code",
   "execution_count": null,
   "id": "8424ed73-3347-45da-a658-e1488bedf963",
   "metadata": {},
   "outputs": [],
   "source": []
  }
 ],
 "metadata": {
  "kernelspec": {
   "display_name": "infra-data",
   "language": "python",
   "name": "infra-data"
  },
  "language_info": {
   "codemirror_mode": {
    "name": "ipython",
    "version": 3
   },
   "file_extension": ".py",
   "mimetype": "text/x-python",
   "name": "python",
   "nbconvert_exporter": "python",
   "pygments_lexer": "ipython3",
   "version": "3.9.16"
  }
 },
 "nbformat": 4,
 "nbformat_minor": 5
}
